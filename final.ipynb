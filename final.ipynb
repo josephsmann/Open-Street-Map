{
 "cells": [
  {
   "cell_type": "markdown",
   "metadata": {
    "toc": "true"
   },
   "source": [
    "# Table of Contents\n",
    " <p><div class=\"lev1 toc-item\"><a href=\"#Introduction\" data-toc-modified-id=\"Introduction-1\"><span class=\"toc-item-num\">1&nbsp;&nbsp;</span>Introduction</a></div><div class=\"lev1 toc-item\"><a href=\"#Data-Acquisition\" data-toc-modified-id=\"Data-Acquisition-2\"><span class=\"toc-item-num\">2&nbsp;&nbsp;</span>Data Acquisition</a></div><div class=\"lev2 toc-item\"><a href=\"#Acquire-data-from-open-street-maps\" data-toc-modified-id=\"Acquire-data-from-open-street-maps-21\"><span class=\"toc-item-num\">2.1&nbsp;&nbsp;</span>Acquire data from open street maps</a></div><div class=\"lev2 toc-item\"><a href=\"#Transform-xml-to-geojson\" data-toc-modified-id=\"Transform-xml-to-geojson-22\"><span class=\"toc-item-num\">2.2&nbsp;&nbsp;</span>Transform xml to geojson</a></div><div class=\"lev1 toc-item\"><a href=\"#Data-Cleaning\" data-toc-modified-id=\"Data-Cleaning-3\"><span class=\"toc-item-num\">3&nbsp;&nbsp;</span>Data Cleaning</a></div><div class=\"lev2 toc-item\"><a href=\"#Iteration-one\" data-toc-modified-id=\"Iteration-one-31\"><span class=\"toc-item-num\">3.1&nbsp;&nbsp;</span>Iteration one</a></div><div class=\"lev3 toc-item\"><a href=\"#Explore-data\" data-toc-modified-id=\"Explore-data-311\"><span class=\"toc-item-num\">3.1.1&nbsp;&nbsp;</span>Explore data</a></div><div class=\"lev3 toc-item\"><a href=\"#Find-Problem-in-Data\" data-toc-modified-id=\"Find-Problem-in-Data-312\"><span class=\"toc-item-num\">3.1.2&nbsp;&nbsp;</span>Find Problem in Data</a></div><div class=\"lev3 toc-item\"><a href=\"#Measure-the-problem\" data-toc-modified-id=\"Measure-the-problem-313\"><span class=\"toc-item-num\">3.1.3&nbsp;&nbsp;</span>Measure the problem</a></div><div class=\"lev3 toc-item\"><a href=\"#Create-solution\" data-toc-modified-id=\"Create-solution-314\"><span class=\"toc-item-num\">3.1.4&nbsp;&nbsp;</span>Create solution</a></div><div class=\"lev3 toc-item\"><a href=\"#Apply-solution\" data-toc-modified-id=\"Apply-solution-315\"><span class=\"toc-item-num\">3.1.5&nbsp;&nbsp;</span>Apply solution</a></div><div class=\"lev3 toc-item\"><a href=\"#Measure-result\" data-toc-modified-id=\"Measure-result-316\"><span class=\"toc-item-num\">3.1.6&nbsp;&nbsp;</span>Measure result</a></div><div class=\"lev2 toc-item\"><a href=\"#Iteration-2\" data-toc-modified-id=\"Iteration-2-32\"><span class=\"toc-item-num\">3.2&nbsp;&nbsp;</span>Iteration 2</a></div><div class=\"lev3 toc-item\"><a href=\"#Explore-data\" data-toc-modified-id=\"Explore-data-321\"><span class=\"toc-item-num\">3.2.1&nbsp;&nbsp;</span>Explore data</a></div><div class=\"lev3 toc-item\"><a href=\"#Find-Problem-in-Data\" data-toc-modified-id=\"Find-Problem-in-Data-322\"><span class=\"toc-item-num\">3.2.2&nbsp;&nbsp;</span>Find Problem in Data</a></div><div class=\"lev3 toc-item\"><a href=\"#Measure-the-problem\" data-toc-modified-id=\"Measure-the-problem-323\"><span class=\"toc-item-num\">3.2.3&nbsp;&nbsp;</span>Measure the problem</a></div><div class=\"lev3 toc-item\"><a href=\"#Create-solution\" data-toc-modified-id=\"Create-solution-324\"><span class=\"toc-item-num\">3.2.4&nbsp;&nbsp;</span>Create solution</a></div><div class=\"lev3 toc-item\"><a href=\"#Apply-solution\" data-toc-modified-id=\"Apply-solution-325\"><span class=\"toc-item-num\">3.2.5&nbsp;&nbsp;</span>Apply solution</a></div><div class=\"lev3 toc-item\"><a href=\"#Measure-result\" data-toc-modified-id=\"Measure-result-326\"><span class=\"toc-item-num\">3.2.6&nbsp;&nbsp;</span>Measure result</a></div><div class=\"lev1 toc-item\"><a href=\"#Data-Exploration-with-mongo\" data-toc-modified-id=\"Data-Exploration-with-mongo-4\"><span class=\"toc-item-num\">4&nbsp;&nbsp;</span>Data Exploration with mongo</a></div><div class=\"lev2 toc-item\"><a href=\"#Loading-data-into-mongo\" data-toc-modified-id=\"Loading-data-into-mongo-41\"><span class=\"toc-item-num\">4.1&nbsp;&nbsp;</span>Loading data into mongo</a></div><div class=\"lev2 toc-item\"><a href=\"#Mongo-queries\" data-toc-modified-id=\"Mongo-queries-42\"><span class=\"toc-item-num\">4.2&nbsp;&nbsp;</span>Mongo queries</a></div><div class=\"lev2 toc-item\"><a href=\"#Using-Geopandas\" data-toc-modified-id=\"Using-Geopandas-43\"><span class=\"toc-item-num\">4.3&nbsp;&nbsp;</span>Using Geopandas</a></div><div class=\"lev2 toc-item\"><a href=\"#Mapping-Starbucks-with-Folium\" data-toc-modified-id=\"Mapping-Starbucks-with-Folium-44\"><span class=\"toc-item-num\">4.4&nbsp;&nbsp;</span>Mapping Starbucks with Folium</a></div><div class=\"lev2 toc-item\"><a href=\"#Mapping-Parks-and-Greenspaces-with-Folium\" data-toc-modified-id=\"Mapping-Parks-and-Greenspaces-with-Folium-45\"><span class=\"toc-item-num\">4.5&nbsp;&nbsp;</span>Mapping Parks and Greenspaces with Folium</a></div><div class=\"lev3 toc-item\"><a href=\"#Now-let's-consider-pitches,-parks,-playgrounds\" data-toc-modified-id=\"Now-let's-consider-pitches,-parks,-playgrounds-451\"><span class=\"toc-item-num\">4.5.1&nbsp;&nbsp;</span>Now let's consider pitches, parks, playgrounds</a></div><div class=\"lev3 toc-item\"><a href=\"#Closest-Park\" data-toc-modified-id=\"Closest-Park-452\"><span class=\"toc-item-num\">4.5.2&nbsp;&nbsp;</span>Closest Park</a></div>"
   ]
  },
  {
   "cell_type": "markdown",
   "metadata": {
    "collapsed": true
   },
   "source": [
    "# Introduction"
   ]
  },
  {
   "cell_type": "markdown",
   "metadata": {},
   "source": [
    "The primary goal of this project is to use python and mongo to clean and analyze larger-than-RAM. \n",
    "\n",
    "This project departs from many suggestions made in the course.\n",
    "\n",
    "The first departure is _not_ processing an XML file to generate an appropriate JSON file which we can clean and then enter into a mongo database for subsequent analysis.\n",
    "The reason for this is manifold but foremost is the fact that while the data does still need to be cleaned, the geojson format is already a mongo friendly standard and permits use of a very large set of tools and that there are already utilities that make this conversion. Thus we use a premade tool for making this conversion: `osmtogeojson`. \n",
    "\n",
    "Another reason for not processing XML any more than necessary is the library `dask`. This library permits out-of-core and parallel execution, thus reducing processing time by close to the reciprocal of the number of processing cores on has available while avoiding the constraints of RAM for dealing with large data sets. However, while `dask` handle json well, it is not currently adapted for XML.\n",
    "\n",
    "The format of geojson is desirable because:\n",
    "- its json, so we can use `dask`\n",
    "- mongo has spatial indexing which use its objects\n",
    "- the library `geopandas` reads geojson and provides a multitude of geometric operations all with subclasses derived from pandas' `DataFrame` and `Series`.\n",
    "- the library `folium` integrates geojson allowing geocoding and choropleths \n",
    "\n",
    "Finally, it is important to have a driving reason for why the task is being done, or at least one should be found. In cleaning the data of even a moderately sized city such\n",
    "as Edmonton the amount of possible work is as large as the granularity of information is small. Therefore, one should try to establish as quickly as possible what exactly one\n",
    "is looking for. In this case the driving question will be where in Edmonton can I have a Starbuck's espresso beside a park. \n",
    "\n"
   ]
  },
  {
   "cell_type": "markdown",
   "metadata": {},
   "source": [
    "# Data Acquisition"
   ]
  },
  {
   "cell_type": "markdown",
   "metadata": {},
   "source": [
    "## Acquire data from open street maps"
   ]
  },
  {
   "cell_type": "markdown",
   "metadata": {},
   "source": [
    "By looking at the file contents, we see that it was produced from the OverPass API using the parameters <bounds minlat=\"53.4271\" minlon=\"-113.666\" maxlat=\"53.6495\" maxlon=\"-113.34\"/>\n",
    "http://overpass-api.de/api/map?bbox=-113.7538,53.4253,-113.1952,53.6514 . Clicking on this linking downloads a file call `map` which we will place in our notebook directory. \n",
    "\n"
   ]
  },
  {
   "cell_type": "markdown",
   "metadata": {},
   "source": [
    "## Transform xml to geojson"
   ]
  },
  {
   "cell_type": "markdown",
   "metadata": {},
   "source": [
    "We rename the file `map` to `map.osm` in order for `osmtogeojson` to work properly."
   ]
  },
  {
   "cell_type": "code",
   "execution_count": 1,
   "metadata": {
    "collapsed": false
   },
   "outputs": [],
   "source": [
    "!node --max_old_space_size=8192 `which osmtogeojson` map.osm > map.geojson"
   ]
  },
  {
   "cell_type": "markdown",
   "metadata": {},
   "source": [
    "Because `osmtogeojson` produces a _pretty-printed_ file, which `dask` cannot read, we transform it into a _JSON lines_ format, which it can."
   ]
  },
  {
   "cell_type": "code",
   "execution_count": 2,
   "metadata": {
    "collapsed": false
   },
   "outputs": [
    {
     "name": "stdout",
     "output_type": "stream",
     "text": [
      "{\r\n",
      "\"type\": \"FeatureCollection\",\r\n",
      "\"features\": [\r\n",
      "{\r\n",
      "  \"type\": \"Feature\",\r\n",
      "  \"id\": \"way/166527731\",\r\n",
      "  \"properties\": {\r\n",
      "    \"timestamp\": \"2016-12-05T11:26:12Z\",\r\n",
      "    \"version\": \"9\",\r\n",
      "    \"changeset\": \"44180672\",\r\n"
     ]
    }
   ],
   "source": [
    "!head map.geojson"
   ]
  },
  {
   "cell_type": "markdown",
   "metadata": {},
   "source": [
    "We use the library `ijson` to transform a pretty-printed file to a json-lines format (one document per line). However, to do so we need to subclass `json.JSONEncoder` to correctly encode the `Decimal` class that `ijson` creates with floats."
   ]
  },
  {
   "cell_type": "code",
   "execution_count": 3,
   "metadata": {
    "collapsed": true
   },
   "outputs": [],
   "source": [
    "import json\n",
    "import decimal\n",
    "\n",
    "class DecimalEncoder(json.JSONEncoder):\n",
    "    def default(self, obj):\n",
    "        if isinstance(obj, decimal.Decimal):\n",
    "#             print(\"got dec\")\n",
    "            return float(obj)\n",
    "        # Let the base class default method raise the TypeError\n",
    "        return json.JSONEncoder.default(self, obj)"
   ]
  },
  {
   "cell_type": "raw",
   "metadata": {},
   "source": [
    "Create a JSON-lines format file name `ed_features` from our geojson file."
   ]
  },
  {
   "cell_type": "code",
   "execution_count": 4,
   "metadata": {
    "collapsed": false
   },
   "outputs": [],
   "source": [
    "import json\n",
    "import ijson\n",
    "\n",
    "fi =open('map.geojson')\n",
    "fo = open('ed_features', mode='w')\n",
    "features = ijson.items(fi, 'features.item')\n",
    "# features = (o for o in objects if o['type'] == 'city')\n",
    "\n",
    "i = 0 \n",
    "for feature in features:\n",
    "    try:\n",
    "        print(json.dumps(feature, cls=DecimalEncoder), file=fo)\n",
    "    except:\n",
    "        print(feature)\n",
    "   "
   ]
  },
  {
   "cell_type": "markdown",
   "metadata": {},
   "source": [
    "# Data Cleaning"
   ]
  },
  {
   "cell_type": "markdown",
   "metadata": {},
   "source": [
    "\n",
    "In this section, after we load the appropriate libaries, we will repeat the following sequence: \n",
    "- examine data / identify problem\n",
    "- create measure of problem\n",
    "- create cleaning method\n",
    "- apply cleaning method\n",
    "- measure problem again"
   ]
  },
  {
   "cell_type": "markdown",
   "metadata": {},
   "source": [
    "Load Librairies"
   ]
  },
  {
   "cell_type": "code",
   "execution_count": 10,
   "metadata": {
    "collapsed": true
   },
   "outputs": [],
   "source": [
    "from pprint import pprint\n",
    "import re\n",
    "import pandas as pd\n",
    "# import codecs\n",
    "import json\n",
    "# import datetime\n",
    "from collections import defaultdict\n",
    "import dask.bag as db\n",
    "# import sys\n",
    "import dask\n",
    "from toolz import take\n",
    "import toolz\n",
    "# import pickle\n",
    "# import pymongo\n",
    "import graphviz # for dask computation vizualizations\n",
    "import matplotlib # for basic graphics\n",
    "import seaborn as sns # for easier graphics"
   ]
  },
  {
   "cell_type": "markdown",
   "metadata": {},
   "source": [
    "## Iteration one"
   ]
  },
  {
   "cell_type": "markdown",
   "metadata": {},
   "source": [
    "### Explore data"
   ]
  },
  {
   "cell_type": "code",
   "execution_count": 11,
   "metadata": {
    "collapsed": false
   },
   "outputs": [],
   "source": [
    "# we up the blocksize until the number of partitions was at least  8 (my laptops number of cores)\n",
    "import math\n",
    "import multiprocessing\n",
    "import os\n",
    "# request to dask developpers - make option to Bag.read_text() to optimize for number of cores cores #!!\n",
    "# i1_b = db.read_text('ed_features', blocksize=math.floor(0.9 * 2**25))#.map(json.loads)\n",
    "f_size = os.path.getsize('ed_features')\n",
    "num_cores = multiprocessing.cpu_count()\n",
    "i1_b = db.read_text('ed_features', blocksize=math.ceil(f_size / num_cores))#.map(json.loads)"
   ]
  },
  {
   "cell_type": "code",
   "execution_count": 12,
   "metadata": {
    "collapsed": false
   },
   "outputs": [
    {
     "data": {
      "text/plain": [
       "8"
      ]
     },
     "execution_count": 12,
     "metadata": {},
     "output_type": "execute_result"
    }
   ],
   "source": [
    "i1_b.npartitions"
   ]
  },
  {
   "cell_type": "code",
   "execution_count": 13,
   "metadata": {
    "collapsed": true
   },
   "outputs": [],
   "source": [
    "def safe_loads(s, **kwargs):\n",
    "    try:\n",
    "        return json.loads(s, kwargs)\n",
    "    except:\n",
    "        print(\"---> \",s)\n",
    "        return dict()"
   ]
  },
  {
   "cell_type": "code",
   "execution_count": 23,
   "metadata": {
    "collapsed": true
   },
   "outputs": [],
   "source": [
    "import json\n",
    "import decimal\n",
    "\n",
    "class SafeDecoder(json.JSONDecoder):\n",
    "    def default(self, obj):\n",
    "        try:\n",
    "            return json.JSONDecoder.default(self, obj)\n",
    "        except:\n",
    "            print(\"---> \", obj)"
   ]
  },
  {
   "cell_type": "code",
   "execution_count": 18,
   "metadata": {
    "collapsed": false
   },
   "outputs": [],
   "source": [
    "# convert bag of json strings into dictionary objects\n",
    "# j1_b = i1_b.map(json.loads)\n",
    "j1_b = i1_b.map(json.loads, cls=SafeDecoder)"
   ]
  },
  {
   "cell_type": "code",
   "execution_count": 22,
   "metadata": {
    "collapsed": false
   },
   "outputs": [
    {
     "name": "stderr",
     "output_type": "stream",
     "text": [
      "/Users/mannalytics/anaconda/envs/geopandas_test_env/lib/python3.5/site-packages/dask/bag/core.py:1641: UserWarning: Insufficient elements for `take`. 10000 elements requested, only 7066 elements available. Try passing larger `npartitions` to `take`.\n",
      "  \"to `take`.\".format(n, len(r)))\n"
     ]
    },
    {
     "data": {
      "text/plain": [
       "({'geometry': {'coordinates': [-113.5144078, 53.5401478], 'type': 'Point'},\n",
       "  'id': 'node/4556519805',\n",
       "  'properties': {'addr:city': 'Edmonton',\n",
       "   'addr:housenumber': '10050',\n",
       "   'addr:postcode': 'T5K 2J1',\n",
       "   'addr:province': 'Alberta',\n",
       "   'addr:street': '112 St NW #806',\n",
       "   'changeset': '44438235',\n",
       "   'id': 'node/4556519805',\n",
       "   'name': 'Dr. Ken Harrison, Registered Psychologist',\n",
       "   'phone': '+1-780-483-8522',\n",
       "   'timestamp': '2016-12-16T05:18:26Z',\n",
       "   'uid': '4976340',\n",
       "   'user': 'Kenpsycho',\n",
       "   'version': '1',\n",
       "   'website': 'http://www.psychologist-edmonton.com'},\n",
       "  'type': 'Feature'},\n",
       " {'geometry': {'coordinates': [-113.5132058, 53.5319325], 'type': 'Point'},\n",
       "  'id': 'node/4570750354',\n",
       "  'properties': {'changeset': '44649401',\n",
       "   'highway': 'traffic_signals',\n",
       "   'id': 'node/4570750354',\n",
       "   'timestamp': '2016-12-24T18:00:09Z',\n",
       "   'traffic_signals': 'crossing',\n",
       "   'uid': '3848955',\n",
       "   'user': 'Mesowhite',\n",
       "   'version': '1'},\n",
       "  'type': 'Feature'},\n",
       " {'geometry': {'coordinates': [-113.5132373, 53.5320213], 'type': 'Point'},\n",
       "  'id': 'node/4570750362',\n",
       "  'properties': {'changeset': '44649401',\n",
       "   'highway': 'traffic_signals',\n",
       "   'id': 'node/4570750362',\n",
       "   'timestamp': '2016-12-24T18:00:09Z',\n",
       "   'traffic_signals': 'crossing',\n",
       "   'uid': '3848955',\n",
       "   'user': 'Mesowhite',\n",
       "   'version': '1'},\n",
       "  'type': 'Feature'})"
      ]
     },
     "execution_count": 22,
     "metadata": {},
     "output_type": "execute_result"
    }
   ],
   "source": [
    "_l = j1_b.take(10000, npartitions = 8)\n",
    "_l[-3:]"
   ]
  },
  {
   "cell_type": "markdown",
   "metadata": {},
   "source": [
    "We see below that the root keys are 'geometry', 'id', 'properties' and 'type'"
   ]
  },
  {
   "cell_type": "code",
   "execution_count": 468,
   "metadata": {
    "collapsed": false
   },
   "outputs": [
    {
     "data": {
      "text/plain": [
       "{'geometry', 'id', 'properties', 'type'}"
      ]
     },
     "execution_count": 468,
     "metadata": {},
     "output_type": "execute_result"
    }
   ],
   "source": [
    "set([i for d in j1_b.take(1000) for i in d])"
   ]
  },
  {
   "cell_type": "markdown",
   "metadata": {},
   "source": [
    "We look at examples of each of these:"
   ]
  },
  {
   "cell_type": "code",
   "execution_count": 469,
   "metadata": {
    "collapsed": false
   },
   "outputs": [
    {
     "data": {
      "text/plain": [
       "'way/166527731'"
      ]
     },
     "execution_count": 469,
     "metadata": {},
     "output_type": "execute_result"
    }
   ],
   "source": [
    "j1_b.take(1)[0]['id']"
   ]
  },
  {
   "cell_type": "code",
   "execution_count": 470,
   "metadata": {
    "collapsed": false
   },
   "outputs": [
    {
     "data": {
      "text/plain": [
       "'Feature'"
      ]
     },
     "execution_count": 470,
     "metadata": {},
     "output_type": "execute_result"
    }
   ],
   "source": [
    "j1_b.take(1)[0]['type']"
   ]
  },
  {
   "cell_type": "code",
   "execution_count": 471,
   "metadata": {
    "collapsed": false
   },
   "outputs": [
    {
     "data": {
      "text/plain": [
       "{'changeset': '44180672',\n",
       " 'highway': 'pedestrian',\n",
       " 'id': 'way/166527731',\n",
       " 'layer': '1',\n",
       " 'name': 'Legislature Plaza',\n",
       " 'place': 'square',\n",
       " 'source': 'Bing',\n",
       " 'timestamp': '2016-12-05T11:26:12Z',\n",
       " 'uid': '3848955',\n",
       " 'user': 'Mesowhite',\n",
       " 'version': '9'}"
      ]
     },
     "execution_count": 471,
     "metadata": {},
     "output_type": "execute_result"
    }
   ],
   "source": [
    "j1_b.take(1)[0]['properties']"
   ]
  },
  {
   "cell_type": "code",
   "execution_count": 472,
   "metadata": {
    "collapsed": false
   },
   "outputs": [
    {
     "name": "stdout",
     "output_type": "stream",
     "text": [
      "{'type': 'Polygon', 'coordinates': [[[-113.5317185, 53.5443197], [-113.5317571, 53.5442998], [-113.531752, 53.5442581], [-113.5317957, 53.5442376], [-113.5318272, 53.544231], [-113.5318557, 53.5442032], [-113.5318465, 53.5441935], [-113.5318181, 53.5441561], [-113.5318201, 53.5441078], [-113.5318475, 53.5440782], [-113.5318953, 53.5440341], [-113.5319004, 53.5439978], [-113.5318475, 53.5439713], [-113.5317805, 53.543955], [-113.5317022, 53.5439574], [-113.5316473, 53.5439852], [-113.5315863, 53.5439912], [-113.5315325, 53.5439864], [-113.531503, 53.5439972], [-113.531442, 53.543993], [-113.5313912, 53.543961], [-113.5313353, 53.5439731], [-113.5313018, 53.5440202], [-113.5313129, 53.5440462], [-113.5314014, 53.5440909], [-113.5315264, 53.5441047], [-113.5315528, 53.5441265], [-113.5315477, 53.5441537], [-113.5314959, 53.5441845], [-113.5314776, 53.5442122], [-113.531506, 53.5442394], [-113.5315497, 53.5442527], [-113.5315914, 53.544243], [-113.5316402, 53.54424], [-113.5316727, 53.5442557], [-113.5316758, 53.544275], [-113.5316687, 53.5442986], [-113.531688, 53.5443155], [-113.5317185, 53.5443197]], [[-113.5314583, 53.5440764], [-113.5313922, 53.5440673], [-113.5313373, 53.5440407], [-113.5313241, 53.5440184], [-113.5313475, 53.543993], [-113.5313953, 53.5439815], [-113.5314654, 53.5440063], [-113.5315172, 53.5440329], [-113.5315132, 53.5440619], [-113.5314583, 53.5440764]], [[-113.5317327, 53.5440915], [-113.5316849, 53.5440673], [-113.5316981, 53.5440456], [-113.5317571, 53.5440305], [-113.5317906, 53.5440371], [-113.5318018, 53.5440486], [-113.5318028, 53.5440751], [-113.5317327, 53.5440915]]]}\n"
     ]
    }
   ],
   "source": [
    "print(j1_b.take(5)[-1]['geometry'])"
   ]
  },
  {
   "cell_type": "markdown",
   "metadata": {},
   "source": [
    "The key 'properties' looks like it will have most user information in it so we pursue its characteristics. We collect all keys used within the properties sub-document below:"
   ]
  },
  {
   "cell_type": "code",
   "execution_count": 26,
   "metadata": {
    "collapsed": false
   },
   "outputs": [
    {
     "name": "stdout",
     "output_type": "stream",
     "text": [
      "CPU times: user 78.5 ms, sys: 41.9 ms, total: 120 ms\n",
      "Wall time: 347 ms\n"
     ]
    }
   ],
   "source": [
    "%%time \n",
    "c_d = defaultdict(int)\n",
    "d_count = 0\n",
    "#for d in j1_b.pluck('properties').take(1000) for i in d\n",
    "for d in j1_b.pluck('properties'):\n",
    "    for k in d:\n",
    "        c_d[k] += 1"
   ]
  },
  {
   "cell_type": "code",
   "execution_count": 27,
   "metadata": {
    "collapsed": false
   },
   "outputs": [
    {
     "data": {
      "text/html": [
       "<div>\n",
       "<table border=\"1\" class=\"dataframe\">\n",
       "  <thead>\n",
       "    <tr style=\"text-align: right;\">\n",
       "      <th></th>\n",
       "      <th>0</th>\n",
       "    </tr>\n",
       "  </thead>\n",
       "  <tbody>\n",
       "    <tr>\n",
       "      <th>id</th>\n",
       "      <td>7066</td>\n",
       "    </tr>\n",
       "    <tr>\n",
       "      <th>uid</th>\n",
       "      <td>7066</td>\n",
       "    </tr>\n",
       "    <tr>\n",
       "      <th>changeset</th>\n",
       "      <td>7066</td>\n",
       "    </tr>\n",
       "    <tr>\n",
       "      <th>timestamp</th>\n",
       "      <td>7066</td>\n",
       "    </tr>\n",
       "    <tr>\n",
       "      <th>user</th>\n",
       "      <td>7066</td>\n",
       "    </tr>\n",
       "    <tr>\n",
       "      <th>version</th>\n",
       "      <td>7066</td>\n",
       "    </tr>\n",
       "    <tr>\n",
       "      <th>source</th>\n",
       "      <td>2868</td>\n",
       "    </tr>\n",
       "    <tr>\n",
       "      <th>addr:street</th>\n",
       "      <td>1911</td>\n",
       "    </tr>\n",
       "    <tr>\n",
       "      <th>addr:housenumber</th>\n",
       "      <td>1899</td>\n",
       "    </tr>\n",
       "    <tr>\n",
       "      <th>addr:city</th>\n",
       "      <td>1862</td>\n",
       "    </tr>\n",
       "    <tr>\n",
       "      <th>building</th>\n",
       "      <td>1719</td>\n",
       "    </tr>\n",
       "    <tr>\n",
       "      <th>highway</th>\n",
       "      <td>1585</td>\n",
       "    </tr>\n",
       "    <tr>\n",
       "      <th>name</th>\n",
       "      <td>1116</td>\n",
       "    </tr>\n",
       "    <tr>\n",
       "      <th>addr:interpolation</th>\n",
       "      <td>785</td>\n",
       "    </tr>\n",
       "    <tr>\n",
       "      <th>amenity</th>\n",
       "      <td>535</td>\n",
       "    </tr>\n",
       "    <tr>\n",
       "      <th>service</th>\n",
       "      <td>297</td>\n",
       "    </tr>\n",
       "    <tr>\n",
       "      <th>oneway</th>\n",
       "      <td>267</td>\n",
       "    </tr>\n",
       "    <tr>\n",
       "      <th>surface</th>\n",
       "      <td>173</td>\n",
       "    </tr>\n",
       "    <tr>\n",
       "      <th>landuse</th>\n",
       "      <td>161</td>\n",
       "    </tr>\n",
       "    <tr>\n",
       "      <th>foot</th>\n",
       "      <td>156</td>\n",
       "    </tr>\n",
       "    <tr>\n",
       "      <th>lanes</th>\n",
       "      <td>152</td>\n",
       "    </tr>\n",
       "    <tr>\n",
       "      <th>bicycle</th>\n",
       "      <td>143</td>\n",
       "    </tr>\n",
       "    <tr>\n",
       "      <th>natural</th>\n",
       "      <td>137</td>\n",
       "    </tr>\n",
       "    <tr>\n",
       "      <th>leisure</th>\n",
       "      <td>109</td>\n",
       "    </tr>\n",
       "    <tr>\n",
       "      <th>layer</th>\n",
       "      <td>108</td>\n",
       "    </tr>\n",
       "    <tr>\n",
       "      <th>railway</th>\n",
       "      <td>106</td>\n",
       "    </tr>\n",
       "    <tr>\n",
       "      <th>lit</th>\n",
       "      <td>106</td>\n",
       "    </tr>\n",
       "    <tr>\n",
       "      <th>addr:postcode</th>\n",
       "      <td>98</td>\n",
       "    </tr>\n",
       "    <tr>\n",
       "      <th>website</th>\n",
       "      <td>91</td>\n",
       "    </tr>\n",
       "    <tr>\n",
       "      <th>building:levels</th>\n",
       "      <td>90</td>\n",
       "    </tr>\n",
       "  </tbody>\n",
       "</table>\n",
       "</div>"
      ],
      "text/plain": [
       "                       0\n",
       "id                  7066\n",
       "uid                 7066\n",
       "changeset           7066\n",
       "timestamp           7066\n",
       "user                7066\n",
       "version             7066\n",
       "source              2868\n",
       "addr:street         1911\n",
       "addr:housenumber    1899\n",
       "addr:city           1862\n",
       "building            1719\n",
       "highway             1585\n",
       "name                1116\n",
       "addr:interpolation   785\n",
       "amenity              535\n",
       "service              297\n",
       "oneway               267\n",
       "surface              173\n",
       "landuse              161\n",
       "foot                 156\n",
       "lanes                152\n",
       "bicycle              143\n",
       "natural              137\n",
       "leisure              109\n",
       "layer                108\n",
       "railway              106\n",
       "lit                  106\n",
       "addr:postcode         98\n",
       "website               91\n",
       "building:levels       90"
      ]
     },
     "execution_count": 27,
     "metadata": {},
     "output_type": "execute_result"
    }
   ],
   "source": [
    "pd.DataFrame.from_dict(c_d, orient='index' ).sort_values(0, ascending=False).head(30)"
   ]
  },
  {
   "cell_type": "markdown",
   "metadata": {},
   "source": [
    "We compare the alternative method below which uses the dask functional approach more consistently. The result is about a 700% speed-up. (18.7s / 2.64s) "
   ]
  },
  {
   "cell_type": "code",
   "execution_count": 28,
   "metadata": {
    "collapsed": false
   },
   "outputs": [
    {
     "name": "stdout",
     "output_type": "stream",
     "text": [
      "CPU times: user 49.4 ms, sys: 34.1 ms, total: 83.5 ms\n",
      "Wall time: 134 ms\n"
     ]
    }
   ],
   "source": [
    "def f1(dd,d):\n",
    "    for k in d:\n",
    "        dd[k] +=1 \n",
    "    return dd\n",
    "\n",
    "def d2(dda,ddb):\n",
    "    for k in dda:\n",
    "        ddb[k] += dda[k]\n",
    "    return ddb\n",
    "\n",
    "%time props_df = pd.DataFrame.from_dict(j1_b.pluck('properties').fold(f1,d2,defaultdict(int)).compute(), orient=\"index\").sort_values(0, ascending=False); props_df   "
   ]
  },
  {
   "cell_type": "code",
   "execution_count": 30,
   "metadata": {
    "collapsed": false
   },
   "outputs": [
    {
     "data": {
      "text/html": [
       "<div>\n",
       "<table border=\"1\" class=\"dataframe\">\n",
       "  <thead>\n",
       "    <tr style=\"text-align: right;\">\n",
       "      <th></th>\n",
       "      <th>0</th>\n",
       "    </tr>\n",
       "  </thead>\n",
       "  <tbody>\n",
       "    <tr>\n",
       "      <th>id</th>\n",
       "      <td>7066</td>\n",
       "    </tr>\n",
       "    <tr>\n",
       "      <th>timestamp</th>\n",
       "      <td>7066</td>\n",
       "    </tr>\n",
       "    <tr>\n",
       "      <th>version</th>\n",
       "      <td>7066</td>\n",
       "    </tr>\n",
       "    <tr>\n",
       "      <th>user</th>\n",
       "      <td>7066</td>\n",
       "    </tr>\n",
       "    <tr>\n",
       "      <th>uid</th>\n",
       "      <td>7066</td>\n",
       "    </tr>\n",
       "    <tr>\n",
       "      <th>changeset</th>\n",
       "      <td>7066</td>\n",
       "    </tr>\n",
       "    <tr>\n",
       "      <th>source</th>\n",
       "      <td>2868</td>\n",
       "    </tr>\n",
       "    <tr>\n",
       "      <th>addr:street</th>\n",
       "      <td>1911</td>\n",
       "    </tr>\n",
       "    <tr>\n",
       "      <th>addr:housenumber</th>\n",
       "      <td>1899</td>\n",
       "    </tr>\n",
       "    <tr>\n",
       "      <th>addr:city</th>\n",
       "      <td>1862</td>\n",
       "    </tr>\n",
       "    <tr>\n",
       "      <th>building</th>\n",
       "      <td>1719</td>\n",
       "    </tr>\n",
       "    <tr>\n",
       "      <th>highway</th>\n",
       "      <td>1585</td>\n",
       "    </tr>\n",
       "    <tr>\n",
       "      <th>name</th>\n",
       "      <td>1116</td>\n",
       "    </tr>\n",
       "    <tr>\n",
       "      <th>addr:interpolation</th>\n",
       "      <td>785</td>\n",
       "    </tr>\n",
       "    <tr>\n",
       "      <th>amenity</th>\n",
       "      <td>535</td>\n",
       "    </tr>\n",
       "    <tr>\n",
       "      <th>service</th>\n",
       "      <td>297</td>\n",
       "    </tr>\n",
       "    <tr>\n",
       "      <th>oneway</th>\n",
       "      <td>267</td>\n",
       "    </tr>\n",
       "    <tr>\n",
       "      <th>surface</th>\n",
       "      <td>173</td>\n",
       "    </tr>\n",
       "    <tr>\n",
       "      <th>landuse</th>\n",
       "      <td>161</td>\n",
       "    </tr>\n",
       "    <tr>\n",
       "      <th>foot</th>\n",
       "      <td>156</td>\n",
       "    </tr>\n",
       "  </tbody>\n",
       "</table>\n",
       "</div>"
      ],
      "text/plain": [
       "                       0\n",
       "id                  7066\n",
       "timestamp           7066\n",
       "version             7066\n",
       "user                7066\n",
       "uid                 7066\n",
       "changeset           7066\n",
       "source              2868\n",
       "addr:street         1911\n",
       "addr:housenumber    1899\n",
       "addr:city           1862\n",
       "building            1719\n",
       "highway             1585\n",
       "name                1116\n",
       "addr:interpolation   785\n",
       "amenity              535\n",
       "service              297\n",
       "oneway               267\n",
       "surface              173\n",
       "landuse              161\n",
       "foot                 156"
      ]
     },
     "execution_count": 30,
     "metadata": {},
     "output_type": "execute_result"
    }
   ],
   "source": [
    "props_df[:20]"
   ]
  },
  {
   "cell_type": "markdown",
   "metadata": {},
   "source": [
    "From the above table we see the most frequent properities used. In our case we will focus on 'amenity'."
   ]
  },
  {
   "cell_type": "code",
   "execution_count": 31,
   "metadata": {
    "collapsed": false,
    "scrolled": true
   },
   "outputs": [
    {
     "data": {
      "text/html": [
       "<div>\n",
       "<table border=\"1\" class=\"dataframe\">\n",
       "  <thead>\n",
       "    <tr style=\"text-align: right;\">\n",
       "      <th></th>\n",
       "      <th>0</th>\n",
       "      <th>1</th>\n",
       "    </tr>\n",
       "  </thead>\n",
       "  <tbody>\n",
       "    <tr>\n",
       "      <th>0</th>\n",
       "      <td></td>\n",
       "      <td>6531</td>\n",
       "    </tr>\n",
       "    <tr>\n",
       "      <th>1</th>\n",
       "      <td>parking</td>\n",
       "      <td>273</td>\n",
       "    </tr>\n",
       "    <tr>\n",
       "      <th>2</th>\n",
       "      <td>restaurant</td>\n",
       "      <td>66</td>\n",
       "    </tr>\n",
       "    <tr>\n",
       "      <th>3</th>\n",
       "      <td>fast_food</td>\n",
       "      <td>36</td>\n",
       "    </tr>\n",
       "    <tr>\n",
       "      <th>4</th>\n",
       "      <td>cafe</td>\n",
       "      <td>27</td>\n",
       "    </tr>\n",
       "    <tr>\n",
       "      <th>5</th>\n",
       "      <td>bank</td>\n",
       "      <td>14</td>\n",
       "    </tr>\n",
       "    <tr>\n",
       "      <th>6</th>\n",
       "      <td>bar</td>\n",
       "      <td>12</td>\n",
       "    </tr>\n",
       "    <tr>\n",
       "      <th>7</th>\n",
       "      <td>shelter</td>\n",
       "      <td>11</td>\n",
       "    </tr>\n",
       "    <tr>\n",
       "      <th>8</th>\n",
       "      <td>parking_entrance</td>\n",
       "      <td>9</td>\n",
       "    </tr>\n",
       "    <tr>\n",
       "      <th>9</th>\n",
       "      <td>pharmacy</td>\n",
       "      <td>8</td>\n",
       "    </tr>\n",
       "  </tbody>\n",
       "</table>\n",
       "</div>"
      ],
      "text/plain": [
       "                  0     1\n",
       "0                    6531\n",
       "1           parking   273\n",
       "2        restaurant    66\n",
       "3         fast_food    36\n",
       "4              cafe    27\n",
       "5              bank    14\n",
       "6               bar    12\n",
       "7           shelter    11\n",
       "8  parking_entrance     9\n",
       "9          pharmacy     8"
      ]
     },
     "execution_count": 31,
     "metadata": {},
     "output_type": "execute_result"
    }
   ],
   "source": [
    "j1_b.pluck('properties').pluck('amenity', '').frequencies().topk(\n",
    "    10, lambda x: x[1]).to_dataframe().compute()"
   ]
  },
  {
   "cell_type": "markdown",
   "metadata": {},
   "source": [
    "In the above table we see in the first row than there some 463000 documents without an amenity key. Among those that do, there are 175 'cafe'. We will now focus on these."
   ]
  },
  {
   "cell_type": "markdown",
   "metadata": {},
   "source": [
    "### Find Problem in Data"
   ]
  },
  {
   "cell_type": "markdown",
   "metadata": {},
   "source": [
    "From the data below we notice that there are apparently more _Tim Hortons_ than any other kind of café, until we notice that there are two ways of entering _Starbucks_.\n",
    "\n",
    "Thus we have identified a problem to be resolved. Our measure of this problem will be the same method with which we found it.\n",
    "\n",
    "Below we create a function to unify the disparate ways of writing Starbucks."
   ]
  },
  {
   "cell_type": "code",
   "execution_count": 32,
   "metadata": {
    "collapsed": false
   },
   "outputs": [
    {
     "data": {
      "text/html": [
       "<div>\n",
       "<table border=\"1\" class=\"dataframe\">\n",
       "  <thead>\n",
       "    <tr style=\"text-align: right;\">\n",
       "      <th></th>\n",
       "      <th>0</th>\n",
       "      <th>1</th>\n",
       "    </tr>\n",
       "  </thead>\n",
       "  <tbody>\n",
       "    <tr>\n",
       "      <th>0</th>\n",
       "      <td>Starbucks Coffee</td>\n",
       "      <td>5</td>\n",
       "    </tr>\n",
       "    <tr>\n",
       "      <th>1</th>\n",
       "      <td>Second Cup</td>\n",
       "      <td>4</td>\n",
       "    </tr>\n",
       "    <tr>\n",
       "      <th>2</th>\n",
       "      <td>Starbucks</td>\n",
       "      <td>2</td>\n",
       "    </tr>\n",
       "    <tr>\n",
       "      <th>3</th>\n",
       "      <td>The Second Cup</td>\n",
       "      <td>2</td>\n",
       "    </tr>\n",
       "    <tr>\n",
       "      <th>4</th>\n",
       "      <td>Credo</td>\n",
       "      <td>1</td>\n",
       "    </tr>\n",
       "    <tr>\n",
       "      <th>5</th>\n",
       "      <td>Good Earth Coffee</td>\n",
       "      <td>1</td>\n",
       "    </tr>\n",
       "    <tr>\n",
       "      <th>6</th>\n",
       "      <td>Good Earth</td>\n",
       "      <td>1</td>\n",
       "    </tr>\n",
       "    <tr>\n",
       "      <th>7</th>\n",
       "      <td>Coffee Bureau</td>\n",
       "      <td>1</td>\n",
       "    </tr>\n",
       "    <tr>\n",
       "      <th>8</th>\n",
       "      <td>Tea Cottage</td>\n",
       "      <td>1</td>\n",
       "    </tr>\n",
       "    <tr>\n",
       "      <th>9</th>\n",
       "      <td>L'Espresso Cafe</td>\n",
       "      <td>1</td>\n",
       "    </tr>\n",
       "  </tbody>\n",
       "</table>\n",
       "</div>"
      ],
      "text/plain": [
       "                    0  1\n",
       "0    Starbucks Coffee  5\n",
       "1          Second Cup  4\n",
       "2           Starbucks  2\n",
       "3      The Second Cup  2\n",
       "4               Credo  1\n",
       "5  Good Earth Coffee   1\n",
       "6          Good Earth  1\n",
       "7       Coffee Bureau  1\n",
       "8         Tea Cottage  1\n",
       "9     L'Espresso Cafe  1"
      ]
     },
     "execution_count": 32,
     "metadata": {},
     "output_type": "execute_result"
    }
   ],
   "source": [
    "j1_b.pluck('properties').filter(   # get properties sub-doc \n",
    "    lambda d: d.get('amenity', '') == 'cafe').pluck(  # filter to get those in which amenity == cafe\n",
    "        'name', '__').frequencies().topk(              # from those documents take the names, and get the frequencies of those names\n",
    "            10, lambda x: x[1]).to_dataframe().compute() # take the 10 most frequent and make a dataframe from them"
   ]
  },
  {
   "cell_type": "markdown",
   "metadata": {},
   "source": [
    "### Measure the problem"
   ]
  },
  {
   "cell_type": "markdown",
   "metadata": {},
   "source": [
    "We will abstract our count of cafés so that we can use it to measure our success on our new data set."
   ]
  },
  {
   "cell_type": "code",
   "execution_count": 33,
   "metadata": {
    "collapsed": true
   },
   "outputs": [],
   "source": [
    "def cafe_count( j_b ):\n",
    "    df = j_b.pluck('properties').filter(   # get properties sub-doc \n",
    "    lambda d: d.get('amenity', '') == 'cafe').pluck(  # filter to get those in which amenity == cafe\n",
    "        'name', '__').frequencies().topk(              # from those documents take the names, and get the frequencies of those names\n",
    "            10, lambda x: x[1]).to_dataframe().compute() # take the 10 most frequent and make a dataframe from them\n",
    "    return df"
   ]
  },
  {
   "cell_type": "markdown",
   "metadata": {},
   "source": [
    "We verify that it works as expected:"
   ]
  },
  {
   "cell_type": "code",
   "execution_count": 34,
   "metadata": {
    "collapsed": false
   },
   "outputs": [
    {
     "data": {
      "text/html": [
       "<div>\n",
       "<table border=\"1\" class=\"dataframe\">\n",
       "  <thead>\n",
       "    <tr style=\"text-align: right;\">\n",
       "      <th></th>\n",
       "      <th>0</th>\n",
       "      <th>1</th>\n",
       "    </tr>\n",
       "  </thead>\n",
       "  <tbody>\n",
       "    <tr>\n",
       "      <th>0</th>\n",
       "      <td>Starbucks Coffee</td>\n",
       "      <td>5</td>\n",
       "    </tr>\n",
       "    <tr>\n",
       "      <th>1</th>\n",
       "      <td>Second Cup</td>\n",
       "      <td>4</td>\n",
       "    </tr>\n",
       "    <tr>\n",
       "      <th>2</th>\n",
       "      <td>Starbucks</td>\n",
       "      <td>2</td>\n",
       "    </tr>\n",
       "    <tr>\n",
       "      <th>3</th>\n",
       "      <td>The Second Cup</td>\n",
       "      <td>2</td>\n",
       "    </tr>\n",
       "    <tr>\n",
       "      <th>4</th>\n",
       "      <td>Credo</td>\n",
       "      <td>1</td>\n",
       "    </tr>\n",
       "    <tr>\n",
       "      <th>5</th>\n",
       "      <td>Good Earth Coffee</td>\n",
       "      <td>1</td>\n",
       "    </tr>\n",
       "    <tr>\n",
       "      <th>6</th>\n",
       "      <td>Good Earth</td>\n",
       "      <td>1</td>\n",
       "    </tr>\n",
       "    <tr>\n",
       "      <th>7</th>\n",
       "      <td>Coffee Bureau</td>\n",
       "      <td>1</td>\n",
       "    </tr>\n",
       "    <tr>\n",
       "      <th>8</th>\n",
       "      <td>Tea Cottage</td>\n",
       "      <td>1</td>\n",
       "    </tr>\n",
       "    <tr>\n",
       "      <th>9</th>\n",
       "      <td>L'Espresso Cafe</td>\n",
       "      <td>1</td>\n",
       "    </tr>\n",
       "  </tbody>\n",
       "</table>\n",
       "</div>"
      ],
      "text/plain": [
       "                    0  1\n",
       "0    Starbucks Coffee  5\n",
       "1          Second Cup  4\n",
       "2           Starbucks  2\n",
       "3      The Second Cup  2\n",
       "4               Credo  1\n",
       "5  Good Earth Coffee   1\n",
       "6          Good Earth  1\n",
       "7       Coffee Bureau  1\n",
       "8         Tea Cottage  1\n",
       "9     L'Espresso Cafe  1"
      ]
     },
     "execution_count": 34,
     "metadata": {},
     "output_type": "execute_result"
    }
   ],
   "source": [
    "cafe_count(j1_b)"
   ]
  },
  {
   "cell_type": "markdown",
   "metadata": {},
   "source": [
    "### Create solution"
   ]
  },
  {
   "cell_type": "code",
   "execution_count": 35,
   "metadata": {
    "collapsed": true
   },
   "outputs": [],
   "source": [
    "re_sb = re.compile('starbucks', re.IGNORECASE)\n",
    "\n",
    "\n",
    "def save_starbucks(d):\n",
    "    dp = d['properties']\n",
    "    s = dp.get('name', '')\n",
    "    if re_sb.search(s):\n",
    "        dp['name'] = 'Starbucks'\n",
    "    return d"
   ]
  },
  {
   "cell_type": "markdown",
   "metadata": {},
   "source": [
    "### Apply solution"
   ]
  },
  {
   "cell_type": "markdown",
   "metadata": {},
   "source": [
    "We map this function on to the documents in our `j1_b` dask bag. It should be observed that are _latent execution graphs_, and not actually calculated until they recieve a message such as `compute`, `take`, or `to_text`."
   ]
  },
  {
   "cell_type": "code",
   "execution_count": 36,
   "metadata": {
    "collapsed": true
   },
   "outputs": [],
   "source": [
    "j11_b = j1_b.map(save_starbucks)"
   ]
  },
  {
   "cell_type": "markdown",
   "metadata": {},
   "source": [
    "We then use the same method to observe whether our new bag is correctly amended and it appears that it has as our beloved purveyor of espresso is properly credited with all its stores. (see below)"
   ]
  },
  {
   "cell_type": "markdown",
   "metadata": {},
   "source": [
    "### Measure result"
   ]
  },
  {
   "cell_type": "code",
   "execution_count": 37,
   "metadata": {
    "collapsed": false
   },
   "outputs": [
    {
     "data": {
      "text/html": [
       "<div>\n",
       "<table border=\"1\" class=\"dataframe\">\n",
       "  <thead>\n",
       "    <tr style=\"text-align: right;\">\n",
       "      <th></th>\n",
       "      <th>0</th>\n",
       "      <th>1</th>\n",
       "    </tr>\n",
       "  </thead>\n",
       "  <tbody>\n",
       "    <tr>\n",
       "      <th>0</th>\n",
       "      <td>Starbucks</td>\n",
       "      <td>7</td>\n",
       "    </tr>\n",
       "    <tr>\n",
       "      <th>1</th>\n",
       "      <td>Second Cup</td>\n",
       "      <td>4</td>\n",
       "    </tr>\n",
       "    <tr>\n",
       "      <th>2</th>\n",
       "      <td>The Second Cup</td>\n",
       "      <td>2</td>\n",
       "    </tr>\n",
       "    <tr>\n",
       "      <th>3</th>\n",
       "      <td>Credo</td>\n",
       "      <td>1</td>\n",
       "    </tr>\n",
       "    <tr>\n",
       "      <th>4</th>\n",
       "      <td>Good Earth Coffee</td>\n",
       "      <td>1</td>\n",
       "    </tr>\n",
       "    <tr>\n",
       "      <th>5</th>\n",
       "      <td>Booster Juice</td>\n",
       "      <td>1</td>\n",
       "    </tr>\n",
       "    <tr>\n",
       "      <th>6</th>\n",
       "      <td>Good Earth</td>\n",
       "      <td>1</td>\n",
       "    </tr>\n",
       "    <tr>\n",
       "      <th>7</th>\n",
       "      <td>Coffee Bureau</td>\n",
       "      <td>1</td>\n",
       "    </tr>\n",
       "    <tr>\n",
       "      <th>8</th>\n",
       "      <td>Tea Cottage</td>\n",
       "      <td>1</td>\n",
       "    </tr>\n",
       "    <tr>\n",
       "      <th>9</th>\n",
       "      <td>L'Espresso Cafe</td>\n",
       "      <td>1</td>\n",
       "    </tr>\n",
       "  </tbody>\n",
       "</table>\n",
       "</div>"
      ],
      "text/plain": [
       "                    0  1\n",
       "0           Starbucks  7\n",
       "1          Second Cup  4\n",
       "2      The Second Cup  2\n",
       "3               Credo  1\n",
       "4  Good Earth Coffee   1\n",
       "5       Booster Juice  1\n",
       "6          Good Earth  1\n",
       "7       Coffee Bureau  1\n",
       "8         Tea Cottage  1\n",
       "9     L'Espresso Cafe  1"
      ]
     },
     "execution_count": 37,
     "metadata": {},
     "output_type": "execute_result"
    }
   ],
   "source": [
    "cafe_count(j11_b)"
   ]
  },
  {
   "cell_type": "markdown",
   "metadata": {
    "collapsed": true
   },
   "source": [
    "By the fact that there is only one listing for Starbucks, we are satisfied that this anomaly has been cleaned."
   ]
  },
  {
   "cell_type": "markdown",
   "metadata": {},
   "source": [
    "We will write out our amended json and then read it in to mongo using `mongoimport`.\n",
    "\n",
    "The following command will write out 8 json files, one for each partition of the dask bag."
   ]
  },
  {
   "cell_type": "code",
   "execution_count": 54,
   "metadata": {
    "collapsed": false
   },
   "outputs": [],
   "source": [
    "j11_b.map(json.dumps).to_textfiles('./clean1_*.json')"
   ]
  },
  {
   "cell_type": "code",
   "execution_count": 56,
   "metadata": {
    "collapsed": false
   },
   "outputs": [
    {
     "name": "stdout",
     "output_type": "stream",
     "text": [
      "-rw-r--r--  1 mannalytics  staff   431K  3 Feb 09:52 clean1_0.json\r\n",
      "-rw-r--r--  1 mannalytics  staff   432K  3 Feb 09:52 clean1_1.json\r\n",
      "-rw-r--r--  1 mannalytics  staff   430K  3 Feb 09:52 clean1_2.json\r\n",
      "-rw-r--r--  1 mannalytics  staff   431K  3 Feb 09:52 clean1_3.json\r\n",
      "-rw-r--r--  1 mannalytics  staff   431K  3 Feb 09:52 clean1_4.json\r\n",
      "-rw-r--r--  1 mannalytics  staff   431K  3 Feb 09:52 clean1_5.json\r\n",
      "-rw-r--r--  1 mannalytics  staff   431K  3 Feb 09:52 clean1_6.json\r\n",
      "-rw-r--r--  1 mannalytics  staff   431K  3 Feb 09:52 clean1_7.json\r\n"
     ]
    }
   ],
   "source": [
    "!ls -lh clean1_?.json"
   ]
  },
  {
   "cell_type": "markdown",
   "metadata": {},
   "source": [
    "## Iteration 2"
   ]
  },
  {
   "cell_type": "markdown",
   "metadata": {},
   "source": [
    "### Explore data"
   ]
  },
  {
   "cell_type": "code",
   "execution_count": 40,
   "metadata": {
    "collapsed": false
   },
   "outputs": [],
   "source": [
    "# we read in the files that we wrote in the previous iteration\n",
    "i2_b = db.read_text('data_*.json')"
   ]
  },
  {
   "cell_type": "code",
   "execution_count": 41,
   "metadata": {
    "collapsed": false
   },
   "outputs": [
    {
     "data": {
      "text/plain": [
       "8"
      ]
     },
     "execution_count": 41,
     "metadata": {},
     "output_type": "execute_result"
    }
   ],
   "source": [
    "i2_b.npartitions"
   ]
  },
  {
   "cell_type": "code",
   "execution_count": 42,
   "metadata": {
    "collapsed": false
   },
   "outputs": [],
   "source": [
    "# convert bag of json strings into dictionary objects\n",
    "j2_b = i2_b.map(json.loads)"
   ]
  },
  {
   "cell_type": "code",
   "execution_count": 43,
   "metadata": {
    "collapsed": false,
    "scrolled": true
   },
   "outputs": [
    {
     "data": {
      "text/html": [
       "<div>\n",
       "<table border=\"1\" class=\"dataframe\">\n",
       "  <thead>\n",
       "    <tr style=\"text-align: right;\">\n",
       "      <th></th>\n",
       "      <th>0</th>\n",
       "      <th>1</th>\n",
       "    </tr>\n",
       "  </thead>\n",
       "  <tbody>\n",
       "    <tr>\n",
       "      <th>0</th>\n",
       "      <td></td>\n",
       "      <td>6531</td>\n",
       "    </tr>\n",
       "    <tr>\n",
       "      <th>1</th>\n",
       "      <td>parking</td>\n",
       "      <td>273</td>\n",
       "    </tr>\n",
       "    <tr>\n",
       "      <th>2</th>\n",
       "      <td>restaurant</td>\n",
       "      <td>66</td>\n",
       "    </tr>\n",
       "    <tr>\n",
       "      <th>3</th>\n",
       "      <td>fast_food</td>\n",
       "      <td>36</td>\n",
       "    </tr>\n",
       "    <tr>\n",
       "      <th>4</th>\n",
       "      <td>cafe</td>\n",
       "      <td>27</td>\n",
       "    </tr>\n",
       "    <tr>\n",
       "      <th>5</th>\n",
       "      <td>bank</td>\n",
       "      <td>14</td>\n",
       "    </tr>\n",
       "    <tr>\n",
       "      <th>6</th>\n",
       "      <td>bar</td>\n",
       "      <td>12</td>\n",
       "    </tr>\n",
       "    <tr>\n",
       "      <th>7</th>\n",
       "      <td>shelter</td>\n",
       "      <td>11</td>\n",
       "    </tr>\n",
       "    <tr>\n",
       "      <th>8</th>\n",
       "      <td>parking_entrance</td>\n",
       "      <td>9</td>\n",
       "    </tr>\n",
       "    <tr>\n",
       "      <th>9</th>\n",
       "      <td>pharmacy</td>\n",
       "      <td>8</td>\n",
       "    </tr>\n",
       "  </tbody>\n",
       "</table>\n",
       "</div>"
      ],
      "text/plain": [
       "                  0     1\n",
       "0                    6531\n",
       "1           parking   273\n",
       "2        restaurant    66\n",
       "3         fast_food    36\n",
       "4              cafe    27\n",
       "5              bank    14\n",
       "6               bar    12\n",
       "7           shelter    11\n",
       "8  parking_entrance     9\n",
       "9          pharmacy     8"
      ]
     },
     "execution_count": 43,
     "metadata": {},
     "output_type": "execute_result"
    }
   ],
   "source": [
    "j2_b.pluck('properties').pluck('amenity', '').frequencies().topk(\n",
    "    10, lambda x: x[1]).to_dataframe().compute()"
   ]
  },
  {
   "cell_type": "markdown",
   "metadata": {},
   "source": [
    "### Find Problem in Data"
   ]
  },
  {
   "cell_type": "markdown",
   "metadata": {},
   "source": [
    "After perusing a few of the amenities we find that the amenity 'fuel' has some problems. There are synonymous representations:\n",
    "- '7-Eleven / 7-11', \n",
    "- 'FasGas / Fas Gas / Fast Gas Plus', \n",
    "- 'Petro Canada / PetroCanada / Petro-Canada'  \n",
    "- 'Safeway Gas Bar / Safeway Gasoline / Safeway Gas', \n",
    "- 'Hughes / hughes'\n",
    "- 'Esso / Esso Gas Bar'"
   ]
  },
  {
   "cell_type": "code",
   "execution_count": 44,
   "metadata": {
    "collapsed": false,
    "scrolled": true
   },
   "outputs": [
    {
     "data": {
      "text/html": [
       "<div>\n",
       "<table border=\"1\" class=\"dataframe\">\n",
       "  <thead>\n",
       "    <tr style=\"text-align: right;\">\n",
       "      <th></th>\n",
       "      <th>0</th>\n",
       "      <th>1</th>\n",
       "    </tr>\n",
       "  </thead>\n",
       "  <tbody>\n",
       "    <tr>\n",
       "      <th>0</th>\n",
       "      <td>Husky</td>\n",
       "      <td>2</td>\n",
       "    </tr>\n",
       "    <tr>\n",
       "      <th>1</th>\n",
       "      <td></td>\n",
       "      <td>1</td>\n",
       "    </tr>\n",
       "    <tr>\n",
       "      <th>2</th>\n",
       "      <td>Shell</td>\n",
       "      <td>1</td>\n",
       "    </tr>\n",
       "    <tr>\n",
       "      <th>3</th>\n",
       "      <td>Petro Canada</td>\n",
       "      <td>1</td>\n",
       "    </tr>\n",
       "  </tbody>\n",
       "</table>\n",
       "</div>"
      ],
      "text/plain": [
       "              0  1\n",
       "0         Husky  2\n",
       "1                1\n",
       "2         Shell  1\n",
       "3  Petro Canada  1"
      ]
     },
     "execution_count": 44,
     "metadata": {},
     "output_type": "execute_result"
    }
   ],
   "source": [
    "j2_b.pluck('properties').filter(lambda d: d.get('amenity','') == 'fuel').pluck('name','').frequencies().topk(\n",
    "    30, lambda x: x[1]).to_dataframe().compute()"
   ]
  },
  {
   "cell_type": "markdown",
   "metadata": {},
   "source": [
    "### Measure the problem"
   ]
  },
  {
   "cell_type": "markdown",
   "metadata": {},
   "source": [
    "We will abstract our count of cafés so that we can use it to measure our success on our new data set."
   ]
  },
  {
   "cell_type": "code",
   "execution_count": 45,
   "metadata": {
    "collapsed": true
   },
   "outputs": [],
   "source": [
    "def gas_count( j_b, top_n = 10 ):\n",
    "    df = j_b.pluck('properties').filter(   # get properties sub-doc \n",
    "    lambda d: d.get('amenity', '') == 'fuel').pluck(  # filter to get those in which amenity == cafe\n",
    "        'name', '__').frequencies().topk(              # from those documents take the names, and get the frequencies of those names\n",
    "            top_n, lambda x: x[1]).to_dataframe().compute() # take the 10 most frequent and make a dataframe from them\n",
    "    return df"
   ]
  },
  {
   "cell_type": "markdown",
   "metadata": {},
   "source": [
    "We verify that it works as expected:"
   ]
  },
  {
   "cell_type": "code",
   "execution_count": 46,
   "metadata": {
    "collapsed": false
   },
   "outputs": [
    {
     "data": {
      "text/html": [
       "<div>\n",
       "<table border=\"1\" class=\"dataframe\">\n",
       "  <thead>\n",
       "    <tr style=\"text-align: right;\">\n",
       "      <th></th>\n",
       "      <th>0</th>\n",
       "      <th>1</th>\n",
       "    </tr>\n",
       "  </thead>\n",
       "  <tbody>\n",
       "    <tr>\n",
       "      <th>0</th>\n",
       "      <td>Husky</td>\n",
       "      <td>2</td>\n",
       "    </tr>\n",
       "    <tr>\n",
       "      <th>1</th>\n",
       "      <td>__</td>\n",
       "      <td>1</td>\n",
       "    </tr>\n",
       "    <tr>\n",
       "      <th>2</th>\n",
       "      <td>Petro Canada</td>\n",
       "      <td>1</td>\n",
       "    </tr>\n",
       "    <tr>\n",
       "      <th>3</th>\n",
       "      <td>Shell</td>\n",
       "      <td>1</td>\n",
       "    </tr>\n",
       "  </tbody>\n",
       "</table>\n",
       "</div>"
      ],
      "text/plain": [
       "              0  1\n",
       "0         Husky  2\n",
       "1            __  1\n",
       "2  Petro Canada  1\n",
       "3         Shell  1"
      ]
     },
     "execution_count": 46,
     "metadata": {},
     "output_type": "execute_result"
    }
   ],
   "source": [
    "before = gas_count(j1_b, top_n = 30); before"
   ]
  },
  {
   "cell_type": "markdown",
   "metadata": {},
   "source": [
    "### Create solution"
   ]
  },
  {
   "cell_type": "code",
   "execution_count": 47,
   "metadata": {
    "collapsed": false
   },
   "outputs": [],
   "source": [
    "\n",
    "\n",
    "re_dict = { re.compile('7', re.IGNORECASE) : '7-Eleven',\n",
    "           re.compile('Fas.*Gas', re.IGNORECASE) : 'FasGas',\n",
    "           re.compile('Petro.*Canada', re.IGNORECASE) : 'Petro Canada',\n",
    "           re.compile('Safeway', re.IGNORECASE) : 'Safeway',\n",
    "           re.compile('Hughes', re.IGNORECASE) : 'Hughes',\n",
    "           re.compile('Esso', re.IGNORECASE) : 'Hughes'}\n",
    "\n",
    "\n",
    "def unify_gas(d):\n",
    "    dp = d['properties']\n",
    "    s = dp.get('name', '')\n",
    "    for k_re, name in re_dict.items():\n",
    "        if k_re.search(s):\n",
    "            dp['name'] = name\n",
    "    return d"
   ]
  },
  {
   "cell_type": "markdown",
   "metadata": {},
   "source": [
    "### Apply solution"
   ]
  },
  {
   "cell_type": "code",
   "execution_count": 48,
   "metadata": {
    "collapsed": true
   },
   "outputs": [],
   "source": [
    "j21_b = j2_b.map(unify_gas)"
   ]
  },
  {
   "cell_type": "markdown",
   "metadata": {},
   "source": [
    "We then use the same method to observe whether our new bag is correctly amended and it appears that it has as our beloved purveyor of espresso is properly credited with all its stores. (see below)"
   ]
  },
  {
   "cell_type": "markdown",
   "metadata": {},
   "source": [
    "### Measure result"
   ]
  },
  {
   "cell_type": "markdown",
   "metadata": {},
   "source": [
    "In the result below we see most, but not all, of our problems resolved"
   ]
  },
  {
   "cell_type": "code",
   "execution_count": 49,
   "metadata": {
    "collapsed": true
   },
   "outputs": [],
   "source": [
    "after = gas_count(j21_b,top_n = 30)"
   ]
  },
  {
   "cell_type": "code",
   "execution_count": 50,
   "metadata": {
    "collapsed": false
   },
   "outputs": [
    {
     "data": {
      "text/html": [
       "<div>\n",
       "<table border=\"1\" class=\"dataframe\">\n",
       "  <thead>\n",
       "    <tr style=\"text-align: right;\">\n",
       "      <th></th>\n",
       "      <th>Before</th>\n",
       "      <th>count_b</th>\n",
       "      <th>After</th>\n",
       "      <th>count_a</th>\n",
       "    </tr>\n",
       "  </thead>\n",
       "  <tbody>\n",
       "    <tr>\n",
       "      <th>0</th>\n",
       "      <td>Husky</td>\n",
       "      <td>2</td>\n",
       "      <td>Husky</td>\n",
       "      <td>2</td>\n",
       "    </tr>\n",
       "    <tr>\n",
       "      <th>1</th>\n",
       "      <td>__</td>\n",
       "      <td>1</td>\n",
       "      <td>__</td>\n",
       "      <td>1</td>\n",
       "    </tr>\n",
       "    <tr>\n",
       "      <th>2</th>\n",
       "      <td>Petro Canada</td>\n",
       "      <td>1</td>\n",
       "      <td>Petro Canada</td>\n",
       "      <td>1</td>\n",
       "    </tr>\n",
       "    <tr>\n",
       "      <th>3</th>\n",
       "      <td>Shell</td>\n",
       "      <td>1</td>\n",
       "      <td>Shell</td>\n",
       "      <td>1</td>\n",
       "    </tr>\n",
       "  </tbody>\n",
       "</table>\n",
       "</div>"
      ],
      "text/plain": [
       "         Before  count_b         After  count_a\n",
       "0         Husky        2         Husky        2\n",
       "1            __        1            __        1\n",
       "2  Petro Canada        1  Petro Canada        1\n",
       "3         Shell        1         Shell        1"
      ]
     },
     "execution_count": 50,
     "metadata": {},
     "output_type": "execute_result"
    }
   ],
   "source": [
    "_df = pd.concat([before, after],axis=1)\n",
    "_df.columns = [\"Before\",'count_b',\"After\",\"count_a\"]\n",
    "_df.count_a = _df.count_a.fillna(0).astype(int)\n",
    "_df"
   ]
  },
  {
   "cell_type": "markdown",
   "metadata": {
    "collapsed": true
   },
   "source": [
    "On visual inspection this looks corrected - it is easy to imagine that a computational approach might be necessary if we had more items to compare.\n",
    "\n",
    "We finish this iteration by writing our cleaned data."
   ]
  },
  {
   "cell_type": "code",
   "execution_count": 57,
   "metadata": {
    "collapsed": false
   },
   "outputs": [],
   "source": [
    "j21_b.map(json.dumps).to_textfiles('./clean2_*.json')"
   ]
  },
  {
   "cell_type": "code",
   "execution_count": 58,
   "metadata": {
    "collapsed": false
   },
   "outputs": [
    {
     "name": "stdout",
     "output_type": "stream",
     "text": [
      "-rw-r--r--  1 mannalytics  staff   431K  3 Feb 09:53 clean2_0.json\r\n",
      "-rw-r--r--  1 mannalytics  staff   432K  3 Feb 09:53 clean2_1.json\r\n",
      "-rw-r--r--  1 mannalytics  staff   430K  3 Feb 09:53 clean2_2.json\r\n",
      "-rw-r--r--  1 mannalytics  staff   431K  3 Feb 09:53 clean2_3.json\r\n",
      "-rw-r--r--  1 mannalytics  staff   431K  3 Feb 09:53 clean2_4.json\r\n",
      "-rw-r--r--  1 mannalytics  staff   431K  3 Feb 09:53 clean2_5.json\r\n",
      "-rw-r--r--  1 mannalytics  staff   431K  3 Feb 09:53 clean2_6.json\r\n",
      "-rw-r--r--  1 mannalytics  staff   431K  3 Feb 09:53 clean2_7.json\r\n"
     ]
    }
   ],
   "source": [
    "!ls -lh clean2_?.json"
   ]
  },
  {
   "cell_type": "markdown",
   "metadata": {},
   "source": [
    "# Data Exploration with mongo"
   ]
  },
  {
   "cell_type": "markdown",
   "metadata": {},
   "source": [
    "## Loading data into mongo"
   ]
  },
  {
   "cell_type": "markdown",
   "metadata": {},
   "source": [
    "We create a pymongo client object to communicate with the mongo database."
   ]
  },
  {
   "cell_type": "code",
   "execution_count": 59,
   "metadata": {
    "collapsed": true
   },
   "outputs": [],
   "source": [
    "from pymongo import MongoClient\n",
    "client = MongoClient('localhost:27017')\n",
    "mdb = client['examples']"
   ]
  },
  {
   "cell_type": "markdown",
   "metadata": {},
   "source": [
    "We want a clean collection so we drop any pre-existing data."
   ]
  },
  {
   "cell_type": "code",
   "execution_count": 60,
   "metadata": {
    "collapsed": true
   },
   "outputs": [],
   "source": [
    "mdb.p33.drop()"
   ]
  },
  {
   "cell_type": "markdown",
   "metadata": {},
   "source": [
    "Finally, we use `mongoimport` to read in the 8 json files we create above."
   ]
  },
  {
   "cell_type": "code",
   "execution_count": 61,
   "metadata": {
    "collapsed": false
   },
   "outputs": [
    {
     "name": "stderr",
     "output_type": "stream",
     "text": [
      "2017-02-03T09:54:34.046-0700\tconnected to: localhost\n",
      "2017-02-03T09:54:34.150-0700\timported 527 documents\n",
      "2017-02-03T09:54:34.172-0700\tconnected to: localhost\n",
      "2017-02-03T09:54:34.206-0700\timported 749 documents\n",
      "2017-02-03T09:54:34.228-0700\tconnected to: localhost\n",
      "2017-02-03T09:54:34.259-0700\timported 593 documents\n",
      "2017-02-03T09:54:34.280-0700\tconnected to: localhost\n",
      "2017-02-03T09:54:34.315-0700\timported 678 documents\n",
      "2017-02-03T09:54:34.337-0700\tconnected to: localhost\n",
      "2017-02-03T09:54:34.375-0700\timported 1097 documents\n",
      "2017-02-03T09:54:34.397-0700\tconnected to: localhost\n",
      "2017-02-03T09:54:34.432-0700\timported 1043 documents\n",
      "2017-02-03T09:54:34.453-0700\tconnected to: localhost\n",
      "2017-02-03T09:54:34.488-0700\timported 1117 documents\n",
      "2017-02-03T09:54:34.508-0700\tconnected to: localhost\n",
      "2017-02-03T09:54:34.545-0700\timported 1262 documents\n"
     ]
    }
   ],
   "source": [
    "%%bash\n",
    "ls clean2_?.json | while read col; do\n",
    "    mongoimport --db examples --collection p33 -j 8 --type json --file $col;\n",
    "done"
   ]
  },
  {
   "cell_type": "markdown",
   "metadata": {},
   "source": [
    "## Mongo queries"
   ]
  },
  {
   "cell_type": "markdown",
   "metadata": {},
   "source": [
    "We are now at a point where we can make queries on our database."
   ]
  },
  {
   "cell_type": "code",
   "execution_count": 68,
   "metadata": {
    "collapsed": false
   },
   "outputs": [
    {
     "data": {
      "text/plain": [
       "[{'properties': {'landuse': 'grass'}},\n",
       " {'properties': {'landuse': 'publicllotmentsllotments'}},\n",
       " {'properties': {'landuse': 'reservoir'}},\n",
       " {'properties': {'landuse': 'residential'}},\n",
       " {'properties': {'landuse': 'residential'}},\n",
       " {'properties': {'landuse': 'retail'}},\n",
       " {'properties': {'landuse': 'residential'}},\n",
       " {'properties': {'landuse': 'residential'}},\n",
       " {'properties': {'landuse': 'grass'}},\n",
       " {'properties': {'landuse': 'reservoir'}},\n",
       " {'properties': {'landuse': 'residential'}},\n",
       " {'properties': {'landuse': 'residential'}},\n",
       " {'properties': {'landuse': 'residential'}},\n",
       " {'properties': {'landuse': 'residential'}},\n",
       " {'properties': {'landuse': 'grass'}},\n",
       " {'properties': {'landuse': 'cemetery'}},\n",
       " {'properties': {'landuse': 'retail'}},\n",
       " {'properties': {'landuse': 'residential'}},\n",
       " {'properties': {'landuse': 'retail'}},\n",
       " {'properties': {'landuse': 'residential'}},\n",
       " {'properties': {'landuse': 'commercial'}},\n",
       " {'properties': {'landuse': 'residential'}},\n",
       " {'properties': {'landuse': 'residential'}},\n",
       " {'properties': {'landuse': 'residential'}},\n",
       " {'properties': {'landuse': 'residential'}},\n",
       " {'properties': {'landuse': 'residential'}},\n",
       " {'properties': {'landuse': 'residential'}},\n",
       " {'properties': {'landuse': 'grass'}},\n",
       " {'properties': {'landuse': 'reservoir'}},\n",
       " {'properties': {'landuse': 'commercial'}},\n",
       " {'properties': {'landuse': 'residential'}},\n",
       " {'properties': {'landuse': 'retail'}},\n",
       " {'properties': {'landuse': 'residential'}},\n",
       " {'properties': {'landuse': 'residential'}},\n",
       " {'properties': {'landuse': 'residential'}},\n",
       " {'properties': {'landuse': 'residential'}},\n",
       " {'properties': {'landuse': 'residential'}},\n",
       " {'properties': {'landuse': 'commercial'}},\n",
       " {'properties': {'landuse': 'commercial'}},\n",
       " {'properties': {'landuse': 'grass'}},\n",
       " {'properties': {'landuse': 'residential'}},\n",
       " {'properties': {'landuse': 'residential'}},\n",
       " {'properties': {'landuse': 'residential'}},\n",
       " {'properties': {'landuse': 'commercial'}},\n",
       " {'properties': {'landuse': 'residential'}},\n",
       " {'properties': {'landuse': 'residential'}},\n",
       " {'properties': {'landuse': 'residential'}},\n",
       " {'properties': {'landuse': 'residential'}},\n",
       " {'properties': {'landuse': 'residential'}},\n",
       " {'properties': {'landuse': 'residential'}},\n",
       " {'properties': {'landuse': 'residential'}},\n",
       " {'properties': {'landuse': 'residential'}},\n",
       " {'properties': {'landuse': 'residential'}},\n",
       " {'properties': {'landuse': 'residential'}},\n",
       " {'properties': {'landuse': 'commercial'}},\n",
       " {'properties': {'landuse': 'grass'}},\n",
       " {'properties': {'landuse': 'residential'}},\n",
       " {'properties': {'landuse': 'residential'}},\n",
       " {'properties': {'landuse': 'residential'}},\n",
       " {'properties': {'landuse': 'retail'}},\n",
       " {'properties': {'landuse': 'residential'}},\n",
       " {'properties': {'landuse': 'residential'}},\n",
       " {'properties': {'landuse': 'commercial'}},\n",
       " {'properties': {'landuse': 'retail'}},\n",
       " {'properties': {'landuse': 'public'}},\n",
       " {'properties': {'landuse': 'retail'}},\n",
       " {'properties': {'landuse': 'residential'}},\n",
       " {'properties': {'landuse': 'residential'}},\n",
       " {'properties': {'landuse': 'residential'}},\n",
       " {'properties': {'landuse': 'residential'}},\n",
       " {'properties': {'landuse': 'residential'}},\n",
       " {'properties': {'landuse': 'commercial'}},\n",
       " {'properties': {'landuse': 'commercial'}},\n",
       " {'properties': {'landuse': 'grass'}},\n",
       " {'properties': {'landuse': 'residential'}},\n",
       " {'properties': {'landuse': 'grass'}},\n",
       " {'properties': {'landuse': 'allotments'}},\n",
       " {'properties': {'landuse': 'grass'}},\n",
       " {'properties': {'landuse': 'residential'}},\n",
       " {'properties': {'landuse': 'allotments'}},\n",
       " {'properties': {'landuse': 'commercial'}},\n",
       " {'properties': {'landuse': 'grass'}},\n",
       " {'properties': {'landuse': 'grass'}},\n",
       " {'properties': {'landuse': 'commercial'}},\n",
       " {'properties': {'landuse': 'traffic_island'}},\n",
       " {'properties': {'landuse': 'grass'}},\n",
       " {'properties': {'landuse': 'grass'}},\n",
       " {'properties': {'landuse': 'grass'}},\n",
       " {'properties': {'landuse': 'grass'}},\n",
       " {'properties': {'landuse': 'grass'}},\n",
       " {'properties': {'landuse': 'grass'}},\n",
       " {'properties': {'landuse': 'grass'}},\n",
       " {'properties': {'landuse': 'grass'}},\n",
       " {'properties': {'landuse': 'traffic_island'}},\n",
       " {'properties': {'landuse': 'grass'}},\n",
       " {'properties': {'landuse': 'grass'}},\n",
       " {'properties': {'landuse': 'grass'}},\n",
       " {'properties': {'landuse': 'grass'}},\n",
       " {'properties': {'landuse': 'grass'}},\n",
       " {'properties': {'landuse': 'grass'}},\n",
       " {'properties': {'landuse': 'grass'}},\n",
       " {'properties': {'landuse': 'retail'}},\n",
       " {'properties': {'landuse': 'grass'}},\n",
       " {'properties': {'landuse': 'forest'}},\n",
       " {'properties': {'landuse': 'grass'}},\n",
       " {'properties': {'landuse': 'grass'}},\n",
       " {'properties': {'landuse': 'grass'}},\n",
       " {'properties': {'landuse': 'grass'}},\n",
       " {'properties': {'landuse': 'grass'}},\n",
       " {'properties': {'landuse': 'grass'}},\n",
       " {'properties': {'landuse': 'grass'}},\n",
       " {'properties': {'landuse': 'construction'}},\n",
       " {'properties': {'landuse': 'grass'}},\n",
       " {'properties': {'landuse': 'grass'}},\n",
       " {'properties': {'landuse': 'grass'}},\n",
       " {'properties': {'landuse': 'grass'}},\n",
       " {'properties': {'landuse': 'grass'}},\n",
       " {'properties': {'landuse': 'grass'}},\n",
       " {'properties': {'landuse': 'grass'}},\n",
       " {'properties': {'landuse': 'grass'}},\n",
       " {'properties': {'landuse': 'grass'}},\n",
       " {'properties': {'landuse': 'grass'}},\n",
       " {'properties': {'landuse': 'grass'}},\n",
       " {'properties': {'landuse': 'grass'}},\n",
       " {'properties': {'landuse': 'grass'}},\n",
       " {'properties': {'landuse': 'grass'}},\n",
       " {'properties': {'landuse': 'grass'}},\n",
       " {'properties': {'landuse': 'grass'}},\n",
       " {'properties': {'landuse': 'grass'}},\n",
       " {'properties': {'landuse': 'forest'}},\n",
       " {'properties': {'landuse': 'forest'}},\n",
       " {'properties': {'landuse': 'grass'}},\n",
       " {'properties': {'landuse': 'grass'}},\n",
       " {'properties': {'landuse': 'grass'}},\n",
       " {'properties': {'landuse': 'grass'}},\n",
       " {'properties': {'landuse': 'grass'}},\n",
       " {'properties': {'landuse': 'grass'}},\n",
       " {'properties': {'landuse': 'grass'}},\n",
       " {'properties': {'landuse': 'grass'}},\n",
       " {'properties': {'landuse': 'grass'}},\n",
       " {'properties': {'landuse': 'forest'}},\n",
       " {'properties': {'landuse': 'grass'}},\n",
       " {'properties': {'landuse': 'grass'}},\n",
       " {'properties': {'landuse': 'grass'}},\n",
       " {'properties': {'landuse': 'grass'}},\n",
       " {'properties': {'landuse': 'grass'}},\n",
       " {'properties': {'landuse': 'grass'}},\n",
       " {'properties': {'landuse': 'grass'}},\n",
       " {'properties': {'landuse': 'industrial'}},\n",
       " {'properties': {'landuse': 'grass'}},\n",
       " {'properties': {'landuse': 'grass'}},\n",
       " {'properties': {'landuse': 'grass'}},\n",
       " {'properties': {'landuse': 'brownfield'}},\n",
       " {'properties': {'landuse': 'grass'}},\n",
       " {'properties': {'landuse': 'grass'}},\n",
       " {'properties': {'landuse': 'grass'}},\n",
       " {'properties': {'landuse': 'grass'}},\n",
       " {'properties': {'landuse': 'grass'}},\n",
       " {'properties': {'landuse': 'grass'}},\n",
       " {'properties': {'landuse': 'grass'}},\n",
       " {'properties': {'landuse': 'grass'}}]"
      ]
     },
     "execution_count": 68,
     "metadata": {},
     "output_type": "execute_result"
    }
   ],
   "source": [
    "list(mdb.p33.find({\"properties.landuse\": {\"$exists\": 1}},{\"properties.landuse\": 1,'_id':0}))\n",
    "\n",
    "    "
   ]
  },
  {
   "cell_type": "code",
   "execution_count": 69,
   "metadata": {
    "collapsed": false
   },
   "outputs": [
    {
     "data": {
      "text/plain": [
       "[{'_id': None, 'count': 6905},\n",
       " {'_id': 'grass', 'count': 78},\n",
       " {'_id': 'residential', 'count': 47},\n",
       " {'_id': 'commercial', 'count': 11},\n",
       " {'_id': 'retail', 'count': 8},\n",
       " {'_id': 'forest', 'count': 4},\n",
       " {'_id': 'reservoir', 'count': 3},\n",
       " {'_id': 'traffic_island', 'count': 2},\n",
       " {'_id': 'allotments', 'count': 2},\n",
       " {'_id': 'brownfield', 'count': 1},\n",
       " {'_id': 'industrial', 'count': 1},\n",
       " {'_id': 'construction', 'count': 1},\n",
       " {'_id': 'public', 'count': 1},\n",
       " {'_id': 'cemetery', 'count': 1},\n",
       " {'_id': 'publicllotmentsllotments', 'count': 1}]"
      ]
     },
     "execution_count": 69,
     "metadata": {},
     "output_type": "execute_result"
    }
   ],
   "source": [
    "list(mdb.p33.aggregate([{\"$sortByCount\": \"$properties.landuse\"}, {\"$limit\": 30}]))\n",
    "    "
   ]
  },
  {
   "cell_type": "markdown",
   "metadata": {},
   "source": [
    "Of interest above is 'grass','forest' and possibly 'recreation_ground'. "
   ]
  },
  {
   "cell_type": "code",
   "execution_count": 70,
   "metadata": {
    "collapsed": false
   },
   "outputs": [
    {
     "data": {
      "text/plain": [
       "[{'_id': 'grass', 'count': 78}, {'_id': 'forest', 'count': 4}]"
      ]
     },
     "execution_count": 70,
     "metadata": {},
     "output_type": "execute_result"
    }
   ],
   "source": [
    "list(mdb.p33.aggregate([{\"$match\": {\"properties.landuse\" : {\"$in\": [\"grass\",\"forest\",\"recreation_ground\"]}}}, {\"$sortByCount\": \"$properties.landuse\"}, {\"$limit\": 30}]))\n",
    "    "
   ]
  },
  {
   "cell_type": "code",
   "execution_count": 71,
   "metadata": {
    "collapsed": false
   },
   "outputs": [
    {
     "data": {
      "text/plain": [
       "8"
      ]
     },
     "execution_count": 71,
     "metadata": {},
     "output_type": "execute_result"
    }
   ],
   "source": [
    "mdb.p33.count( {\"properties.name\": \"Starbucks\" })"
   ]
  },
  {
   "cell_type": "code",
   "execution_count": 72,
   "metadata": {
    "collapsed": false
   },
   "outputs": [
    {
     "data": {
      "text/plain": [
       "82"
      ]
     },
     "execution_count": 72,
     "metadata": {},
     "output_type": "execute_result"
    }
   ],
   "source": [
    "mdb.p33.count({\"properties.landuse\" : {\"$in\": [\"grass\",\"forest\",\"recreation_ground\"]}})"
   ]
  },
  {
   "cell_type": "code",
   "execution_count": 73,
   "metadata": {
    "collapsed": false
   },
   "outputs": [
    {
     "data": {
      "text/plain": [
       "90"
      ]
     },
     "execution_count": 73,
     "metadata": {},
     "output_type": "execute_result"
    }
   ],
   "source": [
    "mdb.p33.count({\"$or\": [{\"properties.landuse\" : {\"$in\": [\"grass\",\"forest\",\"recreation_ground\"]}},  {\"properties.name\": \"Starbucks\" }]})"
   ]
  },
  {
   "cell_type": "markdown",
   "metadata": {},
   "source": [
    "## Using Geopandas"
   ]
  },
  {
   "cell_type": "code",
   "execution_count": 74,
   "metadata": {
    "collapsed": true
   },
   "outputs": [],
   "source": [
    "import geopandas as gpd"
   ]
  },
  {
   "cell_type": "code",
   "execution_count": 75,
   "metadata": {
    "collapsed": false
   },
   "outputs": [],
   "source": [
    "### mongodb and geopandas play together!!\n",
    "iter = mdb.p33.find({\"$or\": [{\"properties.landuse\" : {\"$in\": [\"grass\",\"forest\",\"recreation_ground\"]}},  {\"properties.name\": \"Starbucks\" }]})\n",
    "gdf = gpd.GeoDataFrame.from_features(iter)"
   ]
  },
  {
   "cell_type": "code",
   "execution_count": 76,
   "metadata": {
    "collapsed": false
   },
   "outputs": [
    {
     "data": {
      "text/html": [
       "<div>\n",
       "<table border=\"1\" class=\"dataframe\">\n",
       "  <thead>\n",
       "    <tr style=\"text-align: right;\">\n",
       "      <th></th>\n",
       "      <th>amenity</th>\n",
       "      <th>area</th>\n",
       "      <th>building</th>\n",
       "      <th>changeset</th>\n",
       "      <th>cuisine</th>\n",
       "      <th>geometry</th>\n",
       "      <th>golf</th>\n",
       "      <th>id</th>\n",
       "      <th>internet_access</th>\n",
       "      <th>landcover</th>\n",
       "      <th>...</th>\n",
       "      <th>leisure</th>\n",
       "      <th>name</th>\n",
       "      <th>shop</th>\n",
       "      <th>smoking</th>\n",
       "      <th>sport</th>\n",
       "      <th>timestamp</th>\n",
       "      <th>type</th>\n",
       "      <th>uid</th>\n",
       "      <th>user</th>\n",
       "      <th>version</th>\n",
       "    </tr>\n",
       "  </thead>\n",
       "  <tbody>\n",
       "    <tr>\n",
       "      <th>0</th>\n",
       "      <td>NaN</td>\n",
       "      <td>NaN</td>\n",
       "      <td>NaN</td>\n",
       "      <td>42377364</td>\n",
       "      <td>NaN</td>\n",
       "      <td>POLYGON ((-113.483971 53.5373117, -113.4839442...</td>\n",
       "      <td>NaN</td>\n",
       "      <td>relation/6604944</td>\n",
       "      <td>NaN</td>\n",
       "      <td>NaN</td>\n",
       "      <td>...</td>\n",
       "      <td>NaN</td>\n",
       "      <td>NaN</td>\n",
       "      <td>NaN</td>\n",
       "      <td>NaN</td>\n",
       "      <td>NaN</td>\n",
       "      <td>2016-09-23T15:28:28Z</td>\n",
       "      <td>multipolygon</td>\n",
       "      <td>3274426</td>\n",
       "      <td>yegbin</td>\n",
       "      <td>1</td>\n",
       "    </tr>\n",
       "    <tr>\n",
       "      <th>1</th>\n",
       "      <td>NaN</td>\n",
       "      <td>NaN</td>\n",
       "      <td>NaN</td>\n",
       "      <td>42928935</td>\n",
       "      <td>NaN</td>\n",
       "      <td>POLYGON ((-113.4860984 53.5358928, -113.486112...</td>\n",
       "      <td>NaN</td>\n",
       "      <td>relation/6649249</td>\n",
       "      <td>NaN</td>\n",
       "      <td>NaN</td>\n",
       "      <td>...</td>\n",
       "      <td>NaN</td>\n",
       "      <td>NaN</td>\n",
       "      <td>NaN</td>\n",
       "      <td>NaN</td>\n",
       "      <td>NaN</td>\n",
       "      <td>2016-10-16T03:33:40Z</td>\n",
       "      <td>multipolygon</td>\n",
       "      <td>3274426</td>\n",
       "      <td>yegbin</td>\n",
       "      <td>1</td>\n",
       "    </tr>\n",
       "    <tr>\n",
       "      <th>2</th>\n",
       "      <td>NaN</td>\n",
       "      <td>NaN</td>\n",
       "      <td>NaN</td>\n",
       "      <td>42377364</td>\n",
       "      <td>NaN</td>\n",
       "      <td>POLYGON ((-113.4834185 53.5378388, -113.483398...</td>\n",
       "      <td>NaN</td>\n",
       "      <td>relation/6604943</td>\n",
       "      <td>NaN</td>\n",
       "      <td>NaN</td>\n",
       "      <td>...</td>\n",
       "      <td>NaN</td>\n",
       "      <td>NaN</td>\n",
       "      <td>NaN</td>\n",
       "      <td>NaN</td>\n",
       "      <td>NaN</td>\n",
       "      <td>2016-09-23T15:28:28Z</td>\n",
       "      <td>multipolygon</td>\n",
       "      <td>3274426</td>\n",
       "      <td>yegbin</td>\n",
       "      <td>1</td>\n",
       "    </tr>\n",
       "    <tr>\n",
       "      <th>3</th>\n",
       "      <td>NaN</td>\n",
       "      <td>NaN</td>\n",
       "      <td>NaN</td>\n",
       "      <td>42928935</td>\n",
       "      <td>NaN</td>\n",
       "      <td>POLYGON ((-113.4836236 53.5359531, -113.483517...</td>\n",
       "      <td>NaN</td>\n",
       "      <td>relation/6649251</td>\n",
       "      <td>NaN</td>\n",
       "      <td>NaN</td>\n",
       "      <td>...</td>\n",
       "      <td>NaN</td>\n",
       "      <td>NaN</td>\n",
       "      <td>NaN</td>\n",
       "      <td>NaN</td>\n",
       "      <td>NaN</td>\n",
       "      <td>2016-10-16T03:33:40Z</td>\n",
       "      <td>multipolygon</td>\n",
       "      <td>3274426</td>\n",
       "      <td>yegbin</td>\n",
       "      <td>1</td>\n",
       "    </tr>\n",
       "    <tr>\n",
       "      <th>4</th>\n",
       "      <td>NaN</td>\n",
       "      <td>NaN</td>\n",
       "      <td>NaN</td>\n",
       "      <td>42928935</td>\n",
       "      <td>NaN</td>\n",
       "      <td>POLYGON ((-113.4846507 53.5374631, -113.484631...</td>\n",
       "      <td>NaN</td>\n",
       "      <td>relation/6649253</td>\n",
       "      <td>NaN</td>\n",
       "      <td>NaN</td>\n",
       "      <td>...</td>\n",
       "      <td>NaN</td>\n",
       "      <td>NaN</td>\n",
       "      <td>NaN</td>\n",
       "      <td>NaN</td>\n",
       "      <td>NaN</td>\n",
       "      <td>2016-10-16T03:33:40Z</td>\n",
       "      <td>multipolygon</td>\n",
       "      <td>3274426</td>\n",
       "      <td>yegbin</td>\n",
       "      <td>1</td>\n",
       "    </tr>\n",
       "  </tbody>\n",
       "</table>\n",
       "<p>5 rows × 23 columns</p>\n",
       "</div>"
      ],
      "text/plain": [
       "  amenity area building changeset cuisine  \\\n",
       "0     NaN  NaN      NaN  42377364     NaN   \n",
       "1     NaN  NaN      NaN  42928935     NaN   \n",
       "2     NaN  NaN      NaN  42377364     NaN   \n",
       "3     NaN  NaN      NaN  42928935     NaN   \n",
       "4     NaN  NaN      NaN  42928935     NaN   \n",
       "\n",
       "                                            geometry golf                id  \\\n",
       "0  POLYGON ((-113.483971 53.5373117, -113.4839442...  NaN  relation/6604944   \n",
       "1  POLYGON ((-113.4860984 53.5358928, -113.486112...  NaN  relation/6649249   \n",
       "2  POLYGON ((-113.4834185 53.5378388, -113.483398...  NaN  relation/6604943   \n",
       "3  POLYGON ((-113.4836236 53.5359531, -113.483517...  NaN  relation/6649251   \n",
       "4  POLYGON ((-113.4846507 53.5374631, -113.484631...  NaN  relation/6649253   \n",
       "\n",
       "  internet_access landcover   ...   leisure name shop smoking sport  \\\n",
       "0             NaN       NaN   ...       NaN  NaN  NaN     NaN   NaN   \n",
       "1             NaN       NaN   ...       NaN  NaN  NaN     NaN   NaN   \n",
       "2             NaN       NaN   ...       NaN  NaN  NaN     NaN   NaN   \n",
       "3             NaN       NaN   ...       NaN  NaN  NaN     NaN   NaN   \n",
       "4             NaN       NaN   ...       NaN  NaN  NaN     NaN   NaN   \n",
       "\n",
       "              timestamp          type      uid    user version  \n",
       "0  2016-09-23T15:28:28Z  multipolygon  3274426  yegbin       1  \n",
       "1  2016-10-16T03:33:40Z  multipolygon  3274426  yegbin       1  \n",
       "2  2016-09-23T15:28:28Z  multipolygon  3274426  yegbin       1  \n",
       "3  2016-10-16T03:33:40Z  multipolygon  3274426  yegbin       1  \n",
       "4  2016-10-16T03:33:40Z  multipolygon  3274426  yegbin       1  \n",
       "\n",
       "[5 rows x 23 columns]"
      ]
     },
     "execution_count": 76,
     "metadata": {},
     "output_type": "execute_result"
    }
   ],
   "source": [
    "gdf.head()"
   ]
  },
  {
   "cell_type": "code",
   "execution_count": 77,
   "metadata": {
    "collapsed": false
   },
   "outputs": [
    {
     "data": {
      "text/plain": [
       "Index(['amenity', 'area', 'building', 'changeset', 'cuisine', 'geometry',\n",
       "       'golf', 'id', 'internet_access', 'landcover', 'landuse', 'leaf_cycle',\n",
       "       'leaf_type', 'leisure', 'name', 'shop', 'smoking', 'sport', 'timestamp',\n",
       "       'type', 'uid', 'user', 'version'],\n",
       "      dtype='object')"
      ]
     },
     "execution_count": 77,
     "metadata": {},
     "output_type": "execute_result"
    }
   ],
   "source": [
    "gdf.columns.T"
   ]
  },
  {
   "cell_type": "markdown",
   "metadata": {},
   "source": [
    "The CRS (Coordinate Reference System) needs to be set in order to calculate areas in units such a meters.\n",
    "\n",
    "[epsg:3395 description](http://epsg-registry.org/report.htm?type=selection&entity=urn:ogc:def:crs:EPSG::3395&reportDetail=short&style=urn:uuid:report-style:default-with-code&style_name=OGP%20Default%20With%20Code&title=EPSG:3395) uses meters\n",
    "\n",
    "\n",
    "[epsg:4326 description](https://nsidc.org/data/atlas/epsg_4326.html) uses degrees"
   ]
  },
  {
   "cell_type": "code",
   "execution_count": 78,
   "metadata": {
    "collapsed": false,
    "scrolled": true
   },
   "outputs": [
    {
     "data": {
      "text/plain": [
       "0     13663.380438\n",
       "1     11152.403134\n",
       "2     46627.977961\n",
       "3     41318.442377\n",
       "4      1510.748314\n",
       "5     10099.030055\n",
       "6        72.483682\n",
       "7      1754.721693\n",
       "8      3800.510581\n",
       "10    11191.572440\n",
       "11       58.307784\n",
       "12     3490.517269\n",
       "13     7888.799282\n",
       "14      603.793332\n",
       "15     2335.765788\n",
       "16     1373.312951\n",
       "17    17998.011654\n",
       "18      877.516070\n",
       "19    11288.288160\n",
       "20     6141.011459\n",
       "21     1660.996853\n",
       "22     1019.015080\n",
       "23    18674.578157\n",
       "24     1500.427424\n",
       "25    33310.265895\n",
       "26     1474.224958\n",
       "27     4152.648554\n",
       "28     2739.594356\n",
       "29      695.271553\n",
       "30    14923.690965\n",
       "          ...     \n",
       "53    11170.641856\n",
       "54     1642.733790\n",
       "55     7685.620192\n",
       "56    30855.799603\n",
       "57     1473.036365\n",
       "58     2063.606945\n",
       "59     1107.230951\n",
       "60    23458.078527\n",
       "61     1318.376829\n",
       "62    28613.254342\n",
       "63     3055.695877\n",
       "64      685.182572\n",
       "65      664.144859\n",
       "66     1626.562098\n",
       "67    13045.153144\n",
       "68     1252.240218\n",
       "69     3487.044182\n",
       "70     2364.266429\n",
       "71     3661.845599\n",
       "72    61535.830353\n",
       "73    12828.965702\n",
       "74      348.148446\n",
       "75     6038.596206\n",
       "76     1815.257599\n",
       "77      559.315114\n",
       "78     2005.041732\n",
       "79    14907.194082\n",
       "80     1545.260434\n",
       "81      804.188988\n",
       "82     1542.484054\n",
       "dtype: float64"
      ]
     },
     "execution_count": 78,
     "metadata": {},
     "output_type": "execute_result"
    }
   ],
   "source": [
    "gdf.crs = {'init': 'epsg:4326', 'no_defs': True}\n",
    "gdf.loc[gdf.landuse.isin(['grass','forest']), ['landuse','geometry']].to_crs({'init': 'epsg:3395'}).area"
   ]
  },
  {
   "cell_type": "code",
   "execution_count": 79,
   "metadata": {
    "collapsed": false,
    "scrolled": true
   },
   "outputs": [],
   "source": [
    "gdf.crs = {'init': 'epsg:4326', 'no_defs': True}\n",
    "starbucks_locations = gdf.loc[gdf.name == \"Starbucks\",:].centroid"
   ]
  },
  {
   "cell_type": "markdown",
   "metadata": {},
   "source": [
    "## Mapping Starbucks with Folium"
   ]
  },
  {
   "cell_type": "code",
   "execution_count": 95,
   "metadata": {
    "collapsed": false
   },
   "outputs": [],
   "source": [
    "import folium\n",
    "from folium import plugins\n",
    "\n",
    "map_centre = [53.54, -113.5116757]\n",
    "\n",
    "e_map = folium.Map(location= [53.54, -113.5116757], zoom_start=15)\n",
    "marker_cluster = folium.MarkerCluster().add_to(e_map)\n",
    "\n",
    "for d in starbucks_locations:  \n",
    "    folium.Marker(\n",
    "        [d.y, d.x], icon=folium.Icon(color='green'),\n",
    "        popup='Starbucks').add_to(marker_cluster)\n",
    "\n",
    "# e_map.save('e_map.html')"
   ]
  },
  {
   "cell_type": "code",
   "execution_count": 96,
   "metadata": {
    "collapsed": false,
    "scrolled": false
   },
   "outputs": [
    {
     "data": {
      "text/html": [
       "<div style=\"width:100%;\"><div style=\"position:relative;width:100%;height:0;padding-bottom:60%;\"><iframe src=\"data:text/html;base64,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\" style=\"position:absolute;width:100%;height:100%;left:0;top:0;\"></iframe></div></div>"
      ],
      "text/plain": [
       "<folium.folium.Map at 0x1111fe8d0>"
      ]
     },
     "execution_count": 96,
     "metadata": {},
     "output_type": "execute_result"
    }
   ],
   "source": [
    "e_map"
   ]
  },
  {
   "cell_type": "markdown",
   "metadata": {},
   "source": [
    "## Mapping Parks and Greenspaces with Folium"
   ]
  },
  {
   "cell_type": "code",
   "execution_count": 97,
   "metadata": {
    "collapsed": true
   },
   "outputs": [],
   "source": [
    "# cut and pasted from http://andrewgaidus.com/leaflet_webmaps_python/ - thank-you Andrew Gaidus!\n",
    "\n",
    "import pysal as ps\n",
    "def add_choropleth(mapobj, gdf, id_field, value_field, fill_color = 'YlOrRd', fill_opacity = 0.6, \n",
    "                    line_opacity = 0.2, num_classes = 5, classifier = 'Fisher_Jenks'):\n",
    "    #Allow for 3 Pysal map classifiers to display data\n",
    "    #Generate list of breakpoints using specified classification scheme. List of breakpoint will be input to choropleth function\n",
    "    if classifier == 'Fisher_Jenks':\n",
    "        threshold_scale=ps.esda.mapclassify.Fisher_Jenks(gdf[value_field], k = num_classes).bins.tolist()\n",
    "    if classifier == 'Equal_Interval':\n",
    "        threshold_scale=ps.esda.mapclassify.Equal_Interval(gdf[value_field], k = num_classes).bins.tolist()\n",
    "    if classifier == 'Quantiles':\n",
    "        threshold_scale=ps.esda.mapclassify.Quantiles(gdf[value_field], k = num_classes).bins.tolist()\n",
    "    \n",
    "    #Convert the GeoDataFrame to WGS84 coordinate reference system\n",
    "    gdf_wgs84 = gdf.to_crs({'init': 'epsg:4326'})\n",
    "    \n",
    "    #Call Folium choropleth function, specifying the geometry as a the WGS84 dataframe converted to GeoJSON, the data as \n",
    "    #the GeoDataFrame, the columns as the user-specified id field and and value field.\n",
    "    #key_on field refers to the id field within the GeoJSON string\n",
    "    mapobj.choropleth(geo_str = gdf_wgs84.to_json(), data = gdf,\n",
    "                columns = [id_field, value_field], key_on = 'feature.properties.{}'.format(id_field),\n",
    "                fill_color = fill_color, fill_opacity = fill_opacity, line_opacity = line_opacity,  \n",
    "                threshold_scale = threshold_scale)\n",
    "    return mapobj"
   ]
  },
  {
   "cell_type": "code",
   "execution_count": 98,
   "metadata": {
    "collapsed": false
   },
   "outputs": [
    {
     "data": {
      "text/plain": [
       "[{'_id': None, 'count': 6957},\n",
       " {'_id': 'park', 'count': 59},\n",
       " {'_id': 'pitch', 'count': 27},\n",
       " {'_id': 'picnic_table', 'count': 5},\n",
       " {'_id': 'playground', 'count': 4},\n",
       " {'_id': 'swimming_pool', 'count': 4},\n",
       " {'_id': 'ice_rink', 'count': 2},\n",
       " {'_id': 'stadium', 'count': 2},\n",
       " {'_id': 'common', 'count': 2},\n",
       " {'_id': 'golf_course', 'count': 1}]"
      ]
     },
     "execution_count": 98,
     "metadata": {},
     "output_type": "execute_result"
    }
   ],
   "source": [
    "list(mdb.p33.aggregate([{\"$sortByCount\": \"$properties.leisure\"}, {\"$limit\": 10}]))\n",
    "    "
   ]
  },
  {
   "cell_type": "code",
   "execution_count": 99,
   "metadata": {
    "collapsed": false
   },
   "outputs": [],
   "source": [
    "### mongodb and geopandas play together!!\n",
    "iter = mdb.p33.find({\"$or\": [{\"properties.leisure\" : {\"$in\": [\"pitch\",\"forest\",\"recreation_ground\"]}},  {\"properties.name\": \"Starbucks\" }]})\n",
    "gdf = gpd.GeoDataFrame.from_features(iter)"
   ]
  },
  {
   "cell_type": "markdown",
   "metadata": {},
   "source": [
    "### Now let's consider pitches, parks, playgrounds"
   ]
  },
  {
   "cell_type": "code",
   "execution_count": 100,
   "metadata": {
    "collapsed": false
   },
   "outputs": [],
   "source": [
    "iter = mdb.p33.find({\"properties.leisure\" : {\"$in\": [\"pitch\",\"park\",\"playground\"]}})\n",
    "ppp_gdf = gpd.GeoDataFrame.from_features(iter)"
   ]
  },
  {
   "cell_type": "code",
   "execution_count": 105,
   "metadata": {
    "collapsed": false
   },
   "outputs": [],
   "source": [
    "ppp_gdf['p_area'] = ppp_gdf.area.astype(float)\n",
    "\n"
   ]
  },
  {
   "cell_type": "code",
   "execution_count": 108,
   "metadata": {
    "collapsed": false,
    "scrolled": true
   },
   "outputs": [
    {
     "data": {
      "text/html": [
       "<div style=\"width:100%;\"><div style=\"position:relative;width:100%;height:0;padding-bottom:60%;\"><iframe src=\"data:text/html;base64,CiAgICAgICAgPCFET0NUWVBFIGh0bWw+CiAgICAgICAgPGhlYWQ+CiAgICAgICAgICAgIAogICAgICAgIAogICAgICAgICAgICA8bWV0YSBodHRwLWVxdWl2PSJjb250ZW50LXR5cGUiIGNvbnRlbnQ9InRleHQvaHRtbDsgY2hhcnNldD1VVEYtOCIgLz4KICAgICAgICAKICAgICAgICAgICAgCiAgICAgICAgCiAgICAgICAgICAgIDxzY3JpcHQgc3JjPSJodHRwczovL2NkbmpzLmNsb3VkZmxhcmUuY29tL2FqYXgvbGlicy9sZWFmbGV0LzAuNy4zL2xlYWZsZXQuanMiPjwvc2NyaXB0PgogICAgICAgIAogICAgICAgIAogICAgICAgIAogICAgICAgICAgICAKICAgICAgICAKICAgICAgICAgICAgPHNjcmlwdCBzcmM9Imh0dHBzOi8vYWpheC5nb29nbGVhcGlzLmNvbS9hamF4L2xpYnMvanF1ZXJ5LzEuMTEuMS9qcXVlcnkubWluLmpzIj48L3NjcmlwdD4KICAgICAgICAKICAgICAgICAKICAgICAgICAKICAgICAgICAgICAgCiAgICAgICAgCiAgICAgICAgICAgIDxzY3JpcHQgc3JjPSJodHRwczovL21heGNkbi5ib290c3RyYXBjZG4uY29tL2Jvb3RzdHJhcC8zLjIuMC9qcy9ib290c3RyYXAubWluLmpzIj48L3NjcmlwdD4KICAgICAgICAKICAgICAgICAKICAgICAgICAKICAgICAgICAgICAgCiAgICAgICAgCiAgICAgICAgICAgIDxzY3JpcHQgc3JjPSJodHRwczovL2NkbmpzLmNsb3VkZmxhcmUuY29tL2FqYXgvbGlicy9MZWFmbGV0LmF3ZXNvbWUtbWFya2Vycy8yLjAuMi9sZWFmbGV0LmF3ZXNvbWUtbWFya2Vycy5taW4uanMiPjwvc2NyaXB0PgogICAgICAgIAogICAgICAgIAogICAgICAgIAogICAgICAgICAgICAKICAgICAgICAKICAgICAgICAgICAgPHNjcmlwdCBzcmM9Imh0dHBzOi8vY2RuanMuY2xvdWRmbGFyZS5jb20vYWpheC9saWJzL2xlYWZsZXQubWFya2VyY2x1c3Rlci8wLjQuMC9sZWFmbGV0Lm1hcmtlcmNsdXN0ZXItc3JjLmpzIj48L3NjcmlwdD4KICAgICAgICAKICAgICAgICAKICAgICAgICAKICAgICAgICAgICAgCiAgICAgICAgCiAgICAgICAgICAgIDxzY3JpcHQgc3JjPSJodHRwczovL2NkbmpzLmNsb3VkZmxhcmUuY29tL2FqYXgvbGlicy9sZWFmbGV0Lm1hcmtlcmNsdXN0ZXIvMC40LjAvbGVhZmxldC5tYXJrZXJjbHVzdGVyLmpzIj48L3NjcmlwdD4KICAgICAgICAKICAgICAgICAKICAgICAgICAKICAgICAgICAgICAgCiAgICAgICAgCiAgICAgICAgICAgIDxsaW5rIHJlbD0ic3R5bGVzaGVldCIgaHJlZj0iaHR0cHM6Ly9jZG5qcy5jbG91ZGZsYXJlLmNvbS9hamF4L2xpYnMvbGVhZmxldC8wLjcuMy9sZWFmbGV0LmNzcyIgLz4KICAgICAgICAKICAgICAgICAKICAgICAgICAKICAgICAgICAgICAgCiAgICAgICAgCiAgICAgICAgICAgIDxsaW5rIHJlbD0ic3R5bGVzaGVldCIgaHJlZj0iaHR0cHM6Ly9tYXhjZG4uYm9vdHN0cmFwY2RuLmNvbS9ib290c3RyYXAvMy4yLjAvY3NzL2Jvb3RzdHJhcC5taW4uY3NzIiAvPgogICAgICAgIAogICAgICAgIAogICAgICAgIAogICAgICAgICAgICAKICAgICAgICAKICAgICAgICAgICAgPGxpbmsgcmVsPSJzdHlsZXNoZWV0IiBocmVmPSJodHRwczovL21heGNkbi5ib290c3RyYXBjZG4uY29tL2Jvb3RzdHJhcC8zLjIuMC9jc3MvYm9vdHN0cmFwLXRoZW1lLm1pbi5jc3MiIC8+CiAgICAgICAgCiAgICAgICAgCiAgICAgICAgCiAgICAgICAgICAgIAogICAgICAgIAogICAgICAgICAgICA8bGluayByZWw9InN0eWxlc2hlZXQiIGhyZWY9Imh0dHBzOi8vbWF4Y2RuLmJvb3RzdHJhcGNkbi5jb20vZm9udC1hd2Vzb21lLzQuMS4wL2Nzcy9mb250LWF3ZXNvbWUubWluLmNzcyIgLz4KICAgICAgICAKICAgICAgICAKICAgICAgICAKICAgICAgICAgICAgCiAgICAgICAgCiAgICAgICAgICAgIDxsaW5rIHJlbD0ic3R5bGVzaGVldCIgaHJlZj0iaHR0cHM6Ly9jZG5qcy5jbG91ZGZsYXJlLmNvbS9hamF4L2xpYnMvTGVhZmxldC5hd2Vzb21lLW1hcmtlcnMvMi4wLjIvbGVhZmxldC5hd2Vzb21lLW1hcmtlcnMuY3NzIiAvPgogICAgICAgIAogICAgICAgIAogICAgICAgIAogICAgICAgICAgICAKICAgICAgICAKICAgICAgICAgICAgPGxpbmsgcmVsPSJzdHlsZXNoZWV0IiBocmVmPSJodHRwczovL2NkbmpzLmNsb3VkZmxhcmUuY29tL2FqYXgvbGlicy9sZWFmbGV0Lm1hcmtlcmNsdXN0ZXIvMC40LjAvTWFya2VyQ2x1c3Rlci5EZWZhdWx0LmNzcyIgLz4KICAgICAgICAKICAgICAgICAKICAgICAgICAKICAgICAgICAgICAgCiAgICAgICAgCiAgICAgICAgICAgIDxsaW5rIHJlbD0ic3R5bGVzaGVldCIgaHJlZj0iaHR0cHM6Ly9jZG5qcy5jbG91ZGZsYXJlLmNvbS9hamF4L2xpYnMvbGVhZmxldC5tYXJrZXJjbHVzdGVyLzAuNC4wL01hcmtlckNsdXN0ZXIuY3NzIiAvPgogICAgICAgIAogICAgICAgIAogICAgICAgIAogICAgICAgICAgICAKICAgICAgICAKICAgICAgICAgICAgPGxpbmsgcmVsPSJzdHlsZXNoZWV0IiBocmVmPSJodHRwczovL3Jhdy5naXRodWJ1c2VyY29udGVudC5jb20vcHl0aG9uLXZpc3VhbGl6YXRpb24vZm9saXVtL21hc3Rlci9mb2xpdW0vdGVtcGxhdGVzL2xlYWZsZXQuYXdlc29tZS5yb3RhdGUuY3NzIiAvPgogICAgICAgIAogICAgICAgIAogICAgICAgIAogICAgICAgICAgICAKICAgICAgICAgICAgPHN0eWxlPgoKICAgICAgICAgICAgaHRtbCwgYm9keSB7CiAgICAgICAgICAgICAgICB3aWR0aDogMTAwJTsKICAgICAgICAgICAgICAgIGhlaWdodDogMTAwJTsKICAgICAgICAgICAgICAgIG1hcmdpbjogMDsKICAgICAgICAgICAgICAgIHBhZGRpbmc6IDA7CiAgICAgICAgICAgICAgICB9CgogICAgICAgICAgICAjbWFwIHsKICAgICAgICAgICAgICAgIHBvc2l0aW9uOmFic29sdXRlOwogICAgICAgICAgICAgICAgdG9wOjA7CiAgICAgICAgICAgICAgICBib3R0b206MDsKICAgICAgICAgICAgICAgIHJpZ2h0OjA7CiAgICAgICAgICAgICAgICBsZWZ0OjA7CiAgICAgICAgICAgICAgICB9CiAgICAgICAgICAgIDwvc3R5bGU+CiAgICAgICAgICAgIAogICAgICAgIAogICAgICAgICAgICAKICAgICAgICAgICAgPHN0eWxlPiAjbWFwX2Y1MjdjNTM5ZmM4YTRkMTU5MTI5OWI4N2JhYWI0MzY2IHsKICAgICAgICAgICAgICAgIHBvc2l0aW9uIDogcmVsYXRpdmU7CiAgICAgICAgICAgICAgICB3aWR0aCA6IDEwMC4wJTsKICAgICAgICAgICAgICAgIGhlaWdodDogMTAwLjAlOwogICAgICAgICAgICAgICAgbGVmdDogMC4wJTsKICAgICAgICAgICAgICAgIHRvcDogMC4wJTsKICAgICAgICAgICAgICAgIH0KICAgICAgICAgICAgPC9zdHlsZT4KICAgICAgICAKICAgICAgICAKICAgICAgICAgICAgCiAgICAgICAgCiAgICAgICAgICAgIDxzY3JpcHQgc3JjPSJodHRwczovL2NkbmpzLmNsb3VkZmxhcmUuY29tL2FqYXgvbGlicy9kMy8zLjUuNS9kMy5taW4uanMiPjwvc2NyaXB0PgogICAgICAgIAogICAgICAgIAogICAgICAgIAogICAgICAgIAogICAgICAgIDwvaGVhZD4KICAgICAgICA8Ym9keT4KICAgICAgICAgICAgCiAgICAgICAgCiAgICAgICAgICAgIAogICAgICAgICAgICA8ZGl2IGNsYXNzPSJmb2xpdW0tbWFwIiBpZD0ibWFwX2Y1MjdjNTM5ZmM4YTRkMTU5MTI5OWI4N2JhYWI0MzY2IiA+PC9kaXY+CiAgICAgICAgCiAgICAgICAgCiAgICAgICAgCiAgICAgICAgPC9ib2R5PgogICAgICAgIDxzY3JpcHQ+CiAgICAgICAgICAgIAogICAgICAgIAogICAgICAgICAgICAKCiAgICAgICAgICAgIHZhciBzb3V0aFdlc3QgPSBMLmxhdExuZygtOTAsIC0xODApOwogICAgICAgICAgICB2YXIgbm9ydGhFYXN0ID0gTC5sYXRMbmcoOTAsIDE4MCk7CiAgICAgICAgICAgIHZhciBib3VuZHMgPSBMLmxhdExuZ0JvdW5kcyhzb3V0aFdlc3QsIG5vcnRoRWFzdCk7CgogICAgICAgICAgICB2YXIgbWFwX2Y1MjdjNTM5ZmM4YTRkMTU5MTI5OWI4N2JhYWI0MzY2ID0gTC5tYXAoJ21hcF9mNTI3YzUzOWZjOGE0ZDE1OTEyOTliODdiYWFiNDM2NicsIHsKICAgICAgICAgICAgICAgICAgICAgICAgICAgICAgICAgICAgICAgICAgIGNlbnRlcjpbNTMuNTQsLTExMy41MTE2NzU3XSwKICAgICAgICAgICAgICAgICAgICAgICAgICAgICAgICAgICAgICAgICAgIHpvb206IDE1LAogICAgICAgICAgICAgICAgICAgICAgICAgICAgICAgICAgICAgICAgICAgbWF4Qm91bmRzOiBib3VuZHMsCiAgICAgICAgICAgICAgICAgICAgICAgICAgICAgICAgICAgICAgICAgICBsYXllcnM6IFtdLAogICAgICAgICAgICAgICAgICAgICAgICAgICAgICAgICAgICAgICAgICAgY3JzOiBMLkNSUy5FUFNHMzg1NwogICAgICAgICAgICAgICAgICAgICAgICAgICAgICAgICAgICAgICAgIH0pOwogICAgICAgICAgICAKICAgICAgICAKICAgICAgICAKICAgICAgICAgICAgCiAgICAgICAgICAgIHZhciB0aWxlX2xheWVyXzI1ZjliZmE4NDNlODRjNWY5OWIxMWQ1ZWNiMjQzMTYzID0gTC50aWxlTGF5ZXIoCiAgICAgICAgICAgICAgICAnaHR0cHM6Ly97c30udGlsZS5vcGVuc3RyZWV0bWFwLm9yZy97en0ve3h9L3t5fS5wbmcnLAogICAgICAgICAgICAgICAgewogICAgICAgICAgICAgICAgICAgIG1heFpvb206IDE4LAogICAgICAgICAgICAgICAgICAgIG1pblpvb206IDEsCiAgICAgICAgICAgICAgICAgICAgYXR0cmlidXRpb246ICdEYXRhIGJ5IDxhIGhyZWY9Imh0dHA6Ly9vcGVuc3RyZWV0bWFwLm9yZyI+T3BlblN0cmVldE1hcDwvYT4sIHVuZGVyIDxhIGhyZWY9Imh0dHA6Ly93d3cub3BlbnN0cmVldG1hcC5vcmcvY29weXJpZ2h0Ij5PRGJMPC9hPi4nLAogICAgICAgICAgICAgICAgICAgIGRldGVjdFJldGluYTogZmFsc2UKICAgICAgICAgICAgICAgICAgICB9CiAgICAgICAgICAgICAgICApLmFkZFRvKG1hcF9mNTI3YzUzOWZjOGE0ZDE1OTEyOTliODdiYWFiNDM2Nik7CgogICAgICAgIAogICAgICAgIAogICAgICAgICAgICAKICAgICAgICAgICAgICAgIHZhciBnZW9fanNvbl81N2NiZGQxYjMzNmU0ZTFjODM3YTYyMDNmYmMyYmRlNyA9IEwuZ2VvSnNvbigKICAgICAgICAgICAgICAgICAgICB7ImZlYXR1cmVzIjogW3siZ2VvbWV0cnkiOiB7ImNvb3JkaW5hdGVzIjogW1tbLTExMy40Njc3MjE1LCA1My41MDU1NTcxXSwgWy0xMTMuNDY3NTA3MDAwMDAwMDEsIDUzLjUwNTc5Ml0sIFstMTEzLjQ2Njk4MzQwMDAwMDAyLCA1My41MDYxMDg1XSwgWy0xMTMuNDY2NTU0MiwgNTMuNTA2MTQ5M10sIFstMTEzLjQ2NjAzMDcsIDUzLjUwNjM4OTJdLCBbLTExMy40NjU1NDE0LCA1My41MDY1MDY2MDAwMDAwMV0sIFstMTEzLjQ2NTI1ODIwMDAwMDAxLCA1My41MDY1NDc1XSwgWy0xMTMuNDY1MDQzNiwgNTMuNTA2NjgwMl0sIFstMTEzLjQ2NDkxNDksIDUzLjUwNjYxMzhdLCBbLTExMy40NjMyMDY4LCA1My41MDU3NzE1XSwgWy0xMTMuNDYyMDkxLCA1My41MDU1NTJdLCBbLTExMy40NjE0NzMxLCA1My41MDYwMDY0XSwgWy0xMTMuNDU5MjU4NiwgNTMuNTA1NTE2M10sIFstMTEzLjQ1OTI0MTUsIDUzLjUwNDY0MzRdLCBbLTExMy40NTgxMzQzLCA1My41MDQ0MjkwMDAwMDAwMV0sIFstMTEzLjQ1NjU2MzYsIDUzLjUwNDA3NjddLCBbLTExMy40NTUxOTAzLCA1My41MDMxMjcyMDAwMDAwMV0sIFstMTEzLjQ1NDg4OTksIDUzLjUwMzI0NDZdLCBbLTExMy40NTQxNzc1MDAwMDAwMSwgNTMuNTA0MDAwMl0sIFstMTEzLjQ1NDY3NTMsIDUzLjUwNDM2MjZdLCBbLTExMy40NTQ5NjcsIDUzLjUwNDg4Ml0sIFstMTEzLjQ1NTA4NjYsIDUzLjUwNDkwOTYwMDAwMDAwNV0sIFstMTEzLjQ1NjU1NzIsIDUzLjUwNDkwNzddLCBbLTExMy40NTY3MTAxLCA1My41MDQ5NDEyXSwgWy0xMTMuNDU2ODEwMiwgNTMuNTA1MDE0MV0sIFstMTEzLjQ1NjgxOTYsIDUzLjUwNTUzXSwgWy0xMTMuNDU2ODY2LCA1My41MDU1NzkxMDAwMDAwMDZdLCBbLTExMy40NTY5MzA5LCA1My41MDU2MjY3XSwgWy0xMTMuNDU3NTI1LCA1My41MDU2MTcxXSwgWy0xMTMuNDU3NjI0MjAwMDAwMDEsIDUzLjUwNTY4NDldLCBbLTExMy40NTc2OTI2LCA1My41MDU3MzIzXSwgWy0xMTMuNDU3NzAwOSwgNTMuNTA2NTY0Nl0sIFstMTEzLjQ1Nzc3NjgsIDUzLjUwNjYwNzldLCBbLTExMy40NTgwOTMzLCA1My41MDY2NDY1XSwgWy0xMTMuNDU4MjgzLCA1My41MDY3Mzg1XSwgWy0xMTMuNDU4NTEzMTAwMDAwMDIsIDUzLjUwNjkwNDRdLCBbLTExMy40NjAyMjQxLCA1My41MDg0MTIxXSwgWy0xMTMuNDYwMzU1MywgNTMuNTA4NTgwM10sIFstMTEzLjQ2MDQ2MDIsIDUzLjUwODc0MzldLCBbLTExMy40NjA1Mzc2LCA1My41MDg5MjY0XSwgWy0xMTMuNDYwNTYzMywgNTMuNTA5NDM2Nl0sIFstMTEzLjQ2MjU3NzMsIDUzLjUxMDY4MjFdLCBbLTExMy40NjI2NTc1LCA1My41MTA3ODQxXSwgWy0xMTMuNDYzOTM2NCwgNTMuNTEwNzYzN10sIFstMTEzLjQ2NDUyMDEsIDUzLjUxMTMzNTNdLCBbLTExMy40NjUyNDk2LCA1My41MTE4MzU1XSwgWy0xMTMuNDY2MDkwOCwgNTMuNTEyMTk3OV0sIFstMTEzLjQ2NjEwMTEsIDUzLjUxMjM1NTldLCBbLTExMy40NjYxMjUxLCA1My41MTI3MjM2XSwgWy0xMTMuNDY4OTMxOCwgNTMuNTEyNzA4M10sIFstMTEzLjQ2OTYyNywgNTMuNTEzNjU3NjAwMDAwMDFdLCBbLTExMy40NzAzNjUxLCA1My41MTMzMDAzXSwgWy0xMTMuNDcwOTU3NCwgNTMuNTEzNDIyOF0sIFstMTEzLjQ3MTAwNDcsIDUzLjUxNDI4XSwgWy0xMTMuNDcxMDE1MywgNTMuNTE0MzEwNF0sIFstMTEzLjQ3MTE3ODMsIDUzLjUxNDY5MzJdLCBbLTExMy40NzIwNjI0LCA1My41MTUzMDU2MDAwMDAwMDVdLCBbLTExMy40NzIzODIxLCA1My41MTUyODA2XSwgWy0xMTMuNDcyNTY4ODAwMDAwMDIsIDUzLjUxNTM3Ml0sIFstMTEzLjQ3MjU2NzksIDUzLjUxNTU1NThdLCBbLTExMy40NzI1NzEsIDUzLjUxNTcyNDZdLCBbLTExMy40NzIwMDQ1LCA1My41MTY1NzY5XSwgWy0xMTMuNDcyMDE5MywgNTMuNTE3NDY3Ml0sIFstMTEzLjQ3MTc2NDQsIDUzLjUxNzQ3MjddLCBbLTExMy40NzE2Mzg4LCA1My41MTc2MzE5XSwgWy0xMTMuNDcxNjkwNCwgNTMuNTE3OTE4N10sIFstMTEzLjQ3MTcyNjUwMDAwMDAyLCA1My41MTgxNTA1XSwgWy0xMTMuNDcyMDI0MywgNTMuNTE4Mzk2Ml0sIFstMTEzLjQ3MjAzODgsIDUzLjUxODYzMzVdLCBbLTExMy40NzA1NjI1LCA1My41MTg2MTgyXSwgWy0xMTMuNDcwNTU2NSwgNTMuNTE5MDQzMl0sIFstMTEzLjQ3MjAxNTYsIDUzLjUxOTA1MzRdLCBbLTExMy40NzIwMTMxLCA1My41MTk1OThdLCBbLTExMy40NzE2OTU1LCA1My41MTk1OThdLCBbLTExMy40NzE3NzI3MDAwMDAwMiwgNTMuNTIwMjE1NF0sIFstMTEzLjQ3MjQ1MDgsIDUzLjUyMTI4N10sIFstMTEzLjQ3MjQzMzYsIDUzLjUyMTg3MzldLCBbLTExMy40NzQ4MDI2LCA1My41MjE5MTQ3XSwgWy0xMTMuNDc0ODM2OSwgNTMuNTIyNzk3NV0sIFstMTEzLjQ3NjA0NzEsIDUzLjUyMjgxMjhdLCBbLTExMy40NzYwNzI5LCA1My41MjM1OTg2XSwgWy0xMTMuNDc1MTU0NSwgNTMuNTIzNjEzOV0sIFstMTEzLjQ3NTE1NDUsIDUzLjUyNDI4NzRdLCBbLTExMy40NzUzMDMyLCA1My41MjkzMzNdLCBbLTExMy40NzUzMTEyLCA1My41MzAxMzk0XSwgWy0xMTMuNDc2NjQ4NCwgNTMuNTMwMTQxXSwgWy0xMTMuNDc5OTA5NTAwMDAwMDIsIDUzLjUzMTMwNzldLCBbLTExMy40Nzk5NDM4LCA1My41MzI2Mzk0XSwgWy0xMTMuNDgxNDg2MiwgNTMuNTMyODE3OV0sIFstMTEzLjQ4MjIyNjYsIDUzLjUzMjk4MDAwMDAwMDAxXSwgWy0xMTMuNDgyNzg3NiwgNTMuNTMzMTc5Nl0sIFstMTEzLjQ4MzE2MTksIDUzLjUzMzM4MjFdLCBbLTExMy40ODM0NTUyLCA1My41MzM2NDkyXSwgWy0xMTMuNDgzNjE1MiwgNTMuNTMzODM5NF0sIFstMTEzLjQ4NDY1MzcsIDUzLjUzMjgxNDddLCBbLTExMy40ODQ4ODE3LCA1My41MzI1OTQ3XSwgWy0xMTMuNDg1MTM3OCwgNTMuNTMyMzA2MV0sIFstMTEzLjQ4NTI5NDcsIDUzLjUzMjA2NTRdLCBbLTExMy40ODUzODA1LCA1My41MzE4OV0sIFstMTEzLjQ4NTQ0NDksIDUzLjUzMTY5OTddLCBbLTExMy40ODU0ODkyLCA1My41MzE0Nzg3XSwgWy0xMTMuNDg1NDc0MiwgNTMuNTMxMjIyOTAwMDAwMDFdLCBbLTExMy40ODQ4MDU5LCA1My41MzEyNDQxXSwgWy0xMTMuNDg0NjIwNywgNTMuNTMxMTY4NF0sIFstMTEzLjQ4NDQxMTUsIDUzLjUzMDYwOThdLCBbLTExMy40ODM5OTQ3MDAwMDAwMSwgNTMuNTMwNjI3OV0sIFstMTEzLjQ4MzQ3MDUsIDUzLjUzMDEyNzNdLCBbLTExMy40ODI1MzcxLCA1My41Mjk4NzMyXSwgWy0xMTMuNDgyNTA4MiwgNTMuNTI4Mzg2XSwgWy0xMTMuNDgwMzc3NiwgNTMuNTI4Mzg4MV0sIFstMTEzLjQ3OTg1NTksIDUzLjUyODE0NTFdLCBbLTExMy40ODAxMzQ0LCA1My41Mjc4MTg0XSwgWy0xMTMuNDgwMjI5MiwgNTMuNTI3Nzg5NF0sIFstMTEzLjQ4MDM5NTEsIDUzLjUyNzc4NzVdLCBbLTExMy40ODEwMTMyLCA1My41Mjc3ODY5XSwgWy0xMTMuNDgxMDU4MywgNTMuNTI3Nzg2OV0sIFstMTEzLjQ4MTc4MjIsIDUzLjUyNzc4NjVdLCBbLTExMy40ODIxMTg0LCA1My41Mjc3ODY5XSwgWy0xMTMuNDgyNjg4OSwgNTMuNTI3Nzg2Ml0sIFstMTEzLjQ4MjY4NDgsIDUzLjUyNzMxN10sIFstMTEzLjQ4MjY3NTEsIDUzLjUyNjg5ODFdLCBbLTExMy40ODEyMzA4MDAwMDAwMiwgNTMuNTI1NjkyNF0sIFstMTEzLjQ4MTI1NywgNTMuNTI1Mzk0Nl0sIFstMTEzLjQ3ODY1NjQsIDUzLjUyNTMzODVdLCBbLTExMy40Nzg2MjcyLCA1My41MjMwNTRdLCBbLTExMy40Nzk0NjE4MDAwMDAwMSwgNTMuNTIzMDU2Nl0sIFstMTEzLjQ3OTU4MzMsIDUzLjUyMjY5NTRdLCBbLTExMy40NzgxNzU3LCA1My41MjI3MDA1XSwgWy0xMTMuNDc4MDk4NSwgNTMuNTIxODU4Nl0sIFstMTEzLjQ3NzY4NjUsIDUzLjUyMTg1ODZdLCBbLTExMy40Nzc2NzYsIDUzLjUyMDAxMjZdLCBbLTExMy40NzU3MjEsIDUzLjUyMDAyMTVdLCBbLTExMy40NzU1MTUsIDUzLjUxODE4OTVdLCBbLTExMy40NzUyNTE2MDAwMDAwMiwgNTMuNTE3OTI2MTAwMDAwMDA0XSwgWy0xMTMuNDc1MTcyNiwgNTMuNTE3ODExNV0sIFstMTEzLjQ3NDk3NzgsIDUzLjUxNzU2OTZdLCBbLTExMy40NzQ2MTk2LCA1My41MTc1MDg2XSwgWy0xMTMuNDc0NzE2MzAwMDAwMDEsIDUzLjUxNzMwODldLCBbLTExMy40NzQ2NDQzLCA1My41MTcxMDY0XSwgWy0xMTMuNDc0ODIxOSwgNTMuNTE2OTE0OF0sIFstMTEzLjQ3NTA3NzQsIDUzLjUxNjcyMDddLCBbLTExMy40NzUyMDA0LCA1My41MTY0ODk1XSwgWy0xMTMuNDc1MjE3ODAwMDAwMDEsIDUzLjUxNjIyNTNdLCBbLTExMy40NzU2MDkzLCA1My41MTYwMjg3XSwgWy0xMTMuNDc1NTA3NCwgNTMuNTE1MjQ5OF0sIFstMTEzLjQ3NTQ5MjksIDUzLjUxNDc0NzldLCBbLTExMy40NzUyMDE4LCA1My41MTQyODkyXSwgWy0xMTMuNDc0NzM2LCA1My41MTQwMTIyXSwgWy0xMTMuNDc0MjQxMSwgNTMuNTEzODEzMl0sIFstMTEzLjQ3MzUyODAwMDAwMDAyLCA1My41MTMwNDI5XSwgWy0xMTMuNDczMzUzMywgNTMuNTEyNjc5NF0sIFstMTEzLjQ3MzEyODksIDUzLjUxMjIyMzRdLCBbLTExMy40NzMwMjAxLCA1My41MTIyMTIyXSwgWy0xMTMuNDcwMjcwNywgNTMuNTExODI1M10sIFstMTEzLjQ3MDIxMDYsIDUzLjUxMTQwMTddLCBbLTExMy40Njg2MTQyLCA1My41MTE0MTE5XSwgWy0xMTMuNDY3OTcwNCwgNTMuNTExMzc2Ml0sIFstMTEzLjQ2NzMzNTMsIDUzLjUxMTAzNDJdLCBbLTExMy40NjcyNjY2LCA1My41MTA0NTc0XSwgWy0xMTMuNDY2NTU0MiwgNTMuNTEwNDQyMV0sIFstMTEzLjQ2NjU0ODUsIDUzLjUwODQ3OTcwMDAwMDAxXSwgWy0xMTMuNDY2NTQ4MywgNTMuNTA4NDAxNF0sIFstMTEzLjQ2NjU0NTcsIDUzLjUwNzUxMjJdLCBbLTExMy40NjcyMzIzLCA1My41MDc1MjI0XSwgWy0xMTMuNDY3MjY2NiwgNTMuNTA2OTIwMTAwMDAwMDFdLCBbLTExMy40NjcyNzA0LCA1My41MDY2NzM2XSwgWy0xMTMuNDY3OTc0MywgNTMuNTA2NTEwNF0sIFstMTEzLjQ2ODM5NjIsIDUzLjUwNjAzNl0sIFstMTEzLjQ2NzcyMTUsIDUzLjUwNTU1NzFdXV0sICJ0eXBlIjogIlBvbHlnb24ifSwgImlkIjogIjAiLCAicHJvcGVydGllcyI6IHsiYWRkcjpjaXR5IjogbnVsbCwgImFkZHI6aG91c2VudW1iZXIiOiBudWxsLCAiYWRkcjpwb3N0Y29kZSI6IG51bGwsICJhZGRyOnByb3ZpbmNlIjogbnVsbCwgImFkZHI6c3RyZWV0IjogbnVsbCwgImNoYW5nZXNldCI6ICIyNDExMTcwOCIsICJnb2xmIjogbnVsbCwgImlkIjogInJlbGF0aW9uLzM4ODY2NDUiLCAibGFuZHVzZSI6IG51bGwsICJsZWlzdXJlIjogInBhcmsiLCAibmFtZSI6ICJNaWxsIENyZWVrIFJhdmluZSIsICJvcGVuaW5nX2hvdXJzIjogbnVsbCwgInBfYXJlYSI6IDAuMDAwMTQ3MDk4ODQ4MzU0OTg0NDMsICJwaG9uZSI6IG51bGwsICJzb3VyY2UiOiBudWxsLCAic3BvcnQiOiBudWxsLCAic3R5bGUiOiB7ImNvbG9yIjogImJsYWNrIiwgImZpbGxDb2xvciI6ICIjRTMxQTFDIiwgImZpbGxPcGFjaXR5IjogMC42LCAib3BhY3RpeSI6IDAuOCwgIndlaWdodCI6IDF9LCAidGltZXN0YW1wIjogIjIwMTQtMDctMTNUMDI6MjQ6MDNaIiwgInR5cGUiOiAibXVsdGlwb2x5Z29uIiwgInVpZCI6ICIyMTc4NzYzIiwgInVzZXIiOiAiTWFya3dUIiwgInZlcnNpb24iOiAiMSIsICJ3ZWJzaXRlIjogbnVsbH0sICJ0eXBlIjogIkZlYXR1cmUifSwgeyJnZW9tZXRyeSI6IHsiY29vcmRpbmF0ZXMiOiBbW1stMTEzLjQ5MDI4NzUsIDUzLjUzOTQ5OThdLCBbLTExMy40OTAzODQ0LCA1My41Mzk1NDQyXSwgWy0xMTMuNDkwODY0MSwgNTMuNTM5NDI5N10sIFstMTEzLjQ5MDg3MTYsIDUzLjUzOTQwMDFdLCBbLTExMy40OTA5MzM3LCA1My41MzkzODE3XSwgWy0xMTMuNDkxNDgxOCwgNTMuNTM5Mjg1N10sIFstMTEzLjQ5MTUxMTYsIDUzLjUzOTI2MTNdLCBbLTExMy40OTE1ODc0LCA1My41MzkyNjU2XSwgWy0xMTMuNDkxNTk4NiwgNTMuNTM5Mjg5Ml0sIFstMTEzLjQ5MjcxMjEsIDUzLjUzOTQwNjFdLCBbLTExMy40OTMwNDc2LCA1My41Mzk0NDIxXSwgWy0xMTMuNDkzMDQ2NywgNTMuNTM5MTQ4NV0sIFstMTEzLjQ5MzA0MywgNTMuNTM4OTk0NF0sIFstMTEzLjQ5Mjk3MzEsIDUzLjUzODk4MTRdLCBbLTExMy40OTI5ODU5LCA1My41Mzg5MzY1XSwgWy0xMTMuNDkxNzg0MiwgNTMuNTM4OTMwMV0sIFstMTEzLjQ5MTM2NjEsIDUzLjUzODk5MzldLCBbLTExMy40OTExMywgNTMuNTM5MDgzMV0sIFstMTEzLjQ5MDI4NzUsIDUzLjUzOTQ5OThdXV0sICJ0eXBlIjogIlBvbHlnb24ifSwgImlkIjogIjEiLCAicHJvcGVydGllcyI6IHsiYWRkcjpjaXR5IjogbnVsbCwgImFkZHI6aG91c2VudW1iZXIiOiBudWxsLCAiYWRkcjpwb3N0Y29kZSI6IG51bGwsICJhZGRyOnByb3ZpbmNlIjogbnVsbCwgImFkZHI6c3RyZWV0IjogbnVsbCwgImNoYW5nZXNldCI6ICIyNTMxNTQ0NyIsICJnb2xmIjogbnVsbCwgImlkIjogIndheS8xNjA4MzY3OTAiLCAibGFuZHVzZSI6IG51bGwsICJsZWlzdXJlIjogInBhcmsiLCAibmFtZSI6ICJNY0RvdWdhbGwgUGFyayIsICJvcGVuaW5nX2hvdXJzIjogbnVsbCwgInBfYXJlYSI6IDguOTYyNzQ3Njk5OTk2MDE0ZS0wNywgInBob25lIjogbnVsbCwgInNvdXJjZSI6IG51bGwsICJzcG9ydCI6IG51bGwsICJzdHlsZSI6IHsiY29sb3IiOiAiYmxhY2siLCAiZmlsbENvbG9yIjogIiNGRDhEM0MiLCAiZmlsbE9wYWNpdHkiOiAwLjYsICJvcGFjdGl5IjogMC44LCAid2VpZ2h0IjogMX0sICJ0aW1lc3RhbXAiOiAiMjAxNC0wOS0wOFQxOTo1NzoxNVoiLCAidHlwZSI6IG51bGwsICJ1aWQiOiAiMTM5OTU3IiwgInVzZXIiOiAiaWpfIiwgInZlcnNpb24iOiAiMyIsICJ3ZWJzaXRlIjogbnVsbH0sICJ0eXBlIjogIkZlYXR1cmUifSwgeyJnZW9tZXRyeSI6IHsiY29vcmRpbmF0ZXMiOiBbW1stMTEzLjQ4OTM5NDcsIDUzLjU0MTA3MzddLCBbLTExMy40ODk1MDAzLCA1My41NDEwNzIzXSwgWy0xMTMuNDg5OTYxNCwgNTMuNTQxMDM2MV0sIFstMTEzLjQ4OTk4ODcsIDUzLjU0MTAyMTNdLCBbLTExMy40ODk5NDY1LCA1My41NDA2OTM0XSwgWy0xMTMuNDg5ODY4MiwgNTMuNTQwNjY4M10sIFstMTEzLjQ4OTM5NTksIDUzLjU0MDcwNDVdLCBbLTExMy40ODkzMzI1LCA1My41NDA3MjU5XSwgWy0xMTMuNDg5MzE3NiwgNTMuNTQwNzcwOV0sIFstMTEzLjQ4OTM1OTkwMDAwMDAxLCA1My41NDEwNDEyXSwgWy0xMTMuNDg5Mzk0NywgNTMuNTQxMDczN11dXSwgInR5cGUiOiAiUG9seWdvbiJ9LCAiaWQiOiAiMiIsICJwcm9wZXJ0aWVzIjogeyJhZGRyOmNpdHkiOiBudWxsLCAiYWRkcjpob3VzZW51bWJlciI6IG51bGwsICJhZGRyOnBvc3Rjb2RlIjogbnVsbCwgImFkZHI6cHJvdmluY2UiOiBudWxsLCAiYWRkcjpzdHJlZXQiOiBudWxsLCAiY2hhbmdlc2V0IjogIjI1MzE2OTY5IiwgImdvbGYiOiBudWxsLCAiaWQiOiAid2F5LzE5ODgyNjYxMSIsICJsYW5kdXNlIjogbnVsbCwgImxlaXN1cmUiOiAicGFyayIsICJuYW1lIjogbnVsbCwgIm9wZW5pbmdfaG91cnMiOiBudWxsLCAicF9hcmVhIjogMi4zMjQzNjgyMDAwMDYyNTdlLTA3LCAicGhvbmUiOiBudWxsLCAic291cmNlIjogIkJpbmciLCAic3BvcnQiOiBudWxsLCAic3R5bGUiOiB7ImNvbG9yIjogImJsYWNrIiwgImZpbGxDb2xvciI6ICIjRkVCMjRDIiwgImZpbGxPcGFjaXR5IjogMC42LCAib3BhY3RpeSI6IDAuOCwgIndlaWdodCI6IDF9LCAidGltZXN0YW1wIjogIjIwMTQtMDktMDhUMjE6MzM6NThaIiwgInR5cGUiOiBudWxsLCAidWlkIjogIjEzOTk1NyIsICJ1c2VyIjogImlqXyIsICJ2ZXJzaW9uIjogIjIiLCAid2Vic2l0ZSI6IG51bGx9LCAidHlwZSI6ICJGZWF0dXJlIn0sIHsiZ2VvbWV0cnkiOiB7ImNvb3JkaW5hdGVzIjogW1tbLTExMy41MTg5MzY0LCA1My41NDQyNzc3XSwgWy0xMTMuNTE4ODIzNywgNTMuNTQ0MjIyXSwgWy0xMTMuNTE4NzU2NSwgNTMuNTQ0MTc1NV0sIFstMTEzLjUxODY4NDEsIDUzLjU0NDE1NDhdLCBbLTExMy41MTg1OTU3LCA1My41NDQxMDI0XSwgWy0xMTMuNTE4NTQyLCA1My41NDQwNzUxXSwgWy0xMTMuNTE4NDU4OSwgNTMuNTQ0MDcyMV0sIFstMTEzLjUxODM5NDQsIDUzLjU0NDEwN10sIFstMTEzLjUxODM5MTgsIDUzLjU0NDE1MzJdLCBbLTExMy41MTg1MzY2MDAwMDAwMiwgNTMuNTQ0MTk3OF0sIFstMTEzLjUxODUzNjcsIDUzLjU0NDI3OTNdLCBbLTExMy41MTg1NDQ2MDAwMDAwMSwgNTMuNTQ0MzA3OF0sIFstMTEzLjUxODY0MTMsIDUzLjU0NDMyODddLCBbLTExMy41MTg4MDc2LCA1My41NDQzNDE1XSwgWy0xMTMuNTE4ODc5OSwgNTMuNTQ0MzU3Ml0sIFstMTEzLjUxODkyODMsIDUzLjU0NDMxMjhdLCBbLTExMy41MTg5MzY0LCA1My41NDQyNzc3XV1dLCAidHlwZSI6ICJQb2x5Z29uIn0sICJpZCI6ICIzIiwgInByb3BlcnRpZXMiOiB7ImFkZHI6Y2l0eSI6IG51bGwsICJhZGRyOmhvdXNlbnVtYmVyIjogbnVsbCwgImFkZHI6cG9zdGNvZGUiOiBudWxsLCAiYWRkcjpwcm92aW5jZSI6IG51bGwsICJhZGRyOnN0cmVldCI6IG51bGwsICJjaGFuZ2VzZXQiOiAiMTU5MTY1OTMiLCAiZ29sZiI6IG51bGwsICJpZCI6ICJ3YXkvMjE5NDg4MjEzIiwgImxhbmR1c2UiOiBudWxsLCAibGVpc3VyZSI6ICJwbGF5Z3JvdW5kIiwgIm5hbWUiOiBudWxsLCAib3BlbmluZ19ob3VycyI6IG51bGwsICJwX2FyZWEiOiA3LjYyODUyNjk5OTk0MDEzNGUtMDgsICJwaG9uZSI6IG51bGwsICJzb3VyY2UiOiAiQmluZyIsICJzcG9ydCI6IG51bGwsICJzdHlsZSI6IHsiY29sb3IiOiAiYmxhY2siLCAiZmlsbENvbG9yIjogIiNGRkZGQjIiLCAiZmlsbE9wYWNpdHkiOiAwLjYsICJvcGFjdGl5IjogMC44LCAid2VpZ2h0IjogMX0sICJ0aW1lc3RhbXAiOiAiMjAxMy0wNC0zMFQwNjowMTo1MVoiLCAidHlwZSI6IG51bGwsICJ1aWQiOiAiMjM5OTk4IiwgInVzZXIiOiAiU3VuZGFuY2UiLCAidmVyc2lvbiI6ICIxIiwgIndlYnNpdGUiOiBudWxsfSwgInR5cGUiOiAiRmVhdHVyZSJ9LCB7Imdlb21ldHJ5IjogeyJjb29yZGluYXRlcyI6IFtbWy0xMTMuNDg3OTEyOCwgNTMuNTQxODUwMl0sIFstMTEzLjQ4Nzc5MjEsIDUzLjU0MTU2MTldLCBbLTExMy40ODc0NTI4LCA1My41NDE2NzQzXSwgWy0xMTMuNDg3NTM5MywgNTMuNTQxODk0OV0sIFstMTEzLjQ4NzkxMjgsIDUzLjU0MTg1MDJdXV0sICJ0eXBlIjogIlBvbHlnb24ifSwgImlkIjogIjQiLCAicHJvcGVydGllcyI6IHsiYWRkcjpjaXR5IjogbnVsbCwgImFkZHI6aG91c2VudW1iZXIiOiBudWxsLCAiYWRkcjpwb3N0Y29kZSI6IG51bGwsICJhZGRyOnByb3ZpbmNlIjogbnVsbCwgImFkZHI6c3RyZWV0IjogbnVsbCwgImNoYW5nZXNldCI6ICIxNjU3NjU4NSIsICJnb2xmIjogbnVsbCwgImlkIjogIndheS8yMjU5MjM1NzciLCAibGFuZHVzZSI6IG51bGwsICJsZWlzdXJlIjogInBhcmsiLCAibmFtZSI6IG51bGwsICJvcGVuaW5nX2hvdXJzIjogbnVsbCwgInBfYXJlYSI6IDkuODgyMzc2MDAwMTg3OTY3ZS0wOCwgInBob25lIjogbnVsbCwgInNvdXJjZSI6IG51bGwsICJzcG9ydCI6IG51bGwsICJzdHlsZSI6IHsiY29sb3IiOiAiYmxhY2siLCAiZmlsbENvbG9yIjogIiNGRUQ5NzYiLCAiZmlsbE9wYWNpdHkiOiAwLjYsICJvcGFjdGl5IjogMC44LCAid2VpZ2h0IjogMX0sICJ0aW1lc3RhbXAiOiAiMjAxMy0wNi0xNlQxNDoxNTowOVoiLCAidHlwZSI6IG51bGwsICJ1aWQiOiAiNDU0MDEyIiwgInVzZXIiOiAiRmVsZG8iLCAidmVyc2lvbiI6ICIxIiwgIndlYnNpdGUiOiBudWxsfSwgInR5cGUiOiAiRmVhdHVyZSJ9LCB7Imdlb21ldHJ5IjogeyJjb29yZGluYXRlcyI6IFtbWy0xMTMuNTE0OTY0MTAwMDAwMDEsIDUzLjUzMzU0NzhdLCBbLTExMy41MTU2NTU0LCA1My41MzM1MzM4XSwgWy0xMTMuNTE1NjM2NiwgNTMuNTMzMjA2N10sIFstMTEzLjUxNDk0NTMsIDUzLjUzMzIyMDddLCBbLTExMy41MTQ5NjQxMDAwMDAwMSwgNTMuNTMzNTQ3OF1dXSwgInR5cGUiOiAiUG9seWdvbiJ9LCAiaWQiOiAiNSIsICJwcm9wZXJ0aWVzIjogeyJhZGRyOmNpdHkiOiBudWxsLCAiYWRkcjpob3VzZW51bWJlciI6IG51bGwsICJhZGRyOnBvc3Rjb2RlIjogbnVsbCwgImFkZHI6cHJvdmluY2UiOiBudWxsLCAiYWRkcjpzdHJlZXQiOiBudWxsLCAiY2hhbmdlc2V0IjogIjE2NzY1NzA4IiwgImdvbGYiOiBudWxsLCAiaWQiOiAid2F5LzIyNjMyMjg1OCIsICJsYW5kdXNlIjogbnVsbCwgImxlaXN1cmUiOiAicGl0Y2giLCAibmFtZSI6IG51bGwsICJvcGVuaW5nX2hvdXJzIjogbnVsbCwgInBfYXJlYSI6IDIuMjYzODc0Mjk5OTk4Njk1ZS0wNywgInBob25lIjogbnVsbCwgInNvdXJjZSI6IG51bGwsICJzcG9ydCI6ICJ0ZW5uaXMiLCAic3R5bGUiOiB7ImNvbG9yIjogImJsYWNrIiwgImZpbGxDb2xvciI6ICIjRkVCMjRDIiwgImZpbGxPcGFjaXR5IjogMC42LCAib3BhY3RpeSI6IDAuOCwgIndlaWdodCI6IDF9LCAidGltZXN0YW1wIjogIjIwMTMtMDYtMzBUMTU6MjY6NDRaIiwgInR5cGUiOiBudWxsLCAidWlkIjogIjQ1NDAxMiIsICJ1c2VyIjogIkZlbGRvIiwgInZlcnNpb24iOiAiMiIsICJ3ZWJzaXRlIjogbnVsbH0sICJ0eXBlIjogIkZlYXR1cmUifSwgeyJnZW9tZXRyeSI6IHsiY29vcmRpbmF0ZXMiOiBbW1stMTEzLjQ4ODkyNDksIDUzLjUyOTA0NDZdLCBbLTExMy40ODkxMjYwMDAwMDAwMSwgNTMuNTI4MTcxM10sIFstMTEzLjQ4OTA1MjYsIDUzLjUyNzI3MTJdLCBbLTExMy40ODkwODgsIDUzLjUyNjY5MjVdLCBbLTExMy40ODkwOTg1LCA1My41MjYzMzk2XSwgWy0xMTMuNDg4NjkzNywgNTMuNTI2NDA0MV0sIFstMTEzLjQ4ODM5NTQsIDUzLjUyNjQ2NzVdLCBbLTExMy40ODczMTExLCA1My41MjY5NTE0XSwgWy0xMTMuNDg2MzE1MSwgNTMuNTI3NDQyMl0sIFstMTEzLjQ4NjE2NTgsIDUzLjUyNzU1ODVdLCBbLTExMy40ODU5MjM4LCA1My41Mjc4OTcxXSwgWy0xMTMuNDg1NjY1NSwgNTMuNTI4MzA3XSwgWy0xMTMuNDg1NjEwNSwgNTMuNTI4NDA4NzAwMDAwMDFdLCBbLTExMy40ODU1Mjg3LCA1My41Mjg2MTU5XSwgWy0xMTMuNDg1NDgzOCwgNTMuNTI4Nzg5N10sIFstMTEzLjQ4NTQ1MSwgNTMuNTI5MDA3OF0sIFstMTEzLjQ4NTQ0MDksIDUzLjUyOTE2Nl0sIFstMTEzLjQ4NTQ1MTYsIDUzLjUyOTM1NDVdLCBbLTExMy40ODU0NzcxLCA1My41Mjk1Mzk5XSwgWy0xMTMuNDg1NTE3MywgNTMuNTI5NjczNF0sIFstMTEzLjQ4NTQzNzUsIDUzLjUyOTY4NDYwMDAwMDAxXSwgWy0xMTMuNDg1NTA4NiwgNTMuNTI5OTQxNF0sIFstMTEzLjQ4NTU4NTEsIDUzLjUzMDE3ODZdLCBbLTExMy40ODU2ODc3LCA1My41MzA1Mjk1XSwgWy0xMTMuNDg1NzE2NSwgNTMuNTMwNTI2N10sIFstMTEzLjQ4NTcyNzksIDUzLjUzMDU1OTRdLCBbLTExMy40ODU4MTU3LCA1My41MzA2MDE3XSwgWy0xMTMuNDg2MTI1NywgNTMuNTMwNTQ4Ml0sIFstMTEzLjQ4NjMxMzcsIDUzLjUzMDg3NjddLCBbLTExMy40ODY1OTEzLCA1My41MzE3MTQ0XSwgWy0xMTMuNDg2ODMwNywgNTMuNTMxNzA3N10sIFstMTEzLjQ4Njk1NjcsIDUzLjUzMjQ0MTRdLCBbLTExMy40ODY5MjMyLCA1My41MzMwMTA2XSwgWy0xMTMuNDg2OTAxLCA1My41MzMwODExXSwgWy0xMTMuNDg2ODYyOCwgNTMuNTMzMTM2NV0sIFstMTEzLjQ4Njc4MTcsIDUzLjUzMzIxMThdLCBbLTExMy40ODY3MTgsIDUzLjUzMzI1NjVdLCBbLTExMy40ODY2NzM3LCA1My41MzMyNzY0XSwgWy0xMTMuNDg2NjE0NywgNTMuNTMzMjgxMl0sIFstMTEzLjQ4NjIxMzcsIDUzLjUzMzI5NjNdLCBbLTExMy40ODYyMDcsIDUzLjUzNDM3MzJdLCBbLTExMy40ODYxNzg2LCA1My41MzUzMjQ1XSwgWy0xMTMuNDg2MTY5NSwgNTMuNTM1NDk2MjAwMDAwMDA0XSwgWy0xMTMuNDg2MTQ2NzAwMDAwMDIsIDUzLjUzNTU3NjddLCBbLTExMy40ODYwOTQ0MDAwMDAwMSwgNTMuNTM1NjUzM10sIFstMTEzLjQ4NjE2LCA1My41MzU2NzY1XSwgWy0xMTMuNDg2MjU5NywgNTMuNTM1NzU1N10sIFstMTEzLjQ4NjI3MjYsIDUzLjUzNTg2NDldLCBbLTExMy40ODYwOTM1LCA1My41MzYzNTU3XSwgWy0xMTMuNDg2MDQ5OCwgNTMuNTM2NDQ2MV0sIFstMTEzLjQ4NTg5ODcsIDUzLjUzNjU1MTddLCBbLTExMy40ODU3NDY1LCA1My41MzY2MTQ5XSwgWy0xMTMuNDg1NTM0MiwgNTMuNTM2NjkwOF0sIFstMTEzLjQ4NTQxMTgsIDUzLjUzNjc3MDFdLCBbLTExMy40ODUyODA0LCA1My41MzY4ODA0MDAwMDAwMV0sIFstMTEzLjQ4NTA3MiwgNTMuNTM3MTkzM10sIFstMTEzLjQ4NTA4MzksIDUzLjUzNzIzOTZdLCBbLTExMy40ODUxOTU1MDAwMDAwMiwgNTMuNTM3Mjg5NTAwMDAwMDFdLCBbLTExMy40ODUwMTk2LCA1My41Mzc1MDc4XSwgWy0xMTMuNDg1MjQ2OCwgNTMuNTM3NTg1N10sIFstMTEzLjQ4NTQ2NiwgNTMuNTM3NjYwODAwMDAwMDA1XSwgWy0xMTMuNDg1NzQ0OSwgNTMuNTM3NDQ3MV0sIFstMTEzLjQ4NTk4NTUwMDAwMDAxLCA1My41MzcxODEyXSwgWy0xMTMuNDg2NDY2MSwgNTMuNTM2NzA3Ml0sIFstMTEzLjQ4NjUwNDUsIDUzLjUzNjUyODRdLCBbLTExMy40ODY1OCwgNTMuNTM2NDIzNF0sIFstMTEzLjQ4NjU2MzAwMDAwMDAyLCA1My41MzYyNzExXSwgWy0xMTMuNDg2NjE2ODAwMDAwMDEsIDUzLjUzNjEzMDhdLCBbLTExMy40ODY2NjI1LCA1My41MzU4MjcxXSwgWy0xMTMuNDg2NzA3MywgNTMuNTM1NzI3OF0sIFstMTEzLjQ4NjgwODEsIDUzLjUzNTU2MTddLCBbLTExMy40ODczOCwgNTMuNTM0MDk1MV0sIFstMTEzLjQ4NzgyNTYwMDAwMDAxLCA1My41MzE5NTE1XSwgWy0xMTMuNDg3ODUyMiwgNTMuNTMxNjAwNl0sIFstMTEzLjQ4Nzg2ODYwMDAwMDAxLCA1My41MzEzODRdLCBbLTExMy40ODc5NDM3LCA1My41MzEwMzMyXSwgWy0xMTMuNDg4NTM4NywgNTMuNTI5ODUwN10sIFstMTEzLjQ4ODkyNDksIDUzLjUyOTA0NDZdXV0sICJ0eXBlIjogIlBvbHlnb24ifSwgImlkIjogIjYiLCAicHJvcGVydGllcyI6IHsiYWRkcjpjaXR5IjogbnVsbCwgImFkZHI6aG91c2VudW1iZXIiOiBudWxsLCAiYWRkcjpwb3N0Y29kZSI6IG51bGwsICJhZGRyOnByb3ZpbmNlIjogbnVsbCwgImFkZHI6c3RyZWV0IjogbnVsbCwgImNoYW5nZXNldCI6ICI0NDc5NjMxNiIsICJnb2xmIjogbnVsbCwgImlkIjogIndheS8yNTQ5MjE3MyIsICJsYW5kdXNlIjogbnVsbCwgImxlaXN1cmUiOiAicGFyayIsICJuYW1lIjogIk5lbGxpZSBNY0NsdW5nIFBhcmsiLCAib3BlbmluZ19ob3VycyI6IG51bGwsICJwX2FyZWEiOiAxLjgzOTg4MDE5MTAwMTE3MzRlLTA1LCAicGhvbmUiOiBudWxsLCAic291cmNlIjogbnVsbCwgInNwb3J0IjogbnVsbCwgInN0eWxlIjogeyJjb2xvciI6ICJibGFjayIsICJmaWxsQ29sb3IiOiAiI0ZDNEUyQSIsICJmaWxsT3BhY2l0eSI6IDAuNiwgIm9wYWN0aXkiOiAwLjgsICJ3ZWlnaHQiOiAxfSwgInRpbWVzdGFtcCI6ICIyMDE2LTEyLTMwVDIyOjE2OjAxWiIsICJ0eXBlIjogbnVsbCwgInVpZCI6ICIzODQ4OTU1IiwgInVzZXIiOiAiTWVzb3doaXRlIiwgInZlcnNpb24iOiAiMjIiLCAid2Vic2l0ZSI6IG51bGx9LCAidHlwZSI6ICJGZWF0dXJlIn0sIHsiZ2VvbWV0cnkiOiB7ImNvb3JkaW5hdGVzIjogW1tbLTExMy41MjQ2MzE1MDAwMDAwMSwgNTMuNTMzMjg5Nl0sIFstMTEzLjUyNDIyMjEsIDUzLjUzMzIwNDVdLCBbLTExMy41MjQxNzk4LCA1My41MzMxOTU2XSwgWy0xMTMuNTIyNDUzMTAwMDAwMDIsIDUzLjUzMjgyMTJdLCBbLTExMy41MjIyODcyLCA1My41MzI4MDE5XSwgWy0xMTMuNTIyMjMyLCA1My41MzI3OTA1XSwgWy0xMTMuNTE5Mzc4NywgNTMuNTMyNDE3M10sIFstMTEzLjUxNzUwNjgsIDUzLjUzMjIyMzZdLCBbLTExMy41MTcwNjEzLCA1My41MzIxNzc1MDAwMDAwMV0sIFstMTEzLjUxNjY5NDYsIDUzLjUzMjE1NTddLCBbLTExMy41MTU5NDU1LCA1My41MzIxMTEyMDAwMDAwMV0sIFstMTEzLjUxNTgyNSwgNTMuNTMzNDI0N10sIFstMTEzLjUxNTY1NTQsIDUzLjUzMzUzMzhdLCBbLTExMy41MTUwMTg1LCA1My41MzM3MTgyXSwgWy0xMTMuNTE0NjQwOCwgNTMuNTMzOTQ3N10sIFstMTEzLjUxNDE1MzYsIDUzLjUzNDA1Ml0sIFstMTEzLjUxNDAxNDMsIDUzLjUzNDU4NTQwMDAwMDAwNV0sIFstMTEzLjUxNTEzMywgNTMuNTM1NDM4M10sIFstMTEzLjUxNTQ2MjQwMDAwMDAyLCA1My41MzQ4NzI3XSwgWy0xMTMuNTE0NDEsIDUzLjUzNDI1MV0sIFstMTEzLjUxNTA2MDMsIDUzLjUzNDA4ODVdLCBbLTExMy41MTU1NjI5LCA1My41MzM3NzQ5XSwgWy0xMTMuNTE1NTY2MiwgNTMuNTMzNzc1MV0sIFstMTEzLjUxNjAyMTUsIDUzLjUzMzc5NzNdLCBbLTExMy41MTY0Njc2LCA1My41MzM5Mjk4MDAwMDAwMV0sIFstMTEzLjUxNjc2NjUsIDUzLjUzMzg4NTZdLCBbLTExMy41MTcxNDY3LCA1My41MzM3MjA1XSwgWy0xMTMuNTE3ODI3LCA1My41MzMzNzI4XSwgWy0xMTMuNTE4NTc1NSwgNTMuNTMzMTk0M10sIFstMTEzLjUxOTA4MDUsIDUzLjUzMzE5NTFdLCBbLTExMy41MTkxMzYxLCA1My41MzMxMTczXSwgWy0xMTMuNTE5MzQwNzAwMDAwMDEsIDUzLjUzMzExMjVdLCBbLTExMy41MTkzNzc4LCA1My41MzMyMTQ1XSwgWy0xMTMuNTE5ODQ2OSwgNTMuNTMzMjkwN10sIFstMTEzLjUyMDE5NDEsIDUzLjUzMzE5NzhdLCBbLTExMy41MjA0NDk0LCA1My41MzM0NjU4XSwgWy0xMTMuNTIwNzEzLCA1My41MzM3NDI2XSwgWy0xMTMuNTIxMzcsIDUzLjUzNDQzMjMwMDAwMDAwNl0sIFstMTEzLjUyMTQ3MjIsIDUzLjUzNDQ3MTZdLCBbLTExMy41MjI4MjkxLCA1My41MzQ5OTM1XSwgWy0xMTMuNTIzNTY4OCwgNTMuNTM0OTk4OV0sIFstMTEzLjUyNDIyODEsIDUzLjUzNTAwMzddLCBbLTExMy41MjQ4NTQyLCA1My41MzMzMjg0XSwgWy0xMTMuNTI0NjMxNTAwMDAwMDEsIDUzLjUzMzI4OTZdXV0sICJ0eXBlIjogIlBvbHlnb24ifSwgImlkIjogIjciLCAicHJvcGVydGllcyI6IHsiYWRkcjpjaXR5IjogbnVsbCwgImFkZHI6aG91c2VudW1iZXIiOiBudWxsLCAiYWRkcjpwb3N0Y29kZSI6IG51bGwsICJhZGRyOnByb3ZpbmNlIjogbnVsbCwgImFkZHI6c3RyZWV0IjogbnVsbCwgImNoYW5nZXNldCI6ICI0NTEyMDk5OSIsICJnb2xmIjogbnVsbCwgImlkIjogIndheS8yOTQ3NDg3OSIsICJsYW5kdXNlIjogbnVsbCwgImxlaXN1cmUiOiAicGFyayIsICJuYW1lIjogIlZpY3RvcmlhIFBhcmsiLCAib3BlbmluZ19ob3VycyI6IG51bGwsICJwX2FyZWEiOiAxLjM5MDE0MzY3ODk5OTg5NzJlLTA1LCAicGhvbmUiOiBudWxsLCAic291cmNlIjogbnVsbCwgInNwb3J0IjogbnVsbCwgInN0eWxlIjogeyJjb2xvciI6ICJibGFjayIsICJmaWxsQ29sb3IiOiAiI0ZDNEUyQSIsICJmaWxsT3BhY2l0eSI6IDAuNiwgIm9wYWN0aXkiOiAwLjgsICJ3ZWlnaHQiOiAxfSwgInRpbWVzdGFtcCI6ICIyMDE3LTAxLTEzVDAwOjM2OjU4WiIsICJ0eXBlIjogbnVsbCwgInVpZCI6ICIzODg5NjkiLCAidXNlciI6ICJqZGtyYWJiZSIsICJ2ZXJzaW9uIjogIjEyIiwgIndlYnNpdGUiOiBudWxsfSwgInR5cGUiOiAiRmVhdHVyZSJ9LCB7Imdlb21ldHJ5IjogeyJjb29yZGluYXRlcyI6IFtbWy0xMTMuNDk4MzcxNywgNTMuNTM0MjAwN10sIFstMTEzLjQ5NzU2OTcsIDUzLjUzNDE5OTFdLCBbLTExMy40OTc0Nzg2LCA1My41MzQ3Nzc4XSwgWy0xMTMuNDk3ODAzMSwgNTMuNTM0Njc4OV0sIFstMTEzLjQ5ODM3MTcsIDUzLjUzNDIwMDddXV0sICJ0eXBlIjogIlBvbHlnb24ifSwgImlkIjogIjgiLCAicHJvcGVydGllcyI6IHsiYWRkcjpjaXR5IjogbnVsbCwgImFkZHI6aG91c2VudW1iZXIiOiBudWxsLCAiYWRkcjpwb3N0Y29kZSI6IG51bGwsICJhZGRyOnByb3ZpbmNlIjogbnVsbCwgImFkZHI6c3RyZWV0IjogbnVsbCwgImNoYW5nZXNldCI6ICIxMTQwMDM4OSIsICJnb2xmIjogbnVsbCwgImlkIjogIndheS8xNjA4MzY3ODUiLCAibGFuZHVzZSI6IG51bGwsICJsZWlzdXJlIjogInBhcmsiLCAibmFtZSI6ICJSb3NzZGFsZSBQYXJrIDMiLCAib3BlbmluZ19ob3VycyI6IG51bGwsICJwX2FyZWEiOiAyLjgxNjAyMjYwMDAzMzY3NmUtMDcsICJwaG9uZSI6IG51bGwsICJzb3VyY2UiOiBudWxsLCAic3BvcnQiOiBudWxsLCAic3R5bGUiOiB7ImNvbG9yIjogImJsYWNrIiwgImZpbGxDb2xvciI6ICIjRkVCMjRDIiwgImZpbGxPcGFjaXR5IjogMC42LCAib3BhY3RpeSI6IDAuOCwgIndlaWdodCI6IDF9LCAidGltZXN0YW1wIjogIjIwMTItMDQtMjNUMjI6MTM6MzdaIiwgInR5cGUiOiBudWxsLCAidWlkIjogIjY0MDI0NiIsICJ1c2VyIjogInB0cmNocG1uIiwgInZlcnNpb24iOiAiMSIsICJ3ZWJzaXRlIjogbnVsbH0sICJ0eXBlIjogIkZlYXR1cmUifSwgeyJnZW9tZXRyeSI6IHsiY29vcmRpbmF0ZXMiOiBbW1stMTEzLjQ5MTExNjQwMDAwMDAxLCA1My41NDY0MjkxXSwgWy0xMTMuNDkxMDkyMiwgNTMuNTQ2MzgyOV0sIFstMTEzLjQ5MTA1MiwgNTMuNTQ2MzQ5NF0sIFstMTEzLjQ5MDk5MDMsIDUzLjU0NjMzNjddLCBbLTExMy40ODk3NzY1LCA1My41NDYzOTUzXSwgWy0xMTMuNDg5NzM3OSwgNTMuNTQ2NDMyMzAwMDAwMDA2XSwgWy0xMTMuNDg5NzEzNywgNTMuNTQ2NDgwMTAwMDAwMDA0XSwgWy0xMTMuNDg5NzQ4NiwgNTMuNTQ2NTY2Ml0sIFstMTEzLjQ4OTc5NDIsIDUzLjU0NjYwMjhdLCBbLTExMy40ODk4NTU5LCA1My41NDY2MjgzXSwgWy0xMTMuNDg5OTQ0NCwgNTMuNTQ2NjMzMV0sIFstMTEzLjQ5MDk4NzYsIDUzLjU0NjU1ODJdLCBbLTExMy40OTEwNTc0LCA1My41NDY1MTY4XSwgWy0xMTMuNDkxMDk3NiwgNTMuNTQ2NDcyMl0sIFstMTEzLjQ5MTExNjQwMDAwMDAxLCA1My41NDY0MjkxXV1dLCAidHlwZSI6ICJQb2x5Z29uIn0sICJpZCI6ICI5IiwgInByb3BlcnRpZXMiOiB7ImFkZHI6Y2l0eSI6IG51bGwsICJhZGRyOmhvdXNlbnVtYmVyIjogbnVsbCwgImFkZHI6cG9zdGNvZGUiOiBudWxsLCAiYWRkcjpwcm92aW5jZSI6IG51bGwsICJhZGRyOnN0cmVldCI6IG51bGwsICJjaGFuZ2VzZXQiOiAiMTE1MjQ0MDkiLCAiZ29sZiI6IG51bGwsICJpZCI6ICJ3YXkvMTYyNTEzNzEzIiwgImxhbmR1c2UiOiBudWxsLCAibGVpc3VyZSI6ICJwYXJrIiwgIm5hbWUiOiBudWxsLCAib3BlbmluZ19ob3VycyI6IG51bGwsICJwX2FyZWEiOiAzLjA4OTg0MDg1MDAxODgyOWUtMDcsICJwaG9uZSI6IG51bGwsICJzb3VyY2UiOiAiQmluZyIsICJzcG9ydCI6IG51bGwsICJzdHlsZSI6IHsiY29sb3IiOiAiYmxhY2siLCAiZmlsbENvbG9yIjogIiNGRUIyNEMiLCAiZmlsbE9wYWNpdHkiOiAwLjYsICJvcGFjdGl5IjogMC44LCAid2VpZ2h0IjogMX0sICJ0aW1lc3RhbXAiOiAiMjAxMi0wNS0wN1QwMDo1MzoxOFoiLCAidHlwZSI6IG51bGwsICJ1aWQiOiAiMjM5OTk4IiwgInVzZXIiOiAiU3VuZGFuY2UiLCAidmVyc2lvbiI6ICIxIiwgIndlYnNpdGUiOiBudWxsfSwgInR5cGUiOiAiRmVhdHVyZSJ9LCB7Imdlb21ldHJ5IjogeyJjb29yZGluYXRlcyI6IFtbWy0xMTMuNTI0ODU0OSwgNTMuNTQzMTI0MV0sIFstMTEzLjUyMzI3MDgsIDUzLjU0MzExOTAwMDAwMDAwNF0sIFstMTEzLjUyMzI3MzQsIDUzLjU0MzY4NjNdLCBbLTExMy41MjMzMzc3LCA1My41NDM2ODc4XSwgWy0xMTMuNTIzNDM0NiwgNTMuNTQzNjgwMV0sIFstMTEzLjUyMzU0MTksIDUzLjU0MzYzNTVdLCBbLTExMy41MjM1NTg1LCA1My41NDM1OTcwMDAwMDAwMDVdLCBbLTExMy41MjM2Njk0LCA1My41NDM1NTQ4XSwgWy0xMTMuNTIzNzMyOCwgNTMuNTQzNjExOF0sIFstMTEzLjUyNDg2MTIsIDUzLjU0MzU5NDFdLCBbLTExMy41MjQ4NTQ5LCA1My41NDMxMjQxXV1dLCAidHlwZSI6ICJQb2x5Z29uIn0sICJpZCI6ICIxMCIsICJwcm9wZXJ0aWVzIjogeyJhZGRyOmNpdHkiOiBudWxsLCAiYWRkcjpob3VzZW51bWJlciI6IG51bGwsICJhZGRyOnBvc3Rjb2RlIjogbnVsbCwgImFkZHI6cHJvdmluY2UiOiBudWxsLCAiYWRkcjpzdHJlZXQiOiBudWxsLCAiY2hhbmdlc2V0IjogIjE1OTE2NTkzIiwgImdvbGYiOiBudWxsLCAiaWQiOiAid2F5LzIxOTQ4ODIwMiIsICJsYW5kdXNlIjogbnVsbCwgImxlaXN1cmUiOiAicGFyayIsICJuYW1lIjogbnVsbCwgIm9wZW5pbmdfaG91cnMiOiBudWxsLCAicF9hcmVhIjogNy43ODcxODI3NTAwMjIyNGUtMDcsICJwaG9uZSI6IG51bGwsICJzb3VyY2UiOiAiQmluZyIsICJzcG9ydCI6IG51bGwsICJzdHlsZSI6IHsiY29sb3IiOiAiYmxhY2siLCAiZmlsbENvbG9yIjogIiNGRDhEM0MiLCAiZmlsbE9wYWNpdHkiOiAwLjYsICJvcGFjdGl5IjogMC44LCAid2VpZ2h0IjogMX0sICJ0aW1lc3RhbXAiOiAiMjAxMy0wNC0zMFQwNjowMTo1MVoiLCAidHlwZSI6IG51bGwsICJ1aWQiOiAiMjM5OTk4IiwgInVzZXIiOiAiU3VuZGFuY2UiLCAidmVyc2lvbiI6ICIxIiwgIndlYnNpdGUiOiBudWxsfSwgInR5cGUiOiAiRmVhdHVyZSJ9LCB7Imdlb21ldHJ5IjogeyJjb29yZGluYXRlcyI6IFtbWy0xMTMuNTI1MDYyNCwgNTMuNTQ0Njk1Ml0sIFstMTEzLjUyNTA4OTIsIDUzLjU0NjA1OTVdLCBbLTExMy41MjUxNDI5LCA1My41NDYwOTYxXSwgWy0xMTMuNTI2NjA3NCwgNTMuNTQ2MDkyOV0sIFstMTEzLjUyNjY3MTcsIDUzLjU0NjA2NTddLCBbLTExMy41MjY2NzE3LCA1My41NDQ2ODg4XSwgWy0xMTMuNTI1MDYyNCwgNTMuNTQ0Njk1Ml1dXSwgInR5cGUiOiAiUG9seWdvbiJ9LCAiaWQiOiAiMTEiLCAicHJvcGVydGllcyI6IHsiYWRkcjpjaXR5IjogbnVsbCwgImFkZHI6aG91c2VudW1iZXIiOiBudWxsLCAiYWRkcjpwb3N0Y29kZSI6IG51bGwsICJhZGRyOnByb3ZpbmNlIjogbnVsbCwgImFkZHI6c3RyZWV0IjogbnVsbCwgImNoYW5nZXNldCI6ICIxNTkxNjU5MyIsICJnb2xmIjogbnVsbCwgImlkIjogIndheS8yMTk0ODgyMjUiLCAibGFuZHVzZSI6IG51bGwsICJsZWlzdXJlIjogInBhcmsiLCAibmFtZSI6IG51bGwsICJvcGVuaW5nX2hvdXJzIjogbnVsbCwgInBfYXJlYSI6IDIuMjM1OTQ5NDc5OTkzMzQzNmUtMDYsICJwaG9uZSI6IG51bGwsICJzb3VyY2UiOiAiQmluZyIsICJzcG9ydCI6IG51bGwsICJzdHlsZSI6IHsiY29sb3IiOiAiYmxhY2siLCAiZmlsbENvbG9yIjogIiNGQzRFMkEiLCAiZmlsbE9wYWNpdHkiOiAwLjYsICJvcGFjdGl5IjogMC44LCAid2VpZ2h0IjogMX0sICJ0aW1lc3RhbXAiOiAiMjAxMy0wNC0zMFQwNjowMTo1MloiLCAidHlwZSI6IG51bGwsICJ1aWQiOiAiMjM5OTk4IiwgInVzZXIiOiAiU3VuZGFuY2UiLCAidmVyc2lvbiI6ICIxIiwgIndlYnNpdGUiOiBudWxsfSwgInR5cGUiOiAiRmVhdHVyZSJ9LCB7Imdlb21ldHJ5IjogeyJjb29yZGluYXRlcyI6IFtbWy0xMTMuNDk1Mzg5OCwgNTMuNTQwODAyN10sIFstMTEzLjQ5NTM2OTksIDUzLjU0MDQyMzZdLCBbLTExMy40OTQ5MTUzLCA1My41NDA0MjM2XSwgWy0xMTMuNDk0NzU1OCwgNTMuNTQwNTcwNV0sIFstMTEzLjQ5NDc1MTksIDUzLjU0MDgwMjddLCBbLTExMy40OTUzODk4LCA1My41NDA4MDI3XV1dLCAidHlwZSI6ICJQb2x5Z29uIn0sICJpZCI6ICIxMiIsICJwcm9wZXJ0aWVzIjogeyJhZGRyOmNpdHkiOiBudWxsLCAiYWRkcjpob3VzZW51bWJlciI6IG51bGwsICJhZGRyOnBvc3Rjb2RlIjogbnVsbCwgImFkZHI6cHJvdmluY2UiOiBudWxsLCAiYWRkcjpzdHJlZXQiOiBudWxsLCAiY2hhbmdlc2V0IjogIjM5ODk3NDY1IiwgImdvbGYiOiBudWxsLCAiaWQiOiAid2F5LzIyNDgwNTEwOSIsICJsYW5kdXNlIjogbnVsbCwgImxlaXN1cmUiOiAicGFyayIsICJuYW1lIjogIkFiYmV5IEdsZW4gUGFyayIsICJvcGVuaW5nX2hvdXJzIjogbnVsbCwgInBfYXJlYSI6IDIuMjUzMTQ4NzAwMDI5ODc5NGUtMDcsICJwaG9uZSI6IG51bGwsICJzb3VyY2UiOiBudWxsLCAic3BvcnQiOiBudWxsLCAic3R5bGUiOiB7ImNvbG9yIjogImJsYWNrIiwgImZpbGxDb2xvciI6ICIjRkVCMjRDIiwgImZpbGxPcGFjaXR5IjogMC42LCAib3BhY3RpeSI6IDAuOCwgIndlaWdodCI6IDF9LCAidGltZXN0YW1wIjogIjIwMTYtMDYtMDlUMDI6MDg6NTlaIiwgInR5cGUiOiBudWxsLCAidWlkIjogIjU5NjA0NyIsICJ1c2VyIjogIlJwczMzMyIsICJ2ZXJzaW9uIjogIjIiLCAid2Vic2l0ZSI6IG51bGx9LCAidHlwZSI6ICJGZWF0dXJlIn0sIHsiZ2VvbWV0cnkiOiB7ImNvb3JkaW5hdGVzIjogW1tbLTExMy40OTU0MjIxLCA1My41Mzk1MTM0XSwgWy0xMTMuNDk1NDUxLCA1My41Mzk0OTA5XSwgWy0xMTMuNDk1NDU5LCA1My41Mzk0NjhdLCBbLTExMy40OTU0NTQ0LCA1My41MzkxMTQzXSwgWy0xMTMuNDk1NDYyNSwgNTMuNTM4OTY4N10sIFstMTEzLjQ5NTM3NDYsIDUzLjUzODg5MDRdLCBbLTExMy40OTUxNjY4LCA1My41MzkwNTY1XSwgWy0xMTMuNDk0OTY1MywgNTMuNTM5MjE1NV0sIFstMTEzLjQ5NDc0ODEsIDUzLjUzOTMyODcwMDAwMDAwNl0sIFstMTEzLjQ5NDQxMDEsIDUzLjUzOTQxMTZdLCBbLTExMy40OTQwNjUyMDAwMDAwMSwgNTMuNTM5NDc4NDAwMDAwMDFdLCBbLTExMy40OTQwNjUyMDAwMDAwMSwgNTMuNTM5NDg1Ml0sIFstMTEzLjQ5NDA4NDEwMDAwMDAxLCA1My41Mzk1MDY0XSwgWy0xMTMuNDk0MTU3NSwgNTMuNTM5NTI0NDAwMDAwMDA1XSwgWy0xMTMuNDk1NDIyMSwgNTMuNTM5NTEzNF1dXSwgInR5cGUiOiAiUG9seWdvbiJ9LCAiaWQiOiAiMTMiLCAicHJvcGVydGllcyI6IHsiYWRkcjpjaXR5IjogbnVsbCwgImFkZHI6aG91c2VudW1iZXIiOiBudWxsLCAiYWRkcjpwb3N0Y29kZSI6IG51bGwsICJhZGRyOnByb3ZpbmNlIjogbnVsbCwgImFkZHI6c3RyZWV0IjogbnVsbCwgImNoYW5nZXNldCI6ICIyNTMxNjk2OSIsICJnb2xmIjogbnVsbCwgImlkIjogIndheS8xNjA4MzY3OTMiLCAibGFuZHVzZSI6IG51bGwsICJsZWlzdXJlIjogInBhcmsiLCAibmFtZSI6ICJWZXRlcmFucyBQYXJrIiwgIm9wZW5pbmdfaG91cnMiOiBudWxsLCAicF9hcmVhIjogMy42NzM2MDgzOTk5NTgzNzRlLTA3LCAicGhvbmUiOiBudWxsLCAic291cmNlIjogbnVsbCwgInNwb3J0IjogbnVsbCwgInN0eWxlIjogeyJjb2xvciI6ICJibGFjayIsICJmaWxsQ29sb3IiOiAiI0ZFQjI0QyIsICJmaWxsT3BhY2l0eSI6IDAuNiwgIm9wYWN0aXkiOiAwLjgsICJ3ZWlnaHQiOiAxfSwgInRpbWVzdGFtcCI6ICIyMDE0LTA5LTA4VDIxOjMzOjU0WiIsICJ0eXBlIjogbnVsbCwgInVpZCI6ICIxMzk5NTciLCAidXNlciI6ICJpal8iLCAidmVyc2lvbiI6ICIzIiwgIndlYnNpdGUiOiBudWxsfSwgInR5cGUiOiAiRmVhdHVyZSJ9LCB7Imdlb21ldHJ5IjogeyJjb29yZGluYXRlcyI6IFtbWy0xMTMuNTI1ODEzNDAwMDAwMDIsIDUzLjU0NTYyNl0sIFstMTEzLjUyNTc5NzMwMDAwMDAxLCA1My41NDU0MTU2MDAwMDAwMDVdLCBbLTExMy41MjU1ODAxLCA1My41NDU0MTg2XSwgWy0xMTMuNTI1NTE1NywgNTMuNTQ1NTA3OV0sIFstMTEzLjUyNTUxODQwMDAwMDAxLCA1My41NDU2MjU4XSwgWy0xMTMuNTI1NzczMjAwMDAwMDIsIDUzLjU0NTYzNzFdLCBbLTExMy41MjU4MTM0MDAwMDAwMiwgNTMuNTQ1NjI2XV1dLCAidHlwZSI6ICJQb2x5Z29uIn0sICJpZCI6ICIxNCIsICJwcm9wZXJ0aWVzIjogeyJhZGRyOmNpdHkiOiBudWxsLCAiYWRkcjpob3VzZW51bWJlciI6IG51bGwsICJhZGRyOnBvc3Rjb2RlIjogbnVsbCwgImFkZHI6cHJvdmluY2UiOiBudWxsLCAiYWRkcjpzdHJlZXQiOiBudWxsLCAiY2hhbmdlc2V0IjogIjE1OTE2NTkzIiwgImdvbGYiOiBudWxsLCAiaWQiOiAid2F5LzIxOTQ4ODIxOCIsICJsYW5kdXNlIjogbnVsbCwgImxlaXN1cmUiOiAicGxheWdyb3VuZCIsICJuYW1lIjogbnVsbCwgIm9wZW5pbmdfaG91cnMiOiBudWxsLCAicF9hcmVhIjogNS44OTk5OTY1MDAxMjA3Nzk0ZS0wOCwgInBob25lIjogbnVsbCwgInNvdXJjZSI6ICJCaW5nIiwgInNwb3J0IjogbnVsbCwgInN0eWxlIjogeyJjb2xvciI6ICJibGFjayIsICJmaWxsQ29sb3IiOiAiI0ZGRkZCMiIsICJmaWxsT3BhY2l0eSI6IDAuNiwgIm9wYWN0aXkiOiAwLjgsICJ3ZWlnaHQiOiAxfSwgInRpbWVzdGFtcCI6ICIyMDEzLTA0LTMwVDA2OjAxOjUyWiIsICJ0eXBlIjogbnVsbCwgInVpZCI6ICIyMzk5OTgiLCAidXNlciI6ICJTdW5kYW5jZSIsICJ2ZXJzaW9uIjogIjEiLCAid2Vic2l0ZSI6IG51bGx9LCAidHlwZSI6ICJGZWF0dXJlIn0sIHsiZ2VvbWV0cnkiOiB7ImNvb3JkaW5hdGVzIjogW1tbLTExMy40ODc5ODk1LCA1My41Mzg4MTQ1XSwgWy0xMTMuNDg4MTMwNywgNTMuNTM4NjM3Ml0sIFstMTEzLjQ4ODEwNzksIDUzLjUzODUzNTddLCBbLTExMy40ODgwNDQxLCA1My41Mzg0OTkyXSwgWy0xMTMuNDg3Njg0MywgNTMuNTM4NDAzMV0sIFstMTEzLjQ4NzU1NjcsIDUzLjUzODU2MTRdLCBbLTExMy40ODcxMjM0LCA1My41Mzg4MDk1MDAwMDAwMDZdLCBbLTExMy40ODY1MDkzLCA1My41MzkxOTk3MDAwMDAwMDVdLCBbLTExMy40ODU5NTcyLCA1My41Mzk0NjkzXSwgWy0xMTMuNDg1NzgwMSwgNTMuNTM5NTU1OF0sIFstMTEzLjQ4NTE0MTYsIDUzLjUzOTg2NTRdLCBbLTExMy40ODQ1NSwgNTMuNTM5OTQ3N10sIFstMTEzLjQ4MzM1OTQwMDAwMDAxLCA1My41NDAxODY2XSwgWy0xMTMuNDgxNTg4MiwgNTMuNTQwMzcwOF0sIFstMTEzLjQ3OTcxOTgwMDAwMDAxLCA1My41NDA1NTMzXSwgWy0xMTMuNDc3NTQ4NjAwMDAwMDIsIDUzLjU0MDcyMl0sIFstMTEzLjQ3NzA0MDQsIDUzLjU0MDc0ODldLCBbLTExMy40NzYzNDgyLCA1My41NDA3NTA1XSwgWy0xMTMuNDczNjE0MiwgNTMuNTQwOTAxXSwgWy0xMTMuNDc3MDQ4OSwgNTMuNTQyMDg5N10sIFstMTEzLjQ3NzQ1NjcsIDUzLjU0MjA2NjddLCBbLTExMy40Nzc3OTM4LCA1My41NDIxOTA3XSwgWy0xMTMuNDc4Mzk2OCwgNTMuNTQyNTk0NF0sIFstMTEzLjQ3ODY3OTMsIDUzLjU0MjY5MjRdLCBbLTExMy40Nzk2MTcyLCA1My41NDI5MTA0XSwgWy0xMTMuNDgwMDA0NzAwMDAwMDEsIDUzLjU0MjkzNzVdLCBbLTExMy40ODAyOTA1LCA1My41NDI5MDZdLCBbLTExMy40ODMwNjczLCA1My41NDIzNzMxXSwgWy0xMTMuNDgzNjA2NywgNTMuNTQyMDk4NF0sIFstMTEzLjQ4NTI5MDcwMDAwMDAxLCA1My41NDA5ODEzXSwgWy0xMTMuNDg1ODk2NSwgNTMuNTQwNTQ0Ml0sIFstMTEzLjQ4NzAzMzQsIDUzLjUzOTY5OTddLCBbLTExMy40ODc5ODk1LCA1My41Mzg4MTQ1XV1dLCAidHlwZSI6ICJQb2x5Z29uIn0sICJpZCI6ICIxNSIsICJwcm9wZXJ0aWVzIjogeyJhZGRyOmNpdHkiOiAiRWRtb250b24iLCAiYWRkcjpob3VzZW51bWJlciI6ICI5OTk5IiwgImFkZHI6cG9zdGNvZGUiOiAiVDVIIDJBNCIsICJhZGRyOnByb3ZpbmNlIjogIkFCIiwgImFkZHI6c3RyZWV0IjogIkdyaWVyc29uIEhpbGwgTlciLCAiY2hhbmdlc2V0IjogIjQ0MDgwODUzIiwgImdvbGYiOiBudWxsLCAiaWQiOiAid2F5LzIyNjMyMjgxOCIsICJsYW5kdXNlIjogbnVsbCwgImxlaXN1cmUiOiAicGFyayIsICJuYW1lIjogIkxvdWlzZSBNY0tpbm5leSBSaXZlcmZyb250IFBhcmsiLCAib3BlbmluZ19ob3VycyI6ICJNby1TdSAwNTowMC0yMzowMCIsICJwX2FyZWEiOiAyLjExMDYwMTk2MDQ5ODk1MTRlLTA1LCAicGhvbmUiOiAiKzEgNzgwLTQ0Mi01MzExIiwgInNvdXJjZSI6IG51bGwsICJzcG9ydCI6IG51bGwsICJzdHlsZSI6IHsiY29sb3IiOiAiYmxhY2siLCAiZmlsbENvbG9yIjogIiNGQzRFMkEiLCAiZmlsbE9wYWNpdHkiOiAwLjYsICJvcGFjdGl5IjogMC44LCAid2VpZ2h0IjogMX0sICJ0aW1lc3RhbXAiOiAiMjAxNi0xMi0wMVQwODo1MzoyMloiLCAidHlwZSI6IG51bGwsICJ1aWQiOiAiMzg0ODk1NSIsICJ1c2VyIjogIk1lc293aGl0ZSIsICJ2ZXJzaW9uIjogIjUiLCAid2Vic2l0ZSI6ICJodHRwczovL3d3dy5lZG1vbnRvbi5jYS9hY3Rpdml0aWVzX3BhcmtzX3JlY3JlYXRpb24vcGFya3Nfcml2ZXJ2YWxsZXkvbG91aXNlLW1ja2lubmV5LXJpdmVyZnJvbnQtcGFyay5hc3B4In0sICJ0eXBlIjogIkZlYXR1cmUifSwgeyJnZW9tZXRyeSI6IHsiY29vcmRpbmF0ZXMiOiBbW1stMTEzLjUzMDc4NzYsIDUzLjUzNzU0MTZdLCBbLTExMy41MzA3MjY2LCA1My41MzY3NjkxMDAwMDAwMV0sIFstMTEzLjUzMDYzOTUsIDUzLjUzNjY3ODldLCBbLTExMy41MzA0OTU4MDAwMDAwMSwgNTMuNTM2NjM1XSwgWy0xMTMuNTI5NDU4MSwgNTMuNTM2NjI3XSwgWy0xMTMuNTI5MTg3NywgNTMuNTM2ODA2N10sIFstMTEzLjUyOTEyNzYsIDUzLjUzNzY1MDRdLCBbLTExMy41MjkyNTQxLCA1My41Mzc3Njg5XSwgWy0xMTMuNTMwMjIzLCA1My41Mzc3OTI3XSwgWy0xMTMuNTMwNzg3NiwgNTMuNTM3NTQxNl1dXSwgInR5cGUiOiAiUG9seWdvbiJ9LCAiaWQiOiAiMTYiLCAicHJvcGVydGllcyI6IHsiYWRkcjpjaXR5IjogbnVsbCwgImFkZHI6aG91c2VudW1iZXIiOiBudWxsLCAiYWRkcjpwb3N0Y29kZSI6IG51bGwsICJhZGRyOnByb3ZpbmNlIjogbnVsbCwgImFkZHI6c3RyZWV0IjogbnVsbCwgImNoYW5nZXNldCI6ICI0NTEyMDk5OSIsICJnb2xmIjogbnVsbCwgImlkIjogIndheS8yOTQ3NDgyOCIsICJsYW5kdXNlIjogbnVsbCwgImxlaXN1cmUiOiAicGl0Y2giLCAibmFtZSI6ICJWaWN0b3JpYSBQYXJrIENyaWNrZXQiLCAib3BlbmluZ19ob3VycyI6IG51bGwsICJwX2FyZWEiOiAxLjczMjU1OTQ3NTAwMDc1ODVlLTA2LCAicGhvbmUiOiBudWxsLCAic291cmNlIjogbnVsbCwgInNwb3J0IjogImNyaWNrZXQiLCAic3R5bGUiOiB7ImNvbG9yIjogImJsYWNrIiwgImZpbGxDb2xvciI6ICIjRkQ4RDNDIiwgImZpbGxPcGFjaXR5IjogMC42LCAib3BhY3RpeSI6IDAuOCwgIndlaWdodCI6IDF9LCAidGltZXN0YW1wIjogIjIwMTctMDEtMTNUMDA6MzY6NTdaIiwgInR5cGUiOiBudWxsLCAidWlkIjogIjM4ODk2OSIsICJ1c2VyIjogImpka3JhYmJlIiwgInZlcnNpb24iOiAiMyIsICJ3ZWJzaXRlIjogbnVsbH0sICJ0eXBlIjogIkZlYXR1cmUifSwgeyJnZW9tZXRyeSI6IHsiY29vcmRpbmF0ZXMiOiBbW1stMTEzLjQ4NzA3NDUsIDUzLjU0MTA4MTldLCBbLTExMy40ODc0NSwgNTMuNTQwNzYzMV0sIFstMTEzLjQ4NzQyMzIsIDUzLjU0MDU0NjRdLCBbLTExMy40ODc4MjU2MDAwMDAwMSwgNTMuNTQwMzI5Nl0sIFstMTEzLjQ4ODE5MywgNTMuNTQwMzE3M10sIFstMTEzLjQ4ODc5NjUwMDAwMDAyLCA1My41NDAwNDI3XSwgWy0xMTMuNDg5NDc3OCwgNTMuNTM5NjkyXSwgWy0xMTMuNDg5ODQ4MywgNTMuNTM5NTQ3XSwgWy0xMTMuNDkwOTQyMywgNTMuNTM4OTc3OV0sIFstMTEzLjQ5MTE5NDQsIDUzLjUzODg4MjNdLCBbLTExMy40OTE0Mzg1LCA1My41Mzg4MzE4MDAwMDAwMDRdLCBbLTExMy40OTE2NzE2LCA1My41Mzg4MDI2XSwgWy0xMTMuNDkzMDk4NSwgNTMuNTM4NzgwM10sIFstMTEzLjQ5MzM4ODIsIDUzLjUzODcyOTNdLCBbLTExMy40OTM2MTM1MDAwMDAwMSwgNTMuNTM4NTg5XSwgWy0xMTMuNDkzNjgwOCwgNTMuNTM4NDIwNV0sIFstMTEzLjQ5MzU4OTYsIDUzLjUzODI4OThdLCBbLTExMy40OTM0MjMzLCA1My41MzgxNzE4XSwgWy0xMTMuNDkzMTQ5NywgNTMuNTM4MDg5XSwgWy0xMTMuNDkyODIyNSwgNTMuNTM4MDg5XSwgWy0xMTMuNDkxNzEyMSwgNTMuNTM4Mjg2Nl0sIFstMTEzLjQ5MDk0NSwgNTMuNTM4NDUyNF0sIFstMTEzLjQ5MDczMzEsIDUzLjUzODU1NzFdLCBbLTExMy40OTAyNzcxLCA1My41Mzg2NjU1XSwgWy0xMTMuNDkwMDYyNSwgNTMuNTM4Njc4MzAwMDAwMDFdLCBbLTExMy40ODk1MjA5LCA1My41Mzg4MTddLCBbLTExMy40ODg4NjA5LCA1My41Mzg5NzQ3XSwgWy0xMTMuNDg4NTA2OCwgNTMuNTM5MTUwMV0sIFstMTEzLjQ4NzI5NDUsIDUzLjUzOTk3NTddLCBbLTExMy40ODY4NzA3LCA1My41NDA1NF0sIFstMTEzLjQ4NjY4MjksIDUzLjU0MDY5NjJdLCBbLTExMy40ODcwNzQ1LCA1My41NDEwODE5XV1dLCAidHlwZSI6ICJQb2x5Z29uIn0sICJpZCI6ICIxNyIsICJwcm9wZXJ0aWVzIjogeyJhZGRyOmNpdHkiOiBudWxsLCAiYWRkcjpob3VzZW51bWJlciI6IG51bGwsICJhZGRyOnBvc3Rjb2RlIjogbnVsbCwgImFkZHI6cHJvdmluY2UiOiBudWxsLCAiYWRkcjpzdHJlZXQiOiBudWxsLCAiY2hhbmdlc2V0IjogIjM5NTkyOTE0IiwgImdvbGYiOiBudWxsLCAiaWQiOiAid2F5LzE2MDgzNjc5MiIsICJsYW5kdXNlIjogbnVsbCwgImxlaXN1cmUiOiAicGFyayIsICJuYW1lIjogIlJvc3NkYWxlIFBhcmsiLCAib3BlbmluZ19ob3VycyI6IG51bGwsICJwX2FyZWEiOiA0Ljg1MjgzNjU3OTk5Nzg1NzVlLTA2LCAicGhvbmUiOiBudWxsLCAic291cmNlIjogbnVsbCwgInNwb3J0IjogbnVsbCwgInN0eWxlIjogeyJjb2xvciI6ICJibGFjayIsICJmaWxsQ29sb3IiOiAiI0ZDNEUyQSIsICJmaWxsT3BhY2l0eSI6IDAuNiwgIm9wYWN0aXkiOiAwLjgsICJ3ZWlnaHQiOiAxfSwgInRpbWVzdGFtcCI6ICIyMDE2LTA1LTI2VDIzOjE5OjA3WiIsICJ0eXBlIjogbnVsbCwgInVpZCI6ICIyMzY1MzMwIiwgInVzZXIiOiAiVmlhamVybyBQZXJkaWRvIiwgInZlcnNpb24iOiAiMiIsICJ3ZWJzaXRlIjogbnVsbH0sICJ0eXBlIjogIkZlYXR1cmUifSwgeyJnZW9tZXRyeSI6IHsiY29vcmRpbmF0ZXMiOiBbW1stMTEzLjUyNDM0OTUsIDUzLjU0NDUyMzZdLCBbLTExMy41MjQzNDEyLCA1My41NDQwOTEzXSwgWy0xMTMuNTIzMjc5NSwgNTMuNTQ0MDk2Ml0sIFstMTEzLjUyMzI2MDEsIDUzLjU0NDUzMjddLCBbLTExMy41MjQzNDk1LCA1My41NDQ1MjM2XV1dLCAidHlwZSI6ICJQb2x5Z29uIn0sICJpZCI6ICIxOCIsICJwcm9wZXJ0aWVzIjogeyJhZGRyOmNpdHkiOiBudWxsLCAiYWRkcjpob3VzZW51bWJlciI6IG51bGwsICJhZGRyOnBvc3Rjb2RlIjogbnVsbCwgImFkZHI6cHJvdmluY2UiOiBudWxsLCAiYWRkcjpzdHJlZXQiOiBudWxsLCAiY2hhbmdlc2V0IjogIjE1OTE2NTkzIiwgImdvbGYiOiBudWxsLCAiaWQiOiAid2F5LzIxOTQ4ODIyMCIsICJsYW5kdXNlIjogbnVsbCwgImxlaXN1cmUiOiAicGFyayIsICJuYW1lIjogbnVsbCwgIm9wZW5pbmdfaG91cnMiOiBudWxsLCAicF9hcmVhIjogNC42NzE4MDA2OTk5NzgzMjk0ZS0wNywgInBob25lIjogbnVsbCwgInNvdXJjZSI6ICJCaW5nIiwgInNwb3J0IjogbnVsbCwgInN0eWxlIjogeyJjb2xvciI6ICJibGFjayIsICJmaWxsQ29sb3IiOiAiI0ZFQjI0QyIsICJmaWxsT3BhY2l0eSI6IDAuNiwgIm9wYWN0aXkiOiAwLjgsICJ3ZWlnaHQiOiAxfSwgInRpbWVzdGFtcCI6ICIyMDEzLTA0LTMwVDA2OjAxOjUyWiIsICJ0eXBlIjogbnVsbCwgInVpZCI6ICIyMzk5OTgiLCAidXNlciI6ICJTdW5kYW5jZSIsICJ2ZXJzaW9uIjogIjEiLCAid2Vic2l0ZSI6IG51bGx9LCAidHlwZSI6ICJGZWF0dXJlIn0sIHsiZ2VvbWV0cnkiOiB7ImNvb3JkaW5hdGVzIjogW1tbLTExMy41MTU2MTczLCA1My41NDY5NTAzXSwgWy0xMTMuNTE1NjE0NiwgNTMuNTQ2OTM3OF0sIFstMTEzLjUxNTU5ODEsIDUzLjU0NjkxODJdLCBbLTExMy41MTU1OTk1LCA1My41NDY5MzQ3XSwgWy0xMTMuNTE1NjA2NzAwMDAwMDIsIDUzLjU0Njk0OTZdLCBbLTExMy41MTU2MTczLCA1My41NDY5NTAzXV1dLCAidHlwZSI6ICJQb2x5Z29uIn0sICJpZCI6ICIxOSIsICJwcm9wZXJ0aWVzIjogeyJhZGRyOmNpdHkiOiBudWxsLCAiYWRkcjpob3VzZW51bWJlciI6IG51bGwsICJhZGRyOnBvc3Rjb2RlIjogbnVsbCwgImFkZHI6cHJvdmluY2UiOiBudWxsLCAiYWRkcjpzdHJlZXQiOiBudWxsLCAiY2hhbmdlc2V0IjogIjE2NjQzODIzIiwgImdvbGYiOiBudWxsLCAiaWQiOiAid2F5LzIyNjcxOTAyNSIsICJsYW5kdXNlIjogbnVsbCwgImxlaXN1cmUiOiAicGFyayIsICJuYW1lIjogbnVsbCwgIm9wZW5pbmdfaG91cnMiOiBudWxsLCAicF9hcmVhIjogMi44OTA0NTAwMDEzOTA0MjFlLTEwLCAicGhvbmUiOiBudWxsLCAic291cmNlIjogbnVsbCwgInNwb3J0IjogbnVsbCwgInN0eWxlIjogeyJjb2xvciI6ICJibGFjayIsICJmaWxsQ29sb3IiOiAiI0ZGRkZCMiIsICJmaWxsT3BhY2l0eSI6IDAuNiwgIm9wYWN0aXkiOiAwLjgsICJ3ZWlnaHQiOiAxfSwgInRpbWVzdGFtcCI6ICIyMDEzLTA2LTIxVDEzOjAyOjQyWiIsICJ0eXBlIjogbnVsbCwgInVpZCI6ICI0NTQwMTIiLCAidXNlciI6ICJGZWxkbyIsICJ2ZXJzaW9uIjogIjEiLCAid2Vic2l0ZSI6IG51bGx9LCAidHlwZSI6ICJGZWF0dXJlIn0sIHsiZ2VvbWV0cnkiOiB7ImNvb3JkaW5hdGVzIjogW1tbLTExMy40ODc4ODM3LCA1My41MzgxNTQ2XSwgWy0xMTMuNDg4MTUsIDUzLjUzODI2NF0sIFstMTEzLjQ4ODQ3NjMsIDUzLjUzODM2NDVdLCBbLTExMy40ODg2Njg5LCA1My41MzgzMzU5XSwgWy0xMTMuNDg5MjIwOCwgNTMuNTM3OTQ1MV0sIFstMTEzLjQ4OTU1OSwgNTMuNTM3NzkwOV0sIFstMTEzLjQ4OTgzOTcsIDUzLjUzNzcwMjldLCBbLTExMy40OTAxNjk3LCA1My41Mzc2NDVdLCBbLTExMy40OTAzNzA1LCA1My41Mzc2MjU1XSwgWy0xMTMuNDkwOTU0MiwgNTMuNTM3NTg3OF0sIFstMTEzLjQ5MDk3MywgNTMuNTM3NTUwOF0sIFstMTEzLjQ5MDk2NjksIDUzLjUzNzMzOF0sIFstMTEzLjQ5MDk2NSwgNTMuNTM3MjA1OF0sIFstMTEzLjQ4OTc0NiwgNTMuNTM3MjA1NF0sIFstMTEzLjQ4OTY2NTUsIDUzLjUzNzA0OTJdLCBbLTExMy40ODk2MjI2LCA1My41MzY2NDExXSwgWy0xMTMuNDkwMzg5NywgNTMuNTM1NzMyNV0sIFstMTEzLjQ5MDI3MTcwMDAwMDAxLCA1My41MzU2MzA1XSwgWy0xMTMuNDkwMTI1NiwgNTMuNTM1NjYxNV0sIFstMTEzLjQ4OTU2MjIsIDUzLjUzNTc3NzJdLCBbLTExMy40ODg2NzgxLCA1My41MzcyMjA4XSwgWy0xMTMuNDg4MTkxOCwgNTMuNTM3ODUzMTAwMDAwMDFdLCBbLTExMy40ODgxMDQxMDAwMDAwMiwgNTMuNTM4MDM0N10sIFstMTEzLjQ4Nzk0MjUsIDUzLjUzODA5NzFdLCBbLTExMy40ODc4ODM3LCA1My41MzgxNTQ2XV1dLCAidHlwZSI6ICJQb2x5Z29uIn0sICJpZCI6ICIyMCIsICJwcm9wZXJ0aWVzIjogeyJhZGRyOmNpdHkiOiBudWxsLCAiYWRkcjpob3VzZW51bWJlciI6IG51bGwsICJhZGRyOnBvc3Rjb2RlIjogbnVsbCwgImFkZHI6cHJvdmluY2UiOiBudWxsLCAiYWRkcjpzdHJlZXQiOiBudWxsLCAiY2hhbmdlc2V0IjogIjM5NTkyOTE0IiwgImdvbGYiOiBudWxsLCAiaWQiOiAid2F5LzE2MDgzNjc4NiIsICJsYW5kdXNlIjogbnVsbCwgImxlaXN1cmUiOiAicGFyayIsICJuYW1lIjogIlJvc3NkYWxlIFBhcmsiLCAib3BlbmluZ19ob3VycyI6IG51bGwsICJwX2FyZWEiOiAyLjkxMjU4NzcyOTk5ODQxMzVlLTA2LCAicGhvbmUiOiBudWxsLCAic291cmNlIjogbnVsbCwgInNwb3J0IjogbnVsbCwgInN0eWxlIjogeyJjb2xvciI6ICJibGFjayIsICJmaWxsQ29sb3IiOiAiI0ZDNEUyQSIsICJmaWxsT3BhY2l0eSI6IDAuNiwgIm9wYWN0aXkiOiAwLjgsICJ3ZWlnaHQiOiAxfSwgInRpbWVzdGFtcCI6ICIyMDE2LTA1LTI2VDIzOjE5OjA3WiIsICJ0eXBlIjogbnVsbCwgInVpZCI6ICIyMzY1MzMwIiwgInVzZXIiOiAiVmlhamVybyBQZXJkaWRvIiwgInZlcnNpb24iOiAiNCIsICJ3ZWJzaXRlIjogbnVsbH0sICJ0eXBlIjogIkZlYXR1cmUifSwgeyJnZW9tZXRyeSI6IHsiY29vcmRpbmF0ZXMiOiBbW1stMTEzLjUxNzc1ODksIDUzLjU0Mzg3OTNdLCBbLTExMy41MTc3NTYyLCA1My41NDQ1MzQzXSwgWy0xMTMuNTE5MzE5OSwgNTMuNTQ0NTIzMV0sIFstMTEzLjUxOTMxNzIsIDUzLjU0Mzg4NTddLCBbLTExMy41MTc3NTg5LCA1My41NDM4NzkzXV1dLCAidHlwZSI6ICJQb2x5Z29uIn0sICJpZCI6ICIyMSIsICJwcm9wZXJ0aWVzIjogeyJhZGRyOmNpdHkiOiBudWxsLCAiYWRkcjpob3VzZW51bWJlciI6IG51bGwsICJhZGRyOnBvc3Rjb2RlIjogbnVsbCwgImFkZHI6cHJvdmluY2UiOiBudWxsLCAiYWRkcjpzdHJlZXQiOiBudWxsLCAiY2hhbmdlc2V0IjogIjE1OTE2NTkzIiwgImdvbGYiOiBudWxsLCAiaWQiOiAid2F5LzIxOTQ4ODIxMCIsICJsYW5kdXNlIjogbnVsbCwgImxlaXN1cmUiOiAicGFyayIsICJuYW1lIjogbnVsbCwgIm9wZW5pbmdfaG91cnMiOiBudWxsLCAicF9hcmVhIjogMS4wMDg3MTgyMDAwMDQ2OTU3ZS0wNiwgInBob25lIjogbnVsbCwgInNvdXJjZSI6ICJCaW5nIiwgInNwb3J0IjogbnVsbCwgInN0eWxlIjogeyJjb2xvciI6ICJibGFjayIsICJmaWxsQ29sb3IiOiAiI0ZEOEQzQyIsICJmaWxsT3BhY2l0eSI6IDAuNiwgIm9wYWN0aXkiOiAwLjgsICJ3ZWlnaHQiOiAxfSwgInRpbWVzdGFtcCI6ICIyMDEzLTA0LTMwVDA2OjAxOjUxWiIsICJ0eXBlIjogbnVsbCwgInVpZCI6ICIyMzk5OTgiLCAidXNlciI6ICJTdW5kYW5jZSIsICJ2ZXJzaW9uIjogIjEiLCAid2Vic2l0ZSI6IG51bGx9LCAidHlwZSI6ICJGZWF0dXJlIn0sIHsiZ2VvbWV0cnkiOiB7ImNvb3JkaW5hdGVzIjogW1tbLTExMy40OTIwNDY0LCA1My41NDA4NzAzXSwgWy0xMTMuNDkyMDE3MSwgNTMuNTQwNjI0M10sIFstMTEzLjQ5MjAxMDMsIDUzLjU0MDU2NzZdLCBbLTExMy40OTE1MzY4LCA1My41NDA1ODc2XSwgWy0xMTMuNDkxNTM5NywgNTMuNTQwNjQwNl0sIFstMTEzLjQ5MTU0NDEsIDUzLjU0MDc2NzZdLCBbLTExMy40OTE1ODM5LCA1My41NDA4MTc4XSwgWy0xMTMuNDkxNjA3NSwgNTMuNTQwODI0OF0sIFstMTEzLjQ5MTY0NTMsIDUzLjU0MDgzNl0sIFstMTEzLjQ5MTc5NjIsIDUzLjU0MDg2NTldLCBbLTExMy40OTE5ODUzLCA1My41NDA4NjkyXSwgWy0xMTMuNDkyMDQ2NCwgNTMuNTQwODcwM11dXSwgInR5cGUiOiAiUG9seWdvbiJ9LCAiaWQiOiAiMjIiLCAicHJvcGVydGllcyI6IHsiYWRkcjpjaXR5IjogbnVsbCwgImFkZHI6aG91c2VudW1iZXIiOiBudWxsLCAiYWRkcjpwb3N0Y29kZSI6IG51bGwsICJhZGRyOnByb3ZpbmNlIjogbnVsbCwgImFkZHI6c3RyZWV0IjogbnVsbCwgImNoYW5nZXNldCI6ICI0MzkxMTY0OCIsICJnb2xmIjogbnVsbCwgImlkIjogIndheS8yMjY2MjA4NjAiLCAibGFuZHVzZSI6IG51bGwsICJsZWlzdXJlIjogInBhcmsiLCAibmFtZSI6IG51bGwsICJvcGVuaW5nX2hvdXJzIjogbnVsbCwgInBfYXJlYSI6IDEuMzMzNjIwMjQ5OTk2MzVlLTA3LCAicGhvbmUiOiBudWxsLCAic291cmNlIjogbnVsbCwgInNwb3J0IjogbnVsbCwgInN0eWxlIjogeyJjb2xvciI6ICJibGFjayIsICJmaWxsQ29sb3IiOiAiI0ZFQjI0QyIsICJmaWxsT3BhY2l0eSI6IDAuNiwgIm9wYWN0aXkiOiAwLjgsICJ3ZWlnaHQiOiAxfSwgInRpbWVzdGFtcCI6ICIyMDE2LTExLTI0VDA2OjEwOjIxWiIsICJ0eXBlIjogbnVsbCwgInVpZCI6ICIzODQ4OTU1IiwgInVzZXIiOiAiTWVzb3doaXRlIiwgInZlcnNpb24iOiAiMiIsICJ3ZWJzaXRlIjogbnVsbH0sICJ0eXBlIjogIkZlYXR1cmUifSwgeyJnZW9tZXRyeSI6IHsiY29vcmRpbmF0ZXMiOiBbW1stMTEzLjUwMDExMjUsIDUzLjUzOTY0MTFdLCBbLTExMy41MDAxMTI1LCA1My41Mzk1MDg4XSwgWy0xMTMuNDk5ODUwNSwgNTMuNTM5NTA5Nl0sIFstMTEzLjQ5OTQzNzgsIDUzLjUzOTUwNzFdLCBbLTExMy40OTk0Mjg1LCA1My41Mzk2NDU5XSwgWy0xMTMuNTAwMTEyNSwgNTMuNTM5NjQxMV1dXSwgInR5cGUiOiAiUG9seWdvbiJ9LCAiaWQiOiAiMjMiLCAicHJvcGVydGllcyI6IHsiYWRkcjpjaXR5IjogbnVsbCwgImFkZHI6aG91c2VudW1iZXIiOiBudWxsLCAiYWRkcjpwb3N0Y29kZSI6IG51bGwsICJhZGRyOnByb3ZpbmNlIjogbnVsbCwgImFkZHI6c3RyZWV0IjogbnVsbCwgImNoYW5nZXNldCI6ICIxNjYxMTEzOCIsICJnb2xmIjogbnVsbCwgImlkIjogIndheS8xNjA4MzY3OTQiLCAibGFuZHVzZSI6IG51bGwsICJsZWlzdXJlIjogInBhcmsiLCAibmFtZSI6ICJCZWF0cmljZSBDYXJtaWNoYWVsIFBhcmsiLCAib3BlbmluZ19ob3VycyI6IG51bGwsICJwX2FyZWEiOiA5LjE1ODYxMDQ5OTc0NzQ3NmUtMDgsICJwaG9uZSI6IG51bGwsICJzb3VyY2UiOiBudWxsLCAic3BvcnQiOiBudWxsLCAic3R5bGUiOiB7ImNvbG9yIjogImJsYWNrIiwgImZpbGxDb2xvciI6ICIjRkVEOTc2IiwgImZpbGxPcGFjaXR5IjogMC42LCAib3BhY3RpeSI6IDAuOCwgIndlaWdodCI6IDF9LCAidGltZXN0YW1wIjogIjIwMTMtMDYtMThUMjM6NDE6MTZaIiwgInR5cGUiOiBudWxsLCAidWlkIjogIjQ1NDAxMiIsICJ1c2VyIjogIkZlbGRvIiwgInZlcnNpb24iOiAiMiIsICJ3ZWJzaXRlIjogbnVsbH0sICJ0eXBlIjogIkZlYXR1cmUifSwgeyJnZW9tZXRyeSI6IHsiY29vcmRpbmF0ZXMiOiBbW1stMTEzLjUyMzc5MzksIDUzLjU0MzU2NjldLCBbLTExMy41MjQyMTMyMDAwMDAwMiwgNTMuNTQzNTYyNF0sIFstMTEzLjUyNDE5ODcsIDUzLjU0MzQ4MTNdLCBbLTExMy41MjQxNzc5LCA1My41NDM0MzY1XSwgWy0xMTMuNTI0MDc4MjAwMDAwMDIsIDUzLjU0MzM2NzddLCBbLTExMy41MjM5NTIxLCA1My41NDMzMjQ2XSwgWy0xMTMuNTIzNzY5NywgNTMuNTQzMjk3Nl0sIFstMTEzLjUyMzc1MDgsIDUzLjU0MzU0MjhdLCBbLTExMy41MjM3OTM5LCA1My41NDM1NjY5XV1dLCAidHlwZSI6ICJQb2x5Z29uIn0sICJpZCI6ICIyNCIsICJwcm9wZXJ0aWVzIjogeyJhZGRyOmNpdHkiOiBudWxsLCAiYWRkcjpob3VzZW51bWJlciI6IG51bGwsICJhZGRyOnBvc3Rjb2RlIjogbnVsbCwgImFkZHI6cHJvdmluY2UiOiBudWxsLCAiYWRkcjpzdHJlZXQiOiBudWxsLCAiY2hhbmdlc2V0IjogIjE1OTE2NTkzIiwgImdvbGYiOiBudWxsLCAiaWQiOiAid2F5LzIxOTQ4ODIwMCIsICJsYW5kdXNlIjogbnVsbCwgImxlaXN1cmUiOiAicGl0Y2giLCAibmFtZSI6IG51bGwsICJvcGVuaW5nX2hvdXJzIjogbnVsbCwgInBfYXJlYSI6IDkuNTEzNDUzMDAwMDQzODM3ZS0wOCwgInBob25lIjogbnVsbCwgInNvdXJjZSI6ICJCaW5nIiwgInNwb3J0IjogImJhc2ViYWxsIiwgInN0eWxlIjogeyJjb2xvciI6ICJibGFjayIsICJmaWxsQ29sb3IiOiAiI0ZFRDk3NiIsICJmaWxsT3BhY2l0eSI6IDAuNiwgIm9wYWN0aXkiOiAwLjgsICJ3ZWlnaHQiOiAxfSwgInRpbWVzdGFtcCI6ICIyMDEzLTA0LTMwVDA2OjAxOjUwWiIsICJ0eXBlIjogbnVsbCwgInVpZCI6ICIyMzk5OTgiLCAidXNlciI6ICJTdW5kYW5jZSIsICJ2ZXJzaW9uIjogIjEiLCAid2Vic2l0ZSI6IG51bGx9LCAidHlwZSI6ICJGZWF0dXJlIn0sIHsiZ2VvbWV0cnkiOiB7ImNvb3JkaW5hdGVzIjogW1tbLTExMy41MTU1NTczLCA1My41NDY4NDA2MDAwMDAwMV0sIFstMTEzLjUxNTU2ODUwMDAwMDAxLCA1My41NDY3ODIyXSwgWy0xMTMuNTE1NTc2NCwgNTMuNTQ2NzY1OF0sIFstMTEzLjUxNTUwMzgwMDAwMDAyLCA1My41NDY3NjQ2XSwgWy0xMTMuNTE1NDk4NiwgNTMuNTQ2Nzg3N10sIFstMTEzLjUxNTUxMjQsIDUzLjU0NjgyMV0sIFstMTEzLjUxNTUzMTUwMDAwMDAxLCA1My41NDY4MjYxMDAwMDAwMDRdLCBbLTExMy41MTU1NTczLCA1My41NDY4NDA2MDAwMDAwMV1dXSwgInR5cGUiOiAiUG9seWdvbiJ9LCAiaWQiOiAiMjUiLCAicHJvcGVydGllcyI6IHsiYWRkcjpjaXR5IjogbnVsbCwgImFkZHI6aG91c2VudW1iZXIiOiBudWxsLCAiYWRkcjpwb3N0Y29kZSI6IG51bGwsICJhZGRyOnByb3ZpbmNlIjogbnVsbCwgImFkZHI6c3RyZWV0IjogbnVsbCwgImNoYW5nZXNldCI6ICIxNjY0MzgyMyIsICJnb2xmIjogbnVsbCwgImlkIjogIndheS8yMjY3MTkwMjciLCAibGFuZHVzZSI6IG51bGwsICJsZWlzdXJlIjogInBhcmsiLCAibmFtZSI6IG51bGwsICJvcGVuaW5nX2hvdXJzIjogbnVsbCwgInBfYXJlYSI6IDMuOTQzMDQ0OTk5Njc3MjgyZS0wOSwgInBob25lIjogbnVsbCwgInNvdXJjZSI6IG51bGwsICJzcG9ydCI6IG51bGwsICJzdHlsZSI6IHsiY29sb3IiOiAiYmxhY2siLCAiZmlsbENvbG9yIjogIiNGRkZGQjIiLCAiZmlsbE9wYWNpdHkiOiAwLjYsICJvcGFjdGl5IjogMC44LCAid2VpZ2h0IjogMX0sICJ0aW1lc3RhbXAiOiAiMjAxMy0wNi0yMVQxMzowMjo0MloiLCAidHlwZSI6IG51bGwsICJ1aWQiOiAiNDU0MDEyIiwgInVzZXIiOiAiRmVsZG8iLCAidmVyc2lvbiI6ICIxIiwgIndlYnNpdGUiOiBudWxsfSwgInR5cGUiOiAiRmVhdHVyZSJ9LCB7Imdlb21ldHJ5IjogeyJjb29yZGluYXRlcyI6IFtbWy0xMTMuNDU4OTI4MSwgNTMuNTQxMjI0OV0sIFstMTEzLjQ2MTM3MzMsIDUzLjU0MTE5MDUwMDAwMDAwNl0sIFstMTEzLjQ2MTkwNTQsIDUzLjU0MDQ5NjhdLCBbLTExMy40NjMxMDcxMDAwMDAwMiwgNTMuNTM5NTE3NV0sIFstMTEzLjQ2NDQyMDMsIDUzLjUzODgxMzZdLCBbLTExMy40NjYwNTEsIDUzLjUzODU0MzJdLCBbLTExMy40Njc5NjUxLCA1My41Mzg1ODRdLCBbLTExMy40NzE3MTU5LCA1My41Mzg5MzA5XSwgWy0xMTMuNDc1MDAzMiwgNTMuNTM5MzU5NF0sIFstMTEzLjQ3NzU1MjQsIDUzLjUzOTUyNzddLCBbLTExMy40Nzg3Mzc1LCA1My41Mzk2MjQ3XSwgWy0xMTMuNDc5NzkzMywgNTMuNTM5NTgzOV0sIFstMTEzLjQ4MTI2MDUsIDUzLjUzOTQ4OTNdLCBbLTExMy40ODE2ODYxMDAwMDAwMiwgNTMuNTM5NTQ5Nl0sIFstMTEzLjQ4MjU1NjMsIDUzLjUzOTMwNzhdLCBbLTExMy40ODQ0MTg4LCA1My41Mzg0NjY3XSwgWy0xMTMuNDg1MjM0MiwgNTMuNTM3OTIwOV0sIFstMTEzLjQ4NTQ2NiwgNTMuNTM3NjYwODAwMDAwMDA1XSwgWy0xMTMuNDg1MjQ2OCwgNTMuNTM3NTg1N10sIFstMTEzLjQ4NTAxOTYsIDUzLjUzNzUwNzhdLCBbLTExMy40ODQ4NDUyLCA1My41Mzc1MTUxXSwgWy0xMTMuNDg0NzUxNSwgNTMuNTM3NTYyOV0sIFstMTEzLjQ4NDU2MzksIDUzLjUzNzY5NTFdLCBbLTExMy40ODQzNDA0LCA1My41Mzc4MjQ3XSwgWy0xMTMuNDg0MDQ1NSwgNTMuNTM3OTg0MzAwMDAwMDA1XSwgWy0xMTMuNDgzNjk3LCA1My41MzgwOTkxXSwgWy0xMTMuNDgzMzE4NSwgNTMuNTM4MTQzOV0sIFstMTEzLjQ4Mjg3MTYsIDUzLjUzODEwMDddLCBbLTExMy40ODIxNjA2LCA1My41Mzc5NTEzXSwgWy0xMTMuNDgxOTkwMzAwMDAwMDIsIDUzLjUzNzkzNzJdLCBbLTExMy40ODE3NTI4LCA1My41Mzc5NzI5XSwgWy0xMTMuNDgxMDQzMywgNTMuNTM4MTEwN10sIFstMTEzLjQ3OTgzMSwgNTMuNTM4MDYxN10sIFstMTEzLjQ3OTE3NDUsIDUzLjUzNzk3NzNdLCBbLTExMy40Nzg4MzM3MDAwMDAwMSwgNTMuNTM3ODY4NV0sIFstMTEzLjQ3ODUxMjUsIDUzLjUzNzc3MzldLCBbLTExMy40NzgwMjY0MDAwMDAwMiwgNTMuNTM3ODM3XSwgWy0xMTMuNDc2OTM1NiwgNTMuNTM3OTU1N10sIFstMTEzLjQ3NjU2MjUsIDUzLjUzNzk2NzJdLCBbLTExMy40NzY0NzMxLCA1My41MzgwMDc5XSwgWy0xMTMuNDc2NDYxOSwgNTMuNTM4MjcxOF0sIFstMTEzLjQ3NjgwNDEsIDUzLjUzODQ0NjFdLCBbLTExMy40NzY4MDQsIDUzLjUzODc5NDVdLCBbLTExMy40NzYzMjU2LCA1My41Mzg4MDY5XSwgWy0xMTMuNDc1MDg4ODAwMDAwMDEsIDUzLjUzODgzOTFdLCBbLTExMy40NzMyOTk1LCA1My41Mzg1MTg3XSwgWy0xMTMuNDczMTA3NywgNTMuNTM4NDQxNF0sIFstMTEzLjQ3MzA1NzMsIDUzLjUzODEzNjNdLCBbLTExMy40Njk0OTM3LCA1My41MzgyNzg1XSwgWy0xMTMuNDY3MjA2NiwgNTMuNTM4MzIzM10sIFstMTEzLjQ2MjQ0MjIsIDUzLjUzODQyMjZdLCBbLTExMy40NjE0MTQxMDAwMDAwMSwgNTMuNTM4NDI4OF0sIFstMTEzLjQ2MTIzNTksIDUzLjUzODc4MzAwMDAwMDAxXSwgWy0xMTMuNDYwODMyNSwgNTMuNTM5MjE2NV0sIFstMTEzLjQ2MDY2MDksIDUzLjUzOTI4NzldLCBbLTExMy40NjAwMjU3MDAwMDAwMiwgNTMuNTQwMjUyXSwgWy0xMTMuNDU5NTYyMiwgNTMuNTQwNzcyMl0sIFstMTEzLjQ1ODk1MjksIDUzLjU0MDk0NTZdLCBbLTExMy40NTg5MjgxLCA1My41NDEyMjQ5XV1dLCAidHlwZSI6ICJQb2x5Z29uIn0sICJpZCI6ICIyNiIsICJwcm9wZXJ0aWVzIjogeyJhZGRyOmNpdHkiOiBudWxsLCAiYWRkcjpob3VzZW51bWJlciI6IG51bGwsICJhZGRyOnBvc3Rjb2RlIjogbnVsbCwgImFkZHI6cHJvdmluY2UiOiBudWxsLCAiYWRkcjpzdHJlZXQiOiBudWxsLCAiY2hhbmdlc2V0IjogIjQ0Nzk2MzE2IiwgImdvbGYiOiBudWxsLCAiaWQiOiAid2F5LzI1NDkyMDE3IiwgImxhbmR1c2UiOiBudWxsLCAibGVpc3VyZSI6ICJwYXJrIiwgIm5hbWUiOiBudWxsLCAib3BlbmluZ19ob3VycyI6IG51bGwsICJwX2FyZWEiOiAyLjQ2NzM0NjYxMDAwMjU1NjJlLTA1LCAicGhvbmUiOiBudWxsLCAic291cmNlIjogbnVsbCwgInNwb3J0IjogbnVsbCwgInN0eWxlIjogeyJjb2xvciI6ICJibGFjayIsICJmaWxsQ29sb3IiOiAiI0ZDNEUyQSIsICJmaWxsT3BhY2l0eSI6IDAuNiwgIm9wYWN0aXkiOiAwLjgsICJ3ZWlnaHQiOiAxfSwgInRpbWVzdGFtcCI6ICIyMDE2LTEyLTMwVDIyOjE2OjAwWiIsICJ0eXBlIjogbnVsbCwgInVpZCI6ICIzODQ4OTU1IiwgInVzZXIiOiAiTWVzb3doaXRlIiwgInZlcnNpb24iOiAiMTAiLCAid2Vic2l0ZSI6IG51bGx9LCAidHlwZSI6ICJGZWF0dXJlIn0sIHsiZ2VvbWV0cnkiOiB7ImNvb3JkaW5hdGVzIjogW1tbLTExMy41MDA5ODAzLCA1My41NDE4NzAxXSwgWy0xMTMuNTAwOTgwMywgNTMuNTQwOTY0N10sIFstMTEzLjUwMDIxODYsIDUzLjU0MDk2NDddLCBbLTExMy41MDAyNCwgNTMuNTQxODYzN10sIFstMTEzLjUwMDk4MDMsIDUzLjU0MTg3MDFdXV0sICJ0eXBlIjogIlBvbHlnb24ifSwgImlkIjogIjI3IiwgInByb3BlcnRpZXMiOiB7ImFkZHI6Y2l0eSI6IG51bGwsICJhZGRyOmhvdXNlbnVtYmVyIjogbnVsbCwgImFkZHI6cG9zdGNvZGUiOiBudWxsLCAiYWRkcjpwcm92aW5jZSI6IG51bGwsICJhZGRyOnN0cmVldCI6IG51bGwsICJjaGFuZ2VzZXQiOiAiMzgxMTE0NCIsICJnb2xmIjogbnVsbCwgImlkIjogIndheS80OTc0MzE1OCIsICJsYW5kdXNlIjogbnVsbCwgImxlaXN1cmUiOiAicGFyayIsICJuYW1lIjogIkJlYXZlciBIaWxscyBIb3VzZSBQYXJrIiwgIm9wZW5pbmdfaG91cnMiOiBudWxsLCAicF9hcmVhIjogNi43NzUxNzk1OTk5MDkzNDhlLTA3LCAicGhvbmUiOiBudWxsLCAic291cmNlIjogbnVsbCwgInNwb3J0IjogbnVsbCwgInN0eWxlIjogeyJjb2xvciI6ICJibGFjayIsICJmaWxsQ29sb3IiOiAiI0ZEOEQzQyIsICJmaWxsT3BhY2l0eSI6IDAuNiwgIm9wYWN0aXkiOiAwLjgsICJ3ZWlnaHQiOiAxfSwgInRpbWVzdGFtcCI6ICIyMDEwLTAyLTA3VDA2OjMzOjEyWiIsICJ0eXBlIjogbnVsbCwgInVpZCI6ICIyMzAxMjIiLCAidXNlciI6ICJtaWtlbjMyIiwgInZlcnNpb24iOiAiMSIsICJ3ZWJzaXRlIjogbnVsbH0sICJ0eXBlIjogIkZlYXR1cmUifSwgeyJnZW9tZXRyeSI6IHsiY29vcmRpbmF0ZXMiOiBbW1stMTEzLjQ5MzUzNDEsIDUzLjUzNjg0NzhdLCBbLTExMy40OTM1NzU0LCA1My41MzY3NzA0XSwgWy0xMTMuNDkzNTQ0NiwgNTMuNTM1NzE4Nl0sIFstMTEzLjQ5MTEwMjcsIDUzLjUzNTcxNjZdLCBbLTExMy40OTA5NjA4LCA1My41MzU3NjQxXSwgWy0xMTMuNDkwOTM0LCA1My41MzU4NDA4XSwgWy0xMTMuNDkxMTU4NywgNTMuNTM2MDI1OV0sIFstMTEzLjQ5MTI2MzMsIDUzLjUzNjIxNTVdLCBbLTExMy40OTEyOTE1LCA1My41Mzc0Njg2XSwgWy0xMTMuNDkxNTAwNSwgNTMuNTM3NDkxNF0sIFstMTEzLjQ5MzUzNDEsIDUzLjUzNjg0NzhdXV0sICJ0eXBlIjogIlBvbHlnb24ifSwgImlkIjogIjI4IiwgInByb3BlcnRpZXMiOiB7ImFkZHI6Y2l0eSI6IG51bGwsICJhZGRyOmhvdXNlbnVtYmVyIjogbnVsbCwgImFkZHI6cG9zdGNvZGUiOiBudWxsLCAiYWRkcjpwcm92aW5jZSI6IG51bGwsICJhZGRyOnN0cmVldCI6IG51bGwsICJjaGFuZ2VzZXQiOiAiMTA3OTA1NDYiLCAiZ29sZiI6IG51bGwsICJpZCI6ICJ3YXkvMTE1NTY2MTUyIiwgImxhbmR1c2UiOiBudWxsLCAibGVpc3VyZSI6ICJwYXJrIiwgIm5hbWUiOiAiRGlhbW9uZCBQYXJrIiwgIm9wZW5pbmdfaG91cnMiOiBudWxsLCAicF9hcmVhIjogMy40NjY4Mjk3OTk5OTU3NDEyZS0wNiwgInBob25lIjogbnVsbCwgInNvdXJjZSI6IG51bGwsICJzcG9ydCI6IG51bGwsICJzdHlsZSI6IHsiY29sb3IiOiAiYmxhY2siLCAiZmlsbENvbG9yIjogIiNGQzRFMkEiLCAiZmlsbE9wYWNpdHkiOiAwLjYsICJvcGFjdGl5IjogMC44LCAid2VpZ2h0IjogMX0sICJ0aW1lc3RhbXAiOiAiMjAxMi0wMi0yNVQxODoxOTozMloiLCAidHlwZSI6IG51bGwsICJ1aWQiOiAiMjM5OTk4IiwgInVzZXIiOiAiU3VuZGFuY2UiLCAidmVyc2lvbiI6ICIyIiwgIndlYnNpdGUiOiBudWxsfSwgInR5cGUiOiAiRmVhdHVyZSJ9LCB7Imdlb21ldHJ5IjogeyJjb29yZGluYXRlcyI6IFtbWy0xMTMuNTAwOTc4OCwgNTMuNTM2MTkxNl0sIFstMTEzLjUwMDE0NzYsIDUzLjUzNjE4NDFdLCBbLTExMy41MDAxMzEzLCA1My41MzY1ODU0XSwgWy0xMTMuNDk5NDI1OCwgNTMuNTM2NTg1NF0sIFstMTEzLjQ5OTQxNTIsIDUzLjUzNzExOThdLCBbLTExMy41MDA5NzYyLCA1My41MzcxMjU4XSwgWy0xMTMuNTAwOTc4OCwgNTMuNTM2MTkxNl1dXSwgInR5cGUiOiAiUG9seWdvbiJ9LCAiaWQiOiAiMjkiLCAicHJvcGVydGllcyI6IHsiYWRkcjpjaXR5IjogbnVsbCwgImFkZHI6aG91c2VudW1iZXIiOiBudWxsLCAiYWRkcjpwb3N0Y29kZSI6IG51bGwsICJhZGRyOnByb3ZpbmNlIjogbnVsbCwgImFkZHI6c3RyZWV0IjogbnVsbCwgImNoYW5nZXNldCI6ICIxMTQwMDM4OSIsICJnb2xmIjogbnVsbCwgImlkIjogIndheS8xNjA4MzY3OTciLCAibGFuZHVzZSI6IG51bGwsICJsZWlzdXJlIjogInBhcmsiLCAibmFtZSI6ICJNY0theSBTY2hvb2wgUGFyayIsICJvcGVuaW5nX2hvdXJzIjogbnVsbCwgInBfYXJlYSI6IDEuMTY5OTUzODE0OTkzMDc1MmUtMDYsICJwaG9uZSI6IG51bGwsICJzb3VyY2UiOiBudWxsLCAic3BvcnQiOiBudWxsLCAic3R5bGUiOiB7ImNvbG9yIjogImJsYWNrIiwgImZpbGxDb2xvciI6ICIjRkQ4RDNDIiwgImZpbGxPcGFjaXR5IjogMC42LCAib3BhY3RpeSI6IDAuOCwgIndlaWdodCI6IDF9LCAidGltZXN0YW1wIjogIjIwMTItMDQtMjNUMjI6MTM6NDFaIiwgInR5cGUiOiBudWxsLCAidWlkIjogIjY0MDI0NiIsICJ1c2VyIjogInB0cmNocG1uIiwgInZlcnNpb24iOiAiMSIsICJ3ZWJzaXRlIjogbnVsbH0sICJ0eXBlIjogIkZlYXR1cmUifSwgeyJnZW9tZXRyeSI6IHsiY29vcmRpbmF0ZXMiOiBbW1stMTEzLjUyMzY1OTcsIDUzLjU0MzU0NzhdLCBbLTExMy41MjM2NTk3LCA1My41NDMyNjg5MDAwMDAwMV0sIFstMTEzLjUyMzM0MDYsIDUzLjU0MzI3MjFdLCBbLTExMy41MjMzMzc3LCA1My41NDM2ODc4XSwgWy0xMTMuNTIzNDM0NiwgNTMuNTQzNjgwMV0sIFstMTEzLjUyMzU0MTksIDUzLjU0MzYzNTVdLCBbLTExMy41MjM1NTg1LCA1My41NDM1OTcwMDAwMDAwMDVdLCBbLTExMy41MjM2NTk3LCA1My41NDM1NDc4XV1dLCAidHlwZSI6ICJQb2x5Z29uIn0sICJpZCI6ICIzMCIsICJwcm9wZXJ0aWVzIjogeyJhZGRyOmNpdHkiOiBudWxsLCAiYWRkcjpob3VzZW51bWJlciI6IG51bGwsICJhZGRyOnBvc3Rjb2RlIjogbnVsbCwgImFkZHI6cHJvdmluY2UiOiBudWxsLCAiYWRkcjpzdHJlZXQiOiBudWxsLCAiY2hhbmdlc2V0IjogIjE1OTE2NTkzIiwgImdvbGYiOiBudWxsLCAiaWQiOiAid2F5LzIxOTQ4ODIyNCIsICJsYW5kdXNlIjogbnVsbCwgImxlaXN1cmUiOiAicGxheWdyb3VuZCIsICJuYW1lIjogbnVsbCwgIm9wZW5pbmdfaG91cnMiOiBudWxsLCAicF9hcmVhIjogMS4xNzMwNDkxOTk5ODgwMzMzZS0wNywgInBob25lIjogbnVsbCwgInNvdXJjZSI6ICJCaW5nIiwgInNwb3J0IjogbnVsbCwgInN0eWxlIjogeyJjb2xvciI6ICJibGFjayIsICJmaWxsQ29sb3IiOiAiI0ZFRDk3NiIsICJmaWxsT3BhY2l0eSI6IDAuNiwgIm9wYWN0aXkiOiAwLjgsICJ3ZWlnaHQiOiAxfSwgInRpbWVzdGFtcCI6ICIyMDEzLTA0LTMwVDA2OjAxOjUyWiIsICJ0eXBlIjogbnVsbCwgInVpZCI6ICIyMzk5OTgiLCAidXNlciI6ICJTdW5kYW5jZSIsICJ2ZXJzaW9uIjogIjEiLCAid2Vic2l0ZSI6IG51bGx9LCAidHlwZSI6ICJGZWF0dXJlIn0sIHsiZ2VvbWV0cnkiOiB7ImNvb3JkaW5hdGVzIjogW1tbLTExMy40OTIwNzU2LCA1My41MzY2OTE3XSwgWy0xMTMuNDkyOTQ0NiwgNTMuNTM2NjkxN10sIFstMTEzLjQ5MjkyMzEsIDUzLjUzNjU4MDFdLCBbLTExMy40OTI4NDI3LCA1My41MzYzOTg0XSwgWy0xMTMuNDkyNjYwMywgNTMuNTM2MjQ4Nl0sIFstMTEzLjQ5MjM2NTIsIDUzLjUzNjEzN10sIFstMTEzLjQ5MTk3MzYsIDUzLjUzNjEyMV0sIFstMTEzLjQ5MTk4NDQsIDUzLjUzNjY0MDcwMDAwMDAxXSwgWy0xMTMuNDkyMDc1NiwgNTMuNTM2NjkxN11dXSwgInR5cGUiOiAiUG9seWdvbiJ9LCAiaWQiOiAiMzEiLCAicHJvcGVydGllcyI6IHsiYWRkcjpjaXR5IjogbnVsbCwgImFkZHI6aG91c2VudW1iZXIiOiBudWxsLCAiYWRkcjpwb3N0Y29kZSI6IG51bGwsICJhZGRyOnByb3ZpbmNlIjogbnVsbCwgImFkZHI6c3RyZWV0IjogbnVsbCwgImNoYW5nZXNldCI6ICIxMDc5MDU0NiIsICJnb2xmIjogbnVsbCwgImlkIjogIndheS8xNTE4OTUyMDgiLCAibGFuZHVzZSI6IG51bGwsICJsZWlzdXJlIjogInBpdGNoIiwgIm5hbWUiOiBudWxsLCAib3BlbmluZ19ob3VycyI6IG51bGwsICJwX2FyZWEiOiA0LjQ2NTMyMjg5OTk3MDc3MjdlLTA3LCAicGhvbmUiOiBudWxsLCAic291cmNlIjogIkJpbmciLCAic3BvcnQiOiAiYmFzZWJhbGwiLCAic3R5bGUiOiB7ImNvbG9yIjogImJsYWNrIiwgImZpbGxDb2xvciI6ICIjRkVCMjRDIiwgImZpbGxPcGFjaXR5IjogMC42LCAib3BhY3RpeSI6IDAuOCwgIndlaWdodCI6IDF9LCAidGltZXN0YW1wIjogIjIwMTItMDItMjVUMTg6MTk6MjhaIiwgInR5cGUiOiBudWxsLCAidWlkIjogIjIzOTk5OCIsICJ1c2VyIjogIlN1bmRhbmNlIiwgInZlcnNpb24iOiAiMSIsICJ3ZWJzaXRlIjogbnVsbH0sICJ0eXBlIjogIkZlYXR1cmUifSwgeyJnZW9tZXRyeSI6IHsiY29vcmRpbmF0ZXMiOiBbW1stMTEzLjQ4OTYxNzcsIDUzLjUzNTQwMTFdLCBbLTExMy40OTAzMDUxLCA1My41MzUyNTldLCBbLTExMy40OTA0MzkzMDAwMDAwMiwgNTMuNTM1MjI5N10sIFstMTEzLjQ5MDU5NjMsIDUzLjUzNDgxNzldLCBbLTExMy40OTEwMjAxLCA1My41MzQzNTI0XSwgWy0xMTMuNDkxMDI1NCwgNTMuNTMyNTM5OV0sIFstMTEzLjQ5MTAyNTMsIDUzLjUzMjQxNzddLCBbLTExMy40OTEwNDkzMDAwMDAwMSwgNTMuNTMwODI4OV0sIFstMTEzLjQ5MTY5ODUsIDUzLjUzMDgxNDYwMDAwMDAxXSwgWy0xMTMuNDkxNjc5ODAwMDAwMDEsIDUzLjUyOTQyNDNdLCBbLTExMy40OTE1ODA2LCA1My41Mjk0MjUzXSwgWy0xMTMuNDkxMTA1OSwgNTMuNTI5NDI0OV0sIFstMTEzLjQ5MDU4NzMsIDUzLjUzMDM1NzJdLCBbLTExMy40OTAzNjQ4LCA1My41MzA2NTg2XSwgWy0xMTMuNDkwMjI0NCwgNTMuNTMxMzYzN10sIFstMTEzLjQ5MDExMjcsIDUzLjUzMjAzMTldLCBbLTExMy40OTAxMzQ5LCA1My41MzI2NzU2XSwgWy0xMTMuNDg5OTg3MSwgNTMuNTMzNjIxNl0sIFstMTEzLjQ4OTc1ODQsIDUzLjUzNDI3MjhdLCBbLTExMy40ODk2MTc3LCA1My41MzU0MDExXV1dLCAidHlwZSI6ICJQb2x5Z29uIn0sICJpZCI6ICIzMiIsICJwcm9wZXJ0aWVzIjogeyJhZGRyOmNpdHkiOiBudWxsLCAiYWRkcjpob3VzZW51bWJlciI6IG51bGwsICJhZGRyOnBvc3Rjb2RlIjogbnVsbCwgImFkZHI6cHJvdmluY2UiOiBudWxsLCAiYWRkcjpzdHJlZXQiOiBudWxsLCAiY2hhbmdlc2V0IjogIjMyMTQ2MDk5IiwgImdvbGYiOiBudWxsLCAiaWQiOiAid2F5LzE2MDgzNjc4NyIsICJsYW5kdXNlIjogbnVsbCwgImxlaXN1cmUiOiAicGFyayIsICJuYW1lIjogIklyZW5lIFBhcmxieSBQYXJrIiwgIm9wZW5pbmdfaG91cnMiOiBudWxsLCAicF9hcmVhIjogNS42MzMyNjkxNDUwMjA4NTc1ZS0wNiwgInBob25lIjogbnVsbCwgInNvdXJjZSI6IG51bGwsICJzcG9ydCI6IG51bGwsICJzdHlsZSI6IHsiY29sb3IiOiAiYmxhY2siLCAiZmlsbENvbG9yIjogIiNGQzRFMkEiLCAiZmlsbE9wYWNpdHkiOiAwLjYsICJvcGFjdGl5IjogMC44LCAid2VpZ2h0IjogMX0sICJ0aW1lc3RhbXAiOiAiMjAxNS0wNi0yMlQxOToxMjo1MVoiLCAidHlwZSI6IG51bGwsICJ1aWQiOiAiMjM2NTMzMCIsICJ1c2VyIjogIlZpYWplcm8gUGVyZGlkbyIsICJ2ZXJzaW9uIjogIjMiLCAid2Vic2l0ZSI6IG51bGx9LCAidHlwZSI6ICJGZWF0dXJlIn0sIHsiZ2VvbWV0cnkiOiB7ImNvb3JkaW5hdGVzIjogW1tbLTExMy41MjMzOTQxLCA1My41NDQ1MTgyXSwgWy0xMTMuNTIzOTI3OCwgNTMuNTQ0NTE2Nl0sIFstMTEzLjUyMzkzMzIsIDUzLjU0NDQ2ODddLCBbLTExMy41MjM5MjUxLCA1My41NDQ0MTQ2MDAwMDAwMV0sIFstMTEzLjUyMzg5MywgNTMuNTQ0MzU0XSwgWy0xMTMuNTIzODM5MywgNTMuNTQ0MjkxOF0sIFstMTEzLjUyMzc0MjgsIDUzLjU0NDI0NzJdLCBbLTExMy41MjM2MDA2LCA1My41NDQyMDc0XSwgWy0xMTMuNTIzNDc5OSwgNTMuNTQ0MTkzXSwgWy0xMTMuNTIzMzUzOCwgNTMuNTQ0MTk5NF0sIFstMTEzLjUyMzMzNTEsIDUzLjU0NDQ5MjddLCBbLTExMy41MjMzOTQxLCA1My41NDQ1MTgyXV1dLCAidHlwZSI6ICJQb2x5Z29uIn0sICJpZCI6ICIzMyIsICJwcm9wZXJ0aWVzIjogeyJhZGRyOmNpdHkiOiBudWxsLCAiYWRkcjpob3VzZW51bWJlciI6IG51bGwsICJhZGRyOnBvc3Rjb2RlIjogbnVsbCwgImFkZHI6cHJvdmluY2UiOiBudWxsLCAiYWRkcjpzdHJlZXQiOiBudWxsLCAiY2hhbmdlc2V0IjogIjE1OTE2NTkzIiwgImdvbGYiOiBudWxsLCAiaWQiOiAid2F5LzIxOTQ4ODIxMSIsICJsYW5kdXNlIjogbnVsbCwgImxlaXN1cmUiOiAicGl0Y2giLCAibmFtZSI6IG51bGwsICJvcGVuaW5nX2hvdXJzIjogbnVsbCwgInBfYXJlYSI6IDEuNjE2NjAyMTAwMDEyNzI4OGUtMDcsICJwaG9uZSI6IG51bGwsICJzb3VyY2UiOiAiQmluZyIsICJzcG9ydCI6ICJiYXNlYmFsbCIsICJzdHlsZSI6IHsiY29sb3IiOiAiYmxhY2siLCAiZmlsbENvbG9yIjogIiNGRUIyNEMiLCAiZmlsbE9wYWNpdHkiOiAwLjYsICJvcGFjdGl5IjogMC44LCAid2VpZ2h0IjogMX0sICJ0aW1lc3RhbXAiOiAiMjAxMy0wNC0zMFQwNjowMTo1MVoiLCAidHlwZSI6IG51bGwsICJ1aWQiOiAiMjM5OTk4IiwgInVzZXIiOiAiU3VuZGFuY2UiLCAidmVyc2lvbiI6ICIxIiwgIndlYnNpdGUiOiBudWxsfSwgInR5cGUiOiAiRmVhdHVyZSJ9LCB7Imdlb21ldHJ5IjogeyJjb29yZGluYXRlcyI6IFtbWy0xMTMuNTE1NTcxOCwgNTMuNTQ2OTYwMV0sIFstMTEzLjUxNTU2MTIsIDUzLjU0NjkyNDVdLCBbLTExMy41MTU1NDA4LCA1My41NDY5MTddLCBbLTExMy41MTU1NDA4LCA1My41NDY5MDI1XSwgWy0xMTMuNTE1NTA3ODAwMDAwMDEsIDUzLjU0Njg5MDRdLCBbLTExMy41MTU0OTQ2LCA1My41NDY5MzddLCBbLTExMy41MTU0NzU1LCA1My41NDY5NjAxXSwgWy0xMTMuNTE1NTcxOCwgNTMuNTQ2OTYwMV1dXSwgInR5cGUiOiAiUG9seWdvbiJ9LCAiaWQiOiAiMzQiLCAicHJvcGVydGllcyI6IHsiYWRkcjpjaXR5IjogbnVsbCwgImFkZHI6aG91c2VudW1iZXIiOiBudWxsLCAiYWRkcjpwb3N0Y29kZSI6IG51bGwsICJhZGRyOnByb3ZpbmNlIjogbnVsbCwgImFkZHI6c3RyZWV0IjogbnVsbCwgImNoYW5nZXNldCI6ICIxNjY0MzgyMyIsICJnb2xmIjogbnVsbCwgImlkIjogIndheS8yMjY3MTkwMjYiLCAibGFuZHVzZSI6IG51bGwsICJsZWlzdXJlIjogInBhcmsiLCAibmFtZSI6IG51bGwsICJvcGVuaW5nX2hvdXJzIjogbnVsbCwgInBfYXJlYSI6IDMuOTI0OTU0OTk5OTY3ODYzZS0wOSwgInBob25lIjogbnVsbCwgInNvdXJjZSI6IG51bGwsICJzcG9ydCI6IG51bGwsICJzdHlsZSI6IHsiY29sb3IiOiAiYmxhY2siLCAiZmlsbENvbG9yIjogIiNGRkZGQjIiLCAiZmlsbE9wYWNpdHkiOiAwLjYsICJvcGFjdGl5IjogMC44LCAid2VpZ2h0IjogMX0sICJ0aW1lc3RhbXAiOiAiMjAxMy0wNi0yMVQxMzowMjo0MloiLCAidHlwZSI6IG51bGwsICJ1aWQiOiAiNDU0MDEyIiwgInVzZXIiOiAiRmVsZG8iLCAidmVyc2lvbiI6ICIxIiwgIndlYnNpdGUiOiBudWxsfSwgInR5cGUiOiAiRmVhdHVyZSJ9LCB7Imdlb21ldHJ5IjogeyJjb29yZGluYXRlcyI6IFtbWy0xMTMuNTAyMTQ0NCwgNTMuNTM0NzU0NF0sIFstMTEzLjUwMjI5NzYsIDUzLjUzNDc1NDNdLCBbLTExMy41MDIyOTcsIDUzLjUzNDU1MDhdLCBbLTExMy41MDIxNDM5LCA1My41MzQ1NTFdLCBbLTExMy41MDIxNDQ0LCA1My41MzQ3NTQ0XV1dLCAidHlwZSI6ICJQb2x5Z29uIn0sICJpZCI6ICIzNSIsICJwcm9wZXJ0aWVzIjogeyJhZGRyOmNpdHkiOiBudWxsLCAiYWRkcjpob3VzZW51bWJlciI6IG51bGwsICJhZGRyOnBvc3Rjb2RlIjogbnVsbCwgImFkZHI6cHJvdmluY2UiOiBudWxsLCAiYWRkcjpzdHJlZXQiOiBudWxsLCAiY2hhbmdlc2V0IjogIjE2NjU2OTYzIiwgImdvbGYiOiBudWxsLCAiaWQiOiAid2F5LzIyNjg2ODgzMyIsICJsYW5kdXNlIjogbnVsbCwgImxlaXN1cmUiOiAicGl0Y2giLCAibmFtZSI6IG51bGwsICJvcGVuaW5nX2hvdXJzIjogbnVsbCwgInBfYXJlYSI6IDMuMTE1ODQ1MDAwMDY3MDExNGUtMDgsICJwaG9uZSI6IG51bGwsICJzb3VyY2UiOiBudWxsLCAic3BvcnQiOiAidGVubmlzIiwgInN0eWxlIjogeyJjb2xvciI6ICJibGFjayIsICJmaWxsQ29sb3IiOiAiI0ZGRkZCMiIsICJmaWxsT3BhY2l0eSI6IDAuNiwgIm9wYWN0aXkiOiAwLjgsICJ3ZWlnaHQiOiAxfSwgInRpbWVzdGFtcCI6ICIyMDEzLTA2LTIyVDE0OjE4OjIwWiIsICJ0eXBlIjogbnVsbCwgInVpZCI6ICI0NTQwMTIiLCAidXNlciI6ICJGZWxkbyIsICJ2ZXJzaW9uIjogIjEiLCAid2Vic2l0ZSI6IG51bGx9LCAidHlwZSI6ICJGZWF0dXJlIn0sIHsiZ2VvbWV0cnkiOiB7ImNvb3JkaW5hdGVzIjogW1tbLTExMy41MDA5NDA5LCA1My41MzI0MTQ2MDAwMDAwMV0sIFstMTEzLjUwMDk0NiwgNTMuNTMyMjcwNF0sIFstMTEzLjUwMDE4NTQsIDUzLjUzMjI2MzVdLCBbLTExMy41MDAxNzU2LCA1My41MzE2NjYyXSwgWy0xMTMuNTAwOTY5NiwgNTMuNTMxNjY1Ml0sIFstMTEzLjUwMDk2NDUsIDUzLjUzMTIwNDIwMDAwMDAwNV0sIFstMTEzLjUwMDk0MDksIDUzLjUzMTEwN10sIFstMTEzLjUwMDg5MDQsIDUzLjUzMTAwNDhdLCBbLTExMy41MDA4MDc3LCA1My41MzA5MjY3XSwgWy0xMTMuNTAwNzEzMywgNTMuNTMwODczNl0sIFstMTEzLjUwMDU3NTEsIDUzLjUzMDgyNjVdLCBbLTExMy41MDA0NTA0LCA1My41MzA4MTA1XSwgWy0xMTMuNTAwMjg1MiwgNTMuNTMwODA4NF0sIFstMTEzLjUwMDA4MTIsIDUzLjUzMDgzMjUwMDAwMDAxXSwgWy0xMTMuNDk5OTEyNjAwMDAwMDIsIDUzLjUzMDg4MjZdLCBbLTExMy40OTk3MTcsIDUzLjUzMDk2ODhdLCBbLTExMy40OTk1NzIxLCA1My41MzEwNjddLCBbLTExMy40OTkzOTE3LCA1My41MzEyNDQzXSwgWy0xMTMuNDk5MzEyNSwgNTMuNTMxNDIxN10sIFstMTEzLjQ5OTM0MTEsIDUzLjUzMjQwNTZdLCBbLTExMy41MDAxODU0LCA1My41MzI0MTA0XSwgWy0xMTMuNTAwOTQwOSwgNTMuNTMyNDE0NjAwMDAwMDFdXV0sICJ0eXBlIjogIlBvbHlnb24ifSwgImlkIjogIjM2IiwgInByb3BlcnRpZXMiOiB7ImFkZHI6Y2l0eSI6IG51bGwsICJhZGRyOmhvdXNlbnVtYmVyIjogbnVsbCwgImFkZHI6cG9zdGNvZGUiOiBudWxsLCAiYWRkcjpwcm92aW5jZSI6IG51bGwsICJhZGRyOnN0cmVldCI6IG51bGwsICJjaGFuZ2VzZXQiOiAiMTY2NTgxMzciLCAiZ29sZiI6IG51bGwsICJpZCI6ICJ3YXkvMjI2ODc5OTIzIiwgImxhbmR1c2UiOiBudWxsLCAibGVpc3VyZSI6ICJwYXJrIiwgIm5hbWUiOiBudWxsLCAib3BlbmluZ19ob3VycyI6IG51bGwsICJwX2FyZWEiOiAxLjk0MDg3NjQwNTAwNjA2MzNlLTA2LCAicGhvbmUiOiBudWxsLCAic291cmNlIjogbnVsbCwgInNwb3J0IjogbnVsbCwgInN0eWxlIjogeyJjb2xvciI6ICJibGFjayIsICJmaWxsQ29sb3IiOiAiI0ZEOEQzQyIsICJmaWxsT3BhY2l0eSI6IDAuNiwgIm9wYWN0aXkiOiAwLjgsICJ3ZWlnaHQiOiAxfSwgInRpbWVzdGFtcCI6ICIyMDEzLTA2LTIyVDE1OjQ3OjU3WiIsICJ0eXBlIjogbnVsbCwgInVpZCI6ICI0NTQwMTIiLCAidXNlciI6ICJGZWxkbyIsICJ2ZXJzaW9uIjogIjEiLCAid2Vic2l0ZSI6IG51bGx9LCAidHlwZSI6ICJGZWF0dXJlIn0sIHsiZ2VvbWV0cnkiOiB7ImNvb3JkaW5hdGVzIjogW1tbLTExMy41MzIzMDA4LCA1My41NDQ1MjA3XSwgWy0xMTMuNTMyMjc5MywgNTMuNTQzODMwNV0sIFstMTEzLjUzMTA5OTIsIDUzLjU0MzgzMDVdLCBbLTExMy41MzExMDIzLCA1My41NDQ1MTddLCBbLTExMy41MzIzMDA4LCA1My41NDQ1MjA3XV1dLCAidHlwZSI6ICJQb2x5Z29uIn0sICJpZCI6ICIzNyIsICJwcm9wZXJ0aWVzIjogeyJhZGRyOmNpdHkiOiBudWxsLCAiYWRkcjpob3VzZW51bWJlciI6IG51bGwsICJhZGRyOnBvc3Rjb2RlIjogbnVsbCwgImFkZHI6cHJvdmluY2UiOiBudWxsLCAiYWRkcjpzdHJlZXQiOiBudWxsLCAiY2hhbmdlc2V0IjogIjQ1NDIwNzE0IiwgImdvbGYiOiBudWxsLCAiaWQiOiAid2F5LzI4NDEwMTI0OSIsICJsYW5kdXNlIjogbnVsbCwgImxlaXN1cmUiOiAicGFyayIsICJuYW1lIjogIlBhdWwgS2FuZSBQYXJrIiwgIm9wZW5pbmdfaG91cnMiOiBudWxsLCAicF9hcmVhIjogOC4xODYzMTkwMDAwMDk2MzdlLTA3LCAicGhvbmUiOiBudWxsLCAic291cmNlIjogbnVsbCwgInNwb3J0IjogbnVsbCwgInN0eWxlIjogeyJjb2xvciI6ICJibGFjayIsICJmaWxsQ29sb3IiOiAiI0ZEOEQzQyIsICJmaWxsT3BhY2l0eSI6IDAuNiwgIm9wYWN0aXkiOiAwLjgsICJ3ZWlnaHQiOiAxfSwgInRpbWVzdGFtcCI6ICIyMDE3LTAxLTI0VDA0OjUwOjU4WiIsICJ0eXBlIjogbnVsbCwgInVpZCI6ICI1MTc4NDYyIiwgInVzZXIiOiAicHJhaXJpZXBva2Vtb24iLCAidmVyc2lvbiI6ICIyIiwgIndlYnNpdGUiOiBudWxsfSwgInR5cGUiOiAiRmVhdHVyZSJ9LCB7Imdlb21ldHJ5IjogeyJjb29yZGluYXRlcyI6IFtbWy0xMTMuNDk2NjMzOTAwMDAwMDIsIDUzLjUzMzg0NTIwMDAwMDAxXSwgWy0xMTMuNDk3MDQ5ODAwMDAwMDEsIDUzLjUzMzcyODhdLCBbLTExMy40OTcxNzM2LCA1My41MzM1NTcxXSwgWy0xMTMuNDk3MTg3MywgNTMuNTMzNDc1NF0sIFstMTEzLjQ5NzA0MDgsIDUzLjUzMzQ3NF0sIFstMTEzLjQ5NTcyMjkwMDAwMDAyLCA1My41MzM0NjExXSwgWy0xMTMuNDk1NzIyOTAwMDAwMDIsIDUzLjUzMjYyNjRdLCBbLTExMy40OTU3MjI5MDAwMDAwMiwgNTMuNTMyNTg0Nl0sIFstMTEzLjQ5Mzg3NjksIDUzLjUzMjU4NjZdLCBbLTExMy40OTM4NDI1LCA1My41MzM0NjExXSwgWy0xMTMuNDkzOTI5NiwgNTMuNTMzNDY2XSwgWy0xMTMuNDk0OTY3MSwgNTMuNTMzNDYyOF0sIFstMTEzLjQ5NDk2OTMsIDUzLjUzMzcxNzVdLCBbLTExMy40OTQ5NjMyLCA1My41MzM4MTg3XSwgWy0xMTMuNDk0OTcsIDUzLjUzMzg3NzldLCBbLTExMy40OTU1MTMyLCA1My41MzM4MzkxXSwgWy0xMTMuNDk2NjMzOTAwMDAwMDIsIDUzLjUzMzg0NTIwMDAwMDAxXV1dLCAidHlwZSI6ICJQb2x5Z29uIn0sICJpZCI6ICIzOCIsICJwcm9wZXJ0aWVzIjogeyJhZGRyOmNpdHkiOiBudWxsLCAiYWRkcjpob3VzZW51bWJlciI6IG51bGwsICJhZGRyOnBvc3Rjb2RlIjogbnVsbCwgImFkZHI6cHJvdmluY2UiOiBudWxsLCAiYWRkcjpzdHJlZXQiOiBudWxsLCAiY2hhbmdlc2V0IjogIjE2NjU4MjM4IiwgImdvbGYiOiBudWxsLCAiaWQiOiAid2F5LzIyNjg4MDE0OCIsICJsYW5kdXNlIjogbnVsbCwgImxlaXN1cmUiOiAicGFyayIsICJuYW1lIjogbnVsbCwgIm9wZW5pbmdfaG91cnMiOiBudWxsLCAicF9hcmVhIjogMi40MjcxMjM2NzAwMDcxMTdlLTA2LCAicGhvbmUiOiBudWxsLCAic291cmNlIjogbnVsbCwgInNwb3J0IjogbnVsbCwgInN0eWxlIjogeyJjb2xvciI6ICJibGFjayIsICJmaWxsQ29sb3IiOiAiI0ZDNEUyQSIsICJmaWxsT3BhY2l0eSI6IDAuNiwgIm9wYWN0aXkiOiAwLjgsICJ3ZWlnaHQiOiAxfSwgInRpbWVzdGFtcCI6ICIyMDEzLTA2LTIyVDE1OjU1OjI3WiIsICJ0eXBlIjogbnVsbCwgInVpZCI6ICI0NTQwMTIiLCAidXNlciI6ICJGZWxkbyIsICJ2ZXJzaW9uIjogIjIiLCAid2Vic2l0ZSI6IG51bGx9LCAidHlwZSI6ICJGZWF0dXJlIn0sIHsiZ2VvbWV0cnkiOiB7ImNvb3JkaW5hdGVzIjogW1tbLTExMy40OTU2NzY3LCA1My41MzU2MTQ1XSwgWy0xMTMuNDk1NzMzLCA1My41MzU2MDU2XSwgWy0xMTMuNDk2MTIzNTAwMDAwMDEsIDUzLjUzNTM2OF0sIFstMTEzLjQ5NjExODQsIDUzLjUzNTM0MDhdLCBbLTExMy40OTU3NTQ5LCA1My41MzUzNDE0XSwgWy0xMTMuNDk1NjQyOCwgNTMuNTM1MzQwNV0sIFstMTEzLjQ5NTY0MjgsIDUzLjUzNTYwMTNdLCBbLTExMy40OTU2NzY3LCA1My41MzU2MTQ1XV1dLCAidHlwZSI6ICJQb2x5Z29uIn0sICJpZCI6ICIzOSIsICJwcm9wZXJ0aWVzIjogeyJhZGRyOmNpdHkiOiBudWxsLCAiYWRkcjpob3VzZW51bWJlciI6IG51bGwsICJhZGRyOnBvc3Rjb2RlIjogbnVsbCwgImFkZHI6cHJvdmluY2UiOiBudWxsLCAiYWRkcjpzdHJlZXQiOiBudWxsLCAiY2hhbmdlc2V0IjogIjI1NDg2ODAxIiwgImdvbGYiOiBudWxsLCAiaWQiOiAid2F5LzIyNjk4NDk0NiIsICJsYW5kdXNlIjogbnVsbCwgImxlaXN1cmUiOiAicGFyayIsICJuYW1lIjogbnVsbCwgIm9wZW5pbmdfaG91cnMiOiBudWxsLCAicF9hcmVhIjogOC4xMDMxMjM5OTk5MTA3NzNlLTA4LCAicGhvbmUiOiBudWxsLCAic291cmNlIjogbnVsbCwgInNwb3J0IjogbnVsbCwgInN0eWxlIjogeyJjb2xvciI6ICJibGFjayIsICJmaWxsQ29sb3IiOiAiI0ZGRkZCMiIsICJmaWxsT3BhY2l0eSI6IDAuNiwgIm9wYWN0aXkiOiAwLjgsICJ3ZWlnaHQiOiAxfSwgInRpbWVzdGFtcCI6ICIyMDE0LTA5LTE2VDE5OjI2OjM2WiIsICJ0eXBlIjogbnVsbCwgInVpZCI6ICIxMzk5NTciLCAidXNlciI6ICJpal8iLCAidmVyc2lvbiI6ICIyIiwgIndlYnNpdGUiOiBudWxsfSwgInR5cGUiOiAiRmVhdHVyZSJ9LCB7Imdlb21ldHJ5IjogeyJjb29yZGluYXRlcyI6IFtbWy0xMTMuNTE2NDk1OSwgNTMuNTM3NjM3NTAwMDAwMDFdLCBbLTExMy41MTY0OTM4LCA1My41MzczNTg5XSwgWy0xMTMuNTE1OTU5OCwgNTMuNTM3MzYwNF0sIFstMTEzLjUxNTk2MTksIDUzLjUzNzYzOV0sIFstMTEzLjUxNjQ5NTksIDUzLjUzNzYzNzUwMDAwMDAxXV1dLCAidHlwZSI6ICJQb2x5Z29uIn0sICJpZCI6ICI0MCIsICJwcm9wZXJ0aWVzIjogeyJhZGRyOmNpdHkiOiBudWxsLCAiYWRkcjpob3VzZW51bWJlciI6IG51bGwsICJhZGRyOnBvc3Rjb2RlIjogbnVsbCwgImFkZHI6cHJvdmluY2UiOiBudWxsLCAiYWRkcjpzdHJlZXQiOiBudWxsLCAiY2hhbmdlc2V0IjogIjE3MDExNzcxIiwgImdvbGYiOiBudWxsLCAiaWQiOiAid2F5LzIzMDQ1NDQ2MCIsICJsYW5kdXNlIjogbnVsbCwgImxlaXN1cmUiOiAicGFyayIsICJuYW1lIjogbnVsbCwgIm9wZW5pbmdfaG91cnMiOiBudWxsLCAicF9hcmVhIjogMS40ODc3NTU1MDAwMTI2MDI0ZS0wNywgInBob25lIjogbnVsbCwgInNvdXJjZSI6IG51bGwsICJzcG9ydCI6IG51bGwsICJzdHlsZSI6IHsiY29sb3IiOiAiYmxhY2siLCAiZmlsbENvbG9yIjogIiNGRUIyNEMiLCAiZmlsbE9wYWNpdHkiOiAwLjYsICJvcGFjdGl5IjogMC44LCAid2VpZ2h0IjogMX0sICJ0aW1lc3RhbXAiOiAiMjAxMy0wNy0xOVQxMzowNzoxM1oiLCAidHlwZSI6IG51bGwsICJ1aWQiOiAiNDU0MDEyIiwgInVzZXIiOiAiRmVsZG8iLCAidmVyc2lvbiI6ICIxIiwgIndlYnNpdGUiOiBudWxsfSwgInR5cGUiOiAiRmVhdHVyZSJ9LCB7Imdlb21ldHJ5IjogeyJjb29yZGluYXRlcyI6IFtbWy0xMTMuNTEwMzIyLCA1My41NDEzMjVdLCBbLTExMy41MTAxMDM3LCA1My41NDEzNzc4XSwgWy0xMTMuNTEwMDcwOCwgNTMuNTQxNDA0OTAwMDAwMDFdLCBbLTExMy41MTAwNzg0LCA1My41NDE0MzA2MDAwMDAwMDVdLCBbLTExMy41MTAxNTQ1LCA1My41NDE4MDNdLCBbLTExMy41MTAxMzQyMDAwMDAwMSwgNTMuNTQyMzU5NF0sIFstMTEzLjUxMDE4NDksIDUzLjU0MjM2N10sIFstMTEzLjUxMDE3NzMsIDUzLjU0MjM5ODZdLCBbLTExMy41MTAxMjQsIDUzLjU0MjQwMzJdLCBbLTExMy41MTAxMjkxLCA1My41NDI3NjM1XSwgWy0xMTMuNTEwMTExNCwgNTMuNTQyOTMzOV0sIFstMTEzLjUxMDA4NiwgNTMuNTQzMDA0OF0sIFstMTEzLjUxMDA1ODEsIDUzLjU0MzAzNjVdLCBbLTExMy41MTAwMTc1LCA1My41NDMwNjUxXSwgWy0xMTMuNTA5OTU2NiwgNTMuNTQzMDg5Ml0sIFstMTEzLjUwOTg4MDQsIDUzLjU0MzExNjQwMDAwMDAxXSwgWy0xMTMuNTA5ODA2OSwgNTMuNTQzMTNdLCBbLTExMy41MDk3MDAzLCA1My41NDMxNDM1XSwgWy0xMTMuNTA5NjgyNTAwMDAwMDEsIDUzLjU0MzE3NjddLCBbLTExMy41MTAxNDk0LCA1My41NDMxNzM3XSwgWy0xMTMuNTEwMTg0OSwgNTMuNTQ1NDU2NV0sIFstMTEzLjUxMDUwMjEsIDUzLjU0NTQ2ODZdLCBbLTExMy41MTA1Mjc1LCA1My41NDQ4NTM0XSwgWy0xMTMuNTEwNTQyNywgNTMuNTQ0NjkyMV0sIFstMTEzLjUxMDc3NjIsIDUzLjU0NDY4NzVdLCBbLTExMy41MTEwNDc3LCA1My41NDQ2Nzg1XSwgWy0xMTMuNTEyMDE3LCA1My41NDQ2Njk0XSwgWy0xMTMuNTExOTk0MiwgNTMuNTQ0NTY2OV0sIFstMTEzLjUxMDgxNjgsIDUzLjU0NDU1OTRdLCBbLTExMy41MTA1NzU3LCA1My41NDQ1NjA5XSwgWy0xMTMuNTEwNTE0OCwgNTMuNTQ0NTUwM10sIFstMTEzLjUxMDQ3NDIwMDAwMDAyLCA1My41NDQ1MjQ3XSwgWy0xMTMuNTEwNDYxNSwgNTMuNTQ0NDgyNTAwMDAwMDFdLCBbLTExMy41MTA0NTksIDUzLjU0MzkxMV0sIFstMTEzLjUxMDU5NiwgNTMuNTQzOTAyXSwgWy0xMTMuNTEwNjIzOSwgNTMuNTQzODYxM10sIFstMTEzLjUxMDU5MzUwMDAwMDAxLCA1My41NDM3OTQ5XSwgWy0xMTMuNTEwNTYzMDAwMDAwMDIsIDUzLjU0Mzc1NDJdLCBbLTExMy41MTA1NDAyLCA1My41NDM2ODAzXSwgWy0xMTMuNTEwNTkwOSwgNTMuNTQzNjQxMV0sIFstMTEzLjUxMDYyMzksIDUzLjU0MzYwMzRdLCBbLTExMy41MTA2NTY5LCA1My41NDM1MzcxXSwgWy0xMTMuNTEwNzA1MSwgNTMuNTQzNDIxMDAwMDAwMDFdLCBbLTExMy41MTA3MTI3LCA1My41NDMzMzgwMDAwMDAwMDZdLCBbLTExMy41MTA3MTUzMDAwMDAwMiwgNTMuNTQzMjM3XSwgWy0xMTMuNTEwNzEwMiwgNTMuNTQzMDc1N10sIFstMTEzLjUxMTk1ODcsIDUzLjU0MzA3MTFdLCBbLTExMy41MTE5NDYsIDUzLjU0Mjk4MjJdLCBbLTExMy41MTA3MDUxLCA1My41NDI5NTk2XSwgWy0xMTMuNTEwNjk3NSwgNTMuNTQyODc4MTAwMDAwMDFdLCBbLTExMy41MTA3MDI2LCA1My41NDI2NTM1XSwgWy0xMTMuNTEwNzA1MSwgNTMuNTQyMzAzN10sIFstMTEzLjUxMDcwMDEsIDUzLjU0MjE2NDldLCBbLTExMy41MTA1NzA2MDAwMDAwMSwgNTMuNTQxOTc3OV0sIFstMTEzLjUxMDQ5OTYsIDUzLjU0MTg3OTldLCBbLTExMy41MTA0NjQxMDAwMDAwMSwgNTMuNTQxNzg0OV0sIFstMTEzLjUxMDQ2NDEwMDAwMDAxLCA1My41NDE2NzY0XSwgWy0xMTMuNTEwNDc2OCwgNTMuNTQxNTY0OF0sIFstMTEzLjUxMDM3MjcsIDUzLjU0MTU2NzhdLCBbLTExMy41MTAzNTUsIDUzLjU0MTMzNDFdLCBbLTExMy41MTAzMjIsIDUzLjU0MTMyNV1dXSwgInR5cGUiOiAiUG9seWdvbiJ9LCAiaWQiOiAiNDEiLCAicHJvcGVydGllcyI6IHsiYWRkcjpjaXR5IjogbnVsbCwgImFkZHI6aG91c2VudW1iZXIiOiBudWxsLCAiYWRkcjpwb3N0Y29kZSI6IG51bGwsICJhZGRyOnByb3ZpbmNlIjogbnVsbCwgImFkZHI6c3RyZWV0IjogbnVsbCwgImNoYW5nZXNldCI6ICIxODU1OTkzMCIsICJnb2xmIjogbnVsbCwgImlkIjogIndheS8yNDM2MDQ1NjYiLCAibGFuZHVzZSI6IG51bGwsICJsZWlzdXJlIjogInBhcmsiLCAibmFtZSI6IG51bGwsICJvcGVuaW5nX2hvdXJzIjogbnVsbCwgInBfYXJlYSI6IDIuMDc0NzUwMzQ5OTk4Mzk2M2UtMDYsICJwaG9uZSI6IG51bGwsICJzb3VyY2UiOiBudWxsLCAic3BvcnQiOiBudWxsLCAic3R5bGUiOiB7ImNvbG9yIjogImJsYWNrIiwgImZpbGxDb2xvciI6ICIjRkQ4RDNDIiwgImZpbGxPcGFjaXR5IjogMC42LCAib3BhY3RpeSI6IDAuOCwgIndlaWdodCI6IDF9LCAidGltZXN0YW1wIjogIjIwMTMtMTAtMjdUMDE6MjE6MDhaIiwgInR5cGUiOiBudWxsLCAidWlkIjogIjc0NjQyIiwgInVzZXIiOiAiTWF0dERhbmNlIiwgInZlcnNpb24iOiAiMSIsICJ3ZWJzaXRlIjogbnVsbH0sICJ0eXBlIjogIkZlYXR1cmUifSwgeyJnZW9tZXRyeSI6IHsiY29vcmRpbmF0ZXMiOiBbW1stMTEzLjQ5NjM2MDUsIDUzLjUzNTIxMDhdLCBbLTExMy40OTY2NjMxLCA1My41MzQ5OTgyXSwgWy0xMTMuNDk2ODkxNywgNTMuNTM0ODcyNV0sIFstMTEzLjQ5NzA5NjksIDUzLjUzNDcxNzhdLCBbLTExMy40OTcxODU4LCA1My41MzQ1NjQzXSwgWy0xMTMuNDk3MjM0NSwgNTMuNTM0MjI4NV0sIFstMTEzLjQ5NzIyMTgwMDAwMDAyLCA1My41MzQxOTcxXSwgWy0xMTMuNDk3MTgzNywgNTMuNTM0MTc1N10sIFstMTEzLjQ5NTY3OTEwMDAwMDAyLCA1My41MzQxNzE5XSwgWy0xMTMuNDk1NjgyLCA1My41MzQ0NDRdLCBbLTExMy40OTU3NjIsIDUzLjUzNDQ1MDldLCBbLTExMy40OTYxNzE2LCA1My41MzQ0NTA2XSwgWy0xMTMuNDk2MTcxNywgNTMuNTM0NDk5MjAwMDAwMDA2XSwgWy0xMTMuNDk2NDQyLCA1My41MzQ0OTkwMDAwMDAwMDRdLCBbLTExMy40OTY0NDI5LCA1My41MzQ5OTM1XSwgWy0xMTMuNDk2MzU2NSwgNTMuNTM0OTkzNV0sIFstMTEzLjQ5NjM2MDUsIDUzLjUzNTIxMDhdXV0sICJ0eXBlIjogIlBvbHlnb24ifSwgImlkIjogIjQyIiwgInByb3BlcnRpZXMiOiB7ImFkZHI6Y2l0eSI6IG51bGwsICJhZGRyOmhvdXNlbnVtYmVyIjogbnVsbCwgImFkZHI6cG9zdGNvZGUiOiBudWxsLCAiYWRkcjpwcm92aW5jZSI6IG51bGwsICJhZGRyOnN0cmVldCI6IG51bGwsICJjaGFuZ2VzZXQiOiAiMTY2NjkxNjUiLCAiZ29sZiI6IG51bGwsICJpZCI6ICJ3YXkvMjI2OTg0OTQ3IiwgImxhbmR1c2UiOiBudWxsLCAibGVpc3VyZSI6ICJwYXJrIiwgIm5hbWUiOiBudWxsLCAib3BlbmluZ19ob3VycyI6IG51bGwsICJwX2FyZWEiOiA3LjkxNzA5OTM1MDAyNDA2ZS0wNywgInBob25lIjogbnVsbCwgInNvdXJjZSI6IG51bGwsICJzcG9ydCI6IG51bGwsICJzdHlsZSI6IHsiY29sb3IiOiAiYmxhY2siLCAiZmlsbENvbG9yIjogIiNGRDhEM0MiLCAiZmlsbE9wYWNpdHkiOiAwLjYsICJvcGFjdGl5IjogMC44LCAid2VpZ2h0IjogMX0sICJ0aW1lc3RhbXAiOiAiMjAxMy0wNi0yM1QxMzowNDoyMVoiLCAidHlwZSI6IG51bGwsICJ1aWQiOiAiNDU0MDEyIiwgInVzZXIiOiAiRmVsZG8iLCAidmVyc2lvbiI6ICIxIiwgIndlYnNpdGUiOiBudWxsfSwgInR5cGUiOiAiRmVhdHVyZSJ9LCB7Imdlb21ldHJ5IjogeyJjb29yZGluYXRlcyI6IFtbWy0xMTMuNTE3MjA0OCwgNTMuNTQwODE2Ml0sIFstMTEzLjUxNzIwNTMsIDUzLjU0MDc0MDZdLCBbLTExMy41MTY5NTExLCA1My41NDA3NDA3XSwgWy0xMTMuNTE2OTUxMiwgNTMuNTQwNzc1NV0sIFstMTEzLjUxNjYyNjEsIDUzLjU0MDc3NTYwMDAwMDAxXSwgWy0xMTMuNTE2NjI2LCA1My41NDA2ODI0XSwgWy0xMTMuNTE2NTU4NywgNTMuNTQwNjgyNF0sIFstMTEzLjUxNjU1ODcsIDUzLjU0MDY5XSwgWy0xMTMuNTE2NDgyNzAwMDAwMDEsIDUzLjU0MDY5XSwgWy0xMTMuNTE2NDgyNzAwMDAwMDEsIDUzLjU0MDY3OTZdLCBbLTExMy41MTY0MzQ1MDAwMDAwMiwgNTMuNTQwNjc5Nl0sIFstMTEzLjUxNjQzNDUwMDAwMDAyLCA1My41NDA2OTA2XSwgWy0xMTMuNTE2MzU5MSwgNTMuNTQwNjkwNl0sIFstMTEzLjUxNjM1OTEsIDUzLjU0MDY4MDZdLCBbLTExMy41MTYzMDY3MDAwMDAwMiwgNTMuNTQwNjgwNl0sIFstMTEzLjUxNjMwNjcwMDAwMDAyLCA1My41NDA3MTY2XSwgWy0xMTMuNTE2MTkzNiwgNTMuNTQwNzE2Nl0sIFstMTEzLjUxNjE5MzcsIDUzLjU0MDcyNjldLCBbLTExMy41MTYwNjg0LCA1My41NDA3MjU4XSwgWy0xMTMuNTE2MDE0MSwgNTMuNTQwNzUzNF0sIFstMTEzLjUxNjAxNjcsIDUzLjU0MDgwMDkwMDAwMDAxXSwgWy0xMTMuNTE2MDU2LCA1My41NDA4MTZdLCBbLTExMy41MTcyMDQ4LCA1My41NDA4MTYyXV1dLCAidHlwZSI6ICJQb2x5Z29uIn0sICJpZCI6ICI0MyIsICJwcm9wZXJ0aWVzIjogeyJhZGRyOmNpdHkiOiBudWxsLCAiYWRkcjpob3VzZW51bWJlciI6IG51bGwsICJhZGRyOnBvc3Rjb2RlIjogbnVsbCwgImFkZHI6cHJvdmluY2UiOiBudWxsLCAiYWRkcjpzdHJlZXQiOiBudWxsLCAiY2hhbmdlc2V0IjogIjE2NjcyMzY4IiwgImdvbGYiOiBudWxsLCAiaWQiOiAid2F5LzIyNzAxMjUwMSIsICJsYW5kdXNlIjogbnVsbCwgImxlaXN1cmUiOiAicGFyayIsICJuYW1lIjogbnVsbCwgIm9wZW5pbmdfaG91cnMiOiBudWxsLCAicF9hcmVhIjogMS4wMDMxMTc4OTk5OTgzOTI5ZS0wNywgInBob25lIjogbnVsbCwgInNvdXJjZSI6IG51bGwsICJzcG9ydCI6IG51bGwsICJzdHlsZSI6IHsiY29sb3IiOiAiYmxhY2siLCAiZmlsbENvbG9yIjogIiNGRUQ5NzYiLCAiZmlsbE9wYWNpdHkiOiAwLjYsICJvcGFjdGl5IjogMC44LCAid2VpZ2h0IjogMX0sICJ0aW1lc3RhbXAiOiAiMjAxMy0wNi0yM1QxNjo0NTo1MVoiLCAidHlwZSI6IG51bGwsICJ1aWQiOiAiNDU0MDEyIiwgInVzZXIiOiAiRmVsZG8iLCAidmVyc2lvbiI6ICIxIiwgIndlYnNpdGUiOiBudWxsfSwgInR5cGUiOiAiRmVhdHVyZSJ9LCB7Imdlb21ldHJ5IjogeyJjb29yZGluYXRlcyI6IFtbWy0xMTMuNTEzNjgzOCwgNTMuNTM2MTM4NF0sIFstMTEzLjUxMzY3NzEsIDUzLjUzNTkzMjRdLCBbLTExMy41MTMwOTIzLCA1My41MzU5MzkxXSwgWy0xMTMuNTEzMDg5NCwgNTMuNTM2MDE2NF0sIFstMTEzLjUxMzA5OTMsIDUzLjUzNjE0NTVdLCBbLTExMy41MTM2ODM4LCA1My41MzYxMzg0XV1dLCAidHlwZSI6ICJQb2x5Z29uIn0sICJpZCI6ICI0NCIsICJwcm9wZXJ0aWVzIjogeyJhZGRyOmNpdHkiOiBudWxsLCAiYWRkcjpob3VzZW51bWJlciI6IG51bGwsICJhZGRyOnBvc3Rjb2RlIjogbnVsbCwgImFkZHI6cHJvdmluY2UiOiBudWxsLCAiYWRkcjpzdHJlZXQiOiBudWxsLCAiY2hhbmdlc2V0IjogIjE2NzY1NzA4IiwgImdvbGYiOiBudWxsLCAiaWQiOiAid2F5LzIyODA5ODY0MiIsICJsYW5kdXNlIjogbnVsbCwgImxlaXN1cmUiOiAicGFyayIsICJuYW1lIjogbnVsbCwgIm9wZW5pbmdfaG91cnMiOiBudWxsLCAicF9hcmVhIjogMS4yMTE3MTkyNTAwMDM0MDY1ZS0wNywgInBob25lIjogbnVsbCwgInNvdXJjZSI6IG51bGwsICJzcG9ydCI6IG51bGwsICJzdHlsZSI6IHsiY29sb3IiOiAiYmxhY2siLCAiZmlsbENvbG9yIjogIiNGRUQ5NzYiLCAiZmlsbE9wYWNpdHkiOiAwLjYsICJvcGFjdGl5IjogMC44LCAid2VpZ2h0IjogMX0sICJ0aW1lc3RhbXAiOiAiMjAxMy0wNi0zMFQxNToyNjo0MFoiLCAidHlwZSI6IG51bGwsICJ1aWQiOiAiNDU0MDEyIiwgInVzZXIiOiAiRmVsZG8iLCAidmVyc2lvbiI6ICIxIiwgIndlYnNpdGUiOiBudWxsfSwgInR5cGUiOiAiRmVhdHVyZSJ9LCB7Imdlb21ldHJ5IjogeyJjb29yZGluYXRlcyI6IFtbWy0xMTMuNTM5NDQxNywgNTMuNTQyOTQ2N10sIFstMTEzLjU0MDM2LCA1My41NDI5Mzk3XSwgWy0xMTMuNTQwNDAwNSwgNTMuNTQyODE5M10sIFstMTEzLjU0MDU1NzUsIDUzLjU0MjYxMzddLCBbLTExMy41NDEwMjg1LCA1My41NDIxODUzMDAwMDAwMV0sIFstMTEzLjU0MTI3NjcsIDUzLjU0MTg5MDRdLCBbLTExMy41NDEzMzI0LCA1My41NDE1MjAzXSwgWy0xMTMuNTQxMjAwNywgNTMuNTQxMTc1Ml0sIFstMTEzLjU0MTAzODcsIDUzLjU0MDk4ODZdLCBbLTExMy41NDEzNDEsIDUzLjU0MDkwOTIwMDAwMDAxXSwgWy0xMTMuNTQwNzAzOCwgNTMuNTQwNDQ2Ml0sIFstMTEzLjUzOTU0NTEsIDUzLjU0MDExNDddLCBbLTExMy41Mzg5NjU3MDAwMDAwMiwgNTMuNTM5ODIxNF0sIFstMTEzLjUzOTEzNzQsIDUzLjUzOTA0MzZdLCBbLTExMy41Mzk1ODc2LCA1My41MzgyNDA2XSwgWy0xMTMuNTM4Mjc1NiwgNTMuNTM3NzY4Ml0sIFstMTEzLjUzNjY4MzIsIDUzLjUzNzAzNzJdLCBbLTExMy41MzU1Njc0LCA1My41MzY2MTg5XSwgWy0xMTMuNTM0MDgyNiwgNTMuNTM1ODI4Ml0sIFstMTEzLjUzMjk2NjgwMDAwMDAxLCA1My41MzUzNjkxXSwgWy0xMTMuNTMyMTk0MywgNTMuNTM1MTgwNF0sIFstMTEzLjUyNzY1MzkwMDAwMDAyLCA1My41MzM1NDhdLCBbLTExMy41MjUwNzg5LCA1My41MzI2ODA3XSwgWy0xMTMuNTIyNTA0LCA1My41MzIxOTFdLCBbLTExMy41MjA0NjEyLCA1My41MzE4NzQ3MDAwMDAwMV0sIFstMTEzLjUxOTUxNzEwMDAwMDAyLCA1My41MzE5NjE0XSwgWy0xMTMuNTE2NDcwMSwgNTMuNTMxNjcwNl0sIFstMTEzLjUxNTk1NTksIDUzLjUzMTY2MzldLCBbLTExMy41MTU5NDU1LCA1My41MzIxMTEyMDAwMDAwMV0sIFstMTEzLjUxNzA2MTMsIDUzLjUzMjE3NzUwMDAwMDAxXSwgWy0xMTMuNTE3NTA2OCwgNTMuNTMyMjIzNl0sIFstMTEzLjUxOTM3ODcsIDUzLjUzMjQxNzNdLCBbLTExMy41MjIyMzIsIDUzLjUzMjc5MDVdLCBbLTExMy41MjQxNzk4LCA1My41MzMxOTU2XSwgWy0xMTMuNTI0NjMxNTAwMDAwMDEsIDUzLjUzMzI4OTZdLCBbLTExMy41MjQ4NTQyLCA1My41MzMzMjg0XSwgWy0xMTMuNTI1Mzg0NywgNTMuNTMzNDIzOV0sIFstMTEzLjUyNjcxNTEsIDUzLjUzMzcxOTddLCBbLTExMy41Mjk0ODI1LCA1My41MzQ2NzA1XSwgWy0xMTMuNTMxMDAwMywgNTMuNTM1MjExMl0sIFstMTEzLjUzMTk3MzQwMDAwMDAxLCA1My41MzU2MTQyXSwgWy0xMTMuNTMyNDQ4NCwgNTMuNTM1Nzc5Nl0sIFstMTEzLjUzMzYxODMsIDUzLjUzNjI1MDkwMDAwMDAwNl0sIFstMTEzLjUzMzk4MDUsIDUzLjUzNjM5NjhdLCBbLTExMy41MzQ4NTI2LCA1My41MzY3OTQ1XSwgWy0xMTMuNTM1MzM0NSwgNTMuNTM3MDc3NV0sIFstMTEzLjUzNTQ0ODMsIDUzLjUzNzE5MTJdLCBbLTExMy41MzU4MTMyLCA1My41Mzc1NTU4XSwgWy0xMTMuNTM2ODYwMywgNTMuNTM4NjQyM10sIFstMTEzLjUzNjg3NzUsIDUzLjUzODkwNzVdLCBbLTExMy41MzY0NzIsIDUzLjUzOTM5MzNdLCBbLTExMy41MzU5OTUsIDUzLjUzOTY3MTddLCBbLTExMy41MzUxODY2LCA1My41Mzk4MDAxXSwgWy0xMTMuNTMzMDkyMywgNTMuNTM5NjQyXSwgWy0xMTMuNTMwOTg0MywgNTMuNTM5MzgyNV0sIFstMTEzLjUzMDg0NDEsIDUzLjU0MDM0OTZdLCBbLTExMy41MzEzOTEyLCA1My41NDA0MTA3MDAwMDAwMV0sIFstMTEzLjUzMTM5LCA1My41NDA0MzAwMDAwMDAwMV0sIFstMTEzLjUzMjczMDUwMDAwMDAxLCA1My41NDA2MjU5MDAwMDAwMV0sIFstMTEzLjUzMjc0ODMsIDUzLjU0MDU4NTMwMDAwMDAwNF0sIFstMTEzLjUzMzkzNjcsIDUzLjU0MDc1OTkwMDAwMDAwNV0sIFstMTEzLjUzMzkzLCA1My41NDA4MTRdLCBbLTExMy41MzQwMTYxLCA1My41NDA4MTVdLCBbLTExMy41MzQxMTA2LCA1My41NDA4MTNdLCBbLTExMy41MzQxOTE2LCA1My41NDA4MzcxXSwgWy0xMTMuNTM0OTU4MDAwMDAwMDIsIDUzLjU0MDgzMjFdLCBbLTExMy41MzQ5OTUyLCA1My41NDA5OTg2XSwgWy0xMTMuNTM1MjE2MywgNTMuNTQwOTE0M10sIFstMTEzLjUzNTQ3MTIsIDUzLjU0MDk2NDVdLCBbLTExMy41MzU2MzgzLCA1My41NDA5Njg1XSwgWy0xMTMuNTM2MzQyMywgNTMuNTQxMTY2MV0sIFstMTEzLjUzNjUxMTEsIDUzLjU0MTIyNDNdLCBbLTExMy41MzY4NjksIDUzLjU0MTIxNTNdLCBbLTExMy41Mzc1MjA2MDAwMDAwMSwgNTMuNTQxMzgwOF0sIFstMTEzLjUzNzYyNywgNTMuNTQxMjU2NF0sIFstMTEzLjUzNzg1MTUsIDUzLjU0MTI3NTVdLCBbLTExMy41Mzc4NTgyMDAwMDAwMiwgNTMuNTQxMjMzMzAwMDAwMDFdLCBbLTExMy41MzgyMjk2LCA1My41NDEyMjczXSwgWy0xMTMuNTM4NTc5MSwgNTMuNTQxMDM3N10sIFstMTEzLjUzOTA1MTcwMDAwMDAyLCA1My41NDExNDgxMDAwMDAwMV0sIFstMTEzLjUzOTU5MDIwMDAwMDAyLCA1My41NDEyNDY0XSwgWy0xMTMuNTM5OTI0NTAwMDAwMDEsIDUzLjU0MTQxNzldLCBbLTExMy41NDAwOTMzMDAwMDAwMSwgNTMuNTQxMjMzMzAwMDAwMDFdLCBbLTExMy41NDAxODk1LCA1My41NDEyNDY0XSwgWy0xMTMuNTQwMDg0OSwgNTMuNTQxNTM2M10sIFstMTEzLjU0MDQ0NjEwMDAwMDAxLCA1My41NDE5MDQ1XSwgWy0xMTMuNTQwMjU4NywgNTMuNTQyMDQ1OV0sIFstMTEzLjU0MDI0MTksIDUzLjU0MjE0ODJdLCBbLTExMy41Mzk5Njg0LCA1My41NDIyMjA0XSwgWy0xMTMuNTM5NzI4NywgNTMuNTQyMjM2NV0sIFstMTEzLjUzOTUyNjEsIDUzLjU0MjMwODddLCBbLTExMy41Mzk1OTAyMDAwMDAwMiwgNTMuNTQyNTQ5NV0sIFstMTEzLjUzOTU3MTcsIDUzLjU0MjYzNDddLCBbLTExMy41Mzk1MDQxLCA1My41NDI3MDA5XSwgWy0xMTMuNTM5NDI2NSwgNTMuNTQyOTIxNl0sIFstMTEzLjUzOTQ0MTcsIDUzLjU0Mjk0NjddXV0sICJ0eXBlIjogIlBvbHlnb24ifSwgImlkIjogIjQ1IiwgInByb3BlcnRpZXMiOiB7ImFkZHI6Y2l0eSI6IG51bGwsICJhZGRyOmhvdXNlbnVtYmVyIjogbnVsbCwgImFkZHI6cG9zdGNvZGUiOiBudWxsLCAiYWRkcjpwcm92aW5jZSI6IG51bGwsICJhZGRyOnN0cmVldCI6IG51bGwsICJjaGFuZ2VzZXQiOiAiNDUxMjA5OTkiLCAiZ29sZiI6IG51bGwsICJpZCI6ICJ3YXkvMjMzNTEwMjI2IiwgImxhbmR1c2UiOiBudWxsLCAibGVpc3VyZSI6ICJwYXJrIiwgIm5hbWUiOiBudWxsLCAib3BlbmluZ19ob3VycyI6IG51bGwsICJwX2FyZWEiOiAzLjEzMDc0MTA4MzQ5ODE4MWUtMDUsICJwaG9uZSI6IG51bGwsICJzb3VyY2UiOiBudWxsLCAic3BvcnQiOiBudWxsLCAic3R5bGUiOiB7ImNvbG9yIjogImJsYWNrIiwgImZpbGxDb2xvciI6ICIjRkM0RTJBIiwgImZpbGxPcGFjaXR5IjogMC42LCAib3BhY3RpeSI6IDAuOCwgIndlaWdodCI6IDF9LCAidGltZXN0YW1wIjogIjIwMTctMDEtMTNUMDA6MzY6NThaIiwgInR5cGUiOiBudWxsLCAidWlkIjogIjM4ODk2OSIsICJ1c2VyIjogImpka3JhYmJlIiwgInZlcnNpb24iOiAiNCIsICJ3ZWJzaXRlIjogbnVsbH0sICJ0eXBlIjogIkZlYXR1cmUifSwgeyJnZW9tZXRyeSI6IHsiY29vcmRpbmF0ZXMiOiBbW1stMTEzLjUwMDkyOTcwMDAwMDAxLCA1My41MzM4NDk1XSwgWy0xMTMuNTAwOTM2MiwgNTMuNTMzMTYxXSwgWy0xMTMuNTAwMTA4MSwgNTMuNTMzMTU4M10sIFstMTEzLjUwMDExMDQsIDUzLjUzMjkwODVdLCBbLTExMy40OTk5MjQ0LCA1My41MzI5MDc5XSwgWy0xMTMuNDk5OTIyOSwgNTMuNTMzMDc0XSwgWy0xMTMuNDk5MzU3MSwgNTMuNTMzMDcyMV0sIFstMTEzLjQ5OTM0MiwgNTMuNTMzNzkyNV0sIFstMTEzLjQ5OTM3MjgsIDUzLjUzMzgzMzRdLCBbLTExMy40OTk0MjYxLCA1My41MzM4NDgyXSwgWy0xMTMuNTAwOTI5NzAwMDAwMDEsIDUzLjUzMzg0OTVdXV0sICJ0eXBlIjogIlBvbHlnb24ifSwgImlkIjogIjQ2IiwgInByb3BlcnRpZXMiOiB7ImFkZHI6Y2l0eSI6IG51bGwsICJhZGRyOmhvdXNlbnVtYmVyIjogbnVsbCwgImFkZHI6cG9zdGNvZGUiOiBudWxsLCAiYWRkcjpwcm92aW5jZSI6IG51bGwsICJhZGRyOnN0cmVldCI6IG51bGwsICJjaGFuZ2VzZXQiOiAiMjU0ODY4MDEiLCAiZ29sZiI6IG51bGwsICJpZCI6ICJ3YXkvMjI2ODc5OTQyIiwgImxhbmR1c2UiOiBudWxsLCAibGVpc3VyZSI6ICJwYXJrIiwgIm5hbWUiOiBudWxsLCAib3BlbmluZ19ob3VycyI6IG51bGwsICJwX2FyZWEiOiAxLjE4NjU2ODA5NTAwNjYzMjVlLTA2LCAicGhvbmUiOiBudWxsLCAic291cmNlIjogbnVsbCwgInNwb3J0IjogbnVsbCwgInN0eWxlIjogeyJjb2xvciI6ICJibGFjayIsICJmaWxsQ29sb3IiOiAiI0ZEOEQzQyIsICJmaWxsT3BhY2l0eSI6IDAuNiwgIm9wYWN0aXkiOiAwLjgsICJ3ZWlnaHQiOiAxfSwgInRpbWVzdGFtcCI6ICIyMDE0LTA5LTE2VDE5OjI2OjM2WiIsICJ0eXBlIjogbnVsbCwgInVpZCI6ICIxMzk5NTciLCAidXNlciI6ICJpal8iLCAidmVyc2lvbiI6ICIyIiwgIndlYnNpdGUiOiBudWxsfSwgInR5cGUiOiAiRmVhdHVyZSJ9LCB7Imdlb21ldHJ5IjogeyJjb29yZGluYXRlcyI6IFtbWy0xMTMuNDk5MDczMSwgNTMuNTM2Nzc5N10sIFstMTEzLjQ5OTA3MzgsIDUzLjUzNjE5NjVdLCBbLTExMy40OTg0MTcxLCA1My41MzYxOTYyXSwgWy0xMTMuNDk4NDE2NiwgNTMuNTM2NjAwMl0sIFstMTEzLjQ5NzU1MjYsIDUzLjUzNjU5OThdLCBbLTExMy40OTc1NTI0LCA1My41MzY3NzldLCBbLTExMy40OTkwNzMxLCA1My41MzY3Nzk3XV1dLCAidHlwZSI6ICJQb2x5Z29uIn0sICJpZCI6ICI0NyIsICJwcm9wZXJ0aWVzIjogeyJhZGRyOmNpdHkiOiBudWxsLCAiYWRkcjpob3VzZW51bWJlciI6IG51bGwsICJhZGRyOnBvc3Rjb2RlIjogbnVsbCwgImFkZHI6cHJvdmluY2UiOiBudWxsLCAiYWRkcjpzdHJlZXQiOiBudWxsLCAiY2hhbmdlc2V0IjogIjE2NjYyNTgwIiwgImdvbGYiOiBudWxsLCAiaWQiOiAid2F5LzIyNjkyODUzMiIsICJsYW5kdXNlIjogbnVsbCwgImxlaXN1cmUiOiAicGFyayIsICJuYW1lIjogbnVsbCwgIm9wZW5pbmdfaG91cnMiOiBudWxsLCAicF9hcmVhIjogNS4zNzgxOTE5MDAwMTYxMDNlLTA3LCAicGhvbmUiOiBudWxsLCAic291cmNlIjogbnVsbCwgInNwb3J0IjogbnVsbCwgInN0eWxlIjogeyJjb2xvciI6ICJibGFjayIsICJmaWxsQ29sb3IiOiAiI0ZEOEQzQyIsICJmaWxsT3BhY2l0eSI6IDAuNiwgIm9wYWN0aXkiOiAwLjgsICJ3ZWlnaHQiOiAxfSwgInRpbWVzdGFtcCI6ICIyMDEzLTA2LTIyVDIyOjQ1OjI1WiIsICJ0eXBlIjogbnVsbCwgInVpZCI6ICI0NTQwMTIiLCAidXNlciI6ICJGZWxkbyIsICJ2ZXJzaW9uIjogIjEiLCAid2Vic2l0ZSI6IG51bGx9LCAidHlwZSI6ICJGZWF0dXJlIn0sIHsiZ2VvbWV0cnkiOiB7ImNvb3JkaW5hdGVzIjogW1tbLTExMy40OTc0NDg3LCA1My41MzUwNTgyMDAwMDAwMV0sIFstMTEzLjQ5NzcwNTMsIDUzLjUzNDgxNzJdLCBbLTExMy40OTc0MzkyMDAwMDAwMiwgNTMuNTM0ODk0NF0sIFstMTEzLjQ5NzQ0ODcsIDUzLjUzNTA1ODIwMDAwMDAxXV1dLCAidHlwZSI6ICJQb2x5Z29uIn0sICJpZCI6ICI0OCIsICJwcm9wZXJ0aWVzIjogeyJhZGRyOmNpdHkiOiBudWxsLCAiYWRkcjpob3VzZW51bWJlciI6IG51bGwsICJhZGRyOnBvc3Rjb2RlIjogbnVsbCwgImFkZHI6cHJvdmluY2UiOiBudWxsLCAiYWRkcjpzdHJlZXQiOiBudWxsLCAiY2hhbmdlc2V0IjogIjE2NjY5OTgzIiwgImdvbGYiOiBudWxsLCAiaWQiOiAid2F5LzIyNjk5MTUxOSIsICJsYW5kdXNlIjogbnVsbCwgImxlaXN1cmUiOiAicGFyayIsICJuYW1lIjogbnVsbCwgIm9wZW5pbmdfaG91cnMiOiBudWxsLCAicF9hcmVhIjogMi4yMTYwMjkwMDAwOTIyNDA3ZS0wOCwgInBob25lIjogbnVsbCwgInNvdXJjZSI6IG51bGwsICJzcG9ydCI6IG51bGwsICJzdHlsZSI6IHsiY29sb3IiOiAiYmxhY2siLCAiZmlsbENvbG9yIjogIiNGRkZGQjIiLCAiZmlsbE9wYWNpdHkiOiAwLjYsICJvcGFjdGl5IjogMC44LCAid2VpZ2h0IjogMX0sICJ0aW1lc3RhbXAiOiAiMjAxMy0wNi0yM1QxNDowOTozM1oiLCAidHlwZSI6IG51bGwsICJ1aWQiOiAiNDU0MDEyIiwgInVzZXIiOiAiRmVsZG8iLCAidmVyc2lvbiI6ICIxIiwgIndlYnNpdGUiOiBudWxsfSwgInR5cGUiOiAiRmVhdHVyZSJ9LCB7Imdlb21ldHJ5IjogeyJjb29yZGluYXRlcyI6IFtbWy0xMTMuNDk3Mjc5OSwgNTMuNTM3MTldLCBbLTExMy40OTcyODkzMDAwMDAwMiwgNTMuNTM2ODc2XSwgWy0xMTMuNDk1NzgzNCwgNTMuNTM2ODg0M10sIFstMTEzLjQ5NTgwNjgsIDUzLjUzNzE4ODZdLCBbLTExMy40OTcyNzk5LCA1My41MzcxOV1dXSwgInR5cGUiOiAiUG9seWdvbiJ9LCAiaWQiOiAiNDkiLCAicHJvcGVydGllcyI6IHsiYWRkcjpjaXR5IjogbnVsbCwgImFkZHI6aG91c2VudW1iZXIiOiBudWxsLCAiYWRkcjpwb3N0Y29kZSI6IG51bGwsICJhZGRyOnByb3ZpbmNlIjogbnVsbCwgImFkZHI6c3RyZWV0IjogbnVsbCwgImNoYW5nZXNldCI6ICIxNjY3MDEzOSIsICJnb2xmIjogbnVsbCwgImlkIjogIndheS8yMjY5OTM0NzgiLCAibGFuZHVzZSI6IG51bGwsICJsZWlzdXJlIjogInBhcmsiLCAibmFtZSI6IG51bGwsICJvcGVuaW5nX2hvdXJzIjogbnVsbCwgInBfYXJlYSI6IDQuNjA1MDMwNzUwMDYzNjEzM2UtMDcsICJwaG9uZSI6IG51bGwsICJzb3VyY2UiOiBudWxsLCAic3BvcnQiOiBudWxsLCAic3R5bGUiOiB7ImNvbG9yIjogImJsYWNrIiwgImZpbGxDb2xvciI6ICIjRkVCMjRDIiwgImZpbGxPcGFjaXR5IjogMC42LCAib3BhY3RpeSI6IDAuOCwgIndlaWdodCI6IDF9LCAidGltZXN0YW1wIjogIjIwMTMtMDYtMjNUMTQ6MjA6MDdaIiwgInR5cGUiOiBudWxsLCAidWlkIjogIjQ1NDAxMiIsICJ1c2VyIjogIkZlbGRvIiwgInZlcnNpb24iOiAiMSIsICJ3ZWJzaXRlIjogbnVsbH0sICJ0eXBlIjogIkZlYXR1cmUifSwgeyJnZW9tZXRyeSI6IHsiY29vcmRpbmF0ZXMiOiBbW1stMTEzLjUxMTE0MTcsIDUzLjUzNjQ2MDldLCBbLTExMy41MTExMzk2LCA1My41MzYzMzcyXSwgWy0xMTMuNTExOTM3NywgNTMuNTM2MzMyM10sIFstMTEzLjUxMTk1MTYsIDUzLjUzNTc4ODZdLCBbLTExMy41MTA0NzkwMDAwMDAwMiwgNTMuNTM1Nzg5OV0sIFstMTEzLjUxMDQ3ODcsIDUzLjUzNjUyNzhdLCBbLTExMy41MTA2MjMsIDUzLjUzNjUyNTldLCBbLTExMy41MTExMjQxLCA1My41MzY1MjJdLCBbLTExMy41MTExMjMsIDUzLjUzNjQ2MTFdLCBbLTExMy41MTExNDE3LCA1My41MzY0NjA5XV1dLCAidHlwZSI6ICJQb2x5Z29uIn0sICJpZCI6ICI1MCIsICJwcm9wZXJ0aWVzIjogeyJhZGRyOmNpdHkiOiBudWxsLCAiYWRkcjpob3VzZW51bWJlciI6IG51bGwsICJhZGRyOnBvc3Rjb2RlIjogbnVsbCwgImFkZHI6cHJvdmluY2UiOiBudWxsLCAiYWRkcjpzdHJlZXQiOiBudWxsLCAiY2hhbmdlc2V0IjogIjQ0NjUyNjU0IiwgImdvbGYiOiBudWxsLCAiaWQiOiAid2F5LzIyODA5ODYxMiIsICJsYW5kdXNlIjogbnVsbCwgImxlaXN1cmUiOiAicGFyayIsICJuYW1lIjogbnVsbCwgIm9wZW5pbmdfaG91cnMiOiBudWxsLCAicF9hcmVhIjogOS4yNDEyNDgxNTAwNjMyMTVlLTA3LCAicGhvbmUiOiBudWxsLCAic291cmNlIjogbnVsbCwgInNwb3J0IjogbnVsbCwgInN0eWxlIjogeyJjb2xvciI6ICJibGFjayIsICJmaWxsQ29sb3IiOiAiI0ZEOEQzQyIsICJmaWxsT3BhY2l0eSI6IDAuNiwgIm9wYWN0aXkiOiAwLjgsICJ3ZWlnaHQiOiAxfSwgInRpbWVzdGFtcCI6ICIyMDE2LTEyLTI0VDIyOjAyOjM0WiIsICJ0eXBlIjogbnVsbCwgInVpZCI6ICIzODQ4OTU1IiwgInVzZXIiOiAiTWVzb3doaXRlIiwgInZlcnNpb24iOiAiMyIsICJ3ZWJzaXRlIjogbnVsbH0sICJ0eXBlIjogIkZlYXR1cmUifSwgeyJnZW9tZXRyeSI6IHsiY29vcmRpbmF0ZXMiOiBbW1stMTEzLjUyMDMwOTIsIDUzLjU0MjY4NDAwMDAwMDAxXSwgWy0xMTMuNTIwMzEsIDUzLjU0MjU2OTJdLCBbLTExMy41MTk4MjUsIDUzLjU0MjU2OF0sIFstMTEzLjUxOTgyNDEwMDAwMDAxLCA1My41NDI2ODI3XSwgWy0xMTMuNTIwMzA5MiwgNTMuNTQyNjg0MDAwMDAwMDFdXV0sICJ0eXBlIjogIlBvbHlnb24ifSwgImlkIjogIjUxIiwgInByb3BlcnRpZXMiOiB7ImFkZHI6Y2l0eSI6IG51bGwsICJhZGRyOmhvdXNlbnVtYmVyIjogbnVsbCwgImFkZHI6cG9zdGNvZGUiOiBudWxsLCAiYWRkcjpwcm92aW5jZSI6IG51bGwsICJhZGRyOnN0cmVldCI6IG51bGwsICJjaGFuZ2VzZXQiOiAiMjgyOTE0NjMiLCAiZ29sZiI6IG51bGwsICJpZCI6ICJ3YXkvMjMzMDIxNzU0IiwgImxhbmR1c2UiOiBudWxsLCAibGVpc3VyZSI6ICJwaXRjaCIsICJuYW1lIjogbnVsbCwgIm9wZW5pbmdfaG91cnMiOiBudWxsLCAicF9hcmVhIjogNS41NjYwNTQ5OTk5MjU3ODE0ZS0wOCwgInBob25lIjogbnVsbCwgInNvdXJjZSI6IG51bGwsICJzcG9ydCI6ICJ0ZW5uaXMiLCAic3R5bGUiOiB7ImNvbG9yIjogImJsYWNrIiwgImZpbGxDb2xvciI6ICIjRkZGRkIyIiwgImZpbGxPcGFjaXR5IjogMC42LCAib3BhY3RpeSI6IDAuOCwgIndlaWdodCI6IDF9LCAidGltZXN0YW1wIjogIjIwMTUtMDEtMjBUMTk6Mjc6NDZaIiwgInR5cGUiOiBudWxsLCAidWlkIjogIjI1NTA4ODAiLCAidXNlciI6ICJlZG1vbnRvbmdlbyIsICJ2ZXJzaW9uIjogIjIiLCAid2Vic2l0ZSI6IG51bGx9LCAidHlwZSI6ICJGZWF0dXJlIn0sIHsiZ2VvbWV0cnkiOiB7ImNvb3JkaW5hdGVzIjogW1tbLTExMy41MDgyMTExLCA1My41MzQwOTI5XSwgWy0xMTMuNTA4MjY0LCA1My41MzQxNTQ1XSwgWy0xMTMuNTA4NjAyLCA1My41MzM5OTUxXSwgWy0xMTMuNTA4Nzk1MSwgNTMuNTMzODQyXSwgWy0xMTMuNTA4OTU2ODAwMDAwMDIsIDUzLjUzMzU4NzYwMDAwMDAwNF0sIFstMTEzLjUwOTE3NjgsIDUzLjUzMjg4NDZdLCBbLTExMy41MDkyODM1LCA1My41MzI2NzcxXSwgWy0xMTMuNTA5NDczOSwgNTMuNTMyNTE1XSwgWy0xMTMuNTA5NjA5MSwgNTMuNTMyNDU0OV0sIFstMTEzLjUwOTY0MTEwMDAwMDAxLCA1My41MzI0MDU1XSwgWy0xMTMuNTA5Njg5OSwgNTMuNTMyMzEyNl0sIFstMTEzLjUwOTEzNjQwMDAwMDAyLCA1My41MzIyMTE2XSwgWy0xMTMuNTA3NzYxMywgNTMuNTMxNzkyNV0sIFstMTEzLjUwNzMxNzQsIDUzLjUzMTcxNjVdLCBbLTExMy41MDY5Njg5LCA1My41MzE3MDQ5XSwgWy0xMTMuNTA2NDM4MiwgNTMuNTMxNjg3M10sIFstMTEzLjUwNTg5NjMsIDUzLjUzMTYxMDJdLCBbLTExMy41MDQyNjQ2LCA1My41MzE2MTAyXSwgWy0xMTMuNTA0MTExOSwgNTMuNTMxNjM0Ml0sIFstMTEzLjUwMzk2MiwgNTMuNTMxNzA3OV0sIFstMTEzLjUwMzg3MjYsIDUzLjUzMTc5NTNdLCBbLTExMy41MDM4NjQsIDUzLjUzMTk0NDRdLCBbLTExMy41MDM4OTg1LCA1My41MzIxMzhdLCBbLTExMy41MDM5NTgxMDAwMDAwMiwgNTMuNTMyNDUzN10sIFstMTEzLjUwMzkxMywgNTMuNTMyNTIzNTAwMDAwMDFdLCBbLTExMy41MDI5OTYzLCA1My41MzI1MTE1XSwgWy0xMTMuNTAyOTAzMSwgNTMuNTMyNTA5OF0sIFstMTEzLjUwMjkxMzEsIDUzLjUzMzg4MV0sIFstMTEzLjUwMjkxMzgsIDUzLjUzMzk3Ml0sIFstMTEzLjUwMzMxMzkwMDAwMDAxLCA1My41MzM5OTc2XSwgWy0xMTMuNTAzOTE2OSwgNTMuNTM0MDg0OV0sIFstMTEzLjUwNDI2MSwgNTMuNTM0MTM5M10sIFstMTEzLjUwNDUwMTEsIDUzLjUzNDE4MTNdLCBbLTExMy41MDQ1NTI1LCA1My41MzQxMjgzMDAwMDAwMDZdLCBbLTExMy41MDQ2ODAzLCA1My41MzM5NjA5XSwgWy0xMTMuNTA1MjY3MywgNTMuNTMzOTc4NV0sIFstMTEzLjUwNTQwMzYsIDUzLjUzMzk2NzRdLCBbLTExMy41MDU0OTEsIDUzLjUzMzkyNDhdLCBbLTExMy41MDU1NDQ4LCA1My41MzM3ODczXSwgWy0xMTMuNTA1NTg4ODAwMDAwMDEsIDUzLjUzMzYxNDVdLCBbLTExMy41MDU2MzMxLCA1My41MzM1Mjk1XSwgWy0xMTMuNTA1Njk2NTAwMDAwMDEsIDUzLjUzMzQ1MjNdLCBbLTExMy41MDU3OTUyLCA1My41MzMzNjg1XSwgWy0xMTMuNTA1ODQ5NCwgNTMuNTMzMzI1MV0sIFstMTEzLjUwNjAxMzUsIDUzLjUzMzI0OV0sIFstMTEzLjUwNjI4NzEsIDUzLjUzMzE2MTNdLCBbLTExMy41MDY0NzQ5MDAwMDAwMSwgNTMuNTMzMTQwNl0sIFstMTEzLjUwNjYwOTgsIDUzLjUzMzEzODJdLCBbLTExMy41MDY2NTQ2LCA1My41MzMxMzc0XSwgWy0xMTMuNTA2ODE1NSwgNTMuNTMzMTUwMV0sIFstMTEzLjUwNzAwNTksIDUzLjUzMzE3NTcwMDAwMDAxXSwgWy0xMTMuNTA3MTU4OCwgNTMuNTMzMjMxNF0sIFstMTEzLjUwNzMzNTgsIDUzLjUzMzMyMzldLCBbLTExMy41MDc0OTM2MDAwMDAwMiwgNTMuNTMzNDQzMV0sIFstMTEzLjUwNzU4OCwgNTMuNTMzNjAxM10sIFstMTEzLjUwNzY3NTksIDUzLjUzMzgyNDFdLCBbLTExMy41MDc3MjQ4LCA1My41MzM4ODM1XSwgWy0xMTMuNTA3Nzk2NiwgNTMuNTMzOTIyOV0sIFstMTEzLjUwNzkyNTQsIDUzLjUzMzk0MzZdLCBbLTExMy41MDgwNTY4LCA1My41MzM5MzQxXSwgWy0xMTMuNTA4MjExMSwgNTMuNTM0MDkyOV1dXSwgInR5cGUiOiAiUG9seWdvbiJ9LCAiaWQiOiAiNTIiLCAicHJvcGVydGllcyI6IHsiYWRkcjpjaXR5IjogbnVsbCwgImFkZHI6aG91c2VudW1iZXIiOiBudWxsLCAiYWRkcjpwb3N0Y29kZSI6IG51bGwsICJhZGRyOnByb3ZpbmNlIjogbnVsbCwgImFkZHI6c3RyZWV0IjogbnVsbCwgImNoYW5nZXNldCI6ICI0NTU5ODYxMSIsICJnb2xmIjogbnVsbCwgImlkIjogIndheS8yMjY4Nzk4OTgiLCAibGFuZHVzZSI6IG51bGwsICJsZWlzdXJlIjogInBhcmsiLCAibmFtZSI6IG51bGwsICJvcGVuaW5nX2hvdXJzIjogbnVsbCwgInBfYXJlYSI6IDEuMTgxNTY3OTAzNTAwMDgzMWUtMDUsICJwaG9uZSI6IG51bGwsICJzb3VyY2UiOiBudWxsLCAic3BvcnQiOiBudWxsLCAic3R5bGUiOiB7ImNvbG9yIjogImJsYWNrIiwgImZpbGxDb2xvciI6ICIjRkM0RTJBIiwgImZpbGxPcGFjaXR5IjogMC42LCAib3BhY3RpeSI6IDAuOCwgIndlaWdodCI6IDF9LCAidGltZXN0YW1wIjogIjIwMTctMDEtMjhUMTc6MTc6NDNaIiwgInR5cGUiOiBudWxsLCAidWlkIjogIjUyMTUwNzUiLCAidXNlciI6ICJzYW1teTIwMDYiLCAidmVyc2lvbiI6ICIzIiwgIndlYnNpdGUiOiBudWxsfSwgInR5cGUiOiAiRmVhdHVyZSJ9LCB7Imdlb21ldHJ5IjogeyJjb29yZGluYXRlcyI6IFtbWy0xMTMuNDkzNTgyMjAwMDAwMDIsIDUzLjUzNDIwMzVdLCBbLTExMy40OTM1OTk2LCA1My41MzQxNzUzXSwgWy0xMTMuNDkzNTk1LCA1My41MzQxNTQ2XSwgWy0xMTMuNDkzNTY4NCwgNTMuNTM0MTMwNV0sIFstMTEzLjQ5MzUxMzksIDUzLjUzNDExNDddLCBbLTExMy40OTMwNjcwMDAwMDAwMSwgNTMuNTM0MTIxNl0sIFstMTEzLjQ5MzA0OTYsIDUzLjUzNDM1MDddLCBbLTExMy40OTIyMTI1LCA1My41MzQ1NDYyXSwgWy0xMTMuNDkxMDg5NCwgNTMuNTM0NzU1NDAwMDAwMDFdLCBbLTExMy40OTA4ODY4LCA1My41MzQ3MjNdLCBbLTExMy40OTA4LCA1My41MzQ4MjldLCBbLTExMy40OTA2OTgxMDAwMDAwMiwgNTMuNTM1MDEwN10sIFstMTEzLjQ5MDYyMjgsIDUzLjUzNTE5NzhdLCBbLTExMy40OTE0MjE3LCA1My41MzQ5OTgzMDAwMDAwMDVdLCBbLTExMy40OTIxMzUsIDUzLjUzNDc4MDEwMDAwMDAwNl0sIFstMTEzLjQ5MjcxOTcsIDUzLjUzNDU2MzRdLCBbLTExMy40OTM1ODIyMDAwMDAwMiwgNTMuNTM0MjAzNV1dXSwgInR5cGUiOiAiUG9seWdvbiJ9LCAiaWQiOiAiNTMiLCAicHJvcGVydGllcyI6IHsiYWRkcjpjaXR5IjogbnVsbCwgImFkZHI6aG91c2VudW1iZXIiOiBudWxsLCAiYWRkcjpwb3N0Y29kZSI6IG51bGwsICJhZGRyOnByb3ZpbmNlIjogbnVsbCwgImFkZHI6c3RyZWV0IjogbnVsbCwgImNoYW5nZXNldCI6ICIxNjY1ODEzNyIsICJnb2xmIjogbnVsbCwgImlkIjogIndheS8yMjY4ODAzMzAiLCAibGFuZHVzZSI6IG51bGwsICJsZWlzdXJlIjogInBhcmsiLCAibmFtZSI6IG51bGwsICJvcGVuaW5nX2hvdXJzIjogbnVsbCwgInBfYXJlYSI6IDYuNjk4MzY5MzQ5OTc4MTQ0ZS0wNywgInBob25lIjogbnVsbCwgInNvdXJjZSI6IG51bGwsICJzcG9ydCI6IG51bGwsICJzdHlsZSI6IHsiY29sb3IiOiAiYmxhY2siLCAiZmlsbENvbG9yIjogIiNGRDhEM0MiLCAiZmlsbE9wYWNpdHkiOiAwLjYsICJvcGFjdGl5IjogMC44LCAid2VpZ2h0IjogMX0sICJ0aW1lc3RhbXAiOiAiMjAxMy0wNi0yMlQxNTo0ODoxN1oiLCAidHlwZSI6IG51bGwsICJ1aWQiOiAiNDU0MDEyIiwgInVzZXIiOiAiRmVsZG8iLCAidmVyc2lvbiI6ICIxIiwgIndlYnNpdGUiOiBudWxsfSwgInR5cGUiOiAiRmVhdHVyZSJ9LCB7Imdlb21ldHJ5IjogeyJjb29yZGluYXRlcyI6IFtbWy0xMTMuNTE1OTg3NiwgNTMuNTQwNzA0NF0sIFstMTEzLjUxNjAwOSwgNTMuNTQwNjk1Ml0sIFstMTEzLjUxNjAwOCwgNTMuNTQwNjQyNl0sIFstMTEzLjUxNTk5MTUsIDUzLjU0MDY0MjZdLCBbLTExMy41MTU5ODg1LCA1My41NDA2Mjk5MDAwMDAwMDZdLCBbLTExMy41MTU5ODI0MDAwMDAwMSwgNTMuNTQwNjI5OF0sIFstMTEzLjUxNTk3MzgsIDUzLjU0MDYxMjhdLCBbLTExMy41MTU5NzMxLCA1My41NDA1NzgxXSwgWy0xMTMuNTE1OTg0NSwgNTMuNTQwNTUxNF0sIFstMTEzLjUxNTk5MTYsIDUzLjU0MDU1MThdLCBbLTExMy41MTU5OTE2LCA1My41NDA1NDE3MDAwMDAwMDZdLCBbLTExMy41MTYwMDUyLCA1My41NDA1NDIxXSwgWy0xMTMuNTE2MDA3MzAwMDAwMDEsIDUzLjU0MDQ4MzZdLCBbLTExMy41MTU5ODUyMDAwMDAwMiwgNTMuNTQwNDczMV0sIFstMTEzLjUxNTkyODksIDUzLjU0MDUwNTddLCBbLTExMy41MTU5MzE4LCA1My41NDA2NzE3MDAwMDAwMDRdLCBbLTExMy41MTU5ODc2LCA1My41NDA3MDQ0XV1dLCAidHlwZSI6ICJQb2x5Z29uIn0sICJpZCI6ICI1NCIsICJwcm9wZXJ0aWVzIjogeyJhZGRyOmNpdHkiOiBudWxsLCAiYWRkcjpob3VzZW51bWJlciI6IG51bGwsICJhZGRyOnBvc3Rjb2RlIjogbnVsbCwgImFkZHI6cHJvdmluY2UiOiBudWxsLCAiYWRkcjpzdHJlZXQiOiBudWxsLCAiY2hhbmdlc2V0IjogIjE2NjcyMzY4IiwgImdvbGYiOiBudWxsLCAiaWQiOiAid2F5LzIyNzAxMjUwMiIsICJsYW5kdXNlIjogbnVsbCwgImxlaXN1cmUiOiAicGFyayIsICJuYW1lIjogbnVsbCwgIm9wZW5pbmdfaG91cnMiOiBudWxsLCAicF9hcmVhIjogMS4yOTcwMDg5OTk4NzM2OTI0ZS0wOCwgInBob25lIjogbnVsbCwgInNvdXJjZSI6IG51bGwsICJzcG9ydCI6IG51bGwsICJzdHlsZSI6IHsiY29sb3IiOiAiYmxhY2siLCAiZmlsbENvbG9yIjogIiNGRkZGQjIiLCAiZmlsbE9wYWNpdHkiOiAwLjYsICJvcGFjdGl5IjogMC44LCAid2VpZ2h0IjogMX0sICJ0aW1lc3RhbXAiOiAiMjAxMy0wNi0yM1QxNjo0NTo1MVoiLCAidHlwZSI6IG51bGwsICJ1aWQiOiAiNDU0MDEyIiwgInVzZXIiOiAiRmVsZG8iLCAidmVyc2lvbiI6ICIxIiwgIndlYnNpdGUiOiBudWxsfSwgInR5cGUiOiAiRmVhdHVyZSJ9LCB7Imdlb21ldHJ5IjogeyJjb29yZGluYXRlcyI6IFtbWy0xMTMuNTA5Nzk4NywgNTMuNTQwMjk3OF0sIFstMTEzLjUwOTczNzksIDUzLjU0MDA5NTJdLCBbLTExMy41MDk2MzUyLCA1My41Mzk5MDkyXSwgWy0xMTMuNTA5NTgzOCwgNTMuNTM5NTcwN10sIFstMTEzLjUwOTU2NTIsIDUzLjUzOTQzMTldLCBbLTExMy41MDk1MDQ0LCA1My41MzkyMDk5XSwgWy0xMTMuNTA5NDgxMSwgNTMuNTM4OTM1MTAwMDAwMDFdLCBbLTExMy41MDkzMjcsIDUzLjUzODkzNTEwMDAwMDAxXSwgWy0xMTMuNTA5MDMyOCwgNTMuNTM4OTQwNzAwMDAwMDA1XSwgWy0xMTMuNTA5MTQwMiwgNTMuNTM5NTA5Nl0sIFstMTEzLjUwOTE5NjIsIDUzLjUzOTc1NjZdLCBbLTExMy41MDkyOTQzMDAwMDAwMSwgNTMuNTM5OTc1OF0sIFstMTEzLjUwOTM1OTcsIDUzLjU0MDMwNjFdLCBbLTExMy41MDk3OTg3LCA1My41NDAyOTc4XV1dLCAidHlwZSI6ICJQb2x5Z29uIn0sICJpZCI6ICI1NSIsICJwcm9wZXJ0aWVzIjogeyJhZGRyOmNpdHkiOiBudWxsLCAiYWRkcjpob3VzZW51bWJlciI6IG51bGwsICJhZGRyOnBvc3Rjb2RlIjogbnVsbCwgImFkZHI6cHJvdmluY2UiOiBudWxsLCAiYWRkcjpzdHJlZXQiOiBudWxsLCAiY2hhbmdlc2V0IjogIjE4NjI3OTAxIiwgImdvbGYiOiBudWxsLCAiaWQiOiAid2F5LzI0NDExMzU0MSIsICJsYW5kdXNlIjogbnVsbCwgImxlaXN1cmUiOiAicGFyayIsICJuYW1lIjogbnVsbCwgIm9wZW5pbmdfaG91cnMiOiBudWxsLCAicF9hcmVhIjogNS43NDgyMzI5OTk5OTYyMjFlLTA3LCAicGhvbmUiOiBudWxsLCAic291cmNlIjogbnVsbCwgInNwb3J0IjogbnVsbCwgInN0eWxlIjogeyJjb2xvciI6ICJibGFjayIsICJmaWxsQ29sb3IiOiAiI0ZEOEQzQyIsICJmaWxsT3BhY2l0eSI6IDAuNiwgIm9wYWN0aXkiOiAwLjgsICJ3ZWlnaHQiOiAxfSwgInRpbWVzdGFtcCI6ICIyMDEzLTEwLTMxVDAyOjE4OjUzWiIsICJ0eXBlIjogbnVsbCwgInVpZCI6ICI3NDY0MiIsICJ1c2VyIjogIk1hdHREYW5jZSIsICJ2ZXJzaW9uIjogIjEiLCAid2Vic2l0ZSI6IG51bGx9LCAidHlwZSI6ICJGZWF0dXJlIn0sIHsiZ2VvbWV0cnkiOiB7ImNvb3JkaW5hdGVzIjogW1tbLTExMy40OTcxNjM2LCA1My41MzUwNTI1XSwgWy0xMTMuNDk3MTA5NywgNTMuNTM1MDI2Ml0sIFstMTEzLjQ5NzA0OTYsIDUzLjUzNTAzNTZdLCBbLTExMy40OTY3MDc1LCA1My41MzUyMzg5XSwgWy0xMTMuNDk1ODU4NSwgNTMuNTM1ODI4Ml0sIFstMTEzLjQ5NDgwNjgsIDUzLjUzNjM5NDhdLCBbLTExMy40OTM5MDA5LCA1My41MzY5NTU4XSwgWy0xMTMuNDkzNDYwNiwgNTMuNTM2OTg5NzAwMDAwMDFdLCBbLTExMy40OTI2NDAyLCA1My41MzcyNzQwMDAwMDAwMDRdLCBbLTExMy40OTIwNDI4LCA1My41Mzc0NzU0XSwgWy0xMTMuNDkxMzI3NiwgNTMuNTM3NjMyNF0sIFstMTEzLjQ5MDkzMDcsIDUzLjUzNzYwOF0sIFstMTEzLjQ5MDE4MjYsIDUzLjUzNzY2NTldLCBbLTExMy40ODk4NzI2LCA1My41Mzc3MTU1XSwgWy0xMTMuNDg5NTY5NiwgNTMuNTM3ODA1NV0sIFstMTEzLjQ4OTI0NTUsIDUzLjUzNzk1NDldLCBbLTExMy40ODg1OTQ5LCA1My41Mzg0MjI1XSwgWy0xMTMuNDg4MzUxMSwgNTMuNTM4NjIxOV0sIFstMTEzLjQ4ODMxMjMsIDUzLjUzODcyN10sIFstMTEzLjQ4ODI1NzQsIDUzLjUzODc4OThdLCBbLTExMy40ODc4MDY5LCA1My41MzkxN10sIFstMTEzLjQ4Nzg5ODIsIDUzLjUzOTMwMzNdLCBbLTExMy40ODcyNDMyLCA1My41Mzk3OTRdLCBbLTExMy40ODYyNzk1LCA1My41NDA1MDgxXSwgWy0xMTMuNDg1OTMxLCA1My41NDA3ODI5XSwgWy0xMTMuNDg2Mjk4NSwgNTMuNTQwNjE3M10sIFstMTEzLjQ4NjY2NTksIDUzLjU0MDMxOThdLCBbLTExMy40ODY5NzksIDUzLjU0MDEyMDZdLCBbLTExMy40ODcwNTc2LCA1My41NDAxMzExXSwgWy0xMTMuNDg3MTg5MiwgNTMuNTM5OTc4MzAwMDAwMDFdLCBbLTExMy40ODc0NTM0LCA1My41Mzk3MzA1XSwgWy0xMTMuNDg4MzEzMSwgNTMuNTM5MTg2Nl0sIFstMTEzLjQ4ODY2MTYsIDUzLjUzODk0NzVdLCBbLTExMy40ODkyNTcxLCA1My41Mzg3NzYyXSwgWy0xMTMuNDg5NDQwOCwgNTMuNTM4NzAyOF0sIFstMTEzLjQ5MDAzMzIsIDUzLjUzODUyNDAwMDAwMDAxXSwgWy0xMTMuNDkwODM0NiwgNTMuNTM4MzY5Nl0sIFstMTEzLjQ5MjA5ODUsIDUzLjUzODA1MzRdLCBbLTExMy40OTI2MDIyLCA1My41MzgwMjMyXSwgWy0xMTMuNDkyODUyNCwgNTMuNTM4MDAyNV0sIFstMTEzLjQ5MzE4NSwgNTMuNTM4MDE3Nl0sIFstMTEzLjQ5MzMzNzMsIDUzLjUzODA1NzZdLCBbLTExMy40OTM1NDEzLCA1My41MzgxNDY4XSwgWy0xMTMuNDkzNjc0MjAwMDAwMDIsIDUzLjUzODI3MDFdLCBbLTExMy40OTM3NzI0LCA1My41MzgxODY1XSwgWy0xMTMuNDkzNzgyNCwgNTMuNTM4MDQ1NF0sIFstMTEzLjQ5MzcyMSwgNTMuNTM3OTc4NF0sIFstMTEzLjQ5MzY1NzMwMDAwMDAxLCA1My41Mzc3NDIxXSwgWy0xMTMuNDkzNzYyNywgNTMuNTM3Njk5NjAwMDAwMDFdLCBbLTExMy40OTM2OTExMDAwMDAwMiwgNTMuNTM3NjA5OF0sIFstMTEzLjQ5MzU4MzgwMDAwMDAxLCA1My41Mzc1NzU1XSwgWy0xMTMuNDkzNDk2MywgNTMuNTM3NTgxNF0sIFstMTEzLjQ5MzM2OTEsIDUzLjUzNzUwMzRdLCBbLTExMy40OTM3MzkzMDAwMDAwMiwgNTMuNTM3MzA0MV0sIFstMTEzLjQ5NDA2MjQwMDAwMDAyLCA1My41MzcyNzU5XSwgWy0xMTMuNDk0NDQ4OSwgNTMuNTM3MjIzMl0sIFstMTEzLjQ5NDY0ODUsIDUzLjUzNzIxOTRdLCBbLTExMy40OTQ3Mjc3LCA1My41MzcxOTY4XSwgWy0xMTMuNDk1MDA2NCwgNTMuNTM3MTkzXSwgWy0xMTMuNDk1MDA2NCwgNTMuNTM2OTg5NzAwMDAwMDFdLCBbLTExMy40OTU0Nzg0LCA1My41MzY5OTU0XSwgWy0xMTMuNDk1NDc1MiwgNTMuNTM2Njk0Ml0sIFstMTEzLjQ5NTU2MDgsIDUzLjUzNjQzMDZdLCBbLTExMy40OTU3ODU3LCA1My41MzYxOTE1XSwgWy0xMTMuNDk2NDU3MiwgNTMuNTM1NzQ5MV0sIFstMTEzLjQ5NjUzOTYsIDUzLjUzNTY1MTJdLCBbLTExMy40OTY5Nzk5LCA1My41MzUzMDFdLCBbLTExMy40OTcxMDAyLCA1My41MzUxNjc0XSwgWy0xMTMuNDk3MTYzNiwgNTMuNTM1MDUyNV1dXSwgInR5cGUiOiAiUG9seWdvbiJ9LCAiaWQiOiAiNTYiLCAicHJvcGVydGllcyI6IHsiYWRkcjpjaXR5IjogbnVsbCwgImFkZHI6aG91c2VudW1iZXIiOiBudWxsLCAiYWRkcjpwb3N0Y29kZSI6IG51bGwsICJhZGRyOnByb3ZpbmNlIjogbnVsbCwgImFkZHI6c3RyZWV0IjogbnVsbCwgImNoYW5nZXNldCI6ICIyNTMzMTczNSIsICJnb2xmIjogbnVsbCwgImlkIjogIndheS8yMjY5OTE1MjAiLCAibGFuZHVzZSI6IG51bGwsICJsZWlzdXJlIjogInBhcmsiLCAibmFtZSI6IG51bGwsICJvcGVuaW5nX2hvdXJzIjogbnVsbCwgInBfYXJlYSI6IDYuMTIyODkwMTU1MDI0MjllLTA2LCAicGhvbmUiOiBudWxsLCAic291cmNlIjogbnVsbCwgInNwb3J0IjogbnVsbCwgInN0eWxlIjogeyJjb2xvciI6ICJibGFjayIsICJmaWxsQ29sb3IiOiAiI0ZDNEUyQSIsICJmaWxsT3BhY2l0eSI6IDAuNiwgIm9wYWN0aXkiOiAwLjgsICJ3ZWlnaHQiOiAxfSwgInRpbWVzdGFtcCI6ICIyMDE0LTA5LTA5VDE2OjE5OjI4WiIsICJ0eXBlIjogbnVsbCwgInVpZCI6ICIxMzk5NTciLCAidXNlciI6ICJpal8iLCAidmVyc2lvbiI6ICIzIiwgIndlYnNpdGUiOiBudWxsfSwgInR5cGUiOiAiRmVhdHVyZSJ9LCB7Imdlb21ldHJ5IjogeyJjb29yZGluYXRlcyI6IFtbWy0xMTMuNTE2NjIyOSwgNTMuNTQwMzk4N10sIFstMTEzLjUxNjYxODEsIDUzLjU0MDIwNzhdLCBbLTExMy41MTY0NDAxMDAwMDAwMSwgNTMuNTQwMjA4N10sIFstMTEzLjUxNjMyODEsIDUzLjU0MDIwN10sIFstMTEzLjUxNjMyODQwMDAwMDAyLCA1My41NDAyMjYxXSwgWy0xMTMuNTE2MzQ1NywgNTMuNTQwMjI2XSwgWy0xMTMuNTE2MzQ2NywgNTMuNTQwMjg4XSwgWy0xMTMuNTE2MzI1MiwgNTMuNTQwMjg4MV0sIFstMTEzLjUxNjMyNTksIDUzLjU0MDMzMThdLCBbLTExMy41MTYyODkwMDAwMDAwMSwgNTMuNTQwMzMyXSwgWy0xMTMuNTE2Mjg5ODAwMDAwMDEsIDUzLjU0MDM4MV0sIFstMTEzLjUxNjI3MTksIDUzLjU0MDM4MDJdLCBbLTExMy41MTYyNzE5LCA1My41NDA0NTcyXSwgWy0xMTMuNTE2Mjk0MSwgNTMuNTQwNDU3MTAwMDAwMDA1XSwgWy0xMTMuNTE2Mjk3NCwgNTMuNTQwNDI1M10sIFstMTEzLjUxNjMxMTYsIDUzLjU0MDQxNzldLCBbLTExMy41MTYzNzkyLCA1My41NDA0MTc0XSwgWy0xMTMuNTE2Mzk1MTAwMDAwMDEsIDUzLjU0MDQyNjNdLCBbLTExMy41MTYzOTUxMDAwMDAwMSwgNTMuNTQwNDY5XSwgWy0xMTMuNTE2Mzg0MywgNTMuNTQwNDc1OV0sIFstMTEzLjUxNjM2MjUsIDUzLjU0MDQ3NjldLCBbLTExMy41MTYzNjM2LCA1My41NDA0ODE5XSwgWy0xMTMuNTE2NDMxMSwgNTMuNTQwNDgxOV0sIFstMTEzLjUxNjQzMTEsIDUzLjU0MDQ5NjRdLCBbLTExMy41MTY0ODY4LCA1My41NDA0OTY0XSwgWy0xMTMuNTE2NDg2NSwgNTMuNTQwNDgyOV0sIFstMTEzLjUxNjU2MDgsIDUzLjU0MDQ4MjldLCBbLTExMy41MTY1NjI1LCA1My41NDA0OTQzXSwgWy0xMTMuNTE2NjIyNywgNTMuNTQwNDk1XSwgWy0xMTMuNTE2NjIyOSwgNTMuNTQwMzk4N11dXSwgInR5cGUiOiAiUG9seWdvbiJ9LCAiaWQiOiAiNTciLCAicHJvcGVydGllcyI6IHsiYWRkcjpjaXR5IjogbnVsbCwgImFkZHI6aG91c2VudW1iZXIiOiBudWxsLCAiYWRkcjpwb3N0Y29kZSI6IG51bGwsICJhZGRyOnByb3ZpbmNlIjogbnVsbCwgImFkZHI6c3RyZWV0IjogbnVsbCwgImNoYW5nZXNldCI6ICIxNjY3MjM2OCIsICJnb2xmIjogbnVsbCwgImlkIjogIndheS8yMjcwMTI0OTkiLCAibGFuZHVzZSI6IG51bGwsICJsZWlzdXJlIjogInBhcmsiLCAibmFtZSI6IG51bGwsICJvcGVuaW5nX2hvdXJzIjogbnVsbCwgInBfYXJlYSI6IDguMTg1ODEyMDAwMDUxNzc2ZS0wOCwgInBob25lIjogbnVsbCwgInNvdXJjZSI6IG51bGwsICJzcG9ydCI6IG51bGwsICJzdHlsZSI6IHsiY29sb3IiOiAiYmxhY2siLCAiZmlsbENvbG9yIjogIiNGRkZGQjIiLCAiZmlsbE9wYWNpdHkiOiAwLjYsICJvcGFjdGl5IjogMC44LCAid2VpZ2h0IjogMX0sICJ0aW1lc3RhbXAiOiAiMjAxMy0wNi0yM1QxNjo0NTo1MVoiLCAidHlwZSI6IG51bGwsICJ1aWQiOiAiNDU0MDEyIiwgInVzZXIiOiAiRmVsZG8iLCAidmVyc2lvbiI6ICIxIiwgIndlYnNpdGUiOiBudWxsfSwgInR5cGUiOiAiRmVhdHVyZSJ9LCB7Imdlb21ldHJ5IjogeyJjb29yZGluYXRlcyI6IFtbWy0xMTMuNTA4MTMxNSwgNTMuNTM3NTU5XSwgWy0xMTMuNTA4MTIzNSwgNTMuNTM3Mzc0OTAwMDAwMDFdLCBbLTExMy41MDgwODAyLCA1My41MzczMjldLCBbLTExMy41MDc1NjEyLCA1My41MzczMjc3XSwgWy0xMTMuNTA3NTU3OCwgNTMuNTM3NTU4NV0sIFstMTEzLjUwNzYzODMsIDUzLjUzNzU1OV0sIFstMTEzLjUwODEzMTUsIDUzLjUzNzU1OV1dXSwgInR5cGUiOiAiUG9seWdvbiJ9LCAiaWQiOiAiNTgiLCAicHJvcGVydGllcyI6IHsiYWRkcjpjaXR5IjogbnVsbCwgImFkZHI6aG91c2VudW1iZXIiOiBudWxsLCAiYWRkcjpwb3N0Y29kZSI6IG51bGwsICJhZGRyOnByb3ZpbmNlIjogbnVsbCwgImFkZHI6c3RyZWV0IjogbnVsbCwgImNoYW5nZXNldCI6ICIxNjc2NTcwOCIsICJnb2xmIjogbnVsbCwgImlkIjogIndheS8yMjgwOTg1ODYiLCAibGFuZHVzZSI6IG51bGwsICJsZWlzdXJlIjogInBhcmsiLCAibmFtZSI6IG51bGwsICJvcGVuaW5nX2hvdXJzIjogbnVsbCwgInBfYXJlYSI6IDEuMjk3ODI5NTAwMDEzODAzN2UtMDcsICJwaG9uZSI6IG51bGwsICJzb3VyY2UiOiBudWxsLCAic3BvcnQiOiBudWxsLCAic3R5bGUiOiB7ImNvbG9yIjogImJsYWNrIiwgImZpbGxDb2xvciI6ICIjRkVCMjRDIiwgImZpbGxPcGFjaXR5IjogMC42LCAib3BhY3RpeSI6IDAuOCwgIndlaWdodCI6IDF9LCAidGltZXN0YW1wIjogIjIwMTMtMDYtMzBUMTU6MjY6MzZaIiwgInR5cGUiOiBudWxsLCAidWlkIjogIjQ1NDAxMiIsICJ1c2VyIjogIkZlbGRvIiwgInZlcnNpb24iOiAiMSIsICJ3ZWJzaXRlIjogbnVsbH0sICJ0eXBlIjogIkZlYXR1cmUifSwgeyJnZW9tZXRyeSI6IHsiY29vcmRpbmF0ZXMiOiBbW1stMTEzLjUxMDkyNzMsIDUzLjUzMjYyNjNdLCBbLTExMy41MTEwNjgxMDAwMDAwMiwgNTMuNTMyODU2XSwgWy0xMTMuNTExMDE2NywgNTMuNTMyOTY4N10sIFstMTEzLjUxMDY2NjQsIDUzLjUzMjkxNDcwMDAwMDAwNl0sIFstMTEzLjUxMDUwNzMsIDUzLjUzMjg4MzVdLCBbLTExMy41MTAzMTQ3LCA1My41MzI4MTQxXSwgWy0xMTMuNTEwMjA1MiwgNTMuNTMyNzU2OV0sIFstMTEzLjUxMDEwODkwMDAwMDAyLCA1My41MzI2NjE0XSwgWy0xMTMuNTEwMTU0MSwgNTMuNTMyNjQ2N10sIFstMTEzLjUxMDEyNjQsIDUzLjUzMjYxOThdLCBbLTExMy41MTAyMjcxLCA1My41MzI1ODk0MDAwMDAwMDZdLCBbLTExMy41MTAyNTQ4LCA1My41MzI2MDc3XSwgWy0xMTMuNTEwMjAzMSwgNTMuNTMyNTk5NV0sIFstMTEzLjUxMDE0NDcsIDUzLjUzMjQ4NjddLCBbLTExMy41MTAxODI2LCA1My41MzIzMTVdLCBbLTExMy41MDk4MjA0LCA1My41MzIzMjY1XSwgWy0xMTMuNTA5NzYzOSwgNTMuNTMyNDM3MTAwMDAwMDFdLCBbLTExMy41MDk4NjY5LCA1My41MzI2OThdLCBbLTExMy41MDk4NjUzLCA1My41MzI5MDAzXSwgWy0xMTMuNTA5NzUzNSwgNTMuNTMzMTY0Ml0sIFstMTEzLjUwOTY3MDQsIDUzLjUzMzQ3MTNdLCBbLTExMy41MDk4MTc1LCA1My41MzM5ODg4XSwgWy0xMTMuNTEwMDM4MSwgNTMuNTMzOTg3NF0sIFstMTEzLjUxMDU0ODksIDUzLjUzMzk3NTNdLCBbLTExMy41MTE2ODU5LCA1My41MzM5NTQ0XSwgWy0xMTMuNTExODMzMywgNTMuNTMzOTc2MV0sIFstMTEzLjUxMjA3OTksIDUzLjUzNDA1MThdLCBbLTExMy41MTIyMDE2LCA1My41MzQyMDQ1XSwgWy0xMTMuNTEyMjQyMSwgNTMuNTM0MzcwMV0sIFstMTEzLjUxMjU5NTEsIDUzLjUzNDM3NzddLCBbLTExMy41MTI2MTgxLCA1My41MzQ5MTAzMDAwMDAwMV0sIFstMTEzLjUxMjgzOCwgNTMuNTM0OTA5M10sIFstMTEzLjUxMzAxMTgsIDUzLjUzNDk0NThdLCBbLTExMy41MTMxNjcwMDAwMDAwMSwgNTMuNTM0OTQ0OF0sIFstMTEzLjUxMzU4NDYsIDUzLjUzNTA0ODFdLCBbLTExMy41MTM5Mzk0LCA1My41MzUxODA1XSwgWy0xMTMuNTE0MjA1NSwgNTMuNTM1NjczOF0sIFstMTEzLjUxNDM1MTIsIDUzLjUzNTc5ODAwMDAwMDAxXSwgWy0xMTMuNTE0ODUyNCwgNTMuNTM1ODI2Ml0sIFstMTEzLjUxNTE4NjMwMDAwMDAxLCA1My41MzU4M10sIFstMTEzLjUxNTE4MjQsIDUzLjUzNTQ4ODJdLCBbLTExMy41MTUxMzMsIDUzLjUzNTQzODNdLCBbLTExMy41MTQwMTQzLCA1My41MzQ1ODU0MDAwMDAwMDVdLCBbLTExMy41MTQxNTM2LCA1My41MzQwNTJdLCBbLTExMy41MTM3Mjc1LCA1My41MzM4ODAxXSwgWy0xMTMuNTEzNTU0MywgNTMuNTMzNzg4M10sIFstMTEzLjUxMzQ4NywgNTMuNTMzNzAzOV0sIFstMTEzLjUxMzIyNCwgNTMuNTMzNTUwNl0sIFstMTEzLjUxMjk1OTksIDUzLjUzMzMxOF0sIFstMTEzLjUxMjU1OTUsIDUzLjUzMzAwNDEwMDAwMDAxXSwgWy0xMTMuNTEyNTQ0LCA1My41MzI5NTM0XSwgWy0xMTMuNTEyNjc1NCwgNTMuNTMyODA3N10sIFstMTEzLjUxMjY0MTgsIDUzLjUzMjczMjJdLCBbLTExMy41MTI3MDc1LCA1My41MzI2OTIzXSwgWy0xMTMuNTEyOTk5NDAwMDAwMDEsIDUzLjUzMjU5MzRdLCBbLTExMy41MTMwMDgxLCA1My41MzI1N10sIFstMTEzLjUxMjcyMDYsIDUzLjUzMjY2OF0sIFstMTEzLjUxMjUyOCwgNTMuNTMyNjkzMl0sIFstMTEzLjUxMjM3OTEsIDUzLjUzMjY5OTMwMDAwMDAwNF0sIFstMTEzLjUxMjI1NSwgNTMuNTMyNjkyM10sIFstMTEzLjUxMjA5MDEsIDUzLjUzMjY2NjNdLCBbLTExMy41MTE5MTM1LCA1My41MzI2MTg2XSwgWy0xMTMuNTExNDUzOCwgNTMuNTMyNDMzXSwgWy0xMTMuNTExMjk3NjAwMDAwMDIsIDUzLjUzMjM4OTZdLCBbLTExMy41MTEwNDgxLCA1My41MzIzNjI5XSwgWy0xMTMuNTEwNTk5MywgNTMuNTMyMzQzMl0sIFstMTEzLjUxMDQ4ODcsIDUzLjUzMjM1MjcwMDAwMDAwNF0sIFstMTEzLjUxMDQzNzIwMDAwMDAxLCA1My41MzIzNzQ3XSwgWy0xMTMuNTEwMzkyOCwgNTMuNTMyNDA3NF0sIFstMTEzLjUxMDM2NzMsIDUzLjUzMjQ2MDYwMDAwMDAxXSwgWy0xMTMuNTEwMzg0OCwgNTMuNTMyNTE5Nl0sIFstMTEzLjUxMDQxMjUsIDUzLjUzMjU1NjldLCBbLTExMy41MTA0NDAzLCA1My41MzI1Nzc3XSwgWy0xMTMuNTEwNDY1MSwgNTMuNTMyNTc4NV0sIFstMTEzLjUxMDQ5ODYsIDUzLjUzMjU2MjFdLCBbLTExMy41MTA1NjUyLCA1My41MzI0NTAxXSwgWy0xMTMuNTEwNzYyOCwgNTMuNTMyNDg4N10sIFstMTEzLjUxMDc5MzcsIDUzLjUzMjQzMTRdLCBbLTExMy41MTA5OTE4LCA1My41MzI0ODA2XSwgWy0xMTMuNTEwOTI3MywgNTMuNTMyNjI2M11dXSwgInR5cGUiOiAiUG9seWdvbiJ9LCAiaWQiOiAiNTkiLCAicHJvcGVydGllcyI6IHsiYWRkcjpjaXR5IjogbnVsbCwgImFkZHI6aG91c2VudW1iZXIiOiBudWxsLCAiYWRkcjpwb3N0Y29kZSI6IG51bGwsICJhZGRyOnByb3ZpbmNlIjogbnVsbCwgImFkZHI6c3RyZWV0IjogbnVsbCwgImNoYW5nZXNldCI6ICI0NDY1MzQ1MSIsICJnb2xmIjogbnVsbCwgImlkIjogIndheS8yMjgwOTg2MDEiLCAibGFuZHVzZSI6IG51bGwsICJsZWlzdXJlIjogInBhcmsiLCAibmFtZSI6IG51bGwsICJvcGVuaW5nX2hvdXJzIjogbnVsbCwgInBfYXJlYSI6IDcuMDIzNTM1NjYwMDAwNjU0ZS0wNiwgInBob25lIjogbnVsbCwgInNvdXJjZSI6IG51bGwsICJzcG9ydCI6IG51bGwsICJzdHlsZSI6IHsiY29sb3IiOiAiYmxhY2siLCAiZmlsbENvbG9yIjogIiNGQzRFMkEiLCAiZmlsbE9wYWNpdHkiOiAwLjYsICJvcGFjdGl5IjogMC44LCAid2VpZ2h0IjogMX0sICJ0aW1lc3RhbXAiOiAiMjAxNi0xMi0yNFQyMzoxNzoyNloiLCAidHlwZSI6IG51bGwsICJ1aWQiOiAiMzg0ODk1NSIsICJ1c2VyIjogIk1lc293aGl0ZSIsICJ2ZXJzaW9uIjogIjQiLCAid2Vic2l0ZSI6IG51bGx9LCAidHlwZSI6ICJGZWF0dXJlIn0sIHsiZ2VvbWV0cnkiOiB7ImNvb3JkaW5hdGVzIjogW1tbLTExMy41MDY4NDczLCA1My41MzUzOTEzXSwgWy0xMTMuNTA2ODQ0OCwgNTMuNTM1NDM5NF0sIFstMTEzLjUwNjgwNTIsIDUzLjUzNTQzODddLCBbLTExMy41MDY4MDI4LCA1My41MzU0ODQ0XSwgWy0xMTMuNTA2NzYwOSwgNTMuNTM1NDgzN10sIFstMTEzLjUwNjc1OTgwMDAwMDAxLCA1My41MzU1MDU0XSwgWy0xMTMuNTA2NzEzMjAwMDAwMDEsIDUzLjUzNTUwNDZdLCBbLTExMy41MDY3MTI0MDAwMDAwMSwgNTMuNTM1NTJdLCBbLTExMy41MDY2NjUsIDUzLjUzNTUxOTJdLCBbLTExMy41MDY2NjM5LCA1My41MzU1NDE5XSwgWy0xMTMuNTA2NjYzNywgNTMuNTM1NTYyNl0sIFstMTEzLjUwNjUwNzQsIDUzLjUzNTU2MTkwMDAwMDAwNV0sIFstMTEzLjUwNjUwODgsIDUzLjUzNTYwMTRdLCBbLTExMy41MDY0NDI3LCA1My41MzU2MDAzXSwgWy0xMTMuNTA2NDM3MywgNTMuNTM1NjYyNV0sIFstMTEzLjUwNjQwNzgwMDAwMDAyLCA1My41MzU2NjI1XSwgWy0xMTMuNTA2Mzk1NSwgNTMuNTM1Nzg1XSwgWy0xMTMuNTA2NTU0OCwgNTMuNTM1Nzg0M10sIFstMTEzLjUwNzc0NDUsIDUzLjUzNTc5MDJdLCBbLTExMy41MDc4NDUzLCA1My41MzU3NzA3XSwgWy0xMTMuNTA3ODgyMSwgNTMuNTM1NzMzMl0sIFstMTEzLjUwNzg1MjIsIDUzLjUzNTcxMDAwMDAwMDAxXSwgWy0xMTMuNTA3OTQxOSwgNTMuNTM1NjYzNV0sIFstMTEzLjUwODAwNCwgNTMuNTM1NzI5MV0sIFstMTEzLjUwODI5NjcsIDUzLjUzNTczNDddLCBbLTExMy41MDgyMzA2LCA1My41MzQ3NjRdLCBbLTExMy41MDgxOTA4MDAwMDAwMSwgNTMuNTM0NjcyMV0sIFstMTEzLjUwODE1NDQsIDUzLjUzNDYxNDddLCBbLTExMy41MDgwODQ2LCA1My41MzQ1NDM1XSwgWy0xMTMuNTA3OTk3NCwgNTMuNTM0NDk0M10sIFstMTEzLjUwNzk3NzEsIDUzLjUzNDQ4ODFdLCBbLTExMy41MDc4NDQ0MDAwMDAwMSwgNTMuNTM0NDQ3NV0sIFstMTEzLjUwNzcwODEsIDUzLjUzNDQyNzhdLCBbLTExMy41MDc0OTM4LCA1My41MzQ0MjI2XSwgWy0xMTMuNTA3MjY4MSwgNTMuNTM0NDU4XSwgWy0xMTMuNTA3MTY5MiwgNTMuNTM0MjE3NTAwMDAwMDA0XSwgWy0xMTMuNTA3MzgwOCwgNTMuNTM0MTc3OF0sIFstMTEzLjUwNzM5NDYsIDUzLjUzNDIwNTJdLCBbLTExMy41MDc2NDA2LCA1My41MzQxNzc4XSwgWy0xMTMuNTA3ODU0NSwgNTMuNTM0MTc5Ml0sIFstMTEzLjUwNzk3NjQsIDUzLjUzNDE4MDZdLCBbLTExMy41MDgwNTQ2LCA1My41MzQxMzI3XSwgWy0xMTMuNTA4MDcwNzAwMDAwMDIsIDUzLjUzNDA3NTNdLCBbLTExMy41MDgwNDU0LCA1My41MzQwNDI1MDAwMDAwMDVdLCBbLTExMy41MDc5OTQ4LCA1My41MzQwMjQ4XSwgWy0xMTMuNTA3ODUyMiwgNTMuNTM0MDQ5NF0sIFstMTEzLjUwNzc0NDEsIDUzLjUzNDA1NjJdLCBbLTExMy41MDc0NTI2MDAwMDAwMSwgNTMuNTM0MDQ1NF0sIFstMTEzLjUwNzE5MzcsIDUzLjUzNDAzOTcwMDAwMDAxXSwgWy0xMTMuNTA3MTUwMiwgNTMuNTM0MDcyOF0sIFstMTEzLjUwNzAwODYwMDAwMDAyLCA1My41MzQwNjg0XSwgWy0xMTMuNTA2OTE0NywgNTMuNTM0MTE5NF0sIFstMTEzLjUwNjg3NzIsIDUzLjUzNDcwMTNdLCBbLTExMy41MDY5MzM1LCA1My41MzQ3NTcxXSwgWy0xMTMuNTA3MTA3MywgNTMuNTM0NzU4OV0sIFstMTEzLjUwNzEwNjUsIDUzLjUzNDc4NTRdLCBbLTExMy41MDcxMDQ3LCA1My41MzQ4MTg5XSwgWy0xMTMuNTA2OTEwOTAwMDAwMDEsIDUzLjUzNDgxNTJdLCBbLTExMy41MDY4ODAyLCA1My41MzUzOTE5XSwgWy0xMTMuNTA2ODQ3MywgNTMuNTM1MzkxM11dXSwgInR5cGUiOiAiUG9seWdvbiJ9LCAiaWQiOiAiNjAiLCAicHJvcGVydGllcyI6IHsiYWRkcjpjaXR5IjogbnVsbCwgImFkZHI6aG91c2VudW1iZXIiOiBudWxsLCAiYWRkcjpwb3N0Y29kZSI6IG51bGwsICJhZGRyOnByb3ZpbmNlIjogbnVsbCwgImFkZHI6c3RyZWV0IjogbnVsbCwgImNoYW5nZXNldCI6ICIxODc5MDU3MSIsICJnb2xmIjogbnVsbCwgImlkIjogIndheS8yMjY4Nzk4OTkiLCAibGFuZHVzZSI6IG51bGwsICJsZWlzdXJlIjogInBhcmsiLCAibmFtZSI6IG51bGwsICJvcGVuaW5nX2hvdXJzIjogbnVsbCwgInBfYXJlYSI6IDIuMTEyMzgxMTA1MDA5MDg5OGUtMDYsICJwaG9uZSI6IG51bGwsICJzb3VyY2UiOiBudWxsLCAic3BvcnQiOiBudWxsLCAic3R5bGUiOiB7ImNvbG9yIjogImJsYWNrIiwgImZpbGxDb2xvciI6ICIjRkM0RTJBIiwgImZpbGxPcGFjaXR5IjogMC42LCAib3BhY3RpeSI6IDAuOCwgIndlaWdodCI6IDF9LCAidGltZXN0YW1wIjogIjIwMTMtMTEtMDhUMjE6NTc6MjFaIiwgInR5cGUiOiBudWxsLCAidWlkIjogIjE2Nzc4MSIsICJ1c2VyIjogInlvbHRpYSIsICJ2ZXJzaW9uIjogIjIiLCAid2Vic2l0ZSI6IG51bGx9LCAidHlwZSI6ICJGZWF0dXJlIn0sIHsiZ2VvbWV0cnkiOiB7ImNvb3JkaW5hdGVzIjogW1tbLTExMy40OTMwMzc3MDAwMDAwMiwgNTMuNTM1NjA5NF0sIFstMTEzLjQ5MzA0NzksIDUzLjUzNDg4NDFdLCBbLTExMy40OTM2MjQ2LCA1My41MzQ4NDE5XSwgWy0xMTMuNDkzNjQ1NzAwMDAwMDIsIDUzLjUzNDY3MjNdLCBbLTExMy40OTMzNjU0LCA1My41MzQ2OTE0XSwgWy0xMTMuNDkyOTkxMiwgNTMuNTM0ODM5N10sIFstMTEzLjQ5MjU0NzMsIDUzLjUzNDk5OTldLCBbLTExMy40OTIxNzA1LCA1My41MzUxMTQ3XSwgWy0xMTMuNDkxNzUwMiwgNTMuNTM1MjIyOF0sIFstMTEzLjQ5MTE1NDEsIDUzLjUzNTM2NTVdLCBbLTExMy40OTA1NTg2LCA1My41MzU1MDcxXSwgWy0xMTMuNDkwNTg1NCwgNTMuNTM1NjE1OF0sIFstMTEzLjQ5MDY5OTQsIDUzLjUzNTY5XSwgWy0xMTMuNDkwNzUzNywgNTMuNTM1Njk3NV0sIFstMTEzLjQ5MDkxNDcwMDAwMDAyLCA1My41MzU2NDkxXSwgWy0xMTMuNDkxMTYwOCwgNTMuNTM1NjEzN10sIFstMTEzLjQ5MzAzNzcwMDAwMDAyLCA1My41MzU2MDk0XV1dLCAidHlwZSI6ICJQb2x5Z29uIn0sICJpZCI6ICI2MSIsICJwcm9wZXJ0aWVzIjogeyJhZGRyOmNpdHkiOiBudWxsLCAiYWRkcjpob3VzZW51bWJlciI6IG51bGwsICJhZGRyOnBvc3Rjb2RlIjogbnVsbCwgImFkZHI6cHJvdmluY2UiOiBudWxsLCAiYWRkcjpzdHJlZXQiOiBudWxsLCAiY2hhbmdlc2V0IjogIjQyOTI5MDYwIiwgImdvbGYiOiBudWxsLCAiaWQiOiAid2F5LzIyNjk4NTYyMCIsICJsYW5kdXNlIjogbnVsbCwgImxlaXN1cmUiOiAicGFyayIsICJuYW1lIjogbnVsbCwgIm9wZW5pbmdfaG91cnMiOiBudWxsLCAicF9hcmVhIjogMS4xNDE5NzI1NjQ5OTg1MzY3ZS0wNiwgInBob25lIjogbnVsbCwgInNvdXJjZSI6IG51bGwsICJzcG9ydCI6IG51bGwsICJzdHlsZSI6IHsiY29sb3IiOiAiYmxhY2siLCAiZmlsbENvbG9yIjogIiNGRDhEM0MiLCAiZmlsbE9wYWNpdHkiOiAwLjYsICJvcGFjdGl5IjogMC44LCAid2VpZ2h0IjogMX0sICJ0aW1lc3RhbXAiOiAiMjAxNi0xMC0xNlQwMzo1MToyNFoiLCAidHlwZSI6IG51bGwsICJ1aWQiOiAiMzI3NDQyNiIsICJ1c2VyIjogInllZ2JpbiIsICJ2ZXJzaW9uIjogIjIiLCAid2Vic2l0ZSI6IG51bGx9LCAidHlwZSI6ICJGZWF0dXJlIn0sIHsiZ2VvbWV0cnkiOiB7ImNvb3JkaW5hdGVzIjogW1tbLTExMy41MTYyMjk0LCA1My41NDA0NTNdLCBbLTExMy41MTYyMjkxLCA1My41NDAzNzk4XSwgWy0xMTMuNTE2MjA5OCwgNTMuNTQwMzgwNV0sIFstMTEzLjUxNjIwOSwgNTMuNTQwMzMyNF0sIFstMTEzLjUxNjE1MjQsIDUzLjU0MDMzMjddLCBbLTExMy41MTYxNDksIDUzLjU0MDExNV0sIFstMTEzLjUxNTkyNDksIDUzLjU0MDExMzVdLCBbLTExMy41MTU5Mjg4LCA1My41NDA0MzE2XSwgWy0xMTMuNTE1OTU4LCA1My41NDA0NTA3XSwgWy0xMTMuNTE2MjI5NCwgNTMuNTQwNDUzXV1dLCAidHlwZSI6ICJQb2x5Z29uIn0sICJpZCI6ICI2MiIsICJwcm9wZXJ0aWVzIjogeyJhZGRyOmNpdHkiOiBudWxsLCAiYWRkcjpob3VzZW51bWJlciI6IG51bGwsICJhZGRyOnBvc3Rjb2RlIjogbnVsbCwgImFkZHI6cHJvdmluY2UiOiBudWxsLCAiYWRkcjpzdHJlZXQiOiBudWxsLCAiY2hhbmdlc2V0IjogIjE2NjcyMzY4IiwgImdvbGYiOiBudWxsLCAiaWQiOiAid2F5LzIyNzAxMjUwMCIsICJsYW5kdXNlIjogbnVsbCwgImxlaXN1cmUiOiAicGFyayIsICJuYW1lIjogbnVsbCwgIm9wZW5pbmdfaG91cnMiOiBudWxsLCAicF9hcmVhIjogOC4zNjQyNzk1MDAwMjYxM2UtMDgsICJwaG9uZSI6IG51bGwsICJzb3VyY2UiOiBudWxsLCAic3BvcnQiOiBudWxsLCAic3R5bGUiOiB7ImNvbG9yIjogImJsYWNrIiwgImZpbGxDb2xvciI6ICIjRkVEOTc2IiwgImZpbGxPcGFjaXR5IjogMC42LCAib3BhY3RpeSI6IDAuOCwgIndlaWdodCI6IDF9LCAidGltZXN0YW1wIjogIjIwMTMtMDYtMjNUMTY6NDU6NTFaIiwgInR5cGUiOiBudWxsLCAidWlkIjogIjQ1NDAxMiIsICJ1c2VyIjogIkZlbGRvIiwgInZlcnNpb24iOiAiMSIsICJ3ZWJzaXRlIjogbnVsbH0sICJ0eXBlIjogIkZlYXR1cmUifSwgeyJnZW9tZXRyeSI6IHsiY29vcmRpbmF0ZXMiOiBbW1stMTEzLjUxMjY0MjYwMDAwMDAyLCA1My41MzY5NDldLCBbLTExMy41MTI2Mjg3LCA1My41MzY1NTg4XSwgWy0xMTMuNTEyOTkyNjAwMDAwMDIsIDUzLjUzNjU1NDJdLCBbLTExMy41MTI5ODYsIDUzLjUzNjM2ODldLCBbLTExMy41MTI4MjQxLCA1My41MzYzNzFdLCBbLTExMy41MTI4MTIyLCA1My41MzYwNTM5XSwgWy0xMTMuNTEyMjYxNSwgNTMuNTM2MDZdLCBbLTExMy41MTIyNTExLCA1My41MzcwMDc0XSwgWy0xMTMuNTEyMzA1MDAwMDAwMDEsIDUzLjUzNzAwNzJdLCBbLTExMy41MTIzMDU4MDAwMDAwMSwgNTMuNTM2OTUwNl0sIFstMTEzLjUxMjY0MjYwMDAwMDAyLCA1My41MzY5NDldXV0sICJ0eXBlIjogIlBvbHlnb24ifSwgImlkIjogIjYzIiwgInByb3BlcnRpZXMiOiB7ImFkZHI6Y2l0eSI6IG51bGwsICJhZGRyOmhvdXNlbnVtYmVyIjogbnVsbCwgImFkZHI6cG9zdGNvZGUiOiBudWxsLCAiYWRkcjpwcm92aW5jZSI6IG51bGwsICJhZGRyOnN0cmVldCI6IG51bGwsICJjaGFuZ2VzZXQiOiAiMjgyNDI0MjciLCAiZ29sZiI6IG51bGwsICJpZCI6ICJ3YXkvMjI4MDk4NjM5IiwgImxhbmR1c2UiOiBudWxsLCAibGVpc3VyZSI6ICJwYXJrIiwgIm5hbWUiOiBudWxsLCAib3BlbmluZ19ob3VycyI6IG51bGwsICJwX2FyZWEiOiA0LjY0NjE4MjM1MDAyNzU5MWUtMDcsICJwaG9uZSI6IG51bGwsICJzb3VyY2UiOiBudWxsLCAic3BvcnQiOiBudWxsLCAic3R5bGUiOiB7ImNvbG9yIjogImJsYWNrIiwgImZpbGxDb2xvciI6ICIjRkVCMjRDIiwgImZpbGxPcGFjaXR5IjogMC42LCAib3BhY3RpeSI6IDAuOCwgIndlaWdodCI6IDF9LCAidGltZXN0YW1wIjogIjIwMTUtMDEtMThUMjM6NDA6MjNaIiwgInR5cGUiOiBudWxsLCAidWlkIjogIjI1NTA4ODAiLCAidXNlciI6ICJlZG1vbnRvbmdlbyIsICJ2ZXJzaW9uIjogIjIiLCAid2Vic2l0ZSI6IG51bGx9LCAidHlwZSI6ICJGZWF0dXJlIn0sIHsiZ2VvbWV0cnkiOiB7ImNvb3JkaW5hdGVzIjogW1tbLTExMy41MTE4NTI1LCA1My41MzQ5NzA0XSwgWy0xMTMuNTExODQ0OCwgNTMuNTM0NTUwMl0sIFstMTEzLjUxMTIxODMsIDUzLjUzNDU1NDJdLCBbLTExMy41MTEyMjYwMDAwMDAwMSwgNTMuNTM0OTc0NF0sIFstMTEzLjUxMTg1MjUsIDUzLjUzNDk3MDRdXV0sICJ0eXBlIjogIlBvbHlnb24ifSwgImlkIjogIjY0IiwgInByb3BlcnRpZXMiOiB7ImFkZHI6Y2l0eSI6IG51bGwsICJhZGRyOmhvdXNlbnVtYmVyIjogbnVsbCwgImFkZHI6cG9zdGNvZGUiOiBudWxsLCAiYWRkcjpwcm92aW5jZSI6IG51bGwsICJhZGRyOnN0cmVldCI6IG51bGwsICJjaGFuZ2VzZXQiOiAiMTY3Nzc3NTAiLCAiZ29sZiI6IG51bGwsICJpZCI6ICJ3YXkvMjI4MjE1NjMyIiwgImxhbmR1c2UiOiBudWxsLCAibGVpc3VyZSI6ICJwYXJrIiwgIm5hbWUiOiBudWxsLCAib3BlbmluZ19ob3VycyI6IG51bGwsICJwX2FyZWEiOiAyLjYzMjg2MTAwMDA0NTY5MTdlLTA3LCAicGhvbmUiOiBudWxsLCAic291cmNlIjogbnVsbCwgInNwb3J0IjogbnVsbCwgInN0eWxlIjogeyJjb2xvciI6ICJibGFjayIsICJmaWxsQ29sb3IiOiAiI0ZFQjI0QyIsICJmaWxsT3BhY2l0eSI6IDAuNiwgIm9wYWN0aXkiOiAwLjgsICJ3ZWlnaHQiOiAxfSwgInRpbWVzdGFtcCI6ICIyMDEzLTA3LTAxVDEzOjE1OjU5WiIsICJ0eXBlIjogbnVsbCwgInVpZCI6ICI0NTQwMTIiLCAidXNlciI6ICJGZWxkbyIsICJ2ZXJzaW9uIjogIjEiLCAid2Vic2l0ZSI6IG51bGx9LCAidHlwZSI6ICJGZWF0dXJlIn0sIHsiZ2VvbWV0cnkiOiB7ImNvb3JkaW5hdGVzIjogW1tbLTExMy41MzA2NTgsIDUzLjU0MDQzMV0sIFstMTEzLjUzMDc2NDcsIDUzLjU0MDQxMjhdLCBbLTExMy41MzA4MjM4LCA1My41NDA0MjA4XSwgWy0xMTMuNTMwODQ0MSwgNTMuNTQwMzQ5Nl0sIFstMTEzLjUzMDk4NDMsIDUzLjUzOTM4MjVdLCBbLTExMy41MjkyNjYzLCA1My41MzkxNTU2XSwgWy0xMTMuNTI3NDU3NSwgNTMuNTM4OTA5N10sIFstMTEzLjUyNDQ0MDYsIDUzLjUzODAwOTgwMDAwMDAwNV0sIFstMTEzLjUyMTI2MDUsIDUzLjUzNzUyMjNdLCBbLTExMy41MTYwODQ5LCA1My41MzU5NDYxXSwgWy0xMTMuNTE1MTgyNCwgNTMuNTM1NDg4Ml0sIFstMTEzLjUxNTE4NjMwMDAwMDAxLCA1My41MzU4M10sIFstMTEzLjUxNDg1MjQsIDUzLjUzNTgyNjJdLCBbLTExMy41MTQ4NTQ4LCA1My41MzYyODY3XSwgWy0xMTMuNTE1NTYzNiwgNTMuNTM2MjgwMV0sIFstMTEzLjUxNTU2NSwgNTMuNTM2MzMxMl0sIFstMTEzLjUxNTY5MywgNTMuNTM2MzMxMl0sIFstMTEzLjUxNTY4NTcsIDUzLjUzNjZdLCBbLTExMy41MTU5MzcxLCA1My41MzY2MDE3XSwgWy0xMTMuNTE2OTkyOSwgNTMuNTM2NjA1N10sIFstMTEzLjUxNjk3ODEsIDUzLjUzNzIwMDddLCBbLTExMy41MTc2OTM5MDAwMDAwMSwgNTMuNTM3MjA4OV0sIFstMTEzLjUxNzgwMDUsIDUzLjUzNzIyNzFdLCBbLTExMy41MTc4NDg2MDAwMDAwMSwgNTMuNTM3MjQyOF0sIFstMTEzLjUxNzg4NjYsIDUzLjUzNzI4MDFdLCBbLTExMy41MTg0ODIsIDUzLjUzNzM3NjEwMDAwMDAxXSwgWy0xMTMuNTE4NTg0MiwgNTMuNTM3Mzc2M10sIFstMTEzLjUxOTE1NDgsIDUzLjUzNzM4MjRdLCBbLTExMy41MTkzNDg5LCA1My41MzczOTU0XSwgWy0xMTMuNTE5MzUzMywgNTMuNTM3NTQ2M10sIFstMTEzLjUxOTU2MzUsIDUzLjUzNzU5NF0sIFstMTEzLjUxOTU2MzUsIDUzLjUzNzUxODZdLCBbLTExMy41MTk4OTE5LCA1My41Mzc1MjEyXSwgWy0xMTMuNTE5ODk0OCwgNTMuNTM3NTczMjAwMDAwMDA0XSwgWy0xMTMuNTIwMDMyLCA1My41Mzc1NjYzXSwgWy0xMTMuNTIwMDQyMiwgNTMuNTM3NjU5MV0sIFstMTEzLjUyMDE5NTQsIDUzLjUzNzY4NTFdLCBbLTExMy41MjAzMDA1LCA1My41Mzc3Njc1MDAwMDAwMV0sIFstMTEzLjUyMDMxMjIsIDUzLjUzNzgyNDddLCBbLTExMy41MjA0NjQsIDUzLjUzNzg4MjldLCBbLTExMy41MjA0NjI3LCA1My41MzgwNzI4XSwgWy0xMTMuNTIwNzA4NCwgNTMuNTM4MDcxMzAwMDAwMDA2XSwgWy0xMTMuNTIwNzA5MywgNTMuNTM4MTIyM10sIFstMTEzLjUyMDk1NTMsIDUzLjUzODEyMDhdLCBbLTExMy41MjA5NTY4LCA1My41MzgyMDQ5MDAwMDAwMDRdLCBbLTExMy41MjEwNTMwMDAwMDAwMSwgNTMuNTM4MjA0MzAwMDAwMDA0XSwgWy0xMTMuNTIxMDU0MSwgNTMuNTM4MjY3MV0sIFstMTEzLjUyMTE4OTIwMDAwMDAxLCA1My41MzgyNzAxXSwgWy0xMTMuNTIxNDM0OSwgNTMuNTM4MjcwNl0sIFstMTEzLjUyMTQzNDYsIDUzLjUzODMxOTRdLCBbLTExMy41MjE1MjM1LCA1My41MzgzMTY1XSwgWy0xMTMuNTIxNTEwMSwgNTMuNTM4NzQxOV0sIFstMTEzLjUyMTU5NzksIDUzLjUzODc0NTAwMDAwMDAwNl0sIFstMTEzLjUyMTU5NjUsIDUzLjUzODc5NTNdLCBbLTExMy41MjIxMzIxLCA1My41Mzg3OTg4XSwgWy0xMTMuNTIyMTIwNiwgNTMuNTM4ODk5NV0sIFstMTEzLjUyMjMwNDAwMDAwMDAyLCA1My41Mzg5MDE5XSwgWy0xMTMuNTIyNDUwNCwgNTMuNTM4OTM5Ml0sIFstMTEzLjUyMzEyODcsIDUzLjUzOTEyODZdLCBbLTExMy41MjMzMTYzLCA1My41MzkxNjA5XSwgWy0xMTMuNTIzNzE0OCwgNTMuNTM5MTkzOV0sIFstMTEzLjUyNDMxMTUsIDUzLjUzOTI3MjJdLCBbLTExMy41MjQ1MzAyLCA1My41MzkyOTU2XSwgWy0xMTMuNTI0OTUsIDUzLjUzOTM0OTAwMDAwMDAxXSwgWy0xMTMuNTI0OTQ5MSwgNTMuNTM5MzA5OV0sIFstMTEzLjUyNTk0NDcsIDUzLjUzOTUxMzRdLCBbLTExMy41MjY5MDk4LCA1My41Mzk3MDk2XSwgWy0xMTMuNTI4MDk1MTAwMDAwMDIsIDUzLjUzOTk0NjddLCBbLTExMy41Mjg5Njg2LCA1My41NDAwNzgyXSwgWy0xMTMuNTI5OTY4NiwgNTMuNTQwMjIyOV0sIFstMTEzLjUzMDM4MTQsIDUzLjU0MDI4MTUwMDAwMDAwNl0sIFstMTEzLjUyOTkxMTQsIDUzLjU0MDQ2NTZdLCBbLTExMy41MzA1MDI1LCA1My41NDA0NTg5XSwgWy0xMTMuNTMwNjU4LCA1My41NDA0MzFdXV0sICJ0eXBlIjogIlBvbHlnb24ifSwgImlkIjogIjY1IiwgInByb3BlcnRpZXMiOiB7ImFkZHI6Y2l0eSI6IG51bGwsICJhZGRyOmhvdXNlbnVtYmVyIjogbnVsbCwgImFkZHI6cG9zdGNvZGUiOiBudWxsLCAiYWRkcjpwcm92aW5jZSI6IG51bGwsICJhZGRyOnN0cmVldCI6IG51bGwsICJjaGFuZ2VzZXQiOiAiNDUxMjA5OTkiLCAiZ29sZiI6IG51bGwsICJpZCI6ICJ3YXkvMjMwNDU0NTE1IiwgImxhbmR1c2UiOiBudWxsLCAibGVpc3VyZSI6ICJwYXJrIiwgIm5hbWUiOiBudWxsLCAib3BlbmluZ19ob3VycyI6IG51bGwsICJwX2FyZWEiOiAxLjQ2NTQxNjQ5NzAwMTczNThlLTA1LCAicGhvbmUiOiBudWxsLCAic291cmNlIjogbnVsbCwgInNwb3J0IjogbnVsbCwgInN0eWxlIjogeyJjb2xvciI6ICJibGFjayIsICJmaWxsQ29sb3IiOiAiI0ZDNEUyQSIsICJmaWxsT3BhY2l0eSI6IDAuNiwgIm9wYWN0aXkiOiAwLjgsICJ3ZWlnaHQiOiAxfSwgInRpbWVzdGFtcCI6ICIyMDE3LTAxLTEzVDAwOjM2OjU3WiIsICJ0eXBlIjogbnVsbCwgInVpZCI6ICIzODg5NjkiLCAidXNlciI6ICJqZGtyYWJiZSIsICJ2ZXJzaW9uIjogIjUiLCAid2Vic2l0ZSI6IG51bGx9LCAidHlwZSI6ICJGZWF0dXJlIn0sIHsiZ2VvbWV0cnkiOiB7ImNvb3JkaW5hdGVzIjogW1tbLTExMy41MDQ3Njg4LCA1My41MzQ3Njg5XSwgWy0xMTMuNTA0OTE3OCwgNTMuNTM0NzIzM10sIFstMTEzLjUwNDk1NjEsIDUzLjUzNDY1NzVdLCBbLTExMy41MDUwNDYyLCA1My41MzQ2NDIyXSwgWy0xMTMuNTA1NTM1NCwgNTMuNTM0NjQ2XSwgWy0xMTMuNTA1NTM1NCwgNTMuNTM0NzU1Ml0sIFstMTEzLjUwNTY4MzYsIDUzLjUzNDc1MzldLCBbLTExMy41MDU3NTI4LCA1My41MzQ3MTY4XSwgWy0xMTMuNTA1NzUwMSwgNTMuNTM0Njc1NF0sIFstMTEzLjUwNTc5ODksIDUzLjUzNDY1ODJdLCBbLTExMy41MDU4MDQzLCA1My41MzQxMDk4XSwgWy0xMTMuNTA1NzY5NiwgNTMuNTM0MDg0NF0sIFstMTEzLjUwNTY2MjksIDUzLjUzNDA3M10sIFstMTEzLjUwNTQ5MjYsIDUzLjUzNDA2NzldLCBbLTExMy41MDUyNjcsIDUzLjUzNDA2MDNdLCBbLTExMy41MDQ4NjY3LCA1My41MzQwNTc4XSwgWy0xMTMuNTA0Njk2NCwgNTMuNTM0MTIzNl0sIFstMTEzLjUwNDUzMDQsIDUzLjUzNDI5MzFdLCBbLTExMy41MDQzMTIzLCA1My41MzQ1Njg0XSwgWy0xMTMuNTA0MjE5NiwgNTMuNTM0NzY2M10sIFstMTEzLjUwNDc2ODgsIDUzLjUzNDc2ODldXV0sICJ0eXBlIjogIlBvbHlnb24ifSwgImlkIjogIjY2IiwgInByb3BlcnRpZXMiOiB7ImFkZHI6Y2l0eSI6IG51bGwsICJhZGRyOmhvdXNlbnVtYmVyIjogbnVsbCwgImFkZHI6cG9zdGNvZGUiOiBudWxsLCAiYWRkcjpwcm92aW5jZSI6IG51bGwsICJhZGRyOnN0cmVldCI6IG51bGwsICJjaGFuZ2VzZXQiOiAiNDEyNDU1NjgiLCAiZ29sZiI6IG51bGwsICJpZCI6ICJ3YXkvNDM1Njk4ODMyIiwgImxhbmR1c2UiOiBudWxsLCAibGVpc3VyZSI6ICJwYXJrIiwgIm5hbWUiOiBudWxsLCAib3BlbmluZ19ob3VycyI6IG51bGwsICJwX2FyZWEiOiA4LjYwNTYxNjQ1MDA1MDQ5ZS0wNywgInBob25lIjogbnVsbCwgInNvdXJjZSI6IG51bGwsICJzcG9ydCI6IG51bGwsICJzdHlsZSI6IHsiY29sb3IiOiAiYmxhY2siLCAiZmlsbENvbG9yIjogIiNGRDhEM0MiLCAiZmlsbE9wYWNpdHkiOiAwLjYsICJvcGFjdGl5IjogMC44LCAid2VpZ2h0IjogMX0sICJ0aW1lc3RhbXAiOiAiMjAxNi0wOC0wNFQxOToyNjo1MFoiLCAidHlwZSI6IG51bGwsICJ1aWQiOiAiNDc2NDkxIiwgInVzZXIiOiAiZXJpY3ZhbmFlcmRlIiwgInZlcnNpb24iOiAiMSIsICJ3ZWJzaXRlIjogbnVsbH0sICJ0eXBlIjogIkZlYXR1cmUifSwgeyJnZW9tZXRyeSI6IHsiY29vcmRpbmF0ZXMiOiBbW1stMTEzLjUzMjU0NDcsIDUzLjU0MTcxNTNdLCBbLTExMy41MzI1NDQ3LCA1My41NDEzMzIxXSwgWy0xMTMuNTMyMzkzLCA1My41NDEzMjk4XSwgWy0xMTMuNTMyMzc3OCwgNTMuNTQxNzA4NV0sIFstMTEzLjUzMjU0NDcsIDUzLjU0MTcxNTNdXV0sICJ0eXBlIjogIlBvbHlnb24ifSwgImlkIjogIjY3IiwgInByb3BlcnRpZXMiOiB7ImFkZHI6Y2l0eSI6IG51bGwsICJhZGRyOmhvdXNlbnVtYmVyIjogbnVsbCwgImFkZHI6cG9zdGNvZGUiOiBudWxsLCAiYWRkcjpwcm92aW5jZSI6IG51bGwsICJhZGRyOnN0cmVldCI6IG51bGwsICJjaGFuZ2VzZXQiOiAiNDQ3MjA2ODkiLCAiZ29sZiI6IG51bGwsICJpZCI6ICJ3YXkvNDYyMjQyNzE2IiwgImxhbmR1c2UiOiBudWxsLCAibGVpc3VyZSI6ICJwYXJrIiwgIm5hbWUiOiBudWxsLCAib3BlbmluZ19ob3VycyI6IG51bGwsICJwX2FyZWEiOiA2LjA3MTk5MTUwMDAwMTU1NWUtMDgsICJwaG9uZSI6IG51bGwsICJzb3VyY2UiOiBudWxsLCAic3BvcnQiOiBudWxsLCAic3R5bGUiOiB7ImNvbG9yIjogImJsYWNrIiwgImZpbGxDb2xvciI6ICIjRkZGRkIyIiwgImZpbGxPcGFjaXR5IjogMC42LCAib3BhY3RpeSI6IDAuOCwgIndlaWdodCI6IDF9LCAidGltZXN0YW1wIjogIjIwMTYtMTItMjhUMDM6MjQ6MTdaIiwgInR5cGUiOiBudWxsLCAidWlkIjogIjUwMDk0ODgiLCAidXNlciI6ICJKb2U0ODY1MzEyIiwgInZlcnNpb24iOiAiMSIsICJ3ZWJzaXRlIjogbnVsbH0sICJ0eXBlIjogIkZlYXR1cmUifSwgeyJnZW9tZXRyeSI6IHsiY29vcmRpbmF0ZXMiOiBbW1stMTEzLjUzMDU3MTUsIDUzLjUzODc5OV0sIFstMTEzLjUzMDY2MDMsIDUzLjUzODc1ODddLCBbLTExMy41MzA2ODEzLCA1My41Mzg2OTQ5XSwgWy0xMTMuNTMwNjM5MiwgNTMuNTM4NjI5N10sIFstMTEzLjUzMDQ5NDUsIDUzLjUzODU4OF0sIFstMTEzLjUzMDM0NzQsIDUzLjUzODUzODFdLCBbLTExMy41MzAyMjgzLCA1My41Mzg0OTUxXSwgWy0xMTMuNTMwMTEzOSwgNTMuNTM4NDkwOV0sIFstMTEzLjUzMDAwMTgsIDUzLjUzODUyNTYwMDAwMDAxXSwgWy0xMTMuNTI5OTUwNCwgNTMuNTM4NTgxMV0sIFstMTEzLjUyOTk0ODEsIDUzLjUzODY0OTFdLCBbLTExMy41Mjk5NTc0LCA1My41Mzg3MDE4MDAwMDAwMDVdLCBbLTExMy41MzAwMzIxLCA1My41Mzg3NDIxXSwgWy0xMTMuNTMwMTQ4OSwgNTMuNTM4NzUzMl0sIFstMTEzLjUzMDI1NjMwMDAwMDAyLCA1My41Mzg3OTA2XSwgWy0xMTMuNTMwMzY4NDAwMDAwMDEsIDUzLjUzODgyMTJdLCBbLTExMy41MzA0ODk4LCA1My41Mzg4MjM5XSwgWy0xMTMuNTMwNTcxNSwgNTMuNTM4Nzk5XV1dLCAidHlwZSI6ICJQb2x5Z29uIn0sICJpZCI6ICI2OCIsICJwcm9wZXJ0aWVzIjogeyJhZGRyOmNpdHkiOiBudWxsLCAiYWRkcjpob3VzZW51bWJlciI6IG51bGwsICJhZGRyOnBvc3Rjb2RlIjogbnVsbCwgImFkZHI6cHJvdmluY2UiOiBudWxsLCAiYWRkcjpzdHJlZXQiOiBudWxsLCAiY2hhbmdlc2V0IjogIjQ1MTIxNDYzIiwgImdvbGYiOiAiZ3JlZW4iLCAiaWQiOiAid2F5LzQ2NTU0NTI3MyIsICJsYW5kdXNlIjogImdyYXNzIiwgImxlaXN1cmUiOiAicGl0Y2giLCAibmFtZSI6IG51bGwsICJvcGVuaW5nX2hvdXJzIjogbnVsbCwgInBfYXJlYSI6IDEuNjc3OTE5NDk5OTk3MTE0OGUtMDcsICJwaG9uZSI6IG51bGwsICJzb3VyY2UiOiBudWxsLCAic3BvcnQiOiAiZ29sZiIsICJzdHlsZSI6IHsiY29sb3IiOiAiYmxhY2siLCAiZmlsbENvbG9yIjogIiNGRUIyNEMiLCAiZmlsbE9wYWNpdHkiOiAwLjYsICJvcGFjdGl5IjogMC44LCAid2VpZ2h0IjogMX0sICJ0aW1lc3RhbXAiOiAiMjAxNy0wMS0xM1QwMToxNTowMVoiLCAidHlwZSI6IG51bGwsICJ1aWQiOiAiMzg4OTY5IiwgInVzZXIiOiAiamRrcmFiYmUiLCAidmVyc2lvbiI6ICIxIiwgIndlYnNpdGUiOiBudWxsfSwgInR5cGUiOiAiRmVhdHVyZSJ9LCB7Imdlb21ldHJ5IjogeyJjb29yZGluYXRlcyI6IFtbWy0xMTMuNTI1NDc4OCwgNTMuNTM3MTE1OTAwMDAwMDFdLCBbLTExMy41MjU1NjgxLCA1My41MzcwMjYyXSwgWy0xMTMuNTI1NTc0MzAwMDAwMDIsIDUzLjUzNjkzNDddLCBbLTExMy41MjU1MDM0LCA1My41MzY4ODM0XSwgWy0xMTMuNTI1MzU1NSwgNTMuNTM2ODY1MV0sIFstMTEzLjUyNTE5ODQsIDUzLjUzNjg3MjRdLCBbLTExMy41MjUxMjE0MDAwMDAwMiwgNTMuNTM2OTI1NV0sIFstMTEzLjUyNTA3MjEsIDUzLjUzNzAxMTYwMDAwMDAxXSwgWy0xMTMuNTI1MDgxMywgNTMuNTM3MDc3NV0sIFstMTEzLjUyNTE2NzYwMDAwMDAyLCA1My41MzcxMTc4XSwgWy0xMTMuNTI1MzQ2MywgNTMuNTM3MTU0NF0sIFstMTEzLjUyNTQ3ODgsIDUzLjUzNzExNTkwMDAwMDAxXV1dLCAidHlwZSI6ICJQb2x5Z29uIn0sICJpZCI6ICI2OSIsICJwcm9wZXJ0aWVzIjogeyJhZGRyOmNpdHkiOiBudWxsLCAiYWRkcjpob3VzZW51bWJlciI6IG51bGwsICJhZGRyOnBvc3Rjb2RlIjogbnVsbCwgImFkZHI6cHJvdmluY2UiOiBudWxsLCAiYWRkcjpzdHJlZXQiOiBudWxsLCAiY2hhbmdlc2V0IjogIjQ1MTIxNDYzIiwgImdvbGYiOiAiZ3JlZW4iLCAiaWQiOiAid2F5LzQ2NTU0NTI5NyIsICJsYW5kdXNlIjogImdyYXNzIiwgImxlaXN1cmUiOiAicGl0Y2giLCAibmFtZSI6ICIxMCIsICJvcGVuaW5nX2hvdXJzIjogbnVsbCwgInBfYXJlYSI6IDEuMTIyODY1NDQ5OTk5NTU0ZS0wNywgInBob25lIjogbnVsbCwgInNvdXJjZSI6IG51bGwsICJzcG9ydCI6ICJnb2xmIiwgInN0eWxlIjogeyJjb2xvciI6ICJibGFjayIsICJmaWxsQ29sb3IiOiAiI0ZFRDk3NiIsICJmaWxsT3BhY2l0eSI6IDAuNiwgIm9wYWN0aXkiOiAwLjgsICJ3ZWlnaHQiOiAxfSwgInRpbWVzdGFtcCI6ICIyMDE3LTAxLTEzVDAxOjE1OjAzWiIsICJ0eXBlIjogbnVsbCwgInVpZCI6ICIzODg5NjkiLCAidXNlciI6ICJqZGtyYWJiZSIsICJ2ZXJzaW9uIjogIjEiLCAid2Vic2l0ZSI6IG51bGx9LCAidHlwZSI6ICJGZWF0dXJlIn0sIHsiZ2VvbWV0cnkiOiB7ImNvb3JkaW5hdGVzIjogW1tbLTExMy41MjIyNjQ1LCA1My41MzcyOTkzXSwgWy0xMTMuNTIyMjcyNywgNTMuNTM3MjY1NF0sIFstMTEzLjUyMjIzNjEsIDUzLjUzNzIyODAwMDAwMDAwNl0sIFstMTEzLjUyMjE0NTYsIDUzLjUzNzE4NzVdLCBbLTExMy41MjIwNTExLCA1My41MzcxNzI0XSwgWy0xMTMuNTIxOTUwNSwgNTMuNTM3MTgzM10sIFstMTEzLjUyMTkwNDcsIDUzLjUzNzIwMzJdLCBbLTExMy41MjE4OTc2LCA1My41MzcyMjYyMDAwMDAwMDZdLCBbLTExMy41MjE5MTU5LCA1My41MzcyNjA2XSwgWy0xMTMuNTIxOTcxOCwgNTMuNTM3Mjk0NF0sIFstMTEzLjUyMjAyNzcsIDUzLjUzNzMxNTAwMDAwMDAxXSwgWy0xMTMuNTIyMTA3LCA1My41MzczMzAxXSwgWy0xMTMuNTIyMTc3MSwgNTMuNTM3MzIzNF0sIFstMTEzLjUyMjIzNzEsIDUzLjUzNzMxMzIwMDAwMDAxXSwgWy0xMTMuNTIyMjY0NSwgNTMuNTM3Mjk5M11dXSwgInR5cGUiOiAiUG9seWdvbiJ9LCAiaWQiOiAiNzAiLCAicHJvcGVydGllcyI6IHsiYWRkcjpjaXR5IjogbnVsbCwgImFkZHI6aG91c2VudW1iZXIiOiBudWxsLCAiYWRkcjpwb3N0Y29kZSI6IG51bGwsICJhZGRyOnByb3ZpbmNlIjogbnVsbCwgImFkZHI6c3RyZWV0IjogbnVsbCwgImNoYW5nZXNldCI6ICI0NTEyMTQ2MyIsICJnb2xmIjogImdyZWVuIiwgImlkIjogIndheS80NjU1NDUzMjEiLCAibGFuZHVzZSI6ICJncmFzcyIsICJsZWlzdXJlIjogInBpdGNoIiwgIm5hbWUiOiAiNy1FbGV2ZW4iLCAib3BlbmluZ19ob3VycyI6IG51bGwsICJwX2FyZWEiOiA0LjIxODQzMDk5OTk2MjkxNTRlLTA4LCAicGhvbmUiOiBudWxsLCAic291cmNlIjogbnVsbCwgInNwb3J0IjogImdvbGYiLCAic3R5bGUiOiB7ImNvbG9yIjogImJsYWNrIiwgImZpbGxDb2xvciI6ICIjRkZGRkIyIiwgImZpbGxPcGFjaXR5IjogMC42LCAib3BhY3RpeSI6IDAuOCwgIndlaWdodCI6IDF9LCAidGltZXN0YW1wIjogIjIwMTctMDEtMTNUMDE6MTU6MDVaIiwgInR5cGUiOiBudWxsLCAidWlkIjogIjM4ODk2OSIsICJ1c2VyIjogImpka3JhYmJlIiwgInZlcnNpb24iOiAiMSIsICJ3ZWJzaXRlIjogbnVsbH0sICJ0eXBlIjogIkZlYXR1cmUifSwgeyJnZW9tZXRyeSI6IHsiY29vcmRpbmF0ZXMiOiBbW1stMTEzLjUzMjU4MTYsIDUzLjU0MjQwNF0sIFstMTEzLjUzMjU4MTYsIDUzLjU0MTc3MzFdLCBbLTExMy41MzIzODY4LCA1My41NDE3NzAyXSwgWy0xMTMuNTMyMzg2OCwgNTMuNTQyNDA0XSwgWy0xMTMuNTMyNTgxNiwgNTMuNTQyNDA0XV1dLCAidHlwZSI6ICJQb2x5Z29uIn0sICJpZCI6ICI3MSIsICJwcm9wZXJ0aWVzIjogeyJhZGRyOmNpdHkiOiBudWxsLCAiYWRkcjpob3VzZW51bWJlciI6IG51bGwsICJhZGRyOnBvc3Rjb2RlIjogbnVsbCwgImFkZHI6cHJvdmluY2UiOiBudWxsLCAiYWRkcjpzdHJlZXQiOiBudWxsLCAiY2hhbmdlc2V0IjogIjQ0NzIwNjg5IiwgImdvbGYiOiBudWxsLCAiaWQiOiAid2F5LzQ2MjI0MjcxNyIsICJsYW5kdXNlIjogbnVsbCwgImxlaXN1cmUiOiAicGFyayIsICJuYW1lIjogbnVsbCwgIm9wZW5pbmdfaG91cnMiOiBudWxsLCAicF9hcmVhIjogMS4yMzE4MTc4MDAwMTAzNjNlLTA3LCAicGhvbmUiOiBudWxsLCAic291cmNlIjogbnVsbCwgInNwb3J0IjogbnVsbCwgInN0eWxlIjogeyJjb2xvciI6ICJibGFjayIsICJmaWxsQ29sb3IiOiAiI0ZFQjI0QyIsICJmaWxsT3BhY2l0eSI6IDAuNiwgIm9wYWN0aXkiOiAwLjgsICJ3ZWlnaHQiOiAxfSwgInRpbWVzdGFtcCI6ICIyMDE2LTEyLTI4VDAzOjI0OjE3WiIsICJ0eXBlIjogbnVsbCwgInVpZCI6ICI1MDA5NDg4IiwgInVzZXIiOiAiSm9lNDg2NTMxMiIsICJ2ZXJzaW9uIjogIjEiLCAid2Vic2l0ZSI6IG51bGx9LCAidHlwZSI6ICJGZWF0dXJlIn0sIHsiZ2VvbWV0cnkiOiB7ImNvb3JkaW5hdGVzIjogW1tbLTExMy41MjU0NDY1MDAwMDAwMiwgNTMuNTMzOTEwNl0sIFstMTEzLjUyNTUyMDQsIDUzLjUzMzg5NzhdLCBbLTExMy41MjU2MTQ0LCA1My41MzM4NTg0XSwgWy0xMTMuNTI1NjY5OTAwMDAwMDEsIDUzLjUzMzgxMzVdLCBbLTExMy41MjU2NTYsIDUzLjUzMzc1NF0sIFstMTEzLjUyNTU5NDQsIDUzLjUzMzY5NzMwMDAwMDAxXSwgWy0xMTMuNTI1NTE0MywgNTMuNTMzNjc0NF0sIFstMTEzLjUyNTQwNjQsIDUzLjUzMzY3NzFdLCBbLTExMy41MjUyOTQsIDUzLjUzMzcwMzddLCBbLTExMy41MjUyMzU0LCA1My41MzM3NDc2XSwgWy0xMTMuNTI1MjIxNiwgNTMuNTMzNzkyNV0sIFstMTEzLjUyNTI2NzgsIDUzLjUzMzg2MjFdLCBbLTExMy41MjUzNDMzLCA1My41MzM5MDE0XSwgWy0xMTMuNTI1NDQ2NTAwMDAwMDIsIDUzLjUzMzkxMDZdXV0sICJ0eXBlIjogIlBvbHlnb24ifSwgImlkIjogIjcyIiwgInByb3BlcnRpZXMiOiB7ImFkZHI6Y2l0eSI6IG51bGwsICJhZGRyOmhvdXNlbnVtYmVyIjogbnVsbCwgImFkZHI6cG9zdGNvZGUiOiBudWxsLCAiYWRkcjpwcm92aW5jZSI6IG51bGwsICJhZGRyOnN0cmVldCI6IG51bGwsICJjaGFuZ2VzZXQiOiAiNDUxMjE0NjMiLCAiZ29sZiI6ICJncmVlbiIsICJpZCI6ICJ3YXkvNDY1NTQ1MjgyIiwgImxhbmR1c2UiOiAiZ3Jhc3MiLCAibGVpc3VyZSI6ICJwaXRjaCIsICJuYW1lIjogIjMiLCAib3BlbmluZ19ob3VycyI6IG51bGwsICJwX2FyZWEiOiA3Ljk4NTQ2NzQ5OTk5ODcxN2UtMDgsICJwaG9uZSI6IG51bGwsICJzb3VyY2UiOiBudWxsLCAic3BvcnQiOiAiZ29sZiIsICJzdHlsZSI6IHsiY29sb3IiOiAiYmxhY2siLCAiZmlsbENvbG9yIjogIiNGRkZGQjIiLCAiZmlsbE9wYWNpdHkiOiAwLjYsICJvcGFjdGl5IjogMC44LCAid2VpZ2h0IjogMX0sICJ0aW1lc3RhbXAiOiAiMjAxNy0wMS0xM1QwMToxNTowMVoiLCAidHlwZSI6IG51bGwsICJ1aWQiOiAiMzg4OTY5IiwgInVzZXIiOiAiamRrcmFiYmUiLCAidmVyc2lvbiI6ICIxIiwgIndlYnNpdGUiOiBudWxsfSwgInR5cGUiOiAiRmVhdHVyZSJ9LCB7Imdlb21ldHJ5IjogeyJjb29yZGluYXRlcyI6IFtbWy0xMTMuNTE1OTAzOSwgNTMuNTM1NDg3N10sIFstMTEzLjUxNTc2NTcsIDUzLjUzNTQzNjddLCBbLTExMy41MTU2MzU2MDAwMDAwMSwgNTMuNTM1NDE3Nl0sIFstMTEzLjUxNTU1NjUsIDUzLjUzNTQzOTldLCBbLTExMy41MTU1MDk2LCA1My41MzU1MDEzXSwgWy0xMTMuNTE1NTI4NCwgNTMuNTM1NTY4Ml0sIFstMTEzLjUxNTU3OTMsIDUzLjUzNTYwODldLCBbLTExMy41MTU2NjM4LCA1My41MzU2MzkxXSwgWy0xMTMuNTE1NzcxMSwgNTMuNTM1NjUzNV0sIFstMTEzLjUxNTg0NDksIDUzLjUzNTYzNjhdLCBbLTExMy41MTU5MDI1LCA1My41MzU1OTUzXSwgWy0xMTMuNTE1OTMzNCwgNTMuNTM1NTQxMV0sIFstMTEzLjUxNTkwMzksIDUzLjUzNTQ4NzddXV0sICJ0eXBlIjogIlBvbHlnb24ifSwgImlkIjogIjczIiwgInByb3BlcnRpZXMiOiB7ImFkZHI6Y2l0eSI6IG51bGwsICJhZGRyOmhvdXNlbnVtYmVyIjogbnVsbCwgImFkZHI6cG9zdGNvZGUiOiBudWxsLCAiYWRkcjpwcm92aW5jZSI6IG51bGwsICJhZGRyOnN0cmVldCI6IG51bGwsICJjaGFuZ2VzZXQiOiAiNDUxMjE0NjMiLCAiZ29sZiI6ICJncmVlbiIsICJpZCI6ICJ3YXkvNDY1NTQ1MzA4IiwgImxhbmR1c2UiOiAiZ3Jhc3MiLCAibGVpc3VyZSI6ICJwaXRjaCIsICJuYW1lIjogIjEzIiwgIm9wZW5pbmdfaG91cnMiOiBudWxsLCAicF9hcmVhIjogNy4yMTMyMDk0OTk5NzgwOTZlLTA4LCAicGhvbmUiOiBudWxsLCAic291cmNlIjogbnVsbCwgInNwb3J0IjogImdvbGYiLCAic3R5bGUiOiB7ImNvbG9yIjogImJsYWNrIiwgImZpbGxDb2xvciI6ICIjRkZGRkIyIiwgImZpbGxPcGFjaXR5IjogMC42LCAib3BhY3RpeSI6IDAuOCwgIndlaWdodCI6IDF9LCAidGltZXN0YW1wIjogIjIwMTctMDEtMTNUMDE6MTU6MDNaIiwgInR5cGUiOiBudWxsLCAidWlkIjogIjM4ODk2OSIsICJ1c2VyIjogImpka3JhYmJlIiwgInZlcnNpb24iOiAiMSIsICJ3ZWJzaXRlIjogbnVsbH0sICJ0eXBlIjogIkZlYXR1cmUifSwgeyJnZW9tZXRyeSI6IHsiY29vcmRpbmF0ZXMiOiBbW1stMTEzLjUyODAxMTYsIDUzLjUzODc5MDRdLCBbLTExMy41MjgwNTQ4LCA1My41Mzg3NjcxXSwgWy0xMTMuNTI4MDc1NSwgNTMuNTM4NzMxOF0sIFstMTEzLjUyODA2NjMsIDUzLjUzODY4MzNdLCBbLTExMy41MjgwMTM5LCA1My41Mzg2MzA2XSwgWy0xMTMuNTI3OTQ2MSwgNTMuNTM4NjAzMl0sIFstMTEzLjUyNzg4MDMsIDUzLjUzODU4ODFdLCBbLTExMy41Mjc4MTEzLCA1My41Mzg1Nzk0XSwgWy0xMTMuNTI3NzMwNSwgNTMuNTM4NTg0Nl0sIFstMTEzLjUyNzY3NzMsIDUzLjUzODYxMTldLCBbLTExMy41Mjc2NDQyLCA1My41Mzg2NDg1XSwgWy0xMTMuNTI3NjM3MywgNTMuNTM4NjgyNF0sIFstMTEzLjUyNzY3MTksIDUzLjUzODcyMzZdLCBbLTExMy41Mjc3MzIsIDUzLjUzODc1NjVdLCBbLTExMy41Mjc4MDk4MDAwMDAwMSwgNTMuNTM4NzgwOF0sIFstMTEzLjUyNzkxNDYsIDUzLjUzODc5NjhdLCBbLTExMy41MjgwMTE2LCA1My41Mzg3OTA0XV1dLCAidHlwZSI6ICJQb2x5Z29uIn0sICJpZCI6ICI3NCIsICJwcm9wZXJ0aWVzIjogeyJhZGRyOmNpdHkiOiBudWxsLCAiYWRkcjpob3VzZW51bWJlciI6IG51bGwsICJhZGRyOnBvc3Rjb2RlIjogbnVsbCwgImFkZHI6cHJvdmluY2UiOiBudWxsLCAiYWRkcjpzdHJlZXQiOiBudWxsLCAiY2hhbmdlc2V0IjogIjQ1MTIxNDYzIiwgImdvbGYiOiAiZ3JlZW4iLCAiaWQiOiAid2F5LzQ2NTU0NTMyNCIsICJsYW5kdXNlIjogImdyYXNzIiwgImxlaXN1cmUiOiAicGl0Y2giLCAibmFtZSI6ICIxOCIsICJvcGVuaW5nX2hvdXJzIjogbnVsbCwgInBfYXJlYSI6IDcuMDg2NzEyNTAwMDkyODdlLTA4LCAicGhvbmUiOiBudWxsLCAic291cmNlIjogbnVsbCwgInNwb3J0IjogImdvbGYiLCAic3R5bGUiOiB7ImNvbG9yIjogImJsYWNrIiwgImZpbGxDb2xvciI6ICIjRkZGRkIyIiwgImZpbGxPcGFjaXR5IjogMC42LCAib3BhY3RpeSI6IDAuOCwgIndlaWdodCI6IDF9LCAidGltZXN0YW1wIjogIjIwMTctMDEtMTNUMDE6MTU6MDVaIiwgInR5cGUiOiBudWxsLCAidWlkIjogIjM4ODk2OSIsICJ1c2VyIjogImpka3JhYmJlIiwgInZlcnNpb24iOiAiMSIsICJ3ZWJzaXRlIjogbnVsbH0sICJ0eXBlIjogIkZlYXR1cmUifSwgeyJnZW9tZXRyeSI6IHsiY29vcmRpbmF0ZXMiOiBbW1stMTEzLjUyOTA2NzUsIDUzLjUzODI2MDRdLCBbLTExMy41Mjg5ODgxLCA1My41MzgyNjMxXSwgWy0xMTMuNTI4ODU3NCwgNTMuNTM4Mjk3OF0sIFstMTEzLjUyODc4OTYsIDUzLjUzODM4MjVdLCBbLTExMy41Mjg3Njg2LCA1My41Mzg0NTZdLCBbLTExMy41Mjg4MjIzLCA1My41Mzg1MzFdLCBbLTExMy41Mjg5MTM0LCA1My41Mzg1NzEyMDAwMDAwMV0sIFstMTEzLjUyOTA0ODgsIDUzLjUzODU3NjhdLCBbLTExMy41MjkxMzUyLCA1My41Mzg1NTA0XSwgWy0xMTMuNTI5MjEyMywgNTMuNTM4NDkwN10sIFstMTEzLjUyOTI3MDcsIDUzLjUzODQyXSwgWy0xMTMuNTI5MjczLCA1My41MzgzNTc1XSwgWy0xMTMuNTI5MjI4NiwgNTMuNTM4MzAwNl0sIFstMTEzLjUyOTE1ODYsIDUzLjUzODI3MDFdLCBbLTExMy41MjkwNjc1LCA1My41MzgyNjA0XV1dLCAidHlwZSI6ICJQb2x5Z29uIn0sICJpZCI6ICI3NSIsICJwcm9wZXJ0aWVzIjogeyJhZGRyOmNpdHkiOiBudWxsLCAiYWRkcjpob3VzZW51bWJlciI6IG51bGwsICJhZGRyOnBvc3Rjb2RlIjogbnVsbCwgImFkZHI6cHJvdmluY2UiOiBudWxsLCAiYWRkcjpzdHJlZXQiOiBudWxsLCAiY2hhbmdlc2V0IjogIjQ1MTIxNDYzIiwgImdvbGYiOiAiZ3JlZW4iLCAiaWQiOiAid2F5LzQ2NTU0NTI5MSIsICJsYW5kdXNlIjogImdyYXNzIiwgImxlaXN1cmUiOiAicGl0Y2giLCAibmFtZSI6ICI5IiwgIm9wZW5pbmdfaG91cnMiOiBudWxsLCAicF9hcmVhIjogMS4yMjY4ODk4OTk5ODg0MzE4ZS0wNywgInBob25lIjogbnVsbCwgInNvdXJjZSI6IG51bGwsICJzcG9ydCI6ICJnb2xmIiwgInN0eWxlIjogeyJjb2xvciI6ICJibGFjayIsICJmaWxsQ29sb3IiOiAiI0ZFRDk3NiIsICJmaWxsT3BhY2l0eSI6IDAuNiwgIm9wYWN0aXkiOiAwLjgsICJ3ZWlnaHQiOiAxfSwgInRpbWVzdGFtcCI6ICIyMDE3LTAxLTEzVDAxOjE1OjAyWiIsICJ0eXBlIjogbnVsbCwgInVpZCI6ICIzODg5NjkiLCAidXNlciI6ICJqZGtyYWJiZSIsICJ2ZXJzaW9uIjogIjEiLCAid2Vic2l0ZSI6IG51bGx9LCAidHlwZSI6ICJGZWF0dXJlIn0sIHsiZ2VvbWV0cnkiOiB7ImNvb3JkaW5hdGVzIjogW1tbLTExMy41MzI2Mjk2LCA1My41MzYzODI3MDAwMDAwMDRdLCBbLTExMy41MzI2MjE1LCA1My41MzYyODI0XSwgWy0xMTMuNTMyNTc4OCwgNTMuNTM2MTc4NV0sIFstMTEzLjUzMjUyMzksIDUzLjUzNjE0NzFdLCBbLTExMy41MzI0MTYyLCA1My41MzYxMzI2XSwgWy0xMTMuNTMyMjk2MywgNTMuNTM2MTU0NF0sIFstMTEzLjUzMjIwODkwMDAwMDAxLCA1My41MzYxOTA2XSwgWy0xMTMuNTMyMTk0NiwgNTMuNTM2MjQ3NF0sIFstMTEzLjUzMjI0OTUwMDAwMDAyLCA1My41MzYzMzJdLCBbLTExMy41MzIzMzY5LCA1My41MzY0MjVdLCBbLTExMy41MzI0MzA0LCA1My41MzY0NTc2XSwgWy0xMTMuNTMyNTYyNSwgNTMuNTM2NDQwN10sIFstMTEzLjUzMjYyOTYsIDUzLjUzNjM4MjcwMDAwMDAwNF1dXSwgInR5cGUiOiAiUG9seWdvbiJ9LCAiaWQiOiAiNzYiLCAicHJvcGVydGllcyI6IHsiYWRkcjpjaXR5IjogbnVsbCwgImFkZHI6aG91c2VudW1iZXIiOiBudWxsLCAiYWRkcjpwb3N0Y29kZSI6IG51bGwsICJhZGRyOnByb3ZpbmNlIjogbnVsbCwgImFkZHI6c3RyZWV0IjogbnVsbCwgImNoYW5nZXNldCI6ICI0NTEyMTQ2MyIsICJnb2xmIjogImdyZWVuIiwgImlkIjogIndheS80NjU1NDUyNzUiLCAibGFuZHVzZSI6ICJncmFzcyIsICJsZWlzdXJlIjogInBpdGNoIiwgIm5hbWUiOiAiNy1FbGV2ZW4iLCAib3BlbmluZ19ob3VycyI6IG51bGwsICJwX2FyZWEiOiAxLjA1MjU3NDgwMDAwMDMyNzZlLTA3LCAicGhvbmUiOiBudWxsLCAic291cmNlIjogbnVsbCwgInNwb3J0IjogImdvbGYiLCAic3R5bGUiOiB7ImNvbG9yIjogImJsYWNrIiwgImZpbGxDb2xvciI6ICIjRkVEOTc2IiwgImZpbGxPcGFjaXR5IjogMC42LCAib3BhY3RpeSI6IDAuOCwgIndlaWdodCI6IDF9LCAidGltZXN0YW1wIjogIjIwMTctMDEtMTNUMDE6MTU6MDFaIiwgInR5cGUiOiBudWxsLCAidWlkIjogIjM4ODk2OSIsICJ1c2VyIjogImpka3JhYmJlIiwgInZlcnNpb24iOiAiMSIsICJ3ZWJzaXRlIjogbnVsbH0sICJ0eXBlIjogIkZlYXR1cmUifSwgeyJnZW9tZXRyeSI6IHsiY29vcmRpbmF0ZXMiOiBbW1stMTEzLjUxODAzODcwMDAwMDAyLCA1My41MzU5NzIzXSwgWy0xMTMuNTE4MDczMiwgNTMuNTM1OTQ2M10sIFstMTEzLjUxODA3OTMsIDUzLjUzNTkxMTldLCBbLTExMy41MTgwNTE5LCA1My41MzU4NzkzXSwgWy0xMTMuNTE3OTk4LCA1My41MzU4NTY5XSwgWy0xMTMuNTE3OTAyNSwgNTMuNTM1ODUyN10sIFstMTEzLjUxNzgzNzQsIDUzLjUzNTgzNjRdLCBbLTExMy41MTc3ODE1MDAwMDAwMSwgNTMuNTM1ODAzOF0sIFstMTEzLjUxNzcxMjQsIDUzLjUzNTc2OTNdLCBbLTExMy41MTc2MjQsIDUzLjUzNTc0ODhdLCBbLTExMy41MTc1MzI1LCA1My41MzU3NDM0XSwgWy0xMTMuNTE3NDQ3MSwgNTMuNTM1NzUzNjAwMDAwMDFdLCBbLTExMy41MTczODQxLCA1My41MzU3ODE0XSwgWy0xMTMuNTE3MzYxOCwgNTMuNTM1ODI2MV0sIFstMTEzLjUxNzM2NDgsIDUzLjUzNTg3NTZdLCBbLTExMy41MTczODMxLCA1My41MzU5Mjc2MDAwMDAwMV0sIFstMTEzLjUxNzQwODUsIDUzLjUzNTk2MDJdLCBbLTExMy41MTc0ODA3LCA1My41MzU5ODQ0XSwgWy0xMTMuNTE3NTcxMSwgNTMuNTM2MDAxOV0sIFstMTEzLjUxNzY2MTYsIDUzLjUzNjAwMjVdLCBbLTExMy41MTc3Mjc3LCA1My41MzU5ODM4XSwgWy0xMTMuNTE3ODE3MSwgNTMuNTM1OTcyOV0sIFstMTEzLjUxNzkxMDYsIDUzLjUzNTk3OTVdLCBbLTExMy41MTc5ODg5LCA1My41MzU5ODEzXSwgWy0xMTMuNTE4MDM4NzAwMDAwMDIsIDUzLjUzNTk3MjNdXV0sICJ0eXBlIjogIlBvbHlnb24ifSwgImlkIjogIjc3IiwgInByb3BlcnRpZXMiOiB7ImFkZHI6Y2l0eSI6IG51bGwsICJhZGRyOmhvdXNlbnVtYmVyIjogbnVsbCwgImFkZHI6cG9zdGNvZGUiOiBudWxsLCAiYWRkcjpwcm92aW5jZSI6IG51bGwsICJhZGRyOnN0cmVldCI6IG51bGwsICJjaGFuZ2VzZXQiOiAiNDUxMjE0NjMiLCAiZ29sZiI6ICJncmVlbiIsICJpZCI6ICJ3YXkvNDY1NTQ1MzE0IiwgImxhbmR1c2UiOiAiZ3Jhc3MiLCAibGVpc3VyZSI6ICJwaXRjaCIsICJuYW1lIjogIjE1IiwgIm9wZW5pbmdfaG91cnMiOiBudWxsLCAicF9hcmVhIjogMS4yODU2MjUxMDAwMDQ0Mjg1ZS0wNywgInBob25lIjogbnVsbCwgInNvdXJjZSI6IG51bGwsICJzcG9ydCI6ICJnb2xmIiwgInN0eWxlIjogeyJjb2xvciI6ICJibGFjayIsICJmaWxsQ29sb3IiOiAiI0ZFQjI0QyIsICJmaWxsT3BhY2l0eSI6IDAuNiwgIm9wYWN0aXkiOiAwLjgsICJ3ZWlnaHQiOiAxfSwgInRpbWVzdGFtcCI6ICIyMDE3LTAxLTEzVDAxOjE1OjA0WiIsICJ0eXBlIjogbnVsbCwgInVpZCI6ICIzODg5NjkiLCAidXNlciI6ICJqZGtyYWJiZSIsICJ2ZXJzaW9uIjogIjEiLCAid2Vic2l0ZSI6IG51bGx9LCAidHlwZSI6ICJGZWF0dXJlIn0sIHsiZ2VvbWV0cnkiOiB7ImNvb3JkaW5hdGVzIjogW1tbLTExMy41MTQ3MzAxLCA1My41MzQzNjY1XSwgWy0xMTMuNTE1NTE4OCwgNTMuNTM0ODA2M10sIFstMTEzLjUxNTcxNjQsIDUzLjUzNDY3NjVdLCBbLTExMy41MTU4Njg1LCA1My41MzQ0Nzc3MDAwMDAwMDRdLCBbLTExMy41MTU5MjEzLCA1My41MzQyODkyXSwgWy0xMTMuNTE1ODYwMywgNTMuNTM0MDkzNV0sIFstMTEzLjUxNTY3MzMsIDUzLjUzMzkzNDAwMDAwMDAxXSwgWy0xMTMuNTE1NTAyNjAwMDAwMDIsIDUzLjUzMzgzNDldLCBbLTExMy41MTQ3MjIsIDUzLjUzNDMxODJdLCBbLTExMy41MTQ3MzAxLCA1My41MzQzNjY1XV1dLCAidHlwZSI6ICJQb2x5Z29uIn0sICJpZCI6ICI3OCIsICJwcm9wZXJ0aWVzIjogeyJhZGRyOmNpdHkiOiBudWxsLCAiYWRkcjpob3VzZW51bWJlciI6IG51bGwsICJhZGRyOnBvc3Rjb2RlIjogbnVsbCwgImFkZHI6cHJvdmluY2UiOiBudWxsLCAiYWRkcjpzdHJlZXQiOiBudWxsLCAiY2hhbmdlc2V0IjogIjQ1MTIwOTk5IiwgImdvbGYiOiBudWxsLCAiaWQiOiAid2F5LzQ2NTU0MjY1MCIsICJsYW5kdXNlIjogbnVsbCwgImxlaXN1cmUiOiAicGl0Y2giLCAibmFtZSI6IG51bGwsICJvcGVuaW5nX2hvdXJzIjogbnVsbCwgInBfYXJlYSI6IDYuNjU1MTYyNzk5OTczOTkzZS0wNywgInBob25lIjogbnVsbCwgInNvdXJjZSI6IG51bGwsICJzcG9ydCI6ICJiYXNlYmFsbCIsICJzdHlsZSI6IHsiY29sb3IiOiAiYmxhY2siLCAiZmlsbENvbG9yIjogIiNGRDhEM0MiLCAiZmlsbE9wYWNpdHkiOiAwLjYsICJvcGFjdGl5IjogMC44LCAid2VpZ2h0IjogMX0sICJ0aW1lc3RhbXAiOiAiMjAxNy0wMS0xM1QwMDozNjo1NloiLCAidHlwZSI6IG51bGwsICJ1aWQiOiAiMzg4OTY5IiwgInVzZXIiOiAiamRrcmFiYmUiLCAidmVyc2lvbiI6ICIxIiwgIndlYnNpdGUiOiBudWxsfSwgInR5cGUiOiAiRmVhdHVyZSJ9LCB7Imdlb21ldHJ5IjogeyJjb29yZGluYXRlcyI6IFtbWy0xMTMuNTIzNjkwMywgNTMuNTM1NzM3NV0sIFstMTEzLjUyMzc4MjcsIDUzLjUzNTY3NTJdLCBbLTExMy41MjM3OTgxLCA1My41MzU1ODE4XSwgWy0xMTMuNTIzNzMzNCwgNTMuNTM1NTE0MTAwMDAwMDFdLCBbLTExMy41MjM2NDEsIDUzLjUzNTQ3Ml0sIFstMTEzLjUyMzUyMDgwMDAwMDAxLCA1My41MzU0NzJdLCBbLTExMy41MjM0MDY4LCA1My41MzU1MjMyXSwgWy0xMTMuNTIzMzU3NSwgNTMuNTM1NThdLCBbLTExMy41MjMzNjY4LCA1My41MzU2NTg4XSwgWy0xMTMuNTIzNDI4NCwgNTMuNTM1NzExOV0sIFstMTEzLjUyMzU0ODYsIDUzLjUzNTc1MjFdLCBbLTExMy41MjM2OTAzLCA1My41MzU3Mzc1XV1dLCAidHlwZSI6ICJQb2x5Z29uIn0sICJpZCI6ICI3OSIsICJwcm9wZXJ0aWVzIjogeyJhZGRyOmNpdHkiOiBudWxsLCAiYWRkcjpob3VzZW51bWJlciI6IG51bGwsICJhZGRyOnBvc3Rjb2RlIjogbnVsbCwgImFkZHI6cHJvdmluY2UiOiBudWxsLCAiYWRkcjpzdHJlZXQiOiBudWxsLCAiY2hhbmdlc2V0IjogIjQ1MTIxNDYzIiwgImdvbGYiOiAiZ3JlZW4iLCAiaWQiOiAid2F5LzQ2NTU0NTI4NSIsICJsYW5kdXNlIjogImdyYXNzIiwgImxlaXN1cmUiOiAicGl0Y2giLCAibmFtZSI6ICIyIiwgIm9wZW5pbmdfaG91cnMiOiBudWxsLCAicF9hcmVhIjogOS40NzgzMzE0OTk5NTc4NWUtMDgsICJwaG9uZSI6IG51bGwsICJzb3VyY2UiOiBudWxsLCAic3BvcnQiOiAiZ29sZiIsICJzdHlsZSI6IHsiY29sb3IiOiAiYmxhY2siLCAiZmlsbENvbG9yIjogIiNGRUQ5NzYiLCAiZmlsbE9wYWNpdHkiOiAwLjYsICJvcGFjdGl5IjogMC44LCAid2VpZ2h0IjogMX0sICJ0aW1lc3RhbXAiOiAiMjAxNy0wMS0xM1QwMToxNTowMloiLCAidHlwZSI6IG51bGwsICJ1aWQiOiAiMzg4OTY5IiwgInVzZXIiOiAiamRrcmFiYmUiLCAidmVyc2lvbiI6ICIxIiwgIndlYnNpdGUiOiBudWxsfSwgInR5cGUiOiAiRmVhdHVyZSJ9LCB7Imdlb21ldHJ5IjogeyJjb29yZGluYXRlcyI6IFtbWy0xMTMuNTIxMTQ3LCA1My41MzQ4ODY2MDAwMDAwMV0sIFstMTEzLjUyMTE1NjMwMDAwMDAyLCA1My41MzQ4MTA2XSwgWy0xMTMuNTIxMTcwMSwgNTMuNTM0NzQxXSwgWy0xMTMuNTIxMTIzOSwgNTMuNTM0NjkyNTAwMDAwMDA2XSwgWy0xMTMuNTIxMDI1MzAwMDAwMDIsIDUzLjUzNDY4MTVdLCBbLTExMy41MjA5MDA1LCA1My41MzQ2ODddLCBbLTExMy41MjA4MzU4LCA1My41MzQ3NjU3XSwgWy0xMTMuNTIwNzY1LCA1My41MzQ4OTM5XSwgWy0xMTMuNTIwODA5NywgNTMuNTM0OTM3OF0sIFstMTEzLjUyMDg5NDQsIDUzLjUzNDk2MzVdLCBbLTExMy41MjEwMDUzLCA1My41MzQ5NzM1XSwgWy0xMTMuNTIxMTAyNCwgNTMuNTM0OTUyNV0sIFstMTEzLjUyMTE0NywgNTMuNTM0ODg2NjAwMDAwMDFdXV0sICJ0eXBlIjogIlBvbHlnb24ifSwgImlkIjogIjgwIiwgInByb3BlcnRpZXMiOiB7ImFkZHI6Y2l0eSI6IG51bGwsICJhZGRyOmhvdXNlbnVtYmVyIjogbnVsbCwgImFkZHI6cG9zdGNvZGUiOiBudWxsLCAiYWRkcjpwcm92aW5jZSI6IG51bGwsICJhZGRyOnN0cmVldCI6IG51bGwsICJjaGFuZ2VzZXQiOiAiNDUxMjE0NjMiLCAiZ29sZiI6ICJncmVlbiIsICJpZCI6ICJ3YXkvNDY1NTQ1MzAxIiwgImxhbmR1c2UiOiAiZ3Jhc3MiLCAibGVpc3VyZSI6ICJwaXRjaCIsICJuYW1lIjogIjExIiwgIm9wZW5pbmdfaG91cnMiOiBudWxsLCAicF9hcmVhIjogOC45OTkxMzE1MDAyMTE2M2UtMDgsICJwaG9uZSI6IG51bGwsICJzb3VyY2UiOiBudWxsLCAic3BvcnQiOiAiZ29sZiIsICJzdHlsZSI6IHsiY29sb3IiOiAiYmxhY2siLCAiZmlsbENvbG9yIjogIiNGRUQ5NzYiLCAiZmlsbE9wYWNpdHkiOiAwLjYsICJvcGFjdGl5IjogMC44LCAid2VpZ2h0IjogMX0sICJ0aW1lc3RhbXAiOiAiMjAxNy0wMS0xM1QwMToxNTowM1oiLCAidHlwZSI6IG51bGwsICJ1aWQiOiAiMzg4OTY5IiwgInVzZXIiOiAiamRrcmFiYmUiLCAidmVyc2lvbiI6ICIxIiwgIndlYnNpdGUiOiBudWxsfSwgInR5cGUiOiAiRmVhdHVyZSJ9LCB7Imdlb21ldHJ5IjogeyJjb29yZGluYXRlcyI6IFtbWy0xMTMuNTIzODc3NSwgNTMuNTM2NjY4XSwgWy0xMTMuNTIzOTUzNywgNTMuNTM2NjM3OF0sIFstMTEzLjUyMzk5OTUsIDUzLjUzNjU5MDddLCBbLTExMy41MjQwMTM3LCA1My41MzY1NDY2XSwgWy0xMTMuNTIzOTg1MiwgNTMuNTM2NDk4M10sIFstMTEzLjUyMzkyMDIsIDUzLjUzNjQ1NDhdLCBbLTExMy41MjM4MTA0LCA1My41MzY0MjIyXSwgWy0xMTMuNTIzNjk0NiwgNTMuNTM2NDI4OF0sIFstMTEzLjUyMzYxOTQsIDUzLjUzNjQ1NTRdLCBbLTExMy41MjM1NDkyLCA1My41MzY0OTY1XSwgWy0xMTMuNTIzNTE4NywgNTMuNTM2NTI3OV0sIFstMTEzLjUyMzUyNDgsIDUzLjUzNjU3NDRdLCBbLTExMy41MjM1NzY3LCA1My41MzY2MjQ2XSwgWy0xMTMuNTIzNjc3MywgNTMuNTM2NjY5M10sIFstMTEzLjUyMzc4NCwgNTMuNTM2NjgzMV0sIFstMTEzLjUyMzg3NzUsIDUzLjUzNjY2OF1dXSwgInR5cGUiOiAiUG9seWdvbiJ9LCAiaWQiOiAiODEiLCAicHJvcGVydGllcyI6IHsiYWRkcjpjaXR5IjogbnVsbCwgImFkZHI6aG91c2VudW1iZXIiOiBudWxsLCAiYWRkcjpwb3N0Y29kZSI6IG51bGwsICJhZGRyOnByb3ZpbmNlIjogbnVsbCwgImFkZHI6c3RyZWV0IjogbnVsbCwgImNoYW5nZXNldCI6ICI0NTEyMTQ2MyIsICJnb2xmIjogImdyZWVuIiwgImlkIjogIndheS80NjU1NDUzMTciLCAibGFuZHVzZSI6ICJncmFzcyIsICJsZWlzdXJlIjogInBpdGNoIiwgIm5hbWUiOiAiMTYiLCAib3BlbmluZ19ob3VycyI6IG51bGwsICJwX2FyZWEiOiA5LjUyNjY2NzQ5OTk1Njg0NWUtMDgsICJwaG9uZSI6IG51bGwsICJzb3VyY2UiOiBudWxsLCAic3BvcnQiOiAiZ29sZiIsICJzdHlsZSI6IHsiY29sb3IiOiAiYmxhY2siLCAiZmlsbENvbG9yIjogIiNGRUQ5NzYiLCAiZmlsbE9wYWNpdHkiOiAwLjYsICJvcGFjdGl5IjogMC44LCAid2VpZ2h0IjogMX0sICJ0aW1lc3RhbXAiOiAiMjAxNy0wMS0xM1QwMToxNTowNFoiLCAidHlwZSI6IG51bGwsICJ1aWQiOiAiMzg4OTY5IiwgInVzZXIiOiAiamRrcmFiYmUiLCAidmVyc2lvbiI6ICIxIiwgIndlYnNpdGUiOiBudWxsfSwgInR5cGUiOiAiRmVhdHVyZSJ9LCB7Imdlb21ldHJ5IjogeyJjb29yZGluYXRlcyI6IFtbWy0xMTMuNTI2OTQyNSwgNTMuNTM2MTU1MV0sIFstMTEzLjUyNjk3NzksIDUzLjUzNjA4ODhdLCBbLTExMy41MjY5NDYxLCA1My41MzYwMjE1XSwgWy0xMTMuNTI2ODE1MSwgNTMuNTM1OTQwNV0sIFstMTEzLjUyNjcwOSwgNTMuNTM1OTE0Ml0sIFstMTEzLjUyNjU4NTEsIDUzLjUzNTkzMjFdLCBbLTExMy41MjY1MTA4LCA1My41MzU5NzMxXSwgWy0xMTMuNTI2NDg3OCwgNTMuNTM2MDI2OF0sIFstMTEzLjUyNjUyNDksIDUzLjUzNjA5NzJdLCBbLTExMy41MjY1ODY4LCA1My41MzYxNDU2MDAwMDAwMDVdLCBbLTExMy41MjY3MDU0LCA1My41MzYxNzkzXSwgWy0xMTMuNTI2ODA2MywgNTMuNTM2MjAxNF0sIFstMTEzLjUyNjg4NTkwMDAwMDAxLCA1My41MzYxODY2MDAwMDAwMV0sIFstMTEzLjUyNjk0MjUsIDUzLjUzNjE1NTFdXV0sICJ0eXBlIjogIlBvbHlnb24ifSwgImlkIjogIjgyIiwgInByb3BlcnRpZXMiOiB7ImFkZHI6Y2l0eSI6IG51bGwsICJhZGRyOmhvdXNlbnVtYmVyIjogbnVsbCwgImFkZHI6cG9zdGNvZGUiOiBudWxsLCAiYWRkcjpwcm92aW5jZSI6IG51bGwsICJhZGRyOnN0cmVldCI6IG51bGwsICJjaGFuZ2VzZXQiOiAiNDUxMjE0NjMiLCAiZ29sZiI6ICJncmVlbiIsICJpZCI6ICJ3YXkvNDY1NTQ1Mjk0IiwgImxhbmR1c2UiOiAiZ3Jhc3MiLCAibGVpc3VyZSI6ICJwaXRjaCIsICJuYW1lIjogIjEiLCAib3BlbmluZ19ob3VycyI6IG51bGwsICJwX2FyZWEiOiA5LjkyMDUzNjUwMDEwMjY4OGUtMDgsICJwaG9uZSI6IG51bGwsICJzb3VyY2UiOiBudWxsLCAic3BvcnQiOiAiZ29sZiIsICJzdHlsZSI6IHsiY29sb3IiOiAiYmxhY2siLCAiZmlsbENvbG9yIjogIiNGRUQ5NzYiLCAiZmlsbE9wYWNpdHkiOiAwLjYsICJvcGFjdGl5IjogMC44LCAid2VpZ2h0IjogMX0sICJ0aW1lc3RhbXAiOiAiMjAxNy0wMS0xM1QwMToxNTowMloiLCAidHlwZSI6IG51bGwsICJ1aWQiOiAiMzg4OTY5IiwgInVzZXIiOiAiamRrcmFiYmUiLCAidmVyc2lvbiI6ICIxIiwgIndlYnNpdGUiOiBudWxsfSwgInR5cGUiOiAiRmVhdHVyZSJ9LCB7Imdlb21ldHJ5IjogeyJjb29yZGluYXRlcyI6IFtbWy0xMTMuNTExOTQxNiwgNTMuNTM3MTE5OV0sIFstMTEzLjUxMTkzODcsIDUzLjUzNjk1NjldLCBbLTExMy41MTEzOTE0LCA1My41MzY5NjAzXSwgWy0xMTMuNTExMzk0MywgNTMuNTM3MTIzM10sIFstMTEzLjUxMTk0MTYsIDUzLjUzNzExOTldXV0sICJ0eXBlIjogIlBvbHlnb24ifSwgImlkIjogIjgzIiwgInByb3BlcnRpZXMiOiB7ImFkZHI6Y2l0eSI6IG51bGwsICJhZGRyOmhvdXNlbnVtYmVyIjogbnVsbCwgImFkZHI6cG9zdGNvZGUiOiBudWxsLCAiYWRkcjpwcm92aW5jZSI6IG51bGwsICJhZGRyOnN0cmVldCI6IG51bGwsICJjaGFuZ2VzZXQiOiAiNDQ2NTI2NTQiLCAiZ29sZiI6IG51bGwsICJpZCI6ICJ3YXkvNDYxNjI1NDYyIiwgImxhbmR1c2UiOiBudWxsLCAibGVpc3VyZSI6ICJwbGF5Z3JvdW5kIiwgIm5hbWUiOiBudWxsLCAib3BlbmluZ19ob3VycyI6IG51bGwsICJwX2FyZWEiOiA4LjkyMTk3NjAwMDA0NzY2NWUtMDgsICJwaG9uZSI6IG51bGwsICJzb3VyY2UiOiBudWxsLCAic3BvcnQiOiBudWxsLCAic3R5bGUiOiB7ImNvbG9yIjogImJsYWNrIiwgImZpbGxDb2xvciI6ICIjRkVEOTc2IiwgImZpbGxPcGFjaXR5IjogMC42LCAib3BhY3RpeSI6IDAuOCwgIndlaWdodCI6IDF9LCAidGltZXN0YW1wIjogIjIwMTYtMTItMjRUMjI6MDI6MzNaIiwgInR5cGUiOiBudWxsLCAidWlkIjogIjM4NDg5NTUiLCAidXNlciI6ICJNZXNvd2hpdGUiLCAidmVyc2lvbiI6ICIxIiwgIndlYnNpdGUiOiBudWxsfSwgInR5cGUiOiAiRmVhdHVyZSJ9LCB7Imdlb21ldHJ5IjogeyJjb29yZGluYXRlcyI6IFtbWy0xMTMuNTMzMTQwNywgNTMuNTM3NjA2OV0sIFstMTEzLjUzMjg0NiwgNTMuNTM3NjI0N10sIFstMTEzLjUzMjI0NDIsIDUzLjUzNzcxMzddLCBbLTExMy41MzIyNTA1LCA1My41Mzc3MTY4XSwgWy0xMTMuNTMyMDcwNzAwMDAwMDIsIDUzLjUzNzc1MTVdLCBbLTExMy41MzE5MTE5LCA1My41Mzc4MDAxXSwgWy0xMTMuNTMxNjM2NCwgNTMuNTM3OTEyNV0sIFstMTEzLjUzMTMyNTgsIDUzLjUzODA2NTFdLCBbLTExMy41MzEwNjY2LCA1My41MzgxOTk3MDAwMDAwMV0sIFstMTEzLjUzMDg1MTYsIDUzLjUzODMxMzRdLCBbLTExMy41MzE2MTg3LCA1My41Mzk2MzE2XSwgWy0xMTMuNTMxNjkzOCwgNTMuNTM5NzAwMV0sIFstMTEzLjUzMzc5NjYsIDUzLjUzOTc5ODldLCBbLTExMy41MzM3OTkzLCA1My41Mzk3MDk3XSwgWy0xMTMuNTMzMTQwNywgNTMuNTM3Nzg1NF0sIFstMTEzLjUzMzE0MDcsIDUzLjUzNzYwNjldXV0sICJ0eXBlIjogIlBvbHlnb24ifSwgImlkIjogIjg0IiwgInByb3BlcnRpZXMiOiB7ImFkZHI6Y2l0eSI6IG51bGwsICJhZGRyOmhvdXNlbnVtYmVyIjogbnVsbCwgImFkZHI6cG9zdGNvZGUiOiBudWxsLCAiYWRkcjpwcm92aW5jZSI6IG51bGwsICJhZGRyOnN0cmVldCI6IG51bGwsICJjaGFuZ2VzZXQiOiAiNDUxMjA5OTkiLCAiZ29sZiI6IG51bGwsICJpZCI6ICJ3YXkvNDY1NTQyNjUzIiwgImxhbmR1c2UiOiBudWxsLCAibGVpc3VyZSI6ICJwaXRjaCIsICJuYW1lIjogIkRyaXZpbmcgUmFuZ2UiLCAib3BlbmluZ19ob3VycyI6IG51bGwsICJwX2FyZWEiOiA0LjQwOTg1ODY1MDAwMTY3OGUtMDYsICJwaG9uZSI6IG51bGwsICJzb3VyY2UiOiBudWxsLCAic3BvcnQiOiAiZ29sZiIsICJzdHlsZSI6IHsiY29sb3IiOiAiYmxhY2siLCAiZmlsbENvbG9yIjogIiNGQzRFMkEiLCAiZmlsbE9wYWNpdHkiOiAwLjYsICJvcGFjdGl5IjogMC44LCAid2VpZ2h0IjogMX0sICJ0aW1lc3RhbXAiOiAiMjAxNy0wMS0xM1QwMDozNjo1NloiLCAidHlwZSI6IG51bGwsICJ1aWQiOiAiMzg4OTY5IiwgInVzZXIiOiAiamRrcmFiYmUiLCAidmVyc2lvbiI6ICIxIiwgIndlYnNpdGUiOiBudWxsfSwgInR5cGUiOiAiRmVhdHVyZSJ9LCB7Imdlb21ldHJ5IjogeyJjb29yZGluYXRlcyI6IFtbWy0xMTMuNTMxNDIwMiwgNTMuNTM1NzM2XSwgWy0xMTMuNTMxMTg0OSwgNTMuNTM1NzEzOV0sIFstMTEzLjUzMTEwNywgNTMuNTM1NzMyOF0sIFstMTEzLjUzMTA1MzksIDUzLjUzNTc4NTRdLCBbLTExMy41MzEwNTIyLCA1My41MzU4NTE3XSwgWy0xMTMuNTMxMTI2NSwgNTMuNTM1OTAzMl0sIFstMTEzLjUzMTIzOCwgNTMuNTM1OTM4OV0sIFstMTEzLjUzMTM2MzYsIDUzLjUzNTkyODRdLCBbLTExMy41MzE0NTk0LCA1My41MzU4OTAyXSwgWy0xMTMuNTMxNDk4MSwgNTMuNTM1ODM2OV0sIFstMTEzLjUzMTQ5MjgwMDAwMDAxLCA1My41MzU3NzddLCBbLTExMy41MzE0NjYzMDAwMDAwMiwgNTMuNTM1NzUyOF0sIFstMTEzLjUzMTQyMDIsIDUzLjUzNTczNl1dXSwgInR5cGUiOiAiUG9seWdvbiJ9LCAiaWQiOiAiODUiLCAicHJvcGVydGllcyI6IHsiYWRkcjpjaXR5IjogbnVsbCwgImFkZHI6aG91c2VudW1iZXIiOiBudWxsLCAiYWRkcjpwb3N0Y29kZSI6IG51bGwsICJhZGRyOnByb3ZpbmNlIjogbnVsbCwgImFkZHI6c3RyZWV0IjogbnVsbCwgImNoYW5nZXNldCI6ICI0NTEyMTQ2MyIsICJnb2xmIjogImdyZWVuIiwgImlkIjogIndheS80NjU1NDUyNzkiLCAibGFuZHVzZSI6ICJncmFzcyIsICJsZWlzdXJlIjogInBpdGNoIiwgIm5hbWUiOiAiNCIsICJvcGVuaW5nX2hvdXJzIjogbnVsbCwgInBfYXJlYSI6IDcuODE5NTQwNDk5OTU3NDY1ZS0wOCwgInBob25lIjogbnVsbCwgInNvdXJjZSI6IG51bGwsICJzcG9ydCI6ICJnb2xmIiwgInN0eWxlIjogeyJjb2xvciI6ICJibGFjayIsICJmaWxsQ29sb3IiOiAiI0ZGRkZCMiIsICJmaWxsT3BhY2l0eSI6IDAuNiwgIm9wYWN0aXkiOiAwLjgsICJ3ZWlnaHQiOiAxfSwgInRpbWVzdGFtcCI6ICIyMDE3LTAxLTEzVDAxOjE1OjAxWiIsICJ0eXBlIjogbnVsbCwgInVpZCI6ICIzODg5NjkiLCAidXNlciI6ICJqZGtyYWJiZSIsICJ2ZXJzaW9uIjogIjEiLCAid2Vic2l0ZSI6IG51bGx9LCAidHlwZSI6ICJGZWF0dXJlIn0sIHsiZ2VvbWV0cnkiOiB7ImNvb3JkaW5hdGVzIjogW1tbLTExMy41MTk2NzM4LCA1My41MzQzNzUyXSwgWy0xMTMuNTE5ODQxOSwgNTMuNTM0MzYwNV0sIFstMTEzLjUxOTk0NDUsIDUzLjUzNDMyNDddLCBbLTExMy41MTk5OTA1MDAwMDAwMiwgNTMuNTM0MjYyN10sIFstMTEzLjUxOTk4NCwgNTMuNTM0MjA2MV0sIFstMTEzLjUxOTkwMzgsIDUzLjUzNDE2MjddLCBbLTExMy41MTk3ODE3LCA1My41MzQxMzIyXSwgWy0xMTMuNTE5NjEwMSwgNTMuNTM0MTMwMTAwMDAwMDA2XSwgWy0xMTMuNTE5NDkxNSwgNTMuNTM0MTc0MzAwMDAwMDA0XSwgWy0xMTMuNTE5NDE3MiwgNTMuNTM0MjEzMl0sIFstMTEzLjUxOTM3NjUwMDAwMDAyLCA1My41MzQyOTExXSwgWy0xMTMuNTE5NDQyLCA1My41MzQzMzQyXSwgWy0xMTMuNTE5NjczOCwgNTMuNTM0Mzc1Ml1dXSwgInR5cGUiOiAiUG9seWdvbiJ9LCAiaWQiOiAiODYiLCAicHJvcGVydGllcyI6IHsiYWRkcjpjaXR5IjogbnVsbCwgImFkZHI6aG91c2VudW1iZXIiOiBudWxsLCAiYWRkcjpwb3N0Y29kZSI6IG51bGwsICJhZGRyOnByb3ZpbmNlIjogbnVsbCwgImFkZHI6c3RyZWV0IjogbnVsbCwgImNoYW5nZXNldCI6ICI0NTEyMTQ2MyIsICJnb2xmIjogImdyZWVuIiwgImlkIjogIndheS80NjU1NDUzMTEiLCAibGFuZHVzZSI6ICJncmFzcyIsICJsZWlzdXJlIjogInBpdGNoIiwgIm5hbWUiOiAiMTQiLCAib3BlbmluZ19ob3VycyI6IG51bGwsICJwX2FyZWEiOiAxLjEzNjY0MDY0OTk4NjY0OTdlLTA3LCAicGhvbmUiOiBudWxsLCAic291cmNlIjogbnVsbCwgInNwb3J0IjogImdvbGYiLCAic3R5bGUiOiB7ImNvbG9yIjogImJsYWNrIiwgImZpbGxDb2xvciI6ICIjRkVEOTc2IiwgImZpbGxPcGFjaXR5IjogMC42LCAib3BhY3RpeSI6IDAuOCwgIndlaWdodCI6IDF9LCAidGltZXN0YW1wIjogIjIwMTctMDEtMTNUMDE6MTU6MDRaIiwgInR5cGUiOiBudWxsLCAidWlkIjogIjM4ODk2OSIsICJ1c2VyIjogImpka3JhYmJlIiwgInZlcnNpb24iOiAiMSIsICJ3ZWJzaXRlIjogbnVsbH0sICJ0eXBlIjogIkZlYXR1cmUifSwgeyJnZW9tZXRyeSI6IHsiY29vcmRpbmF0ZXMiOiBbW1stMTEzLjUzMDk4MjUsIDUzLjUzODk1ODVdLCBbLTExMy41MzEwMTUyLCA1My41Mzg5MDU4XSwgWy0xMTMuNTMwOTYxNSwgNTMuNTM4ODI2N10sIFstMTEzLjUzMDg5MzgsIDUzLjUzODcxODUwMDAwMDAxXSwgWy0xMTMuNTMwODYzNCwgNTMuNTM4NjY0NF0sIFstMTEzLjUzMDgwOTcsIDUzLjUzODY1MzNdLCBbLTExMy41MzA3NTgzLCA1My41Mzg2NjcxXSwgWy0xMTMuNTMwNzM3MzAwMDAwMDEsIDUzLjUzODY5MzVdLCBbLTExMy41MzA3MjU2LCA1My41Mzg3NTczXSwgWy0xMTMuNTMwNjgzNiwgNTMuNTM4ODA0NV0sIFstMTEzLjUzMDYwODksIDUzLjUzODg0NDhdLCBbLTExMy41MzA1ODU1LCA1My41Mzg4ODkyXSwgWy0xMTMuNTMwNjA0MiwgNTMuNTM4OTMzNl0sIFstMTEzLjUzMDY2MjYsIDUzLjUzODk1ODVdLCBbLTExMy41MzA3NzQ3LCA1My41Mzg5NjgzXSwgWy0xMTMuNTMwODY1NywgNTMuNTM4OTg0OV0sIFstMTEzLjUzMDk0MDUsIDUzLjUzODk4MDddLCBbLTExMy41MzA5ODI1LCA1My41Mzg5NTg1XV1dLCAidHlwZSI6ICJQb2x5Z29uIn0sICJpZCI6ICI4NyIsICJwcm9wZXJ0aWVzIjogeyJhZGRyOmNpdHkiOiBudWxsLCAiYWRkcjpob3VzZW51bWJlciI6IG51bGwsICJhZGRyOnBvc3Rjb2RlIjogbnVsbCwgImFkZHI6cHJvdmluY2UiOiBudWxsLCAiYWRkcjpzdHJlZXQiOiBudWxsLCAiY2hhbmdlc2V0IjogIjQ1MTIxNDYzIiwgImdvbGYiOiAiZ3JlZW4iLCAiaWQiOiAid2F5LzQ2NTU0NTI3MiIsICJsYW5kdXNlIjogImdyYXNzIiwgImxlaXN1cmUiOiAicGl0Y2giLCAibmFtZSI6IG51bGwsICJvcGVuaW5nX2hvdXJzIjogbnVsbCwgInBfYXJlYSI6IDguNzI2MDUwMDAwMDQyNTI3ZS0wOCwgInBob25lIjogbnVsbCwgInNvdXJjZSI6IG51bGwsICJzcG9ydCI6ICJnb2xmIiwgInN0eWxlIjogeyJjb2xvciI6ICJibGFjayIsICJmaWxsQ29sb3IiOiAiI0ZFRDk3NiIsICJmaWxsT3BhY2l0eSI6IDAuNiwgIm9wYWN0aXkiOiAwLjgsICJ3ZWlnaHQiOiAxfSwgInRpbWVzdGFtcCI6ICIyMDE3LTAxLTEzVDAxOjE1OjAxWiIsICJ0eXBlIjogbnVsbCwgInVpZCI6ICIzODg5NjkiLCAidXNlciI6ICJqZGtyYWJiZSIsICJ2ZXJzaW9uIjogIjEiLCAid2Vic2l0ZSI6IG51bGx9LCAidHlwZSI6ICJGZWF0dXJlIn0sIHsiZ2VvbWV0cnkiOiB7ImNvb3JkaW5hdGVzIjogW1tbLTExMy41MjgwODc1LCA1My41MzU3MTA4MDAwMDAwMDRdLCBbLTExMy41MjgxNDQ1LCA1My41MzU2NDc3MDAwMDAwMDVdLCBbLTExMy41MjgxNTg0LCA1My41MzU1ODYzXSwgWy0xMTMuNTI4MTQ3NiwgNTMuNTM1NTQ2OV0sIFstMTEzLjUyODA5OTgsIDUzLjUzNTUzMjNdLCBbLTExMy41MjgwMzA1LCA1My41MzU1Mjg2XSwgWy0xMTMuNTI3ODk5NiwgNTMuNTM1NTAxMl0sIFstMTEzLjUyNzc5NzksIDUzLjUzNTQ4OTNdLCBbLTExMy41Mjc3MTkzLCA1My41MzU0ODc0XSwgWy0xMTMuNTI3NjY1NCwgNTMuNTM1NTE2N10sIFstMTEzLjUyNzY0NTQsIDUzLjUzNTU1N10sIFstMTEzLjUyNzY3LCA1My41MzU2MjM5XSwgWy0xMTMuNTI3NzUzMiwgNTMuNTM1NjgwNl0sIFstMTEzLjUyNzgzOTUsIDUzLjUzNTcyMzZdLCBbLTExMy41Mjc5MzA0LCA1My41MzU3NDM4XSwgWy0xMTMuNTI4MDIyODAwMDAwMDIsIDUzLjUzNTc0Ml0sIFstMTEzLjUyODA4NzUsIDUzLjUzNTcxMDgwMDAwMDAwNF1dXSwgInR5cGUiOiAiUG9seWdvbiJ9LCAiaWQiOiAiODgiLCAicHJvcGVydGllcyI6IHsiYWRkcjpjaXR5IjogbnVsbCwgImFkZHI6aG91c2VudW1iZXIiOiBudWxsLCAiYWRkcjpwb3N0Y29kZSI6IG51bGwsICJhZGRyOnByb3ZpbmNlIjogbnVsbCwgImFkZHI6c3RyZWV0IjogbnVsbCwgImNoYW5nZXNldCI6ICI0NTEyMTQ2MyIsICJnb2xmIjogImdyZWVuIiwgImlkIjogIndheS80NjU1NDUyODgiLCAibGFuZHVzZSI6ICJncmFzcyIsICJsZWlzdXJlIjogInBpdGNoIiwgIm5hbWUiOiAiOCIsICJvcGVuaW5nX2hvdXJzIjogbnVsbCwgInBfYXJlYSI6IDkuNjM5MDkzNDk5ODA0Nzc0ZS0wOCwgInBob25lIjogbnVsbCwgInNvdXJjZSI6IG51bGwsICJzcG9ydCI6ICJnb2xmIiwgInN0eWxlIjogeyJjb2xvciI6ICJibGFjayIsICJmaWxsQ29sb3IiOiAiI0ZFRDk3NiIsICJmaWxsT3BhY2l0eSI6IDAuNiwgIm9wYWN0aXkiOiAwLjgsICJ3ZWlnaHQiOiAxfSwgInRpbWVzdGFtcCI6ICIyMDE3LTAxLTEzVDAxOjE1OjAyWiIsICJ0eXBlIjogbnVsbCwgInVpZCI6ICIzODg5NjkiLCAidXNlciI6ICJqZGtyYWJiZSIsICJ2ZXJzaW9uIjogIjEiLCAid2Vic2l0ZSI6IG51bGx9LCAidHlwZSI6ICJGZWF0dXJlIn0sIHsiZ2VvbWV0cnkiOiB7ImNvb3JkaW5hdGVzIjogW1tbLTExMy41MjAxOTE0LCA1My41MzM5NTY0XSwgWy0xMTMuNTIwMjM1NywgNTMuNTMzOTE0MTAwMDAwMDA0XSwgWy0xMTMuNTIwMjM1NywgNTMuNTMzODYxNV0sIFstMTEzLjUyMDIwNzUwMDAwMDAxLCA1My41MzM4MDY1XSwgWy0xMTMuNTIwMTU5MiwgNTMuNTMzNzc2Ml0sIFstMTEzLjUyMDAzODUsIDUzLjUzMzc2MzVdLCBbLTExMy41MTk5NSwgNTMuNTMzNzc0Nl0sIFstMTEzLjUxOTg2NTUwMDAwMDAxLCA1My41MzM4MDQ5XSwgWy0xMTMuNTE5ODA2NSwgNTMuNTMzODQzMl0sIFstMTEzLjUxOTc4NzcsIDUzLjUzMzg5MTgwMDAwMDAwNl0sIFstMTEzLjUxOTgyMTMsIDUzLjUzMzkzODhdLCBbLTExMy41MTk4NjE1MDAwMDAwMiwgNTMuNTMzOTY3NV0sIFstMTEzLjUxOTkxOTIsIDUzLjUzMzk3NzFdLCBbLTExMy41MTk5NzY4MDAwMDAwMSwgNTMuNTMzOTU1Nl0sIFstMTEzLjUyMDAzMTgsIDUzLjUzMzk1XSwgWy0xMTMuNTIwMDc0NywgNTMuNTMzOTY3NV0sIFstMTEzLjUyMDEzNTEsIDUzLjUzMzk3MjNdLCBbLTExMy41MjAxOTE0LCA1My41MzM5NTY0XV1dLCAidHlwZSI6ICJQb2x5Z29uIn0sICJpZCI6ICI4OSIsICJwcm9wZXJ0aWVzIjogeyJhZGRyOmNpdHkiOiBudWxsLCAiYWRkcjpob3VzZW51bWJlciI6IG51bGwsICJhZGRyOnBvc3Rjb2RlIjogbnVsbCwgImFkZHI6cHJvdmluY2UiOiBudWxsLCAiYWRkcjpzdHJlZXQiOiBudWxsLCAiY2hhbmdlc2V0IjogIjQ1MTIxNDYzIiwgImdvbGYiOiAiZ3JlZW4iLCAiaWQiOiAid2F5LzQ2NTU0NTMwNCIsICJsYW5kdXNlIjogImdyYXNzIiwgImxlaXN1cmUiOiAicGl0Y2giLCAibmFtZSI6ICIxMiIsICJvcGVuaW5nX2hvdXJzIjogbnVsbCwgInBfYXJlYSI6IDcuNDI5MDM0NTAwMDc4MTI0ZS0wOCwgInBob25lIjogbnVsbCwgInNvdXJjZSI6IG51bGwsICJzcG9ydCI6ICJnb2xmIiwgInN0eWxlIjogeyJjb2xvciI6ICJibGFjayIsICJmaWxsQ29sb3IiOiAiI0ZGRkZCMiIsICJmaWxsT3BhY2l0eSI6IDAuNiwgIm9wYWN0aXkiOiAwLjgsICJ3ZWlnaHQiOiAxfSwgInRpbWVzdGFtcCI6ICIyMDE3LTAxLTEzVDAxOjE1OjAzWiIsICJ0eXBlIjogbnVsbCwgInVpZCI6ICIzODg5NjkiLCAidXNlciI6ICJqZGtyYWJiZSIsICJ2ZXJzaW9uIjogIjEiLCAid2Vic2l0ZSI6IG51bGx9LCAidHlwZSI6ICJGZWF0dXJlIn1dLCAidHlwZSI6ICJGZWF0dXJlQ29sbGVjdGlvbiJ9KQogICAgICAgICAgICAgICAgICAgIC5hZGRUbyhtYXBfZjUyN2M1MzlmYzhhNGQxNTkxMjk5Yjg3YmFhYjQzNjYpOwogICAgICAgICAgICAgICAgZ2VvX2pzb25fNTdjYmRkMWIzMzZlNGUxYzgzN2E2MjAzZmJjMmJkZTcuc2V0U3R5bGUoZnVuY3Rpb24oZmVhdHVyZSkge3JldHVybiBmZWF0dXJlLnByb3BlcnRpZXMuc3R5bGU7fSk7CiAgICAgICAgICAgIAogICAgICAgIAogICAgICAgICAgICAKICAgIHZhciBjb2xvcl9tYXBfZjczODllNTk2MjRlNDYxMjk5NThjZTY2NzBhYzljMjIgPSB7fTsKCiAgICAKICAgIGNvbG9yX21hcF9mNzM4OWU1OTYyNGU0NjEyOTk1OGNlNjY3MGFjOWMyMi5jb2xvciA9IGQzLnNjYWxlLnRocmVzaG9sZCgpCiAgICAgICAgICAgICAgLmRvbWFpbihbOC4zMjg1ODYwMDAwMzEyNTllLTA4LCAzLjc3OTA2MjI1NzIxNzIzNmUtMDcsIDYuNzI1MjY1OTE0NDMxMzQ3ZS0wNywgOS42NzE0Njk1NzE2NDU0NTllLTA3LCAxLjI2MTc2NzMyMjg4NTk1NjhlLTA2LCAxLjU1NjM4NzY4ODYwNzM2NzhlLTA2LCAxLjg1MTAwODA1NDMyODc3OTJlLTA2LCAyLjE0NTYyODQyMDA1MDE5ZS0wNiwgMi40NDAyNDg3ODU3NzE2MDFlLTA2LCAyLjczNDg2OTE1MTQ5MzAxMmUtMDYsIDMuMDI5NDg5NTE3MjE0NDIzZS0wNiwgMy4zMjQxMDk4ODI5MzU4MzRlLTA2LCAzLjYxODczMDI0ODY1NzI0NTdlLTA2LCAzLjkxMzM1MDYxNDM3ODY1NmUtMDYsIDQuMjA3OTcwOTgwMTAwMDY3ZS0wNiwgNC41MDI1OTEzNDU4MjE0NzhlLTA2LCA0Ljc5NzIxMTcxMTU0Mjg4OWUtMDYsIDUuMDkxODMyMDc3MjY0M2UtMDYsIDUuMzg2NDUyNDQyOTg1NzExZS0wNiwgNS42ODEwNzI4MDg3MDcxMjJlLTA2LCA1Ljk3NTY5MzE3NDQyODUzM2UtMDYsIDYuMjcwMzEzNTQwMTQ5OTQ0ZS0wNiwgNi41NjQ5MzM5MDU4NzEzNTVlLTA2LCA2Ljg1OTU1NDI3MTU5Mjc2NjVlLTA2LCA3LjE1NDE3NDYzNzMxNDE3OGUtMDYsIDcuNDQ4Nzk1MDAzMDM1NTg5ZS0wNiwgNy43NDM0MTUzNjg3NTdlLTA2LCA4LjAzODAzNTczNDQ3ODQxZS0wNiwgOC4zMzI2NTYxMDAxOTk4MjJlLTA2LCA4LjYyNzI3NjQ2NTkyMTIzMmUtMDYsIDguOTIxODk2ODMxNjQyNjQ0ZS0wNiwgOS4yMTY1MTcxOTczNjQwNTZlLTA2LCA5LjUxMTEzNzU2MzA4NTQ2NmUtMDYsIDkuODA1NzU3OTI4ODA2ODc4ZS0wNiwgMS4wMTAwMzc4Mjk0NTI4Mjg4ZS0wNSwgMS4wMzk0OTk4NjYwMjQ5N2UtMDUsIDEuMDY4OTYxOTAyNTk3MTExZS0wNSwgMS4wOTg0MjM5MzkxNjkyNTIyZS0wNSwgMS4xMjc4ODU5NzU3NDEzOTMyZS0wNSwgMS4xNTczNDgwMTIzMTM1MzQzZS0wNSwgMS4xODY4MTAwNDg4ODU2NzUzZS0wNSwgMS4yMTYyNzIwODU0NTc4MTY1ZS0wNSwgMS4yNDU3MzQxMjIwMjk5NTc1ZS0wNSwgMS4yNzUxOTYxNTg2MDIwOTg3ZS0wNSwgMS4zMDQ2NTgxOTUxNzQyMzk3ZS0wNSwgMS4zMzQxMjAyMzE3NDYzODA5ZS0wNSwgMS4zNjM1ODIyNjgzMTg1MjIxZS0wNSwgMS4zOTMwNDQzMDQ4OTA2NjMxZS0wNSwgMS40MjI1MDYzNDE0NjI4MDQ0ZS0wNSwgMS40NTE5NjgzNzgwMzQ5NDU1ZS0wNSwgMS40ODE0MzA0MTQ2MDcwODY2ZS0wNSwgMS41MTA4OTI0NTExNzkyMjc2ZS0wNSwgMS41NDAzNTQ0ODc3NTEzNjg4ZS0wNSwgMS41Njk4MTY1MjQzMjM1MWUtMDUsIDEuNTk5Mjc4NTYwODk1NjUxZS0wNSwgMS42Mjg3NDA1OTc0Njc3OTJlLTA1LCAxLjY1ODIwMjYzNDAzOTkzMzJlLTA1LCAxLjY4NzY2NDY3MDYxMjA3NDJlLTA1LCAxLjcxNzEyNjcwNzE4NDIxNTJlLTA1LCAxLjc0NjU4ODc0Mzc1NjM1NjJlLTA1LCAxLjc3NjA1MDc4MDMyODQ5NzZlLTA1LCAxLjgwNTUxMjgxNjkwMDYzODZlLTA1LCAxLjgzNDk3NDg1MzQ3Mjc4ZS0wNSwgMS44NjQ0MzY4OTAwNDQ5MjA2ZS0wNSwgMS44OTM4OTg5MjY2MTcwNjJlLTA1LCAxLjkyMzM2MDk2MzE4OTIwMzNlLTA1LCAxLjk1MjgyMjk5OTc2MTM0NDNlLTA1LCAxLjk4MjI4NTAzNjMzMzQ4NTNlLTA1LCAyLjAxMTc0NzA3MjkwNTYyNjNlLTA1LCAyLjA0MTIwOTEwOTQ3Nzc2NzdlLTA1LCAyLjA3MDY3MTE0NjA0OTkwODdlLTA1LCAyLjEwMDEzMzE4MjYyMjA0OTdlLTA1LCAyLjEyOTU5NTIxOTE5NDE5MDdlLTA1LCAyLjE1OTA1NzI1NTc2NjMzMmUtMDUsIDIuMTg4NTE5MjkyMzM4NDczZS0wNSwgMi4yMTc5ODEzMjg5MTA2MTQ0ZS0wNSwgMi4yNDc0NDMzNjU0ODI3NTVlLTA1LCAyLjI3NjkwNTQwMjA1NDg5NjRlLTA1LCAyLjMwNjM2NzQzODYyNzAzNzVlLTA1LCAyLjMzNTgyOTQ3NTE5OTE3ODhlLTA1LCAyLjM2NTI5MTUxMTc3MTMxOTVlLTA1LCAyLjM5NDc1MzU0ODM0MzQ2MDhlLTA1LCAyLjQyNDIxNTU4NDkxNTYwMmUtMDUsIDIuNDUzNjc3NjIxNDg3NzQzMmUtMDUsIDIuNDgzMTM5NjU4MDU5ODg0ZS0wNSwgMi41MTI2MDE2OTQ2MzIwMjUyZS0wNSwgMi41NDIwNjM3MzEyMDQxNjYyZS0wNSwgMi41NzE1MjU3Njc3NzYzMDc2ZS0wNSwgMi42MDA5ODc4MDQzNDg0NDgyZS0wNSwgMi42MzA0NDk4NDA5MjA1ODk2ZS0wNSwgMi42NTk5MTE4Nzc0OTI3MzA2ZS0wNSwgMi42ODkzNzM5MTQwNjQ4NzJlLTA1LCAyLjcxODgzNTk1MDYzNzAxM2UtMDUsIDIuNzQ4Mjk3OTg3MjA5MTU0ZS0wNSwgMi43Nzc3NjAwMjM3ODEyOTVlLTA1LCAyLjgwNzIyMjA2MDM1MzQzNjNlLTA1LCAyLjgzNjY4NDA5NjkyNTU3NzdlLTA1LCAyLjg2NjE0NjEzMzQ5NzcxODNlLTA1LCAyLjg5NTYwODE3MDA2OTg1OTdlLTA1LCAyLjkyNTA3MDIwNjY0MjAwMDdlLTA1LCAyLjk1NDUzMjI0MzIxNDE0MmUtMDUsIDIuOTgzOTk0Mjc5Nzg2MjgyN2UtMDUsIDMuMDEzNDU2MzE2MzU4NDI0ZS0wNSwgMy4wNDI5MTgzNTI5MzA1NjVlLTA1LCAzLjA3MjM4MDM4OTUwMjcwN2UtMDUsIDMuMTAxODQyNDI2MDc0ODQ3NGUtMDUsIDMuMTMxMzA0NDYyNjQ2OTg5ZS0wNSwgMy4xNjA3NjY0OTkyMTkxM2UtMDUsIDMuMTkwMjI4NTM1NzkxMjcxZS0wNSwgMy4yMTk2OTA1NzIzNjM0MTJlLTA1LCAzLjI0OTE1MjYwODkzNTU1M2UtMDUsIDMuMjc4NjE0NjQ1NTA3Njk0ZS0wNSwgMy4zMDgwNzY2ODIwNzk4MzU1ZS0wNSwgMy4zMzc1Mzg3MTg2NTE5NzdlLTA1LCAzLjM2NzAwMDc1NTIyNDExNzVlLTA1LCAzLjM5NjQ2Mjc5MTc5NjI1OWUtMDUsIDMuNDI1OTI0ODI4MzY4Mzk5NmUtMDUsIDMuNDU1Mzg2ODY0OTQwNTQxZS0wNSwgMy40ODQ4NDg5MDE1MTI2ODE2ZS0wNSwgMy41MTQzMTA5MzgwODQ4MjNlLTA1LCAzLjU0Mzc3Mjk3NDY1Njk2NGUtMDUsIDMuNTczMjM1MDExMjI5MTA1NmUtMDUsIDMuNjAyNjk3MDQ3ODAxMjQ2ZS0wNSwgMy42MzIxNTkwODQzNzMzODc3ZS0wNSwgMy42NjE2MjExMjA5NDU1MjllLTA1LCAzLjY5MTA4MzE1NzUxNzY3ZS0wNSwgMy43MjA1NDUxOTQwODk4MTAzZS0wNSwgMy43NTAwMDcyMzA2NjE5NTJlLTA1LCAzLjc3OTQ2OTI2NzIzNDA5M2UtMDUsIDMuODA4OTMxMzAzODA2MjM0NGUtMDUsIDMuODM4MzkzMzQwMzc4Mzc2ZS0wNSwgMy44Njc4NTUzNzY5NTA1MTY0ZS0wNSwgMy44OTczMTc0MTM1MjI2NThlLTA1LCAzLjkyNjc3OTQ1MDA5NDc5OWUtMDUsIDMuOTU2MjQxNDg2NjY2OTRlLTA1LCAzLjk4NTcwMzUyMzIzOTA4MDVlLTA1LCA0LjAxNTE2NTU1OTgxMTIyMmUtMDUsIDQuMDQ0NjI3NTk2MzgzMzYzZS0wNSwgNC4wNzQwODk2MzI5NTU1MDQ1ZS0wNSwgNC4xMDM1NTE2Njk1Mjc2NDVlLTA1LCA0LjEzMzAxMzcwNjA5OTc4NjVlLTA1LCA0LjE2MjQ3NTc0MjY3MTkyOGUtMDUsIDQuMTkxOTM3Nzc5MjQ0MDY4NWUtMDUsIDQuMjIxMzk5ODE1ODE2MjA5ZS0wNSwgNC4yNTA4NjE4NTIzODgzNTA2ZS0wNSwgNC4yODAzMjM4ODg5NjA0OTJlLTA1LCA0LjMwOTc4NTkyNTUzMjYzM2UtMDUsIDQuMzM5MjQ3OTYyMTA0Nzc0ZS0wNSwgNC4zNjg3MDk5OTg2NzY5MTVlLTA1LCA0LjM5ODE3MjAzNTI0OTA1NjZlLTA1LCA0LjQyNzYzNDA3MTgyMTE5OGUtMDUsIDQuNDU3MDk2MTA4MzkzMzM4ZS0wNSwgNC40ODY1NTgxNDQ5NjU0NzllLTA1LCA0LjUxNjAyMDE4MTUzNzYyMWUtMDUsIDQuNTQ1NDgyMjE4MTA5NzYyZS0wNSwgNC41NzQ5NDQyNTQ2ODE5MDNlLTA1LCA0LjYwNDQwNjI5MTI1NDA0NGUtMDUsIDQuNjMzODY4MzI3ODI2MTg1NGUtMDUsIDQuNjYzMzMwMzY0Mzk4MzI3ZS0wNSwgNC42OTI3OTI0MDA5NzA0NjdlLTA1LCA0LjcyMjI1NDQzNzU0MjYwOGUtMDUsIDQuNzUxNzE2NDc0MTE0NzQ5NGUtMDUsIDQuNzgxMTc4NTEwNjg2ODkxZS0wNSwgNC44MTA2NDA1NDcyNTkwMzJlLTA1LCA0Ljg0MDEwMjU4MzgzMTE3M2UtMDUsIDQuODY5NTY0NjIwNDAzMzE0ZS0wNSwgNC44OTkwMjY2NTY5NzU0NTU1ZS0wNSwgNC45Mjg0ODg2OTM1NDc1OTdlLTA1LCA0Ljk1Nzk1MDczMDExOTczN2UtMDUsIDQuOTg3NDEyNzY2NjkxODc4ZS0wNSwgNS4wMTY4NzQ4MDMyNjQwMTk1ZS0wNSwgNS4wNDYzMzY4Mzk4MzYxNjFlLTA1LCA1LjA3NTc5ODg3NjQwODMwMTZlLTA1LCA1LjEwNTI2MDkxMjk4MDQ0M2UtMDUsIDUuMTM0NzIyOTQ5NTUyNTg0ZS0wNSwgNS4xNjQxODQ5ODYxMjQ3MjU2ZS0wNSwgNS4xOTM2NDcwMjI2OTY4NjU2ZS0wNSwgNS4yMjMxMDkwNTkyNjkwMDdlLTA1LCA1LjI1MjU3MTA5NTg0MTE0OGUtMDUsIDUuMjgyMDMzMTMyNDEzMjg5NmUtMDUsIDUuMzExNDk1MTY4OTg1NDNlLTA1LCA1LjM0MDk1NzIwNTU1NzU3MTdlLTA1LCA1LjM3MDQxOTI0MjEyOTcxM2UtMDUsIDUuMzk5ODgxMjc4NzAxODU0NGUtMDUsIDUuNDI5MzQzMzE1MjczOTk1ZS0wNSwgNS40NTg4MDUzNTE4NDYxMzZlLTA1LCA1LjQ4ODI2NzM4ODQxODI3N2UtMDUsIDUuNTE3NzI5NDI0OTkwNDE4NGUtMDUsIDUuNTQ3MTkxNDYxNTYyNTU5ZS0wNSwgNS41NzY2NTM0OTgxMzQ3MDA0ZS0wNSwgNS42MDYxMTU1MzQ3MDY4NDJlLTA1LCA1LjYzNTU3NzU3MTI3ODk4M2UtMDUsIDUuNjY1MDM5NjA3ODUxMTI0NWUtMDUsIDUuNjk0NTAxNjQ0NDIzMjY1ZS0wNSwgNS43MjM5NjM2ODA5OTU0MDZlLTA1LCA1Ljc1MzQyNTcxNzU2NzU0N2UtMDUsIDUuNzgyODg3NzU0MTM5Njg4NWUtMDUsIDUuODEyMzQ5NzkwNzExODI5ZS0wNSwgNS44NDE4MTE4MjcyODM5NzA1ZS0wNSwgNS44NzEyNzM4NjM4NTYxMTJlLTA1LCA1LjkwMDczNTkwMDQyODI1M2UtMDUsIDUuOTMwMTk3OTM3MDAwMzk0ZS0wNSwgNS45NTk2NTk5NzM1NzI1MzQ2ZS0wNSwgNS45ODkxMjIwMTAxNDQ2NzZlLTA1LCA2LjAxODU4NDA0NjcxNjgxN2UtMDUsIDYuMDQ4MDQ2MDgzMjg4OTU4ZS0wNSwgNi4wNzc1MDgxMTk4NjEwOTllLTA1LCA2LjEwNjk3MDE1NjQzMzI0ZS0wNSwgNi4xMzY0MzIxOTMwMDUzODFlLTA1LCA2LjE2NTg5NDIyOTU3NzUyMmUtMDUsIDYuMTk1MzU2MjY2MTQ5NjYzZS0wNSwgNi4yMjQ4MTgzMDI3MjE4MDVlLTA1LCA2LjI1NDI4MDMzOTI5Mzk0NWUtMDUsIDYuMjgzNzQyMzc1ODY2MDg3ZS0wNSwgNi4zMTMyMDQ0MTI0MzgyMjhlLTA1LCA2LjM0MjY2NjQ0OTAxMDM2N2UtMDUsIDYuMzcyMTI4NDg1NTgyNTFlLTA1LCA2LjQwMTU5MDUyMjE1NDY1ZS0wNSwgNi40MzEwNTI1NTg3MjY3OTJlLTA1LCA2LjQ2MDUxNDU5NTI5ODkzM2UtMDUsIDYuNDg5OTc2NjMxODcxMDczZS0wNSwgNi41MTk0Mzg2Njg0NDMyMTVlLTA1LCA2LjU0ODkwMDcwNTAxNTM1NmUtMDUsIDYuNTc4MzYyNzQxNTg3NDk3ZS0wNSwgNi42MDc4MjQ3NzgxNTk2MzllLTA1LCA2LjYzNzI4NjgxNDczMTc4ZS0wNSwgNi42NjY3NDg4NTEzMDM5MjJlLTA1LCA2LjY5NjIxMDg4Nzg3NjA2MmUtMDUsIDYuNzI1NjcyOTI0NDQ4MjAzZS0wNSwgNi43NTUxMzQ5NjEwMjAzNDVlLTA1LCA2Ljc4NDU5Njk5NzU5MjQ4NmUtMDUsIDYuODE0MDU5MDM0MTY0NjI4ZS0wNSwgNi44NDM1MjEwNzA3MzY3NjdlLTA1LCA2Ljg3Mjk4MzEwNzMwODkwOGUtMDUsIDYuOTAyNDQ1MTQzODgxMDVlLTA1LCA2LjkzMTkwNzE4MDQ1MzE5ZS0wNSwgNi45NjEzNjkyMTcwMjUzMzFlLTA1LCA2Ljk5MDgzMTI1MzU5NzQ3M2UtMDUsIDcuMDIwMjkzMjkwMTY5NjE0ZS0wNSwgNy4wNDk3NTUzMjY3NDE3NTZlLTA1LCA3LjA3OTIxNzM2MzMxMzg5NmUtMDUsIDcuMTA4Njc5Mzk5ODg2MDM3ZS0wNSwgNy4xMzgxNDE0MzY0NTgxNzllLTA1LCA3LjE2NzYwMzQ3MzAzMDMyZS0wNSwgNy4xOTcwNjU1MDk2MDI0NmUtMDUsIDcuMjI2NTI3NTQ2MTc0NjAyZS0wNSwgNy4yNTU5ODk1ODI3NDY3NDNlLTA1LCA3LjI4NTQ1MTYxOTMxODg4NWUtMDUsIDcuMzE0OTEzNjU1ODkxMDI2ZS0wNSwgNy4zNDQzNzU2OTI0NjMxNjVlLTA1LCA3LjM3MzgzNzcyOTAzNTMwN2UtMDUsIDcuNDAzMjk5NzY1NjA3NDQ4ZS0wNSwgNy40MzI3NjE4MDIxNzk1ODhlLTA1LCA3LjQ2MjIyMzgzODc1MTczZS0wNSwgNy40OTE2ODU4NzUzMjM4NzFlLTA1LCA3LjUyMTE0NzkxMTg5NjAxM2UtMDUsIDcuNTUwNjA5OTQ4NDY4MTU0ZS0wNSwgNy41ODAwNzE5ODUwNDAyOTVlLTA1LCA3LjYwOTUzNDAyMTYxMjQzN2UtMDUsIDcuNjM4OTk2MDU4MTg0NTc3ZS0wNSwgNy42Njg0NTgwOTQ3NTY3MTllLTA1LCA3LjY5NzkyMDEzMTMyODg2ZS0wNSwgNy43MjczODIxNjc5MDFlLTA1LCA3Ljc1Njg0NDIwNDQ3MzE0M2UtMDUsIDcuNzg2MzA2MjQxMDQ1MjgzZS0wNSwgNy44MTU3NjgyNzc2MTc0MjRlLTA1LCA3Ljg0NTIzMDMxNDE4OTU2NmUtMDUsIDcuODc0NjkyMzUwNzYxNzA1ZS0wNSwgNy45MDQxNTQzODczMzM4NDdlLTA1LCA3LjkzMzYxNjQyMzkwNTk4OGUtMDUsIDcuOTYzMDc4NDYwNDc4MTI5ZS0wNSwgNy45OTI1NDA0OTcwNTAyNzFlLTA1LCA4LjAyMjAwMjUzMzYyMjQxMWUtMDUsIDguMDUxNDY0NTcwMTk0NTUyZS0wNSwgOC4wODA5MjY2MDY3NjY2OTRlLTA1LCA4LjExMDM4ODY0MzMzODgzNWUtMDUsIDguMTM5ODUwNjc5OTEwOTc3ZS0wNSwgOC4xNjkzMTI3MTY0ODMxMTdlLTA1LCA4LjE5ODc3NDc1MzA1NTI1OGUtMDUsIDguMjI4MjM2Nzg5NjI3NGUtMDUsIDguMjU3Njk4ODI2MTk5NTQxZS0wNSwgOC4yODcxNjA4NjI3NzE2ODFlLTA1LCA4LjMxNjYyMjg5OTM0MzgyNGUtMDUsIDguMzQ2MDg0OTM1OTE1OTY0ZS0wNSwgOC4zNzU1NDY5NzI0ODgxMDVlLTA1LCA4LjQwNTAwOTAwOTA2MDI0NmUtMDUsIDguNDM0NDcxMDQ1NjMyMzg2ZS0wNSwgOC40NjM5MzMwODIyMDQ1MjhlLTA1LCA4LjQ5MzM5NTExODc3NjY2OWUtMDUsIDguNTIyODU3MTU1MzQ4ODExZS0wNSwgOC41NTIzMTkxOTE5MjA5NTJlLTA1LCA4LjU4MTc4MTIyODQ5MzA5MmUtMDUsIDguNjExMjQzMjY1MDY1MjM0ZS0wNSwgOC42NDA3MDUzMDE2MzczNzVlLTA1LCA4LjY3MDE2NzMzODIwOTUxNmUtMDUsIDguNjk5NjI5Mzc0NzgxNjU4ZS0wNSwgOC43MjkwOTE0MTEzNTM3OThlLTA1LCA4Ljc1ODU1MzQ0NzkyNTk0ZS0wNSwgOC43ODgwMTU0ODQ0OTgwODFlLTA1LCA4LjgxNzQ3NzUyMTA3MDIyMmUtMDUsIDguODQ2OTM5NTU3NjQyMzY0ZS0wNSwgOC44NzY0MDE1OTQyMTQ1MDNlLTA1LCA4LjkwNTg2MzYzMDc4NjY0NGUtMDUsIDguOTM1MzI1NjY3MzU4Nzg2ZS0wNSwgOC45NjQ3ODc3MDM5MzA5MjZlLTA1LCA4Ljk5NDI0OTc0MDUwMzA2OGUtMDUsIDkuMDIzNzExNzc3MDc1MjA5ZS0wNSwgOS4wNTMxNzM4MTM2NDczNWUtMDUsIDkuMDgyNjM1ODUwMjE5NDkyZS0wNSwgOS4xMTIwOTc4ODY3OTE2MzJlLTA1LCA5LjE0MTU1OTkyMzM2Mzc3M2UtMDUsIDkuMTcxMDIxOTU5OTM1OTE1ZS0wNSwgOS4yMDA0ODM5OTY1MDgwNTZlLTA1LCA5LjIyOTk0NjAzMzA4MDE5OGUtMDUsIDkuMjU5NDA4MDY5NjUyMzM5ZS0wNSwgOS4yODg4NzAxMDYyMjQ0NzllLTA1LCA5LjMxODMzMjE0Mjc5NjYyMWUtMDUsIDkuMzQ3Nzk0MTc5MzY4NzYyZS0wNSwgOS4zNzcyNTYyMTU5NDA5MDFlLTA1LCA5LjQwNjcxODI1MjUxMzA0M2UtMDUsIDkuNDM2MTgwMjg5MDg1MTg0ZS0wNSwgOS40NjU2NDIzMjU2NTczMjZlLTA1LCA5LjQ5NTEwNDM2MjIyOTQ2N2UtMDUsIDkuNTI0NTY2Mzk4ODAxNjA3ZS0wNSwgOS41NTQwMjg0MzUzNzM3NDllLTA1LCA5LjU4MzQ5MDQ3MTk0NTg5ZS0wNSwgOS42MTI5NTI1MDg1MTgwMzJlLTA1LCA5LjY0MjQxNDU0NTA5MDE3M2UtMDUsIDkuNjcxODc2NTgxNjYyMzEzZS0wNSwgOS43MDEzMzg2MTgyMzQ0NTVlLTA1LCA5LjczMDgwMDY1NDgwNjU5NmUtMDUsIDkuNzYwMjYyNjkxMzc4NzM3ZS0wNSwgOS43ODk3MjQ3Mjc5NTA4NzllLTA1LCA5LjgxOTE4Njc2NDUyMzAyZS0wNSwgOS44NDg2NDg4MDEwOTUxNjFlLTA1LCA5Ljg3ODExMDgzNzY2NzMwMWUtMDUsIDkuOTA3NTcyODc0MjM5NDQxZS0wNSwgOS45MzcwMzQ5MTA4MTE1ODNlLTA1LCA5Ljk2NjQ5Njk0NzM4MzcyNGUtMDUsIDkuOTk1OTU4OTgzOTU1ODY1ZS0wNSwgMC4wMDAxMDAyNTQyMTAyMDUyODAwNywgMC4wMDAxMDA1NDg4MzA1NzEwMDE0OCwgMC4wMDAxMDA4NDM0NTA5MzY3MjI5LCAwLjAwMDEwMTEzODA3MTMwMjQ0NDMsIDAuMDAwMTAxNDMyNjkxNjY4MTY1NzEsIDAuMDAwMTAxNzI3MzEyMDMzODg3MTMsIDAuMDAwMTAyMDIxOTMyMzk5NjA4NTQsIDAuMDAwMTAyMzE2NTUyNzY1MzI5OTQsIDAuMDAwMTAyNjExMTczMTMxMDUxMzYsIDAuMDAwMTAyOTA1NzkzNDk2NzcyNzcsIDAuMDAwMTAzMjAwNDEzODYyNDk0MTksIDAuMDAwMTAzNDk1MDM0MjI4MjE1NiwgMC4wMDAxMDM3ODk2NTQ1OTM5MzY5OSwgMC4wMDAxMDQwODQyNzQ5NTk2NTg0MSwgMC4wMDAxMDQzNzg4OTUzMjUzNzk4MiwgMC4wMDAxMDQ2NzM1MTU2OTExMDEyNCwgMC4wMDAxMDQ5NjgxMzYwNTY4MjI2NCwgMC4wMDAxMDUyNjI3NTY0MjI1NDQwNSwgMC4wMDAxMDU1NTczNzY3ODgyNjU0NywgMC4wMDAxMDU4NTE5OTcxNTM5ODY4OCwgMC4wMDAxMDYxNDY2MTc1MTk3MDgyOCwgMC4wMDAxMDY0NDEyMzc4ODU0Mjk3LCAwLjAwMDEwNjczNTg1ODI1MTE1MTExLCAwLjAwMDEwNzAzMDQ3ODYxNjg3MjUzLCAwLjAwMDEwNzMyNTA5ODk4MjU5Mzk0LCAwLjAwMDEwNzYxOTcxOTM0ODMxNTM0LCAwLjAwMDEwNzkxNDMzOTcxNDAzNjc2LCAwLjAwMDEwODIwODk2MDA3OTc1ODE3LCAwLjAwMDEwODUwMzU4MDQ0NTQ3OTU4LCAwLjAwMDEwODc5ODIwMDgxMTIwMSwgMC4wMDAxMDkwOTI4MjExNzY5MjIzOSwgMC4wMDAxMDkzODc0NDE1NDI2NDM4MSwgMC4wMDAxMDk2ODIwNjE5MDgzNjUyMiwgMC4wMDAxMDk5NzY2ODIyNzQwODY2MywgMC4wMDAxMTAyNzEzMDI2Mzk4MDgwNSwgMC4wMDAxMTA1NjU5MjMwMDU1Mjk0NSwgMC4wMDAxMTA4NjA1NDMzNzEyNTA4NiwgMC4wMDAxMTExNTUxNjM3MzY5NzIyOCwgMC4wMDAxMTE0NDk3ODQxMDI2OTM2OSwgMC4wMDAxMTE3NDQ0MDQ0Njg0MTUxLCAwLjAwMDExMjAzOTAyNDgzNDEzNjUxLCAwLjAwMDExMjMzMzY0NTE5OTg1NzkyLCAwLjAwMDExMjYyODI2NTU2NTU3OTM0LCAwLjAwMDExMjkyMjg4NTkzMTMwMDc1LCAwLjAwMDExMzIxNzUwNjI5NzAyMjE3LCAwLjAwMDExMzUxMjEyNjY2Mjc0MzU3LCAwLjAwMDExMzgwNjc0NzAyODQ2NDk4LCAwLjAwMDExNDEwMTM2NzM5NDE4NjM5LCAwLjAwMDExNDM5NTk4Nzc1OTkwNzgsIDAuMDAwMTE0NjkwNjA4MTI1NjI5MiwgMC4wMDAxMTQ5ODUyMjg0OTEzNTA2MiwgMC4wMDAxMTUyNzk4NDg4NTcwNzIwMywgMC4wMDAxMTU1NzQ0NjkyMjI3OTM0NSwgMC4wMDAxMTU4NjkwODk1ODg1MTQ4NSwgMC4wMDAxMTYxNjM3MDk5NTQyMzYyNiwgMC4wMDAxMTY0NTgzMzAzMTk5NTc2OCwgMC4wMDAxMTY3NTI5NTA2ODU2NzkwOSwgMC4wMDAxMTcwNDc1NzEwNTE0MDA1LCAwLjAwMDExNzM0MjE5MTQxNzEyMTkyLCAwLjAwMDExNzYzNjgxMTc4Mjg0MzMyLCAwLjAwMDExNzkzMTQzMjE0ODU2NDc0LCAwLjAwMDExODIyNjA1MjUxNDI4NjE1LCAwLjAwMDExODUyMDY3Mjg4MDAwNzU2LCAwLjAwMDExODgxNTI5MzI0NTcyODk4LCAwLjAwMDExOTEwOTkxMzYxMTQ1MDM3LCAwLjAwMDExOTQwNDUzMzk3NzE3MTc4LCAwLjAwMDExOTY5OTE1NDM0Mjg5MzIsIDAuMDAwMTE5OTkzNzc0NzA4NjE0NiwgMC4wMDAxMjAyODgzOTUwNzQzMzYwMiwgMC4wMDAxMjA1ODMwMTU0NDAwNTc0MywgMC4wMDAxMjA4Nzc2MzU4MDU3Nzg4NCwgMC4wMDAxMjExNzIyNTYxNzE1MDAyNiwgMC4wMDAxMjE0NjY4NzY1MzcyMjE2NiwgMC4wMDAxMjE3NjE0OTY5MDI5NDMwNywgMC4wMDAxMjIwNTYxMTcyNjg2NjQ0OSwgMC4wMDAxMjIzNTA3Mzc2MzQzODU4OCwgMC4wMDAxMjI2NDUzNTgwMDAxMDczMiwgMC4wMDAxMjI5Mzk5NzgzNjU4Mjg3MiwgMC4wMDAxMjMyMzQ1OTg3MzE1NTAxMywgMC4wMDAxMjM1MjkyMTkwOTcyNzE1NCwgMC4wMDAxMjM4MjM4Mzk0NjI5OTI5NCwgMC4wMDAxMjQxMTg0NTk4Mjg3MTQzOCwgMC4wMDAxMjQ0MTMwODAxOTQ0MzU3OCwgMC4wMDAxMjQ3MDc3MDA1NjAxNTcyLCAwLjAwMDEyNTAwMjMyMDkyNTg3ODYsIDAuMDAwMTI1Mjk2OTQxMjkxNiwgMC4wMDAxMjU1OTE1NjE2NTczMjE0NCwgMC4wMDAxMjU4ODYxODIwMjMwNDI4NSwgMC4wMDAxMjYxODA4MDIzODg3NjQyNSwgMC4wMDAxMjY0NzU0MjI3NTQ0ODU2MywgMC4wMDAxMjY3NzAwNDMxMjAyMDcwNCwgMC4wMDAxMjcwNjQ2NjM0ODU5Mjg0NywgMC4wMDAxMjczNTkyODM4NTE2NDk4OCwgMC4wMDAxMjc2NTM5MDQyMTczNzEyOSwgMC4wMDAxMjc5NDg1MjQ1ODMwOTI3LCAwLjAwMDEyODI0MzE0NDk0ODgxNDEsIDAuMDAwMTI4NTM3NzY1MzE0NTM1NTMsIDAuMDAwMTI4ODMyMzg1NjgwMjU2OTQsIDAuMDAwMTI5MTI3MDA2MDQ1OTc4MzUsIDAuMDAwMTI5NDIxNjI2NDExNjk5NzUsIDAuMDAwMTI5NzE2MjQ2Nzc3NDIxMTYsIDAuMDAwMTMwMDEwODY3MTQzMTQyNiwgMC4wMDAxMzAzMDU0ODc1MDg4NjQsIDAuMDAwMTMwNjAwMTA3ODc0NTg1NCwgMC4wMDAxMzA4OTQ3MjgyNDAzMDY4MSwgMC4wMDAxMzExODkzNDg2MDYwMjgyMiwgMC4wMDAxMzE0ODM5Njg5NzE3NDk2MywgMC4wMDAxMzE3Nzg1ODkzMzc0NzEwNiwgMC4wMDAxMzIwNzMyMDk3MDMxOTI0NywgMC4wMDAxMzIzNjc4MzAwNjg5MTM4NywgMC4wMDAxMzI2NjI0NTA0MzQ2MzUyOCwgMC4wMDAxMzI5NTcwNzA4MDAzNTY3LCAwLjAwMDEzMzI1MTY5MTE2NjA3ODEyLCAwLjAwMDEzMzU0NjMxMTUzMTc5OTUzLCAwLjAwMDEzMzg0MDkzMTg5NzUyMDkzLCAwLjAwMDEzNDEzNTU1MjI2MzI0MjM0LCAwLjAwMDEzNDQzMDE3MjYyODk2Mzc1LCAwLjAwMDEzNDcyNDc5Mjk5NDY4NTE4LCAwLjAwMDEzNTAxOTQxMzM2MDQwNjYsIDAuMDAwMTM1MzE0MDMzNzI2MTI4LCAwLjAwMDEzNTYwODY1NDA5MTg0OTQsIDAuMDAwMTM1OTAzMjc0NDU3NTcwOCwgMC4wMDAxMzYxOTc4OTQ4MjMyOTIyNCwgMC4wMDAxMzY0OTI1MTUxODkwMTM2NSwgMC4wMDAxMzY3ODcxMzU1NTQ3MzUwMywgMC4wMDAxMzcwODE3NTU5MjA0NTY0NCwgMC4wMDAxMzczNzYzNzYyODYxNzc4NCwgMC4wMDAxMzc2NzA5OTY2NTE4OTkyNSwgMC4wMDAxMzc5NjU2MTcwMTc2MjA2OCwgMC4wMDAxMzgyNjAyMzczODMzNDIxLCAwLjAwMDEzODU1NDg1Nzc0OTA2MzUsIDAuMDAwMTM4ODQ5NDc4MTE0Nzg0OSwgMC4wMDAxMzkxNDQwOTg0ODA1MDYzLCAwLjAwMDEzOTQzODcxODg0NjIyNzc0LCAwLjAwMDEzOTczMzMzOTIxMTk0OTE1LCAwLjAwMDE0MDAyNzk1OTU3NzY3MDU2LCAwLjAwMDE0MDMyMjU3OTk0MzM5MTk2LCAwLjAwMDE0MDYxNzIwMDMwOTExMzM3LCAwLjAwMDE0MDkxMTgyMDY3NDgzNDgsIDAuMDAwMTQxMjA2NDQxMDQwNTU2MiwgMC4wMDAxNDE1MDEwNjE0MDYyNzc2MiwgMC4wMDAxNDE3OTU2ODE3NzE5OTkwMiwgMC4wMDAxNDIwOTAzMDIxMzc3MjA0MywgMC4wMDAxNDIzODQ5MjI1MDM0NDE4NywgMC4wMDAxNDI2Nzk1NDI4NjkxNjMyNywgMC4wMDAxNDI5NzQxNjMyMzQ4ODQ2OCwgMC4wMDAxNDMyNjg3ODM2MDA2MDYwOSwgMC4wMDAxNDM1NjM0MDM5NjYzMjc1LCAwLjAwMDE0Mzg1ODAyNDMzMjA0ODksIDAuMDAwMTQ0MTUyNjQ0Njk3NzcwMzMsIDAuMDAwMTQ0NDQ3MjY1MDYzNDkxNzQsIDAuMDAwMTQ0NzQxODg1NDI5MjEzMTUsIDAuMDAwMTQ1MDM2NTA1Nzk0OTM0NTUsIDAuMDAwMTQ1MzMxMTI2MTYwNjU1OTYsIDAuMDAwMTQ1NjI1NzQ2NTI2Mzc3NCwgMC4wMDAxNDU5MjAzNjY4OTIwOTg4LCAwLjAwMDE0NjIxNDk4NzI1NzgyMDIsIDAuMDAwMTQ2NTA5NjA3NjIzNTQxNiwgMC4wMDAxNDY4MDQyMjc5ODkyNjMsIDAuMDAwMTQ3MDk4ODQ4MzU0OTg0NDNdKQogICAgICAgICAgICAgIC5yYW5nZShbJyNmZWQ5NzYnLCAnI2ZlYjI0YycsICcjZmQ4ZDNjJywgJyNmZDhkM2MnLCAnI2ZkOGQzYycsICcjZmQ4ZDNjJywgJyNmZDhkM2MnLCAnI2ZjNGUyYScsICcjZmM0ZTJhJywgJyNmYzRlMmEnLCAnI2ZjNGUyYScsICcjZmM0ZTJhJywgJyNmYzRlMmEnLCAnI2ZjNGUyYScsICcjZmM0ZTJhJywgJyNmYzRlMmEnLCAnI2ZjNGUyYScsICcjZmM0ZTJhJywgJyNmYzRlMmEnLCAnI2ZjNGUyYScsICcjZmM0ZTJhJywgJyNmYzRlMmEnLCAnI2ZjNGUyYScsICcjZmM0ZTJhJywgJyNmYzRlMmEnLCAnI2ZjNGUyYScsICcjZmM0ZTJhJywgJyNmYzRlMmEnLCAnI2ZjNGUyYScsICcjZmM0ZTJhJywgJyNmYzRlMmEnLCAnI2ZjNGUyYScsICcjZmM0ZTJhJywgJyNmYzRlMmEnLCAnI2ZjNGUyYScsICcjZmM0ZTJhJywgJyNmYzRlMmEnLCAnI2ZjNGUyYScsICcjZmM0ZTJhJywgJyNmYzRlMmEnLCAnI2ZjNGUyYScsICcjZmM0ZTJhJywgJyNmYzRlMmEnLCAnI2ZjNGUyYScsICcjZmM0ZTJhJywgJyNmYzRlMmEnLCAnI2ZjNGUyYScsICcjZmM0ZTJhJywgJyNmYzRlMmEnLCAnI2ZjNGUyYScsICcjZmM0ZTJhJywgJyNmYzRlMmEnLCAnI2ZjNGUyYScsICcjZmM0ZTJhJywgJyNmYzRlMmEnLCAnI2ZjNGUyYScsICcjZmM0ZTJhJywgJyNmYzRlMmEnLCAnI2ZjNGUyYScsICcjZmM0ZTJhJywgJyNmYzRlMmEnLCAnI2ZjNGUyYScsICcjZmM0ZTJhJywgJyNmYzRlMmEnLCAnI2ZjNGUyYScsICcjZmM0ZTJhJywgJyNmYzRlMmEnLCAnI2ZjNGUyYScsICcjZmM0ZTJhJywgJyNmYzRlMmEnLCAnI2ZjNGUyYScsICcjZmM0ZTJhJywgJyNmYzRlMmEnLCAnI2ZjNGUyYScsICcjZmM0ZTJhJywgJyNmYzRlMmEnLCAnI2ZjNGUyYScsICcjZmM0ZTJhJywgJyNmYzRlMmEnLCAnI2ZjNGUyYScsICcjZmM0ZTJhJywgJyNmYzRlMmEnLCAnI2ZjNGUyYScsICcjZmM0ZTJhJywgJyNmYzRlMmEnLCAnI2ZjNGUyYScsICcjZmM0ZTJhJywgJyNmYzRlMmEnLCAnI2ZjNGUyYScsICcjZmM0ZTJhJywgJyNmYzRlMmEnLCAnI2ZjNGUyYScsICcjZmM0ZTJhJywgJyNmYzRlMmEnLCAnI2ZjNGUyYScsICcjZmM0ZTJhJywgJyNmYzRlMmEnLCAnI2ZjNGUyYScsICcjZmM0ZTJhJywgJyNmYzRlMmEnLCAnI2ZjNGUyYScsICcjZmM0ZTJhJywgJyNmYzRlMmEnLCAnI2ZjNGUyYScsICcjZmM0ZTJhJywgJyNmYzRlMmEnLCAnI2ZjNGUyYScsICcjZmM0ZTJhJywgJyNmYzRlMmEnLCAnI2ZjNGUyYScsICcjZmM0ZTJhJywgJyNmYzRlMmEnLCAnI2ZjNGUyYScsICcjZmM0ZTJhJywgJyNmYzRlMmEnLCAnI2ZjNGUyYScsICcjZmM0ZTJhJywgJyNmYzRlMmEnLCAnI2ZjNGUyYScsICcjZmM0ZTJhJywgJyNmYzRlMmEnLCAnI2ZjNGUyYScsICcjZmM0ZTJhJywgJyNmYzRlMmEnLCAnI2ZjNGUyYScsICcjZmM0ZTJhJywgJyNmYzRlMmEnLCAnI2ZjNGUyYScsICcjZmM0ZTJhJywgJyNmYzRlMmEnLCAnI2ZjNGUyYScsICcjZmM0ZTJhJywgJyNmYzRlMmEnLCAnI2ZjNGUyYScsICcjZmM0ZTJhJywgJyNmYzRlMmEnLCAnI2ZjNGUyYScsICcjZmM0ZTJhJywgJyNmYzRlMmEnLCAnI2ZjNGUyYScsICcjZmM0ZTJhJywgJyNmYzRlMmEnLCAnI2ZjNGUyYScsICcjZmM0ZTJhJywgJyNmYzRlMmEnLCAnI2ZjNGUyYScsICcjZmM0ZTJhJywgJyNmYzRlMmEnLCAnI2ZjNGUyYScsICcjZmM0ZTJhJywgJyNmYzRlMmEnLCAnI2ZjNGUyYScsICcjZmM0ZTJhJywgJyNmYzRlMmEnLCAnI2ZjNGUyYScsICcjZmM0ZTJhJywgJyNmYzRlMmEnLCAnI2ZjNGUyYScsICcjZmM0ZTJhJywgJyNmYzRlMmEnLCAnI2ZjNGUyYScsICcjZmM0ZTJhJywgJyNmYzRlMmEnLCAnI2ZjNGUyYScsICcjZmM0ZTJhJywgJyNmYzRlMmEnLCAnI2ZjNGUyYScsICcjZmM0ZTJhJywgJyNmYzRlMmEnLCAnI2ZjNGUyYScsICcjZmM0ZTJhJywgJyNmYzRlMmEnLCAnI2ZjNGUyYScsICcjZmM0ZTJhJywgJyNmYzRlMmEnLCAnI2ZjNGUyYScsICcjZmM0ZTJhJywgJyNmYzRlMmEnLCAnI2ZjNGUyYScsICcjZmM0ZTJhJywgJyNmYzRlMmEnLCAnI2ZjNGUyYScsICcjZmM0ZTJhJywgJyNmYzRlMmEnLCAnI2ZjNGUyYScsICcjZmM0ZTJhJywgJyNmYzRlMmEnLCAnI2ZjNGUyYScsICcjZmM0ZTJhJywgJyNmYzRlMmEnLCAnI2ZjNGUyYScsICcjZmM0ZTJhJywgJyNmYzRlMmEnLCAnI2ZjNGUyYScsICcjZmM0ZTJhJywgJyNmYzRlMmEnLCAnI2ZjNGUyYScsICcjZmM0ZTJhJywgJyNmYzRlMmEnLCAnI2ZjNGUyYScsICcjZmM0ZTJhJywgJyNmYzRlMmEnLCAnI2ZjNGUyYScsICcjZmM0ZTJhJywgJyNmYzRlMmEnLCAnI2ZjNGUyYScsICcjZmM0ZTJhJywgJyNmYzRlMmEnLCAnI2ZjNGUyYScsICcjZmM0ZTJhJywgJyNmYzRlMmEnLCAnI2ZjNGUyYScsICcjZmM0ZTJhJywgJyNmYzRlMmEnLCAnI2ZjNGUyYScsICcjZmM0ZTJhJywgJyNmYzRlMmEnLCAnI2ZjNGUyYScsICcjZmM0ZTJhJywgJyNmYzRlMmEnLCAnI2ZjNGUyYScsICcjZmM0ZTJhJywgJyNmYzRlMmEnLCAnI2ZjNGUyYScsICcjZmM0ZTJhJywgJyNmYzRlMmEnLCAnI2ZjNGUyYScsICcjZmM0ZTJhJywgJyNmYzRlMmEnLCAnI2ZjNGUyYScsICcjZmM0ZTJhJywgJyNmYzRlMmEnLCAnI2ZjNGUyYScsICcjZmM0ZTJhJywgJyNmYzRlMmEnLCAnI2ZjNGUyYScsICcjZmM0ZTJhJywgJyNmYzRlMmEnLCAnI2ZjNGUyYScsICcjZmM0ZTJhJywgJyNmYzRlMmEnLCAnI2ZjNGUyYScsICcjZmM0ZTJhJywgJyNmYzRlMmEnLCAnI2ZjNGUyYScsICcjZmM0ZTJhJywgJyNmYzRlMmEnLCAnI2ZjNGUyYScsICcjZmM0ZTJhJywgJyNmYzRlMmEnLCAnI2ZjNGUyYScsICcjZmM0ZTJhJywgJyNmYzRlMmEnLCAnI2ZjNGUyYScsICcjZmM0ZTJhJywgJyNmYzRlMmEnLCAnI2ZjNGUyYScsICcjZmM0ZTJhJywgJyNmYzRlMmEnLCAnI2ZjNGUyYScsICcjZmM0ZTJhJywgJyNmYzRlMmEnLCAnI2ZjNGUyYScsICcjZmM0ZTJhJywgJyNmYzRlMmEnLCAnI2ZjNGUyYScsICcjZmM0ZTJhJywgJyNmYzRlMmEnLCAnI2ZjNGUyYScsICcjZmM0ZTJhJywgJyNmYzRlMmEnLCAnI2ZjNGUyYScsICcjZmM0ZTJhJywgJyNmYzRlMmEnLCAnI2ZjNGUyYScsICcjZmM0ZTJhJywgJyNmYzRlMmEnLCAnI2ZjNGUyYScsICcjZmM0ZTJhJywgJyNmYzRlMmEnLCAnI2ZjNGUyYScsICcjZmM0ZTJhJywgJyNmYzRlMmEnLCAnI2ZjNGUyYScsICcjZmM0ZTJhJywgJyNmYzRlMmEnLCAnI2ZjNGUyYScsICcjZmM0ZTJhJywgJyNmYzRlMmEnLCAnI2ZjNGUyYScsICcjZmM0ZTJhJywgJyNmYzRlMmEnLCAnI2ZjNGUyYScsICcjZmM0ZTJhJywgJyNmYzRlMmEnLCAnI2ZjNGUyYScsICcjZmM0ZTJhJywgJyNmYzRlMmEnLCAnI2ZjNGUyYScsICcjZmM0ZTJhJywgJyNmYzRlMmEnLCAnI2ZjNGUyYScsICcjZmM0ZTJhJywgJyNmYzRlMmEnLCAnI2ZjNGUyYScsICcjZmM0ZTJhJywgJyNmYzRlMmEnLCAnI2ZjNGUyYScsICcjZmM0ZTJhJywgJyNmYzRlMmEnLCAnI2ZjNGUyYScsICcjZmM0ZTJhJywgJyNmYzRlMmEnLCAnI2ZjNGUyYScsICcjZmM0ZTJhJywgJyNmYzRlMmEnLCAnI2ZjNGUyYScsICcjZmM0ZTJhJywgJyNmYzRlMmEnLCAnI2ZjNGUyYScsICcjZmM0ZTJhJywgJyNmYzRlMmEnLCAnI2ZjNGUyYScsICcjZmM0ZTJhJywgJyNmYzRlMmEnLCAnI2ZjNGUyYScsICcjZmM0ZTJhJywgJyNmYzRlMmEnLCAnI2ZjNGUyYScsICcjZmM0ZTJhJywgJyNmYzRlMmEnLCAnI2ZjNGUyYScsICcjZmM0ZTJhJywgJyNmYzRlMmEnLCAnI2ZjNGUyYScsICcjZmM0ZTJhJywgJyNmYzRlMmEnLCAnI2ZjNGUyYScsICcjZmM0ZTJhJywgJyNmYzRlMmEnLCAnI2ZjNGUyYScsICcjZmM0ZTJhJywgJyNmYzRlMmEnLCAnI2ZjNGUyYScsICcjZmM0ZTJhJywgJyNmYzRlMmEnLCAnI2ZjNGUyYScsICcjZmM0ZTJhJywgJyNmYzRlMmEnLCAnI2ZjNGUyYScsICcjZmM0ZTJhJywgJyNmYzRlMmEnLCAnI2ZjNGUyYScsICcjZmM0ZTJhJywgJyNmYzRlMmEnLCAnI2ZjNGUyYScsICcjZmM0ZTJhJywgJyNmYzRlMmEnLCAnI2ZjNGUyYScsICcjZmM0ZTJhJywgJyNmYzRlMmEnLCAnI2ZjNGUyYScsICcjZmM0ZTJhJywgJyNmYzRlMmEnLCAnI2ZjNGUyYScsICcjZmM0ZTJhJywgJyNmYzRlMmEnLCAnI2ZjNGUyYScsICcjZmM0ZTJhJywgJyNmYzRlMmEnLCAnI2ZjNGUyYScsICcjZmM0ZTJhJywgJyNmYzRlMmEnLCAnI2ZjNGUyYScsICcjZmM0ZTJhJywgJyNmYzRlMmEnLCAnI2ZjNGUyYScsICcjZmM0ZTJhJywgJyNmYzRlMmEnLCAnI2ZjNGUyYScsICcjZmM0ZTJhJywgJyNmYzRlMmEnLCAnI2ZjNGUyYScsICcjZmM0ZTJhJywgJyNmYzRlMmEnLCAnI2ZjNGUyYScsICcjZmM0ZTJhJywgJyNmYzRlMmEnLCAnI2ZjNGUyYScsICcjZmM0ZTJhJywgJyNmYzRlMmEnLCAnI2ZjNGUyYScsICcjZmM0ZTJhJywgJyNmYzRlMmEnLCAnI2ZjNGUyYScsICcjZmM0ZTJhJywgJyNmYzRlMmEnLCAnI2ZjNGUyYScsICcjZmM0ZTJhJywgJyNmYzRlMmEnLCAnI2ZjNGUyYScsICcjZmM0ZTJhJywgJyNmYzRlMmEnLCAnI2ZjNGUyYScsICcjZmM0ZTJhJywgJyNmYzRlMmEnLCAnI2ZjNGUyYScsICcjZmM0ZTJhJywgJyNmYzRlMmEnLCAnI2ZjNGUyYScsICcjZmM0ZTJhJywgJyNmYzRlMmEnLCAnI2ZjNGUyYScsICcjZmM0ZTJhJywgJyNmYzRlMmEnLCAnI2ZjNGUyYScsICcjZmM0ZTJhJywgJyNmYzRlMmEnLCAnI2ZjNGUyYScsICcjZmM0ZTJhJywgJyNmYzRlMmEnLCAnI2ZjNGUyYScsICcjZmM0ZTJhJywgJyNmYzRlMmEnLCAnI2ZjNGUyYScsICcjZmM0ZTJhJywgJyNmYzRlMmEnLCAnI2ZjNGUyYScsICcjZmM0ZTJhJywgJyNmYzRlMmEnLCAnI2ZjNGUyYScsICcjZmM0ZTJhJywgJyNmYzRlMmEnLCAnI2ZjNGUyYScsICcjZmM0ZTJhJywgJyNmYzRlMmEnLCAnI2ZjNGUyYScsICcjZmM0ZTJhJywgJyNmYzRlMmEnLCAnI2ZjNGUyYScsICcjZmM0ZTJhJywgJyNmYzRlMmEnLCAnI2ZjNGUyYScsICcjZmM0ZTJhJywgJyNmYzRlMmEnLCAnI2ZjNGUyYScsICcjZmM0ZTJhJywgJyNmYzRlMmEnLCAnI2ZjNGUyYScsICcjZmM0ZTJhJywgJyNmYzRlMmEnLCAnI2ZjNGUyYScsICcjZmM0ZTJhJywgJyNmYzRlMmEnLCAnI2ZjNGUyYScsICcjZmM0ZTJhJywgJyNmYzRlMmEnLCAnI2ZjNGUyYScsICcjZmM0ZTJhJywgJyNmYzRlMmEnLCAnI2ZjNGUyYScsICcjZmM0ZTJhJywgJyNmYzRlMmEnLCAnI2ZjNGUyYScsICcjZmM0ZTJhJywgJyNmYzRlMmEnLCAnI2ZjNGUyYScsICcjZmM0ZTJhJywgJyNmYzRlMmEnLCAnI2ZjNGUyYScsICcjZmM0ZTJhJywgJyNmYzRlMmEnLCAnI2ZjNGUyYScsICcjZmM0ZTJhJywgJyNmYzRlMmEnLCAnI2ZjNGUyYScsICcjZmM0ZTJhJywgJyNmYzRlMmEnLCAnI2ZjNGUyYScsICcjZmM0ZTJhJywgJyNmYzRlMmEnLCAnI2ZjNGUyYScsICcjZmM0ZTJhJywgJyNmYzRlMmEnLCAnI2ZjNGUyYScsICcjZmM0ZTJhJywgJyNmYzRlMmEnLCAnI2ZjNGUyYScsICcjZmM0ZTJhJywgJyNmYzRlMmEnLCAnI2ZjNGUyYScsICcjZmM0ZTJhJywgJyNmYzRlMmEnLCAnI2ZjNGUyYScsICcjZmM0ZTJhJywgJyNmYzRlMmEnLCAnI2ZjNGUyYScsICcjZmM0ZTJhJywgJyNmYzRlMmEnLCAnI2ZjNGUyYSddKTsKICAgIAoKICAgIGNvbG9yX21hcF9mNzM4OWU1OTYyNGU0NjEyOTk1OGNlNjY3MGFjOWMyMi54ID0gZDMuc2NhbGUubGluZWFyKCkKICAgICAgICAgICAgICAuZG9tYWluKFs4LjMyODU4NjAwMDAzMTI1OWUtMDgsIDAuMDAwMTQ3MDk4ODQ4MzU0OTg0NDNdKQogICAgICAgICAgICAgIC5yYW5nZShbMCwgNDAwXSk7CgogICAgY29sb3JfbWFwX2Y3Mzg5ZTU5NjI0ZTQ2MTI5OTU4Y2U2NjcwYWM5YzIyLmxlZ2VuZCA9IEwuY29udHJvbCh7cG9zaXRpb246ICd0b3ByaWdodCd9KTsKICAgIGNvbG9yX21hcF9mNzM4OWU1OTYyNGU0NjEyOTk1OGNlNjY3MGFjOWMyMi5sZWdlbmQub25BZGQgPSBmdW5jdGlvbiAobWFwKSB7dmFyIGRpdiA9IEwuRG9tVXRpbC5jcmVhdGUoJ2RpdicsICdsZWdlbmQnKTsgcmV0dXJuIGRpdn07CiAgICBjb2xvcl9tYXBfZjczODllNTk2MjRlNDYxMjk5NThjZTY2NzBhYzljMjIubGVnZW5kLmFkZFRvKG1hcF9mNTI3YzUzOWZjOGE0ZDE1OTEyOTliODdiYWFiNDM2Nik7CgogICAgY29sb3JfbWFwX2Y3Mzg5ZTU5NjI0ZTQ2MTI5OTU4Y2U2NjcwYWM5YzIyLnhBeGlzID0gZDMuc3ZnLmF4aXMoKQogICAgICAgIC5zY2FsZShjb2xvcl9tYXBfZjczODllNTk2MjRlNDYxMjk5NThjZTY2NzBhYzljMjIueCkKICAgICAgICAub3JpZW50KCJ0b3AiKQogICAgICAgIC50aWNrU2l6ZSgxKQogICAgICAgIC50aWNrVmFsdWVzKFs4LjMyODU4NjAwMDAzMTI1OWUtMDgsIDEuMjI5ODQ2NjQwMDAxNTkwN2UtMDcsIDQuOTU0MzU3MTc5OTkzNDM4ZS0wNywgMi4wODIyNzY1MDEwMDA1MzVlLTA2LCAwLjAwMDE0NzA5ODg0ODM1NDk4NDQzXSk7CgogICAgY29sb3JfbWFwX2Y3Mzg5ZTU5NjI0ZTQ2MTI5OTU4Y2U2NjcwYWM5YzIyLnN2ZyA9IGQzLnNlbGVjdCgiLmxlZ2VuZC5sZWFmbGV0LWNvbnRyb2wiKS5hcHBlbmQoInN2ZyIpCiAgICAgICAgLmF0dHIoImlkIiwgJ2xlZ2VuZCcpCiAgICAgICAgLmF0dHIoIndpZHRoIiwgNDUwKQogICAgICAgIC5hdHRyKCJoZWlnaHQiLCA0MCk7CgogICAgY29sb3JfbWFwX2Y3Mzg5ZTU5NjI0ZTQ2MTI5OTU4Y2U2NjcwYWM5YzIyLmcgPSBjb2xvcl9tYXBfZjczODllNTk2MjRlNDYxMjk5NThjZTY2NzBhYzljMjIuc3ZnLmFwcGVuZCgiZyIpCiAgICAgICAgLmF0dHIoImNsYXNzIiwgImtleSIpCiAgICAgICAgLmF0dHIoInRyYW5zZm9ybSIsICJ0cmFuc2xhdGUoMjUsMTYpIik7CgogICAgY29sb3JfbWFwX2Y3Mzg5ZTU5NjI0ZTQ2MTI5OTU4Y2U2NjcwYWM5YzIyLmcuc2VsZWN0QWxsKCJyZWN0IikKICAgICAgICAuZGF0YShjb2xvcl9tYXBfZjczODllNTk2MjRlNDYxMjk5NThjZTY2NzBhYzljMjIuY29sb3IucmFuZ2UoKS5tYXAoZnVuY3Rpb24oZCwgaSkgewogICAgICAgICAgcmV0dXJuIHsKICAgICAgICAgICAgeDA6IGkgPyBjb2xvcl9tYXBfZjczODllNTk2MjRlNDYxMjk5NThjZTY2NzBhYzljMjIueChjb2xvcl9tYXBfZjczODllNTk2MjRlNDYxMjk5NThjZTY2NzBhYzljMjIuY29sb3IuZG9tYWluKClbaSAtIDFdKSA6IGNvbG9yX21hcF9mNzM4OWU1OTYyNGU0NjEyOTk1OGNlNjY3MGFjOWMyMi54LnJhbmdlKClbMF0sCiAgICAgICAgICAgIHgxOiBpIDwgY29sb3JfbWFwX2Y3Mzg5ZTU5NjI0ZTQ2MTI5OTU4Y2U2NjcwYWM5YzIyLmNvbG9yLmRvbWFpbigpLmxlbmd0aCA/IGNvbG9yX21hcF9mNzM4OWU1OTYyNGU0NjEyOTk1OGNlNjY3MGFjOWMyMi54KGNvbG9yX21hcF9mNzM4OWU1OTYyNGU0NjEyOTk1OGNlNjY3MGFjOWMyMi5jb2xvci5kb21haW4oKVtpXSkgOiBjb2xvcl9tYXBfZjczODllNTk2MjRlNDYxMjk5NThjZTY2NzBhYzljMjIueC5yYW5nZSgpWzFdLAogICAgICAgICAgICB6OiBkCiAgICAgICAgICB9OwogICAgICAgIH0pKQogICAgICAuZW50ZXIoKS5hcHBlbmQoInJlY3QiKQogICAgICAgIC5hdHRyKCJoZWlnaHQiLCAxMCkKICAgICAgICAuYXR0cigieCIsIGZ1bmN0aW9uKGQpIHsgcmV0dXJuIGQueDA7IH0pCiAgICAgICAgLmF0dHIoIndpZHRoIiwgZnVuY3Rpb24oZCkgeyByZXR1cm4gZC54MSAtIGQueDA7IH0pCiAgICAgICAgLnN0eWxlKCJmaWxsIiwgZnVuY3Rpb24oZCkgeyByZXR1cm4gZC56OyB9KTsKCiAgICBjb2xvcl9tYXBfZjczODllNTk2MjRlNDYxMjk5NThjZTY2NzBhYzljMjIuZy5jYWxsKGNvbG9yX21hcF9mNzM4OWU1OTYyNGU0NjEyOTk1OGNlNjY3MGFjOWMyMi54QXhpcykuYXBwZW5kKCJ0ZXh0IikKICAgICAgICAuYXR0cigiY2xhc3MiLCAiY2FwdGlvbiIpCiAgICAgICAgLmF0dHIoInkiLCAyMSkKICAgICAgICAudGV4dCgnJyk7CiAgICAgICAgCiAgICAgICAgCiAgICAgICAgPC9zY3JpcHQ+CiAgICAgICAg\" style=\"position:absolute;width:100%;height:100%;left:0;top:0;\"></iframe></div></div>"
      ],
      "text/plain": [
       "<folium.folium.Map at 0x112bd5438>"
      ]
     },
     "execution_count": 108,
     "metadata": {},
     "output_type": "execute_result"
    }
   ],
   "source": [
    "e_map = folium.Map(location=map_centre, zoom_start=15)\n",
    "ppp_gdf.crs = {'init': 'epsg:4326', 'no_defs': True}\n",
    "\n",
    "ppp_gdf['p_area'] = ppp_gdf.area.astype(float)\n",
    "add_choropleth(e_map, ppp_gdf[ppp_gdf.p_area >0], \"id\",\"p_area\", line_opacity=0.8, classifier=\"Quantiles\")"
   ]
  },
  {
   "cell_type": "markdown",
   "metadata": {
    "collapsed": true
   },
   "source": [
    "### Closest Park"
   ]
  },
  {
   "cell_type": "markdown",
   "metadata": {},
   "source": [
    "In this final section we use GeoPandas and Folium to label a map such that Starbucks cafés are marked and the park closest to it is outlined in blue. Additionally, when the markers are clicked it will give the distance to the closest park."
   ]
  },
  {
   "cell_type": "code",
   "execution_count": 109,
   "metadata": {
    "collapsed": true
   },
   "outputs": [],
   "source": [
    "def closest_park(pt, _gdf):\n",
    "    \"\"\" assume that pt is in epsg:3395 CRS \"\"\"\n",
    "    # crs epsg:3395 lets us measure distance in metres\n",
    "    _s = _gdf.to_crs({'init': 'epsg:3395', 'no_defs': True}).distance(pt)\n",
    "    idx = _s.argmin()\n",
    "    geo =_gdf.loc[idx,'geometry']\n",
    "    dist = _s[idx]\n",
    "    return pd.Series({'point': pt, 'idx':idx,'dist':dist,'geo':geo})"
   ]
  },
  {
   "cell_type": "code",
   "execution_count": 110,
   "metadata": {
    "collapsed": true
   },
   "outputs": [],
   "source": [
    "# create a starbucks geoSeries with metric units\n",
    "sb_metric = starbucks_locations.to_crs({'init': 'epsg:3395', 'no_defs': True})"
   ]
  },
  {
   "cell_type": "code",
   "execution_count": 111,
   "metadata": {
    "collapsed": false
   },
   "outputs": [],
   "source": [
    "starParks_s = sb_metric.apply(closest_park, _gdf = ppp_gdf)"
   ]
  },
  {
   "cell_type": "code",
   "execution_count": 112,
   "metadata": {
    "collapsed": false
   },
   "outputs": [],
   "source": [
    "starParks_gdf = gpd.GeoDataFrame(starParks_s, geometry=\"geo\", crs={'init': 'epsg:4326', 'no_defs': True})"
   ]
  },
  {
   "cell_type": "code",
   "execution_count": 113,
   "metadata": {
    "collapsed": true
   },
   "outputs": [],
   "source": [
    "starParks_gdf['Starbucks'] = starbucks_locations"
   ]
  },
  {
   "cell_type": "code",
   "execution_count": 115,
   "metadata": {
    "collapsed": false,
    "scrolled": false
   },
   "outputs": [
    {
     "data": {
      "text/html": [
       "<div style=\"width:100%;\"><div style=\"position:relative;width:100%;height:0;padding-bottom:60%;\"><iframe src=\"data:text/html;base64,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\" style=\"position:absolute;width:100%;height:100%;left:0;top:0;\"></iframe></div></div>"
      ],
      "text/plain": [
       "<folium.folium.Map at 0x112de0c50>"
      ]
     },
     "execution_count": 115,
     "metadata": {},
     "output_type": "execute_result"
    }
   ],
   "source": [
    "e_map = folium.Map(location=map_centre, zoom_start=15)\n",
    "# ppp_gdf.crs = {'init': 'epsg:4326', 'no_defs': True}\n",
    "\n",
    "# e_map = folium.Map(location=[53.5227229, -113.5116757], zoom_start=12)\n",
    "marker_cluster = folium.MarkerCluster().add_to(e_map)\n",
    "\n",
    "def pop_up_str(d):\n",
    "    distt = starParks_gdf.Starbucks\n",
    "\n",
    "for i in starParks_gdf.index:  \n",
    "    d = starParks_gdf.loc[i,'Starbucks']\n",
    "    popup_str = starParks_gdf.loc[i,'dist']\n",
    "    folium.Marker(\n",
    "        [d.y, d.x], icon=folium.Icon(color='#FF1234'),\n",
    "        popup='Distance to park {:3.0f} m'.format(popup_str)).add_to(marker_cluster)\n",
    "\n",
    "for i,row in starParks_gdf.iterrows():\n",
    "    shp_pts = list(row.geo.exterior.coords)\n",
    "    fol_pts = [(p[1],p[0]) for p in shp_pts]\n",
    "    poly = folium.PolyLine(fol_pts, color='blue')\n",
    "#     print(poly)\n",
    "    poly.add_to(e_map)\n",
    "#     e_map.add_child(poly)\n",
    "\n",
    "e_map\n",
    "# add_choropleth(e_map, starParks_gdf.drop('Starbucks',1), \"idx\",\"dist\",fill_color = 'RdBu', line_opacity=0.9, classifier=\"Quantiles\")"
   ]
  },
  {
   "cell_type": "code",
   "execution_count": null,
   "metadata": {
    "collapsed": true
   },
   "outputs": [],
   "source": []
  }
 ],
 "metadata": {
  "anaconda-cloud": {},
  "kernelspec": {
   "display_name": "Python 3",
   "language": "python",
   "name": "python3"
  },
  "language_info": {
   "codemirror_mode": {
    "name": "ipython",
    "version": 3
   },
   "file_extension": ".py",
   "mimetype": "text/x-python",
   "name": "python",
   "nbconvert_exporter": "python",
   "pygments_lexer": "ipython3",
   "version": "3.5.3"
  },
  "toc": {
   "colors": {
    "hover_highlight": "#DAA520",
    "running_highlight": "#FF0000",
    "selected_highlight": "#FFD700"
   },
   "moveMenuLeft": true,
   "nav_menu": {
    "height": "13px",
    "width": "253px"
   },
   "navigate_menu": true,
   "number_sections": true,
   "sideBar": true,
   "threshold": 4,
   "toc_cell": true,
   "toc_position": {
    "height": "1056px",
    "left": "0px",
    "right": "auto",
    "top": "107px",
    "width": "289px"
   },
   "toc_section_display": "block",
   "toc_window_display": true
  }
 },
 "nbformat": 4,
 "nbformat_minor": 1
}
