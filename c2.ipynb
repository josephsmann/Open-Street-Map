{
 "cells": [
  {
   "cell_type": "markdown",
   "metadata": {
    "run_control": {
     "marked": false
    }
   },
   "source": [
    "\n",
    "## what do I need to do?\n",
    "- big map little map?\n",
    "- "
   ]
  },
  {
   "cell_type": "markdown",
   "metadata": {
    "run_control": {
     "marked": false
    }
   },
   "source": [
    "# Exploration"
   ]
  },
  {
   "cell_type": "code",
   "execution_count": 1,
   "metadata": {},
   "outputs": [
    {
     "name": "stdout",
     "output_type": "stream",
     "text": [
      "# conda environments:\r\n",
      "#\r\n",
      "fst                   *  /Users/josephmann/anaconda3/envs/fst\r\n",
      "root                     /Users/josephmann/anaconda3\r\n",
      "\r\n"
     ]
    }
   ],
   "source": [
    "!conda env list"
   ]
  },
  {
   "cell_type": "code",
   "execution_count": 2,
   "metadata": {
    "collapsed": true
   },
   "outputs": [],
   "source": [
    "import sys\n",
    "\n",
    "sys.path.insert(0,'/Users/josephmann/Documents/GitHub/dask/dask/')"
   ]
  },
  {
   "cell_type": "code",
   "execution_count": 3,
   "metadata": {
    "cell_style": "split",
    "collapsed": true,
    "run_control": {
     "marked": false
    }
   },
   "outputs": [],
   "source": [
    "import numpy\n",
    "import jmespath as jp\n",
    "import pandas as pd\n",
    "import re\n",
    "from pymongo import MongoClient\n"
   ]
  },
  {
   "cell_type": "code",
   "execution_count": 4,
   "metadata": {
    "cell_style": "split",
    "collapsed": true,
    "run_control": {
     "marked": false
    }
   },
   "outputs": [],
   "source": [
    "from clean_osm import *\n",
    "from importlib import reload"
   ]
  },
  {
   "cell_type": "code",
   "execution_count": 5,
   "metadata": {
    "cell_style": "split",
    "run_control": {
     "marked": false
    }
   },
   "outputs": [
    {
     "data": {
      "text/plain": [
       "<module 'clean_osm' from '/Users/josephmann/Documents/Notebooks/u2/clean_osm/__init__.py'>"
      ]
     },
     "execution_count": 5,
     "metadata": {},
     "output_type": "execute_result"
    }
   ],
   "source": [
    "import clean_osm\n",
    "reload(clean_osm)"
   ]
  },
  {
   "cell_type": "code",
   "execution_count": 6,
   "metadata": {
    "cell_style": "split",
    "run_control": {
     "marked": false
    }
   },
   "outputs": [
    {
     "data": {
      "text/plain": [
       "<module 'clean_osm.cl' from '/Users/josephmann/Documents/Notebooks/u2/clean_osm/cl.py'>"
      ]
     },
     "execution_count": 6,
     "metadata": {},
     "output_type": "execute_result"
    }
   ],
   "source": [
    "reload(clean_osm.cl)"
   ]
  },
  {
   "cell_type": "code",
   "execution_count": 7,
   "metadata": {
    "cell_style": "split",
    "collapsed": true,
    "run_control": {
     "marked": false
    }
   },
   "outputs": [],
   "source": [
    "%load_ext autoreload\n",
    "%autoreload 2"
   ]
  },
  {
   "cell_type": "code",
   "execution_count": 8,
   "metadata": {
    "cell_style": "split",
    "collapsed": true,
    "run_control": {
     "marked": false
    }
   },
   "outputs": [],
   "source": [
    "from clean_osm.cl import *"
   ]
  },
  {
   "cell_type": "markdown",
   "metadata": {
    "run_control": {
     "marked": false
    }
   },
   "source": [
    "## Set up test suite"
   ]
  },
  {
   "cell_type": "code",
   "execution_count": 9,
   "metadata": {
    "cell_style": "split",
    "collapsed": true,
    "run_control": {
     "marked": false
    }
   },
   "outputs": [],
   "source": [
    "import pytest\n"
   ]
  },
  {
   "cell_type": "code",
   "execution_count": 10,
   "metadata": {
    "cell_style": "center",
    "run_control": {
     "marked": false
    },
    "scrolled": false
   },
   "outputs": [
    {
     "name": "stdout",
     "output_type": "stream",
     "text": [
      "================================================================= test session starts =================================================================\n",
      "platform darwin -- Python 3.6.1, pytest-3.1.2, py-1.4.34, pluggy-0.4.0 -- /Users/josephmann/anaconda3/envs/fst/bin/python\n",
      "cachedir: .cache\n",
      "rootdir: /Users/josephmann/Documents/Notebooks/u2, inifile:\n",
      "collecting ... collected 5 items\n",
      "\n",
      "clean_osm/test_clean.py::test_download_data PASSED\n",
      "clean_osm/test_clean.py::test_get_element PASSED\n",
      "clean_osm/test_clean.py::test_element2dict PASSED\n",
      "clean_osm/test_clean.py::test_pf PASSED\n",
      "clean_osm/test_clean.py::test_top_value_freqs PASSED\n",
      "\n",
      "============================================================== 5 passed in 34.11 seconds ==============================================================\n"
     ]
    },
    {
     "data": {
      "text/plain": [
       "0"
      ]
     },
     "execution_count": 10,
     "metadata": {},
     "output_type": "execute_result"
    }
   ],
   "source": [
    "# !rm sample*\n",
    "pytest.main(['-v','clean_osm'])"
   ]
  },
  {
   "cell_type": "markdown",
   "metadata": {
    "run_control": {
     "marked": false
    }
   },
   "source": [
    "## Create bag"
   ]
  },
  {
   "cell_type": "code",
   "execution_count": 11,
   "metadata": {
    "cell_style": "split",
    "run_control": {
     "marked": false
    }
   },
   "outputs": [
    {
     "name": "stdout",
     "output_type": "stream",
     "text": [
      "partition files still fresh\n"
     ]
    }
   ],
   "source": [
    "b1 = cl.pf()"
   ]
  },
  {
   "cell_type": "markdown",
   "metadata": {
    "run_control": {
     "marked": false
    }
   },
   "source": [
    "## tag frequencies"
   ]
  },
  {
   "cell_type": "code",
   "execution_count": 12,
   "metadata": {},
   "outputs": [
    {
     "data": {
      "text/plain": [
       "8"
      ]
     },
     "execution_count": 12,
     "metadata": {},
     "output_type": "execute_result"
    }
   ],
   "source": [
    "b1.npartitions"
   ]
  },
  {
   "cell_type": "code",
   "execution_count": 13,
   "metadata": {
    "run_control": {
     "marked": false
    }
   },
   "outputs": [
    {
     "data": {
      "text/plain": [
       "({'attr': {'changeset': '43379308',\n",
       "   'id': '29811182',\n",
       "   'lat': '53.5354110',\n",
       "   'lon': '-113.5079960',\n",
       "   'timestamp': '2016-11-03T14:01:28Z',\n",
       "   'uid': '1943392',\n",
       "   'user': 'LogicalViolinist',\n",
       "   'version': '27'},\n",
       "  'tag': {'admin_level': '8',\n",
       "   'capital': '4',\n",
       "   'ele': '645',\n",
       "   'is_in': {'continent': 'North America',\n",
       "    'country': 'Canada',\n",
       "    'country_code': 'CA',\n",
       "    'iso_3166_2': 'CA-AB',\n",
       "    'root': 'Alberta; Canada',\n",
       "    'state': 'Alberta',\n",
       "    'state_code': 'AB'},\n",
       "   'name': {'ar': 'إدمونتون',\n",
       "    'de': 'Edmonton',\n",
       "    'en': 'Edmonton',\n",
       "    'fr': 'Edmonton',\n",
       "    'root': 'Edmonton',\n",
       "    'ru': 'Эдмонтон',\n",
       "    'uk': 'Едмонтон'},\n",
       "   'place': 'city',\n",
       "   'population': '812201',\n",
       "   'state_capital': 'yes',\n",
       "   'wikidata': 'Q2096',\n",
       "   'wikipedia': 'en:Edmonton'},\n",
       "  'type': 'node'},)"
      ]
     },
     "execution_count": 13,
     "metadata": {},
     "output_type": "execute_result"
    }
   ],
   "source": [
    "b1.take(1)"
   ]
  },
  {
   "cell_type": "code",
   "execution_count": 14,
   "metadata": {
    "run_control": {
     "marked": false
    }
   },
   "outputs": [
    {
     "name": "stderr",
     "output_type": "stream",
     "text": [
      "/Users/josephmann/anaconda3/envs/fst/lib/python3.6/site-packages/dask/bag/core.py:1063: UserWarning: Deprecated.  Use the .flatten method instead\n",
      "  warn(\"Deprecated.  Use the .flatten method instead\")\n"
     ]
    },
    {
     "data": {
      "text/plain": [
       "[('type', 422256), ('attr', 422256), ('tag', 422256)]"
      ]
     },
     "execution_count": 14,
     "metadata": {},
     "output_type": "execute_result"
    }
   ],
   "source": [
    "b1.map(lambda d: jp.search('keys(@)[]', d)).concat().frequencies().compute()"
   ]
  },
  {
   "cell_type": "markdown",
   "metadata": {
    "run_control": {
     "marked": false
    }
   },
   "source": [
    "### `top_value_freqs`"
   ]
  },
  {
   "cell_type": "code",
   "execution_count": 15,
   "metadata": {
    "cell_style": "split",
    "collapsed": true,
    "run_control": {
     "marked": false
    }
   },
   "outputs": [],
   "source": [
    "def top_value_freqs(subtag, b1=b1, n=5):\n",
    "    \"\"\"\n",
    "    parameters:\n",
    "    ----------\n",
    "    subtag (string): returns the top n frequencies of values\n",
    "    for the key \"subtag\"\n",
    "    if the value of \"tag.[subtag]\" is a dictionary then it returns \n",
    "    the top frequencies of the keys of  that dictionary.\n",
    "\n",
    "    b1 (dask Bag): the bag that will be searched\n",
    "\n",
    "    n (int): number of the most freqent tags and their frequencies to return\n",
    "\n",
    "    returns:\n",
    "    -------\n",
    "    a dask bag of pairs (value, count)\n",
    "    \"\"\"\n",
    "\n",
    "    expression = jp.compile(subtag)\n",
    "\n",
    "    # make bag of subelements, remove None elements\n",
    "    b2 = b1.map(lambda d: expression.search(d)).filter(lambda d: d)\n",
    "\n",
    "    # make bag of lists comprised of key lists or just single element lists\n",
    "    b3 = b2.map(lambda d: list(d.keys()) if isinstance(\n",
    "        d, dict) else (d if isinstance(d, list) else [d]))\n",
    "\n",
    "    # concatenate all lists together\n",
    "    b4 = b3.flatten()\n",
    "\n",
    "    # remove None elemens\n",
    "    b5 = b4.filter(lambda d: d)\n",
    "\n",
    "    # return bag with top n frequencies\n",
    "    return b5.frequencies().topk(n, lambda x: x[1])"
   ]
  },
  {
   "cell_type": "code",
   "execution_count": 16,
   "metadata": {
    "run_control": {
     "marked": false
    }
   },
   "outputs": [
    {
     "data": {
      "text/plain": [
       "{'node': 366139, 'relation': 399, 'way': 55718}"
      ]
     },
     "execution_count": 16,
     "metadata": {},
     "output_type": "execute_result"
    }
   ],
   "source": [
    "{k:w for k,w in cl.top_value_freqs('type', b1, n=20).compute()}"
   ]
  },
  {
   "cell_type": "code",
   "execution_count": 89,
   "metadata": {
    "run_control": {
     "marked": false
    }
   },
   "outputs": [
    {
     "data": {
      "text/plain": [
       "[('edmontongeo', 331481),\n",
       " ('xixi', 18233),\n",
       " ('Sundance', 14029),\n",
       " ('Feldo', 8225),\n",
       " ('yegbin', 7615),\n",
       " ('Mesowhite', 7578),\n",
       " ('ij_', 4759),\n",
       " ('jdkrabbe', 4658),\n",
       " ('ptrchpmn', 3110),\n",
       " ('ec90', 2000),\n",
       " ('AKC', 1826),\n",
       " ('Viajero Perdido', 1762),\n",
       " ('xelloss', 1740),\n",
       " ('yoltia', 1405),\n",
       " ('flight780', 1204),\n",
       " ('alester', 1063),\n",
       " ('ionutr_telenav', 931),\n",
       " ('Ranek', 922),\n",
       " ('ntrussell', 917),\n",
       " ('spince', 603)]"
      ]
     },
     "execution_count": 89,
     "metadata": {},
     "output_type": "execute_result"
    }
   ],
   "source": [
    "top_value_freqs('attr.user', b1=b1, n=20).compute()"
   ]
  },
  {
   "cell_type": "code",
   "execution_count": 18,
   "metadata": {
    "run_control": {
     "marked": false
    },
    "scrolled": true
   },
   "outputs": [
    {
     "data": {
      "text/html": [
       "<div>\n",
       "<style>\n",
       "    .dataframe thead tr:only-child th {\n",
       "        text-align: right;\n",
       "    }\n",
       "\n",
       "    .dataframe thead th {\n",
       "        text-align: left;\n",
       "    }\n",
       "\n",
       "    .dataframe tbody tr th {\n",
       "        vertical-align: top;\n",
       "    }\n",
       "</style>\n",
       "<table border=\"1\" class=\"dataframe\">\n",
       "  <thead>\n",
       "    <tr style=\"text-align: right;\">\n",
       "      <th></th>\n",
       "      <th>0</th>\n",
       "      <th>1</th>\n",
       "    </tr>\n",
       "  </thead>\n",
       "  <tbody>\n",
       "    <tr>\n",
       "      <th>0</th>\n",
       "      <td>changeset</td>\n",
       "      <td>422256</td>\n",
       "    </tr>\n",
       "    <tr>\n",
       "      <th>1</th>\n",
       "      <td>id</td>\n",
       "      <td>422256</td>\n",
       "    </tr>\n",
       "    <tr>\n",
       "      <th>2</th>\n",
       "      <td>timestamp</td>\n",
       "      <td>422256</td>\n",
       "    </tr>\n",
       "    <tr>\n",
       "      <th>3</th>\n",
       "      <td>uid</td>\n",
       "      <td>422256</td>\n",
       "    </tr>\n",
       "    <tr>\n",
       "      <th>4</th>\n",
       "      <td>user</td>\n",
       "      <td>422256</td>\n",
       "    </tr>\n",
       "    <tr>\n",
       "      <th>5</th>\n",
       "      <td>version</td>\n",
       "      <td>422256</td>\n",
       "    </tr>\n",
       "    <tr>\n",
       "      <th>6</th>\n",
       "      <td>lat</td>\n",
       "      <td>366139</td>\n",
       "    </tr>\n",
       "    <tr>\n",
       "      <th>7</th>\n",
       "      <td>lon</td>\n",
       "      <td>366139</td>\n",
       "    </tr>\n",
       "  </tbody>\n",
       "</table>\n",
       "</div>"
      ],
      "text/plain": [
       "           0       1\n",
       "0  changeset  422256\n",
       "1         id  422256\n",
       "2  timestamp  422256\n",
       "3        uid  422256\n",
       "4       user  422256\n",
       "5    version  422256\n",
       "6        lat  366139\n",
       "7        lon  366139"
      ]
     },
     "execution_count": 18,
     "metadata": {},
     "output_type": "execute_result"
    }
   ],
   "source": [
    "pd.DataFrame.from_records(top_value_freqs('attr', b1, n=10).compute())"
   ]
  },
  {
   "cell_type": "code",
   "execution_count": 19,
   "metadata": {},
   "outputs": [
    {
     "data": {
      "text/plain": [
       "'0.15.0'"
      ]
     },
     "execution_count": 19,
     "metadata": {},
     "output_type": "execute_result"
    }
   ],
   "source": [
    "import dask\n",
    "dask.__version__"
   ]
  },
  {
   "cell_type": "code",
   "execution_count": 20,
   "metadata": {
    "collapsed": true
   },
   "outputs": [],
   "source": [
    "%load_ext watermark"
   ]
  },
  {
   "cell_type": "code",
   "execution_count": 21,
   "metadata": {},
   "outputs": [
    {
     "name": "stdout",
     "output_type": "stream",
     "text": [
      "2017-06-21T15:04:10-06:00\n",
      "\n",
      "CPython 3.6.1\n",
      "IPython 5.4.1\n",
      "\n",
      "compiler   : GCC 4.2.1 Compatible Apple LLVM 6.1.0 (clang-602.0.53)\n",
      "system     : Darwin\n",
      "release    : 16.6.0\n",
      "machine    : x86_64\n",
      "processor  : i386\n",
      "CPU cores  : 8\n",
      "interpreter: 64bit\n"
     ]
    }
   ],
   "source": [
    "%watermark"
   ]
  },
  {
   "cell_type": "code",
   "execution_count": 22,
   "metadata": {
    "collapsed": true
   },
   "outputs": [],
   "source": [
    "import sys"
   ]
  },
  {
   "cell_type": "code",
   "execution_count": 23,
   "metadata": {
    "run_control": {
     "marked": false
    },
    "scrolled": true
   },
   "outputs": [
    {
     "data": {
      "text/html": [
       "<div>\n",
       "<style>\n",
       "    .dataframe thead tr:only-child th {\n",
       "        text-align: right;\n",
       "    }\n",
       "\n",
       "    .dataframe thead th {\n",
       "        text-align: left;\n",
       "    }\n",
       "\n",
       "    .dataframe tbody tr th {\n",
       "        vertical-align: top;\n",
       "    }\n",
       "</style>\n",
       "<table border=\"1\" class=\"dataframe\">\n",
       "  <thead>\n",
       "    <tr style=\"text-align: right;\">\n",
       "      <th></th>\n",
       "      <th>0</th>\n",
       "      <th>1</th>\n",
       "    </tr>\n",
       "  </thead>\n",
       "  <tbody>\n",
       "    <tr>\n",
       "      <th>0</th>\n",
       "      <td>node</td>\n",
       "      <td>366139</td>\n",
       "    </tr>\n",
       "    <tr>\n",
       "      <th>1</th>\n",
       "      <td>way</td>\n",
       "      <td>55718</td>\n",
       "    </tr>\n",
       "    <tr>\n",
       "      <th>2</th>\n",
       "      <td>relation</td>\n",
       "      <td>399</td>\n",
       "    </tr>\n",
       "  </tbody>\n",
       "</table>\n",
       "</div>"
      ],
      "text/plain": [
       "          0       1\n",
       "0      node  366139\n",
       "1       way   55718\n",
       "2  relation     399"
      ]
     },
     "execution_count": 23,
     "metadata": {},
     "output_type": "execute_result"
    }
   ],
   "source": [
    "pd.DataFrame.from_records(top_value_freqs('type', b1, n=10).compute())"
   ]
  },
  {
   "cell_type": "code",
   "execution_count": 24,
   "metadata": {
    "run_control": {
     "marked": false
    }
   },
   "outputs": [
    {
     "data": {
      "text/html": [
       "<div>\n",
       "<style>\n",
       "    .dataframe thead tr:only-child th {\n",
       "        text-align: right;\n",
       "    }\n",
       "\n",
       "    .dataframe thead th {\n",
       "        text-align: left;\n",
       "    }\n",
       "\n",
       "    .dataframe tbody tr th {\n",
       "        vertical-align: top;\n",
       "    }\n",
       "</style>\n",
       "<table border=\"1\" class=\"dataframe\">\n",
       "  <thead>\n",
       "    <tr style=\"text-align: right;\">\n",
       "      <th></th>\n",
       "      <th>0</th>\n",
       "      <th>1</th>\n",
       "    </tr>\n",
       "  </thead>\n",
       "  <tbody>\n",
       "    <tr>\n",
       "      <th>0</th>\n",
       "      <td>building</td>\n",
       "      <td>41773</td>\n",
       "    </tr>\n",
       "    <tr>\n",
       "      <th>1</th>\n",
       "      <td>source</td>\n",
       "      <td>21279</td>\n",
       "    </tr>\n",
       "    <tr>\n",
       "      <th>2</th>\n",
       "      <td>addr</td>\n",
       "      <td>19262</td>\n",
       "    </tr>\n",
       "    <tr>\n",
       "      <th>3</th>\n",
       "      <td>highway</td>\n",
       "      <td>7300</td>\n",
       "    </tr>\n",
       "    <tr>\n",
       "      <th>4</th>\n",
       "      <td>name</td>\n",
       "      <td>4875</td>\n",
       "    </tr>\n",
       "    <tr>\n",
       "      <th>5</th>\n",
       "      <td>service</td>\n",
       "      <td>1599</td>\n",
       "    </tr>\n",
       "    <tr>\n",
       "      <th>6</th>\n",
       "      <td>amenity</td>\n",
       "      <td>1525</td>\n",
       "    </tr>\n",
       "    <tr>\n",
       "      <th>7</th>\n",
       "      <td>lanes</td>\n",
       "      <td>1229</td>\n",
       "    </tr>\n",
       "    <tr>\n",
       "      <th>8</th>\n",
       "      <td>oneway</td>\n",
       "      <td>1116</td>\n",
       "    </tr>\n",
       "    <tr>\n",
       "      <th>9</th>\n",
       "      <td>landuse</td>\n",
       "      <td>986</td>\n",
       "    </tr>\n",
       "  </tbody>\n",
       "</table>\n",
       "</div>"
      ],
      "text/plain": [
       "          0      1\n",
       "0  building  41773\n",
       "1    source  21279\n",
       "2      addr  19262\n",
       "3   highway   7300\n",
       "4      name   4875\n",
       "5   service   1599\n",
       "6   amenity   1525\n",
       "7     lanes   1229\n",
       "8    oneway   1116\n",
       "9   landuse    986"
      ]
     },
     "execution_count": 24,
     "metadata": {},
     "output_type": "execute_result"
    }
   ],
   "source": [
    "pd.DataFrame.from_records(top_value_freqs('tag', b1, n=10).compute())"
   ]
  },
  {
   "cell_type": "code",
   "execution_count": 25,
   "metadata": {
    "cell_style": "split",
    "run_control": {
     "marked": false
    }
   },
   "outputs": [
    {
     "data": {
      "text/html": [
       "<div>\n",
       "<style>\n",
       "    .dataframe thead tr:only-child th {\n",
       "        text-align: right;\n",
       "    }\n",
       "\n",
       "    .dataframe thead th {\n",
       "        text-align: left;\n",
       "    }\n",
       "\n",
       "    .dataframe tbody tr th {\n",
       "        vertical-align: top;\n",
       "    }\n",
       "</style>\n",
       "<table border=\"1\" class=\"dataframe\">\n",
       "  <thead>\n",
       "    <tr style=\"text-align: right;\">\n",
       "      <th></th>\n",
       "      <th>0</th>\n",
       "      <th>1</th>\n",
       "    </tr>\n",
       "  </thead>\n",
       "  <tbody>\n",
       "    <tr>\n",
       "      <th>0</th>\n",
       "      <td>Edmonton,Alberta</td>\n",
       "      <td>396</td>\n",
       "    </tr>\n",
       "    <tr>\n",
       "      <th>1</th>\n",
       "      <td>Edmonton</td>\n",
       "      <td>7</td>\n",
       "    </tr>\n",
       "    <tr>\n",
       "      <th>2</th>\n",
       "      <td>continent</td>\n",
       "      <td>2</td>\n",
       "    </tr>\n",
       "    <tr>\n",
       "      <th>3</th>\n",
       "      <td>country</td>\n",
       "      <td>2</td>\n",
       "    </tr>\n",
       "    <tr>\n",
       "      <th>4</th>\n",
       "      <td>country_code</td>\n",
       "      <td>2</td>\n",
       "    </tr>\n",
       "  </tbody>\n",
       "</table>\n",
       "</div>"
      ],
      "text/plain": [
       "                  0    1\n",
       "0  Edmonton,Alberta  396\n",
       "1          Edmonton    7\n",
       "2         continent    2\n",
       "3           country    2\n",
       "4      country_code    2"
      ]
     },
     "execution_count": 25,
     "metadata": {},
     "output_type": "execute_result"
    }
   ],
   "source": [
    "pd.DataFrame.from_records(top_value_freqs('tag.is_in', b1).compute())"
   ]
  },
  {
   "cell_type": "markdown",
   "metadata": {
    "run_control": {
     "marked": false
    }
   },
   "source": [
    "# Data Cleaning"
   ]
  },
  {
   "cell_type": "markdown",
   "metadata": {
    "run_control": {
     "marked": false
    }
   },
   "source": [
    "## Tale of Two Cities"
   ]
  },
  {
   "cell_type": "code",
   "execution_count": 26,
   "metadata": {
    "run_control": {
     "marked": false
    }
   },
   "outputs": [
    {
     "data": {
      "text/plain": [
       "['Edmonton', None, 'edmonton']"
      ]
     },
     "execution_count": 26,
     "metadata": {},
     "output_type": "execute_result"
    }
   ],
   "source": [
    "b1.map(\n",
    "    lambda d: jp.search('tag.addr.city',d)).distinct().compute()\n"
   ]
  },
  {
   "cell_type": "code",
   "execution_count": 27,
   "metadata": {
    "run_control": {
     "marked": false
    }
   },
   "outputs": [
    {
     "data": {
      "text/plain": [
       "[('Edmonton', 13057), ('edmonton', 1)]"
      ]
     },
     "execution_count": 27,
     "metadata": {},
     "output_type": "execute_result"
    }
   ],
   "source": [
    "top_value_freqs('tag.addr.city',b1).compute()"
   ]
  },
  {
   "cell_type": "code",
   "execution_count": 28,
   "metadata": {
    "cell_style": "split",
    "collapsed": true,
    "run_control": {
     "marked": false
    }
   },
   "outputs": [],
   "source": [
    "\n",
    "def fix_city(doc):\n",
    "    path = 'tag.addr.city'\n",
    "    cpath = jp.compile(path)\n",
    "    value = cpath.search(doc)\n",
    "    if value:\n",
    "        doc['tag']['addr']['city'] = 'Edmonton'\n",
    "\n",
    "    return doc"
   ]
  },
  {
   "cell_type": "code",
   "execution_count": 29,
   "metadata": {
    "run_control": {
     "marked": false
    }
   },
   "outputs": [
    {
     "data": {
      "text/plain": [
       "[]"
      ]
     },
     "execution_count": 29,
     "metadata": {},
     "output_type": "execute_result"
    }
   ],
   "source": [
    "top_value_freqs('addr.city', b1= b1.map(fix_city)).compute()"
   ]
  },
  {
   "cell_type": "markdown",
   "metadata": {
    "run_control": {
     "marked": false
    }
   },
   "source": [
    "## Five Provinces"
   ]
  },
  {
   "cell_type": "code",
   "execution_count": 30,
   "metadata": {
    "run_control": {
     "marked": false
    }
   },
   "outputs": [
    {
     "data": {
      "text/plain": [
       "['Aberta', 'Alberta', 'Alberta;AB', 'AVB', 'AB']"
      ]
     },
     "execution_count": 30,
     "metadata": {},
     "output_type": "execute_result"
    }
   ],
   "source": [
    "b1.map(lambda d: jp.search('tag.addr.province', d)).filter(lambda d: d).distinct().compute()"
   ]
  },
  {
   "cell_type": "code",
   "execution_count": 31,
   "metadata": {
    "run_control": {
     "marked": false
    }
   },
   "outputs": [
    {
     "data": {
      "text/plain": [
       "['AB']"
      ]
     },
     "execution_count": 31,
     "metadata": {},
     "output_type": "execute_result"
    }
   ],
   "source": [
    "b1.map(lambda d: jp.search('tag.addr.state', d)).filter(lambda d: d).distinct().compute()"
   ]
  },
  {
   "cell_type": "markdown",
   "metadata": {
    "run_control": {
     "marked": false
    }
   },
   "source": [
    "### Provinces Fix"
   ]
  },
  {
   "cell_type": "markdown",
   "metadata": {
    "cell_style": "split",
    "run_control": {
     "marked": false
    }
   },
   "source": [
    "Previously we had the following distribution of entries for *province*."
   ]
  },
  {
   "cell_type": "code",
   "execution_count": 32,
   "metadata": {
    "run_control": {
     "marked": false
    }
   },
   "outputs": [
    {
     "data": {
      "text/html": [
       "<div>\n",
       "<style>\n",
       "    .dataframe thead tr:only-child th {\n",
       "        text-align: right;\n",
       "    }\n",
       "\n",
       "    .dataframe thead th {\n",
       "        text-align: left;\n",
       "    }\n",
       "\n",
       "    .dataframe tbody tr th {\n",
       "        vertical-align: top;\n",
       "    }\n",
       "</style>\n",
       "<table border=\"1\" class=\"dataframe\">\n",
       "  <thead>\n",
       "    <tr style=\"text-align: right;\">\n",
       "      <th></th>\n",
       "      <th>0</th>\n",
       "      <th>1</th>\n",
       "    </tr>\n",
       "  </thead>\n",
       "  <tbody>\n",
       "    <tr>\n",
       "      <th>0</th>\n",
       "      <td>AB</td>\n",
       "      <td>141</td>\n",
       "    </tr>\n",
       "    <tr>\n",
       "      <th>1</th>\n",
       "      <td>Alberta</td>\n",
       "      <td>29</td>\n",
       "    </tr>\n",
       "    <tr>\n",
       "      <th>2</th>\n",
       "      <td>AVB</td>\n",
       "      <td>1</td>\n",
       "    </tr>\n",
       "    <tr>\n",
       "      <th>3</th>\n",
       "      <td>Aberta</td>\n",
       "      <td>1</td>\n",
       "    </tr>\n",
       "    <tr>\n",
       "      <th>4</th>\n",
       "      <td>Alberta;AB</td>\n",
       "      <td>1</td>\n",
       "    </tr>\n",
       "  </tbody>\n",
       "</table>\n",
       "</div>"
      ],
      "text/plain": [
       "            0    1\n",
       "0          AB  141\n",
       "1     Alberta   29\n",
       "2         AVB    1\n",
       "3      Aberta    1\n",
       "4  Alberta;AB    1"
      ]
     },
     "execution_count": 32,
     "metadata": {},
     "output_type": "execute_result"
    }
   ],
   "source": [
    "pd.DataFrame(\n",
    "    top_value_freqs('tag.addr.province',b1=b1).compute())"
   ]
  },
  {
   "cell_type": "markdown",
   "metadata": {
    "run_control": {
     "marked": false
    }
   },
   "source": [
    "We change all entries with province to 'Alberta', independently of previous content."
   ]
  },
  {
   "cell_type": "code",
   "execution_count": 33,
   "metadata": {
    "cell_style": "split",
    "collapsed": true,
    "run_control": {
     "marked": false
    }
   },
   "outputs": [],
   "source": [
    "\n",
    "def fix_province(doc):\n",
    "    path = 'tag.addr.province'\n",
    "    cpath = jp.compile(path)\n",
    "    value = cpath.search(doc)\n",
    "    if value:\n",
    "        doc['tag']['addr']['province'] = 'Alberta'\n",
    "\n",
    "    return doc"
   ]
  },
  {
   "cell_type": "code",
   "execution_count": 34,
   "metadata": {
    "cell_style": "split",
    "run_control": {
     "marked": false
    }
   },
   "outputs": [
    {
     "data": {
      "text/plain": [
       "['Alberta']"
      ]
     },
     "execution_count": 34,
     "metadata": {},
     "output_type": "execute_result"
    }
   ],
   "source": [
    "b1.map(fix_province).map(lambda d: jp.search('tag.addr.province', d)).filter(\n",
    "    lambda d: d).distinct().compute()"
   ]
  },
  {
   "cell_type": "code",
   "execution_count": 35,
   "metadata": {
    "cell_style": "split",
    "run_control": {
     "marked": false
    }
   },
   "outputs": [
    {
     "data": {
      "text/html": [
       "<div>\n",
       "<style>\n",
       "    .dataframe thead tr:only-child th {\n",
       "        text-align: right;\n",
       "    }\n",
       "\n",
       "    .dataframe thead th {\n",
       "        text-align: left;\n",
       "    }\n",
       "\n",
       "    .dataframe tbody tr th {\n",
       "        vertical-align: top;\n",
       "    }\n",
       "</style>\n",
       "<table border=\"1\" class=\"dataframe\">\n",
       "  <thead>\n",
       "    <tr style=\"text-align: right;\">\n",
       "      <th></th>\n",
       "      <th>0</th>\n",
       "      <th>1</th>\n",
       "    </tr>\n",
       "  </thead>\n",
       "  <tbody>\n",
       "    <tr>\n",
       "      <th>0</th>\n",
       "      <td>Alberta</td>\n",
       "      <td>173</td>\n",
       "    </tr>\n",
       "  </tbody>\n",
       "</table>\n",
       "</div>"
      ],
      "text/plain": [
       "         0    1\n",
       "0  Alberta  173"
      ]
     },
     "execution_count": 35,
     "metadata": {},
     "output_type": "execute_result"
    }
   ],
   "source": [
    "pd.DataFrame(\n",
    "    top_value_freqs('tag.addr.province', b1=b1.map(fix_province)).compute())"
   ]
  },
  {
   "cell_type": "markdown",
   "metadata": {
    "cell_style": "split",
    "run_control": {
     "marked": false
    }
   },
   "source": [
    "After our fix we have the following:"
   ]
  },
  {
   "cell_type": "markdown",
   "metadata": {
    "run_control": {
     "marked": false
    }
   },
   "source": [
    "## Non-standard postal codes"
   ]
  },
  {
   "cell_type": "code",
   "execution_count": 36,
   "metadata": {
    "run_control": {
     "marked": false
    },
    "scrolled": true
   },
   "outputs": [
    {
     "data": {
      "text/plain": [
       "['T5J-1J4',\n",
       " 'T6e 2g9',\n",
       " 'T5L4G4',\n",
       " 'T5C3C8',\n",
       " 'T6E1Z2',\n",
       " 'T6C1N8',\n",
       " 'T5J1E3',\n",
       " 'AB T5J',\n",
       " 'T5J1A7',\n",
       " 'Alberta T6G',\n",
       " 't6e 2g9',\n",
       " 'AB T6E4S6',\n",
       " 'T5J4B7',\n",
       " 'T5H3J7',\n",
       " 'T5K2X4',\n",
       " 'T5N2N8',\n",
       " 'T6G1C9',\n",
       " 'T6E',\n",
       " 'T5M0J2',\n",
       " 'T5K0G1',\n",
       " 'T5H2Z4',\n",
       " 'T5H1A8',\n",
       " 'T6E3Z5',\n",
       " 'T6E3Z4',\n",
       " 'T5M2P2',\n",
       " 'T5J-0R2',\n",
       " 'T5M0S7',\n",
       " 'T6E',\n",
       " 'T5N2T3',\n",
       " 'T5R0L9',\n",
       " 'T5N3L5',\n",
       " 'T5N1H6',\n",
       " 'T6A3X4',\n",
       " 'T5N0N7',\n",
       " 'T5N2V3',\n",
       " 'T6C1W5',\n",
       " 'T5M0V4',\n",
       " 'T5H0B1',\n",
       " 'T5G2E7',\n",
       " 'T5B0A1',\n",
       " 'T5N0W4',\n",
       " 'T6G1T5',\n",
       " 'T5M1P8',\n",
       " 'T5J',\n",
       " 'T5J5A2',\n",
       " 'T5G0A6',\n",
       " 'T6G',\n",
       " 'T6G',\n",
       " 'T5J',\n",
       " 'T5J',\n",
       " 'T5G3K2',\n",
       " 'T5H2L3',\n",
       " 'T6C1B5',\n",
       " 'T5J',\n",
       " 'T6G0X4',\n",
       " 'T5J',\n",
       " 'T5J',\n",
       " 'T5H',\n",
       " 'T5K2V4',\n",
       " 'T5R5B3',\n",
       " 'T6C1N8',\n",
       " 'T6A1B6']"
      ]
     },
     "execution_count": 36,
     "metadata": {},
     "output_type": "execute_result"
    }
   ],
   "source": [
    "postal_re = re.compile(r'[A-Z]\\d[A-Z] \\d[A-Z]\\d')\n",
    "b1.map(lambda d: jp.search('tag.addr.postcode', d)).filter(\n",
    "    lambda d: d).filter(lambda c: not postal_re.match(c)).compute()"
   ]
  },
  {
   "cell_type": "markdown",
   "metadata": {
    "run_control": {
     "marked": false
    }
   },
   "source": [
    "### Fix postal codes"
   ]
  },
  {
   "cell_type": "code",
   "execution_count": 37,
   "metadata": {
    "cell_style": "split",
    "collapsed": true,
    "run_control": {
     "marked": false
    }
   },
   "outputs": [],
   "source": [
    "\n",
    "def fix_postal_codes(doc):\n",
    "    path = 'tag.addr.postcode'\n",
    "    pc_re = re.compile(r'([A-Z]\\d[A-Z])[-\\s]*(\\d[A-Z]\\d){0,1}', re.IGNORECASE)\n",
    "    cpath = jp.compile(path)\n",
    "    value = cpath.search(doc)\n",
    "    if value:\n",
    "        matches = pc_re.search(value)\n",
    "        if matches:\n",
    "            s = \"{}\".format(matches.group(1))\n",
    "            if matches.group(2):\n",
    "                s += \" \" + matches.group(2)\n",
    "            s = s.upper()\n",
    "            doc['tag']['addr']['postcode'] = s\n",
    "\n",
    "    return doc"
   ]
  },
  {
   "cell_type": "code",
   "execution_count": 38,
   "metadata": {
    "run_control": {
     "marked": false
    },
    "scrolled": true
   },
   "outputs": [
    {
     "data": {
      "text/plain": [
       "[]"
      ]
     },
     "execution_count": 38,
     "metadata": {},
     "output_type": "execute_result"
    }
   ],
   "source": [
    "postal_re = re.compile(r'[A-Z]\\d[A-Z]( \\d[A-Z]\\d){0,1}')\n",
    "b1.map(fix_postal_codes).map(lambda d: jp.search('tag.addr.postcode', d)).filter(\n",
    "    lambda d: d).filter(lambda c: not postal_re.match(c)).compute()"
   ]
  },
  {
   "cell_type": "code",
   "execution_count": 39,
   "metadata": {
    "collapsed": true,
    "run_control": {
     "marked": false
    }
   },
   "outputs": [],
   "source": [
    "clean_b = b1.map(fix_postal_codes).map(fix_city).map(fix_province).map(json.dumps)"
   ]
  },
  {
   "cell_type": "code",
   "execution_count": 40,
   "metadata": {
    "run_control": {
     "marked": false
    }
   },
   "outputs": [
    {
     "data": {
      "text/plain": [
       "('{\"type\": \"node\", \"attr\": {\"changeset\": \"43379308\", \"id\": \"29811182\", \"lat\": \"53.5354110\", \"lon\": \"-113.5079960\", \"timestamp\": \"2016-11-03T14:01:28Z\", \"uid\": \"1943392\", \"user\": \"LogicalViolinist\", \"version\": \"27\"}, \"tag\": {\"admin_level\": \"8\", \"capital\": \"4\", \"ele\": \"645\", \"is_in\": {\"root\": \"Alberta; Canada\", \"continent\": \"North America\", \"country\": \"Canada\", \"country_code\": \"CA\", \"iso_3166_2\": \"CA-AB\", \"state\": \"Alberta\", \"state_code\": \"AB\"}, \"name\": {\"root\": \"Edmonton\", \"ar\": \"\\\\u0625\\\\u062f\\\\u0645\\\\u0648\\\\u0646\\\\u062a\\\\u0648\\\\u0646\", \"de\": \"Edmonton\", \"en\": \"Edmonton\", \"fr\": \"Edmonton\", \"ru\": \"\\\\u042d\\\\u0434\\\\u043c\\\\u043e\\\\u043d\\\\u0442\\\\u043e\\\\u043d\", \"uk\": \"\\\\u0415\\\\u0434\\\\u043c\\\\u043e\\\\u043d\\\\u0442\\\\u043e\\\\u043d\"}, \"place\": \"city\", \"population\": \"812201\", \"state_capital\": \"yes\", \"wikidata\": \"Q2096\", \"wikipedia\": \"en:Edmonton\"}}',)"
      ]
     },
     "execution_count": 40,
     "metadata": {},
     "output_type": "execute_result"
    }
   ],
   "source": [
    "clean_b.take(1)"
   ]
  },
  {
   "cell_type": "code",
   "execution_count": 41,
   "metadata": {
    "run_control": {
     "marked": false
    }
   },
   "outputs": [
    {
     "name": "stdout",
     "output_type": "stream",
     "text": [
      "-rw-r--r--@ 1 josephmann  staff    12M  5 Jun 17:32 clean-0.json\r\n",
      "-rw-r--r--@ 1 josephmann  staff    14M  5 Jun 17:32 clean-1.json\r\n",
      "-rw-r--r--@ 1 josephmann  staff    14M  5 Jun 17:32 clean-2.json\r\n",
      "-rw-r--r--@ 1 josephmann  staff    14M  5 Jun 17:32 clean-3.json\r\n",
      "-rw-r--r--@ 1 josephmann  staff    14M  5 Jun 17:32 clean-4.json\r\n",
      "-rw-r--r--@ 1 josephmann  staff    13M  5 Jun 17:32 clean-5.json\r\n",
      "-rw-r--r--@ 1 josephmann  staff   5.8M  5 Jun 17:32 clean-6.json\r\n",
      "-rw-r--r--@ 1 josephmann  staff   4.2M  5 Jun 17:32 clean-7.json\r\n"
     ]
    }
   ],
   "source": [
    "!ls -lh clean-*.json"
   ]
  },
  {
   "cell_type": "markdown",
   "metadata": {
    "run_control": {
     "marked": false
    }
   },
   "source": [
    "## Amenity frequencies"
   ]
  },
  {
   "cell_type": "code",
   "execution_count": 42,
   "metadata": {
    "cell_style": "split",
    "run_control": {
     "marked": false
    }
   },
   "outputs": [
    {
     "data": {
      "text/plain": [
       "[('parking', 521),\n",
       " ('restaurant', 168),\n",
       " ('fast_food', 129),\n",
       " ('cafe', 84),\n",
       " ('bicycle_parking', 64),\n",
       " ('bench', 60),\n",
       " ('school', 54),\n",
       " ('bank', 36),\n",
       " ('fuel', 36),\n",
       " ('place_of_worship', 36)]"
      ]
     },
     "execution_count": 42,
     "metadata": {},
     "output_type": "execute_result"
    }
   ],
   "source": [
    "top_value_freqs('tag.amenity', n=10).compute()"
   ]
  },
  {
   "cell_type": "code",
   "execution_count": 44,
   "metadata": {
    "run_control": {
     "marked": false
    }
   },
   "outputs": [
    {
     "data": {
      "text/plain": [
       "[{'en': 'Viphalay', 'root': 'Vidaley'},\n",
       " {'en': 'Maxs', 'root': 'Maxs'},\n",
       " {'fr': '爱民顿', 'root': '爱民顿'}]"
      ]
     },
     "execution_count": 44,
     "metadata": {},
     "output_type": "execute_result"
    }
   ],
   "source": [
    "b1.filter(lambda d: jp.search(\n",
    "        \"tag.amenity\",d) == 'restaurant').pluck(\n",
    "    'tag').pluck(\n",
    "    'name','Nameless').filter(lambda d: isinstance(d, dict)).compute()"
   ]
  },
  {
   "cell_type": "code",
   "execution_count": 45,
   "metadata": {
    "run_control": {
     "marked": false
    }
   },
   "outputs": [
    {
     "data": {
      "text/plain": [
       "[('Nameless', 8),\n",
       " ('Boston Pizza', 5),\n",
       " (\"Ricky's All Day Grill\", 2),\n",
       " (\"Tony Roma's\", 2),\n",
       " ('Urban Diner', 2),\n",
       " ('Chop Steakhouse', 2),\n",
       " ('Urban China', 1),\n",
       " (\"Humpty's Family Restaurant\", 1),\n",
       " (\"Moxie's\", 1),\n",
       " (\"Chandler's The Tea Shoppe\", 1)]"
      ]
     },
     "execution_count": 45,
     "metadata": {},
     "output_type": "execute_result"
    }
   ],
   "source": [
    "b1.filter(lambda d: jp.search(\"tag.amenity\", d) == 'restaurant').pluck(\n",
    "    'tag', 'NoTag').pluck(\n",
    "    'name', 'Nameless').map(lambda d: d.get('root', 'NoRoot') if isinstance(d, dict) else d).frequencies().topk(10, lambda t: t[1]).compute()"
   ]
  },
  {
   "cell_type": "code",
   "execution_count": 46,
   "metadata": {
    "run_control": {
     "marked": false
    }
   },
   "outputs": [
    {
     "data": {
      "text/plain": [
       "['Urban China',\n",
       " \"Humpty's Family Restaurant\",\n",
       " \"Moxie's\",\n",
       " \"Ricky's All Day Grill\",\n",
       " \"Chandler's The Tea Shoppe\",\n",
       " \"Kamil's Turkish Cafe & Restaurant\",\n",
       " 'Lee Garden',\n",
       " \"Tony Roma's\",\n",
       " 'Nha Trang Vietnamese Restaurant',\n",
       " 'Pho Hoan Pasteur Fusion Noodle House',\n",
       " 'Blue Plate Diner',\n",
       " 'Mikado',\n",
       " 'Delux Burger Bar',\n",
       " \"That's Aroma! A Garlic Restaurant\",\n",
       " \"Vi's for Pies\",\n",
       " 'C&S Seafood Restaurant',\n",
       " 'Century Palace Restaurant',\n",
       " 'Double Happiness',\n",
       " 'Mirama Dining & Lounge',\n",
       " 'El Rancho',\n",
       " 'Trang Tien',\n",
       " 'Mucho Burrito',\n",
       " 'High Level Diner',\n",
       " 'RedBike',\n",
       " 'All Happy Family Restaurant',\n",
       " 'Kyoto Japanese Cuisine',\n",
       " 'Phơbulous',\n",
       " 'Royal Pizza',\n",
       " 'Pagolac Restaurant',\n",
       " \"Doan's\",\n",
       " 'Culina Restaurant',\n",
       " \"B's Diner\",\n",
       " 'Upper Crust Cafe & Caterers',\n",
       " 'New Asian Village',\n",
       " \"Bird's Nest of Beijing Restaurant\",\n",
       " \"Denny's\",\n",
       " \"Joey Tomato's\",\n",
       " 'Old Szechuan Restaurant',\n",
       " 'Vighalay Thai Laos',\n",
       " 'The Wokkery Restaurant',\n",
       " \"Uncle Albert's Family Restaurant\",\n",
       " 'Noodle Noodle Restaurant',\n",
       " 'Coliseum Steak Ribs & Pizza',\n",
       " 'Rendezvous Ethiopean Restaurant & Bar',\n",
       " 'India Village Restaurant',\n",
       " \"Von's Steakhouse & Bar\",\n",
       " \"O2's On Whyte\",\n",
       " 'Dadeo',\n",
       " 'Chianti',\n",
       " 'The Keg Steakhouse + Bar - Strathcona',\n",
       " 'The Pantry Restaurant',\n",
       " 'Botanica',\n",
       " 'Hardware Grill',\n",
       " 'Tacos La Mexicana',\n",
       " \"Tony's Pizza Palace\",\n",
       " 'Urban Diner',\n",
       " \"Smitty's\",\n",
       " 'Shades Bar & Grill',\n",
       " 'Elephant & Castle Restaurant',\n",
       " 'Old Spaghetti Factory',\n",
       " 'Kyoto',\n",
       " \"Ricky's All Day Grill\",\n",
       " 'Thanh Thanh Oriental Noodle House',\n",
       " 'Boston Pizza',\n",
       " 'Pho Huong Que',\n",
       " 'Pho King',\n",
       " 'Central Social Hall',\n",
       " 'Characters Fine Dining',\n",
       " 'Kings Noodle & Hot Pot Restaurant',\n",
       " 'Sapporo Sushi',\n",
       " 'West Steak House',\n",
       " 'Midnight Sun Restaurant',\n",
       " \"Leon's Wonton & Noodle\",\n",
       " 'Taipan Cafe',\n",
       " 'King Noodle House Pho Hoang',\n",
       " 'Hong Kong Bakery & Restaurant',\n",
       " 'Kabuki',\n",
       " 'Glenora Bistro',\n",
       " \"Matahari's\",\n",
       " 'Xu Hue',\n",
       " 'Route 99 Diner',\n",
       " 'Boston Pizza',\n",
       " 'Zinc Restaurant',\n",
       " 'Oil Lamp Eatery',\n",
       " 'Urban Diner',\n",
       " 'Fireside Bar and Grill',\n",
       " '1824 Pub',\n",
       " 'Quick Bite for Lunch',\n",
       " 'Szechuan Garden Restaurant',\n",
       " 'Bul Go Gi House',\n",
       " 'Steel Wheels Pizzeria',\n",
       " 'Razzleberries',\n",
       " 'The Free Press Bistro',\n",
       " 'Acajutla',\n",
       " 'Evoolution',\n",
       " 'Lit Wine Bar',\n",
       " 'Corso 32',\n",
       " 'Phat Noodle',\n",
       " 'Sai Woo Restaurant',\n",
       " 'Haandi',\n",
       " \"Tony Roma's\",\n",
       " 'Booster Juice',\n",
       " 'Earls',\n",
       " 'Syphay House',\n",
       " 'The Burg',\n",
       " 'Furosato Japanese Restaurant',\n",
       " {'en': 'Viphalay', 'root': 'Vidaley'},\n",
       " '__No_Name__',\n",
       " 'Cactus Club',\n",
       " 'NaanOLicious',\n",
       " 'Red Ox Inn',\n",
       " 'The Underground Tap & Grill',\n",
       " \"Delicious Pho'\",\n",
       " \"Gini's Restaurant\",\n",
       " 'Hundred Bar & Kitchen',\n",
       " 'Woodwork',\n",
       " 'Brickhouse',\n",
       " 'Arabia',\n",
       " 'Allegro',\n",
       " '__No_Name__',\n",
       " '__No_Name__',\n",
       " 'Meat',\n",
       " 'Packrat Louie',\n",
       " 'Three Boars Eatery',\n",
       " \"Ruth's Chris Steakhouse \",\n",
       " 'New Tan Restaurant ',\n",
       " 'Massawe Cafe & Restaurant ',\n",
       " 'Cafe Caribe',\n",
       " \"It's All Greek To Me\",\n",
       " 'Tres Carnales Taqueria',\n",
       " 'Chop Steakhouse',\n",
       " 'Tres Carnales',\n",
       " 'Chop Steakhouse',\n",
       " 'Hot Pot 97',\n",
       " 'LOVEPIZZA',\n",
       " \"Rigoletto's\",\n",
       " '3 Amigos',\n",
       " 'State & Main',\n",
       " \"Ruth's Chris Steakhouse\",\n",
       " 'MKT',\n",
       " 'Continental Treat',\n",
       " 'Ragazzi Bistro',\n",
       " {'en': 'Maxs', 'root': 'Maxs'},\n",
       " 'Farrow',\n",
       " 'Noorish Conscious Eatery',\n",
       " \"Plato's Pizza\",\n",
       " \"Original Joe's\",\n",
       " \"Grandin Fish 'n' Chips\",\n",
       " {'fr': '爱民顿', 'root': '爱民顿'},\n",
       " 'Hoang Long Casual Fare',\n",
       " '__No_Name__',\n",
       " 'Boston Pizza',\n",
       " 'Boston Pizza',\n",
       " 'Koutouki Taverna',\n",
       " 'The Dish & The Runaway Spoon',\n",
       " '__No_Name__',\n",
       " 'BLVD Nightlife',\n",
       " 'Little Caesar',\n",
       " 'Sawmill',\n",
       " 'Brewsters Brewing Company',\n",
       " '__No_Name__',\n",
       " '__No_Name__',\n",
       " '__No_Name__',\n",
       " 'Friends and Neighbours Cafe',\n",
       " 'Boston Pizza',\n",
       " \"Humpty's\",\n",
       " 'Padmanadi Vegetarian Restaurant',\n",
       " \"Sorrentino's Bistro Bar\"]"
      ]
     },
     "execution_count": 46,
     "metadata": {},
     "output_type": "execute_result"
    }
   ],
   "source": [
    "b1.filter(lambda d: jp.search(\"tag.amenity\",d) == 'restaurant').pluck(\n",
    "    'tag',default='NoTag').map(lambda d: d.get('name', \"__No_Name__\")).compute()"
   ]
  },
  {
   "cell_type": "code",
   "execution_count": 47,
   "metadata": {
    "run_control": {
     "marked": false
    }
   },
   "outputs": [
    {
     "data": {
      "text/plain": [
       "[('__No_Name__', 8),\n",
       " ('Boston Pizza', 5),\n",
       " (\"Ricky's All Day Grill\", 2),\n",
       " (\"Tony Roma's\", 2),\n",
       " ('Urban Diner', 2),\n",
       " ('Chop Steakhouse', 2),\n",
       " ('Urban China', 1),\n",
       " (\"Humpty's Family Restaurant\", 1),\n",
       " (\"Moxie's\", 1),\n",
       " (\"Chandler's The Tea Shoppe\", 1)]"
      ]
     },
     "execution_count": 47,
     "metadata": {},
     "output_type": "execute_result"
    }
   ],
   "source": [
    "b1.filter(lambda d: jp.search(\"tag.amenity\",d) == 'restaurant').pluck(\n",
    "    'tag',default='NoTag').pluck(\n",
    "    'name','__No_Name__').map(lambda d: d.get('root','__No_Root__') if isinstance(d, dict) else d).frequencies().topk(10, lambda t: t[1]).compute()"
   ]
  },
  {
   "cell_type": "code",
   "execution_count": 48,
   "metadata": {
    "run_control": {
     "marked": false
    }
   },
   "outputs": [
    {
     "data": {
      "text/plain": [
       "[('Second Cup', 10),\n",
       " ('Starbucks Coffee', 9),\n",
       " ('Starbucks', 6),\n",
       " ('Tim Hortons', 5),\n",
       " ('__No_Name__', 4),\n",
       " ('Transcend Coffee', 2),\n",
       " ('Orange Julius', 2),\n",
       " ('Good Earth', 2),\n",
       " (\"Jeffrey's Café & Wine Bar\", 1),\n",
       " ('The Second Cup', 1)]"
      ]
     },
     "execution_count": 48,
     "metadata": {},
     "output_type": "execute_result"
    }
   ],
   "source": [
    "b1.filter(lambda d: jp.search(\n",
    "        \"tag.amenity\",d) == 'cafe').pluck(\n",
    "    'tag').pluck(\n",
    "    'name','__No_Name__').map(lambda d: d['root'] if isinstance(d, dict) else d).frequencies().topk(10,lambda x:x[1]).compute()"
   ]
  },
  {
   "cell_type": "markdown",
   "metadata": {
    "collapsed": true,
    "run_control": {
     "marked": false
    }
   },
   "source": [
    "# Mongodb "
   ]
  },
  {
   "cell_type": "code",
   "execution_count": 88,
   "metadata": {},
   "outputs": [
    {
     "name": "stdout",
     "output_type": "stream",
     "text": [
      "-rw-r--r--@ 1 josephmann  staff    12M  5 Jun 17:32 clean-0.json\r\n",
      "-rw-r--r--@ 1 josephmann  staff    14M  5 Jun 17:32 clean-1.json\r\n",
      "-rw-r--r--@ 1 josephmann  staff    14M  5 Jun 17:32 clean-2.json\r\n",
      "-rw-r--r--@ 1 josephmann  staff    14M  5 Jun 17:32 clean-3.json\r\n",
      "-rw-r--r--@ 1 josephmann  staff    14M  5 Jun 17:32 clean-4.json\r\n",
      "-rw-r--r--@ 1 josephmann  staff    13M  5 Jun 17:32 clean-5.json\r\n",
      "-rw-r--r--@ 1 josephmann  staff   5.8M  5 Jun 17:32 clean-6.json\r\n",
      "-rw-r--r--@ 1 josephmann  staff   4.2M  5 Jun 17:32 clean-7.json\r\n"
     ]
    }
   ],
   "source": [
    "!ls -lh clean-?.json\n"
   ]
  },
  {
   "cell_type": "code",
   "execution_count": 49,
   "metadata": {
    "collapsed": true,
    "run_control": {
     "marked": false
    }
   },
   "outputs": [],
   "source": [
    "client = MongoClient('localhost:27017')\n",
    "mdb = client['examples']"
   ]
  },
  {
   "cell_type": "code",
   "execution_count": 50,
   "metadata": {
    "collapsed": true,
    "run_control": {
     "marked": false
    }
   },
   "outputs": [],
   "source": [
    "mdb.p33.drop()"
   ]
  },
  {
   "cell_type": "code",
   "execution_count": 51,
   "metadata": {
    "collapsed": true,
    "run_control": {
     "marked": false
    }
   },
   "outputs": [
    {
     "name": "stderr",
     "output_type": "stream",
     "text": [
      "2017-06-21T15:20:00.529-0600\tconnected to: localhost\n",
      "2017-06-21T15:20:01.380-0600\timported 52125 documents\n",
      "2017-06-21T15:20:01.400-0600\tconnected to: localhost\n",
      "2017-06-21T15:20:02.309-0600\timported 64857 documents\n",
      "2017-06-21T15:20:02.328-0600\tconnected to: localhost\n",
      "2017-06-21T15:20:03.227-0600\timported 64723 documents\n",
      "2017-06-21T15:20:03.245-0600\tconnected to: localhost\n",
      "2017-06-21T15:20:04.163-0600\timported 64704 documents\n",
      "2017-06-21T15:20:04.183-0600\tconnected to: localhost\n",
      "2017-06-21T15:20:05.114-0600\timported 64712 documents\n",
      "2017-06-21T15:20:05.133-0600\tconnected to: localhost\n",
      "2017-06-21T15:20:06.002-0600\timported 59144 documents\n",
      "2017-06-21T15:20:06.021-0600\tconnected to: localhost\n",
      "2017-06-21T15:20:06.472-0600\timported 29966 documents\n",
      "2017-06-21T15:20:06.494-0600\tconnected to: localhost\n",
      "2017-06-21T15:20:06.833-0600\timported 22088 documents\n"
     ]
    }
   ],
   "source": [
    "%%bash\n",
    "ls clean-?.json | while read col; do\n",
    "    mongoimport --db examples --collection p33 -j 8 --type json --file $col;\n",
    "done"
   ]
  },
  {
   "cell_type": "code",
   "execution_count": 52,
   "metadata": {
    "run_control": {
     "marked": false
    }
   },
   "outputs": [
    {
     "data": {
      "text/plain": [
       "422319"
      ]
     },
     "execution_count": 52,
     "metadata": {},
     "output_type": "execute_result"
    }
   ],
   "source": [
    "mdb.p33.count({})"
   ]
  },
  {
   "cell_type": "code",
   "execution_count": 53,
   "metadata": {
    "collapsed": true,
    "run_control": {
     "marked": false
    }
   },
   "outputs": [
    {
     "data": {
      "text/plain": [
       "[{'tag': {'landuse': 'quarry'}},\n",
       " {'tag': {'landuse': 'recreation_ground'}},\n",
       " {'tag': {'landuse': 'recreation_ground'}},\n",
       " {'tag': {'landuse': 'retail'}},\n",
       " {'tag': {'landuse': 'retail'}},\n",
       " {'tag': {'landuse': 'cemetery'}},\n",
       " {'tag': {'landuse': 'commercial'}},\n",
       " {'tag': {'landuse': 'reservoir'}},\n",
       " {'tag': {'landuse': 'reservoir'}},\n",
       " {'tag': {'landuse': 'recreation_ground'}},\n",
       " {'tag': {'landuse': 'recreation_ground'}},\n",
       " {'tag': {'landuse': 'residential'}},\n",
       " {'tag': {'landuse': 'retail'}},\n",
       " {'tag': {'landuse': 'residential'}},\n",
       " {'tag': {'landuse': 'recreation_ground'}},\n",
       " {'tag': {'landuse': 'retail'}},\n",
       " {'tag': {'landuse': 'retail'}},\n",
       " {'tag': {'landuse': 'commercial'}},\n",
       " {'tag': {'landuse': 'commercial'}},\n",
       " {'tag': {'landuse': 'retail'}},\n",
       " {'tag': {'landuse': 'commercial'}},\n",
       " {'tag': {'landuse': 'retail'}},\n",
       " {'tag': {'landuse': 'commercial'}},\n",
       " {'tag': {'landuse': 'recreation_ground'}},\n",
       " {'tag': {'landuse': 'retail'}},\n",
       " {'tag': {'landuse': 'recreation_ground'}},\n",
       " {'tag': {'landuse': 'retail'}},\n",
       " {'tag': {'landuse': 'retail'}},\n",
       " {'tag': {'landuse': 'reservoir'}},\n",
       " {'tag': {'landuse': 'recreation_ground'}},\n",
       " {'tag': {'landuse': 'retail'}},\n",
       " {'tag': {'landuse': 'residential'}},\n",
       " {'tag': {'landuse': 'residential'}},\n",
       " {'tag': {'landuse': 'residential'}},\n",
       " {'tag': {'landuse': 'recreation_ground'}},\n",
       " {'tag': {'landuse': 'recreation_ground'}},\n",
       " {'tag': {'landuse': 'retail'}},\n",
       " {'tag': {'landuse': 'recreation_ground'}},\n",
       " {'tag': {'landuse': 'residential'}},\n",
       " {'tag': {'landuse': 'residential'}},\n",
       " {'tag': {'landuse': 'residential'}},\n",
       " {'tag': {'landuse': 'residential'}},\n",
       " {'tag': {'landuse': 'residential'}},\n",
       " {'tag': {'landuse': 'residential'}},\n",
       " {'tag': {'landuse': 'retail'}},\n",
       " {'tag': {'landuse': 'commercial'}},\n",
       " {'tag': {'landuse': 'commercial'}},\n",
       " {'tag': {'landuse': 'residential'}},\n",
       " {'tag': {'landuse': 'commercial'}},\n",
       " {'tag': {'landuse': 'residential'}},\n",
       " {'tag': {'landuse': 'residential'}},\n",
       " {'tag': {'landuse': 'cemetery'}},\n",
       " {'tag': {'landuse': 'retail'}},\n",
       " {'tag': {'landuse': 'retail'}},\n",
       " {'tag': {'landuse': 'commercial'}},\n",
       " {'tag': {'landuse': 'commercial'}},\n",
       " {'tag': {'landuse': 'retail'}},\n",
       " {'tag': {'landuse': 'residential'}},\n",
       " {'tag': {'landuse': 'residential'}},\n",
       " {'tag': {'landuse': 'residential'}},\n",
       " {'tag': {'landuse': 'residential'}},\n",
       " {'tag': {'landuse': 'residential'}},\n",
       " {'tag': {'landuse': 'publicllotmentsllotments'}},\n",
       " {'tag': {'landuse': 'recreation_ground'}},\n",
       " {'tag': {'landuse': 'residential'}},\n",
       " {'tag': {'landuse': 'residential'}},\n",
       " {'tag': {'landuse': 'residential'}},\n",
       " {'tag': {'landuse': 'retail'}},\n",
       " {'tag': {'landuse': 'commercial'}},\n",
       " {'tag': {'landuse': 'retail'}},\n",
       " {'tag': {'landuse': 'retail'}},\n",
       " {'tag': {'landuse': 'residential'}},\n",
       " {'tag': {'landuse': 'residential'}},\n",
       " {'tag': {'landuse': 'residential'}},\n",
       " {'tag': {'landuse': 'retail'}},\n",
       " {'tag': {'landuse': 'residential'}},\n",
       " {'tag': {'landuse': 'retail'}},\n",
       " {'tag': {'landuse': 'retail'}},\n",
       " {'tag': {'landuse': 'residential'}},\n",
       " {'tag': {'landuse': 'retail'}},\n",
       " {'tag': {'landuse': 'residential'}},\n",
       " {'tag': {'landuse': 'residential'}},\n",
       " {'tag': {'landuse': 'residential'}},\n",
       " {'tag': {'landuse': 'commercial'}},\n",
       " {'tag': {'landuse': 'residential'}},\n",
       " {'tag': {'landuse': 'residential'}},\n",
       " {'tag': {'landuse': 'residential'}},\n",
       " {'tag': {'landuse': 'retail'}},\n",
       " {'tag': {'landuse': 'residential'}},\n",
       " {'tag': {'landuse': 'residential'}},\n",
       " {'tag': {'landuse': 'residential'}},\n",
       " {'tag': {'landuse': 'residential'}},\n",
       " {'tag': {'landuse': 'retail'}},\n",
       " {'tag': {'landuse': 'residential'}},\n",
       " {'tag': {'landuse': 'residential'}},\n",
       " {'tag': {'landuse': 'retail'}},\n",
       " {'tag': {'landuse': 'retail'}},\n",
       " {'tag': {'landuse': 'residential'}},\n",
       " {'tag': {'landuse': 'residential'}},\n",
       " {'tag': {'landuse': 'residential'}},\n",
       " {'tag': {'landuse': 'residential'}},\n",
       " {'tag': {'landuse': 'residential'}},\n",
       " {'tag': {'landuse': 'commercial'}},\n",
       " {'tag': {'landuse': 'residential'}},\n",
       " {'tag': {'landuse': 'residential'}},\n",
       " {'tag': {'landuse': 'military'}},\n",
       " {'tag': {'landuse': 'grass'}},\n",
       " {'tag': {'landuse': 'residential'}},\n",
       " {'tag': {'landuse': 'residential'}},\n",
       " {'tag': {'landuse': 'residential'}},\n",
       " {'tag': {'landuse': 'retail'}},\n",
       " {'tag': {'landuse': 'retail'}},\n",
       " {'tag': {'landuse': 'residential'}},\n",
       " {'tag': {'landuse': 'retail'}},\n",
       " {'tag': {'landuse': 'residential'}},\n",
       " {'tag': {'landuse': 'residential'}},\n",
       " {'tag': {'landuse': 'residential'}},\n",
       " {'tag': {'landuse': 'residential'}},\n",
       " {'tag': {'landuse': 'retail'}},\n",
       " {'tag': {'landuse': 'residential'}},\n",
       " {'tag': {'landuse': 'grass'}},\n",
       " {'tag': {'landuse': 'grass'}},\n",
       " {'tag': {'landuse': 'residential'}},\n",
       " {'tag': {'landuse': 'residential'}},\n",
       " {'tag': {'landuse': 'residential'}},\n",
       " {'tag': {'landuse': 'residential'}},\n",
       " {'tag': {'landuse': 'commercial'}},\n",
       " {'tag': {'landuse': 'residential'}},\n",
       " {'tag': {'landuse': 'residential'}},\n",
       " {'tag': {'landuse': 'residential'}},\n",
       " {'tag': {'landuse': 'residential'}},\n",
       " {'tag': {'landuse': 'retail'}},\n",
       " {'tag': {'landuse': 'retail'}},\n",
       " {'tag': {'landuse': 'retail'}},\n",
       " {'tag': {'landuse': 'retail'}},\n",
       " {'tag': {'landuse': 'residential'}},\n",
       " {'tag': {'landuse': 'residential'}},\n",
       " {'tag': {'landuse': 'residential'}},\n",
       " {'tag': {'landuse': 'residential'}},\n",
       " {'tag': {'landuse': 'residential'}},\n",
       " {'tag': {'landuse': 'residential'}},\n",
       " {'tag': {'landuse': 'residential'}},\n",
       " {'tag': {'landuse': 'residential'}},\n",
       " {'tag': {'landuse': 'residential'}},\n",
       " {'tag': {'landuse': 'commercial'}},\n",
       " {'tag': {'landuse': 'residential'}},\n",
       " {'tag': {'landuse': 'residential'}},\n",
       " {'tag': {'landuse': 'residential'}},\n",
       " {'tag': {'landuse': 'residential'}},\n",
       " {'tag': {'landuse': 'residential'}},\n",
       " {'tag': {'landuse': 'military'}},\n",
       " {'tag': {'landuse': 'residential'}},\n",
       " {'tag': {'landuse': 'residential'}},\n",
       " {'tag': {'landuse': 'residential'}},\n",
       " {'tag': {'landuse': 'residential'}},\n",
       " {'tag': {'landuse': 'residential'}},\n",
       " {'tag': {'landuse': 'residential'}},\n",
       " {'tag': {'landuse': 'residential'}},\n",
       " {'tag': {'landuse': 'residential'}},\n",
       " {'tag': {'landuse': 'residential'}},\n",
       " {'tag': {'landuse': 'residential'}},\n",
       " {'tag': {'landuse': 'residential'}},\n",
       " {'tag': {'landuse': 'residential'}},\n",
       " {'tag': {'landuse': 'residential'}},\n",
       " {'tag': {'landuse': 'residential'}},\n",
       " {'tag': {'landuse': 'residential'}},\n",
       " {'tag': {'landuse': 'residential'}},\n",
       " {'tag': {'landuse': 'residential'}},\n",
       " {'tag': {'landuse': 'residential'}},\n",
       " {'tag': {'landuse': 'residential'}},\n",
       " {'tag': {'landuse': 'residential'}},\n",
       " {'tag': {'landuse': 'residential'}},\n",
       " {'tag': {'landuse': 'residential'}},\n",
       " {'tag': {'landuse': 'residential'}},\n",
       " {'tag': {'landuse': 'residential'}},\n",
       " {'tag': {'landuse': 'residential'}},\n",
       " {'tag': {'landuse': 'residential'}},\n",
       " {'tag': {'landuse': 'residential'}},\n",
       " {'tag': {'landuse': 'residential'}},\n",
       " {'tag': {'landuse': 'residential'}},\n",
       " {'tag': {'landuse': 'residential'}},\n",
       " {'tag': {'landuse': 'residential'}},\n",
       " {'tag': {'landuse': 'residential'}},\n",
       " {'tag': {'landuse': 'residential'}},\n",
       " {'tag': {'landuse': 'residential'}},\n",
       " {'tag': {'landuse': 'residential'}},\n",
       " {'tag': {'landuse': 'residential'}},\n",
       " {'tag': {'landuse': 'residential'}},\n",
       " {'tag': {'landuse': 'mixed'}},\n",
       " {'tag': {'landuse': 'residential'}},\n",
       " {'tag': {'landuse': 'residential'}},\n",
       " {'tag': {'landuse': 'residential'}},\n",
       " {'tag': {'landuse': 'residential'}},\n",
       " {'tag': {'landuse': 'retail'}},\n",
       " {'tag': {'landuse': 'retail'}},\n",
       " {'tag': {'landuse': 'residential'}},\n",
       " {'tag': {'landuse': 'commercial'}},\n",
       " {'tag': {'landuse': 'residential'}},\n",
       " {'tag': {'landuse': 'residential'}},\n",
       " {'tag': {'landuse': 'recreation_ground'}},\n",
       " {'tag': {'landuse': 'residential'}},\n",
       " {'tag': {'landuse': 'residential'}},\n",
       " {'tag': {'landuse': 'commercial'}},\n",
       " {'tag': {'landuse': 'residential'}},\n",
       " {'tag': {'landuse': 'residential'}},\n",
       " {'tag': {'landuse': 'residential'}},\n",
       " {'tag': {'landuse': 'residential'}},\n",
       " {'tag': {'landuse': 'residential'}},\n",
       " {'tag': {'landuse': 'residential'}},\n",
       " {'tag': {'landuse': 'residential'}},\n",
       " {'tag': {'landuse': 'residential'}},\n",
       " {'tag': {'landuse': 'residential'}},\n",
       " {'tag': {'landuse': 'residential'}},\n",
       " {'tag': {'landuse': 'residential'}},\n",
       " {'tag': {'landuse': 'residential'}},\n",
       " {'tag': {'landuse': 'residential'}},\n",
       " {'tag': {'landuse': 'retail'}},\n",
       " {'tag': {'landuse': 'residential'}},\n",
       " {'tag': {'landuse': 'retail'}},\n",
       " {'tag': {'landuse': 'commercial'}},\n",
       " {'tag': {'landuse': 'retail'}},\n",
       " {'tag': {'landuse': 'residential'}},\n",
       " {'tag': {'landuse': 'residential'}},\n",
       " {'tag': {'landuse': 'residential'}},\n",
       " {'tag': {'landuse': 'residential'}},\n",
       " {'tag': {'landuse': 'residential'}},\n",
       " {'tag': {'landuse': 'commercial'}},\n",
       " {'tag': {'landuse': 'residential'}},\n",
       " {'tag': {'landuse': 'residential'}},\n",
       " {'tag': {'landuse': 'residential'}},\n",
       " {'tag': {'landuse': 'residential'}},\n",
       " {'tag': {'landuse': 'residential'}},\n",
       " {'tag': {'landuse': 'residential'}},\n",
       " {'tag': {'landuse': 'residential'}},\n",
       " {'tag': {'landuse': 'residential'}},\n",
       " {'tag': {'landuse': 'residential'}},\n",
       " {'tag': {'landuse': 'grass'}},\n",
       " {'tag': {'landuse': 'grass'}},\n",
       " {'tag': {'landuse': 'residential'}},\n",
       " {'tag': {'landuse': 'residential'}},\n",
       " {'tag': {'landuse': 'residential'}},\n",
       " {'tag': {'landuse': 'residential'}},\n",
       " {'tag': {'landuse': 'retail'}},\n",
       " {'tag': {'landuse': 'residential'}},\n",
       " {'tag': {'landuse': 'residential'}},\n",
       " {'tag': {'landuse': 'residential'}},\n",
       " {'tag': {'landuse': 'residential'}},\n",
       " {'tag': {'landuse': 'commercial'}},\n",
       " {'tag': {'landuse': 'commercial'}},\n",
       " {'tag': {'landuse': 'residential'}},\n",
       " {'tag': {'landuse': 'residential'}},\n",
       " {'tag': {'landuse': 'residential'}},\n",
       " {'tag': {'landuse': 'residential'}},\n",
       " {'tag': {'landuse': 'residential'}},\n",
       " {'tag': {'landuse': 'residential'}},\n",
       " {'tag': {'landuse': 'residential'}},\n",
       " {'tag': {'landuse': 'residential'}},\n",
       " {'tag': {'landuse': 'residential'}},\n",
       " {'tag': {'landuse': 'residential'}},\n",
       " {'tag': {'landuse': 'retail'}},\n",
       " {'tag': {'landuse': 'residential'}},\n",
       " {'tag': {'landuse': 'residential'}},\n",
       " {'tag': {'landuse': 'retail'}},\n",
       " {'tag': {'landuse': 'residential'}},\n",
       " {'tag': {'landuse': 'residential'}},\n",
       " {'tag': {'landuse': 'commercial'}},\n",
       " {'tag': {'landuse': 'residential'}},\n",
       " {'tag': {'landuse': 'residential'}},\n",
       " {'tag': {'landuse': 'residential'}},\n",
       " {'tag': {'landuse': 'residential'}},\n",
       " {'tag': {'landuse': 'residential'}},\n",
       " {'tag': {'landuse': 'residential'}},\n",
       " {'tag': {'landuse': 'residential'}},\n",
       " {'tag': {'landuse': 'residential'}},\n",
       " {'tag': {'landuse': 'residential'}},\n",
       " {'tag': {'landuse': 'residential'}},\n",
       " {'tag': {'landuse': 'residential'}},\n",
       " {'tag': {'landuse': 'residential'}},\n",
       " {'tag': {'landuse': 'residential'}},\n",
       " {'tag': {'landuse': 'retail'}},\n",
       " {'tag': {'landuse': 'residential'}},\n",
       " {'tag': {'landuse': 'residential'}},\n",
       " {'tag': {'landuse': 'residential'}},\n",
       " {'tag': {'landuse': 'residential'}},\n",
       " {'tag': {'landuse': 'residential'}},\n",
       " {'tag': {'landuse': 'commercial'}},\n",
       " {'tag': {'landuse': 'retail'}},\n",
       " {'tag': {'landuse': 'residential'}},\n",
       " {'tag': {'landuse': 'residential'}},\n",
       " {'tag': {'landuse': 'residential'}},\n",
       " {'tag': {'landuse': 'retail'}},\n",
       " {'tag': {'landuse': 'retail'}},\n",
       " {'tag': {'landuse': 'residential'}},\n",
       " {'tag': {'landuse': 'residential'}},\n",
       " {'tag': {'landuse': 'residential'}},\n",
       " {'tag': {'landuse': 'residential'}},\n",
       " {'tag': {'landuse': 'commercial'}},\n",
       " {'tag': {'landuse': 'residential'}},\n",
       " {'tag': {'landuse': 'residential'}},\n",
       " {'tag': {'landuse': 'residential'}},\n",
       " {'tag': {'landuse': 'residential'}},\n",
       " {'tag': {'landuse': 'residential'}},\n",
       " {'tag': {'landuse': 'residential'}},\n",
       " {'tag': {'landuse': 'commercial'}},\n",
       " {'tag': {'landuse': 'commercial'}},\n",
       " {'tag': {'landuse': 'residential'}},\n",
       " {'tag': {'landuse': 'residential'}},\n",
       " {'tag': {'landuse': 'residential'}},\n",
       " {'tag': {'landuse': 'retail'}},\n",
       " {'tag': {'landuse': 'residential'}},\n",
       " {'tag': {'landuse': 'residential'}},\n",
       " {'tag': {'landuse': 'residential'}},\n",
       " {'tag': {'landuse': 'retail'}},\n",
       " {'tag': {'landuse': 'residential'}},\n",
       " {'tag': {'landuse': 'retail'}},\n",
       " {'tag': {'landuse': 'residential'}},\n",
       " {'tag': {'landuse': 'residential'}},\n",
       " {'tag': {'landuse': 'residential'}},\n",
       " {'tag': {'landuse': 'residential'}},\n",
       " {'tag': {'landuse': 'residential'}},\n",
       " {'tag': {'landuse': 'commercial'}},\n",
       " {'tag': {'landuse': 'commercial'}},\n",
       " {'tag': {'landuse': 'residential'}},\n",
       " {'tag': {'landuse': 'residential'}},\n",
       " {'tag': {'landuse': 'residential'}},\n",
       " {'tag': {'landuse': 'residential'}},\n",
       " {'tag': {'landuse': 'residential'}},\n",
       " {'tag': {'landuse': 'retail'}},\n",
       " {'tag': {'landuse': 'retail'}},\n",
       " {'tag': {'landuse': 'retail'}},\n",
       " {'tag': {'landuse': 'retail'}},\n",
       " {'tag': {'landuse': 'retail'}},\n",
       " {'tag': {'landuse': 'residential'}},\n",
       " {'tag': {'landuse': 'residential'}},\n",
       " {'tag': {'landuse': 'residential'}},\n",
       " {'tag': {'landuse': 'residential'}},\n",
       " {'tag': {'landuse': 'residential'}},\n",
       " {'tag': {'landuse': 'residential'}},\n",
       " {'tag': {'landuse': 'residential'}},\n",
       " {'tag': {'landuse': 'residential'}},\n",
       " {'tag': {'landuse': 'residential'}},\n",
       " {'tag': {'landuse': 'residential'}},\n",
       " {'tag': {'landuse': 'residential'}},\n",
       " {'tag': {'landuse': 'residential'}},\n",
       " {'tag': {'landuse': 'residential'}},\n",
       " {'tag': {'landuse': 'residential'}},\n",
       " {'tag': {'landuse': 'retail'}},\n",
       " {'tag': {'landuse': 'grass'}},\n",
       " {'tag': {'landuse': 'residential'}},\n",
       " {'tag': {'landuse': 'residential'}},\n",
       " {'tag': {'landuse': 'residential'}},\n",
       " {'tag': {'landuse': 'residential'}},\n",
       " {'tag': {'landuse': 'residential'}},\n",
       " {'tag': {'landuse': 'residential'}},\n",
       " {'tag': {'landuse': 'residential'}},\n",
       " {'tag': {'landuse': 'residential'}},\n",
       " {'tag': {'landuse': 'residential'}},\n",
       " {'tag': {'landuse': 'residential'}},\n",
       " {'tag': {'landuse': 'residential'}},\n",
       " {'tag': {'landuse': 'residential'}},\n",
       " {'tag': {'landuse': 'retail'}},\n",
       " {'tag': {'landuse': 'residential'}},\n",
       " {'tag': {'landuse': 'commercial'}},\n",
       " {'tag': {'landuse': 'residential'}},\n",
       " {'tag': {'landuse': 'retail'}},\n",
       " {'tag': {'landuse': 'residential'}},\n",
       " {'tag': {'landuse': 'retail'}},\n",
       " {'tag': {'landuse': 'residential'}},\n",
       " {'tag': {'landuse': 'residential'}},\n",
       " {'tag': {'landuse': 'residential'}},\n",
       " {'tag': {'landuse': 'residential'}},\n",
       " {'tag': {'landuse': 'residential'}},\n",
       " {'tag': {'landuse': 'residential'}},\n",
       " {'tag': {'landuse': 'residential'}},\n",
       " {'tag': {'landuse': 'industrial'}},\n",
       " {'tag': {'landuse': 'residential'}},\n",
       " {'tag': {'landuse': 'retail'}},\n",
       " {'tag': {'landuse': 'grass'}},\n",
       " {'tag': {'landuse': 'residential'}},\n",
       " {'tag': {'landuse': 'residential'}},\n",
       " {'tag': {'landuse': 'retail'}},\n",
       " {'tag': {'landuse': 'residential'}},\n",
       " {'tag': {'landuse': 'commercial'}},\n",
       " {'tag': {'landuse': 'residential'}},\n",
       " {'tag': {'landuse': 'residential'}},\n",
       " {'tag': {'landuse': 'residential'}},\n",
       " {'tag': {'landuse': 'retail'}},\n",
       " {'tag': {'landuse': 'retail'}},\n",
       " {'tag': {'landuse': 'residential'}},\n",
       " {'tag': {'landuse': 'residential'}},\n",
       " {'tag': {'landuse': 'residential'}},\n",
       " {'tag': {'landuse': 'residential'}},\n",
       " {'tag': {'landuse': 'grass'}},\n",
       " {'tag': {'landuse': 'grass'}},\n",
       " {'tag': {'landuse': 'residential'}},\n",
       " {'tag': {'landuse': 'residential'}},\n",
       " {'tag': {'landuse': 'residential'}},\n",
       " {'tag': {'landuse': 'residential'}},\n",
       " {'tag': {'landuse': 'residential'}},\n",
       " {'tag': {'landuse': 'residential'}},\n",
       " {'tag': {'landuse': 'residential'}},\n",
       " {'tag': {'landuse': 'residential'}},\n",
       " {'tag': {'landuse': 'residential'}},\n",
       " {'tag': {'landuse': 'residential'}},\n",
       " {'tag': {'landuse': 'residential'}},\n",
       " {'tag': {'landuse': 'residential'}},\n",
       " {'tag': {'landuse': 'residential'}},\n",
       " {'tag': {'landuse': 'residential'}},\n",
       " {'tag': {'landuse': 'commercial'}},\n",
       " {'tag': {'landuse': 'grass'}},\n",
       " {'tag': {'landuse': 'residential'}},\n",
       " {'tag': {'landuse': 'basin'}},\n",
       " {'tag': {'landuse': 'commercial'}},\n",
       " {'tag': {'landuse': 'residential'}},\n",
       " {'tag': {'landuse': 'retail'}},\n",
       " {'tag': {'landuse': 'residential'}},\n",
       " {'tag': {'landuse': 'residential'}},\n",
       " {'tag': {'landuse': 'residential'}},\n",
       " {'tag': {'landuse': 'residential'}},\n",
       " {'tag': {'landuse': 'residential'}},\n",
       " {'tag': {'landuse': 'residential'}},\n",
       " {'tag': {'landuse': 'residential'}},\n",
       " {'tag': {'landuse': 'retail'}},\n",
       " {'tag': {'landuse': 'residential'}},\n",
       " {'tag': {'landuse': 'residential'}},\n",
       " {'tag': {'landuse': 'residential'}},\n",
       " {'tag': {'landuse': 'basin'}},\n",
       " {'tag': {'landuse': 'residential'}},\n",
       " {'tag': {'landuse': 'residential'}},\n",
       " {'tag': {'landuse': 'residential'}},\n",
       " {'tag': {'landuse': 'residential'}},\n",
       " {'tag': {'landuse': 'residential'}},\n",
       " {'tag': {'landuse': 'residential'}},\n",
       " {'tag': {'landuse': 'residential'}},\n",
       " {'tag': {'landuse': 'residential'}},\n",
       " {'tag': {'landuse': 'residential'}},\n",
       " {'tag': {'landuse': 'commercial'}},\n",
       " {'tag': {'landuse': 'commercial'}},\n",
       " {'tag': {'landuse': 'residential'}},\n",
       " {'tag': {'landuse': 'residential'}},\n",
       " {'tag': {'landuse': 'residential'}},\n",
       " {'tag': {'landuse': 'residential'}},\n",
       " {'tag': {'landuse': 'retail'}},\n",
       " {'tag': {'landuse': 'residential'}},\n",
       " {'tag': {'landuse': 'residential'}},\n",
       " {'tag': {'landuse': 'residential'}},\n",
       " {'tag': {'landuse': 'commercial'}},\n",
       " {'tag': {'landuse': 'residential'}},\n",
       " {'tag': {'landuse': 'residential'}},\n",
       " {'tag': {'landuse': 'residential'}},\n",
       " {'tag': {'landuse': 'residential'}},\n",
       " {'tag': {'landuse': 'residential'}},\n",
       " {'tag': {'landuse': 'residential'}},\n",
       " {'tag': {'landuse': 'residential'}},\n",
       " {'tag': {'landuse': 'residential'}},\n",
       " {'tag': {'landuse': 'commercial'}},\n",
       " {'tag': {'landuse': 'grass'}},\n",
       " {'tag': {'landuse': 'grass'}},\n",
       " {'tag': {'landuse': 'retail'}},\n",
       " {'tag': {'landuse': 'cemetery'}},\n",
       " {'tag': {'landuse': 'commercial'}},\n",
       " {'tag': {'landuse': 'residential'}},\n",
       " {'tag': {'landuse': 'residential'}},\n",
       " {'tag': {'landuse': 'residential'}},\n",
       " {'tag': {'landuse': 'residential'}},\n",
       " {'tag': {'landuse': 'retail'}},\n",
       " {'tag': {'landuse': 'retail'}},\n",
       " {'tag': {'landuse': 'residential'}},\n",
       " {'tag': {'landuse': 'residential'}},\n",
       " {'tag': {'landuse': 'residential'}},\n",
       " {'tag': {'landuse': 'residential'}},\n",
       " {'tag': {'landuse': 'basin'}},\n",
       " {'tag': {'landuse': 'residential'}},\n",
       " {'tag': {'landuse': 'residential'}},\n",
       " {'tag': {'landuse': 'residential'}},\n",
       " {'tag': {'landuse': 'residential'}},\n",
       " {'tag': {'landuse': 'retail'}},\n",
       " {'tag': {'landuse': 'residential'}},\n",
       " {'tag': {'landuse': 'commercial'}},\n",
       " {'tag': {'landuse': 'allotments'}},\n",
       " {'tag': {'landuse': 'retail'}},\n",
       " {'tag': {'landuse': 'residential'}},\n",
       " {'tag': {'landuse': 'residential'}},\n",
       " {'tag': {'landuse': 'commercial'}},\n",
       " {'tag': {'landuse': 'residential'}},\n",
       " {'tag': {'landuse': 'residential'}},\n",
       " {'tag': {'landuse': 'residential'}},\n",
       " {'tag': {'landuse': 'residential'}},\n",
       " {'tag': {'landuse': 'residential'}},\n",
       " {'tag': {'landuse': 'residential'}},\n",
       " {'tag': {'landuse': 'residential'}},\n",
       " {'tag': {'landuse': 'residential'}},\n",
       " {'tag': {'landuse': 'residential'}},\n",
       " {'tag': {'landuse': 'residential'}},\n",
       " {'tag': {'landuse': 'residential'}},\n",
       " {'tag': {'landuse': 'residential'}},\n",
       " {'tag': {'landuse': 'residential'}},\n",
       " {'tag': {'landuse': 'retail'}},\n",
       " {'tag': {'landuse': 'retail'}},\n",
       " {'tag': {'landuse': 'residential'}},\n",
       " {'tag': {'landuse': 'residential'}},\n",
       " {'tag': {'landuse': 'residential'}},\n",
       " {'tag': {'landuse': 'residential'}},\n",
       " {'tag': {'landuse': 'residential'}},\n",
       " {'tag': {'landuse': 'residential'}},\n",
       " {'tag': {'landuse': 'residential'}},\n",
       " {'tag': {'landuse': 'commercial'}},\n",
       " {'tag': {'landuse': 'residential'}},\n",
       " {'tag': {'landuse': 'residential'}},\n",
       " {'tag': {'landuse': 'residential'}},\n",
       " {'tag': {'landuse': 'residential'}},\n",
       " {'tag': {'landuse': 'forest'}},\n",
       " {'tag': {'landuse': 'residential'}},\n",
       " {'tag': {'landuse': 'residential'}},\n",
       " {'tag': {'landuse': 'residential'}},\n",
       " {'tag': {'landuse': 'residential'}},\n",
       " {'tag': {'landuse': 'residential'}},\n",
       " {'tag': {'landuse': 'residential'}},\n",
       " {'tag': {'landuse': 'residential'}},\n",
       " {'tag': {'landuse': 'residential'}},\n",
       " {'tag': {'landuse': 'commercial'}},\n",
       " {'tag': {'landuse': 'residential'}},\n",
       " {'tag': {'landuse': 'residential'}},\n",
       " {'tag': {'landuse': 'residential'}},\n",
       " {'tag': {'landuse': 'residential'}},\n",
       " {'tag': {'landuse': 'retail'}},\n",
       " {'tag': {'landuse': 'residential'}},\n",
       " {'tag': {'landuse': 'commercial'}},\n",
       " {'tag': {'landuse': 'residential'}},\n",
       " {'tag': {'landuse': 'residential'}},\n",
       " {'tag': {'landuse': 'residential'}},\n",
       " {'tag': {'landuse': 'residential'}},\n",
       " {'tag': {'landuse': 'residential'}},\n",
       " {'tag': {'landuse': 'residential'}},\n",
       " {'tag': {'landuse': 'residential'}},\n",
       " {'tag': {'landuse': 'forest'}},\n",
       " {'tag': {'landuse': 'residential'}},\n",
       " {'tag': {'landuse': 'retail'}},\n",
       " {'tag': {'landuse': 'residential'}},\n",
       " {'tag': {'landuse': 'residential'}},\n",
       " {'tag': {'landuse': 'residential'}},\n",
       " {'tag': {'landuse': 'grass'}},\n",
       " {'tag': {'landuse': 'construction'}},\n",
       " {'tag': {'landuse': 'allotments'}},\n",
       " {'tag': {'landuse': 'grass'}},\n",
       " {'tag': {'landuse': 'grass'}},\n",
       " {'tag': {'landuse': 'industrial'}},\n",
       " {'tag': {'landuse': 'commercial'}},\n",
       " {'tag': {'landuse': 'commercial'}},\n",
       " {'tag': {'landuse': 'residential'}},\n",
       " {'tag': {'landuse': 'residential'}},\n",
       " {'tag': {'landuse': 'residential'}},\n",
       " {'tag': {'landuse': 'residential'}},\n",
       " {'tag': {'landuse': 'residential'}},\n",
       " {'tag': {'landuse': 'residential'}},\n",
       " {'tag': {'landuse': 'residential'}},\n",
       " {'tag': {'landuse': 'residential'}},\n",
       " {'tag': {'landuse': 'residential'}},\n",
       " {'tag': {'landuse': 'residential'}},\n",
       " {'tag': {'landuse': 'residential'}},\n",
       " {'tag': {'landuse': 'residential'}},\n",
       " {'tag': {'landuse': 'residential'}},\n",
       " {'tag': {'landuse': 'residential'}},\n",
       " {'tag': {'landuse': 'residential'}},\n",
       " {'tag': {'landuse': 'retail'}},\n",
       " {'tag': {'landuse': 'retail'}},\n",
       " {'tag': {'landuse': 'retail'}},\n",
       " {'tag': {'landuse': 'retail'}},\n",
       " {'tag': {'landuse': 'residential'}},\n",
       " {'tag': {'landuse': 'residential'}},\n",
       " {'tag': {'landuse': 'residential'}},\n",
       " {'tag': {'landuse': 'residential'}},\n",
       " {'tag': {'landuse': 'residential'}},\n",
       " {'tag': {'landuse': 'residential'}},\n",
       " {'tag': {'landuse': 'commercial'}},\n",
       " {'tag': {'landuse': 'residential'}},\n",
       " {'tag': {'landuse': 'residential'}},\n",
       " {'tag': {'landuse': 'residential'}},\n",
       " {'tag': {'landuse': 'grass'}},\n",
       " {'tag': {'landuse': 'grass'}},\n",
       " {'tag': {'landuse': 'grass'}},\n",
       " {'tag': {'landuse': 'grass'}},\n",
       " {'tag': {'landuse': 'grass'}},\n",
       " {'tag': {'landuse': 'grass'}},\n",
       " {'tag': {'landuse': 'grass'}},\n",
       " {'tag': {'landuse': 'forest'}},\n",
       " {'tag': {'landuse': 'forest'}},\n",
       " {'tag': {'landuse': 'forest'}},\n",
       " {'tag': {'landuse': 'grass'}},\n",
       " {'tag': {'landuse': 'grass'}},\n",
       " {'tag': {'landuse': 'grass'}},\n",
       " {'tag': {'landuse': 'grass'}},\n",
       " {'tag': {'landuse': 'grass'}},\n",
       " {'tag': {'landuse': 'grass'}},\n",
       " {'tag': {'landuse': 'grass'}},\n",
       " {'tag': {'landuse': 'grass'}},\n",
       " {'tag': {'landuse': 'grass'}},\n",
       " {'tag': {'landuse': 'grass'}},\n",
       " {'tag': {'landuse': 'grass'}},\n",
       " {'tag': {'landuse': 'grass'}},\n",
       " {'tag': {'landuse': 'grass'}},\n",
       " {'tag': {'landuse': 'grass'}},\n",
       " {'tag': {'landuse': 'retail'}},\n",
       " {'tag': {'landuse': 'commercial'}},\n",
       " {'tag': {'landuse': 'construction'}},\n",
       " {'tag': {'landuse': 'residential'}},\n",
       " {'tag': {'landuse': 'commercial'}},\n",
       " {'tag': {'landuse': 'construction'}},\n",
       " {'tag': {'landuse': 'residential'}},\n",
       " {'tag': {'landuse': 'residential'}},\n",
       " {'tag': {'landuse': 'retail'}},\n",
       " {'tag': {'landuse': 'residential'}},\n",
       " {'tag': {'landuse': 'residential'}},\n",
       " {'tag': {'landuse': 'residential'}},\n",
       " {'tag': {'landuse': 'residential'}},\n",
       " {'tag': {'landuse': 'residential'}},\n",
       " {'tag': {'landuse': 'residential'}},\n",
       " {'tag': {'landuse': 'residential'}},\n",
       " {'tag': {'landuse': 'residential'}},\n",
       " {'tag': {'landuse': 'retail'}},\n",
       " {'tag': {'landuse': 'retail'}},\n",
       " {'tag': {'landuse': 'residential'}},\n",
       " {'tag': {'landuse': 'residential'}},\n",
       " {'tag': {'landuse': 'residential'}},\n",
       " {'tag': {'landuse': 'residential'}},\n",
       " {'tag': {'landuse': 'residential'}},\n",
       " {'tag': {'landuse': 'residential'}},\n",
       " {'tag': {'landuse': 'retail'}},\n",
       " {'tag': {'landuse': 'retail'}},\n",
       " {'tag': {'landuse': 'construction'}},\n",
       " {'tag': {'landuse': 'residential'}},\n",
       " {'tag': {'landuse': 'residential'}},\n",
       " {'tag': {'landuse': 'retail'}},\n",
       " {'tag': {'landuse': 'residential'}},\n",
       " {'tag': {'landuse': 'retail'}},\n",
       " {'tag': {'landuse': 'residential'}},\n",
       " {'tag': {'landuse': 'commercial'}},\n",
       " {'tag': {'landuse': 'residential'}},\n",
       " {'tag': {'landuse': 'residential'}},\n",
       " {'tag': {'landuse': 'residential'}},\n",
       " {'tag': {'landuse': 'grass'}},\n",
       " {'tag': {'landuse': 'grass'}},\n",
       " {'tag': {'landuse': 'grass'}},\n",
       " {'tag': {'landuse': 'forest'}},\n",
       " {'tag': {'landuse': 'retail'}},\n",
       " {'tag': {'landuse': 'retail'}},\n",
       " {'tag': {'landuse': 'residential'}},\n",
       " {'tag': {'landuse': 'residential'}},\n",
       " {'tag': {'landuse': 'residential'}},\n",
       " {'tag': {'landuse': 'residential'}},\n",
       " {'tag': {'landuse': 'residential'}},\n",
       " {'tag': {'landuse': 'residential'}},\n",
       " {'tag': {'landuse': 'commercial'}},\n",
       " {'tag': {'landuse': 'residential'}},\n",
       " {'tag': {'landuse': 'residential'}},\n",
       " {'tag': {'landuse': 'residential'}},\n",
       " {'tag': {'landuse': 'retail'}},\n",
       " {'tag': {'landuse': 'retail'}},\n",
       " {'tag': {'landuse': 'residential'}},\n",
       " {'tag': {'landuse': 'residential'}},\n",
       " {'tag': {'landuse': 'residential'}},\n",
       " {'tag': {'landuse': 'retail'}},\n",
       " {'tag': {'landuse': 'residential'}},\n",
       " {'tag': {'landuse': 'retail'}},\n",
       " {'tag': {'landuse': 'residential'}},\n",
       " {'tag': {'landuse': 'retail'}},\n",
       " {'tag': {'landuse': 'residential'}},\n",
       " {'tag': {'landuse': 'residential'}},\n",
       " {'tag': {'landuse': 'residential'}},\n",
       " {'tag': {'landuse': 'residential'}},\n",
       " {'tag': {'landuse': 'retail'}},\n",
       " {'tag': {'landuse': 'residential'}},\n",
       " {'tag': {'landuse': 'residential'}},\n",
       " {'tag': {'landuse': 'residential'}},\n",
       " {'tag': {'landuse': 'residential'}},\n",
       " {'tag': {'landuse': 'residential'}},\n",
       " {'tag': {'landuse': 'commercial'}},\n",
       " {'tag': {'landuse': 'residential'}},\n",
       " {'tag': {'landuse': 'residential'}},\n",
       " {'tag': {'landuse': 'residential'}},\n",
       " {'tag': {'landuse': 'residential'}},\n",
       " {'tag': {'landuse': 'residential'}},\n",
       " {'tag': {'landuse': 'residential'}},\n",
       " {'tag': {'landuse': 'residential'}},\n",
       " {'tag': {'landuse': 'residential'}},\n",
       " {'tag': {'landuse': 'residential'}},\n",
       " {'tag': {'landuse': 'residential'}},\n",
       " {'tag': {'landuse': 'residential'}},\n",
       " {'tag': {'landuse': 'residential'}},\n",
       " {'tag': {'landuse': 'residential'}},\n",
       " {'tag': {'landuse': 'retail'}},\n",
       " {'tag': {'landuse': 'commercial'}},\n",
       " {'tag': {'landuse': 'residential'}},\n",
       " {'tag': {'landuse': 'residential'}},\n",
       " {'tag': {'landuse': 'residential'}},\n",
       " {'tag': {'landuse': 'residential'}},\n",
       " {'tag': {'landuse': 'residential'}},\n",
       " {'tag': {'landuse': 'residential'}},\n",
       " {'tag': {'landuse': 'residential'}},\n",
       " {'tag': {'landuse': 'retail'}},\n",
       " {'tag': {'landuse': 'retail'}},\n",
       " {'tag': {'landuse': 'retail'}},\n",
       " {'tag': {'landuse': 'retail'}},\n",
       " {'tag': {'landuse': 'retail'}},\n",
       " {'tag': {'landuse': 'residential'}},\n",
       " {'tag': {'landuse': 'residential'}},\n",
       " {'tag': {'landuse': 'grass'}},\n",
       " {'tag': {'landuse': 'grass'}},\n",
       " {'tag': {'landuse': 'grass'}},\n",
       " {'tag': {'landuse': 'grass'}},\n",
       " {'tag': {'landuse': 'grass'}},\n",
       " {'tag': {'landuse': 'retail'}},\n",
       " {'tag': {'landuse': 'residential'}},\n",
       " {'tag': {'landuse': 'residential'}},\n",
       " {'tag': {'landuse': 'residential'}},\n",
       " {'tag': {'landuse': 'residential'}},\n",
       " {'tag': {'landuse': 'residential'}},\n",
       " {'tag': {'landuse': 'residential'}},\n",
       " {'tag': {'landuse': 'grass'}},\n",
       " {'tag': {'landuse': 'grass'}},\n",
       " {'tag': {'landuse': 'grass'}},\n",
       " {'tag': {'landuse': 'residential'}},\n",
       " {'tag': {'landuse': 'industrial'}},\n",
       " {'tag': {'landuse': 'residential'}},\n",
       " {'tag': {'landuse': 'residential'}},\n",
       " {'tag': {'landuse': 'grass'}},\n",
       " {'tag': {'landuse': 'residential'}},\n",
       " {'tag': {'landuse': 'residential'}},\n",
       " {'tag': {'landuse': 'residential'}},\n",
       " {'tag': {'landuse': 'residential'}},\n",
       " {'tag': {'landuse': 'residential'}},\n",
       " {'tag': {'landuse': 'residential'}},\n",
       " {'tag': {'landuse': 'residential'}},\n",
       " {'tag': {'landuse': 'grass'}},\n",
       " {'tag': {'landuse': 'commercial'}},\n",
       " {'tag': {'landuse': 'commercial'}},\n",
       " {'tag': {'landuse': 'residential'}},\n",
       " {'tag': {'landuse': 'retail'}},\n",
       " {'tag': {'landuse': 'retail'}},\n",
       " {'tag': {'landuse': 'residential'}},\n",
       " {'tag': {'landuse': 'commercial'}},\n",
       " {'tag': {'landuse': 'residential'}},\n",
       " {'tag': {'landuse': 'residential'}},\n",
       " {'tag': {'landuse': 'residential'}},\n",
       " {'tag': {'landuse': 'residential'}},\n",
       " {'tag': {'landuse': 'residential'}},\n",
       " {'tag': {'landuse': 'grass'}},\n",
       " {'tag': {'landuse': 'residential'}},\n",
       " {'tag': {'landuse': 'residential'}},\n",
       " {'tag': {'landuse': 'residential'}},\n",
       " {'tag': {'landuse': 'grass'}},\n",
       " {'tag': {'landuse': 'grass'}},\n",
       " {'tag': {'landuse': 'grass'}},\n",
       " {'tag': {'landuse': 'grass'}},\n",
       " {'tag': {'landuse': 'grass'}},\n",
       " {'tag': {'landuse': 'grass'}},\n",
       " {'tag': {'landuse': 'grass'}},\n",
       " {'tag': {'landuse': 'grass'}},\n",
       " {'tag': {'landuse': 'grass'}},\n",
       " {'tag': {'landuse': 'grass'}},\n",
       " {'tag': {'landuse': 'grass'}},\n",
       " {'tag': {'landuse': 'grass'}},\n",
       " {'tag': {'landuse': 'grass'}},\n",
       " {'tag': {'landuse': 'grass'}},\n",
       " {'tag': {'landuse': 'grass'}},\n",
       " {'tag': {'landuse': 'grass'}},\n",
       " {'tag': {'landuse': 'grass'}},\n",
       " {'tag': {'landuse': 'grass'}},\n",
       " {'tag': {'landuse': 'grass'}},\n",
       " {'tag': {'landuse': 'grass'}},\n",
       " {'tag': {'landuse': 'forest'}},\n",
       " {'tag': {'landuse': 'forest'}},\n",
       " {'tag': {'landuse': 'grass'}},\n",
       " {'tag': {'landuse': 'brownfield'}},\n",
       " {'tag': {'landuse': 'grass'}},\n",
       " {'tag': {'landuse': 'forest'}},\n",
       " {'tag': {'landuse': 'grass'}},\n",
       " {'tag': {'landuse': 'grass'}},\n",
       " {'tag': {'landuse': 'retail'}},\n",
       " {'tag': {'landuse': 'retail'}},\n",
       " {'tag': {'landuse': 'residential'}},\n",
       " {'tag': {'landuse': 'forest'}},\n",
       " {'tag': {'landuse': 'grass'}},\n",
       " {'tag': {'landuse': 'forest'}},\n",
       " {'tag': {'landuse': 'forest'}},\n",
       " {'tag': {'landuse': 'commercial'}},\n",
       " {'tag': {'landuse': 'residential'}},\n",
       " {'tag': {'landuse': 'residential'}},\n",
       " {'tag': {'landuse': 'traffic_island'}},\n",
       " {'tag': {'landuse': 'forest'}},\n",
       " {'tag': {'landuse': 'construction'}},\n",
       " {'tag': {'landuse': 'grass'}},\n",
       " {'tag': {'landuse': 'grass'}},\n",
       " {'tag': {'landuse': 'grass'}},\n",
       " {'tag': {'landuse': 'grass'}},\n",
       " {'tag': {'landuse': 'grass'}},\n",
       " {'tag': {'landuse': 'grass'}},\n",
       " {'tag': {'landuse': 'grass'}},\n",
       " {'tag': {'landuse': 'grass'}},\n",
       " {'tag': {'landuse': 'grass'}},\n",
       " {'tag': {'landuse': 'grass'}},\n",
       " {'tag': {'landuse': 'grass'}},\n",
       " {'tag': {'landuse': 'grass'}},\n",
       " {'tag': {'landuse': 'residential'}},\n",
       " {'tag': {'landuse': 'residential'}},\n",
       " {'tag': {'landuse': 'retail'}},\n",
       " {'tag': {'landuse': 'residential'}},\n",
       " {'tag': {'landuse': 'residential'}},\n",
       " {'tag': {'landuse': 'residential'}},\n",
       " {'tag': {'landuse': 'residential'}},\n",
       " {'tag': {'landuse': 'residential'}},\n",
       " {'tag': {'landuse': 'residential'}},\n",
       " {'tag': {'landuse': 'residential'}},\n",
       " {'tag': {'landuse': 'residential'}},\n",
       " {'tag': {'landuse': 'residential'}},\n",
       " {'tag': {'landuse': 'retail'}},\n",
       " {'tag': {'landuse': 'retail'}},\n",
       " {'tag': {'landuse': 'retail'}},\n",
       " {'tag': {'landuse': 'residential'}},\n",
       " {'tag': {'landuse': 'residential'}},\n",
       " {'tag': {'landuse': 'retail'}},\n",
       " {'tag': {'landuse': 'retail'}},\n",
       " {'tag': {'landuse': 'residential'}},\n",
       " {'tag': {'landuse': 'grass'}},\n",
       " {'tag': {'landuse': 'grass'}},\n",
       " {'tag': {'landuse': 'grass'}},\n",
       " {'tag': {'landuse': 'grass'}},\n",
       " {'tag': {'landuse': 'grass'}},\n",
       " {'tag': {'landuse': 'grass'}},\n",
       " {'tag': {'landuse': 'grass'}},\n",
       " {'tag': {'landuse': 'grass'}},\n",
       " {'tag': {'landuse': 'grass'}},\n",
       " {'tag': {'landuse': 'grass'}},\n",
       " {'tag': {'landuse': 'grass'}},\n",
       " {'tag': {'landuse': 'grass'}},\n",
       " {'tag': {'landuse': 'grass'}},\n",
       " {'tag': {'landuse': 'public'}},\n",
       " {'tag': {'landuse': 'grass'}},\n",
       " {'tag': {'landuse': 'traffic_island'}},\n",
       " {'tag': {'landuse': 'grass'}},\n",
       " {'tag': {'landuse': 'grass'}},\n",
       " {'tag': {'landuse': 'grass'}},\n",
       " {'tag': {'landuse': 'grass'}},\n",
       " {'tag': {'landuse': 'grass'}},\n",
       " {'tag': {'landuse': 'grass'}},\n",
       " {'tag': {'landuse': 'grass'}},\n",
       " {'tag': {'landuse': 'grass'}},\n",
       " {'tag': {'landuse': 'grass'}},\n",
       " {'tag': {'landuse': 'grass'}},\n",
       " {'tag': {'landuse': 'grass'}},\n",
       " {'tag': {'landuse': 'grass'}},\n",
       " {'tag': {'landuse': 'residential'}},\n",
       " {'tag': {'landuse': 'retail'}},\n",
       " {'tag': {'landuse': 'residential'}},\n",
       " {'tag': {'landuse': 'retail'}},\n",
       " {'tag': {'landuse': 'retail'}},\n",
       " {'tag': {'landuse': 'residential'}},\n",
       " {'tag': {'landuse': 'commercial'}},\n",
       " {'tag': {'landuse': 'retail'}},\n",
       " {'tag': {'landuse': 'residential'}},\n",
       " {'tag': {'landuse': 'residential'}},\n",
       " {'tag': {'landuse': 'commercial'}},\n",
       " {'tag': {'landuse': 'retail'}},\n",
       " {'tag': {'landuse': 'residential'}},\n",
       " {'tag': {'landuse': 'retail'}},\n",
       " {'tag': {'landuse': 'residential'}},\n",
       " {'tag': {'landuse': 'residential'}},\n",
       " {'tag': {'landuse': 'residential'}},\n",
       " {'tag': {'landuse': 'residential'}},\n",
       " {'tag': {'landuse': 'retail'}},\n",
       " {'tag': {'landuse': 'residential'}},\n",
       " {'tag': {'landuse': 'retail'}},\n",
       " {'tag': {'landuse': 'residential'}},\n",
       " {'tag': {'landuse': 'residential'}},\n",
       " {'tag': {'landuse': 'residential'}},\n",
       " {'tag': {'landuse': 'residential'}},\n",
       " {'tag': {'landuse': 'residential'}},\n",
       " {'tag': {'landuse': 'retail'}},\n",
       " {'tag': {'landuse': 'residential'}},\n",
       " {'tag': {'landuse': 'residential'}},\n",
       " {'tag': {'landuse': 'residential'}},\n",
       " {'tag': {'landuse': 'residential'}},\n",
       " {'tag': {'landuse': 'residential'}},\n",
       " {'tag': {'landuse': 'commercial'}},\n",
       " {'tag': {'landuse': 'residential'}},\n",
       " {'tag': {'landuse': 'residential'}},\n",
       " {'tag': {'landuse': 'retail'}},\n",
       " {'tag': {'landuse': 'residential'}},\n",
       " {'tag': {'landuse': 'retail'}},\n",
       " {'tag': {'landuse': 'retail'}},\n",
       " {'tag': {'landuse': 'retail'}},\n",
       " {'tag': {'landuse': 'residential'}},\n",
       " {'tag': {'landuse': 'retail'}},\n",
       " {'tag': {'landuse': 'residential'}},\n",
       " {'tag': {'landuse': 'industrial'}},\n",
       " {'tag': {'landuse': 'grass'}},\n",
       " {'tag': {'landuse': 'residential'}},\n",
       " {'tag': {'landuse': 'residential'}},\n",
       " {'tag': {'landuse': 'residential'}},\n",
       " {'tag': {'landuse': 'commercial'}},\n",
       " {'tag': {'landuse': 'grass'}},\n",
       " {'tag': {'landuse': 'residential'}},\n",
       " {'tag': {'landuse': 'residential'}},\n",
       " {'tag': {'landuse': 'residential'}},\n",
       " {'tag': {'landuse': 'grass'}},\n",
       " {'tag': {'landuse': 'grass'}},\n",
       " {'tag': {'landuse': 'grass'}},\n",
       " {'tag': {'landuse': 'grass'}},\n",
       " {'tag': {'landuse': 'construction'}},\n",
       " {'tag': {'landuse': 'residential'}},\n",
       " {'tag': {'landuse': 'retail'}},\n",
       " {'tag': {'landuse': 'residential'}},\n",
       " {'tag': {'landuse': 'grass'}},\n",
       " {'tag': {'landuse': 'residential'}},\n",
       " {'tag': {'landuse': 'grass'}},\n",
       " {'tag': {'landuse': 'residential'}},\n",
       " {'tag': {'landuse': 'residential'}},\n",
       " {'tag': {'landuse': 'residential'}},\n",
       " {'tag': {'landuse': 'grass'}},\n",
       " {'tag': {'landuse': 'grass'}},\n",
       " {'tag': {'landuse': 'grass'}},\n",
       " {'tag': {'landuse': 'construction'}},\n",
       " {'tag': {'landuse': 'grass'}},\n",
       " {'tag': {'landuse': 'residential'}},\n",
       " {'tag': {'landuse': 'residential'}},\n",
       " {'tag': {'landuse': 'residential'}},\n",
       " {'tag': {'landuse': 'residential'}},\n",
       " {'tag': {'landuse': 'residential'}},\n",
       " {'tag': {'landuse': 'grass'}},\n",
       " {'tag': {'landuse': 'grass'}},\n",
       " {'tag': {'landuse': 'grass'}},\n",
       " {'tag': {'landuse': 'grass'}},\n",
       " {'tag': {'landuse': 'forest'}},\n",
       " {'tag': {'landuse': 'grass'}},\n",
       " {'tag': {'landuse': 'grass'}},\n",
       " {'tag': {'landuse': 'grass'}},\n",
       " {'tag': {'landuse': 'grass'}},\n",
       " {'tag': {'landuse': 'grass'}},\n",
       " {'tag': {'landuse': 'grass'}},\n",
       " {'tag': {'landuse': 'grass'}},\n",
       " {'tag': {'landuse': 'recreation_ground'}},\n",
       " {'tag': {'landuse': 'grass'}},\n",
       " {'tag': {'landuse': 'grass'}},\n",
       " {'tag': {'landuse': 'grass'}},\n",
       " {'tag': {'landuse': 'grass'}},\n",
       " {'tag': {'landuse': 'grass'}},\n",
       " {'tag': {'landuse': 'construction'}},\n",
       " {'tag': {'landuse': 'grass'}},\n",
       " {'tag': {'landuse': 'grass'}},\n",
       " {'tag': {'landuse': 'grass'}},\n",
       " {'tag': {'landuse': 'grass'}},\n",
       " {'tag': {'landuse': 'grass'}},\n",
       " {'tag': {'landuse': 'grass'}},\n",
       " {'tag': {'landuse': 'grass'}},\n",
       " {'tag': {'landuse': 'grass'}},\n",
       " {'tag': {'landuse': 'grass'}},\n",
       " {'tag': {'landuse': 'grass'}},\n",
       " {'tag': {'landuse': 'grass'}},\n",
       " {'tag': {'landuse': 'grass'}},\n",
       " {'tag': {'landuse': 'grass'}},\n",
       " {'tag': {'landuse': 'grass'}},\n",
       " {'tag': {'landuse': 'grass'}},\n",
       " {'tag': {'landuse': 'grass'}},\n",
       " {'tag': {'landuse': 'grass'}},\n",
       " {'tag': {'landuse': 'grass'}},\n",
       " {'tag': {'landuse': 'grass'}},\n",
       " {'tag': {'landuse': 'grass'}},\n",
       " {'tag': {'landuse': 'grass'}},\n",
       " {'tag': {'landuse': 'grass'}},\n",
       " {'tag': {'landuse': 'grass'}},\n",
       " {'tag': {'landuse': 'construction'}},\n",
       " {'tag': {'landuse': 'grass'}},\n",
       " {'tag': {'landuse': 'grass'}},\n",
       " {'tag': {'landuse': 'grass'}},\n",
       " {'tag': {'landuse': 'grass'}},\n",
       " {'tag': {'landuse': 'grass'}},\n",
       " {'tag': {'landuse': 'grass'}},\n",
       " {'tag': {'landuse': 'grass'}},\n",
       " {'tag': {'landuse': 'grass'}},\n",
       " {'tag': {'landuse': 'grass'}},\n",
       " {'tag': {'landuse': 'grass'}},\n",
       " {'tag': {'landuse': 'grass'}},\n",
       " {'tag': {'landuse': 'grass'}},\n",
       " {'tag': {'landuse': 'grass'}},\n",
       " {'tag': {'landuse': 'grass'}},\n",
       " {'tag': {'landuse': 'grass'}}]"
      ]
     },
     "execution_count": 53,
     "metadata": {},
     "output_type": "execute_result"
    }
   ],
   "source": [
    "list(mdb.p33.find({\"tag.landuse\": {\"$exists\": 1}},{\"tag.landuse\": 1,'_id':0}))\n"
   ]
  },
  {
   "cell_type": "code",
   "execution_count": 54,
   "metadata": {
    "collapsed": true,
    "run_control": {
     "marked": false
    }
   },
   "outputs": [
    {
     "data": {
      "text/plain": [
       "[{'_id': None, 'count': 421333},\n",
       " {'_id': 'residential', 'count': 560},\n",
       " {'_id': 'grass', 'count': 179},\n",
       " {'_id': 'retail', 'count': 127},\n",
       " {'_id': 'commercial', 'count': 59},\n",
       " {'_id': 'forest', 'count': 14},\n",
       " {'_id': 'recreation_ground', 'count': 14},\n",
       " {'_id': 'construction', 'count': 9},\n",
       " {'_id': 'industrial', 'count': 4},\n",
       " {'_id': 'basin', 'count': 3},\n",
       " {'_id': 'cemetery', 'count': 3},\n",
       " {'_id': 'reservoir', 'count': 3},\n",
       " {'_id': 'traffic_island', 'count': 2},\n",
       " {'_id': 'allotments', 'count': 2},\n",
       " {'_id': 'military', 'count': 2},\n",
       " {'_id': 'public', 'count': 1},\n",
       " {'_id': 'brownfield', 'count': 1},\n",
       " {'_id': 'mixed', 'count': 1},\n",
       " {'_id': 'publicllotmentsllotments', 'count': 1},\n",
       " {'_id': 'quarry', 'count': 1}]"
      ]
     },
     "execution_count": 54,
     "metadata": {},
     "output_type": "execute_result"
    }
   ],
   "source": [
    "list(\n",
    "    mdb.p33.aggregate([{\n",
    "        \"$sortByCount\": \"$tag.landuse\"\n",
    "    }, {\n",
    "        \"$limit\": 30\n",
    "    }]))"
   ]
  },
  {
   "cell_type": "code",
   "execution_count": 55,
   "metadata": {
    "collapsed": true,
    "run_control": {
     "marked": false
    }
   },
   "outputs": [
    {
     "data": {
      "text/plain": [
       "[{'_id': '', 'count': 421970},\n",
       " {'_id': 'T5J', 'count': 94},\n",
       " {'_id': 'T6E', 'count': 46},\n",
       " {'_id': 'T6G', 'count': 41},\n",
       " {'_id': 'T5M', 'count': 40},\n",
       " {'_id': 'T5N', 'count': 38},\n",
       " {'_id': 'T6C', 'count': 24},\n",
       " {'_id': 'T5H', 'count': 21},\n",
       " {'_id': 'T5K', 'count': 20},\n",
       " {'_id': 'T5G', 'count': 11},\n",
       " {'_id': 'T6A', 'count': 4},\n",
       " {'_id': 'T5R', 'count': 3},\n",
       " {'_id': 'T5B', 'count': 2},\n",
       " {'_id': 'T6Z', 'count': 1},\n",
       " {'_id': 'T6J', 'count': 1},\n",
       " {'_id': 'T5C', 'count': 1},\n",
       " {'_id': 'T5L', 'count': 1},\n",
       " {'_id': 'T6K', 'count': 1}]"
      ]
     },
     "execution_count": 55,
     "metadata": {},
     "output_type": "execute_result"
    }
   ],
   "source": [
    "list(\n",
    "    mdb.p33.aggregate([{\n",
    "        \"$sortByCount\": { \"$substrBytes\": [\"$tag.addr.postcode\", 0, 3]}\n",
    "    }, {\n",
    "        \"$limit\": 30\n",
    "    }]))"
   ]
  },
  {
   "cell_type": "code",
   "execution_count": 56,
   "metadata": {
    "collapsed": true,
    "run_control": {
     "marked": false
    }
   },
   "outputs": [
    {
     "data": {
      "text/plain": [
       "[{'_id': {'landuse': 'grass'}, 'count': 72},\n",
       " {'_id': {'golf': 'fairway', 'landuse': 'grass'}, 'count': 39},\n",
       " {'_id': {'golf': 'tee', 'landuse': 'grass'}, 'count': 18},\n",
       " {'_id': {'landuse': 'grass', 'type': 'multipolygon'}, 'count': 8},\n",
       " {'_id': {'landuse': 'forest', 'leaf_cycle': 'mixed', 'leaf_type': 'mixed'},\n",
       "  'count': 7},\n",
       " {'_id': {'landuse': 'recreation_ground'}, 'count': 6},\n",
       " {'_id': {'landuse': 'forest'}, 'count': 4},\n",
       " {'_id': {'area': 'yes', 'landuse': 'grass'}, 'count': 3},\n",
       " {'_id': {'golf': 'green',\n",
       "   'landuse': 'grass',\n",
       "   'leisure': 'pitch',\n",
       "   'name': '1',\n",
       "   'sport': 'golf'},\n",
       "  'count': 2},\n",
       " {'_id': {'golf': 'green',\n",
       "   'landuse': 'grass',\n",
       "   'leisure': 'pitch',\n",
       "   'name': '7',\n",
       "   'sport': 'golf'},\n",
       "  'count': 2},\n",
       " {'_id': {'golf': 'green',\n",
       "   'landuse': 'grass',\n",
       "   'leisure': 'pitch',\n",
       "   'name': '17',\n",
       "   'sport': 'golf'},\n",
       "  'count': 2},\n",
       " {'_id': {'golf': 'green',\n",
       "   'landuse': 'grass',\n",
       "   'leisure': 'pitch',\n",
       "   'name': '15',\n",
       "   'sport': 'golf'},\n",
       "  'count': 2},\n",
       " {'_id': {'golf': 'green',\n",
       "   'landuse': 'grass',\n",
       "   'leisure': 'pitch',\n",
       "   'name': '5',\n",
       "   'sport': 'golf'},\n",
       "  'count': 2},\n",
       " {'_id': {'golf': 'green',\n",
       "   'landuse': 'grass',\n",
       "   'leisure': 'pitch',\n",
       "   'name': '3',\n",
       "   'sport': 'golf'},\n",
       "  'count': 2},\n",
       " {'_id': {'golf': 'green',\n",
       "   'landuse': 'grass',\n",
       "   'leisure': 'pitch',\n",
       "   'name': '12',\n",
       "   'sport': 'golf'},\n",
       "  'count': 2},\n",
       " {'_id': {'landcover': 'trees',\n",
       "   'landuse': 'forest',\n",
       "   'leaf_cycle': 'mixed',\n",
       "   'leaf_type': 'mixed'},\n",
       "  'count': 2},\n",
       " {'_id': {'golf': 'green',\n",
       "   'landuse': 'grass',\n",
       "   'leisure': 'pitch',\n",
       "   'sport': 'golf'},\n",
       "  'count': 2},\n",
       " {'_id': {'golf': 'green',\n",
       "   'landuse': 'grass',\n",
       "   'leisure': 'pitch',\n",
       "   'name': '13',\n",
       "   'sport': 'golf'},\n",
       "  'count': 2},\n",
       " {'_id': {'golf': 'green',\n",
       "   'landuse': 'grass',\n",
       "   'leisure': 'pitch',\n",
       "   'name': '6',\n",
       "   'sport': 'golf'},\n",
       "  'count': 2},\n",
       " {'_id': {'golf': 'green',\n",
       "   'landuse': 'grass',\n",
       "   'leisure': 'pitch',\n",
       "   'name': '16',\n",
       "   'sport': 'golf'},\n",
       "  'count': 2},\n",
       " {'_id': {'golf': 'green',\n",
       "   'landuse': 'grass',\n",
       "   'leisure': 'pitch',\n",
       "   'name': '2',\n",
       "   'sport': 'golf'},\n",
       "  'count': 2},\n",
       " {'_id': {'golf': 'green',\n",
       "   'landuse': 'grass',\n",
       "   'leisure': 'pitch',\n",
       "   'name': '11',\n",
       "   'sport': 'golf'},\n",
       "  'count': 2},\n",
       " {'_id': {'golf': 'green',\n",
       "   'landuse': 'grass',\n",
       "   'leisure': 'pitch',\n",
       "   'name': '10',\n",
       "   'sport': 'golf'},\n",
       "  'count': 2},\n",
       " {'_id': {'golf': 'green',\n",
       "   'landuse': 'grass',\n",
       "   'leisure': 'pitch',\n",
       "   'name': '14',\n",
       "   'sport': 'golf'},\n",
       "  'count': 2},\n",
       " {'_id': {'golf': 'green',\n",
       "   'landuse': 'grass',\n",
       "   'leisure': 'pitch',\n",
       "   'name': '18',\n",
       "   'sport': 'golf'},\n",
       "  'count': 2},\n",
       " {'_id': {'golf': 'green',\n",
       "   'landuse': 'grass',\n",
       "   'leisure': 'pitch',\n",
       "   'name': '4',\n",
       "   'sport': 'golf'},\n",
       "  'count': 2},\n",
       " {'_id': {'golf': 'green',\n",
       "   'landuse': 'grass',\n",
       "   'leisure': 'pitch',\n",
       "   'name': '8',\n",
       "   'sport': 'golf'},\n",
       "  'count': 2},\n",
       " {'_id': {'golf': 'green',\n",
       "   'landuse': 'grass',\n",
       "   'leisure': 'pitch',\n",
       "   'name': '9',\n",
       "   'sport': 'golf'},\n",
       "  'count': 2},\n",
       " {'_id': {'landuse': 'recreation_ground', 'name': 'Lister Field'}, 'count': 1},\n",
       " {'_id': {'landuse': 'grass', 'name': 'Oval Lawn'}, 'count': 1}]"
      ]
     },
     "execution_count": 56,
     "metadata": {},
     "output_type": "execute_result"
    }
   ],
   "source": [
    "list(\n",
    "    mdb.p33.aggregate([{\n",
    "        \"$match\": {\n",
    "            \"tag.landuse\": {\n",
    "                \"$in\": [\"grass\", \"forest\", \"recreation_ground\"]\n",
    "            }\n",
    "        }\n",
    "    }, {\n",
    "        \"$sortByCount\": \"$tag\"\n",
    "    }, {\n",
    "        \"$limit\": 30\n",
    "    }]))"
   ]
  },
  {
   "cell_type": "code",
   "execution_count": 57,
   "metadata": {
    "run_control": {
     "marked": false
    }
   },
   "outputs": [
    {
     "data": {
      "text/plain": [
       "[{'_id': 'jdkrabbe', 'count': 95},\n",
       " {'_id': 'yegbin', 'count': 60},\n",
       " {'_id': 'yoltia', 'count': 12},\n",
       " {'_id': 'Mesowhite', 'count': 7},\n",
       " {'_id': 'Moham837', 'count': 4},\n",
       " {'_id': 'Maarten Deen', 'count': 1}]"
      ]
     },
     "execution_count": 57,
     "metadata": {},
     "output_type": "execute_result"
    }
   ],
   "source": [
    "list(\n",
    "    mdb.p33.aggregate([ {\"$match\": {\"tag.landuse\": \"grass\"}},  \n",
    "                       {\"$sortByCount\" : \"$attr.user\"},\n",
    "        {\"$limit\": 30}\n",
    "    ]))"
   ]
  },
  {
   "cell_type": "code",
   "execution_count": 75,
   "metadata": {
    "collapsed": true,
    "run_control": {
     "marked": false
    }
   },
   "outputs": [],
   "source": [
    "# how do I get the number of green spaces sorted by postal code?\n",
    "\n",
    "r =     mdb.p33.aggregate([\n",
    "        # filter entries to those containing postcodes\n",
    "        {\"$match\" : {\"tag.addr.postcode\": {\"$exists\" : 1}}},\n",
    "        \n",
    "        # group on user and postcode\n",
    "        {\"$group\" : {\n",
    "            \"_id\" : {\"user\": \"$attr.user\",\"postcode\" : {\"$substrBytes\": [\"$tag.addr.postcode\", 0, 3]}\n",
    "                     },\n",
    "            \"count\" : {\"$sum\" : 1}\n",
    "            \n",
    "        }},\n",
    "        # flatten output\n",
    "        {\"$project\" : {\"user\": \"$_id.user\", \"postcode\": \"$_id.postcode\", \"count\":1, \"_id\":0}},\n",
    "        # sort by count descending\n",
    "        {\"$sort\": {\"count\": -1} },\n",
    "        # limit output to 20 items\n",
    "        {\"$limit\": 20}\n",
    "    ])\n",
    "\n",
    "_df = pd.DataFrame.from_records(r)"
   ]
  },
  {
   "cell_type": "code",
   "execution_count": 76,
   "metadata": {},
   "outputs": [
    {
     "data": {
      "text/html": [
       "<div>\n",
       "<style>\n",
       "    .dataframe thead tr:only-child th {\n",
       "        text-align: right;\n",
       "    }\n",
       "\n",
       "    .dataframe thead th {\n",
       "        text-align: left;\n",
       "    }\n",
       "\n",
       "    .dataframe tbody tr th {\n",
       "        vertical-align: top;\n",
       "    }\n",
       "</style>\n",
       "<table border=\"1\" class=\"dataframe\">\n",
       "  <thead>\n",
       "    <tr style=\"text-align: right;\">\n",
       "      <th></th>\n",
       "      <th>count</th>\n",
       "      <th>postcode</th>\n",
       "      <th>user</th>\n",
       "    </tr>\n",
       "  </thead>\n",
       "  <tbody>\n",
       "    <tr>\n",
       "      <th>0</th>\n",
       "      <td>63</td>\n",
       "      <td>T5J</td>\n",
       "      <td>Mesowhite</td>\n",
       "    </tr>\n",
       "    <tr>\n",
       "      <th>1</th>\n",
       "      <td>27</td>\n",
       "      <td>T5M</td>\n",
       "      <td>ptrchpmn</td>\n",
       "    </tr>\n",
       "    <tr>\n",
       "      <th>2</th>\n",
       "      <td>17</td>\n",
       "      <td>T6E</td>\n",
       "      <td>yegbin</td>\n",
       "    </tr>\n",
       "    <tr>\n",
       "      <th>3</th>\n",
       "      <td>13</td>\n",
       "      <td>T6C</td>\n",
       "      <td>yegbin</td>\n",
       "    </tr>\n",
       "    <tr>\n",
       "      <th>4</th>\n",
       "      <td>11</td>\n",
       "      <td>T5J</td>\n",
       "      <td>Yottabyte</td>\n",
       "    </tr>\n",
       "    <tr>\n",
       "      <th>5</th>\n",
       "      <td>11</td>\n",
       "      <td>T6E</td>\n",
       "      <td>Mesowhite</td>\n",
       "    </tr>\n",
       "    <tr>\n",
       "      <th>6</th>\n",
       "      <td>11</td>\n",
       "      <td>T5N</td>\n",
       "      <td>edmontongeo</td>\n",
       "    </tr>\n",
       "    <tr>\n",
       "      <th>7</th>\n",
       "      <td>11</td>\n",
       "      <td>T5N</td>\n",
       "      <td>ptrchpmn</td>\n",
       "    </tr>\n",
       "    <tr>\n",
       "      <th>8</th>\n",
       "      <td>10</td>\n",
       "      <td>T6G</td>\n",
       "      <td>yegbin</td>\n",
       "    </tr>\n",
       "    <tr>\n",
       "      <th>9</th>\n",
       "      <td>10</td>\n",
       "      <td>T6G</td>\n",
       "      <td>Mesowhite</td>\n",
       "    </tr>\n",
       "    <tr>\n",
       "      <th>10</th>\n",
       "      <td>9</td>\n",
       "      <td>T5K</td>\n",
       "      <td>Mesowhite</td>\n",
       "    </tr>\n",
       "    <tr>\n",
       "      <th>11</th>\n",
       "      <td>9</td>\n",
       "      <td>T5N</td>\n",
       "      <td>TristanA</td>\n",
       "    </tr>\n",
       "    <tr>\n",
       "      <th>12</th>\n",
       "      <td>7</td>\n",
       "      <td>T5M</td>\n",
       "      <td>edmontongeo</td>\n",
       "    </tr>\n",
       "    <tr>\n",
       "      <th>13</th>\n",
       "      <td>6</td>\n",
       "      <td>T6G</td>\n",
       "      <td>ptrchpmn</td>\n",
       "    </tr>\n",
       "    <tr>\n",
       "      <th>14</th>\n",
       "      <td>5</td>\n",
       "      <td>T6C</td>\n",
       "      <td>Mesowhite</td>\n",
       "    </tr>\n",
       "    <tr>\n",
       "      <th>15</th>\n",
       "      <td>5</td>\n",
       "      <td>T5H</td>\n",
       "      <td>Mesowhite</td>\n",
       "    </tr>\n",
       "    <tr>\n",
       "      <th>16</th>\n",
       "      <td>4</td>\n",
       "      <td>T6E</td>\n",
       "      <td>edmontongeo</td>\n",
       "    </tr>\n",
       "    <tr>\n",
       "      <th>17</th>\n",
       "      <td>4</td>\n",
       "      <td>T6G</td>\n",
       "      <td>Yottabyte</td>\n",
       "    </tr>\n",
       "    <tr>\n",
       "      <th>18</th>\n",
       "      <td>4</td>\n",
       "      <td>T5H</td>\n",
       "      <td>edmontongeo</td>\n",
       "    </tr>\n",
       "    <tr>\n",
       "      <th>19</th>\n",
       "      <td>3</td>\n",
       "      <td>T5G</td>\n",
       "      <td>Sundance</td>\n",
       "    </tr>\n",
       "  </tbody>\n",
       "</table>\n",
       "</div>"
      ],
      "text/plain": [
       "    count postcode         user\n",
       "0      63      T5J    Mesowhite\n",
       "1      27      T5M     ptrchpmn\n",
       "2      17      T6E       yegbin\n",
       "3      13      T6C       yegbin\n",
       "4      11      T5J    Yottabyte\n",
       "5      11      T6E    Mesowhite\n",
       "6      11      T5N  edmontongeo\n",
       "7      11      T5N     ptrchpmn\n",
       "8      10      T6G       yegbin\n",
       "9      10      T6G    Mesowhite\n",
       "10      9      T5K    Mesowhite\n",
       "11      9      T5N     TristanA\n",
       "12      7      T5M  edmontongeo\n",
       "13      6      T6G     ptrchpmn\n",
       "14      5      T6C    Mesowhite\n",
       "15      5      T5H    Mesowhite\n",
       "16      4      T6E  edmontongeo\n",
       "17      4      T6G    Yottabyte\n",
       "18      4      T5H  edmontongeo\n",
       "19      3      T5G     Sundance"
      ]
     },
     "execution_count": 76,
     "metadata": {},
     "output_type": "execute_result"
    }
   ],
   "source": [
    "_df"
   ]
  },
  {
   "cell_type": "code",
   "execution_count": null,
   "metadata": {
    "collapsed": true,
    "run_control": {
     "marked": false
    }
   },
   "outputs": [],
   "source": [
    "_df.assign( row_sum = _df.sum(axis=1))"
   ]
  },
  {
   "cell_type": "code",
   "execution_count": null,
   "metadata": {
    "collapsed": true,
    "run_control": {
     "marked": false
    }
   },
   "outputs": [],
   "source": [
    "_s = _df.sum()\n",
    "_s.name = \"col_sum\"\n",
    "\n",
    "_df.append( _s )"
   ]
  },
  {
   "cell_type": "code",
   "execution_count": null,
   "metadata": {
    "collapsed": true,
    "run_control": {
     "marked": false
    }
   },
   "outputs": [],
   "source": [
    "_s = _df.sum()\n",
    "_s.name = \"col_sum\"\n",
    "_df.assign( row_sum = _df.sum(axis=1)).append(_s)"
   ]
  },
  {
   "cell_type": "markdown",
   "metadata": {
    "run_control": {
     "marked": false
    }
   },
   "source": [
    "# Big(ger) Data"
   ]
  },
  {
   "cell_type": "code",
   "execution_count": 77,
   "metadata": {
    "collapsed": true,
    "run_control": {
     "marked": false
    }
   },
   "outputs": [],
   "source": [
    "# min_lat, max_lat, min_lon, max_lon =  53.5164, 53.5718, -113.5742,-113.4485\n",
    "min_lat=53.4271\n",
    "min_lon=-113.666\n",
    "max_lat=53.6495\n",
    "max_lon=-113.34\n",
    "\n",
    "map_url = 'http://overpass-api.de/api/map?bbox={0},{1},{2},{3}'.format(min_lon, min_lat, max_lon, max_lat)\n",
    "cl.download_data(map_url, fn='bigmap.osm')"
   ]
  },
  {
   "cell_type": "code",
   "execution_count": 78,
   "metadata": {
    "run_control": {
     "marked": false
    }
   },
   "outputs": [
    {
     "data": {
      "text/plain": [
       "(502.4631099700928, 78.97756671905518)"
      ]
     },
     "execution_count": 78,
     "metadata": {},
     "output_type": "execute_result"
    }
   ],
   "source": [
    "import os\n",
    "os.path.getsize('bigmap.osm') / 1024**2 , os.path.getsize('map.osm') / 1024**2"
   ]
  },
  {
   "cell_type": "code",
   "execution_count": 79,
   "metadata": {},
   "outputs": [
    {
     "name": "stdout",
     "output_type": "stream",
     "text": [
      "-rw-r--r--@ 1 josephmann  staff   502M  6 Jun 17:23 bigmap.osm\r\n",
      "-rw-r--r--@ 1 josephmann  staff    79M 14 Jun 15:30 map.osm\r\n"
     ]
    }
   ],
   "source": [
    "!ls -lh *map.osm "
   ]
  },
  {
   "cell_type": "code",
   "execution_count": 94,
   "metadata": {
    "run_control": {
     "marked": false
    }
   },
   "outputs": [
    {
     "name": "stdout",
     "output_type": "stream",
     "text": [
      "making fresh partition files 9\n"
     ]
    }
   ],
   "source": [
    "# create partitions for parallel processing\n",
    "big_b = cl.pf(fn = 'bigmap.osm')"
   ]
  },
  {
   "cell_type": "code",
   "execution_count": 95,
   "metadata": {},
   "outputs": [
    {
     "name": "stdout",
     "output_type": "stream",
     "text": [
      "bigmap_partition_0.osm bigmap_partition_3.osm bigmap_partition_6.osm\r\n",
      "bigmap_partition_1.osm bigmap_partition_4.osm bigmap_partition_7.osm\r\n",
      "bigmap_partition_2.osm bigmap_partition_5.osm\r\n"
     ]
    }
   ],
   "source": [
    "!ls *_partition_?.osm"
   ]
  },
  {
   "cell_type": "code",
   "execution_count": 96,
   "metadata": {
    "collapsed": true,
    "run_control": {
     "marked": false
    }
   },
   "outputs": [],
   "source": [
    "clean_b = big_b.map(fix_postal_codes).map(fix_city).map(fix_province).map(json.dumps)"
   ]
  },
  {
   "cell_type": "code",
   "execution_count": 97,
   "metadata": {},
   "outputs": [
    {
     "data": {
      "text/plain": [
       "[('edmontongeo', 331481),\n",
       " ('xixi', 18233),\n",
       " ('Sundance', 14029),\n",
       " ('Feldo', 8225),\n",
       " ('yegbin', 7615),\n",
       " ('Mesowhite', 7578),\n",
       " ('ij_', 4759),\n",
       " ('jdkrabbe', 4658),\n",
       " ('ptrchpmn', 3110),\n",
       " ('ec90', 2000),\n",
       " ('AKC', 1826),\n",
       " ('Viajero Perdido', 1762),\n",
       " ('xelloss', 1740),\n",
       " ('yoltia', 1405),\n",
       " ('flight780', 1204),\n",
       " ('alester', 1063),\n",
       " ('ionutr_telenav', 931),\n",
       " ('Ranek', 922),\n",
       " ('ntrussell', 917),\n",
       " ('spince', 603)]"
      ]
     },
     "execution_count": 97,
     "metadata": {},
     "output_type": "execute_result"
    }
   ],
   "source": [
    "top_value_freqs('attr.user', b1=b1, n=20).compute()"
   ]
  },
  {
   "cell_type": "code",
   "execution_count": 98,
   "metadata": {},
   "outputs": [
    {
     "data": {
      "text/plain": [
       "[('edmontongeo', 2142198),\n",
       " ('xixi', 112465),\n",
       " ('Mesowhite', 94015),\n",
       " ('Sundance', 73349),\n",
       " ('yegbin', 22367),\n",
       " ('Shawn Benbow', 21194),\n",
       " ('charrois', 15168),\n",
       " ('bogdanp_telenav', 14462),\n",
       " ('Oberaffe', 13987),\n",
       " ('xelloss', 13415),\n",
       " ('geobase_stevens', 11148),\n",
       " ('Feldo', 9753),\n",
       " ('Viajero Perdido', 9322),\n",
       " ('ionutr_telenav', 8525),\n",
       " ('ec90', 8097),\n",
       " ('GiJo', 7861),\n",
       " ('jdkrabbe', 5672),\n",
       " ('VE6SRV', 5602),\n",
       " ('ntrussell', 5518),\n",
       " ('ij_', 5201)]"
      ]
     },
     "execution_count": 98,
     "metadata": {},
     "output_type": "execute_result"
    }
   ],
   "source": [
    "top_value_freqs('attr.user', b1=big_b, n=20).compute()"
   ]
  },
  {
   "cell_type": "code",
   "execution_count": 99,
   "metadata": {
    "collapsed": true,
    "run_control": {
     "marked": false
    }
   },
   "outputs": [],
   "source": [
    "clean_b.to_textfiles('big_sample-*.json')"
   ]
  },
  {
   "cell_type": "code",
   "execution_count": 100,
   "metadata": {
    "run_control": {
     "marked": false
    }
   },
   "outputs": [
    {
     "name": "stdout",
     "output_type": "stream",
     "text": [
      "-rw-r--r--@ 1 josephmann  staff    76M 21 Jun 16:21 big_sample-0.json\r\n",
      "-rw-r--r--@ 1 josephmann  staff    84M 21 Jun 16:21 big_sample-1.json\r\n",
      "-rw-r--r--@ 1 josephmann  staff    84M 21 Jun 16:21 big_sample-2.json\r\n",
      "-rw-r--r--@ 1 josephmann  staff    84M 21 Jun 16:21 big_sample-3.json\r\n",
      "-rw-r--r--@ 1 josephmann  staff    84M 21 Jun 16:21 big_sample-4.json\r\n",
      "-rw-r--r--@ 1 josephmann  staff    84M 21 Jun 16:21 big_sample-5.json\r\n",
      "-rw-r--r--@ 1 josephmann  staff    37M 21 Jun 16:21 big_sample-6.json\r\n",
      "-rw-r--r--@ 1 josephmann  staff    35M 21 Jun 16:21 big_sample-7.json\r\n"
     ]
    }
   ],
   "source": [
    "!ls -lh big_sample*"
   ]
  },
  {
   "cell_type": "code",
   "execution_count": 84,
   "metadata": {
    "collapsed": true,
    "run_control": {
     "marked": false
    }
   },
   "outputs": [],
   "source": [
    "mdb.p33.drop()"
   ]
  },
  {
   "cell_type": "code",
   "execution_count": 101,
   "metadata": {
    "run_control": {
     "marked": false
    }
   },
   "outputs": [
    {
     "name": "stderr",
     "output_type": "stream",
     "text": [
      "2017-06-21T16:23:47.843-0600\tconnected to: localhost\n",
      "2017-06-21T16:23:50.839-0600\t[#############...........] examples.big\t44.2MB/75.9MB (58.2%)\n",
      "2017-06-21T16:23:52.951-0600\t[########################] examples.big\t75.9MB/75.9MB (100.0%)\n",
      "2017-06-21T16:23:52.951-0600\timported 325820 documents\n",
      "2017-06-21T16:23:52.974-0600\tconnected to: localhost\n",
      "2017-06-21T16:23:55.974-0600\t[###########.............] examples.big\t39.4MB/84.3MB (46.8%)\n",
      "2017-06-21T16:23:58.972-0600\t[######################..] examples.big\t78.6MB/84.3MB (93.3%)\n",
      "2017-06-21T16:23:59.425-0600\t[########################] examples.big\t84.3MB/84.3MB (100.0%)\n",
      "2017-06-21T16:23:59.425-0600\timported 400272 documents\n",
      "2017-06-21T16:23:59.446-0600\tconnected to: localhost\n",
      "2017-06-21T16:24:02.444-0600\t[##########..............] examples.big\t37.9MB/84.3MB (44.9%)\n",
      "2017-06-21T16:24:05.443-0600\t[#####################...] examples.big\t75.5MB/84.3MB (89.5%)\n",
      "2017-06-21T16:24:06.118-0600\t[########################] examples.big\t84.3MB/84.3MB (100.0%)\n",
      "2017-06-21T16:24:06.118-0600\timported 400536 documents\n",
      "2017-06-21T16:24:06.139-0600\tconnected to: localhost\n",
      "2017-06-21T16:24:09.138-0600\t[###########.............] examples.big\t41.5MB/84.3MB (49.2%)\n",
      "2017-06-21T16:24:12.140-0600\t[#######################.] examples.big\t82.2MB/84.3MB (97.4%)\n",
      "2017-06-21T16:24:12.310-0600\t[########################] examples.big\t84.3MB/84.3MB (100.0%)\n",
      "2017-06-21T16:24:12.310-0600\timported 400210 documents\n",
      "2017-06-21T16:24:12.331-0600\tconnected to: localhost\n",
      "2017-06-21T16:24:15.328-0600\t[###########.............] examples.big\t38.7MB/84.3MB (45.9%)\n",
      "2017-06-21T16:24:18.328-0600\t[#####################...] examples.big\t76.2MB/84.3MB (90.3%)\n",
      "2017-06-21T16:24:18.991-0600\t[########################] examples.big\t84.3MB/84.3MB (100.0%)\n",
      "2017-06-21T16:24:18.991-0600\timported 400215 documents\n",
      "2017-06-21T16:24:19.017-0600\tconnected to: localhost\n",
      "2017-06-21T16:24:22.014-0600\t[##########..............] examples.big\t36.0MB/84.2MB (42.8%)\n",
      "2017-06-21T16:24:25.016-0600\t[####################....] examples.big\t70.6MB/84.2MB (83.8%)\n",
      "2017-06-21T16:24:26.091-0600\t[########################] examples.big\t84.2MB/84.2MB (100.0%)\n",
      "2017-06-21T16:24:26.091-0600\timported 399670 documents\n",
      "2017-06-21T16:24:26.112-0600\tconnected to: localhost\n",
      "2017-06-21T16:24:29.110-0600\t[######################..] examples.big\t35.0MB/37.0MB (94.6%)\n",
      "2017-06-21T16:24:29.294-0600\t[########################] examples.big\t37.0MB/37.0MB (100.0%)\n",
      "2017-06-21T16:24:29.294-0600\timported 179598 documents\n",
      "2017-06-21T16:24:29.316-0600\tconnected to: localhost\n",
      "2017-06-21T16:24:32.314-0600\t[####################....] examples.big\t29.3MB/35.0MB (83.6%)\n",
      "2017-06-21T16:24:32.932-0600\t[########################] examples.big\t35.0MB/35.0MB (100.0%)\n",
      "2017-06-21T16:24:32.932-0600\timported 185829 documents\n"
     ]
    }
   ],
   "source": [
    "%%bash\n",
    "ls big_sample-?.json | while read col; do\n",
    "    mongoimport --db examples --collection big -j 8 --type json --file $col;\n",
    "done"
   ]
  },
  {
   "cell_type": "code",
   "execution_count": 102,
   "metadata": {
    "run_control": {
     "marked": false
    }
   },
   "outputs": [
    {
     "data": {
      "text/plain": [
       "(2692150, 2341856, 348079)"
      ]
     },
     "execution_count": 102,
     "metadata": {},
     "output_type": "execute_result"
    }
   ],
   "source": [
    "mdb.big.count({}),mdb.big.count({'type': 'node'}),mdb.big.count({'type': 'way'})"
   ]
  },
  {
   "cell_type": "code",
   "execution_count": 103,
   "metadata": {
    "run_control": {
     "marked": false
    }
   },
   "outputs": [
    {
     "data": {
      "text/plain": [
       "[{'_id': 'node', 'count': 2341856},\n",
       " {'_id': 'way', 'count': 348079},\n",
       " {'_id': 'relation', 'count': 2215}]"
      ]
     },
     "execution_count": 103,
     "metadata": {},
     "output_type": "execute_result"
    }
   ],
   "source": [
    "list(mdb.big.aggregate([{\"$sortByCount\":'$type'}]))"
   ]
  },
  {
   "cell_type": "code",
   "execution_count": 106,
   "metadata": {
    "run_control": {
     "marked": false
    }
   },
   "outputs": [
    {
     "data": {
      "text/plain": [
       "[{'count': 63, 'postalcode': 'T5J', 'user': 'Mesowhite'},\n",
       " {'count': 27, 'postalcode': 'T5M', 'user': 'ptrchpmn'},\n",
       " {'count': 17, 'postalcode': 'T6E', 'user': 'yegbin'},\n",
       " {'count': 13, 'postalcode': 'T6C', 'user': 'yegbin'},\n",
       " {'count': 11, 'postalcode': 'T6E', 'user': 'Mesowhite'},\n",
       " {'count': 11, 'postalcode': 'T5N', 'user': 'edmontongeo'},\n",
       " {'count': 11, 'postalcode': 'T5J', 'user': 'Yottabyte'},\n",
       " {'count': 11, 'postalcode': 'T5N', 'user': 'ptrchpmn'},\n",
       " {'count': 10, 'postalcode': 'T6G', 'user': 'Mesowhite'},\n",
       " {'count': 10, 'postalcode': 'T6G', 'user': 'yegbin'},\n",
       " {'count': 9, 'postalcode': 'T5K', 'user': 'Mesowhite'},\n",
       " {'count': 9, 'postalcode': 'T5N', 'user': 'TristanA'},\n",
       " {'count': 7, 'postalcode': 'T5M', 'user': 'edmontongeo'},\n",
       " {'count': 6, 'postalcode': 'T6G', 'user': 'ptrchpmn'},\n",
       " {'count': 5, 'postalcode': 'T6C', 'user': 'Mesowhite'},\n",
       " {'count': 5, 'postalcode': 'T5H', 'user': 'Mesowhite'},\n",
       " {'count': 4, 'postalcode': 'T5H', 'user': 'edmontongeo'},\n",
       " {'count': 4, 'postalcode': 'T6G', 'user': 'Yottabyte'},\n",
       " {'count': 4, 'postalcode': 'T6E', 'user': 'edmontongeo'},\n",
       " {'count': 3, 'postalcode': 'T5H', 'user': 'TristanA'},\n",
       " {'count': 3, 'postalcode': 'T5G', 'user': 'Sundance'},\n",
       " {'count': 3, 'postalcode': 'T5N', 'user': 'ThomasBradley'},\n",
       " {'count': 2, 'postalcode': 'T5G', 'user': 'ChrstphrR'},\n",
       " {'count': 2, 'postalcode': 'T5N', 'user': 'berrydan'},\n",
       " {'count': 2, 'postalcode': 'T6E', 'user': 'drthompson'},\n",
       " {'count': 2, 'postalcode': 'T5K', 'user': 'MarkBennett'},\n",
       " {'count': 2, 'postalcode': 'T6G', 'user': 'Bruce Ritchie'},\n",
       " {'count': 2, 'postalcode': 'T6G', 'user': 'jdkrabbe'},\n",
       " {'count': 2, 'postalcode': 'T5J', 'user': 'MarkBennett'},\n",
       " {'count': 2, 'postalcode': 'T6A', 'user': 'yegbin'},\n",
       " {'count': 2, 'postalcode': 'T5H', 'user': 'MarkBennett'},\n",
       " {'count': 2, 'postalcode': 'T5J', 'user': 'Bryab'},\n",
       " {'count': 2, 'postalcode': 'T5M', 'user': 'Sundance'},\n",
       " {'count': 2, 'postalcode': 'T5G', 'user': 'yegbin'},\n",
       " {'count': 2, 'postalcode': 'T6G', 'user': 'edmontongeo'},\n",
       " {'count': 1, 'postalcode': 'T6C', 'user': 'woodpeck_repair'},\n",
       " {'count': 1, 'postalcode': 'T5B', 'user': 'edmontongeo'},\n",
       " {'count': 1, 'postalcode': 'T6A', 'user': 'jdkrabbe'},\n",
       " {'count': 1, 'postalcode': 'T5G', 'user': 'MarkBennett'},\n",
       " {'count': 1, 'postalcode': 'T6K', 'user': 'Mesowhite'}]"
      ]
     },
     "execution_count": 106,
     "metadata": {},
     "output_type": "execute_result"
    }
   ],
   "source": [
    "# how do I get the number of green spaces sorted by postal code?\n",
    "list(\n",
    "    mdb.p33.aggregate([\n",
    "        # filter entries to those containing postcodes\n",
    "        {\"$match\" : {\"tag.addr.postcode\": {\"$exists\" : 1}}},\n",
    "        \n",
    "        # group on user and postcode\n",
    "        {\"$group\" : {\n",
    "            \"_id\" : {\"user\": \"$attr.user\",\"postalcode\" : {\"$substrBytes\": [\"$tag.addr.postcode\", 0, 3]}\n",
    "                     },\n",
    "            \"count\" : {\"$sum\" : 1}\n",
    "            \n",
    "        }},\n",
    "        # flatten output\n",
    "        {\"$project\" : {\"user\": \"$_id.user\", \"postalcode\": \"$_id.postalcode\", \"count\":1, \"_id\":0}},\n",
    "        # sort by count descending\n",
    "        {\"$sort\": {\"count\": -1} },\n",
    "        # limit output to 20 items\n",
    "        {\"$limit\": 40}\n",
    "    ]))"
   ]
  },
  {
   "cell_type": "code",
   "execution_count": 105,
   "metadata": {
    "run_control": {
     "marked": false
    }
   },
   "outputs": [
    {
     "data": {
      "text/plain": [
       "[{'count': 129, 'postalcode': 'T6T', 'user': 'Mesowhite'},\n",
       " {'count': 65, 'postalcode': 'T5J', 'user': 'Mesowhite'},\n",
       " {'count': 45, 'postalcode': 'T6L', 'user': 'Mesowhite'},\n",
       " {'count': 29, 'postalcode': 'T5T', 'user': 'TristanA'},\n",
       " {'count': 27, 'postalcode': 'T6E', 'user': 'yegbin'},\n",
       " {'count': 27, 'postalcode': 'T5M', 'user': 'ptrchpmn'},\n",
       " {'count': 20, 'postalcode': 'T6K', 'user': 'Mesowhite'},\n",
       " {'count': 19, 'postalcode': 'T6B', 'user': 'yegbin'},\n",
       " {'count': 17, 'postalcode': 'T6L', 'user': 'TristanA'},\n",
       " {'count': 17, 'postalcode': 'T6E', 'user': 'TristanA'},\n",
       " {'count': 16, 'postalcode': 'T6C', 'user': 'yegbin'},\n",
       " {'count': 13, 'postalcode': 'T5X', 'user': 'yegbin'},\n",
       " {'count': 13, 'postalcode': 'T5Z', 'user': 'TristanA'},\n",
       " {'count': 13, 'postalcode': 'T6G', 'user': 'yegbin'},\n",
       " {'count': 12, 'postalcode': 'T6A', 'user': 'yegbin'},\n",
       " {'count': 11, 'postalcode': 'T5N', 'user': 'ptrchpmn'},\n",
       " {'count': 11, 'postalcode': 'T5N', 'user': 'edmontongeo'},\n",
       " {'count': 11, 'postalcode': 'T6J', 'user': 'edmontongeo'},\n",
       " {'count': 11, 'postalcode': 'T5J', 'user': 'Yottabyte'},\n",
       " {'count': 11, 'postalcode': 'T6E', 'user': 'Mesowhite'},\n",
       " {'count': 10, 'postalcode': 'T6K', 'user': 'edmontongeo'},\n",
       " {'count': 10, 'postalcode': 'T6G', 'user': 'Mesowhite'},\n",
       " {'count': 10, 'postalcode': 'T5S', 'user': 'DACGroup'},\n",
       " {'count': 10, 'postalcode': 'T5R', 'user': 'edmontongeo'},\n",
       " {'count': 9, 'postalcode': 'T6H', 'user': 'edmontongeo'},\n",
       " {'count': 9, 'postalcode': 'T5N', 'user': 'TristanA'},\n",
       " {'count': 9, 'postalcode': 'T5E', 'user': 'edmontongeo'},\n",
       " {'count': 9, 'postalcode': 'T5K', 'user': 'Mesowhite'},\n",
       " {'count': 8, 'postalcode': 'T6L', 'user': 'edmontongeo'},\n",
       " {'count': 8, 'postalcode': 'T6K', 'user': 'TristanA'},\n",
       " {'count': 8, 'postalcode': 'T5T', 'user': 'Northwindtweak'},\n",
       " {'count': 8, 'postalcode': 'T6A', 'user': 'TristanA'},\n",
       " {'count': 7, 'postalcode': 'T5P', 'user': 'edmontongeo'},\n",
       " {'count': 7, 'postalcode': 'T5P', 'user': 'Dustin0530'},\n",
       " {'count': 7, 'postalcode': 'T5A', 'user': 'edmontongeo'},\n",
       " {'count': 7, 'postalcode': 'T5M', 'user': 'edmontongeo'},\n",
       " {'count': 6, 'postalcode': 'T6G', 'user': 'ptrchpmn'},\n",
       " {'count': 6, 'postalcode': 'T5A', 'user': 'TristanA'},\n",
       " {'count': 6, 'postalcode': 'T5C', 'user': 'edmontongeo'},\n",
       " {'count': 6, 'postalcode': 'T5T', 'user': 'edmontongeo'}]"
      ]
     },
     "execution_count": 105,
     "metadata": {},
     "output_type": "execute_result"
    }
   ],
   "source": [
    "# how do I get the number of green spaces sorted by postal code?\n",
    "list(\n",
    "    mdb.big.aggregate([\n",
    "        # filter entries to those containing postcodes\n",
    "        {\"$match\" : {\"tag.addr.postcode\": {\"$exists\" : 1}}},\n",
    "        \n",
    "        # group on user and postcode\n",
    "        {\"$group\" : {\n",
    "            \"_id\" : {\"user\": \"$attr.user\",\"postalcode\" : {\"$substrBytes\": [\"$tag.addr.postcode\", 0, 3]}\n",
    "                     },\n",
    "            \"count\" : {\"$sum\" : 1}\n",
    "            \n",
    "        }},\n",
    "        # flatten output\n",
    "        {\"$project\" : {\"user\": \"$_id.user\", \"postalcode\": \"$_id.postalcode\", \"count\":1, \"_id\":0}},\n",
    "        # sort by count descending\n",
    "        {\"$sort\": {\"count\": -1} },\n",
    "        # limit output to 20 items\n",
    "        {\"$limit\": 40}\n",
    "    ]))"
   ]
  }
 ],
 "metadata": {
  "anaconda-cloud": {},
  "kernelspec": {
   "display_name": "Python 3",
   "language": "python",
   "name": "python3"
  },
  "language_info": {
   "codemirror_mode": {
    "name": "ipython",
    "version": 3
   },
   "file_extension": ".py",
   "mimetype": "text/x-python",
   "name": "python",
   "nbconvert_exporter": "python",
   "pygments_lexer": "ipython3",
   "version": "3.6.1"
  },
  "toc": {
   "colors": {
    "hover_highlight": "#DAA520",
    "navigate_num": "#000000",
    "navigate_text": "#333333",
    "running_highlight": "#FF0000",
    "selected_highlight": "#FFD700",
    "sidebar_border": "#EEEEEE",
    "wrapper_background": "#FFFFFF"
   },
   "moveMenuLeft": true,
   "nav_menu": {
    "height": "259px",
    "width": "277px"
   },
   "navigate_menu": true,
   "number_sections": true,
   "sideBar": true,
   "threshold": 4,
   "toc_cell": false,
   "toc_section_display": "block",
   "toc_window_display": false,
   "widenNotebook": false
  },
  "varInspector": {
   "cols": {
    "lenName": 16,
    "lenType": 16,
    "lenVar": 40
   },
   "kernels_config": {
    "python": {
     "delete_cmd_postfix": "",
     "delete_cmd_prefix": "del ",
     "library": "var_list.py",
     "varRefreshCmd": "print(var_dic_list())"
    },
    "r": {
     "delete_cmd_postfix": ") ",
     "delete_cmd_prefix": "rm(",
     "library": "var_list.r",
     "varRefreshCmd": "cat(var_dic_list()) "
    }
   },
   "oldHeight": 281.77778,
   "position": {
    "height": "191px",
    "left": "1348.65px",
    "right": "20px",
    "top": "125.99px",
    "width": "502px"
   },
   "types_to_exclude": [
    "module",
    "function",
    "builtin_function_or_method",
    "instance",
    "_Feature"
   ],
   "varInspector_section_display": "block",
   "window_display": true
  }
 },
 "nbformat": 4,
 "nbformat_minor": 2
}
