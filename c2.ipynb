{
 "cells": [
  {
   "cell_type": "markdown",
   "metadata": {
    "run_control": {
     "marked": false
    }
   },
   "source": [
    "\n",
    "## what do I need to do?\n",
    "- big map little map?\n",
    "- "
   ]
  },
  {
   "cell_type": "markdown",
   "metadata": {
    "run_control": {
     "marked": false
    }
   },
   "source": [
    "# Exploration"
   ]
  },
  {
   "cell_type": "code",
   "execution_count": 1,
   "metadata": {},
   "outputs": [
    {
     "name": "stdout",
     "output_type": "stream",
     "text": [
      "# conda environments:\r\n",
      "#\r\n",
      "fst                   *  /Users/josephmann/anaconda3/envs/fst\r\n",
      "root                     /Users/josephmann/anaconda3\r\n",
      "\r\n"
     ]
    }
   ],
   "source": [
    "!conda env list"
   ]
  },
  {
   "cell_type": "code",
   "execution_count": 2,
   "metadata": {
    "collapsed": true
   },
   "outputs": [],
   "source": [
    "import sys\n",
    "\n",
    "# sys.path.insert(0,'/Users/josephmann/Documents/GitHub/dask/dask/')"
   ]
  },
  {
   "cell_type": "code",
   "execution_count": 227,
   "metadata": {
    "cell_style": "split",
    "collapsed": true,
    "run_control": {
     "marked": false
    }
   },
   "outputs": [],
   "source": [
    "import numpy\n",
    "import jmespath as jp\n",
    "import pandas as pd\n",
    "import re\n",
    "from pymongo import MongoClient, GEO2D\n"
   ]
  },
  {
   "cell_type": "code",
   "execution_count": 4,
   "metadata": {
    "cell_style": "split",
    "collapsed": true,
    "run_control": {
     "marked": false
    }
   },
   "outputs": [],
   "source": [
    "from clean_osm import *\n",
    "from importlib import reload"
   ]
  },
  {
   "cell_type": "code",
   "execution_count": 5,
   "metadata": {
    "cell_style": "split",
    "run_control": {
     "marked": false
    }
   },
   "outputs": [
    {
     "data": {
      "text/plain": [
       "<module 'clean_osm' from '/Users/josephmann/Documents/Notebooks/u2/clean_osm/__init__.py'>"
      ]
     },
     "execution_count": 5,
     "metadata": {},
     "output_type": "execute_result"
    }
   ],
   "source": [
    "import clean_osm\n",
    "reload(clean_osm)"
   ]
  },
  {
   "cell_type": "code",
   "execution_count": 6,
   "metadata": {
    "cell_style": "split",
    "run_control": {
     "marked": false
    }
   },
   "outputs": [
    {
     "data": {
      "text/plain": [
       "<module 'clean_osm.cl' from '/Users/josephmann/Documents/Notebooks/u2/clean_osm/cl.py'>"
      ]
     },
     "execution_count": 6,
     "metadata": {},
     "output_type": "execute_result"
    }
   ],
   "source": [
    "reload(clean_osm.cl)"
   ]
  },
  {
   "cell_type": "code",
   "execution_count": 7,
   "metadata": {
    "cell_style": "split",
    "collapsed": true,
    "run_control": {
     "marked": false
    }
   },
   "outputs": [],
   "source": [
    "%load_ext autoreload\n",
    "%autoreload 2"
   ]
  },
  {
   "cell_type": "code",
   "execution_count": 8,
   "metadata": {
    "cell_style": "split",
    "collapsed": true,
    "run_control": {
     "marked": false
    }
   },
   "outputs": [],
   "source": [
    "from clean_osm.cl import *"
   ]
  },
  {
   "cell_type": "markdown",
   "metadata": {
    "run_control": {
     "marked": false
    }
   },
   "source": [
    "## Set up test suite"
   ]
  },
  {
   "cell_type": "code",
   "execution_count": 9,
   "metadata": {
    "cell_style": "split",
    "collapsed": true,
    "run_control": {
     "marked": false
    }
   },
   "outputs": [],
   "source": [
    "import pytest\n"
   ]
  },
  {
   "cell_type": "code",
   "execution_count": 10,
   "metadata": {
    "cell_style": "center",
    "run_control": {
     "marked": false
    },
    "scrolled": false
   },
   "outputs": [
    {
     "name": "stdout",
     "output_type": "stream",
     "text": [
      "===================================================== test session starts =====================================================\n",
      "platform darwin -- Python 3.6.1, pytest-3.1.2, py-1.4.34, pluggy-0.4.0 -- /Users/josephmann/anaconda3/envs/fst/bin/python\n",
      "cachedir: .cache\n",
      "rootdir: /Users/josephmann/Documents/Notebooks/u2, inifile:\n",
      "collecting ... collected 5 items\n",
      "\n",
      "clean_osm/test_clean.py::test_download_data PASSED\n",
      "clean_osm/test_clean.py::test_get_element PASSED\n",
      "clean_osm/test_clean.py::test_element2dict PASSED\n",
      "clean_osm/test_clean.py::test_pf PASSED\n",
      "clean_osm/test_clean.py::test_top_value_freqs PASSED\n",
      "\n",
      "================================================== 5 passed in 30.62 seconds ==================================================\n"
     ]
    },
    {
     "data": {
      "text/plain": [
       "0"
      ]
     },
     "execution_count": 10,
     "metadata": {},
     "output_type": "execute_result"
    }
   ],
   "source": [
    "# !rm sample*\n",
    "pytest.main(['-v','clean_osm'])"
   ]
  },
  {
   "cell_type": "markdown",
   "metadata": {
    "run_control": {
     "marked": false
    }
   },
   "source": [
    "## Create bag"
   ]
  },
  {
   "cell_type": "code",
   "execution_count": 14,
   "metadata": {
    "cell_style": "split",
    "run_control": {
     "marked": false
    }
   },
   "outputs": [
    {
     "name": "stdout",
     "output_type": "stream",
     "text": [
      "partition files still fresh\n"
     ]
    }
   ],
   "source": [
    "b1 = cl.pf()"
   ]
  },
  {
   "cell_type": "markdown",
   "metadata": {
    "run_control": {
     "marked": false
    }
   },
   "source": [
    "## tag frequencies"
   ]
  },
  {
   "cell_type": "code",
   "execution_count": 15,
   "metadata": {},
   "outputs": [
    {
     "data": {
      "text/plain": [
       "8"
      ]
     },
     "execution_count": 15,
     "metadata": {},
     "output_type": "execute_result"
    }
   ],
   "source": [
    "b1.npartitions"
   ]
  },
  {
   "cell_type": "code",
   "execution_count": 16,
   "metadata": {
    "run_control": {
     "marked": false
    }
   },
   "outputs": [
    {
     "data": {
      "text/plain": [
       "({'attr': {'changeset': '43379308',\n",
       "   'id': '29811182',\n",
       "   'lat': '53.5354110',\n",
       "   'lon': '-113.5079960',\n",
       "   'timestamp': '2016-11-03T14:01:28Z',\n",
       "   'uid': '1943392',\n",
       "   'user': 'LogicalViolinist',\n",
       "   'version': '27'},\n",
       "  'tag': {'admin_level': '8',\n",
       "   'capital': '4',\n",
       "   'ele': '645',\n",
       "   'is_in': {'continent': 'North America',\n",
       "    'country': 'Canada',\n",
       "    'country_code': 'CA',\n",
       "    'iso_3166_2': 'CA-AB',\n",
       "    'root': 'Alberta; Canada',\n",
       "    'state': 'Alberta',\n",
       "    'state_code': 'AB'},\n",
       "   'name': {'ar': 'إدمونتون',\n",
       "    'de': 'Edmonton',\n",
       "    'en': 'Edmonton',\n",
       "    'fr': 'Edmonton',\n",
       "    'root': 'Edmonton',\n",
       "    'ru': 'Эдмонтон',\n",
       "    'uk': 'Едмонтон'},\n",
       "   'place': 'city',\n",
       "   'population': '812201',\n",
       "   'state_capital': 'yes',\n",
       "   'wikidata': 'Q2096',\n",
       "   'wikipedia': 'en:Edmonton'},\n",
       "  'type': 'node'},)"
      ]
     },
     "execution_count": 16,
     "metadata": {},
     "output_type": "execute_result"
    }
   ],
   "source": [
    "b1.take(1)"
   ]
  },
  {
   "cell_type": "code",
   "execution_count": 18,
   "metadata": {
    "run_control": {
     "marked": false
    }
   },
   "outputs": [
    {
     "data": {
      "text/plain": [
       "[('type', 422221), ('attr', 422221), ('tag', 422221)]"
      ]
     },
     "execution_count": 18,
     "metadata": {},
     "output_type": "execute_result"
    }
   ],
   "source": [
    "b1.map(lambda d: jp.search('keys(@)[]', d)).flatten().frequencies().compute()"
   ]
  },
  {
   "cell_type": "markdown",
   "metadata": {
    "run_control": {
     "marked": false
    }
   },
   "source": [
    "### `top_value_freqs`"
   ]
  },
  {
   "cell_type": "code",
   "execution_count": 19,
   "metadata": {
    "cell_style": "split",
    "collapsed": true,
    "run_control": {
     "marked": false
    }
   },
   "outputs": [],
   "source": [
    "def top_value_freqs(subtag, b1=b1, n=5):\n",
    "    \"\"\"\n",
    "    parameters:\n",
    "    ----------\n",
    "    subtag (string): returns the top n frequencies of values\n",
    "    for the key \"subtag\"\n",
    "    if the value of \"tag.[subtag]\" is a dictionary then it returns \n",
    "    the top frequencies of the keys of  that dictionary.\n",
    "\n",
    "    b1 (dask Bag): the bag that will be searched\n",
    "\n",
    "    n (int): number of the most freqent tags and their frequencies to return\n",
    "\n",
    "    returns:\n",
    "    -------\n",
    "    a dask bag of pairs (value, count)\n",
    "    \"\"\"\n",
    "\n",
    "    expression = jp.compile(subtag)\n",
    "\n",
    "    # make bag of subelements, remove None elements\n",
    "    b2 = b1.map(lambda d: expression.search(d)).filter(lambda d: d)\n",
    "\n",
    "    # make bag of lists comprised of key lists or just single element lists\n",
    "    b3 = b2.map(lambda d: list(d.keys()) if isinstance(\n",
    "        d, dict) else (d if isinstance(d, list) else [d]))\n",
    "\n",
    "    # concatenate all lists together\n",
    "    b4 = b3.flatten()\n",
    "\n",
    "    # remove None elemens\n",
    "    b5 = b4.filter(lambda d: d)\n",
    "\n",
    "    # return bag with top n frequencies\n",
    "    return b5.frequencies().topk(n, lambda x: x[1])"
   ]
  },
  {
   "cell_type": "code",
   "execution_count": 20,
   "metadata": {
    "run_control": {
     "marked": false
    }
   },
   "outputs": [
    {
     "data": {
      "text/plain": [
       "{'node': 366091, 'relation': 399, 'way': 55731}"
      ]
     },
     "execution_count": 20,
     "metadata": {},
     "output_type": "execute_result"
    }
   ],
   "source": [
    "{k:w for k,w in cl.top_value_freqs('type', b1, n=20).compute()}"
   ]
  },
  {
   "cell_type": "code",
   "execution_count": 21,
   "metadata": {
    "run_control": {
     "marked": false
    }
   },
   "outputs": [
    {
     "data": {
      "text/plain": [
       "[('edmontongeo', 331406),\n",
       " ('Sundance', 13844),\n",
       " ('xixi', 10761),\n",
       " ('ionutr_telenav', 8807),\n",
       " ('Feldo', 8215),\n",
       " ('yegbin', 7611),\n",
       " ('Mesowhite', 7503),\n",
       " ('ij_', 4754),\n",
       " ('jdkrabbe', 4655),\n",
       " ('ptrchpmn', 3108),\n",
       " ('ec90', 1962),\n",
       " ('AKC', 1825),\n",
       " ('Viajero Perdido', 1758),\n",
       " ('xelloss', 1740),\n",
       " ('yoltia', 1400),\n",
       " ('flight780', 1203),\n",
       " ('alester', 1063),\n",
       " ('Ranek', 922),\n",
       " ('ntrussell', 917),\n",
       " ('spince', 603)]"
      ]
     },
     "execution_count": 21,
     "metadata": {},
     "output_type": "execute_result"
    }
   ],
   "source": [
    "top_value_freqs('attr.user', b1=b1, n=20).compute()"
   ]
  },
  {
   "cell_type": "code",
   "execution_count": 22,
   "metadata": {
    "run_control": {
     "marked": false
    },
    "scrolled": true
   },
   "outputs": [
    {
     "data": {
      "text/html": [
       "<div>\n",
       "<style>\n",
       "    .dataframe thead tr:only-child th {\n",
       "        text-align: right;\n",
       "    }\n",
       "\n",
       "    .dataframe thead th {\n",
       "        text-align: left;\n",
       "    }\n",
       "\n",
       "    .dataframe tbody tr th {\n",
       "        vertical-align: top;\n",
       "    }\n",
       "</style>\n",
       "<table border=\"1\" class=\"dataframe\">\n",
       "  <thead>\n",
       "    <tr style=\"text-align: right;\">\n",
       "      <th></th>\n",
       "      <th>0</th>\n",
       "      <th>1</th>\n",
       "    </tr>\n",
       "  </thead>\n",
       "  <tbody>\n",
       "    <tr>\n",
       "      <th>0</th>\n",
       "      <td>changeset</td>\n",
       "      <td>422221</td>\n",
       "    </tr>\n",
       "    <tr>\n",
       "      <th>1</th>\n",
       "      <td>id</td>\n",
       "      <td>422221</td>\n",
       "    </tr>\n",
       "    <tr>\n",
       "      <th>2</th>\n",
       "      <td>timestamp</td>\n",
       "      <td>422221</td>\n",
       "    </tr>\n",
       "    <tr>\n",
       "      <th>3</th>\n",
       "      <td>uid</td>\n",
       "      <td>422221</td>\n",
       "    </tr>\n",
       "    <tr>\n",
       "      <th>4</th>\n",
       "      <td>user</td>\n",
       "      <td>422221</td>\n",
       "    </tr>\n",
       "    <tr>\n",
       "      <th>5</th>\n",
       "      <td>version</td>\n",
       "      <td>422221</td>\n",
       "    </tr>\n",
       "    <tr>\n",
       "      <th>6</th>\n",
       "      <td>lat</td>\n",
       "      <td>366091</td>\n",
       "    </tr>\n",
       "    <tr>\n",
       "      <th>7</th>\n",
       "      <td>lon</td>\n",
       "      <td>366091</td>\n",
       "    </tr>\n",
       "  </tbody>\n",
       "</table>\n",
       "</div>"
      ],
      "text/plain": [
       "           0       1\n",
       "0  changeset  422221\n",
       "1         id  422221\n",
       "2  timestamp  422221\n",
       "3        uid  422221\n",
       "4       user  422221\n",
       "5    version  422221\n",
       "6        lat  366091\n",
       "7        lon  366091"
      ]
     },
     "execution_count": 22,
     "metadata": {},
     "output_type": "execute_result"
    }
   ],
   "source": [
    "pd.DataFrame.from_records(top_value_freqs('attr', b1, n=10).compute())"
   ]
  },
  {
   "cell_type": "code",
   "execution_count": 23,
   "metadata": {},
   "outputs": [
    {
     "data": {
      "text/plain": [
       "'0.15.1'"
      ]
     },
     "execution_count": 23,
     "metadata": {},
     "output_type": "execute_result"
    }
   ],
   "source": [
    "import dask\n",
    "dask.__version__"
   ]
  },
  {
   "cell_type": "code",
   "execution_count": 24,
   "metadata": {
    "collapsed": true
   },
   "outputs": [],
   "source": [
    "%load_ext watermark"
   ]
  },
  {
   "cell_type": "code",
   "execution_count": 25,
   "metadata": {},
   "outputs": [
    {
     "name": "stdout",
     "output_type": "stream",
     "text": [
      "2017-07-29T12:30:14-06:00\n",
      "\n",
      "CPython 3.6.1\n",
      "IPython 5.4.1\n",
      "\n",
      "compiler   : GCC 4.2.1 Compatible Apple LLVM 6.1.0 (clang-602.0.53)\n",
      "system     : Darwin\n",
      "release    : 16.7.0\n",
      "machine    : x86_64\n",
      "processor  : i386\n",
      "CPU cores  : 8\n",
      "interpreter: 64bit\n"
     ]
    }
   ],
   "source": [
    "%watermark"
   ]
  },
  {
   "cell_type": "code",
   "execution_count": 26,
   "metadata": {
    "run_control": {
     "marked": false
    },
    "scrolled": true
   },
   "outputs": [
    {
     "data": {
      "text/html": [
       "<div>\n",
       "<style>\n",
       "    .dataframe thead tr:only-child th {\n",
       "        text-align: right;\n",
       "    }\n",
       "\n",
       "    .dataframe thead th {\n",
       "        text-align: left;\n",
       "    }\n",
       "\n",
       "    .dataframe tbody tr th {\n",
       "        vertical-align: top;\n",
       "    }\n",
       "</style>\n",
       "<table border=\"1\" class=\"dataframe\">\n",
       "  <thead>\n",
       "    <tr style=\"text-align: right;\">\n",
       "      <th></th>\n",
       "      <th>0</th>\n",
       "      <th>1</th>\n",
       "    </tr>\n",
       "  </thead>\n",
       "  <tbody>\n",
       "    <tr>\n",
       "      <th>0</th>\n",
       "      <td>node</td>\n",
       "      <td>366091</td>\n",
       "    </tr>\n",
       "    <tr>\n",
       "      <th>1</th>\n",
       "      <td>way</td>\n",
       "      <td>55731</td>\n",
       "    </tr>\n",
       "    <tr>\n",
       "      <th>2</th>\n",
       "      <td>relation</td>\n",
       "      <td>399</td>\n",
       "    </tr>\n",
       "  </tbody>\n",
       "</table>\n",
       "</div>"
      ],
      "text/plain": [
       "          0       1\n",
       "0      node  366091\n",
       "1       way   55731\n",
       "2  relation     399"
      ]
     },
     "execution_count": 26,
     "metadata": {},
     "output_type": "execute_result"
    }
   ],
   "source": [
    "pd.DataFrame.from_records(top_value_freqs('type', b1, n=10).compute())"
   ]
  },
  {
   "cell_type": "code",
   "execution_count": 27,
   "metadata": {
    "run_control": {
     "marked": false
    }
   },
   "outputs": [
    {
     "data": {
      "text/html": [
       "<div>\n",
       "<style>\n",
       "    .dataframe thead tr:only-child th {\n",
       "        text-align: right;\n",
       "    }\n",
       "\n",
       "    .dataframe thead th {\n",
       "        text-align: left;\n",
       "    }\n",
       "\n",
       "    .dataframe tbody tr th {\n",
       "        vertical-align: top;\n",
       "    }\n",
       "</style>\n",
       "<table border=\"1\" class=\"dataframe\">\n",
       "  <thead>\n",
       "    <tr style=\"text-align: right;\">\n",
       "      <th></th>\n",
       "      <th>0</th>\n",
       "      <th>1</th>\n",
       "    </tr>\n",
       "  </thead>\n",
       "  <tbody>\n",
       "    <tr>\n",
       "      <th>0</th>\n",
       "      <td>building</td>\n",
       "      <td>41773</td>\n",
       "    </tr>\n",
       "    <tr>\n",
       "      <th>1</th>\n",
       "      <td>source</td>\n",
       "      <td>21288</td>\n",
       "    </tr>\n",
       "    <tr>\n",
       "      <th>2</th>\n",
       "      <td>addr</td>\n",
       "      <td>19263</td>\n",
       "    </tr>\n",
       "    <tr>\n",
       "      <th>3</th>\n",
       "      <td>highway</td>\n",
       "      <td>7315</td>\n",
       "    </tr>\n",
       "    <tr>\n",
       "      <th>4</th>\n",
       "      <td>name</td>\n",
       "      <td>4884</td>\n",
       "    </tr>\n",
       "    <tr>\n",
       "      <th>5</th>\n",
       "      <td>service</td>\n",
       "      <td>1602</td>\n",
       "    </tr>\n",
       "    <tr>\n",
       "      <th>6</th>\n",
       "      <td>amenity</td>\n",
       "      <td>1525</td>\n",
       "    </tr>\n",
       "    <tr>\n",
       "      <th>7</th>\n",
       "      <td>lanes</td>\n",
       "      <td>1237</td>\n",
       "    </tr>\n",
       "    <tr>\n",
       "      <th>8</th>\n",
       "      <td>oneway</td>\n",
       "      <td>1130</td>\n",
       "    </tr>\n",
       "    <tr>\n",
       "      <th>9</th>\n",
       "      <td>landuse</td>\n",
       "      <td>986</td>\n",
       "    </tr>\n",
       "  </tbody>\n",
       "</table>\n",
       "</div>"
      ],
      "text/plain": [
       "          0      1\n",
       "0  building  41773\n",
       "1    source  21288\n",
       "2      addr  19263\n",
       "3   highway   7315\n",
       "4      name   4884\n",
       "5   service   1602\n",
       "6   amenity   1525\n",
       "7     lanes   1237\n",
       "8    oneway   1130\n",
       "9   landuse    986"
      ]
     },
     "execution_count": 27,
     "metadata": {},
     "output_type": "execute_result"
    }
   ],
   "source": [
    "pd.DataFrame.from_records(top_value_freqs('tag', b1, n=10).compute())"
   ]
  },
  {
   "cell_type": "code",
   "execution_count": 28,
   "metadata": {
    "cell_style": "split",
    "run_control": {
     "marked": false
    }
   },
   "outputs": [
    {
     "data": {
      "text/html": [
       "<div>\n",
       "<style>\n",
       "    .dataframe thead tr:only-child th {\n",
       "        text-align: right;\n",
       "    }\n",
       "\n",
       "    .dataframe thead th {\n",
       "        text-align: left;\n",
       "    }\n",
       "\n",
       "    .dataframe tbody tr th {\n",
       "        vertical-align: top;\n",
       "    }\n",
       "</style>\n",
       "<table border=\"1\" class=\"dataframe\">\n",
       "  <thead>\n",
       "    <tr style=\"text-align: right;\">\n",
       "      <th></th>\n",
       "      <th>0</th>\n",
       "      <th>1</th>\n",
       "    </tr>\n",
       "  </thead>\n",
       "  <tbody>\n",
       "    <tr>\n",
       "      <th>0</th>\n",
       "      <td>Edmonton,Alberta</td>\n",
       "      <td>401</td>\n",
       "    </tr>\n",
       "    <tr>\n",
       "      <th>1</th>\n",
       "      <td>Edmonton</td>\n",
       "      <td>7</td>\n",
       "    </tr>\n",
       "    <tr>\n",
       "      <th>2</th>\n",
       "      <td>continent</td>\n",
       "      <td>2</td>\n",
       "    </tr>\n",
       "    <tr>\n",
       "      <th>3</th>\n",
       "      <td>country</td>\n",
       "      <td>2</td>\n",
       "    </tr>\n",
       "    <tr>\n",
       "      <th>4</th>\n",
       "      <td>country_code</td>\n",
       "      <td>2</td>\n",
       "    </tr>\n",
       "  </tbody>\n",
       "</table>\n",
       "</div>"
      ],
      "text/plain": [
       "                  0    1\n",
       "0  Edmonton,Alberta  401\n",
       "1          Edmonton    7\n",
       "2         continent    2\n",
       "3           country    2\n",
       "4      country_code    2"
      ]
     },
     "execution_count": 28,
     "metadata": {},
     "output_type": "execute_result"
    }
   ],
   "source": [
    "pd.DataFrame.from_records(top_value_freqs('tag.is_in', b1).compute())"
   ]
  },
  {
   "cell_type": "markdown",
   "metadata": {
    "run_control": {
     "marked": false
    }
   },
   "source": [
    "# Data Cleaning"
   ]
  },
  {
   "cell_type": "markdown",
   "metadata": {
    "run_control": {
     "marked": false
    }
   },
   "source": [
    "## Tale of Two Cities"
   ]
  },
  {
   "cell_type": "code",
   "execution_count": 29,
   "metadata": {
    "run_control": {
     "marked": false
    }
   },
   "outputs": [
    {
     "data": {
      "text/plain": [
       "['Edmonton', 'edmonton', None]"
      ]
     },
     "execution_count": 29,
     "metadata": {},
     "output_type": "execute_result"
    }
   ],
   "source": [
    "b1.map(\n",
    "    lambda d: jp.search('tag.addr.city',d)).distinct().compute()\n"
   ]
  },
  {
   "cell_type": "code",
   "execution_count": 30,
   "metadata": {
    "run_control": {
     "marked": false
    }
   },
   "outputs": [
    {
     "data": {
      "text/plain": [
       "[('Edmonton', 13058), ('edmonton', 1)]"
      ]
     },
     "execution_count": 30,
     "metadata": {},
     "output_type": "execute_result"
    }
   ],
   "source": [
    "top_value_freqs('tag.addr.city',b1).compute()"
   ]
  },
  {
   "cell_type": "code",
   "execution_count": 31,
   "metadata": {
    "cell_style": "split",
    "collapsed": true,
    "run_control": {
     "marked": false
    }
   },
   "outputs": [],
   "source": [
    "\n",
    "def fix_city(doc):\n",
    "    path = 'tag.addr.city'\n",
    "    cpath = jp.compile(path)\n",
    "    value = cpath.search(doc)\n",
    "    if value:\n",
    "        doc['tag']['addr']['city'] = 'Edmonton'\n",
    "\n",
    "    return doc"
   ]
  },
  {
   "cell_type": "code",
   "execution_count": 32,
   "metadata": {
    "run_control": {
     "marked": false
    }
   },
   "outputs": [
    {
     "data": {
      "text/plain": [
       "[]"
      ]
     },
     "execution_count": 32,
     "metadata": {},
     "output_type": "execute_result"
    }
   ],
   "source": [
    "top_value_freqs('addr.city', b1= b1.map(fix_city)).compute()"
   ]
  },
  {
   "cell_type": "markdown",
   "metadata": {
    "run_control": {
     "marked": false
    }
   },
   "source": [
    "## Five Provinces"
   ]
  },
  {
   "cell_type": "code",
   "execution_count": 33,
   "metadata": {
    "run_control": {
     "marked": false
    }
   },
   "outputs": [
    {
     "data": {
      "text/plain": [
       "['AB', 'AVB', 'Alberta;AB', 'Alberta', 'Aberta']"
      ]
     },
     "execution_count": 33,
     "metadata": {},
     "output_type": "execute_result"
    }
   ],
   "source": [
    "b1.map(lambda d: jp.search('tag.addr.province', d)).filter(lambda d: d).distinct().compute()"
   ]
  },
  {
   "cell_type": "code",
   "execution_count": 34,
   "metadata": {
    "run_control": {
     "marked": false
    }
   },
   "outputs": [
    {
     "data": {
      "text/plain": [
       "['AB']"
      ]
     },
     "execution_count": 34,
     "metadata": {},
     "output_type": "execute_result"
    }
   ],
   "source": [
    "b1.map(lambda d: jp.search('tag.addr.state', d)).filter(lambda d: d).distinct().compute()"
   ]
  },
  {
   "cell_type": "markdown",
   "metadata": {
    "run_control": {
     "marked": false
    }
   },
   "source": [
    "### Provinces Fix"
   ]
  },
  {
   "cell_type": "markdown",
   "metadata": {
    "cell_style": "split",
    "run_control": {
     "marked": false
    }
   },
   "source": [
    "Previously we had the following distribution of entries for *province*."
   ]
  },
  {
   "cell_type": "code",
   "execution_count": 35,
   "metadata": {
    "run_control": {
     "marked": false
    }
   },
   "outputs": [
    {
     "data": {
      "text/html": [
       "<div>\n",
       "<style>\n",
       "    .dataframe thead tr:only-child th {\n",
       "        text-align: right;\n",
       "    }\n",
       "\n",
       "    .dataframe thead th {\n",
       "        text-align: left;\n",
       "    }\n",
       "\n",
       "    .dataframe tbody tr th {\n",
       "        vertical-align: top;\n",
       "    }\n",
       "</style>\n",
       "<table border=\"1\" class=\"dataframe\">\n",
       "  <thead>\n",
       "    <tr style=\"text-align: right;\">\n",
       "      <th></th>\n",
       "      <th>0</th>\n",
       "      <th>1</th>\n",
       "    </tr>\n",
       "  </thead>\n",
       "  <tbody>\n",
       "    <tr>\n",
       "      <th>0</th>\n",
       "      <td>AB</td>\n",
       "      <td>142</td>\n",
       "    </tr>\n",
       "    <tr>\n",
       "      <th>1</th>\n",
       "      <td>Alberta</td>\n",
       "      <td>29</td>\n",
       "    </tr>\n",
       "    <tr>\n",
       "      <th>2</th>\n",
       "      <td>AVB</td>\n",
       "      <td>1</td>\n",
       "    </tr>\n",
       "    <tr>\n",
       "      <th>3</th>\n",
       "      <td>Aberta</td>\n",
       "      <td>1</td>\n",
       "    </tr>\n",
       "    <tr>\n",
       "      <th>4</th>\n",
       "      <td>Alberta;AB</td>\n",
       "      <td>1</td>\n",
       "    </tr>\n",
       "  </tbody>\n",
       "</table>\n",
       "</div>"
      ],
      "text/plain": [
       "            0    1\n",
       "0          AB  142\n",
       "1     Alberta   29\n",
       "2         AVB    1\n",
       "3      Aberta    1\n",
       "4  Alberta;AB    1"
      ]
     },
     "execution_count": 35,
     "metadata": {},
     "output_type": "execute_result"
    }
   ],
   "source": [
    "pd.DataFrame(\n",
    "    top_value_freqs('tag.addr.province',b1=b1).compute())"
   ]
  },
  {
   "cell_type": "markdown",
   "metadata": {
    "run_control": {
     "marked": false
    }
   },
   "source": [
    "We change all entries with province to 'Alberta', independently of previous content."
   ]
  },
  {
   "cell_type": "code",
   "execution_count": 36,
   "metadata": {
    "cell_style": "split",
    "collapsed": true,
    "run_control": {
     "marked": false
    }
   },
   "outputs": [],
   "source": [
    "\n",
    "def fix_province(doc):\n",
    "    path = 'tag.addr.province'\n",
    "    cpath = jp.compile(path)\n",
    "    value = cpath.search(doc)\n",
    "    if value:\n",
    "        doc['tag']['addr']['province'] = 'Alberta'\n",
    "\n",
    "    return doc"
   ]
  },
  {
   "cell_type": "code",
   "execution_count": 37,
   "metadata": {
    "cell_style": "split",
    "run_control": {
     "marked": false
    }
   },
   "outputs": [
    {
     "data": {
      "text/plain": [
       "['Alberta']"
      ]
     },
     "execution_count": 37,
     "metadata": {},
     "output_type": "execute_result"
    }
   ],
   "source": [
    "b1.map(fix_province).map(lambda d: jp.search('tag.addr.province', d)).filter(\n",
    "    lambda d: d).distinct().compute()"
   ]
  },
  {
   "cell_type": "code",
   "execution_count": 38,
   "metadata": {
    "cell_style": "split",
    "run_control": {
     "marked": false
    }
   },
   "outputs": [
    {
     "data": {
      "text/html": [
       "<div>\n",
       "<style>\n",
       "    .dataframe thead tr:only-child th {\n",
       "        text-align: right;\n",
       "    }\n",
       "\n",
       "    .dataframe thead th {\n",
       "        text-align: left;\n",
       "    }\n",
       "\n",
       "    .dataframe tbody tr th {\n",
       "        vertical-align: top;\n",
       "    }\n",
       "</style>\n",
       "<table border=\"1\" class=\"dataframe\">\n",
       "  <thead>\n",
       "    <tr style=\"text-align: right;\">\n",
       "      <th></th>\n",
       "      <th>0</th>\n",
       "      <th>1</th>\n",
       "    </tr>\n",
       "  </thead>\n",
       "  <tbody>\n",
       "    <tr>\n",
       "      <th>0</th>\n",
       "      <td>Alberta</td>\n",
       "      <td>174</td>\n",
       "    </tr>\n",
       "  </tbody>\n",
       "</table>\n",
       "</div>"
      ],
      "text/plain": [
       "         0    1\n",
       "0  Alberta  174"
      ]
     },
     "execution_count": 38,
     "metadata": {},
     "output_type": "execute_result"
    }
   ],
   "source": [
    "pd.DataFrame(\n",
    "    top_value_freqs('tag.addr.province', b1=b1.map(fix_province)).compute())"
   ]
  },
  {
   "cell_type": "markdown",
   "metadata": {
    "run_control": {
     "marked": false
    }
   },
   "source": [
    "## Non-standard postal codes"
   ]
  },
  {
   "cell_type": "code",
   "execution_count": 39,
   "metadata": {
    "run_control": {
     "marked": false
    },
    "scrolled": true
   },
   "outputs": [
    {
     "data": {
      "text/plain": [
       "['T5J-1J4',\n",
       " 'T6e 2g9',\n",
       " 'T5L4G4',\n",
       " 'T5C3C8',\n",
       " 'T6E1Z2',\n",
       " 'T6C1N8',\n",
       " 'T5J1E3',\n",
       " 'AB T5J',\n",
       " 'T5J1A7',\n",
       " 'Alberta T6G',\n",
       " 't6e 2g9',\n",
       " 'AB T6E4S6',\n",
       " 'T5J4B7',\n",
       " 'T5H3J7',\n",
       " 'T5K2X4',\n",
       " 'T5N2N8',\n",
       " 'T6G1C9',\n",
       " 'T6E',\n",
       " 'T5M0J2',\n",
       " 'T5K0G1',\n",
       " 'T5H2Z4',\n",
       " 'T5H1A8',\n",
       " 'T6E3Z5',\n",
       " 'T6E3Z4',\n",
       " 'T5M2P2',\n",
       " 'T5J-0R2',\n",
       " 'T5M0S7',\n",
       " 'T6E',\n",
       " 'T5N2T3',\n",
       " 'T5R0L9',\n",
       " 'T5N3L5',\n",
       " 'T5N1H6',\n",
       " 'T6A3X4',\n",
       " 'T5N0N7',\n",
       " 'T5N2V3',\n",
       " 'T6C1W5',\n",
       " 'T5M0V4',\n",
       " 'T5H0B1',\n",
       " 'T5G2E7',\n",
       " 'T5B0A1',\n",
       " 'T5N0W4',\n",
       " 'T6G1T5',\n",
       " 'T5M1P8',\n",
       " 'T5J',\n",
       " 'T5J5A2',\n",
       " 'T5G0A6',\n",
       " 'T6G',\n",
       " 'T6G',\n",
       " 'T5J',\n",
       " 'T5J',\n",
       " 'T5G3K2',\n",
       " 'T5H2L3',\n",
       " 'T6C1B5',\n",
       " 'T5J',\n",
       " 'T6G0X4',\n",
       " 'T5J',\n",
       " 'T5J',\n",
       " 'T5H',\n",
       " 'T5K2V4',\n",
       " 'T5R5B3',\n",
       " 'T6C1N8',\n",
       " 'T6A1B6']"
      ]
     },
     "execution_count": 39,
     "metadata": {},
     "output_type": "execute_result"
    }
   ],
   "source": [
    "postal_re = re.compile(r'[A-Z]\\d[A-Z] \\d[A-Z]\\d')\n",
    "b1.map(lambda d: jp.search('tag.addr.postcode', d)).filter(\n",
    "    lambda d: d).filter(lambda c: not postal_re.match(c)).compute()"
   ]
  },
  {
   "cell_type": "markdown",
   "metadata": {
    "run_control": {
     "marked": false
    }
   },
   "source": [
    "### Fix postal codes"
   ]
  },
  {
   "cell_type": "code",
   "execution_count": 40,
   "metadata": {
    "cell_style": "split",
    "collapsed": true,
    "run_control": {
     "marked": false
    }
   },
   "outputs": [],
   "source": [
    "\n",
    "def fix_postal_codes(doc):\n",
    "    path = 'tag.addr.postcode'\n",
    "    pc_re = re.compile(r'([A-Z]\\d[A-Z])[-\\s]*(\\d[A-Z]\\d){0,1}', re.IGNORECASE)\n",
    "    cpath = jp.compile(path)\n",
    "    value = cpath.search(doc)\n",
    "    if value:\n",
    "        matches = pc_re.search(value)\n",
    "        if matches:\n",
    "            s = \"{}\".format(matches.group(1))\n",
    "            if matches.group(2):\n",
    "                s += \" \" + matches.group(2)\n",
    "            s = s.upper()\n",
    "            doc['tag']['addr']['postcode'] = s\n",
    "\n",
    "    return doc"
   ]
  },
  {
   "cell_type": "code",
   "execution_count": 41,
   "metadata": {
    "run_control": {
     "marked": false
    },
    "scrolled": true
   },
   "outputs": [
    {
     "data": {
      "text/plain": [
       "[]"
      ]
     },
     "execution_count": 41,
     "metadata": {},
     "output_type": "execute_result"
    }
   ],
   "source": [
    "postal_re = re.compile(r'[A-Z]\\d[A-Z]( \\d[A-Z]\\d){0,1}')\n",
    "b1.map(fix_postal_codes).map(lambda d: jp.search('tag.addr.postcode', d)).filter(\n",
    "    lambda d: d).filter(lambda c: not postal_re.match(c)).compute()"
   ]
  },
  {
   "cell_type": "markdown",
   "metadata": {},
   "source": [
    "## Create point structure for mongo to use `$geonear`"
   ]
  },
  {
   "cell_type": "code",
   "execution_count": 299,
   "metadata": {
    "collapsed": true
   },
   "outputs": [],
   "source": [
    "def create_point(doc):\n",
    "    \"\"\"\n",
    "        doc should contain subdoc attr.lon and attr.lat\n",
    "    \"\"\"\n",
    "    if 'attr' in doc:\n",
    "        if ('lon' in doc['attr']) and ('lat' in doc['attr']):\n",
    "            lon = float(doc['attr']['lon'] )\n",
    "            lat = float(doc['attr']['lat'] )\n",
    "            doc['attr']['point'] = {'type' : 'Point', 'coordinates' : [lon, lat]}\n",
    "        else:\n",
    "            doc['attr']['point'] = {'coordinates': [np.nan, np.nan]}\n",
    "    else:\n",
    "        doc['attr'] = {'point': {'coordinates': [np.nan, np.nan]}}\n",
    "    return doc"
   ]
  },
  {
   "cell_type": "code",
   "execution_count": 300,
   "metadata": {},
   "outputs": [
    {
     "data": {
      "text/plain": [
       "({'attr': {'changeset': '43379308',\n",
       "   'id': '29811182',\n",
       "   'lat': '53.5354110',\n",
       "   'lon': '-113.5079960',\n",
       "   'point': {'coordinates': [-113.507996, 53.535411], 'type': 'Point'},\n",
       "   'timestamp': '2016-11-03T14:01:28Z',\n",
       "   'uid': '1943392',\n",
       "   'user': 'LogicalViolinist',\n",
       "   'version': '27'},\n",
       "  'tag': {'admin_level': '8',\n",
       "   'capital': '4',\n",
       "   'ele': '645',\n",
       "   'is_in': {'continent': 'North America',\n",
       "    'country': 'Canada',\n",
       "    'country_code': 'CA',\n",
       "    'iso_3166_2': 'CA-AB',\n",
       "    'root': 'Alberta; Canada',\n",
       "    'state': 'Alberta',\n",
       "    'state_code': 'AB'},\n",
       "   'name': {'ar': 'إدمونتون',\n",
       "    'de': 'Edmonton',\n",
       "    'en': 'Edmonton',\n",
       "    'fr': 'Edmonton',\n",
       "    'root': 'Edmonton',\n",
       "    'ru': 'Эдмонтон',\n",
       "    'uk': 'Едмонтон'},\n",
       "   'place': 'city',\n",
       "   'population': '812201',\n",
       "   'state_capital': 'yes',\n",
       "   'wikidata': 'Q2096',\n",
       "   'wikipedia': 'en:Edmonton'},\n",
       "  'type': 'node'},\n",
       " {'attr': {'changeset': '39441015',\n",
       "   'id': '30118680',\n",
       "   'lat': '53.5266842',\n",
       "   'lon': '-113.4945885',\n",
       "   'point': {'coordinates': [-113.4945885, 53.5266842], 'type': 'Point'},\n",
       "   'timestamp': '2016-05-20T03:45:53Z',\n",
       "   'uid': '2365330',\n",
       "   'user': 'Viajero Perdido',\n",
       "   'version': '6'},\n",
       "  'tag': {},\n",
       "  'type': 'node'},\n",
       " {'attr': {'changeset': '15930982',\n",
       "   'id': '30118683',\n",
       "   'lat': '53.6134201',\n",
       "   'lon': '-113.2968767',\n",
       "   'point': {'coordinates': [-113.2968767, 53.6134201], 'type': 'Point'},\n",
       "   'timestamp': '2013-05-01T09:19:25Z',\n",
       "   'uid': '432924',\n",
       "   'user': 'JJones',\n",
       "   'version': '5'},\n",
       "  'tag': {},\n",
       "  'type': 'node'})"
      ]
     },
     "execution_count": 300,
     "metadata": {},
     "output_type": "execute_result"
    }
   ],
   "source": [
    "b1.map(create_point).take(3)"
   ]
  },
  {
   "cell_type": "code",
   "execution_count": 301,
   "metadata": {
    "collapsed": true
   },
   "outputs": [],
   "source": [
    "import numpy as np"
   ]
  },
  {
   "cell_type": "code",
   "execution_count": 302,
   "metadata": {},
   "outputs": [
    {
     "data": {
      "text/plain": [
       "[]"
      ]
     },
     "execution_count": 302,
     "metadata": {},
     "output_type": "execute_result"
    }
   ],
   "source": [
    "b1.map(create_point).filter(lambda d: 'point' not in d['attr']).compute()"
   ]
  },
  {
   "cell_type": "code",
   "execution_count": 303,
   "metadata": {},
   "outputs": [
    {
     "data": {
      "text/plain": [
       "[{'coordinates': [-113.507996, 53.535411], 'type': 'Point'},\n",
       " {'coordinates': [-113.4945885, 53.5266842], 'type': 'Point'},\n",
       " {'coordinates': [-113.2968767, 53.6134201], 'type': 'Point'},\n",
       " {'coordinates': [-113.6423221, 53.4368988], 'type': 'Point'},\n",
       " {'coordinates': [-113.6252971, 53.4792229], 'type': 'Point'},\n",
       " {'coordinates': [-113.2942009, 53.6405376], 'type': 'Point'},\n",
       " {'coordinates': [-113.4685521, 53.5519448], 'type': 'Point'},\n",
       " {'coordinates': [-113.6568045, 53.4300519], 'type': 'Point'},\n",
       " {'coordinates': [-113.4896364, 53.5298217], 'type': 'Point'},\n",
       " {'coordinates': [-113.5880262, 53.4848878], 'type': 'Point'},\n",
       " {'coordinates': [-113.3242279, 53.631268], 'type': 'Point'},\n",
       " {'coordinates': [-113.5431324, 53.5119131], 'type': 'Point'},\n",
       " {'coordinates': [-113.4598177, 53.5555052], 'type': 'Point'},\n",
       " {'coordinates': [-113.3202119, 53.6266932], 'type': 'Point'},\n",
       " {'coordinates': [-113.59219, 53.481358], 'type': 'Point'},\n",
       " {'coordinates': [-113.3821194, 53.5534236], 'type': 'Point'},\n",
       " {'coordinates': [-113.5572915, 53.5329991], 'type': 'Point'},\n",
       " {'coordinates': [-113.5471544, 53.5088376], 'type': 'Point'},\n",
       " {'coordinates': [-113.2982221, 53.6188552], 'type': 'Point'},\n",
       " {'coordinates': [-113.4637189, 53.5401009], 'type': 'Point'},\n",
       " {'coordinates': [-113.5881932, 53.4908122], 'type': 'Point'},\n",
       " {'coordinates': [-113.405652, 53.5605271], 'type': 'Point'},\n",
       " {'coordinates': [-113.4624438, 53.5438796], 'type': 'Point'},\n",
       " {'coordinates': [-113.2782493, 53.6728091], 'type': 'Point'},\n",
       " {'coordinates': [-113.5774569, 53.5052709], 'type': 'Point'},\n",
       " {'coordinates': [-113.2997353, 53.6086618], 'type': 'Point'},\n",
       " {'coordinates': [-113.3189493, 53.6375786], 'type': 'Point'},\n",
       " {'coordinates': [-113.5891667, 53.5008489], 'type': 'Point'},\n",
       " {'coordinates': [-113.3112245, 53.6031132], 'type': 'Point'},\n",
       " {'coordinates': [-113.5908003, 53.4964098], 'type': 'Point'},\n",
       " {'coordinates': [-113.4248565, 53.5620961], 'type': 'Point'},\n",
       " {'coordinates': [-113.2727387, 53.6686487], 'type': 'Point'},\n",
       " {'coordinates': [-113.6147727, 53.4887283], 'type': 'Point'},\n",
       " {'coordinates': [-113.3804114, 53.5556607], 'type': 'Point'},\n",
       " {'coordinates': [-113.541724, 53.5173874], 'type': 'Point'},\n",
       " {'coordinates': [-113.3187528, 53.6026586], 'type': 'Point'},\n",
       " {'coordinates': [-113.3509843, 53.6083841], 'type': 'Point'},\n",
       " {'coordinates': [-113.6481086, 53.4049518], 'type': 'Point'},\n",
       " {'coordinates': [-113.5254406, 53.5317622], 'type': 'Point'},\n",
       " {'coordinates': [-113.6259074, 53.4871417], 'type': 'Point'},\n",
       " {'coordinates': [-113.2913556, 53.6711616], 'type': 'Point'},\n",
       " {'coordinates': [-113.4412546, 53.5550272], 'type': 'Point'},\n",
       " {'coordinates': [-113.5991498, 53.4813099], 'type': 'Point'},\n",
       " {'coordinates': [-113.3778673, 53.5657816], 'type': 'Point'},\n",
       " {'coordinates': [-113.6551622, 53.4120165], 'type': 'Point'},\n",
       " {'coordinates': [-113.4856164, 53.5387985], 'type': 'Point'},\n",
       " {'coordinates': [-113.545304, 53.5219169], 'type': 'Point'},\n",
       " {'coordinates': [-113.6583509, 53.4225982], 'type': 'Point'},\n",
       " {'coordinates': [-113.6080902, 53.4728529], 'type': 'Point'},\n",
       " {'coordinates': [-113.4151561, 53.5633165], 'type': 'Point'},\n",
       " {'coordinates': [-113.5423579, 53.5378308], 'type': 'Point'},\n",
       " {'coordinates': [-113.3679078, 53.6031114], 'type': 'Point'},\n",
       " {'coordinates': [-113.3717887, 53.5955481], 'type': 'Point'},\n",
       " {'coordinates': [-113.6352672, 53.4464475], 'type': 'Point'},\n",
       " {'coordinates': [-113.3909793, 53.5512973], 'type': 'Point'},\n",
       " {'coordinates': [-113.6275696, 53.4833391], 'type': 'Point'},\n",
       " {'coordinates': [-113.5521091, 53.537183], 'type': 'Point'},\n",
       " {'coordinates': [-113.2879717, 53.6439341], 'type': 'Point'},\n",
       " {'coordinates': [-113.5561683, 53.5282183], 'type': 'Point'},\n",
       " {'coordinates': [-113.3667707, 53.5793261], 'type': 'Point'},\n",
       " {'coordinates': [-113.6057964, 53.4667048], 'type': 'Point'},\n",
       " {'coordinates': [-113.5088087, 53.5302017], 'type': 'Point'},\n",
       " {'coordinates': [-113.2840694, 53.658537], 'type': 'Point'},\n",
       " {'coordinates': [-113.3607881, 53.6070724], 'type': 'Point'},\n",
       " {'coordinates': [-113.6052953, 53.4697027], 'type': 'Point'},\n",
       " {'coordinates': [-113.4709932, 53.531719], 'type': 'Point'},\n",
       " {'coordinates': [-113.5543146, 53.5770264], 'type': 'Point'},\n",
       " {'coordinates': [-113.5494202, 53.5664665], 'type': 'Point'},\n",
       " {'coordinates': [-113.5512889, 53.5638189], 'type': 'Point'},\n",
       " {'coordinates': [-113.5508786, 53.5575965], 'type': 'Point'},\n",
       " {'coordinates': [-113.5495457, 53.5506939], 'type': 'Point'},\n",
       " {'coordinates': [-113.5506257, 53.5529471], 'type': 'Point'},\n",
       " {'coordinates': [-113.5458494, 53.5479394], 'type': 'Point'},\n",
       " {'coordinates': [-113.5485156, 53.5494454], 'type': 'Point'},\n",
       " {'coordinates': [-113.5438795, 53.5461639], 'type': 'Point'},\n",
       " {'coordinates': [-113.5447456, 53.5469138], 'type': 'Point'},\n",
       " {'coordinates': [-113.5423029, 53.5449837], 'type': 'Point'},\n",
       " {'coordinates': [-113.5427825, 53.5457317], 'type': 'Point'},\n",
       " {'coordinates': [-113.5435357, 53.5460724], 'type': 'Point'},\n",
       " {'coordinates': [-113.5426591, 53.5455948], 'type': 'Point'},\n",
       " {'coordinates': [-113.5456071, 53.5477297], 'type': 'Point'},\n",
       " {'coordinates': [-113.5444498, 53.5464528], 'type': 'Point'},\n",
       " {'coordinates': [-113.5308977, 53.5703711], 'type': 'Point'},\n",
       " {'coordinates': [-113.5264761, 53.5684169], 'type': 'Point'},\n",
       " {'coordinates': [-113.5085474, 53.5608213], 'type': 'Point'},\n",
       " {'coordinates': [-113.5085184, 53.5355028], 'type': 'Point'},\n",
       " {'coordinates': [-113.5084912, 53.5359984], 'type': 'Point'},\n",
       " {'coordinates': [-113.5089115, 53.5337585], 'type': 'Point'},\n",
       " {'coordinates': [-113.512607, 53.5248139], 'type': 'Point'},\n",
       " {'coordinates': [-113.5130383, 53.5255153], 'type': 'Point'},\n",
       " {'coordinates': [-113.5130074, 53.5261389], 'type': 'Point'},\n",
       " {'coordinates': [-113.5121293, 53.5244173], 'type': 'Point'},\n",
       " {'coordinates': [-113.5119217, 53.5241447], 'type': 'Point'},\n",
       " {'coordinates': [-113.5419711, 53.544781], 'type': 'Point'},\n",
       " {'coordinates': [-113.5405651, 53.5440491], 'type': 'Point'},\n",
       " {'coordinates': [-113.5403571, 53.5436591], 'type': 'Point'},\n",
       " {'coordinates': [-113.5415153, 53.5446172], 'type': 'Point'},\n",
       " {'coordinates': [-113.5409612, 53.5443748], 'type': 'Point'},\n",
       " {'coordinates': [-113.5379879, 53.5380285], 'type': 'Point'},\n",
       " {'coordinates': [-113.5382467, 53.5400485], 'type': 'Point'},\n",
       " {'coordinates': [-113.5376333, 53.5394717], 'type': 'Point'},\n",
       " {'coordinates': [-113.5408682, 53.5408057], 'type': 'Point'},\n",
       " {'coordinates': [-113.5413508, 53.5413118], 'type': 'Point'},\n",
       " {'coordinates': [-113.5399592, 53.540494], 'type': 'Point'},\n",
       " {'coordinates': [-113.540388, 53.5405181], 'type': 'Point'},\n",
       " {'coordinates': [-113.5404876, 53.5427679], 'type': 'Point'},\n",
       " {'coordinates': [-113.5403278, 53.5431469], 'type': 'Point'},\n",
       " {'coordinates': [-113.541282, 53.5419868], 'type': 'Point'},\n",
       " {'coordinates': [-113.5407071, 53.5425457], 'type': 'Point'},\n",
       " {'coordinates': [-113.5380428, 53.5318268], 'type': 'Point'},\n",
       " {'coordinates': [-113.5382268, 53.5314489], 'type': 'Point'},\n",
       " {'coordinates': [-113.5387012, 53.5306216], 'type': 'Point'},\n",
       " {'coordinates': [-113.5394244, 53.5338506], 'type': 'Point'},\n",
       " {'coordinates': [-113.5387443, 53.5333693], 'type': 'Point'},\n",
       " {'coordinates': [-113.5382008, 53.532831], 'type': 'Point'},\n",
       " {'coordinates': [-113.5380384, 53.5325162], 'type': 'Point'},\n",
       " {'coordinates': [-113.539676, 53.5356302], 'type': 'Point'},\n",
       " {'coordinates': [-113.5399218, 53.5345536], 'type': 'Point'},\n",
       " {'coordinates': [-113.5398716, 53.5344214], 'type': 'Point'},\n",
       " {'coordinates': [-113.5415998, 53.5234572], 'type': 'Point'},\n",
       " {'coordinates': [-113.541943, 53.5238834], 'type': 'Point'},\n",
       " {'coordinates': [-113.5420396, 53.5242745], 'type': 'Point'},\n",
       " {'coordinates': [-113.5419214, 53.5247538], 'type': 'Point'},\n",
       " {'coordinates': [-113.5416649, 53.5253882], 'type': 'Point'},\n",
       " {'coordinates': [-113.5413691, 53.5259938], 'type': 'Point'},\n",
       " {'coordinates': [-113.5411176, 53.5264513], 'type': 'Point'},\n",
       " {'coordinates': [-113.5404439, 53.5275887], 'type': 'Point'},\n",
       " {'coordinates': [-113.5400582, 53.5282601], 'type': 'Point'},\n",
       " {'coordinates': [-113.5010985, 53.5339294], 'type': 'Point'},\n",
       " {'coordinates': [-113.4763959, 53.5379111], 'type': 'Point'},\n",
       " {'coordinates': [-113.4772155, 53.5378684], 'type': 'Point'},\n",
       " {'coordinates': [-113.4782686, 53.537748], 'type': 'Point'},\n",
       " {'coordinates': [-113.4798242, 53.5374513], 'type': 'Point'},\n",
       " {'coordinates': [-113.4821022, 53.5368752], 'type': 'Point'},\n",
       " {'coordinates': [-113.5050128, 53.5342853], 'type': 'Point'},\n",
       " {'coordinates': [-113.5029138, 53.533972], 'type': 'Point'},\n",
       " {'coordinates': [-113.5078909, 53.5342437], 'type': 'Point'},\n",
       " {'coordinates': [-113.4830187, 53.5360799], 'type': 'Point'},\n",
       " {'coordinates': [-113.4783333, 53.5330111], 'type': 'Point'},\n",
       " {'coordinates': [-113.4794253, 53.5328831], 'type': 'Point'},\n",
       " {'coordinates': [-113.4770473, 53.5330799], 'type': 'Point'},\n",
       " {'coordinates': [-113.4775106, 53.5330708], 'type': 'Point'},\n",
       " {'coordinates': [-113.480345, 53.532856], 'type': 'Point'},\n",
       " {'coordinates': [-113.4685688, 53.5361506], 'type': 'Point'},\n",
       " {'coordinates': [-113.4763749, 53.5361507], 'type': 'Point'},\n",
       " {'coordinates': [-113.4730232, 53.5323596], 'type': 'Point'},\n",
       " {'coordinates': [-113.4701331, 53.5310142], 'type': 'Point'},\n",
       " {'coordinates': [-113.4691813, 53.5351205], 'type': 'Point'},\n",
       " {'coordinates': [-113.4699816, 53.5342761], 'type': 'Point'},\n",
       " {'coordinates': [-113.4712345, 53.5334532], 'type': 'Point'},\n",
       " {'coordinates': [-113.4720356, 53.5330791], 'type': 'Point'},\n",
       " {'coordinates': [-113.4740055, 53.5326734], 'type': 'Point'},\n",
       " {'coordinates': [-113.4755962, 53.533], 'type': 'Point'},\n",
       " {'coordinates': [-113.4975917, 53.5234025], 'type': 'Point'},\n",
       " {'coordinates': [-113.4944186, 53.5146287], 'type': 'Point'},\n",
       " {'coordinates': [-113.4950564, 53.5190573], 'type': 'Point'},\n",
       " {'coordinates': [-113.4954589, 53.5218451], 'type': 'Point'},\n",
       " {'coordinates': [-113.4958462, 53.5236675], 'type': 'Point'},\n",
       " {'coordinates': [-113.4860731, 53.525864], 'type': 'Point'},\n",
       " {'coordinates': [-113.4854237, 53.528269], 'type': 'Point'},\n",
       " {'coordinates': [-113.485202, 53.5292641], 'type': 'Point'},\n",
       " {'coordinates': [-113.4856417, 53.5326809], 'type': 'Point'},\n",
       " {'coordinates': [-113.4857221, 53.533203], 'type': 'Point'},\n",
       " {'coordinates': [-113.4844497, 53.5338095], 'type': 'Point'},\n",
       " {'coordinates': [-113.4839963, 53.5343093], 'type': 'Point'},\n",
       " {'coordinates': [-113.4842123, 53.5358828], 'type': 'Point'},\n",
       " {'coordinates': [-113.4844437, 53.5367799], 'type': 'Point'},\n",
       " {'coordinates': [-113.4921605, 53.5381449], 'type': 'Point'},\n",
       " {'coordinates': [-113.4930523, 53.5380439], 'type': 'Point'},\n",
       " {'coordinates': [-113.4935937, 53.5382611], 'type': 'Point'},\n",
       " {'coordinates': [-113.4936946, 53.5385723], 'type': 'Point'},\n",
       " {'coordinates': [-113.4934778, 53.5387572], 'type': 'Point'},\n",
       " {'coordinates': [-113.4927693, 53.5388731], 'type': 'Point'},\n",
       " {'coordinates': [-113.4912284, 53.5389772], 'type': 'Point'},\n",
       " {'coordinates': [-113.4902951, 53.5394167], 'type': 'Point'},\n",
       " {'coordinates': [-113.4899993, 53.5397849], 'type': 'Point'},\n",
       " {'coordinates': [-113.4582906, 53.5250565], 'type': 'Point'},\n",
       " {'coordinates': [-113.457899, 53.5246381], 'type': 'Point'},\n",
       " {'coordinates': [-113.4577043, 53.5246288], 'type': 'Point'},\n",
       " {'coordinates': [-113.4566832, 53.5248242], 'type': 'Point'},\n",
       " {'coordinates': [-113.4566291, 53.5250924], 'type': 'Point'},\n",
       " {'coordinates': [-113.4570123, 53.5253363], 'type': 'Point'},\n",
       " {'coordinates': [-113.4574236, 53.5254234], 'type': 'Point'},\n",
       " {'coordinates': [-113.4579921, 53.5252884], 'type': 'Point'},\n",
       " {'coordinates': [-113.4551495, 53.5227913], 'type': 'Point'},\n",
       " {'coordinates': [-113.5254272, 53.5187473], 'type': 'Point'},\n",
       " {'coordinates': [-113.5256582, 53.5164872], 'type': 'Point'},\n",
       " {'coordinates': [-113.4959682, 53.5554951], 'type': 'Point'},\n",
       " {'coordinates': [-113.467369, 53.5568761], 'type': 'Point'},\n",
       " {'coordinates': [-113.4672958, 53.5596537], 'type': 'Point'},\n",
       " {'coordinates': [-113.4672916, 53.5690991], 'type': 'Point'},\n",
       " {'coordinates': [-113.4672726, 53.5732445], 'type': 'Point'},\n",
       " {'coordinates': [-113.4673332, 53.5776906], 'type': 'Point'},\n",
       " {'coordinates': [-113.4922624, 53.5710959], 'type': 'Point'},\n",
       " {'coordinates': [-113.4917587, 53.5696616], 'type': 'Point'},\n",
       " {'coordinates': [-113.4919274, 53.5578015], 'type': 'Point'},\n",
       " {'coordinates': [-113.4853604, 53.5422498], 'type': 'Point'},\n",
       " {'coordinates': [-113.4986421, 53.5682888], 'type': 'Point'},\n",
       " {'coordinates': [-113.4937264, 53.5545034], 'type': 'Point'},\n",
       " {'coordinates': [-113.4937036, 53.5504342], 'type': 'Point'},\n",
       " {'coordinates': [-113.4937273, 53.5477678], 'type': 'Point'},\n",
       " {'coordinates': [-113.4937236, 53.5462451], 'type': 'Point'},\n",
       " {'coordinates': [-113.4937156, 53.5409999], 'type': 'Point'},\n",
       " {'coordinates': [-113.5010591, 53.5409437], 'type': 'Point'},\n",
       " {'coordinates': [-113.4902697, 53.5412243], 'type': 'Point'},\n",
       " {'coordinates': [-113.4866304, 53.5417139], 'type': 'Point'},\n",
       " {'coordinates': [-113.4833824, 53.5429189], 'type': 'Point'},\n",
       " {'coordinates': [-113.4784356, 53.5455383], 'type': 'Point'},\n",
       " {'coordinates': [-113.4767629, 53.5471221], 'type': 'Point'},\n",
       " {'coordinates': [-113.4756279, 53.5481988], 'type': 'Point'},\n",
       " {'coordinates': [-113.4722498, 53.554029], 'type': 'Point'},\n",
       " {'coordinates': [-113.4705926, 53.555462], 'type': 'Point'},\n",
       " {'coordinates': [-113.4696818, 53.5558351], 'type': 'Point'},\n",
       " {'coordinates': [-113.4900407, 53.5395796], 'type': 'Point'},\n",
       " {'coordinates': [-113.4909951, 53.5390799], 'type': 'Point'},\n",
       " {'coordinates': [-113.4916924, 53.5388754], 'type': 'Point'},\n",
       " {'coordinates': [-113.4930237, 53.5388629], 'type': 'Point'},\n",
       " {'coordinates': [-113.4935807, 53.5386971], 'type': 'Point'},\n",
       " {'coordinates': [-113.4937291, 53.5384815], 'type': 'Point'},\n",
       " {'coordinates': [-113.4935198, 53.5382018], 'type': 'Point'},\n",
       " {'coordinates': [-113.4929053, 53.5380326], 'type': 'Point'},\n",
       " {'coordinates': [-113.4917136, 53.5382232], 'type': 'Point'},\n",
       " {'coordinates': [-113.4898583, 53.5386759], 'type': 'Point'},\n",
       " {'coordinates': [-113.4902563, 53.540214], 'type': 'Point'},\n",
       " {'coordinates': [-113.5047571, 53.5409325], 'type': 'Point'},\n",
       " {'coordinates': [-113.5139173, 53.5409402], 'type': 'Point'},\n",
       " {'coordinates': [-113.517639, 53.5409443], 'type': 'Point'},\n",
       " {'coordinates': [-113.521271, 53.5409463], 'type': 'Point'},\n",
       " {'coordinates': [-113.5267889, 53.5409378], 'type': 'Point'},\n",
       " {'coordinates': [-113.5308166, 53.5409185], 'type': 'Point'},\n",
       " {'coordinates': [-113.5327789, 53.5413062], 'type': 'Point'},\n",
       " {'coordinates': [-113.5336509, 53.541392], 'type': 'Point'},\n",
       " {'coordinates': [-113.5345477, 53.5414265], 'type': 'Point'},\n",
       " {'coordinates': [-113.5354226, 53.5414152], 'type': 'Point'},\n",
       " {'coordinates': [-113.5356521, 53.5414349], 'type': 'Point'},\n",
       " {'coordinates': [-113.5359348, 53.5417412], 'type': 'Point'},\n",
       " {'coordinates': [-113.5120034, 53.546296], 'type': 'Point'},\n",
       " {'coordinates': [-113.5302487, 53.5461702], 'type': 'Point'},\n",
       " {'coordinates': [-113.5334845, 53.5465986], 'type': 'Point'},\n",
       " {'coordinates': [-113.5358505, 53.5468791], 'type': 'Point'},\n",
       " {'coordinates': [-113.5445622, 53.5479638], 'type': 'Point'},\n",
       " {'coordinates': [-113.545485, 53.5479298], 'type': 'Point'},\n",
       " {'coordinates': [-113.548575, 53.5470672], 'type': 'Point'},\n",
       " {'coordinates': [-113.5549819, 53.5450161], 'type': 'Point'},\n",
       " {'coordinates': [-113.5610234, 53.5436582], 'type': 'Point'},\n",
       " {'coordinates': [-113.561525, 53.5435725], 'type': 'Point'},\n",
       " {'coordinates': [-113.5621957, 53.5432272], 'type': 'Point'},\n",
       " {'coordinates': [-113.5626118, 53.5430979], 'type': 'Point'},\n",
       " {'coordinates': [-113.5644473, 53.5430235], 'type': 'Point'},\n",
       " {'coordinates': [-113.5656358, 53.542867], 'type': 'Point'},\n",
       " {'coordinates': [-113.5655816, 53.5392899], 'type': 'Point'},\n",
       " {'coordinates': [-113.5655705, 53.5296421], 'type': 'Point'},\n",
       " {'coordinates': [-113.5010731, 53.543009], 'type': 'Point'},\n",
       " {'coordinates': [-113.5011275, 53.5446165], 'type': 'Point'},\n",
       " {'coordinates': [-113.4974068, 53.5445972], 'type': 'Point'},\n",
       " {'coordinates': [-113.4973971, 53.543006], 'type': 'Point'},\n",
       " {'coordinates': [-113.4889363, 53.5434674], 'type': 'Point'},\n",
       " {'coordinates': [-113.4911776, 53.5462656], 'type': 'Point'},\n",
       " {'coordinates': [-113.4906252, 53.5433653], 'type': 'Point'},\n",
       " {'coordinates': [-113.4937009, 53.5431692], 'type': 'Point'},\n",
       " {'coordinates': [-113.5083407, 53.5409477], 'type': 'Point'},\n",
       " {'coordinates': [-113.5011051, 53.5350359], 'type': 'Point'},\n",
       " {'coordinates': [-113.5010203, 53.5300926], 'type': 'Point'},\n",
       " {'coordinates': [-113.5011469, 53.5298617], 'type': 'Point'},\n",
       " {'coordinates': [-113.5013796, 53.5295665], 'type': 'Point'},\n",
       " {'coordinates': [-113.5031819, 53.5278328], 'type': 'Point'},\n",
       " {'coordinates': [-113.5033361, 53.5276417], 'type': 'Point'},\n",
       " {'coordinates': [-113.5034091, 53.5272855], 'type': 'Point'},\n",
       " {'coordinates': [-113.502985, 53.5261958], 'type': 'Point'},\n",
       " {'coordinates': [-113.5030993, 53.52607], 'type': 'Point'},\n",
       " {'coordinates': [-113.5035499, 53.5256411], 'type': 'Point'},\n",
       " {'coordinates': [-113.5038369, 53.5253924], 'type': 'Point'},\n",
       " {'coordinates': [-113.5044565, 53.5249714], 'type': 'Point'},\n",
       " {'coordinates': [-113.5053201, 53.5246047], 'type': 'Point'},\n",
       " {'coordinates': [-113.5060309, 53.5244261], 'type': 'Point'},\n",
       " {'coordinates': [-113.5068195, 53.5243272], 'type': 'Point'},\n",
       " {'coordinates': [-113.5108821, 53.5240207], 'type': 'Point'},\n",
       " {'coordinates': [-113.5093509, 53.5219228], 'type': 'Point'},\n",
       " {'coordinates': [-113.5093714, 53.5180712], 'type': 'Point'},\n",
       " {'coordinates': [-113.511941, 53.5219182], 'type': 'Point'},\n",
       " {'coordinates': [-113.4583225, 53.5203405], 'type': 'Point'},\n",
       " {'coordinates': [-113.4587153, 53.5209936], 'type': 'Point'},\n",
       " {'coordinates': [-113.4590553, 53.5212503], 'type': 'Point'},\n",
       " {'coordinates': [-113.4592569, 53.5215226], 'type': 'Point'},\n",
       " {'coordinates': [-113.4593058, 53.5221489], 'type': 'Point'},\n",
       " {'coordinates': [-113.4592913, 53.5228135], 'type': 'Point'},\n",
       " {'coordinates': [-113.4559178, 53.5352918], 'type': 'Point'},\n",
       " {'coordinates': [-113.4558793, 53.5356668], 'type': 'Point'},\n",
       " {'coordinates': [-113.4560898, 53.5369302], 'type': 'Point'},\n",
       " {'coordinates': [-113.4568114, 53.5376854], 'type': 'Point'},\n",
       " {'coordinates': [-113.4581393, 53.5378939], 'type': 'Point'},\n",
       " {'coordinates': [-113.4615285, 53.538331], 'type': 'Point'},\n",
       " {'coordinates': [-113.4532908, 53.5317836], 'type': 'Point'},\n",
       " {'coordinates': [-113.4486391, 53.533257], 'type': 'Point'},\n",
       " {'coordinates': [-113.4491857, 53.5339883], 'type': 'Point'},\n",
       " {'coordinates': [-113.4492293, 53.5374989], 'type': 'Point'},\n",
       " {'coordinates': [-113.4471895, 53.5633219], 'type': 'Point'},\n",
       " {'coordinates': [-113.4484067, 53.5643949], 'type': 'Point'},\n",
       " {'coordinates': [-113.4528535, 53.5695584], 'type': 'Point'},\n",
       " {'coordinates': [-113.453437, 53.5701312], 'type': 'Point'},\n",
       " {'coordinates': [-113.4536236, 53.5708185], 'type': 'Point'},\n",
       " {'coordinates': [-113.453668, 53.5719729], 'type': 'Point'},\n",
       " {'coordinates': [-113.4535665, 53.5726988], 'type': 'Point'},\n",
       " {'coordinates': [-113.4531773, 53.573586], 'type': 'Point'},\n",
       " {'coordinates': [-113.453053, 53.5743139], 'type': 'Point'},\n",
       " {'coordinates': [-113.4528106, 53.5749584], 'type': 'Point'},\n",
       " {'coordinates': [-113.4611958, 53.5735752], 'type': 'Point'},\n",
       " {'coordinates': [-113.4635918, 53.5718115], 'type': 'Point'},\n",
       " {'coordinates': [-113.4638659, 53.5716133], 'type': 'Point'},\n",
       " {'coordinates': [-113.4640144, 53.5713754], 'type': 'Point'},\n",
       " {'coordinates': [-113.464032, 53.5688898], 'type': 'Point'},\n",
       " {'coordinates': [-113.4641069, 53.5662282], 'type': 'Point'},\n",
       " {'coordinates': [-113.4644587, 53.5659276], 'type': 'Point'},\n",
       " {'coordinates': [-113.4672863, 53.5658218], 'type': 'Point'},\n",
       " {'coordinates': [-113.4756974, 53.518811], 'type': 'Point'},\n",
       " {'coordinates': [-113.4756974, 53.5194897], 'type': 'Point'},\n",
       " {'coordinates': [-113.4755, 53.5199031], 'type': 'Point'},\n",
       " {'coordinates': [-113.4752339, 53.5201276], 'type': 'Point'},\n",
       " {'coordinates': [-113.474882, 53.5202705], 'type': 'Point'},\n",
       " {'coordinates': [-113.4745043, 53.520296], 'type': 'Point'},\n",
       " {'coordinates': [-113.4742382, 53.520245], 'type': 'Point'},\n",
       " {'coordinates': [-113.4740923, 53.5201531], 'type': 'Point'},\n",
       " {'coordinates': [-113.4860785, 53.5180009], 'type': 'Point'},\n",
       " {'coordinates': [-113.4574609, 53.531767], 'type': 'Point'},\n",
       " {'coordinates': [-113.5258316, 53.5690236], 'type': 'Point'},\n",
       " {'coordinates': [-113.5250595, 53.5693317], 'type': 'Point'},\n",
       " {'coordinates': [-113.5239034, 53.5697165], 'type': 'Point'},\n",
       " {'coordinates': [-113.5232362, 53.5698887], 'type': 'Point'},\n",
       " {'coordinates': [-113.5229027, 53.5698284], 'type': 'Point'},\n",
       " {'coordinates': [-113.522453, 53.5695959], 'type': 'Point'},\n",
       " {'coordinates': [-113.5201325, 53.5679508], 'type': 'Point'},\n",
       " {'coordinates': [-113.5192043, 53.5673565], 'type': 'Point'},\n",
       " {'coordinates': [-113.5184936, 53.5668827], 'type': 'Point'},\n",
       " {'coordinates': [-113.5183631, 53.5666933], 'type': 'Point'},\n",
       " {'coordinates': [-113.5183776, 53.566521], 'type': 'Point'},\n",
       " {'coordinates': [-113.5187692, 53.5661937], 'type': 'Point'},\n",
       " {'coordinates': [-113.5194984, 53.5655952], 'type': 'Point'},\n",
       " {'coordinates': [-113.5295448, 53.5705756], 'type': 'Point'},\n",
       " {'coordinates': [-113.5295872, 53.5708539], 'type': 'Point'},\n",
       " {'coordinates': [-113.5305315, 53.5776395], 'type': 'Point'},\n",
       " {'coordinates': [-113.5302996, 53.5781755], 'type': 'Point'},\n",
       " {'coordinates': [-113.5297516, 53.5785652], 'type': 'Point'},\n",
       " {'coordinates': [-113.5285003, 53.5787788], 'type': 'Point'},\n",
       " {'coordinates': [-113.5267028, 53.578998], 'type': 'Point'},\n",
       " {'coordinates': [-113.5262822, 53.579167], 'type': 'Point'},\n",
       " {'coordinates': [-113.5256836, 53.5797441], 'type': 'Point'},\n",
       " {'coordinates': [-113.5264818, 53.5790737], 'type': 'Point'},\n",
       " {'coordinates': [-113.5259778, 53.5793528], 'type': 'Point'},\n",
       " {'coordinates': [-113.5289418, 53.5787337], 'type': 'Point'},\n",
       " {'coordinates': [-113.5301271, 53.5783381], 'type': 'Point'},\n",
       " {'coordinates': [-113.5304782, 53.5778317], 'type': 'Point'},\n",
       " {'coordinates': [-113.5255063, 53.5247605], 'type': 'Point'},\n",
       " {'coordinates': [-113.5178573, 53.5180646], 'type': 'Point'},\n",
       " {'coordinates': [-113.5120577, 53.5180781], 'type': 'Point'},\n",
       " {'coordinates': [-113.4550204, 53.5179925], 'type': 'Point'},\n",
       " {'coordinates': [-113.4431318, 53.5339759], 'type': 'Point'},\n",
       " {'coordinates': [-113.5325527, 53.5310181], 'type': 'Point'},\n",
       " {'coordinates': [-113.529357, 53.5305737], 'type': 'Point'},\n",
       " {'coordinates': [-113.5278356, 53.530213], 'type': 'Point'},\n",
       " {'coordinates': [-113.5254638, 53.5297959], 'type': 'Point'},\n",
       " {'coordinates': [-113.5245957, 53.529656], 'type': 'Point'},\n",
       " {'coordinates': [-113.5232027, 53.5291567], 'type': 'Point'},\n",
       " {'coordinates': [-113.5199587, 53.5278706], 'type': 'Point'},\n",
       " {'coordinates': [-113.5390931, 53.5247972], 'type': 'Point'},\n",
       " {'coordinates': [-113.5378074, 53.5265835], 'type': 'Point'},\n",
       " {'coordinates': [-113.5365077, 53.5183186], 'type': 'Point'},\n",
       " {'coordinates': [-113.5518436, 53.5126283], 'type': 'Point'},\n",
       " {'coordinates': [-113.5548652, 53.513409], 'type': 'Point'},\n",
       " {'coordinates': [-113.5553999, 53.5135752], 'type': 'Point'},\n",
       " {'coordinates': [-113.5556775, 53.5137385], 'type': 'Point'},\n",
       " {'coordinates': [-113.5560133, 53.515811], 'type': 'Point'},\n",
       " {'coordinates': [-113.5561961, 53.5162565], 'type': 'Point'},\n",
       " {'coordinates': [-113.5564323, 53.5164621], 'type': 'Point'},\n",
       " {'coordinates': [-113.5572352, 53.5167399], 'type': 'Point'},\n",
       " {'coordinates': [-113.5578375, 53.5168181], 'type': 'Point'},\n",
       " {'coordinates': [-113.558327, 53.5168993], 'type': 'Point'},\n",
       " {'coordinates': [-113.5588543, 53.5170916], 'type': 'Point'},\n",
       " {'coordinates': [-113.5593026, 53.5173758], 'type': 'Point'},\n",
       " {'coordinates': [-113.5594713, 53.5176183], 'type': 'Point'},\n",
       " {'coordinates': [-113.5595903, 53.5179253], 'type': 'Point'},\n",
       " {'coordinates': [-113.5596113, 53.5185097], 'type': 'Point'},\n",
       " {'coordinates': [-113.5596891, 53.5186967], 'type': 'Point'},\n",
       " {'coordinates': [-113.5598693, 53.518914], 'type': 'Point'},\n",
       " {'coordinates': [-113.5603966, 53.5191941], 'type': 'Point'},\n",
       " {'coordinates': [-113.5607969, 53.5192868], 'type': 'Point'},\n",
       " {'coordinates': [-113.5902677, 53.5346038], 'type': 'Point'},\n",
       " {'coordinates': [-113.5726636, 53.5589186], 'type': 'Point'},\n",
       " {'coordinates': [-113.5657125, 53.5589276], 'type': 'Point'},\n",
       " {'coordinates': [-113.5555163, 53.5589257], 'type': 'Point'},\n",
       " {'coordinates': [-113.5513307, 53.5589597], 'type': 'Point'},\n",
       " {'coordinates': [-113.5481248, 53.5589316], 'type': 'Point'},\n",
       " {'coordinates': [-113.5231891, 53.5588237], 'type': 'Point'},\n",
       " {'coordinates': [-113.515826, 53.5588318], 'type': 'Point'},\n",
       " {'coordinates': [-113.4895616, 53.5592017], 'type': 'Point'},\n",
       " {'coordinates': [-113.4870188, 53.5600489], 'type': 'Point'},\n",
       " {'coordinates': [-113.4862354, 53.5602562], 'type': 'Point'},\n",
       " {'coordinates': [-113.4796298, 53.561084], 'type': 'Point'},\n",
       " {'coordinates': [-113.5779026, 53.524904], 'type': 'Point'},\n",
       " {'coordinates': [-113.5779097, 53.5315136], 'type': 'Point'},\n",
       " {'coordinates': [-113.577976, 53.5535549], 'type': 'Point'},\n",
       " {'coordinates': [-113.578125, 53.5604881], 'type': 'Point'},\n",
       " {'coordinates': [-113.5208554, 53.5229066], 'type': 'Point'},\n",
       " {'coordinates': [-113.5178247, 53.5229074], 'type': 'Point'},\n",
       " {'coordinates': [-113.5119527, 53.5228731], 'type': 'Point'},\n",
       " {'coordinates': [-113.5209032, 53.5200656], 'type': 'Point'},\n",
       " {'coordinates': [-113.4966919, 53.557621], 'type': 'Point'},\n",
       " {'coordinates': [-113.5107217, 53.5326387], 'type': 'Point'},\n",
       " {'coordinates': [-113.4839775, 53.5491714], 'type': 'Point'},\n",
       " {'coordinates': [-113.4821859, 53.5499662], 'type': 'Point'},\n",
       " {'coordinates': [-113.4815961, 53.550384], 'type': 'Point'},\n",
       " {'coordinates': [-113.4782782, 53.553238], 'type': 'Point'},\n",
       " {'coordinates': [-113.469213, 53.5611934], 'type': 'Point'},\n",
       " {'coordinates': [-113.453254, 53.5751586], 'type': 'Point'},\n",
       " {'coordinates': [-113.5035832, 53.5133028], 'type': 'Point'},\n",
       " {'coordinates': [-113.503487, 53.5180586], 'type': 'Point'},\n",
       " {'coordinates': [-113.5035154, 53.5225753], 'type': 'Point'},\n",
       " {'coordinates': [-113.5113624, 53.523984], 'type': 'Point'},\n",
       " {'coordinates': [-113.4919869, 53.5246519], 'type': 'Point'},\n",
       " {'coordinates': [-113.4912581, 53.5248381], 'type': 'Point'},\n",
       " {'coordinates': [-113.490332, 53.5250243], 'type': 'Point'},\n",
       " {'coordinates': [-113.4899607, 53.525188], 'type': 'Point'},\n",
       " {'coordinates': [-113.4896411, 53.5254241], 'type': 'Point'},\n",
       " {'coordinates': [-113.489369, 53.5257279], 'type': 'Point'},\n",
       " {'coordinates': [-113.488393, 53.5263514], 'type': 'Point'},\n",
       " {'coordinates': [-113.5093254, 53.4982042], 'type': 'Point'},\n",
       " {'coordinates': [-113.5093709, 53.5161527], 'type': 'Point'},\n",
       " {'coordinates': [-113.5093702, 53.5152031], 'type': 'Point'},\n",
       " {'coordinates': [-113.5093593, 53.5103777], 'type': 'Point'},\n",
       " {'coordinates': [-113.5150317, 53.5145772], 'type': 'Point'},\n",
       " {'coordinates': [-113.5120525, 53.5140753], 'type': 'Point'},\n",
       " {'coordinates': [-113.5093701, 53.5136256], 'type': 'Point'},\n",
       " {'coordinates': [-113.5063213, 53.509418], 'type': 'Point'},\n",
       " {'coordinates': [-113.5063246, 53.5103785], 'type': 'Point'},\n",
       " {'coordinates': [-113.5063194, 53.515195], 'type': 'Point'},\n",
       " {'coordinates': [-113.5063157, 53.5161476], 'type': 'Point'},\n",
       " {'coordinates': [-113.5063081, 53.518065], 'type': 'Point'},\n",
       " {'coordinates': [-113.5063035, 53.5190788], 'type': 'Point'},\n",
       " {'coordinates': [-113.5062876, 53.5200543], 'type': 'Point'},\n",
       " {'coordinates': [-113.5062902, 53.5209828], 'type': 'Point'},\n",
       " {'coordinates': [-113.5062938, 53.5233691], 'type': 'Point'},\n",
       " {'coordinates': [-113.5351991, 53.5369387], 'type': 'Point'},\n",
       " {'coordinates': [-113.5323493, 53.5356086], 'type': 'Point'},\n",
       " {'coordinates': [-113.5216976, 53.5326439], 'type': 'Point'},\n",
       " {'coordinates': [-113.5197702, 53.5323754], 'type': 'Point'},\n",
       " {'coordinates': [-113.51137, 53.5319556], 'type': 'Point'},\n",
       " {'coordinates': [-113.5104701, 53.5318954], 'type': 'Point'},\n",
       " {'coordinates': [-113.5097616, 53.5317528], 'type': 'Point'},\n",
       " {'coordinates': [-113.503697, 53.5303925], 'type': 'Point'},\n",
       " {'coordinates': [-113.5307251, 53.5304239], 'type': 'Point'},\n",
       " {'coordinates': [-113.5306986, 53.5279246], 'type': 'Point'},\n",
       " {'coordinates': [-113.530682, 53.5263714], 'type': 'Point'},\n",
       " {'coordinates': [-113.5306457, 53.5229514], 'type': 'Point'},\n",
       " {'coordinates': [-113.5325017, 53.5229575], 'type': 'Point'},\n",
       " {'coordinates': [-113.5325433, 53.5279175], 'type': 'Point'},\n",
       " {'coordinates': [-113.5325207, 53.5252194], 'type': 'Point'},\n",
       " {'coordinates': [-113.536236, 53.5229633], 'type': 'Point'},\n",
       " {'coordinates': [-113.5343132, 53.5248125], 'type': 'Point'},\n",
       " {'coordinates': [-113.5343076, 53.5229595], 'type': 'Point'},\n",
       " {'coordinates': [-113.4976393, 53.5240575], 'type': 'Point'},\n",
       " {'coordinates': [-113.4974317, 53.5240556], 'type': 'Point'},\n",
       " {'coordinates': [-113.4936655, 53.5242096], 'type': 'Point'},\n",
       " {'coordinates': [-113.536969, 53.5391501], 'type': 'Point'},\n",
       " {'coordinates': [-113.5365055, 53.5396102], 'type': 'Point'},\n",
       " {'coordinates': [-113.5358497, 53.5398713], 'type': 'Point'},\n",
       " {'coordinates': [-113.5353008, 53.5399313], 'type': 'Point'},\n",
       " {'coordinates': [-113.5338348, 53.5398874], 'type': 'Point'},\n",
       " {'coordinates': [-113.5320332, 53.5398002], 'type': 'Point'},\n",
       " {'coordinates': [-113.529046, 53.5396194], 'type': 'Point'},\n",
       " {'coordinates': [-113.523461, 53.5389009], 'type': 'Point'},\n",
       " {'coordinates': [-113.5213052, 53.5388687], 'type': 'Point'},\n",
       " {'coordinates': [-113.5658993, 53.5703672], 'type': 'Point'},\n",
       " {'coordinates': [-113.5658288, 53.5562347], 'type': 'Point'},\n",
       " {'coordinates': [-113.5658363, 53.5541613], 'type': 'Point'},\n",
       " {'coordinates': [-113.4976789, 53.5123463], 'type': 'Point'},\n",
       " {'coordinates': [-113.5120502, 53.5122765], 'type': 'Point'},\n",
       " {'coordinates': [-113.5288411, 53.5122442], 'type': 'Point'},\n",
       " {'coordinates': [-113.5371866, 53.5122411], 'type': 'Point'},\n",
       " {'coordinates': [-113.5385428, 53.5126188], 'type': 'Point'},\n",
       " {'coordinates': [-113.528834, 53.5108415], 'type': 'Point'},\n",
       " {'coordinates': [-113.5288335, 53.5141359], 'type': 'Point'},\n",
       " {'coordinates': [-113.5288485, 53.5146391], 'type': 'Point'},\n",
       " {'coordinates': [-113.5207996, 53.5171086], 'type': 'Point'},\n",
       " {'coordinates': [-113.5207929, 53.5161717], 'type': 'Point'},\n",
       " {'coordinates': [-113.5150224, 53.5180712], 'type': 'Point'},\n",
       " {'coordinates': [-113.5150253, 53.5170934], 'type': 'Point'},\n",
       " {'coordinates': [-113.515028, 53.5161621], 'type': 'Point'},\n",
       " {'coordinates': [-113.5150304, 53.5152181], 'type': 'Point'},\n",
       " {'coordinates': [-113.5178166, 53.5252508], 'type': 'Point'},\n",
       " {'coordinates': [-113.5120452, 53.5084778], 'type': 'Point'},\n",
       " {'coordinates': [-113.5178302, 53.5247928], 'type': 'Point'},\n",
       " {'coordinates': [-113.5119291, 53.5209919], 'type': 'Point'},\n",
       " {'coordinates': [-113.5062998, 53.5205229], 'type': 'Point'},\n",
       " {'coordinates': [-113.5119436, 53.5200564], 'type': 'Point'},\n",
       " {'coordinates': [-113.5062955, 53.5195613], 'type': 'Point'},\n",
       " {'coordinates': [-113.5004342, 53.5200326], 'type': 'Point'},\n",
       " {'coordinates': [-113.4976304, 53.5200228], 'type': 'Point'},\n",
       " {'coordinates': [-113.5119277, 53.519112], 'type': 'Point'},\n",
       " {'coordinates': [-113.5063114, 53.5186205], 'type': 'Point'},\n",
       " {'coordinates': [-113.4976577, 53.5190645], 'type': 'Point'},\n",
       " {'coordinates': [-113.4939323, 53.5190542], 'type': 'Point'},\n",
       " {'coordinates': [-113.4912611, 53.5190467], 'type': 'Point'},\n",
       " {'coordinates': [-113.4860778, 53.5190326], 'type': 'Point'},\n",
       " {'coordinates': [-113.4827798, 53.5190234], 'type': 'Point'},\n",
       " {'coordinates': [-113.4766653, 53.5190064], 'type': 'Point'},\n",
       " {'coordinates': [-113.5004196, 53.5225659], 'type': 'Point'},\n",
       " {'coordinates': [-113.5004232, 53.5218391], 'type': 'Point'},\n",
       " {'coordinates': [-113.5004639, 53.5161378], 'type': 'Point'},\n",
       " {'coordinates': [-113.5288497, 53.5132119], 'type': 'Point'},\n",
       " {'coordinates': [-113.4796868, 53.5226426], 'type': 'Point'},\n",
       " {'coordinates': [-113.4796891, 53.5179832], 'type': 'Point'},\n",
       " {'coordinates': [-113.4566637, 53.5378558], 'type': 'Point'},\n",
       " {'coordinates': [-113.4561478, 53.5379585], 'type': 'Point'},\n",
       " {'coordinates': [-113.4558209, 53.5378543], 'type': 'Point'},\n",
       " {'coordinates': [-113.4563865, 53.5372861], 'type': 'Point'},\n",
       " {'coordinates': [-113.4556754, 53.5375539], 'type': 'Point'},\n",
       " {'coordinates': [-113.5242971, 53.5162407], 'type': 'Point'},\n",
       " {'coordinates': [-113.5231064, 53.5162354], 'type': 'Point'},\n",
       " {'coordinates': [-113.5222507, 53.516476], 'type': 'Point'},\n",
       " {'coordinates': [-113.5215387, 53.5170287], 'type': 'Point'},\n",
       " {'coordinates': [-113.4634507, 53.5383316], 'type': 'Point'},\n",
       " {'coordinates': [-113.4815074, 53.5360708], 'type': 'Point'},\n",
       " {'coordinates': [-113.4804459, 53.5363638], 'type': 'Point'},\n",
       " {'coordinates': [-113.4799507, 53.5367098], 'type': 'Point'},\n",
       " {'coordinates': [-113.4791392, 53.5372867], 'type': 'Point'},\n",
       " {'coordinates': [-113.4774739, 53.5377646], 'type': 'Point'},\n",
       " {'coordinates': [-113.4839244, 53.5363249], 'type': 'Point'},\n",
       " {'coordinates': [-113.4838633, 53.5361736], 'type': 'Point'},\n",
       " {'coordinates': [-113.4834379, 53.5352827], 'type': 'Point'},\n",
       " {'coordinates': [-113.4833404, 53.5342101], 'type': 'Point'},\n",
       " {'coordinates': [-113.4851612, 53.5323571], 'type': 'Point'},\n",
       " {'coordinates': [-113.4856424, 53.5312191], 'type': 'Point'},\n",
       " {'coordinates': [-113.4843616, 53.5369761], 'type': 'Point'},\n",
       " {'coordinates': [-113.399491, 53.5542227], 'type': 'Point'},\n",
       " {'coordinates': [-113.3927546, 53.5507774], 'type': 'Point'},\n",
       " {'coordinates': [-113.3895747, 53.5504049], 'type': 'Point'},\n",
       " {'coordinates': [-113.3812016, 53.5528726], 'type': 'Point'},\n",
       " {'coordinates': [-113.5010561, 53.5514194], 'type': 'Point'},\n",
       " {'coordinates': [-113.4556821, 53.5612245], 'type': 'Point'},\n",
       " {'coordinates': [-113.4672799, 53.5704124], 'type': 'Point'},\n",
       " {'coordinates': [-113.4932691, 53.5703398], 'type': 'Point'},\n",
       " {'coordinates': [-113.4920364, 53.5703773], 'type': 'Point'},\n",
       " {'coordinates': [-113.502841, 53.5703587], 'type': 'Point'},\n",
       " {'coordinates': [-113.4521721, 53.5703048], 'type': 'Point'},\n",
       " {'coordinates': [-113.4519782, 53.569453], 'type': 'Point'},\n",
       " {'coordinates': [-113.4521614, 53.5719847], 'type': 'Point'},\n",
       " {'coordinates': [-113.452181, 53.5726271], 'type': 'Point'},\n",
       " {'coordinates': [-113.4525415, 53.5735649], 'type': 'Point'},\n",
       " {'coordinates': [-113.4527355, 53.5742973], 'type': 'Point'},\n",
       " {'coordinates': [-113.5742397, 53.5421026], 'type': 'Point'},\n",
       " {'coordinates': [-113.5729011, 53.5419777], 'type': 'Point'},\n",
       " {'coordinates': [-113.5705624, 53.5421222], 'type': 'Point'},\n",
       " {'coordinates': [-113.5689514, 53.5426139], 'type': 'Point'},\n",
       " {'coordinates': [-113.5670074, 53.5428005], 'type': 'Point'},\n",
       " {'coordinates': [-113.487307, 53.5467203], 'type': 'Point'},\n",
       " {'coordinates': [-113.4752103, 53.5487231], 'type': 'Point'},\n",
       " {'coordinates': [-113.4895288, 53.5463419], 'type': 'Point'},\n",
       " {'coordinates': [-113.5288532, 53.5509984], 'type': 'Point'},\n",
       " {'coordinates': [-113.5266326, 53.5513744], 'type': 'Point'},\n",
       " {'coordinates': [-113.5083202, 53.5514152], 'type': 'Point'},\n",
       " {'coordinates': [-113.4937225, 53.5514236], 'type': 'Point'},\n",
       " {'coordinates': [-113.4926182, 53.5516004], 'type': 'Point'},\n",
       " {'coordinates': [-113.4889863, 53.5529653], 'type': 'Point'},\n",
       " {'coordinates': [-113.4792664, 53.5547391], 'type': 'Point'},\n",
       " {'coordinates': [-113.4786658, 53.5548578], 'type': 'Point'},\n",
       " {'coordinates': [-113.4736134, 53.5590956], 'type': 'Point'},\n",
       " {'coordinates': [-113.4732596, 53.560098], 'type': 'Point'},\n",
       " {'coordinates': [-113.4732863, 53.5611427], 'type': 'Point'},\n",
       " {'coordinates': [-113.4400562, 53.5578661], 'type': 'Point'},\n",
       " {'coordinates': [-113.4413465, 53.5591483], 'type': 'Point'},\n",
       " {'coordinates': [-113.4479184, 53.5641588], 'type': 'Point'},\n",
       " {'coordinates': [-113.4757103, 53.5466815], 'type': 'Point'},\n",
       " {'coordinates': [-113.4752542, 53.5463245], 'type': 'Point'},\n",
       " {'coordinates': [-113.475227, 53.546108], 'type': 'Point'},\n",
       " {'coordinates': [-113.4752341, 53.5459683], 'type': 'Point'},\n",
       " {'coordinates': [-113.4753101, 53.5454178], 'type': 'Point'},\n",
       " {'coordinates': [-113.4751104, 53.5452311], 'type': 'Point'},\n",
       " {'coordinates': [-113.4748776, 53.5451756], 'type': 'Point'},\n",
       " {'coordinates': [-113.4738894, 53.5466777], 'type': 'Point'},\n",
       " {'coordinates': [-113.4732704, 53.5472233], 'type': 'Point'},\n",
       " {'coordinates': [-113.4726559, 53.5474923], 'type': 'Point'},\n",
       " {'coordinates': [-113.464809, 53.5492177], 'type': 'Point'},\n",
       " {'coordinates': [-113.4619204, 53.549668], 'type': 'Point'},\n",
       " {'coordinates': [-113.461162, 53.549826], 'type': 'Point'},\n",
       " {'coordinates': [-113.4602713, 53.5500074], 'type': 'Point'},\n",
       " {'coordinates': [-113.459465, 53.5500718], 'type': 'Point'},\n",
       " {'coordinates': [-113.4587756, 53.5500092], 'type': 'Point'},\n",
       " {'coordinates': [-113.4581203, 53.5497835], 'type': 'Point'},\n",
       " {'coordinates': [-113.4577031, 53.5495116], 'type': 'Point'},\n",
       " {'coordinates': [-113.4571275, 53.549319], 'type': 'Point'},\n",
       " {'coordinates': [-113.4755129, 53.5442234], 'type': 'Point'},\n",
       " {'coordinates': [-113.4756588, 53.5441108], 'type': 'Point'},\n",
       " {'coordinates': [-113.4760093, 53.5440016], 'type': 'Point'},\n",
       " {'coordinates': [-113.5225445, 53.5163606], 'type': 'Point'},\n",
       " {'coordinates': [-113.5209363, 53.5179417], 'type': 'Point'},\n",
       " {'coordinates': [-113.4849335, 53.5335391], 'type': 'Point'},\n",
       " {'coordinates': [-113.4855508, 53.5330014], 'type': 'Point'},\n",
       " {'coordinates': [-113.4855987, 53.5329106], 'type': 'Point'},\n",
       " {'coordinates': [-113.4834149, 53.5341356], 'type': 'Point'},\n",
       " {'coordinates': [-113.4847752, 53.5371362], 'type': 'Point'},\n",
       " {'coordinates': [-113.483817, 53.5345842], 'type': 'Point'},\n",
       " {'coordinates': [-113.4836236, 53.5339518], 'type': 'Point'},\n",
       " {'coordinates': [-113.482515, 53.5331191], 'type': 'Point'},\n",
       " {'coordinates': [-113.4817427, 53.5329196], 'type': 'Point'},\n",
       " {'coordinates': [-113.4839615, 53.5345671], 'type': 'Point'},\n",
       " {'coordinates': [-113.4794948, 53.5329704], 'type': 'Point'},\n",
       " {'coordinates': [-113.4803464, 53.5330033], 'type': 'Point'},\n",
       " {'coordinates': [-113.481892, 53.5335363], 'type': 'Point'},\n",
       " {'coordinates': [-113.4827521, 53.5343252], 'type': 'Point'},\n",
       " {'coordinates': [-113.4727471, 53.5326418], 'type': 'Point'},\n",
       " {'coordinates': [-113.549488, 53.571061], 'type': 'Point'},\n",
       " {'coordinates': [-113.5359002, 53.5588937], 'type': 'Point'},\n",
       " {'coordinates': [-113.535871, 53.5509558], 'type': 'Point'},\n",
       " {'coordinates': [-113.5358894, 53.5703187], 'type': 'Point'},\n",
       " {'coordinates': [-113.5255543, 53.5229372], 'type': 'Point'},\n",
       " {'coordinates': [-113.5383224, 53.5388817], 'type': 'Point'},\n",
       " {'coordinates': [-113.5386242, 53.5388275], 'type': 'Point'},\n",
       " {'coordinates': [-113.5388739, 53.5384684], 'type': 'Point'},\n",
       " {'coordinates': [-113.5388108, 53.5383769], 'type': 'Point'},\n",
       " {'coordinates': [-113.5385375, 53.5382062], 'type': 'Point'},\n",
       " {'coordinates': [-113.5381098, 53.53802], 'type': 'Point'},\n",
       " {'coordinates': [-113.5307916, 53.5350788], 'type': 'Point'},\n",
       " {'coordinates': [-113.5353551, 53.5368641], 'type': 'Point'},\n",
       " {'coordinates': [-113.5385813, 53.5381235], 'type': 'Point'},\n",
       " {'coordinates': [-113.5390905, 53.5385304], 'type': 'Point'},\n",
       " {'coordinates': [-113.5390074, 53.5387985], 'type': 'Point'},\n",
       " {'coordinates': [-113.5389109, 53.539243], 'type': 'Point'},\n",
       " {'coordinates': [-113.5387929, 53.5395614], 'type': 'Point'},\n",
       " {'coordinates': [-113.5389015, 53.5399346], 'type': 'Point'},\n",
       " {'coordinates': [-113.5367432, 53.5402286], 'type': 'Point'},\n",
       " {'coordinates': [-113.5368998, 53.5402343], 'type': 'Point'},\n",
       " {'coordinates': [-113.5466541, 53.5484961], 'type': 'Point'},\n",
       " {'coordinates': [-113.5488614, 53.5509018], 'type': 'Point'},\n",
       " {'coordinates': [-113.5506772, 53.5532511], 'type': 'Point'},\n",
       " {'coordinates': [-113.5507185, 53.553703], 'type': 'Point'},\n",
       " {'coordinates': [-113.5504537, 53.5508976], 'type': 'Point'},\n",
       " {'coordinates': [-113.5500448, 53.5503584], 'type': 'Point'},\n",
       " {'coordinates': [-113.5473855, 53.5487027], 'type': 'Point'},\n",
       " {'coordinates': [-113.5463089, 53.5482779], 'type': 'Point'},\n",
       " {'coordinates': [-113.455849, 53.5373677], 'type': 'Point'},\n",
       " {'coordinates': [-113.4567026, 53.53741], 'type': 'Point'},\n",
       " {'coordinates': [-113.4582492, 53.5248247], 'type': 'Point'},\n",
       " {'coordinates': [-113.5398736, 53.5219559], 'type': 'Point'},\n",
       " {'coordinates': [-113.54075, 53.5234712], 'type': 'Point'},\n",
       " {'coordinates': [-113.501261, 53.529694], 'type': 'Point'},\n",
       " {'coordinates': [-113.5129533, 53.5263528], 'type': 'Point'},\n",
       " {'coordinates': [-113.5042744, 53.5341413], 'type': 'Point'},\n",
       " {'coordinates': [-113.5074538, 53.5342592], 'type': 'Point'},\n",
       " {'coordinates': [-113.5065875, 53.5343371], 'type': 'Point'},\n",
       " {'coordinates': [-113.537902, 53.538001], 'type': 'Point'},\n",
       " {'coordinates': [-113.5095517, 53.5338237], 'type': 'Point'},\n",
       " {'coordinates': [-113.509813, 53.5326829], 'type': 'Point'},\n",
       " {'coordinates': [-113.4836279, 53.5365231], 'type': 'Point'},\n",
       " {'coordinates': [-113.484694, 53.5363269], 'type': 'Point'},\n",
       " {'coordinates': [-113.4881421, 53.5383434], 'type': 'Point'},\n",
       " {'coordinates': [-113.4853623, 53.5374192], 'type': 'Point'},\n",
       " {'coordinates': [-113.4393566, 53.5570334], 'type': 'Point'},\n",
       " {'coordinates': [-113.5000537, 53.5307894], 'type': 'Point'},\n",
       " {'coordinates': [-113.4993187, 53.531235], 'type': 'Point'},\n",
       " {'coordinates': [-113.4991695, 53.5316329], 'type': 'Point'},\n",
       " {'coordinates': [-113.4992508, 53.5335067], 'type': 'Point'},\n",
       " {'coordinates': [-113.4989188, 53.5339153], 'type': 'Point'},\n",
       " {'coordinates': [-113.498739, 53.531116], 'type': 'Point'},\n",
       " {'coordinates': [-113.4984382, 53.5312826], 'type': 'Point'},\n",
       " {'coordinates': [-113.4937713, 53.5395803], 'type': 'Point'},\n",
       " {'coordinates': [-113.4939816, 53.5394117], 'type': 'Point'},\n",
       " {'coordinates': [-113.4948937, 53.5391464], 'type': 'Point'},\n",
       " {'coordinates': [-113.4955915, 53.5384696], 'type': 'Point'},\n",
       " {'coordinates': [-113.4956241, 53.536717], 'type': 'Point'},\n",
       " {'coordinates': [-113.4958139, 53.5362888], 'type': 'Point'},\n",
       " {'coordinates': [-113.4969523, 53.5355218], 'type': 'Point'},\n",
       " {'coordinates': [-113.4973707, 53.5345186], 'type': 'Point'},\n",
       " {'coordinates': [-113.49394, 53.5368595], 'type': 'Point'},\n",
       " {'coordinates': [-113.4452421, 53.5339358], 'type': 'Point'},\n",
       " {'coordinates': [-113.5502541, 53.5508954], 'type': 'Point'},\n",
       " {'coordinates': [-113.5490918, 53.5508978], 'type': 'Point'},\n",
       " {'coordinates': [-113.4761085, 53.5213233], 'type': 'Point'},\n",
       " {'coordinates': [-113.5373315, 53.5339135], 'type': 'Point'},\n",
       " {'coordinates': [-113.4773976, 53.5428659], 'type': 'Point'},\n",
       " {'coordinates': [-113.4787939, 53.5452937], 'type': 'Point'},\n",
       " {'coordinates': [-113.4802558, 53.5478802], 'type': 'Point'},\n",
       " {'coordinates': [-113.4835963, 53.5538801], 'type': 'Point'},\n",
       " {'coordinates': [-113.4780096, 53.5438083], 'type': 'Point'},\n",
       " {'coordinates': [-113.5657302, 53.5187303], 'type': 'Point'},\n",
       " {'coordinates': [-113.5628081, 53.519332], 'type': 'Point'},\n",
       " {'coordinates': [-113.5656652, 53.512946], 'type': 'Point'},\n",
       " {'coordinates': [-113.5655679, 53.5314976], 'type': 'Point'},\n",
       " {'coordinates': [-113.5010584, 53.5388427], 'type': 'Point'},\n",
       " {'coordinates': [-113.5083345, 53.5388495], 'type': 'Point'},\n",
       " {'coordinates': [-113.4956221, 53.5390196], 'type': 'Point'},\n",
       " {'coordinates': [-113.5221206, 53.5388995], 'type': 'Point'},\n",
       " {'coordinates': [-113.5212279, 53.5483986], 'type': 'Point'},\n",
       " {'coordinates': [-113.5212726, 53.5514183], 'type': 'Point'},\n",
       " {'coordinates': [-113.5212649, 53.5462257], 'type': 'Point'},\n",
       " {'coordinates': [-113.5083409, 53.546297], 'type': 'Point'},\n",
       " {'coordinates': [-113.5085355, 53.5588655], 'type': 'Point'},\n",
       " {'coordinates': [-113.5039846, 53.5588678], 'type': 'Point'},\n",
       " {'coordinates': [-113.5231609, 53.5513922], 'type': 'Point'},\n",
       " {'coordinates': [-113.5231134, 53.5500527], 'type': 'Point'},\n",
       " {'coordinates': [-113.5228244, 53.549689], 'type': 'Point'},\n",
       " {'coordinates': [-113.4777334, 53.5432487], 'type': 'Point'},\n",
       " {'coordinates': [-113.4802755, 53.5429948], 'type': 'Point'},\n",
       " {'coordinates': [-113.4829455, 53.5424704], 'type': 'Point'},\n",
       " {'coordinates': [-113.4835552, 53.5422473], 'type': 'Point'},\n",
       " {'coordinates': [-113.4936342, 53.5374694], 'type': 'Point'},\n",
       " {'coordinates': [-113.4944274, 53.5370111], 'type': 'Point'},\n",
       " {'coordinates': [-113.4948415, 53.5366554], 'type': 'Point'},\n",
       " {'coordinates': [-113.4954107, 53.5360372], 'type': 'Point'},\n",
       " {'coordinates': [-113.4956656, 53.5357793], 'type': 'Point'},\n",
       " {'coordinates': [-113.4979592, 53.5346754], 'type': 'Point'},\n",
       " {'coordinates': [-113.4932423, 53.5378266], 'type': 'Point'},\n",
       " {'coordinates': [-113.4931587, 53.5373003], 'type': 'Point'},\n",
       " {'coordinates': [-113.490142, 53.5377794], 'type': 'Point'},\n",
       " {'coordinates': [-113.489582, 53.5379681], 'type': 'Point'},\n",
       " {'coordinates': [-113.4467645, 53.5631798], 'type': 'Point'},\n",
       " {'coordinates': [-113.4429248, 53.5602448], 'type': 'Point'},\n",
       " {'coordinates': [-113.4475335, 53.5641784], 'type': 'Point'},\n",
       " {'coordinates': [-113.4491958, 53.565507], 'type': 'Point'},\n",
       " {'coordinates': [-113.4497285, 53.566183], 'type': 'Point'},\n",
       " {'coordinates': [-113.451157, 53.5682347], 'type': 'Point'},\n",
       " {'coordinates': [-113.4515824, 53.568854], 'type': 'Point'},\n",
       " {'coordinates': [-113.4640217, 53.5704089], 'type': 'Point'},\n",
       " {'coordinates': [-113.4521232, 53.570852], 'type': 'Point'},\n",
       " {'coordinates': [-113.4672873, 53.5612109], 'type': 'Point'},\n",
       " {'coordinates': [-113.4487703, 53.5622954], 'type': 'Point'},\n",
       " {'coordinates': [-113.4919819, 53.558344], 'type': 'Point'},\n",
       " {'coordinates': [-113.4937109, 53.5588809], 'type': 'Point'},\n",
       " {'coordinates': [-113.5477027, 53.5489514], 'type': 'Point'},\n",
       " {'coordinates': [-113.4563519, 53.5383614], 'type': 'Point'},\n",
       " {'coordinates': [-113.4569333, 53.5412192], 'type': 'Point'},\n",
       " {'coordinates': [-113.4572074, 53.5447463], 'type': 'Point'},\n",
       " {'coordinates': [-113.4961422, 53.5251537], 'type': 'Point'},\n",
       " {'coordinates': [-113.4837967, 53.5337401], 'type': 'Point'},\n",
       " {'coordinates': [-113.4012742, 53.5558403], 'type': 'Point'},\n",
       " {'coordinates': [-113.489375, 53.5413424], 'type': 'Point'},\n",
       " {'coordinates': [-113.4889794, 53.5458397], 'type': 'Point'},\n",
       " {'coordinates': [-113.4885479, 53.5462023], 'type': 'Point'},\n",
       " {'coordinates': [-113.5095099, 53.5399481], 'type': 'Point'},\n",
       " {'coordinates': [-113.5082801, 53.5406972], 'type': 'Point'},\n",
       " {'coordinates': [-113.5074912, 53.5408469], 'type': 'Point'},\n",
       " {'coordinates': [-113.493531, 53.5408805], 'type': 'Point'},\n",
       " {'coordinates': [-113.5103494, 53.5334046], 'type': 'Point'},\n",
       " {'coordinates': [-113.5258463, 53.5219112], 'type': 'Point'},\n",
       " {'coordinates': [-113.5256799, 53.5229117], 'type': 'Point'},\n",
       " {'coordinates': [-113.5245268, 53.523986], 'type': 'Point'},\n",
       " {'coordinates': [-113.523979, 53.5241909], 'type': 'Point'},\n",
       " {'coordinates': [-113.52579, 53.5193447], 'type': 'Point'},\n",
       " {'coordinates': [-113.4528535, 53.5751945], 'type': 'Point'},\n",
       " {'coordinates': [-113.4590028, 53.5700353], 'type': 'Point'},\n",
       " {'coordinates': [-113.4577781, 53.5711174], 'type': 'Point'},\n",
       " {'coordinates': [-113.4672918, 53.5628994], 'type': 'Point'},\n",
       " {'coordinates': [-113.488933, 53.543681], 'type': 'Point'},\n",
       " {'coordinates': [-113.4923275, 53.540964], 'type': 'Point'},\n",
       " {'coordinates': [-113.4887113, 53.5424782], 'type': 'Point'},\n",
       " {'coordinates': [-113.4981891, 53.5408444], 'type': 'Point'},\n",
       " {'coordinates': [-113.5045406, 53.5408495], 'type': 'Point'},\n",
       " {'coordinates': [-113.5102667, 53.5358397], 'type': 'Point'},\n",
       " {'coordinates': [-113.5044958, 53.5361258], 'type': 'Point'},\n",
       " {'coordinates': [-113.5000512, 53.5566228], 'type': 'Point'},\n",
       " {'coordinates': [-113.4716226, 53.5594465], 'type': 'Point'},\n",
       " {'coordinates': [-113.5220653, 53.5248], 'type': 'Point'},\n",
       " {'coordinates': [-113.4886883, 53.5423047], 'type': 'Point'},\n",
       " {'coordinates': [-113.4890836, 53.5457043], 'type': 'Point'},\n",
       " {'coordinates': [-113.4887124, 53.5460681], 'type': 'Point'},\n",
       " {'coordinates': [-113.5087607, 53.5405153], 'type': 'Point'},\n",
       " {'coordinates': [-113.5079267, 53.5407855], 'type': 'Point'},\n",
       " {'coordinates': [-113.5252205, 53.5235421], 'type': 'Point'},\n",
       " {'coordinates': [-113.3984141, 53.5538948], 'type': 'Point'},\n",
       " {'coordinates': [-113.3949379, 53.5515747], 'type': 'Point'},\n",
       " {'coordinates': [-113.3870844, 53.5506314], 'type': 'Point'},\n",
       " {'coordinates': [-113.3844536, 53.5513016], 'type': 'Point'},\n",
       " {'coordinates': [-113.3975987, 53.5533339], 'type': 'Point'},\n",
       " {'coordinates': [-113.4872808, 53.570384], 'type': 'Point'},\n",
       " {'coordinates': [-113.4870945, 53.5601818], 'type': 'Point'},\n",
       " {'coordinates': [-113.4936922, 53.5627069], 'type': 'Point'},\n",
       " {'coordinates': [-113.4916901, 53.5626947], 'type': 'Point'},\n",
       " {'coordinates': [-113.4871585, 53.5627186], 'type': 'Point'},\n",
       " {'coordinates': [-113.4687921, 53.5627936], 'type': 'Point'},\n",
       " {'coordinates': [-113.4871749, 53.5657985], 'type': 'Point'},\n",
       " {'coordinates': [-113.4937271, 53.5657647], 'type': 'Point'},\n",
       " {'coordinates': [-113.4985611, 53.5657672], 'type': 'Point'},\n",
       " {'coordinates': [-113.4991882, 53.5654652], 'type': 'Point'},\n",
       " {'coordinates': [-113.4992325, 53.5626996], 'type': 'Point'},\n",
       " {'coordinates': [-113.4992308, 53.5642497], 'type': 'Point'},\n",
       " {'coordinates': [-113.4937009, 53.5642475], 'type': 'Point'},\n",
       " {'coordinates': [-113.4916725, 53.5642511], 'type': 'Point'},\n",
       " {'coordinates': [-113.470291, 53.5703921], 'type': 'Point'},\n",
       " {'coordinates': [-113.4672766, 53.5694428], 'type': 'Point'},\n",
       " {'coordinates': [-113.4672996, 53.5689002], 'type': 'Point'},\n",
       " {'coordinates': [-113.4956326, 53.5688262], 'type': 'Point'},\n",
       " {'coordinates': [-113.4962567, 53.5693309], 'type': 'Point'},\n",
       " {'coordinates': [-113.4817204, 53.5610987], 'type': 'Point'},\n",
       " {'coordinates': [-113.4856332, 53.5603171], 'type': 'Point'},\n",
       " {'coordinates': [-113.4856457, 53.5642764], 'type': 'Point'},\n",
       " {'coordinates': [-113.4887582, 53.5703941], 'type': 'Point'},\n",
       " {'coordinates': [-113.4886372, 53.5596633], 'type': 'Point'},\n",
       " {'coordinates': [-113.4902212, 53.5703909], 'type': 'Point'},\n",
       " {'coordinates': [-113.4955481, 53.5673069], 'type': 'Point'},\n",
       " {'coordinates': [-113.4640179, 53.5673508], 'type': 'Point'},\n",
       " {'coordinates': [-113.4748058, 53.5703843], 'type': 'Point'},\n",
       " {'coordinates': [-113.4748539, 53.5611366], 'type': 'Point'},\n",
       " {'coordinates': [-113.476671, 53.5610969], 'type': 'Point'},\n",
       " {'coordinates': [-113.4956091, 53.5589403], 'type': 'Point'},\n",
       " {'coordinates': [-113.4767086, 53.5703894], 'type': 'Point'},\n",
       " {'coordinates': [-113.4840655, 53.5604635], 'type': 'Point'},\n",
       " {'coordinates': [-113.4797338, 53.5703944], 'type': 'Point'},\n",
       " {'coordinates': [-113.4781403, 53.5610945], 'type': 'Point'},\n",
       " {'coordinates': [-113.4842304, 53.5704028], 'type': 'Point'},\n",
       " {'coordinates': [-113.4782267, 53.5703982], 'type': 'Point'},\n",
       " {'coordinates': [-113.4826943, 53.570399], 'type': 'Point'},\n",
       " {'coordinates': [-113.481228, 53.5703947], 'type': 'Point'},\n",
       " {'coordinates': [-113.4812282, 53.5612446], 'type': 'Point'},\n",
       " {'coordinates': [-113.4815492, 53.5610057], 'type': 'Point'},\n",
       " {'coordinates': [-113.4814828, 53.5607735], 'type': 'Point'},\n",
       " {'coordinates': [-113.471778, 53.5611384], 'type': 'Point'},\n",
       " {'coordinates': [-113.4717939, 53.5703901], 'type': 'Point'},\n",
       " {'coordinates': [-113.4732984, 53.5703876], 'type': 'Point'},\n",
       " {'coordinates': [-113.4733244, 53.5658275], 'type': 'Point'},\n",
       " {'coordinates': [-113.4687964, 53.5704004], 'type': 'Point'},\n",
       " {'coordinates': [-113.4973784, 53.5642447], 'type': 'Point'},\n",
       " {'coordinates': [-113.4973979, 53.5610484], 'type': 'Point'},\n",
       " {'coordinates': [-113.4826246, 53.5610877], 'type': 'Point'},\n",
       " {'coordinates': [-113.4655185, 53.565809], 'type': 'Point'},\n",
       " {'coordinates': [-113.5010919, 53.5657271], 'type': 'Point'},\n",
       " {'coordinates': [-113.5009192, 53.5659794], 'type': 'Point'},\n",
       " {'coordinates': [-113.4971751, 53.5675622], 'type': 'Point'},\n",
       " {'coordinates': [-113.4955357, 53.5682605], 'type': 'Point'},\n",
       " {'coordinates': [-113.4988159, 53.5669033], 'type': 'Point'},\n",
       " {'coordinates': [-113.4981364, 53.5663592], 'type': 'Point'},\n",
       " {'coordinates': [-113.4980239, 53.5661365], 'type': 'Point'},\n",
       " {'coordinates': [-113.4980393, 53.5657682], 'type': 'Point'},\n",
       " {'coordinates': [-113.5083335, 53.5430128], 'type': 'Point'},\n",
       " {'coordinates': [-113.5098093, 53.5429557], 'type': 'Point'},\n",
       " {'coordinates': [-113.5047416, 53.543012], 'type': 'Point'},\n",
       " {'coordinates': [-113.5138895, 53.5463027], 'type': 'Point'},\n",
       " {'coordinates': [-113.4992174, 53.5372577], 'type': 'Point'},\n",
       " {'coordinates': [-113.4992572, 53.5388371], 'type': 'Point'},\n",
       " {'coordinates': [-113.5176714, 53.5372532], 'type': 'Point'},\n",
       " {'coordinates': [-113.5083762, 53.5372618], 'type': 'Point'},\n",
       " {'coordinates': [-113.5010464, 53.5372478], 'type': 'Point'},\n",
       " {'coordinates': [-113.4992421, 53.5430075], 'type': 'Point'},\n",
       " {'coordinates': [-113.4992241, 53.5446017], 'type': 'Point'},\n",
       " {'coordinates': [-113.5083255, 53.5482653], 'type': 'Point'},\n",
       " {'coordinates': [-113.5076498, 53.5482606], 'type': 'Point'},\n",
       " {'coordinates': [-113.5071743, 53.5481678], 'type': 'Point'},\n",
       " {'coordinates': [-113.5067452, 53.5478771], 'type': 'Point'},\n",
       " {'coordinates': [-113.5061196, 53.5477694], 'type': 'Point'},\n",
       " {'coordinates': [-113.5011853, 53.5477737], 'type': 'Point'},\n",
       " {'coordinates': [-113.504716, 53.5462715], 'type': 'Point'},\n",
       " {'coordinates': [-113.5047471, 53.5372532], 'type': 'Point'},\n",
       " {'coordinates': [-113.5046791, 53.5368714], 'type': 'Point'},\n",
       " {'coordinates': [-113.5041359, 53.5364371], 'type': 'Point'},\n",
       " {'coordinates': [-113.5039924, 53.5361777], 'type': 'Point'},\n",
       " {'coordinates': [-113.5041028, 53.5346276], 'type': 'Point'},\n",
       " {'coordinates': [-113.506595, 53.5372492], 'type': 'Point'},\n",
       " {'coordinates': [-113.5065437, 53.540943], 'type': 'Point'},\n",
       " {'coordinates': [-113.5065363, 53.5430124], 'type': 'Point'},\n",
       " {'coordinates': [-113.5065458, 53.5462726], 'type': 'Point'},\n",
       " {'coordinates': [-113.508308, 53.544587], 'type': 'Point'},\n",
       " {'coordinates': [-113.5121245, 53.5347489], 'type': 'Point'},\n",
       " {'coordinates': [-113.5121204, 53.5342077], 'type': 'Point'},\n",
       " {'coordinates': [-113.5120095, 53.5340888], 'type': 'Point'},\n",
       " {'coordinates': [-113.5114566, 53.534069], 'type': 'Point'},\n",
       " {'coordinates': [-113.5098543, 53.5340754], 'type': 'Point'},\n",
       " {'coordinates': [-113.5139098, 53.5445988], 'type': 'Point'},\n",
       " {'coordinates': [-113.5028858, 53.5445996], 'type': 'Point'},\n",
       " {'coordinates': [-113.5121159, 53.5356306], 'type': 'Point'},\n",
       " {'coordinates': [-113.5139378, 53.5372532], 'type': 'Point'},\n",
       " {'coordinates': [-113.5102682, 53.5340845], 'type': 'Point'},\n",
       " {'coordinates': [-113.5102575, 53.5372546], 'type': 'Point'},\n",
       " {'coordinates': [-113.5102741, 53.5388397], 'type': 'Point'},\n",
       " {'coordinates': [-113.5102887, 53.5409499], 'type': 'Point'},\n",
       " {'coordinates': [-113.5139864, 53.5358212], 'type': 'Point'},\n",
       " {'coordinates': [-113.513905, 53.5356664], 'type': 'Point'},\n",
       " {'coordinates': [-113.5028918, 53.5462792], 'type': 'Point'},\n",
       " {'coordinates': [-113.4974177, 53.535657], 'type': 'Point'},\n",
       " {'coordinates': [-113.4956216, 53.5430774], 'type': 'Point'},\n",
       " {'coordinates': [-113.4956022, 53.539055], 'type': 'Point'},\n",
       " {'coordinates': [-113.4869183, 53.5457352], 'type': 'Point'},\n",
       " {'coordinates': [-113.47724, 53.5475232], 'type': 'Point'},\n",
       " {'coordinates': [-113.4773686, 53.5465505], 'type': 'Point'},\n",
       " {'coordinates': [-113.4861932, 53.5440121], 'type': 'Point'},\n",
       " {'coordinates': [-113.4952199, 53.5462373], 'type': 'Point'},\n",
       " {'coordinates': [-113.4891442, 53.544597], 'type': 'Point'},\n",
       " {'coordinates': [-113.4865706, 53.544933], 'type': 'Point'},\n",
       " {'coordinates': [-113.4792885, 53.5461688], 'type': 'Point'},\n",
       " {'coordinates': [-113.4955729, 53.5446012], 'type': 'Point'},\n",
       " {'coordinates': [-113.4551169, 53.5122935], 'type': 'Point'},\n",
       " {'coordinates': [-113.4427974, 53.5170441], 'type': 'Point'},\n",
       " {'coordinates': [-113.4399024, 53.5170279], 'type': 'Point'},\n",
       " {'coordinates': [-113.437283, 53.5171242], 'type': 'Point'},\n",
       " {'coordinates': [-113.4837547, 53.5472631], 'type': 'Point'},\n",
       " {'coordinates': [-113.4820198, 53.5436295], 'type': 'Point'},\n",
       " {'coordinates': [-113.4866943, 53.553335], 'type': 'Point'},\n",
       " {'coordinates': [-113.4829081, 53.5366693], 'type': 'Point'},\n",
       " {'coordinates': [-113.5343352, 53.5250016], 'type': 'Point'},\n",
       " {'coordinates': [-113.5345042, 53.5251786], 'type': 'Point'},\n",
       " {'coordinates': [-113.5384582, 53.5268562], 'type': 'Point'},\n",
       " {'coordinates': [-113.5367279, 53.5274351], 'type': 'Point'},\n",
       " {'coordinates': [-113.5355478, 53.5278986], 'type': 'Point'},\n",
       " {'coordinates': [-113.5374201, 53.5248018], 'type': 'Point'},\n",
       " {'coordinates': [-113.5343615, 53.5279105], 'type': 'Point'},\n",
       " {'coordinates': [-113.5343466, 53.5264345], 'type': 'Point'},\n",
       " {'coordinates': [-113.5332018, 53.5259224], 'type': 'Point'},\n",
       " {'coordinates': [-113.5330227, 53.5257996], 'type': 'Point'},\n",
       " {'coordinates': [-113.5326408, 53.5254231], 'type': 'Point'},\n",
       " {'coordinates': [-113.5325173, 53.5248156], 'type': 'Point'},\n",
       " {'coordinates': [-113.5306655, 53.5248187], 'type': 'Point'},\n",
       " {'coordinates': [-113.5370334, 53.5290265], 'type': 'Point'},\n",
       " {'coordinates': [-113.5362526, 53.5289079], 'type': 'Point'},\n",
       " {'coordinates': [-113.5343712, 53.5289067], 'type': 'Point'},\n",
       " {'coordinates': [-113.5352378, 53.5289019], 'type': 'Point'},\n",
       " {'coordinates': [-113.535183, 53.5293209], 'type': 'Point'},\n",
       " {'coordinates': [-113.5350945, 53.5294967], 'type': 'Point'},\n",
       " {'coordinates': [-113.5345668, 53.5297933], 'type': 'Point'},\n",
       " {'coordinates': [-113.5343804, 53.5298547], 'type': 'Point'},\n",
       " {'coordinates': [-113.5307184, 53.5297866], 'type': 'Point'},\n",
       " {'coordinates': [-113.5316661, 53.5298451], 'type': 'Point'},\n",
       " {'coordinates': [-113.5321928, 53.5298806], 'type': 'Point'},\n",
       " {'coordinates': [-113.5336176, 53.5301561], 'type': 'Point'},\n",
       " {'coordinates': [-113.5339247, 53.5302024], 'type': 'Point'},\n",
       " {'coordinates': [-113.5343838, 53.5302091], 'type': 'Point'},\n",
       " {'coordinates': [-113.5325304, 53.5263741], 'type': 'Point'},\n",
       " {'coordinates': [-113.5368555, 53.5219195], 'type': 'Point'},\n",
       " {'coordinates': [-113.5368406, 53.5216863], 'type': 'Point'},\n",
       " {'coordinates': [-113.5373418, 53.5215569], 'type': 'Point'},\n",
       " {'coordinates': [-113.5364788, 53.5198101], 'type': 'Point'},\n",
       " {'coordinates': [-113.5360021, 53.519362], 'type': 'Point'},\n",
       " {'coordinates': [-113.535588, 53.5192356], 'type': 'Point'},\n",
       " {'coordinates': [-113.5324775, 53.5198009], 'type': 'Point'},\n",
       " {'coordinates': [-113.5348109, 53.5201759], 'type': 'Point'},\n",
       " {'coordinates': [-113.5350878, 53.5208003], 'type': 'Point'},\n",
       " {'coordinates': [-113.5350394, 53.52085], 'type': 'Point'},\n",
       " {'coordinates': [-113.5349354, 53.5208863], 'type': 'Point'},\n",
       " {'coordinates': [-113.534289, 53.5208756], 'type': 'Point'},\n",
       " {'coordinates': [-113.5342817, 53.5200908], 'type': 'Point'},\n",
       " {'coordinates': [-113.5342991, 53.5219696], 'type': 'Point'},\n",
       " {'coordinates': [-113.5350537, 53.5219721], 'type': 'Point'},\n",
       " {'coordinates': [-113.5351613, 53.5219399], 'type': 'Point'},\n",
       " {'coordinates': [-113.5352111, 53.5218799], 'type': 'Point'},\n",
       " {'coordinates': [-113.5351816, 53.5218185], 'type': 'Point'},\n",
       " {'coordinates': [-113.5350781, 53.5217859], 'type': 'Point'},\n",
       " {'coordinates': [-113.5342974, 53.5217819], 'type': 'Point'},\n",
       " {'coordinates': [-113.5400792, 53.5057441], 'type': 'Point'},\n",
       " {'coordinates': [-113.5398302, 53.5113887], 'type': 'Point'},\n",
       " {'coordinates': [-113.5389248, 53.5120851], 'type': 'Point'},\n",
       " {'coordinates': [-113.5382853, 53.5133537], 'type': 'Point'},\n",
       " {'coordinates': [-113.5379591, 53.5138079], 'type': 'Point'},\n",
       " {'coordinates': [-113.5373583, 53.5144867], 'type': 'Point'},\n",
       " {'coordinates': [-113.5372124, 53.5149308], 'type': 'Point'},\n",
       " {'coordinates': [-113.5371866, 53.5155126], 'type': 'Point'},\n",
       " {'coordinates': [-113.5369549, 53.5160637], 'type': 'Point'},\n",
       " {'coordinates': [-113.5368004, 53.5176662], 'type': 'Point'},\n",
       " {'coordinates': [-113.5366287, 53.518054], 'type': 'Point'},\n",
       " {'coordinates': [-113.5348665, 53.5169242], 'type': 'Point'},\n",
       " {'coordinates': [-113.534992, 53.5164978], 'type': 'Point'},\n",
       " {'coordinates': [-113.5350419, 53.5157845], 'type': 'Point'},\n",
       " {'coordinates': [-113.5351502, 53.5153897], 'type': 'Point'},\n",
       " {'coordinates': [-113.5357533, 53.5140938], 'type': 'Point'},\n",
       " {'coordinates': [-113.5363712, 53.5134558], 'type': 'Point'},\n",
       " {'coordinates': [-113.5381737, 53.5110008], 'type': 'Point'},\n",
       " {'coordinates': [-113.5383797, 53.5105823], 'type': 'Point'},\n",
       " {'coordinates': [-113.5383784, 53.510335], 'type': 'Point'},\n",
       " {'coordinates': [-113.5381348, 53.5087124], 'type': 'Point'},\n",
       " {'coordinates': [-113.5382258, 53.5083433], 'type': 'Point'},\n",
       " {'coordinates': [-113.5388642, 53.5073483], 'type': 'Point'},\n",
       " {'coordinates': [-113.5394884, 53.5063586], 'type': 'Point'},\n",
       " {'coordinates': [-113.5296952, 53.516049], 'type': 'Point'},\n",
       " {'coordinates': [-113.525705, 53.5141391], 'type': 'Point'},\n",
       " {'coordinates': [-113.5288379, 53.5103684], 'type': 'Point'},\n",
       " {'coordinates': [-113.5288415, 53.511309], 'type': 'Point'},\n",
       " {'coordinates': [-113.5385439, 53.507906], 'type': 'Point'},\n",
       " {'coordinates': [-113.5260057, 53.5078783], 'type': 'Point'},\n",
       " {'coordinates': [-113.5265252, 53.5160759], 'type': 'Point'},\n",
       " {'coordinates': [-113.5288352, 53.5151092], 'type': 'Point'},\n",
       " {'coordinates': [-113.5120464, 53.5094227], 'type': 'Point'},\n",
       " {'coordinates': [-113.5093541, 53.5094205], 'type': 'Point'},\n",
       " {'coordinates': [-113.5120477, 53.510377], 'type': 'Point'},\n",
       " {'coordinates': [-113.5120274, 53.5005594], 'type': 'Point'},\n",
       " {'coordinates': [-113.5092489, 53.498126], 'type': 'Point'},\n",
       " {'coordinates': [-113.5319142, 53.5310074], 'type': 'Point'},\n",
       " {'coordinates': [-113.5324292, 53.5311503], 'type': 'Point'},\n",
       " {'coordinates': [-113.5328068, 53.531339], 'type': 'Point'},\n",
       " {'coordinates': [-113.5336185, 53.531788], 'type': 'Point'},\n",
       " {'coordinates': [-113.5343554, 53.5320655], 'type': 'Point'},\n",
       " {'coordinates': [-113.5359667, 53.5322476], 'type': 'Point'},\n",
       " {'coordinates': [-113.5397829, 53.5334387], 'type': 'Point'},\n",
       " {'coordinates': [-113.5367112, 53.5322238], 'type': 'Point'},\n",
       " {'coordinates': [-113.5178578, 53.5171025], 'type': 'Point'},\n",
       " {'coordinates': [-113.5120564, 53.5171025], 'type': 'Point'},\n",
       " {'coordinates': [-113.5093711, 53.51711], 'type': 'Point'},\n",
       " {'coordinates': [-113.5035073, 53.517096], 'type': 'Point'},\n",
       " {'coordinates': [-113.5004569, 53.5170887], 'type': 'Point'},\n",
       " {'coordinates': [-113.4976228, 53.5170819], 'type': 'Point'},\n",
       " {'coordinates': [-113.4947935, 53.5170747], 'type': 'Point'},\n",
       " {'coordinates': [-113.5178584, 53.5161668], 'type': 'Point'},\n",
       " {'coordinates': [-113.5120551, 53.5161571], 'type': 'Point'},\n",
       " {'coordinates': [-113.5035111, 53.5161428], 'type': 'Point'},\n",
       " {'coordinates': [-113.4976372, 53.5161349], 'type': 'Point'},\n",
       " {'coordinates': [-113.4946405, 53.5161282], 'type': 'Point'},\n",
       " {'coordinates': [-113.5120534, 53.5152102], 'type': 'Point'},\n",
       " ...]"
      ]
     },
     "execution_count": 303,
     "metadata": {},
     "output_type": "execute_result"
    }
   ],
   "source": [
    "b1.map(create_point).pluck('attr').pluck('point').compute()"
   ]
  },
  {
   "cell_type": "code",
   "execution_count": 304,
   "metadata": {},
   "outputs": [
    {
     "data": {
      "text/plain": [
       "54.0648713"
      ]
     },
     "execution_count": 304,
     "metadata": {},
     "output_type": "execute_result"
    }
   ],
   "source": [
    "b1.map(create_point).pluck('attr').pluck('point').pluck('coordinates').pluck(1).max().compute()"
   ]
  },
  {
   "cell_type": "code",
   "execution_count": 305,
   "metadata": {},
   "outputs": [
    {
     "data": {
      "text/plain": [
       "53.3956445"
      ]
     },
     "execution_count": 305,
     "metadata": {},
     "output_type": "execute_result"
    }
   ],
   "source": [
    "b1.map(create_point).pluck('attr').pluck('point').pluck('coordinates').pluck(1).min().compute()"
   ]
  },
  {
   "cell_type": "code",
   "execution_count": 306,
   "metadata": {},
   "outputs": [
    {
     "data": {
      "text/plain": [
       "-112.0370555"
      ]
     },
     "execution_count": 306,
     "metadata": {},
     "output_type": "execute_result"
    }
   ],
   "source": [
    "b1.map(create_point).pluck('attr').pluck('point').pluck('coordinates').pluck(0).max().compute()"
   ]
  },
  {
   "cell_type": "code",
   "execution_count": 307,
   "metadata": {},
   "outputs": [
    {
     "data": {
      "text/plain": [
       "-113.6586842"
      ]
     },
     "execution_count": 307,
     "metadata": {},
     "output_type": "execute_result"
    }
   ],
   "source": [
    "b1.map(create_point).pluck('attr').pluck('point').pluck('coordinates').pluck(0).min().compute()"
   ]
  },
  {
   "cell_type": "markdown",
   "metadata": {},
   "source": [
    "## Create bag of json strings and write to disk"
   ]
  },
  {
   "cell_type": "code",
   "execution_count": 309,
   "metadata": {
    "collapsed": true,
    "run_control": {
     "marked": false
    }
   },
   "outputs": [],
   "source": [
    "clean_b = b1.map(fix_postal_codes).map(fix_city).map(fix_province).map(create_point).map(json.dumps)"
   ]
  },
  {
   "cell_type": "code",
   "execution_count": 310,
   "metadata": {
    "run_control": {
     "marked": false
    }
   },
   "outputs": [
    {
     "data": {
      "text/plain": [
       "('{\"type\": \"node\", \"attr\": {\"changeset\": \"43379308\", \"id\": \"29811182\", \"lat\": \"53.5354110\", \"lon\": \"-113.5079960\", \"timestamp\": \"2016-11-03T14:01:28Z\", \"uid\": \"1943392\", \"user\": \"LogicalViolinist\", \"version\": \"27\", \"point\": {\"type\": \"Point\", \"coordinates\": [-113.507996, 53.535411]}}, \"tag\": {\"admin_level\": \"8\", \"capital\": \"4\", \"ele\": \"645\", \"is_in\": {\"root\": \"Alberta; Canada\", \"continent\": \"North America\", \"country\": \"Canada\", \"country_code\": \"CA\", \"iso_3166_2\": \"CA-AB\", \"state\": \"Alberta\", \"state_code\": \"AB\"}, \"name\": {\"root\": \"Edmonton\", \"ar\": \"\\\\u0625\\\\u062f\\\\u0645\\\\u0648\\\\u0646\\\\u062a\\\\u0648\\\\u0646\", \"de\": \"Edmonton\", \"en\": \"Edmonton\", \"fr\": \"Edmonton\", \"ru\": \"\\\\u042d\\\\u0434\\\\u043c\\\\u043e\\\\u043d\\\\u0442\\\\u043e\\\\u043d\", \"uk\": \"\\\\u0415\\\\u0434\\\\u043c\\\\u043e\\\\u043d\\\\u0442\\\\u043e\\\\u043d\"}, \"place\": \"city\", \"population\": \"812201\", \"state_capital\": \"yes\", \"wikidata\": \"Q2096\", \"wikipedia\": \"en:Edmonton\"}}',)"
      ]
     },
     "execution_count": 310,
     "metadata": {},
     "output_type": "execute_result"
    }
   ],
   "source": [
    "clean_b.take(1)"
   ]
  },
  {
   "cell_type": "code",
   "execution_count": 311,
   "metadata": {},
   "outputs": [],
   "source": [
    "# write bag to disk\n",
    "clean_b.to_textfiles('clean-*.json')"
   ]
  },
  {
   "cell_type": "code",
   "execution_count": 312,
   "metadata": {
    "run_control": {
     "marked": false
    }
   },
   "outputs": [
    {
     "name": "stdout",
     "output_type": "stream",
     "text": [
      "-rw-r--r--@ 1 josephmann  staff    15M 30 Jul 16:07 clean-0.json\r\n",
      "-rw-r--r--@ 1 josephmann  staff    18M 30 Jul 16:07 clean-1.json\r\n",
      "-rw-r--r--@ 1 josephmann  staff    18M 30 Jul 16:07 clean-2.json\r\n",
      "-rw-r--r--@ 1 josephmann  staff    18M 30 Jul 16:07 clean-3.json\r\n",
      "-rw-r--r--@ 1 josephmann  staff    18M 30 Jul 16:07 clean-4.json\r\n",
      "-rw-r--r--@ 1 josephmann  staff    17M 30 Jul 16:07 clean-5.json\r\n",
      "-rw-r--r--@ 1 josephmann  staff   7.0M 30 Jul 16:07 clean-6.json\r\n",
      "-rw-r--r--@ 1 josephmann  staff   6.4M 30 Jul 16:07 clean-7.json\r\n"
     ]
    }
   ],
   "source": [
    "!ls -lh clean-*.json"
   ]
  },
  {
   "cell_type": "markdown",
   "metadata": {
    "run_control": {
     "marked": false
    }
   },
   "source": [
    "## Amenity frequencies"
   ]
  },
  {
   "cell_type": "code",
   "execution_count": 202,
   "metadata": {
    "cell_style": "split",
    "run_control": {
     "marked": false
    }
   },
   "outputs": [
    {
     "data": {
      "text/plain": [
       "[('parking', 521),\n",
       " ('restaurant', 168),\n",
       " ('fast_food', 129),\n",
       " ('cafe', 84),\n",
       " ('bicycle_parking', 64),\n",
       " ('bench', 60),\n",
       " ('school', 54),\n",
       " ('bank', 36),\n",
       " ('fuel', 36),\n",
       " ('place_of_worship', 36)]"
      ]
     },
     "execution_count": 202,
     "metadata": {},
     "output_type": "execute_result"
    }
   ],
   "source": [
    "top_value_freqs('tag.amenity', n=10).compute()"
   ]
  },
  {
   "cell_type": "code",
   "execution_count": 203,
   "metadata": {
    "run_control": {
     "marked": false
    }
   },
   "outputs": [
    {
     "data": {
      "text/plain": [
       "[{'en': 'Viphalay', 'root': 'Vidaley'},\n",
       " {'en': 'Maxs', 'root': 'Maxs'},\n",
       " {'fr': '爱民顿', 'root': '爱民顿'}]"
      ]
     },
     "execution_count": 203,
     "metadata": {},
     "output_type": "execute_result"
    }
   ],
   "source": [
    "b1.filter(lambda d: jp.search(\n",
    "        \"tag.amenity\",d) == 'restaurant').pluck(\n",
    "    'tag').pluck(\n",
    "    'name','Nameless').filter(lambda d: isinstance(d, dict)).compute()"
   ]
  },
  {
   "cell_type": "code",
   "execution_count": 204,
   "metadata": {
    "run_control": {
     "marked": false
    }
   },
   "outputs": [
    {
     "data": {
      "text/plain": [
       "[('Nameless', 8),\n",
       " ('Boston Pizza', 5),\n",
       " (\"Ricky's All Day Grill\", 2),\n",
       " (\"Tony Roma's\", 2),\n",
       " ('Urban Diner', 2),\n",
       " (\"Ruth's Chris Steakhouse\", 2),\n",
       " ('Chop Steakhouse', 2),\n",
       " ('Urban China', 1),\n",
       " (\"Humpty's Family Restaurant\", 1),\n",
       " (\"Moxie's\", 1)]"
      ]
     },
     "execution_count": 204,
     "metadata": {},
     "output_type": "execute_result"
    }
   ],
   "source": [
    "b1.filter(lambda d: jp.search(\"tag.amenity\", d) == 'restaurant').pluck(\n",
    "    'tag', 'NoTag').pluck(\n",
    "    'name', 'Nameless').map(lambda d: d.get('root', 'NoRoot') if isinstance(d, dict) else d).frequencies().topk(10, lambda t: t[1]).compute()"
   ]
  },
  {
   "cell_type": "code",
   "execution_count": 205,
   "metadata": {
    "run_control": {
     "marked": false
    }
   },
   "outputs": [
    {
     "data": {
      "text/plain": [
       "['Urban China',\n",
       " \"Humpty's Family Restaurant\",\n",
       " \"Moxie's\",\n",
       " \"Ricky's All Day Grill\",\n",
       " \"Chandler's The Tea Shoppe\",\n",
       " \"Kamil's Turkish Cafe & Restaurant\",\n",
       " 'Lee Garden',\n",
       " \"Tony Roma's\",\n",
       " 'Nha Trang Vietnamese Restaurant',\n",
       " 'Pho Hoan Pasteur Fusion Noodle House',\n",
       " 'Blue Plate Diner',\n",
       " 'Mikado',\n",
       " 'Delux Burger Bar',\n",
       " \"That's Aroma! A Garlic Restaurant\",\n",
       " \"Vi's for Pies\",\n",
       " 'C&S Seafood Restaurant',\n",
       " 'Century Palace Restaurant',\n",
       " 'Double Happiness',\n",
       " 'Mirama Dining & Lounge',\n",
       " 'El Rancho',\n",
       " 'Trang Tien',\n",
       " 'Mucho Burrito',\n",
       " 'High Level Diner',\n",
       " 'RedBike',\n",
       " 'All Happy Family Restaurant',\n",
       " 'Kyoto Japanese Cuisine',\n",
       " 'Phơbulous',\n",
       " 'Royal Pizza',\n",
       " 'Pagolac Restaurant',\n",
       " \"Doan's\",\n",
       " 'Culina Restaurant',\n",
       " \"B's Diner\",\n",
       " 'Upper Crust Cafe & Caterers',\n",
       " 'New Asian Village',\n",
       " \"Bird's Nest of Beijing Restaurant\",\n",
       " \"Denny's\",\n",
       " \"Joey Tomato's\",\n",
       " 'Old Szechuan Restaurant',\n",
       " 'Vighalay Thai Laos',\n",
       " 'The Wokkery Restaurant',\n",
       " \"Uncle Albert's Family Restaurant\",\n",
       " 'Noodle Noodle Restaurant',\n",
       " 'Coliseum Steak Ribs & Pizza',\n",
       " 'Rendezvous Ethiopean Restaurant & Bar',\n",
       " 'India Village Restaurant',\n",
       " \"Von's Steakhouse & Bar\",\n",
       " \"O2's On Whyte\",\n",
       " 'Dadeo',\n",
       " 'Chianti',\n",
       " 'The Keg Steakhouse + Bar - Strathcona',\n",
       " 'The Pantry Restaurant',\n",
       " 'Botanica',\n",
       " 'Hardware Grill',\n",
       " 'Tacos La Mexicana',\n",
       " \"Tony's Pizza Palace\",\n",
       " 'Urban Diner',\n",
       " \"Smitty's\",\n",
       " 'Shades Bar & Grill',\n",
       " 'Elephant & Castle Restaurant',\n",
       " 'Old Spaghetti Factory',\n",
       " 'Kyoto',\n",
       " \"Ricky's All Day Grill\",\n",
       " 'Thanh Thanh Oriental Noodle House',\n",
       " 'Boston Pizza',\n",
       " 'Pho Huong Que',\n",
       " 'Pho King',\n",
       " 'Central Social Hall',\n",
       " 'Characters Fine Dining',\n",
       " 'Kings Noodle & Hot Pot Restaurant',\n",
       " 'Sapporo Sushi',\n",
       " 'West Steak House',\n",
       " 'Midnight Sun Restaurant',\n",
       " \"Leon's Wonton & Noodle\",\n",
       " 'Taipan Cafe',\n",
       " 'King Noodle House Pho Hoang',\n",
       " 'Hong Kong Bakery & Restaurant',\n",
       " 'Kabuki',\n",
       " 'Glenora Bistro',\n",
       " \"Matahari's\",\n",
       " 'Xu Hue',\n",
       " 'Route 99 Diner',\n",
       " 'Boston Pizza',\n",
       " 'Zinc Restaurant',\n",
       " 'Oil Lamp Eatery',\n",
       " 'Urban Diner',\n",
       " 'Fireside Bar and Grill',\n",
       " '1824 Pub',\n",
       " 'Quick Bite for Lunch',\n",
       " 'Szechuan Garden Restaurant',\n",
       " 'Bul Go Gi House',\n",
       " 'Steel Wheels Pizzeria',\n",
       " 'Razzleberries',\n",
       " 'The Free Press Bistro',\n",
       " 'Acajutla',\n",
       " 'Evoolution',\n",
       " 'Lit Wine Bar',\n",
       " 'Corso 32',\n",
       " 'Phat Noodle',\n",
       " 'Sai Woo Restaurant',\n",
       " 'Haandi',\n",
       " \"Tony Roma's\",\n",
       " 'Booster Juice',\n",
       " 'Earls',\n",
       " 'Syphay House',\n",
       " 'The Burg',\n",
       " 'Furosato Japanese Restaurant',\n",
       " {'en': 'Viphalay', 'root': 'Vidaley'},\n",
       " '__No_Name__',\n",
       " 'Cactus Club',\n",
       " 'NaanOLicious',\n",
       " 'Red Ox Inn',\n",
       " 'The Underground Tap & Grill',\n",
       " \"Delicious Pho'\",\n",
       " \"Gini's Restaurant\",\n",
       " 'Hundred Bar & Kitchen',\n",
       " 'Woodwork',\n",
       " 'Brickhouse',\n",
       " 'Arabia',\n",
       " 'Allegro',\n",
       " '__No_Name__',\n",
       " '__No_Name__',\n",
       " 'Meat',\n",
       " 'Packrat Louie',\n",
       " 'Three Boars Eatery',\n",
       " \"Ruth's Chris Steakhouse\",\n",
       " 'New Tan Restaurant',\n",
       " 'Massawe Cafe & Restaurant',\n",
       " 'Cafe Caribe',\n",
       " \"It's All Greek To Me\",\n",
       " 'Tres Carnales Taqueria',\n",
       " 'Chop Steakhouse',\n",
       " 'Tres Carnales',\n",
       " 'Chop Steakhouse',\n",
       " 'Hot Pot 97',\n",
       " 'LOVEPIZZA',\n",
       " \"Rigoletto's\",\n",
       " '3 Amigos',\n",
       " 'State & Main',\n",
       " \"Ruth's Chris Steakhouse\",\n",
       " 'MKT',\n",
       " 'Continental Treat',\n",
       " 'Ragazzi Bistro',\n",
       " {'en': 'Maxs', 'root': 'Maxs'},\n",
       " 'Farrow',\n",
       " 'Noorish Conscious Eatery',\n",
       " \"Plato's Pizza\",\n",
       " \"Original Joe's\",\n",
       " \"Grandin Fish 'n' Chips\",\n",
       " {'fr': '爱民顿', 'root': '爱民顿'},\n",
       " 'Hoang Long Casual Fare',\n",
       " '__No_Name__',\n",
       " 'Boston Pizza',\n",
       " 'Boston Pizza',\n",
       " 'Koutouki Taverna',\n",
       " 'The Dish & The Runaway Spoon',\n",
       " '__No_Name__',\n",
       " 'BLVD Nightlife',\n",
       " 'Little Caesar',\n",
       " 'Sawmill',\n",
       " 'Brewsters Brewing Company',\n",
       " '__No_Name__',\n",
       " '__No_Name__',\n",
       " '__No_Name__',\n",
       " 'Friends and Neighbours Cafe',\n",
       " 'Boston Pizza',\n",
       " \"Humpty's\",\n",
       " 'Padmanadi Vegetarian Restaurant',\n",
       " \"Sorrentino's Bistro Bar\"]"
      ]
     },
     "execution_count": 205,
     "metadata": {},
     "output_type": "execute_result"
    }
   ],
   "source": [
    "b1.filter(lambda d: jp.search(\"tag.amenity\",d) == 'restaurant').pluck(\n",
    "    'tag',default='NoTag').map(lambda d: d.get('name', \"__No_Name__\")).compute()"
   ]
  },
  {
   "cell_type": "code",
   "execution_count": 206,
   "metadata": {
    "run_control": {
     "marked": false
    }
   },
   "outputs": [
    {
     "data": {
      "text/plain": [
       "[('__No_Name__', 8),\n",
       " ('Boston Pizza', 5),\n",
       " (\"Ricky's All Day Grill\", 2),\n",
       " (\"Tony Roma's\", 2),\n",
       " ('Urban Diner', 2),\n",
       " (\"Ruth's Chris Steakhouse\", 2),\n",
       " ('Chop Steakhouse', 2),\n",
       " ('Urban China', 1),\n",
       " (\"Humpty's Family Restaurant\", 1),\n",
       " (\"Moxie's\", 1)]"
      ]
     },
     "execution_count": 206,
     "metadata": {},
     "output_type": "execute_result"
    }
   ],
   "source": [
    "b1.filter(lambda d: jp.search(\"tag.amenity\",d) == 'restaurant').pluck(\n",
    "    'tag',default='NoTag').pluck(\n",
    "    'name','__No_Name__').map(lambda d: d.get('root','__No_Root__') if isinstance(d, dict) else d).frequencies().topk(10, lambda t: t[1]).compute()"
   ]
  },
  {
   "cell_type": "code",
   "execution_count": 207,
   "metadata": {
    "run_control": {
     "marked": false
    }
   },
   "outputs": [
    {
     "data": {
      "text/plain": [
       "[('Second Cup', 10),\n",
       " ('Starbucks Coffee', 9),\n",
       " ('Starbucks', 6),\n",
       " ('Tim Hortons', 5),\n",
       " ('__No_Name__', 4),\n",
       " ('Transcend Coffee', 2),\n",
       " ('Orange Julius', 2),\n",
       " ('Good Earth', 2),\n",
       " (\"Jeffrey's Café & Wine Bar\", 1),\n",
       " ('The Second Cup', 1)]"
      ]
     },
     "execution_count": 207,
     "metadata": {},
     "output_type": "execute_result"
    }
   ],
   "source": [
    "b1.filter(lambda d: jp.search(\n",
    "        \"tag.amenity\",d) == 'cafe').pluck(\n",
    "    'tag').pluck(\n",
    "    'name','__No_Name__').map(lambda d: d['root'] if isinstance(d, dict) else d).frequencies().topk(10,lambda x:x[1]).compute()"
   ]
  },
  {
   "cell_type": "markdown",
   "metadata": {
    "collapsed": true,
    "run_control": {
     "marked": false
    }
   },
   "source": [
    "# Mongodb "
   ]
  },
  {
   "cell_type": "code",
   "execution_count": 208,
   "metadata": {},
   "outputs": [
    {
     "name": "stdout",
     "output_type": "stream",
     "text": [
      "-rw-r--r--@ 1 josephmann  staff    15M 30 Jul 11:31 clean-0.json\r\n",
      "-rw-r--r--@ 1 josephmann  staff    18M 30 Jul 11:31 clean-1.json\r\n",
      "-rw-r--r--@ 1 josephmann  staff    18M 30 Jul 11:31 clean-2.json\r\n",
      "-rw-r--r--@ 1 josephmann  staff    18M 30 Jul 11:31 clean-3.json\r\n",
      "-rw-r--r--@ 1 josephmann  staff    18M 30 Jul 11:31 clean-4.json\r\n",
      "-rw-r--r--@ 1 josephmann  staff    17M 30 Jul 11:31 clean-5.json\r\n",
      "-rw-r--r--@ 1 josephmann  staff   6.0M 30 Jul 11:31 clean-6.json\r\n",
      "-rw-r--r--@ 1 josephmann  staff   5.4M 30 Jul 11:31 clean-7.json\r\n"
     ]
    }
   ],
   "source": [
    "!ls -lh clean-?.json\n"
   ]
  },
  {
   "cell_type": "code",
   "execution_count": 209,
   "metadata": {
    "collapsed": true,
    "run_control": {
     "marked": false
    }
   },
   "outputs": [],
   "source": [
    "client = MongoClient('localhost:27017')\n",
    "mdb = client['examples']"
   ]
  },
  {
   "cell_type": "code",
   "execution_count": 210,
   "metadata": {
    "run_control": {
     "marked": false
    }
   },
   "outputs": [],
   "source": [
    "mdb.p33.drop()"
   ]
  },
  {
   "cell_type": "code",
   "execution_count": 211,
   "metadata": {
    "run_control": {
     "marked": false
    }
   },
   "outputs": [
    {
     "name": "stderr",
     "output_type": "stream",
     "text": [
      "2017-07-30T11:32:44.241-0600\tconnected to: localhost\n",
      "2017-07-30T11:32:45.380-0600\timported 49671 documents\n",
      "2017-07-30T11:32:45.404-0600\tconnected to: localhost\n",
      "2017-07-30T11:32:46.884-0600\timported 63131 documents\n",
      "2017-07-30T11:32:46.906-0600\tconnected to: localhost\n",
      "2017-07-30T11:32:48.195-0600\timported 62959 documents\n",
      "2017-07-30T11:32:48.225-0600\tconnected to: localhost\n",
      "2017-07-30T11:32:49.676-0600\timported 62938 documents\n",
      "2017-07-30T11:32:49.702-0600\tconnected to: localhost\n",
      "2017-07-30T11:32:50.977-0600\timported 62946 documents\n",
      "2017-07-30T11:32:51.000-0600\tconnected to: localhost\n",
      "2017-07-30T11:32:52.329-0600\timported 62906 documents\n",
      "2017-07-30T11:32:52.355-0600\tconnected to: localhost\n",
      "2017-07-30T11:32:52.803-0600\timported 29220 documents\n",
      "2017-07-30T11:32:52.825-0600\tconnected to: localhost\n",
      "2017-07-30T11:32:53.254-0600\timported 28450 documents\n"
     ]
    }
   ],
   "source": [
    "%%bash\n",
    "ls clean-?.json | while read col; do\n",
    "    mongoimport --db examples --collection p33 -j 8 --type json --file $col;\n",
    "done"
   ]
  },
  {
   "cell_type": "code",
   "execution_count": 212,
   "metadata": {
    "run_control": {
     "marked": false
    }
   },
   "outputs": [
    {
     "data": {
      "text/plain": [
       "422221"
      ]
     },
     "execution_count": 212,
     "metadata": {},
     "output_type": "execute_result"
    }
   ],
   "source": [
    "mdb.p33.count({})"
   ]
  },
  {
   "cell_type": "code",
   "execution_count": 98,
   "metadata": {
    "run_control": {
     "marked": false
    }
   },
   "outputs": [],
   "source": [
    "# list(mdb.p33.find({\"tag.landuse\": {\"$exists\": 1}},{\"tag.landuse\": 1,'_id':0}))\n"
   ]
  },
  {
   "cell_type": "code",
   "execution_count": 213,
   "metadata": {
    "run_control": {
     "marked": false
    }
   },
   "outputs": [
    {
     "data": {
      "text/plain": [
       "[{'_id': None, 'count': 421235},\n",
       " {'_id': 'residential', 'count': 560},\n",
       " {'_id': 'grass', 'count': 179},\n",
       " {'_id': 'retail', 'count': 127},\n",
       " {'_id': 'commercial', 'count': 59},\n",
       " {'_id': 'forest', 'count': 14},\n",
       " {'_id': 'recreation_ground', 'count': 14},\n",
       " {'_id': 'construction', 'count': 9},\n",
       " {'_id': 'industrial', 'count': 4},\n",
       " {'_id': 'basin', 'count': 3},\n",
       " {'_id': 'cemetery', 'count': 3},\n",
       " {'_id': 'reservoir', 'count': 3},\n",
       " {'_id': 'traffic_island', 'count': 2},\n",
       " {'_id': 'allotments', 'count': 2},\n",
       " {'_id': 'military', 'count': 2},\n",
       " {'_id': 'brownfield', 'count': 1},\n",
       " {'_id': 'public', 'count': 1},\n",
       " {'_id': 'mixed', 'count': 1},\n",
       " {'_id': 'publicllotmentsllotments', 'count': 1},\n",
       " {'_id': 'quarry', 'count': 1}]"
      ]
     },
     "execution_count": 213,
     "metadata": {},
     "output_type": "execute_result"
    }
   ],
   "source": [
    "list(\n",
    "    mdb.p33.aggregate([{\n",
    "        \"$sortByCount\": \"$tag.landuse\"\n",
    "    }, {\n",
    "        \"$limit\": 30\n",
    "    }]))"
   ]
  },
  {
   "cell_type": "code",
   "execution_count": 214,
   "metadata": {
    "run_control": {
     "marked": false
    }
   },
   "outputs": [
    {
     "data": {
      "text/plain": [
       "[{'_id': '', 'count': 421869},\n",
       " {'_id': 'T5J', 'count': 95},\n",
       " {'_id': 'T6E', 'count': 46},\n",
       " {'_id': 'T6G', 'count': 41},\n",
       " {'_id': 'T5M', 'count': 40},\n",
       " {'_id': 'T5N', 'count': 40},\n",
       " {'_id': 'T6C', 'count': 24},\n",
       " {'_id': 'T5H', 'count': 21},\n",
       " {'_id': 'T5K', 'count': 20},\n",
       " {'_id': 'T5G', 'count': 11},\n",
       " {'_id': 'T6A', 'count': 4},\n",
       " {'_id': 'T5R', 'count': 3},\n",
       " {'_id': 'T5B', 'count': 2},\n",
       " {'_id': 'T6Z', 'count': 1},\n",
       " {'_id': 'T6J', 'count': 1},\n",
       " {'_id': 'T5L', 'count': 1},\n",
       " {'_id': 'T5C', 'count': 1},\n",
       " {'_id': 'T6K', 'count': 1}]"
      ]
     },
     "execution_count": 214,
     "metadata": {},
     "output_type": "execute_result"
    }
   ],
   "source": [
    "list(\n",
    "    mdb.p33.aggregate([{\n",
    "        \"$sortByCount\": { \"$substrBytes\": [\"$tag.addr.postcode\", 0, 3]}\n",
    "    }, {\n",
    "        \"$limit\": 30\n",
    "    }]))"
   ]
  },
  {
   "cell_type": "code",
   "execution_count": 215,
   "metadata": {
    "run_control": {
     "marked": false
    }
   },
   "outputs": [
    {
     "data": {
      "text/plain": [
       "[{'_id': {'landuse': 'grass'}, 'count': 72},\n",
       " {'_id': {'golf': 'fairway', 'landuse': 'grass'}, 'count': 39},\n",
       " {'_id': {'golf': 'tee', 'landuse': 'grass'}, 'count': 18},\n",
       " {'_id': {'landuse': 'grass', 'type': 'multipolygon'}, 'count': 8},\n",
       " {'_id': {'landuse': 'forest', 'leaf_cycle': 'mixed', 'leaf_type': 'mixed'},\n",
       "  'count': 7},\n",
       " {'_id': {'landuse': 'recreation_ground'}, 'count': 6},\n",
       " {'_id': {'landuse': 'forest'}, 'count': 4},\n",
       " {'_id': {'area': 'yes', 'landuse': 'grass'}, 'count': 3},\n",
       " {'_id': {'golf': 'green',\n",
       "   'landuse': 'grass',\n",
       "   'leisure': 'pitch',\n",
       "   'name': '15',\n",
       "   'sport': 'golf'},\n",
       "  'count': 2},\n",
       " {'_id': {'golf': 'green',\n",
       "   'landuse': 'grass',\n",
       "   'leisure': 'pitch',\n",
       "   'name': '5',\n",
       "   'sport': 'golf'},\n",
       "  'count': 2},\n",
       " {'_id': {'golf': 'green',\n",
       "   'landuse': 'grass',\n",
       "   'leisure': 'pitch',\n",
       "   'name': '12',\n",
       "   'sport': 'golf'},\n",
       "  'count': 2},\n",
       " {'_id': {'golf': 'green',\n",
       "   'landuse': 'grass',\n",
       "   'leisure': 'pitch',\n",
       "   'name': '17',\n",
       "   'sport': 'golf'},\n",
       "  'count': 2},\n",
       " {'_id': {'golf': 'green',\n",
       "   'landuse': 'grass',\n",
       "   'leisure': 'pitch',\n",
       "   'name': '4',\n",
       "   'sport': 'golf'},\n",
       "  'count': 2},\n",
       " {'_id': {'golf': 'green',\n",
       "   'landuse': 'grass',\n",
       "   'leisure': 'pitch',\n",
       "   'name': '14',\n",
       "   'sport': 'golf'},\n",
       "  'count': 2},\n",
       " {'_id': {'golf': 'green',\n",
       "   'landuse': 'grass',\n",
       "   'leisure': 'pitch',\n",
       "   'name': '11',\n",
       "   'sport': 'golf'},\n",
       "  'count': 2},\n",
       " {'_id': {'golf': 'green',\n",
       "   'landuse': 'grass',\n",
       "   'leisure': 'pitch',\n",
       "   'name': '13',\n",
       "   'sport': 'golf'},\n",
       "  'count': 2},\n",
       " {'_id': {'golf': 'green',\n",
       "   'landuse': 'grass',\n",
       "   'leisure': 'pitch',\n",
       "   'name': '3',\n",
       "   'sport': 'golf'},\n",
       "  'count': 2},\n",
       " {'_id': {'landcover': 'trees',\n",
       "   'landuse': 'forest',\n",
       "   'leaf_cycle': 'mixed',\n",
       "   'leaf_type': 'mixed'},\n",
       "  'count': 2},\n",
       " {'_id': {'golf': 'green',\n",
       "   'landuse': 'grass',\n",
       "   'leisure': 'pitch',\n",
       "   'name': '2',\n",
       "   'sport': 'golf'},\n",
       "  'count': 2},\n",
       " {'_id': {'golf': 'green',\n",
       "   'landuse': 'grass',\n",
       "   'leisure': 'pitch',\n",
       "   'name': '10',\n",
       "   'sport': 'golf'},\n",
       "  'count': 2},\n",
       " {'_id': {'golf': 'green',\n",
       "   'landuse': 'grass',\n",
       "   'leisure': 'pitch',\n",
       "   'sport': 'golf'},\n",
       "  'count': 2},\n",
       " {'_id': {'golf': 'green',\n",
       "   'landuse': 'grass',\n",
       "   'leisure': 'pitch',\n",
       "   'name': '18',\n",
       "   'sport': 'golf'},\n",
       "  'count': 2},\n",
       " {'_id': {'golf': 'green',\n",
       "   'landuse': 'grass',\n",
       "   'leisure': 'pitch',\n",
       "   'name': '7',\n",
       "   'sport': 'golf'},\n",
       "  'count': 2},\n",
       " {'_id': {'golf': 'green',\n",
       "   'landuse': 'grass',\n",
       "   'leisure': 'pitch',\n",
       "   'name': '6',\n",
       "   'sport': 'golf'},\n",
       "  'count': 2},\n",
       " {'_id': {'golf': 'green',\n",
       "   'landuse': 'grass',\n",
       "   'leisure': 'pitch',\n",
       "   'name': '1',\n",
       "   'sport': 'golf'},\n",
       "  'count': 2},\n",
       " {'_id': {'golf': 'green',\n",
       "   'landuse': 'grass',\n",
       "   'leisure': 'pitch',\n",
       "   'name': '9',\n",
       "   'sport': 'golf'},\n",
       "  'count': 2},\n",
       " {'_id': {'golf': 'green',\n",
       "   'landuse': 'grass',\n",
       "   'leisure': 'pitch',\n",
       "   'name': '16',\n",
       "   'sport': 'golf'},\n",
       "  'count': 2},\n",
       " {'_id': {'golf': 'green',\n",
       "   'landuse': 'grass',\n",
       "   'leisure': 'pitch',\n",
       "   'name': '8',\n",
       "   'sport': 'golf'},\n",
       "  'count': 2},\n",
       " {'_id': {'landuse': 'recreation_ground',\n",
       "   'name': 'Joe Clarke Athletic Grounds'},\n",
       "  'count': 1},\n",
       " {'_id': {'landuse': 'recreation_ground', 'name': 'Airways Park'}, 'count': 1}]"
      ]
     },
     "execution_count": 215,
     "metadata": {},
     "output_type": "execute_result"
    }
   ],
   "source": [
    "list(\n",
    "    mdb.p33.aggregate([{\n",
    "        \"$match\": {\n",
    "            \"tag.landuse\": {\n",
    "                \"$in\": [\"grass\", \"forest\", \"recreation_ground\"]\n",
    "            }\n",
    "        }\n",
    "    }, {\n",
    "        \"$sortByCount\": \"$tag\"\n",
    "    }, {\n",
    "        \"$limit\": 30\n",
    "    }]))"
   ]
  },
  {
   "cell_type": "code",
   "execution_count": 216,
   "metadata": {
    "run_control": {
     "marked": false
    }
   },
   "outputs": [
    {
     "data": {
      "text/plain": [
       "[{'_id': 'jdkrabbe', 'count': 95},\n",
       " {'_id': 'yegbin', 'count': 60},\n",
       " {'_id': 'yoltia', 'count': 12},\n",
       " {'_id': 'Mesowhite', 'count': 7},\n",
       " {'_id': 'Moham837', 'count': 4},\n",
       " {'_id': 'Maarten Deen', 'count': 1}]"
      ]
     },
     "execution_count": 216,
     "metadata": {},
     "output_type": "execute_result"
    }
   ],
   "source": [
    "list(\n",
    "    mdb.p33.aggregate([ {\"$match\": {\"tag.landuse\": \"grass\"}},  \n",
    "                       {\"$sortByCount\" : \"$attr.user\"},\n",
    "        {\"$limit\": 30}\n",
    "    ]))"
   ]
  },
  {
   "cell_type": "code",
   "execution_count": 217,
   "metadata": {
    "collapsed": true,
    "run_control": {
     "marked": false
    }
   },
   "outputs": [],
   "source": [
    "# how do I get the number of green spaces sorted by postal code?\n",
    "\n",
    "r =     mdb.p33.aggregate([\n",
    "        # filter entries to those containing postcodes\n",
    "        {\"$match\" : {\"tag.addr.postcode\": {\"$exists\" : 1}}},\n",
    "        \n",
    "        # group on user and postcode\n",
    "        {\"$group\" : {\n",
    "            \"_id\" : {\"user\": \"$attr.user\",\"postcode\" : {\"$substrBytes\": [\"$tag.addr.postcode\", 0, 3]}\n",
    "                     },\n",
    "            \"count\" : {\"$sum\" : 1}\n",
    "            \n",
    "        }},\n",
    "        # flatten output\n",
    "        {\"$project\" : {\"user\": \"$_id.user\", \"postcode\": \"$_id.postcode\", \"count\":1, \"_id\":0}},\n",
    "        # sort by count descending\n",
    "        {\"$sort\": {\"count\": -1} },\n",
    "        # limit output to 20 items\n",
    "        {\"$limit\": 20}\n",
    "    ])\n",
    "\n",
    "_df = pd.DataFrame.from_records(r)"
   ]
  },
  {
   "cell_type": "code",
   "execution_count": 218,
   "metadata": {},
   "outputs": [
    {
     "data": {
      "text/html": [
       "<div>\n",
       "<style>\n",
       "    .dataframe thead tr:only-child th {\n",
       "        text-align: right;\n",
       "    }\n",
       "\n",
       "    .dataframe thead th {\n",
       "        text-align: left;\n",
       "    }\n",
       "\n",
       "    .dataframe tbody tr th {\n",
       "        vertical-align: top;\n",
       "    }\n",
       "</style>\n",
       "<table border=\"1\" class=\"dataframe\">\n",
       "  <thead>\n",
       "    <tr style=\"text-align: right;\">\n",
       "      <th></th>\n",
       "      <th>count</th>\n",
       "      <th>postcode</th>\n",
       "      <th>user</th>\n",
       "    </tr>\n",
       "  </thead>\n",
       "  <tbody>\n",
       "    <tr>\n",
       "      <th>0</th>\n",
       "      <td>62</td>\n",
       "      <td>T5J</td>\n",
       "      <td>Mesowhite</td>\n",
       "    </tr>\n",
       "    <tr>\n",
       "      <th>1</th>\n",
       "      <td>27</td>\n",
       "      <td>T5M</td>\n",
       "      <td>ptrchpmn</td>\n",
       "    </tr>\n",
       "    <tr>\n",
       "      <th>2</th>\n",
       "      <td>17</td>\n",
       "      <td>T6E</td>\n",
       "      <td>yegbin</td>\n",
       "    </tr>\n",
       "    <tr>\n",
       "      <th>3</th>\n",
       "      <td>13</td>\n",
       "      <td>T6C</td>\n",
       "      <td>yegbin</td>\n",
       "    </tr>\n",
       "    <tr>\n",
       "      <th>4</th>\n",
       "      <td>11</td>\n",
       "      <td>T5N</td>\n",
       "      <td>ptrchpmn</td>\n",
       "    </tr>\n",
       "    <tr>\n",
       "      <th>5</th>\n",
       "      <td>11</td>\n",
       "      <td>T5N</td>\n",
       "      <td>edmontongeo</td>\n",
       "    </tr>\n",
       "    <tr>\n",
       "      <th>6</th>\n",
       "      <td>11</td>\n",
       "      <td>T6E</td>\n",
       "      <td>Mesowhite</td>\n",
       "    </tr>\n",
       "    <tr>\n",
       "      <th>7</th>\n",
       "      <td>10</td>\n",
       "      <td>T6G</td>\n",
       "      <td>yegbin</td>\n",
       "    </tr>\n",
       "    <tr>\n",
       "      <th>8</th>\n",
       "      <td>10</td>\n",
       "      <td>T6G</td>\n",
       "      <td>Mesowhite</td>\n",
       "    </tr>\n",
       "    <tr>\n",
       "      <th>9</th>\n",
       "      <td>10</td>\n",
       "      <td>T5J</td>\n",
       "      <td>Yottabyte</td>\n",
       "    </tr>\n",
       "    <tr>\n",
       "      <th>10</th>\n",
       "      <td>9</td>\n",
       "      <td>T5N</td>\n",
       "      <td>TristanA</td>\n",
       "    </tr>\n",
       "    <tr>\n",
       "      <th>11</th>\n",
       "      <td>9</td>\n",
       "      <td>T5K</td>\n",
       "      <td>Mesowhite</td>\n",
       "    </tr>\n",
       "    <tr>\n",
       "      <th>12</th>\n",
       "      <td>7</td>\n",
       "      <td>T5M</td>\n",
       "      <td>edmontongeo</td>\n",
       "    </tr>\n",
       "    <tr>\n",
       "      <th>13</th>\n",
       "      <td>6</td>\n",
       "      <td>T6G</td>\n",
       "      <td>ptrchpmn</td>\n",
       "    </tr>\n",
       "    <tr>\n",
       "      <th>14</th>\n",
       "      <td>5</td>\n",
       "      <td>T5J</td>\n",
       "      <td>ionutr_telenav</td>\n",
       "    </tr>\n",
       "    <tr>\n",
       "      <th>15</th>\n",
       "      <td>5</td>\n",
       "      <td>T6C</td>\n",
       "      <td>Mesowhite</td>\n",
       "    </tr>\n",
       "    <tr>\n",
       "      <th>16</th>\n",
       "      <td>5</td>\n",
       "      <td>T5H</td>\n",
       "      <td>Mesowhite</td>\n",
       "    </tr>\n",
       "    <tr>\n",
       "      <th>17</th>\n",
       "      <td>4</td>\n",
       "      <td>T5H</td>\n",
       "      <td>edmontongeo</td>\n",
       "    </tr>\n",
       "    <tr>\n",
       "      <th>18</th>\n",
       "      <td>4</td>\n",
       "      <td>T6G</td>\n",
       "      <td>Yottabyte</td>\n",
       "    </tr>\n",
       "    <tr>\n",
       "      <th>19</th>\n",
       "      <td>4</td>\n",
       "      <td>T6E</td>\n",
       "      <td>edmontongeo</td>\n",
       "    </tr>\n",
       "  </tbody>\n",
       "</table>\n",
       "</div>"
      ],
      "text/plain": [
       "    count postcode            user\n",
       "0      62      T5J       Mesowhite\n",
       "1      27      T5M        ptrchpmn\n",
       "2      17      T6E          yegbin\n",
       "3      13      T6C          yegbin\n",
       "4      11      T5N        ptrchpmn\n",
       "5      11      T5N     edmontongeo\n",
       "6      11      T6E       Mesowhite\n",
       "7      10      T6G          yegbin\n",
       "8      10      T6G       Mesowhite\n",
       "9      10      T5J       Yottabyte\n",
       "10      9      T5N        TristanA\n",
       "11      9      T5K       Mesowhite\n",
       "12      7      T5M     edmontongeo\n",
       "13      6      T6G        ptrchpmn\n",
       "14      5      T5J  ionutr_telenav\n",
       "15      5      T6C       Mesowhite\n",
       "16      5      T5H       Mesowhite\n",
       "17      4      T5H     edmontongeo\n",
       "18      4      T6G       Yottabyte\n",
       "19      4      T6E     edmontongeo"
      ]
     },
     "execution_count": 218,
     "metadata": {},
     "output_type": "execute_result"
    }
   ],
   "source": [
    "_df"
   ]
  },
  {
   "cell_type": "code",
   "execution_count": 219,
   "metadata": {
    "run_control": {
     "marked": false
    }
   },
   "outputs": [
    {
     "data": {
      "text/html": [
       "<div>\n",
       "<style>\n",
       "    .dataframe thead tr:only-child th {\n",
       "        text-align: right;\n",
       "    }\n",
       "\n",
       "    .dataframe thead th {\n",
       "        text-align: left;\n",
       "    }\n",
       "\n",
       "    .dataframe tbody tr th {\n",
       "        vertical-align: top;\n",
       "    }\n",
       "</style>\n",
       "<table border=\"1\" class=\"dataframe\">\n",
       "  <thead>\n",
       "    <tr style=\"text-align: right;\">\n",
       "      <th></th>\n",
       "      <th>count</th>\n",
       "      <th>postcode</th>\n",
       "      <th>user</th>\n",
       "    </tr>\n",
       "  </thead>\n",
       "  <tbody>\n",
       "    <tr>\n",
       "      <th>0</th>\n",
       "      <td>62.0</td>\n",
       "      <td>T5J</td>\n",
       "      <td>Mesowhite</td>\n",
       "    </tr>\n",
       "    <tr>\n",
       "      <th>1</th>\n",
       "      <td>27.0</td>\n",
       "      <td>T5M</td>\n",
       "      <td>ptrchpmn</td>\n",
       "    </tr>\n",
       "    <tr>\n",
       "      <th>2</th>\n",
       "      <td>17.0</td>\n",
       "      <td>T6E</td>\n",
       "      <td>yegbin</td>\n",
       "    </tr>\n",
       "    <tr>\n",
       "      <th>3</th>\n",
       "      <td>13.0</td>\n",
       "      <td>T6C</td>\n",
       "      <td>yegbin</td>\n",
       "    </tr>\n",
       "    <tr>\n",
       "      <th>4</th>\n",
       "      <td>11.0</td>\n",
       "      <td>T5N</td>\n",
       "      <td>ptrchpmn</td>\n",
       "    </tr>\n",
       "    <tr>\n",
       "      <th>5</th>\n",
       "      <td>11.0</td>\n",
       "      <td>T5N</td>\n",
       "      <td>edmontongeo</td>\n",
       "    </tr>\n",
       "    <tr>\n",
       "      <th>6</th>\n",
       "      <td>11.0</td>\n",
       "      <td>T6E</td>\n",
       "      <td>Mesowhite</td>\n",
       "    </tr>\n",
       "    <tr>\n",
       "      <th>7</th>\n",
       "      <td>10.0</td>\n",
       "      <td>T6G</td>\n",
       "      <td>yegbin</td>\n",
       "    </tr>\n",
       "    <tr>\n",
       "      <th>8</th>\n",
       "      <td>10.0</td>\n",
       "      <td>T6G</td>\n",
       "      <td>Mesowhite</td>\n",
       "    </tr>\n",
       "    <tr>\n",
       "      <th>9</th>\n",
       "      <td>10.0</td>\n",
       "      <td>T5J</td>\n",
       "      <td>Yottabyte</td>\n",
       "    </tr>\n",
       "    <tr>\n",
       "      <th>10</th>\n",
       "      <td>9.0</td>\n",
       "      <td>T5N</td>\n",
       "      <td>TristanA</td>\n",
       "    </tr>\n",
       "    <tr>\n",
       "      <th>11</th>\n",
       "      <td>9.0</td>\n",
       "      <td>T5K</td>\n",
       "      <td>Mesowhite</td>\n",
       "    </tr>\n",
       "    <tr>\n",
       "      <th>12</th>\n",
       "      <td>7.0</td>\n",
       "      <td>T5M</td>\n",
       "      <td>edmontongeo</td>\n",
       "    </tr>\n",
       "    <tr>\n",
       "      <th>13</th>\n",
       "      <td>6.0</td>\n",
       "      <td>T6G</td>\n",
       "      <td>ptrchpmn</td>\n",
       "    </tr>\n",
       "    <tr>\n",
       "      <th>14</th>\n",
       "      <td>5.0</td>\n",
       "      <td>T5J</td>\n",
       "      <td>ionutr_telenav</td>\n",
       "    </tr>\n",
       "    <tr>\n",
       "      <th>15</th>\n",
       "      <td>5.0</td>\n",
       "      <td>T6C</td>\n",
       "      <td>Mesowhite</td>\n",
       "    </tr>\n",
       "    <tr>\n",
       "      <th>16</th>\n",
       "      <td>5.0</td>\n",
       "      <td>T5H</td>\n",
       "      <td>Mesowhite</td>\n",
       "    </tr>\n",
       "    <tr>\n",
       "      <th>17</th>\n",
       "      <td>4.0</td>\n",
       "      <td>T5H</td>\n",
       "      <td>edmontongeo</td>\n",
       "    </tr>\n",
       "    <tr>\n",
       "      <th>18</th>\n",
       "      <td>4.0</td>\n",
       "      <td>T6G</td>\n",
       "      <td>Yottabyte</td>\n",
       "    </tr>\n",
       "    <tr>\n",
       "      <th>19</th>\n",
       "      <td>4.0</td>\n",
       "      <td>T6E</td>\n",
       "      <td>edmontongeo</td>\n",
       "    </tr>\n",
       "    <tr>\n",
       "      <th>col_sum</th>\n",
       "      <td>240.0</td>\n",
       "      <td>NaN</td>\n",
       "      <td>NaN</td>\n",
       "    </tr>\n",
       "  </tbody>\n",
       "</table>\n",
       "</div>"
      ],
      "text/plain": [
       "         count postcode            user\n",
       "0         62.0      T5J       Mesowhite\n",
       "1         27.0      T5M        ptrchpmn\n",
       "2         17.0      T6E          yegbin\n",
       "3         13.0      T6C          yegbin\n",
       "4         11.0      T5N        ptrchpmn\n",
       "5         11.0      T5N     edmontongeo\n",
       "6         11.0      T6E       Mesowhite\n",
       "7         10.0      T6G          yegbin\n",
       "8         10.0      T6G       Mesowhite\n",
       "9         10.0      T5J       Yottabyte\n",
       "10         9.0      T5N        TristanA\n",
       "11         9.0      T5K       Mesowhite\n",
       "12         7.0      T5M     edmontongeo\n",
       "13         6.0      T6G        ptrchpmn\n",
       "14         5.0      T5J  ionutr_telenav\n",
       "15         5.0      T6C       Mesowhite\n",
       "16         5.0      T5H       Mesowhite\n",
       "17         4.0      T5H     edmontongeo\n",
       "18         4.0      T6G       Yottabyte\n",
       "19         4.0      T6E     edmontongeo\n",
       "col_sum  240.0      NaN             NaN"
      ]
     },
     "execution_count": 219,
     "metadata": {},
     "output_type": "execute_result"
    }
   ],
   "source": [
    "_s = _df.loc[:,['count']].sum().fillna('')\n",
    "_s.name = \"col_sum\"\n",
    "\n",
    "_df.append( _s )"
   ]
  },
  {
   "cell_type": "markdown",
   "metadata": {},
   "source": [
    "## mongodb indexing and geonear"
   ]
  },
  {
   "cell_type": "code",
   "execution_count": 313,
   "metadata": {},
   "outputs": [
    {
     "data": {
      "text/plain": [
       "'attr.point.coordinates_2d'"
      ]
     },
     "execution_count": 313,
     "metadata": {},
     "output_type": "execute_result"
    }
   ],
   "source": [
    "# , GEO2D\n",
    "# mdb.p33.create_index( ( 'attr.point' , \"2dsphere\")  )\n",
    "mdb.p33.create_index([( 'attr.point.coordinates', GEO2D)])\n",
    "# db.places.createIndex( { loc : \"2dsphere\" } )"
   ]
  },
  {
   "cell_type": "code",
   "execution_count": 314,
   "metadata": {},
   "outputs": [
    {
     "name": "stdout",
     "output_type": "stream",
     "text": [
      "{'_id': ObjectId('597e184423d1bdcb6b13e924'),\n",
      " 'attr': {'changeset': '37712677',\n",
      "          'id': '4051253340',\n",
      "          'lat': '53.9465480',\n",
      "          'lon': '-112.0370555',\n",
      "          'point': {'coordinates': [-112.0370555, 53.946548], 'type': 'Point'},\n",
      "          'timestamp': '2016-03-09T16:31:26Z',\n",
      "          'uid': '307202',\n",
      "          'user': 'alester',\n",
      "          'version': '1'},\n",
      " 'tag': {},\n",
      " 'type': 'node'}\n",
      "{'_id': ObjectId('597e184423d1bdcb6b13db84'),\n",
      " 'attr': {'changeset': '37712677',\n",
      "          'id': '4051253354',\n",
      "          'lat': '53.9466598',\n",
      "          'lon': '-112.0382955',\n",
      "          'point': {'coordinates': [-112.0382955, 53.9466598], 'type': 'Point'},\n",
      "          'timestamp': '2016-03-09T16:31:26Z',\n",
      "          'uid': '307202',\n",
      "          'user': 'alester',\n",
      "          'version': '1'},\n",
      " 'tag': {},\n",
      " 'type': 'node'}\n",
      "{'_id': ObjectId('597e184423d1bdcb6b13e2e1'),\n",
      " 'attr': {'changeset': '37712677',\n",
      "          'id': '4051253374',\n",
      "          'lat': '53.9469388',\n",
      "          'lon': '-112.0396133',\n",
      "          'point': {'coordinates': [-112.0396133, 53.9469388], 'type': 'Point'},\n",
      "          'timestamp': '2016-03-09T16:31:27Z',\n",
      "          'uid': '307202',\n",
      "          'user': 'alester',\n",
      "          'version': '1'},\n",
      " 'tag': {},\n",
      " 'type': 'node'}\n",
      "{'_id': ObjectId('597e184423d1bdcb6b13e9cf'),\n",
      " 'attr': {'changeset': '37712677',\n",
      "          'id': '4051253378',\n",
      "          'lat': '53.9470019',\n",
      "          'lon': '-112.0398674',\n",
      "          'point': {'coordinates': [-112.0398674, 53.9470019], 'type': 'Point'},\n",
      "          'timestamp': '2016-03-09T16:31:27Z',\n",
      "          'uid': '307202',\n",
      "          'user': 'alester',\n",
      "          'version': '1'},\n",
      " 'tag': {},\n",
      " 'type': 'node'}\n"
     ]
    }
   ],
   "source": [
    "import pprint\n",
    "for d in mdb.p33.find({\"attr.point.coordinates\" : {\"$near\" : [53.5, -133.5] }}).limit(4):\n",
    "    pprint.pprint(d)"
   ]
  },
  {
   "cell_type": "code",
   "execution_count": 320,
   "metadata": {},
   "outputs": [
    {
     "name": "stdout",
     "output_type": "stream",
     "text": [
      "{'tag': {'addr': {'postcode': 'T6C 0Y4'}}}\n"
     ]
    }
   ],
   "source": [
    "import pprint\n",
    "from bson.son import SON\n",
    "\n",
    "# this returns the postal code of the closest node that has a postal code\n",
    "\n",
    "for d in mdb.p33.find({\n",
    "        \"attr.point.coordinates\" : SON([(\"$near\" , [53.5, -113.5]), (\"$maxDistance\", 300) ]),\n",
    "        \"tag.addr.postcode\": {\"$exists\" : 1}},\n",
    "        {\"tag.addr.postcode\": 1, \"_id\" : 0 }\n",
    "    ).limit(1):\n",
    "    pprint.pprint(d)"
   ]
  },
  {
   "cell_type": "markdown",
   "metadata": {
    "run_control": {
     "marked": false
    }
   },
   "source": [
    "# Big(ger) Data"
   ]
  },
  {
   "cell_type": "code",
   "execution_count": 68,
   "metadata": {
    "collapsed": true,
    "run_control": {
     "marked": false
    }
   },
   "outputs": [],
   "source": [
    "# min_lat, max_lat, min_lon, max_lon =  53.5164, 53.5718, -113.5742,-113.4485\n",
    "min_lat=53.4271\n",
    "min_lon=-113.666\n",
    "max_lat=53.6495\n",
    "max_lon=-113.34\n",
    "\n",
    "map_url = 'http://overpass-api.de/api/map?bbox={0},{1},{2},{3}'.format(min_lon, min_lat, max_lon, max_lat)\n",
    "cl.download_data(map_url, fn='bigmap.osm')"
   ]
  },
  {
   "cell_type": "code",
   "execution_count": 69,
   "metadata": {
    "run_control": {
     "marked": false
    }
   },
   "outputs": [
    {
     "data": {
      "text/plain": [
       "(502.4631099700928, 79.05549621582031)"
      ]
     },
     "execution_count": 69,
     "metadata": {},
     "output_type": "execute_result"
    }
   ],
   "source": [
    "import os\n",
    "os.path.getsize('bigmap.osm') / 1024**2 , os.path.getsize('map.osm') / 1024**2"
   ]
  },
  {
   "cell_type": "code",
   "execution_count": 70,
   "metadata": {},
   "outputs": [
    {
     "name": "stdout",
     "output_type": "stream",
     "text": [
      "-rw-r--r--@ 1 josephmann  staff   502M  6 Jun 17:23 bigmap.osm\r\n",
      "-rw-r--r--@ 1 josephmann  staff    79M 23 Jun 15:53 map.osm\r\n"
     ]
    }
   ],
   "source": [
    "!ls -lh *map.osm "
   ]
  },
  {
   "cell_type": "code",
   "execution_count": 71,
   "metadata": {
    "run_control": {
     "marked": false
    }
   },
   "outputs": [
    {
     "name": "stdout",
     "output_type": "stream",
     "text": [
      "partition files still fresh\n"
     ]
    }
   ],
   "source": [
    "# create partitions for parallel processing\n",
    "big_b = cl.pf(fn = 'bigmap.osm')"
   ]
  },
  {
   "cell_type": "code",
   "execution_count": 72,
   "metadata": {},
   "outputs": [
    {
     "name": "stdout",
     "output_type": "stream",
     "text": [
      "bigmap_partition_0.osm bigmap_partition_6.osm map_partition_4.osm\r\n",
      "bigmap_partition_1.osm bigmap_partition_7.osm map_partition_5.osm\r\n",
      "bigmap_partition_2.osm map_partition_0.osm    map_partition_6.osm\r\n",
      "bigmap_partition_3.osm map_partition_1.osm    map_partition_7.osm\r\n",
      "bigmap_partition_4.osm map_partition_2.osm\r\n",
      "bigmap_partition_5.osm map_partition_3.osm\r\n"
     ]
    }
   ],
   "source": [
    "!ls *_partition_?.osm"
   ]
  },
  {
   "cell_type": "markdown",
   "metadata": {},
   "source": [
    "Clean up our bag of data with 3 funcs"
   ]
  },
  {
   "cell_type": "code",
   "execution_count": 73,
   "metadata": {
    "collapsed": true,
    "run_control": {
     "marked": false
    }
   },
   "outputs": [],
   "source": [
    "clean_b = big_b.map(fix_postal_codes).map(fix_city).map(fix_province).map(json.dumps)"
   ]
  },
  {
   "cell_type": "code",
   "execution_count": 74,
   "metadata": {},
   "outputs": [
    {
     "data": {
      "text/plain": [
       "[('edmontongeo', 331406),\n",
       " ('Sundance', 13844),\n",
       " ('xixi', 10761),\n",
       " ('ionutr_telenav', 8807),\n",
       " ('Feldo', 8215),\n",
       " ('yegbin', 7611),\n",
       " ('Mesowhite', 7503),\n",
       " ('ij_', 4754),\n",
       " ('jdkrabbe', 4655),\n",
       " ('ptrchpmn', 3108),\n",
       " ('ec90', 1962),\n",
       " ('AKC', 1825),\n",
       " ('Viajero Perdido', 1758),\n",
       " ('xelloss', 1740),\n",
       " ('yoltia', 1400),\n",
       " ('flight780', 1203),\n",
       " ('alester', 1063),\n",
       " ('Ranek', 922),\n",
       " ('ntrussell', 917),\n",
       " ('spince', 603)]"
      ]
     },
     "execution_count": 74,
     "metadata": {},
     "output_type": "execute_result"
    }
   ],
   "source": [
    "top_value_freqs('attr.user', b1=b1, n=20).compute()"
   ]
  },
  {
   "cell_type": "code",
   "execution_count": 75,
   "metadata": {},
   "outputs": [
    {
     "data": {
      "text/plain": [
       "[('edmontongeo', 2142198),\n",
       " ('xixi', 112465),\n",
       " ('Mesowhite', 94015),\n",
       " ('Sundance', 73349),\n",
       " ('yegbin', 22367),\n",
       " ('Shawn Benbow', 21194),\n",
       " ('charrois', 15168),\n",
       " ('bogdanp_telenav', 14462),\n",
       " ('Oberaffe', 13987),\n",
       " ('xelloss', 13415),\n",
       " ('geobase_stevens', 11148),\n",
       " ('Feldo', 9753),\n",
       " ('Viajero Perdido', 9322),\n",
       " ('ionutr_telenav', 8525),\n",
       " ('ec90', 8097),\n",
       " ('GiJo', 7861),\n",
       " ('jdkrabbe', 5672),\n",
       " ('VE6SRV', 5602),\n",
       " ('ntrussell', 5518),\n",
       " ('ij_', 5201)]"
      ]
     },
     "execution_count": 75,
     "metadata": {},
     "output_type": "execute_result"
    }
   ],
   "source": [
    "top_value_freqs('attr.user', b1=big_b, n=20).compute()"
   ]
  },
  {
   "cell_type": "markdown",
   "metadata": {},
   "source": [
    "Write clean bag to json files so they can subsequently be imported into mongo database"
   ]
  },
  {
   "cell_type": "code",
   "execution_count": 76,
   "metadata": {
    "collapsed": true,
    "run_control": {
     "marked": false
    }
   },
   "outputs": [],
   "source": [
    "clean_b.to_textfiles('big_sample-*.json')"
   ]
  },
  {
   "cell_type": "code",
   "execution_count": 77,
   "metadata": {
    "run_control": {
     "marked": false
    }
   },
   "outputs": [
    {
     "name": "stdout",
     "output_type": "stream",
     "text": [
      "-rw-r--r--@ 1 josephmann  staff    76M 29 Jul 12:50 big_sample-0.json\r\n",
      "-rw-r--r--@ 1 josephmann  staff    84M 29 Jul 12:50 big_sample-1.json\r\n",
      "-rw-r--r--@ 1 josephmann  staff    84M 29 Jul 12:50 big_sample-2.json\r\n",
      "-rw-r--r--@ 1 josephmann  staff    84M 29 Jul 12:50 big_sample-3.json\r\n",
      "-rw-r--r--@ 1 josephmann  staff    84M 29 Jul 12:50 big_sample-4.json\r\n",
      "-rw-r--r--@ 1 josephmann  staff    84M 29 Jul 12:50 big_sample-5.json\r\n",
      "-rw-r--r--@ 1 josephmann  staff    37M 29 Jul 12:49 big_sample-6.json\r\n",
      "-rw-r--r--@ 1 josephmann  staff    35M 29 Jul 12:49 big_sample-7.json\r\n"
     ]
    }
   ],
   "source": [
    "!ls -lh big_sample*"
   ]
  },
  {
   "cell_type": "code",
   "execution_count": 78,
   "metadata": {
    "collapsed": true,
    "run_control": {
     "marked": false
    }
   },
   "outputs": [],
   "source": [
    "# not necessary because we're making another collection \"big\"\n",
    "# mdb.p33.drop()"
   ]
  },
  {
   "cell_type": "code",
   "execution_count": 79,
   "metadata": {
    "run_control": {
     "marked": false
    }
   },
   "outputs": [
    {
     "name": "stderr",
     "output_type": "stream",
     "text": [
      "2017-07-29T12:50:20.773-0600\tconnected to: localhost\n",
      "2017-07-29T12:50:23.772-0600\t[###############.........] examples.big\t49.9MB/75.9MB (65.7%)\n",
      "2017-07-29T12:50:25.366-0600\t[########################] examples.big\t75.9MB/75.9MB (100.0%)\n",
      "2017-07-29T12:50:25.366-0600\timported 325820 documents\n",
      "2017-07-29T12:50:25.387-0600\tconnected to: localhost\n",
      "2017-07-29T12:50:28.384-0600\t[##############..........] examples.big\t49.5MB/84.3MB (58.7%)\n",
      "2017-07-29T12:50:30.485-0600\t[########################] examples.big\t84.3MB/84.3MB (100.0%)\n",
      "2017-07-29T12:50:30.485-0600\timported 400272 documents\n",
      "2017-07-29T12:50:30.507-0600\tconnected to: localhost\n",
      "2017-07-29T12:50:33.504-0600\t[#############...........] examples.big\t48.6MB/84.3MB (57.6%)\n",
      "2017-07-29T12:50:35.786-0600\t[########################] examples.big\t84.3MB/84.3MB (100.0%)\n",
      "2017-07-29T12:50:35.786-0600\timported 400536 documents\n",
      "2017-07-29T12:50:35.814-0600\tconnected to: localhost\n",
      "2017-07-29T12:50:38.814-0600\t[##############..........] examples.big\t49.3MB/84.3MB (58.5%)\n",
      "2017-07-29T12:50:40.958-0600\t[########################] examples.big\t84.3MB/84.3MB (100.0%)\n",
      "2017-07-29T12:50:40.958-0600\timported 400210 documents\n",
      "2017-07-29T12:50:40.978-0600\tconnected to: localhost\n",
      "2017-07-29T12:50:43.975-0600\t[#############...........] examples.big\t46.5MB/84.3MB (55.2%)\n",
      "2017-07-29T12:50:46.872-0600\t[########################] examples.big\t84.3MB/84.3MB (100.0%)\n",
      "2017-07-29T12:50:46.872-0600\timported 400215 documents\n",
      "2017-07-29T12:50:46.898-0600\tconnected to: localhost\n",
      "2017-07-29T12:50:49.895-0600\t[#############...........] examples.big\t47.9MB/84.2MB (56.9%)\n",
      "2017-07-29T12:50:52.133-0600\t[########################] examples.big\t84.2MB/84.2MB (100.0%)\n",
      "2017-07-29T12:50:52.133-0600\timported 399670 documents\n",
      "2017-07-29T12:50:52.153-0600\tconnected to: localhost\n",
      "2017-07-29T12:50:55.094-0600\timported 179598 documents\n",
      "2017-07-29T12:50:55.120-0600\tconnected to: localhost\n",
      "2017-07-29T12:50:57.563-0600\timported 185829 documents\n"
     ]
    }
   ],
   "source": [
    "%%bash\n",
    "ls big_sample-?.json | while read col; do\n",
    "    mongoimport --db examples --collection big -j 8 --type json --file $col;\n",
    "done"
   ]
  },
  {
   "cell_type": "code",
   "execution_count": 120,
   "metadata": {
    "run_control": {
     "marked": false
    }
   },
   "outputs": [
    {
     "data": {
      "text/plain": [
       "(5384300, 4683712, 696158)"
      ]
     },
     "execution_count": 120,
     "metadata": {},
     "output_type": "execute_result"
    }
   ],
   "source": [
    "mdb.big.count({}),mdb.big.count({'type': 'node'}),mdb.big.count({'type': 'way'})"
   ]
  },
  {
   "cell_type": "code",
   "execution_count": 81,
   "metadata": {
    "run_control": {
     "marked": false
    }
   },
   "outputs": [
    {
     "data": {
      "text/plain": [
       "[{'_id': 'node', 'count': 4683712},\n",
       " {'_id': 'way', 'count': 696158},\n",
       " {'_id': 'relation', 'count': 4430}]"
      ]
     },
     "execution_count": 81,
     "metadata": {},
     "output_type": "execute_result"
    }
   ],
   "source": [
    "list(mdb.big.aggregate([{\"$sortByCount\":'$type'}]))"
   ]
  },
  {
   "cell_type": "code",
   "execution_count": 123,
   "metadata": {
    "run_control": {
     "marked": false
    }
   },
   "outputs": [
    {
     "data": {
      "text/plain": [
       "[{'count': 63, 'postalcode': 'T5J', 'user': 'Mesowhite'},\n",
       " {'count': 27, 'postalcode': 'T5M', 'user': 'ptrchpmn'},\n",
       " {'count': 17, 'postalcode': 'T6E', 'user': 'yegbin'},\n",
       " {'count': 13, 'postalcode': 'T6C', 'user': 'yegbin'},\n",
       " {'count': 11, 'postalcode': 'T5N', 'user': 'ptrchpmn'},\n",
       " {'count': 11, 'postalcode': 'T6E', 'user': 'Mesowhite'},\n",
       " {'count': 11, 'postalcode': 'T5J', 'user': 'Yottabyte'},\n",
       " {'count': 11, 'postalcode': 'T5N', 'user': 'edmontongeo'},\n",
       " {'count': 10, 'postalcode': 'T6G', 'user': 'yegbin'},\n",
       " {'count': 10, 'postalcode': 'T6G', 'user': 'Mesowhite'},\n",
       " {'count': 9, 'postalcode': 'T5K', 'user': 'Mesowhite'},\n",
       " {'count': 9, 'postalcode': 'T5N', 'user': 'TristanA'},\n",
       " {'count': 7, 'postalcode': 'T5M', 'user': 'edmontongeo'},\n",
       " {'count': 6, 'postalcode': 'T6G', 'user': 'ptrchpmn'},\n",
       " {'count': 5, 'postalcode': 'T6C', 'user': 'Mesowhite'},\n",
       " {'count': 5, 'postalcode': 'T5H', 'user': 'Mesowhite'},\n",
       " {'count': 4, 'postalcode': 'T6G', 'user': 'Yottabyte'},\n",
       " {'count': 4, 'postalcode': 'T5H', 'user': 'edmontongeo'},\n",
       " {'count': 4, 'postalcode': 'T6E', 'user': 'edmontongeo'},\n",
       " {'count': 3, 'postalcode': 'T5H', 'user': 'TristanA'},\n",
       " {'count': 3, 'postalcode': 'T5G', 'user': 'Sundance'},\n",
       " {'count': 3, 'postalcode': 'T5N', 'user': 'ThomasBradley'},\n",
       " {'count': 2, 'postalcode': 'T5K', 'user': 'MarkBennett'},\n",
       " {'count': 2, 'postalcode': 'T6G', 'user': 'Bruce Ritchie'},\n",
       " {'count': 2, 'postalcode': 'T5G', 'user': 'ChrstphrR'},\n",
       " {'count': 2, 'postalcode': 'T6G', 'user': 'jdkrabbe'},\n",
       " {'count': 2, 'postalcode': 'T5M', 'user': 'Sundance'},\n",
       " {'count': 2, 'postalcode': 'T6E', 'user': 'drthompson'},\n",
       " {'count': 2, 'postalcode': 'T5J', 'user': 'MarkBennett'},\n",
       " {'count': 2, 'postalcode': 'T6A', 'user': 'yegbin'},\n",
       " {'count': 2, 'postalcode': 'T5H', 'user': 'MarkBennett'},\n",
       " {'count': 2, 'postalcode': 'T5J', 'user': 'Bryab'},\n",
       " {'count': 2, 'postalcode': 'T6G', 'user': 'edmontongeo'},\n",
       " {'count': 2, 'postalcode': 'T5G', 'user': 'yegbin'},\n",
       " {'count': 1, 'postalcode': 'T6A', 'user': 'jdkrabbe'},\n",
       " {'count': 1, 'postalcode': 'T6K', 'user': 'Mesowhite'},\n",
       " {'count': 1, 'postalcode': 'T5G', 'user': 'edmontongeo'},\n",
       " {'count': 1, 'postalcode': 'T5G', 'user': 'Mesowhite'},\n",
       " {'count': 1, 'postalcode': 'T6J', 'user': 'Mesowhite'},\n",
       " {'count': 1, 'postalcode': 'T6E', 'user': 'jdkrabbe'}]"
      ]
     },
     "execution_count": 123,
     "metadata": {},
     "output_type": "execute_result"
    }
   ],
   "source": [
    "# how do I get the number of green spaces sorted by postal code?\n",
    "list(\n",
    "    mdb.p33.aggregate([\n",
    "        # filter entries to those containing postcodes\n",
    "        {\"$match\" : {\"tag.addr.postcode\": {\"$exists\" : 1}}},\n",
    "        \n",
    "        # group on user and postcode\n",
    "        {\"$group\" : {\n",
    "            \"_id\" : {\"user\": \"$attr.user\",\"postalcode\" : {\"$substrBytes\": [\"$tag.addr.postcode\", 0, 3]}\n",
    "                     },\n",
    "            \"count\" : {\"$sum\" : 1}\n",
    "            \n",
    "        }},\n",
    "        # flatten output\n",
    "        {\"$project\" : {\"user\": \"$_id.user\", \"postalcode\": \"$_id.postalcode\", \"count\":1, \"_id\":0}},\n",
    "#         # sort by count descending\n",
    "        {\"$sort\": {\"count\": -1} },\n",
    "        # limit output to 20 items\n",
    "        {\"$limit\": 40}\n",
    "    ]))"
   ]
  },
  {
   "cell_type": "markdown",
   "metadata": {},
   "source": [
    "There are very few green spaces with postal code attributes, what to do?"
   ]
  },
  {
   "cell_type": "code",
   "execution_count": 147,
   "metadata": {
    "run_control": {
     "marked": false
    }
   },
   "outputs": [
    {
     "data": {
      "text/plain": [
       "[{'_id': {'postalcode': 'T6X', 'usage': 'recreation_ground'}, 'count': 2},\n",
       " {'_id': {'postalcode': '', 'usage': 'forest'}, 'count': 98},\n",
       " {'_id': {'postalcode': '', 'usage': 'grass'}, 'count': 702},\n",
       " {'_id': {'postalcode': '', 'usage': 'recreation_ground'}, 'count': 98}]"
      ]
     },
     "execution_count": 147,
     "metadata": {},
     "output_type": "execute_result"
    }
   ],
   "source": [
    "list(\n",
    "    mdb.big.aggregate([\n",
    "        {\"$match\": {\n",
    "            \"tag.landuse\": {\n",
    "                \"$in\": [\"grass\", \"forest\", \"recreation_ground\"]\n",
    "            }\n",
    "        }},\n",
    "    \n",
    "            # group on user and postcode\n",
    "        {\"$group\" : \n",
    "            {\n",
    "        #         \"_id\" : {\"postalcode\" : {\"$substrBytes\": [\"$tag.addr.postcode\", 0, 3]}},\n",
    "                \"_id\" : {\"usage\" : \"$tag.landuse\", \"postalcode\" : {\"$substrBytes\": [\"$tag.addr.postcode\", 0, 3]}},\n",
    "                \"count\" : {\"$sum\" : 1}\n",
    "            }\n",
    "        },\n",
    "#         {\n",
    "#             \"$sortByCount\": \"$tag\"\n",
    "#         }, \n",
    "        {\n",
    "            \"$limit\": 30\n",
    "        }\n",
    "        ]))"
   ]
  },
  {
   "cell_type": "code",
   "execution_count": 166,
   "metadata": {},
   "outputs": [],
   "source": [
    "_c = mdb.big.find({'type':'node'}).limit(5)"
   ]
  },
  {
   "cell_type": "code",
   "execution_count": 167,
   "metadata": {},
   "outputs": [
    {
     "data": {
      "text/plain": [
       "4683712"
      ]
     },
     "execution_count": 167,
     "metadata": {},
     "output_type": "execute_result"
    }
   ],
   "source": [
    "_c.count()"
   ]
  },
  {
   "cell_type": "markdown",
   "metadata": {},
   "source": [
    "We believe that every `node` has a _longitude_ and _latitude_."
   ]
  },
  {
   "cell_type": "code",
   "execution_count": 176,
   "metadata": {
    "collapsed": true
   },
   "outputs": [],
   "source": [
    "_c = mdb.big.find({'type':'node', 'attr.lon': {'$exists': True}})"
   ]
  },
  {
   "cell_type": "code",
   "execution_count": 177,
   "metadata": {},
   "outputs": [
    {
     "data": {
      "text/plain": [
       "4683712"
      ]
     },
     "execution_count": 177,
     "metadata": {},
     "output_type": "execute_result"
    }
   ],
   "source": [
    "_c.count()"
   ]
  },
  {
   "cell_type": "code",
   "execution_count": 179,
   "metadata": {
    "collapsed": true
   },
   "outputs": [],
   "source": [
    "# per record updating requires, looping on a cursor: eg\n",
    "### update of Second Cup\n",
    "# this looks like it would be _slooowww_\n",
    "for d in mdb.p33.find({\"properties.name\": {\"$regex\" : \"Second Cup\"}},{'_id':1}):\n",
    "    mdb.p33.update_one({\"_id\": d[\"_id\"]}, {\"$set\" :{\"properties.name\": 'Second Cup'}})\n",
    "\n",
    "# mdb.p33.update(\n",
    "#     {'type' : 'node'},\n",
    "#     {'$set' : {\n",
    "#         'attr.location': {}}}\n",
    "# )"
   ]
  },
  {
   "cell_type": "code",
   "execution_count": 183,
   "metadata": {},
   "outputs": [],
   "source": [
    "# per record updating requires, looping on a cursor: eg\n",
    "### update of Second Cup\n",
    "# this looks like it would be _slooowww_ - and it was.\n",
    "for d in mdb.p33.find({\"type\": \"node\"},{'_id':1,'attr':1}):\n",
    "    mdb.p33.update_one({\"_id\": d[\"_id\"]}, {\"$set\" :{\"attr.location\": [ d['attr']['lon'], d['attr']['lat']]}})\n",
    "\n",
    "# mdb.p33.update(\n",
    "#     {'type' : 'node'},\n",
    "#     {'$set' : {\n",
    "#         'attr.location': {}}}\n",
    "# )"
   ]
  },
  {
   "cell_type": "code",
   "execution_count": 185,
   "metadata": {},
   "outputs": [
    {
     "data": {
      "text/plain": [
       "{'_id': ObjectId('597ce82523d1bdcb6b025536'),\n",
       " 'attr': {'changeset': '39441015',\n",
       "  'id': '30118680',\n",
       "  'lat': '53.5266842',\n",
       "  'location': ['-113.4945885', '53.5266842'],\n",
       "  'lon': '-113.4945885',\n",
       "  'timestamp': '2016-05-20T03:45:53Z',\n",
       "  'uid': '2365330',\n",
       "  'user': 'Viajero Perdido',\n",
       "  'version': '6'},\n",
       " 'tag': {},\n",
       " 'type': 'node'}"
      ]
     },
     "execution_count": 185,
     "metadata": {},
     "output_type": "execute_result"
    }
   ],
   "source": [
    "mdb.p33.find_one({})"
   ]
  },
  {
   "cell_type": "code",
   "execution_count": null,
   "metadata": {
    "collapsed": true
   },
   "outputs": [],
   "source": [
    "#using dask\n"
   ]
  },
  {
   "cell_type": "code",
   "execution_count": null,
   "metadata": {
    "collapsed": true,
    "run_control": {
     "marked": false
    }
   },
   "outputs": [],
   "source": [
    "# how do I get the number of green spaces sorted by postal code?\n",
    "list(\n",
    "    mdb.big.aggregate([\n",
    "        # filter entries to those containing postcodes\n",
    "        {\"$match\" : {\"tag.addr.postcode\": {\"$exists\" : 1}}},\n",
    "        \n",
    "        # group on user and postcode\n",
    "        {\"$group\" : {\n",
    "            \"_id\" : {\"postalcode\" : {\"$substrBytes\": [\"$tag.addr.postcode\", 0, 3]}},\n",
    "            \"count\" : {\"$sum\" : 1}\n",
    "            \n",
    "        }},\n",
    "        # flatten output\n",
    "        {\"$project\" : {\"user\": \"$_id.user\", \"postalcode\": \"$_id.postalcode\", \"count\":1, \"_id\":0}},\n",
    "        # sort by count descending\n",
    "        {\"$sort\": {\"count\": -1} },\n",
    "        # limit output to 20 items\n",
    "        {\"$limit\": 40}\n",
    "    ]))"
   ]
  },
  {
   "cell_type": "code",
   "execution_count": 86,
   "metadata": {
    "run_control": {
     "marked": false
    }
   },
   "outputs": [
    {
     "data": {
      "text/plain": [
       "[{'count': 274, 'postalcode': 'T6T'},\n",
       " {'count': 200, 'postalcode': 'T5J'},\n",
       " {'count': 184, 'postalcode': 'T6E'},\n",
       " {'count': 170, 'postalcode': 'T6L'},\n",
       " {'count': 126, 'postalcode': 'T5T'},\n",
       " {'count': 100, 'postalcode': 'T6G'},\n",
       " {'count': 92, 'postalcode': 'T6K'},\n",
       " {'count': 88, 'postalcode': 'T5M'},\n",
       " {'count': 82, 'postalcode': 'T6B'},\n",
       " {'count': 80, 'postalcode': 'T5N'},\n",
       " {'count': 62, 'postalcode': 'T6H'},\n",
       " {'count': 58, 'postalcode': 'T6C'},\n",
       " {'count': 54, 'postalcode': 'T6A'},\n",
       " {'count': 48, 'postalcode': 'T6J'},\n",
       " {'count': 46, 'postalcode': 'T5A'},\n",
       " {'count': 46, 'postalcode': 'T5E'},\n",
       " {'count': 46, 'postalcode': 'T5H'},\n",
       " {'count': 46, 'postalcode': 'T5P'},\n",
       " {'count': 44, 'postalcode': 'T5K'},\n",
       " {'count': 42, 'postalcode': 'T5R'},\n",
       " {'count': 42, 'postalcode': 'T5X'},\n",
       " {'count': 38, 'postalcode': 'T5Z'},\n",
       " {'count': 32, 'postalcode': 'T5C'},\n",
       " {'count': 32, 'postalcode': 'T5W'},\n",
       " {'count': 32, 'postalcode': 'T5S'},\n",
       " {'count': 32, 'postalcode': 'T5L'},\n",
       " {'count': 26, 'postalcode': 'T5G'},\n",
       " {'count': 26, 'postalcode': 'T5Y'},\n",
       " {'count': 22, 'postalcode': 'T8N'},\n",
       " {'count': 20, 'postalcode': 'T6V'},\n",
       " {'count': 20, 'postalcode': 'T6R'},\n",
       " {'count': 20, 'postalcode': 'T5B'},\n",
       " {'count': 18, 'postalcode': 'T6N'},\n",
       " {'count': 12, 'postalcode': 'T6M'},\n",
       " {'count': 10, 'postalcode': 'T5V'},\n",
       " {'count': 8, 'postalcode': 'T6W'},\n",
       " {'count': 4, 'postalcode': 'T6S'},\n",
       " {'count': 4, 'postalcode': 'T8A'},\n",
       " {'count': 4, 'postalcode': 'T6P'},\n",
       " {'count': 4, 'postalcode': 'T6X'}]"
      ]
     },
     "execution_count": 86,
     "metadata": {},
     "output_type": "execute_result"
    }
   ],
   "source": [
    "# how do I get the number of green spaces sorted by postal code?\n",
    "list(\n",
    "    mdb.big.aggregate([\n",
    "        # filter entries to those containing postcodes\n",
    "        {\"$match\" : {\"tag.addr.postcode\": {\"$exists\" : 1}}},\n",
    "        \n",
    "        # group on user and postcode\n",
    "        {\"$group\" : {\n",
    "            \"_id\" : {\"postalcode\" : {\"$substrBytes\": [\"$tag.addr.postcode\", 0, 3]}\n",
    "                     },\n",
    "            \"count\" : {\"$sum\" : 1}\n",
    "            \n",
    "        }},\n",
    "        # flatten output\n",
    "        {\"$project\" : {\"postalcode\": \"$_id.postalcode\", \"count\":1, \"_id\":0}},\n",
    "        # sort by count descending\n",
    "        {\"$sort\": {\"count\": -1} },\n",
    "        # limit output to 20 items\n",
    "        {\"$limit\": 40}\n",
    "    ]))"
   ]
  },
  {
   "cell_type": "code",
   "execution_count": null,
   "metadata": {
    "collapsed": true
   },
   "outputs": [],
   "source": []
  }
 ],
 "metadata": {
  "anaconda-cloud": {},
  "kernelspec": {
   "display_name": "Python 3",
   "language": "python",
   "name": "python3"
  },
  "language_info": {
   "codemirror_mode": {
    "name": "ipython",
    "version": 3
   },
   "file_extension": ".py",
   "mimetype": "text/x-python",
   "name": "python",
   "nbconvert_exporter": "python",
   "pygments_lexer": "ipython3",
   "version": "3.6.1"
  },
  "toc": {
   "colors": {
    "hover_highlight": "#DAA520",
    "navigate_num": "#000000",
    "navigate_text": "#333333",
    "running_highlight": "#FF0000",
    "selected_highlight": "#FFD700",
    "sidebar_border": "#EEEEEE",
    "wrapper_background": "#FFFFFF"
   },
   "moveMenuLeft": true,
   "nav_menu": {
    "height": "259px",
    "width": "277px"
   },
   "navigate_menu": true,
   "number_sections": true,
   "sideBar": true,
   "threshold": 4,
   "toc_cell": false,
   "toc_section_display": "block",
   "toc_window_display": false,
   "widenNotebook": false
  },
  "varInspector": {
   "cols": {
    "lenName": 16,
    "lenType": 16,
    "lenVar": 40
   },
   "kernels_config": {
    "python": {
     "delete_cmd_postfix": "",
     "delete_cmd_prefix": "del ",
     "library": "var_list.py",
     "varRefreshCmd": "print(var_dic_list())"
    },
    "r": {
     "delete_cmd_postfix": ") ",
     "delete_cmd_prefix": "rm(",
     "library": "var_list.r",
     "varRefreshCmd": "cat(var_dic_list()) "
    }
   },
   "oldHeight": 281.77778,
   "position": {
    "height": "191px",
    "left": "1348.65px",
    "right": "20px",
    "top": "125.99px",
    "width": "502px"
   },
   "types_to_exclude": [
    "module",
    "function",
    "builtin_function_or_method",
    "instance",
    "_Feature"
   ],
   "varInspector_section_display": "block",
   "window_display": true
  }
 },
 "nbformat": 4,
 "nbformat_minor": 2
}
